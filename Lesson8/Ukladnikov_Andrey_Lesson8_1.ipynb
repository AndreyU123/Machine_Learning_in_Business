{
 "cells": [
  {
   "cell_type": "markdown",
   "metadata": {},
   "source": [
    "# Урок 8"
   ]
  },
  {
   "cell_type": "markdown",
   "metadata": {},
   "source": [
    "ЗАДАНИЕ 1.\n",
    "\n",
    "Скачать любой понравившийся вам датасет с UCI repository(можете даже свой какой-то взять) и сразу же разделите его на тренировочную и тестовую выборки. Тестовую выборку сохраните на диск и больше не трогайте. "
   ]
  },
  {
   "cell_type": "code",
   "execution_count": 1,
   "metadata": {},
   "outputs": [
    {
     "data": {
      "text/html": [
       "        <script type=\"text/javascript\">\n",
       "        window.PlotlyConfig = {MathJaxConfig: 'local'};\n",
       "        if (window.MathJax) {MathJax.Hub.Config({SVG: {font: \"STIX-Web\"}});}\n",
       "        if (typeof require !== 'undefined') {\n",
       "        require.undef(\"plotly\");\n",
       "        requirejs.config({\n",
       "            paths: {\n",
       "                'plotly': ['https://cdn.plot.ly/plotly-latest.min']\n",
       "            }\n",
       "        });\n",
       "        require(['plotly'], function(Plotly) {\n",
       "            window._Plotly = Plotly;\n",
       "        });\n",
       "        }\n",
       "        </script>\n",
       "        "
      ]
     },
     "metadata": {},
     "output_type": "display_data"
    }
   ],
   "source": [
    "#Importing libraries\n",
    "import numpy as np # linear algebra\n",
    "import pandas as pd # data processing, CSV file I/O (e.g. pd.read_csv)\n",
    "# Input data files are available in the \"../input/\" directory.\n",
    "import os\n",
    "import matplotlib.pyplot as plt#visualization\n",
    "from PIL import Image\n",
    "%matplotlib inline\n",
    "import pandas as pd\n",
    "import seaborn as sns#visualization\n",
    "import itertools\n",
    "import warnings\n",
    "warnings.filterwarnings(\"ignore\")\n",
    "import io\n",
    "import plotly\n",
    "import plotly.offline as py#visualization\n",
    "py.init_notebook_mode(connected=True)#visualization\n",
    "import plotly.graph_objs as go#visualization\n",
    "import plotly.tools as tls#visualization\n",
    "import plotly.figure_factory as ff#visualization"
   ]
  },
  {
   "cell_type": "code",
   "execution_count": 2,
   "metadata": {},
   "outputs": [],
   "source": [
    "ds_name=\"car.data\"\n",
    "data = pd.read_csv(ds_name, header=None)"
   ]
  },
  {
   "cell_type": "code",
   "execution_count": 3,
   "metadata": {},
   "outputs": [
    {
     "name": "stdout",
     "output_type": "stream",
     "text": [
      "(1728, 7)\n"
     ]
    },
    {
     "data": {
      "text/html": [
       "<div>\n",
       "<style scoped>\n",
       "    .dataframe tbody tr th:only-of-type {\n",
       "        vertical-align: middle;\n",
       "    }\n",
       "\n",
       "    .dataframe tbody tr th {\n",
       "        vertical-align: top;\n",
       "    }\n",
       "\n",
       "    .dataframe thead th {\n",
       "        text-align: right;\n",
       "    }\n",
       "</style>\n",
       "<table border=\"1\" class=\"dataframe\">\n",
       "  <thead>\n",
       "    <tr style=\"text-align: right;\">\n",
       "      <th></th>\n",
       "      <th>0</th>\n",
       "      <th>1</th>\n",
       "      <th>2</th>\n",
       "      <th>3</th>\n",
       "      <th>4</th>\n",
       "      <th>5</th>\n",
       "      <th>6</th>\n",
       "    </tr>\n",
       "  </thead>\n",
       "  <tbody>\n",
       "    <tr>\n",
       "      <th>0</th>\n",
       "      <td>vhigh</td>\n",
       "      <td>vhigh</td>\n",
       "      <td>2</td>\n",
       "      <td>2</td>\n",
       "      <td>small</td>\n",
       "      <td>low</td>\n",
       "      <td>unacc</td>\n",
       "    </tr>\n",
       "    <tr>\n",
       "      <th>1</th>\n",
       "      <td>vhigh</td>\n",
       "      <td>vhigh</td>\n",
       "      <td>2</td>\n",
       "      <td>2</td>\n",
       "      <td>small</td>\n",
       "      <td>med</td>\n",
       "      <td>unacc</td>\n",
       "    </tr>\n",
       "    <tr>\n",
       "      <th>2</th>\n",
       "      <td>vhigh</td>\n",
       "      <td>vhigh</td>\n",
       "      <td>2</td>\n",
       "      <td>2</td>\n",
       "      <td>small</td>\n",
       "      <td>high</td>\n",
       "      <td>unacc</td>\n",
       "    </tr>\n",
       "    <tr>\n",
       "      <th>3</th>\n",
       "      <td>vhigh</td>\n",
       "      <td>vhigh</td>\n",
       "      <td>2</td>\n",
       "      <td>2</td>\n",
       "      <td>med</td>\n",
       "      <td>low</td>\n",
       "      <td>unacc</td>\n",
       "    </tr>\n",
       "    <tr>\n",
       "      <th>4</th>\n",
       "      <td>vhigh</td>\n",
       "      <td>vhigh</td>\n",
       "      <td>2</td>\n",
       "      <td>2</td>\n",
       "      <td>med</td>\n",
       "      <td>med</td>\n",
       "      <td>unacc</td>\n",
       "    </tr>\n",
       "    <tr>\n",
       "      <th>5</th>\n",
       "      <td>vhigh</td>\n",
       "      <td>vhigh</td>\n",
       "      <td>2</td>\n",
       "      <td>2</td>\n",
       "      <td>med</td>\n",
       "      <td>high</td>\n",
       "      <td>unacc</td>\n",
       "    </tr>\n",
       "    <tr>\n",
       "      <th>6</th>\n",
       "      <td>vhigh</td>\n",
       "      <td>vhigh</td>\n",
       "      <td>2</td>\n",
       "      <td>2</td>\n",
       "      <td>big</td>\n",
       "      <td>low</td>\n",
       "      <td>unacc</td>\n",
       "    </tr>\n",
       "    <tr>\n",
       "      <th>7</th>\n",
       "      <td>vhigh</td>\n",
       "      <td>vhigh</td>\n",
       "      <td>2</td>\n",
       "      <td>2</td>\n",
       "      <td>big</td>\n",
       "      <td>med</td>\n",
       "      <td>unacc</td>\n",
       "    </tr>\n",
       "    <tr>\n",
       "      <th>8</th>\n",
       "      <td>vhigh</td>\n",
       "      <td>vhigh</td>\n",
       "      <td>2</td>\n",
       "      <td>2</td>\n",
       "      <td>big</td>\n",
       "      <td>high</td>\n",
       "      <td>unacc</td>\n",
       "    </tr>\n",
       "    <tr>\n",
       "      <th>9</th>\n",
       "      <td>vhigh</td>\n",
       "      <td>vhigh</td>\n",
       "      <td>2</td>\n",
       "      <td>4</td>\n",
       "      <td>small</td>\n",
       "      <td>low</td>\n",
       "      <td>unacc</td>\n",
       "    </tr>\n",
       "  </tbody>\n",
       "</table>\n",
       "</div>"
      ],
      "text/plain": [
       "       0      1  2  3      4     5      6\n",
       "0  vhigh  vhigh  2  2  small   low  unacc\n",
       "1  vhigh  vhigh  2  2  small   med  unacc\n",
       "2  vhigh  vhigh  2  2  small  high  unacc\n",
       "3  vhigh  vhigh  2  2    med   low  unacc\n",
       "4  vhigh  vhigh  2  2    med   med  unacc\n",
       "5  vhigh  vhigh  2  2    med  high  unacc\n",
       "6  vhigh  vhigh  2  2    big   low  unacc\n",
       "7  vhigh  vhigh  2  2    big   med  unacc\n",
       "8  vhigh  vhigh  2  2    big  high  unacc\n",
       "9  vhigh  vhigh  2  4  small   low  unacc"
      ]
     },
     "execution_count": 3,
     "metadata": {},
     "output_type": "execute_result"
    }
   ],
   "source": [
    "print(data.shape)\n",
    "data.head(10)"
   ]
  },
  {
   "cell_type": "code",
   "execution_count": 4,
   "metadata": {},
   "outputs": [
    {
     "data": {
      "text/plain": [
       "unacc    1210\n",
       "acc       384\n",
       "good       69\n",
       "vgood      65\n",
       "Name: 6, dtype: int64"
      ]
     },
     "execution_count": 4,
     "metadata": {},
     "output_type": "execute_result"
    }
   ],
   "source": [
    "data.iloc[:, -1].value_counts()"
   ]
  },
  {
   "cell_type": "code",
   "execution_count": 5,
   "metadata": {},
   "outputs": [],
   "source": [
    "data.columns=['buying','maint','doors','persons','lug_boot','safety', 'car_class' ]"
   ]
  },
  {
   "cell_type": "code",
   "execution_count": 6,
   "metadata": {},
   "outputs": [
    {
     "data": {
      "text/html": [
       "<div>\n",
       "<style scoped>\n",
       "    .dataframe tbody tr th:only-of-type {\n",
       "        vertical-align: middle;\n",
       "    }\n",
       "\n",
       "    .dataframe tbody tr th {\n",
       "        vertical-align: top;\n",
       "    }\n",
       "\n",
       "    .dataframe thead th {\n",
       "        text-align: right;\n",
       "    }\n",
       "</style>\n",
       "<table border=\"1\" class=\"dataframe\">\n",
       "  <thead>\n",
       "    <tr style=\"text-align: right;\">\n",
       "      <th></th>\n",
       "      <th>buying</th>\n",
       "      <th>maint</th>\n",
       "      <th>doors</th>\n",
       "      <th>persons</th>\n",
       "      <th>lug_boot</th>\n",
       "      <th>safety</th>\n",
       "      <th>car_class</th>\n",
       "    </tr>\n",
       "  </thead>\n",
       "  <tbody>\n",
       "    <tr>\n",
       "      <th>count</th>\n",
       "      <td>1728</td>\n",
       "      <td>1728</td>\n",
       "      <td>1728</td>\n",
       "      <td>1728</td>\n",
       "      <td>1728</td>\n",
       "      <td>1728</td>\n",
       "      <td>1728</td>\n",
       "    </tr>\n",
       "    <tr>\n",
       "      <th>unique</th>\n",
       "      <td>4</td>\n",
       "      <td>4</td>\n",
       "      <td>4</td>\n",
       "      <td>3</td>\n",
       "      <td>3</td>\n",
       "      <td>3</td>\n",
       "      <td>4</td>\n",
       "    </tr>\n",
       "    <tr>\n",
       "      <th>top</th>\n",
       "      <td>high</td>\n",
       "      <td>high</td>\n",
       "      <td>3</td>\n",
       "      <td>2</td>\n",
       "      <td>small</td>\n",
       "      <td>high</td>\n",
       "      <td>unacc</td>\n",
       "    </tr>\n",
       "    <tr>\n",
       "      <th>freq</th>\n",
       "      <td>432</td>\n",
       "      <td>432</td>\n",
       "      <td>432</td>\n",
       "      <td>576</td>\n",
       "      <td>576</td>\n",
       "      <td>576</td>\n",
       "      <td>1210</td>\n",
       "    </tr>\n",
       "  </tbody>\n",
       "</table>\n",
       "</div>"
      ],
      "text/plain": [
       "       buying maint doors persons lug_boot safety car_class\n",
       "count    1728  1728  1728    1728     1728   1728      1728\n",
       "unique      4     4     4       3        3      3         4\n",
       "top      high  high     3       2    small   high     unacc\n",
       "freq      432   432   432     576      576    576      1210"
      ]
     },
     "execution_count": 6,
     "metadata": {},
     "output_type": "execute_result"
    }
   ],
   "source": [
    "data.describe()"
   ]
  },
  {
   "cell_type": "markdown",
   "metadata": {},
   "source": [
    "**Preprocess and feature engineering**"
   ]
  },
  {
   "cell_type": "code",
   "execution_count": 7,
   "metadata": {},
   "outputs": [],
   "source": [
    "#используем бинарную классификацию - 0 - unacc, 1  - acc и лучше\n",
    "data['car_class'] = data['car_class'].replace({'unacc': 0, 'acc': 1, 'good':1,'vgood':1})\n",
    "\n",
    "#Separating unacc car_class and other car_class customers\n",
    "unacc_car_class     = data[data[\"car_class\"] == 0]\n",
    "acc_car_class = data[data[\"car_class\"] == 1]\n",
    "\n",
    "target_col = ['car_class']\n",
    "cat_cols   = ['buying','maint','doors','persons','lug_boot','safety']"
   ]
  },
  {
   "cell_type": "code",
   "execution_count": 8,
   "metadata": {},
   "outputs": [
    {
     "data": {
      "text/plain": [
       "0    1210\n",
       "1     518\n",
       "Name: car_class, dtype: int64"
      ]
     },
     "execution_count": 8,
     "metadata": {},
     "output_type": "execute_result"
    }
   ],
   "source": [
    "data.iloc[:, -1].value_counts()"
   ]
  },
  {
   "cell_type": "code",
   "execution_count": 9,
   "metadata": {},
   "outputs": [
    {
     "name": "stdout",
     "output_type": "stream",
     "text": [
      "Rows     :  1728\n",
      "Columns  :  7\n",
      "\n",
      "Features : \n",
      " ['buying', 'maint', 'doors', 'persons', 'lug_boot', 'safety', 'car_class']\n",
      "\n",
      "Missing values :   0\n",
      "\n",
      "Unique values :  \n",
      " buying       4\n",
      "maint        4\n",
      "doors        4\n",
      "persons      3\n",
      "lug_boot     3\n",
      "safety       3\n",
      "car_class    2\n",
      "dtype: int64\n",
      "0\n"
     ]
    }
   ],
   "source": [
    "print (\"Rows     : \" ,data.shape[0])\n",
    "print (\"Columns  : \" ,data.shape[1])\n",
    "print (\"\\nFeatures : \\n\" ,data.columns.tolist())\n",
    "print (\"\\nMissing values :  \", data.isnull().sum().values.sum())\n",
    "print (\"\\nUnique values :  \\n\",data.nunique())\n",
    "\n",
    "print(data.iloc[:, -1].isnull().sum())"
   ]
  },
  {
   "cell_type": "markdown",
   "metadata": {},
   "source": [
    "**Creating a holdout dataset (test)**"
   ]
  },
  {
   "cell_type": "code",
   "execution_count": 10,
   "metadata": {},
   "outputs": [
    {
     "data": {
      "text/html": [
       "<div>\n",
       "<style scoped>\n",
       "    .dataframe tbody tr th:only-of-type {\n",
       "        vertical-align: middle;\n",
       "    }\n",
       "\n",
       "    .dataframe tbody tr th {\n",
       "        vertical-align: top;\n",
       "    }\n",
       "\n",
       "    .dataframe thead th {\n",
       "        text-align: right;\n",
       "    }\n",
       "</style>\n",
       "<table border=\"1\" class=\"dataframe\">\n",
       "  <thead>\n",
       "    <tr style=\"text-align: right;\">\n",
       "      <th></th>\n",
       "      <th>buying</th>\n",
       "      <th>maint</th>\n",
       "      <th>doors</th>\n",
       "      <th>persons</th>\n",
       "      <th>lug_boot</th>\n",
       "      <th>safety</th>\n",
       "    </tr>\n",
       "  </thead>\n",
       "  <tbody>\n",
       "    <tr>\n",
       "      <th>48</th>\n",
       "      <td>vhigh</td>\n",
       "      <td>vhigh</td>\n",
       "      <td>3</td>\n",
       "      <td>more</td>\n",
       "      <td>med</td>\n",
       "      <td>low</td>\n",
       "    </tr>\n",
       "    <tr>\n",
       "      <th>468</th>\n",
       "      <td>high</td>\n",
       "      <td>vhigh</td>\n",
       "      <td>3</td>\n",
       "      <td>4</td>\n",
       "      <td>small</td>\n",
       "      <td>low</td>\n",
       "    </tr>\n",
       "    <tr>\n",
       "      <th>155</th>\n",
       "      <td>vhigh</td>\n",
       "      <td>high</td>\n",
       "      <td>3</td>\n",
       "      <td>more</td>\n",
       "      <td>small</td>\n",
       "      <td>high</td>\n",
       "    </tr>\n",
       "    <tr>\n",
       "      <th>1721</th>\n",
       "      <td>low</td>\n",
       "      <td>low</td>\n",
       "      <td>5more</td>\n",
       "      <td>more</td>\n",
       "      <td>small</td>\n",
       "      <td>high</td>\n",
       "    </tr>\n",
       "    <tr>\n",
       "      <th>1208</th>\n",
       "      <td>med</td>\n",
       "      <td>low</td>\n",
       "      <td>2</td>\n",
       "      <td>more</td>\n",
       "      <td>small</td>\n",
       "      <td>high</td>\n",
       "    </tr>\n",
       "  </tbody>\n",
       "</table>\n",
       "</div>"
      ],
      "text/plain": [
       "     buying  maint  doors persons lug_boot safety\n",
       "48    vhigh  vhigh      3    more      med    low\n",
       "468    high  vhigh      3       4    small    low\n",
       "155   vhigh   high      3    more    small   high\n",
       "1721    low    low  5more    more    small   high\n",
       "1208    med    low      2    more    small   high"
      ]
     },
     "execution_count": 10,
     "metadata": {},
     "output_type": "execute_result"
    }
   ],
   "source": [
    "from sklearn.model_selection import train_test_split\n",
    "\n",
    "features = cat_cols\n",
    "target = 'car_class'\n",
    "\n",
    "X_train, X_test, y_train, y_test = train_test_split(data[features], \n",
    "                                                    data[target], test_size=0.33, random_state=42)\n",
    "#save test\n",
    "X_test.to_csv(\"X_test.csv\", index=None)\n",
    "y_test.to_csv(\"y_test.csv\", index=None)\n",
    "#save train\n",
    "X_train.to_csv(\"X_train.csv\", index=None)\n",
    "y_train.to_csv(\"y_train.csv\", index=None)\n",
    "X_train.head()"
   ]
  },
  {
   "cell_type": "code",
   "execution_count": 11,
   "metadata": {},
   "outputs": [
    {
     "data": {
      "text/plain": [
       "48      0\n",
       "468     0\n",
       "155     0\n",
       "1721    1\n",
       "1208    0\n",
       "Name: car_class, dtype: int64"
      ]
     },
     "execution_count": 11,
     "metadata": {},
     "output_type": "execute_result"
    }
   ],
   "source": [
    "y_train.head()"
   ]
  },
  {
   "cell_type": "markdown",
   "metadata": {},
   "source": [
    "ЗАДАНИЕ 2.\n",
    "\n",
    "Провести EDA (exploratory data analysis: histograms, boxplots - visualization, etc)."
   ]
  },
  {
   "cell_type": "code",
   "execution_count": 12,
   "metadata": {},
   "outputs": [
    {
     "data": {
      "application/vnd.plotly.v1+json": {
       "config": {
        "linkText": "Export to plot.ly",
        "plotlyServerURL": "https://plot.ly",
        "showLink": false
       },
       "data": [
        {
         "hole": 0.5,
         "hoverinfo": "label+value+text",
         "labels": [
          0,
          1
         ],
         "marker": {
          "colors": [
           "royalblue",
           "lime"
          ],
          "line": {
           "color": "white",
           "width": 1.3
          }
         },
         "rotation": 90,
         "type": "pie",
         "values": [
          1210,
          518
         ]
        }
       ],
       "layout": {
        "paper_bgcolor": "rgb(243,243,243)",
        "plot_bgcolor": "rgb(243,243,243)",
        "template": {
         "data": {
          "bar": [
           {
            "error_x": {
             "color": "#2a3f5f"
            },
            "error_y": {
             "color": "#2a3f5f"
            },
            "marker": {
             "line": {
              "color": "#E5ECF6",
              "width": 0.5
             }
            },
            "type": "bar"
           }
          ],
          "barpolar": [
           {
            "marker": {
             "line": {
              "color": "#E5ECF6",
              "width": 0.5
             }
            },
            "type": "barpolar"
           }
          ],
          "carpet": [
           {
            "aaxis": {
             "endlinecolor": "#2a3f5f",
             "gridcolor": "white",
             "linecolor": "white",
             "minorgridcolor": "white",
             "startlinecolor": "#2a3f5f"
            },
            "baxis": {
             "endlinecolor": "#2a3f5f",
             "gridcolor": "white",
             "linecolor": "white",
             "minorgridcolor": "white",
             "startlinecolor": "#2a3f5f"
            },
            "type": "carpet"
           }
          ],
          "choropleth": [
           {
            "colorbar": {
             "outlinewidth": 0,
             "ticks": ""
            },
            "type": "choropleth"
           }
          ],
          "contour": [
           {
            "colorbar": {
             "outlinewidth": 0,
             "ticks": ""
            },
            "colorscale": [
             [
              0,
              "#0d0887"
             ],
             [
              0.1111111111111111,
              "#46039f"
             ],
             [
              0.2222222222222222,
              "#7201a8"
             ],
             [
              0.3333333333333333,
              "#9c179e"
             ],
             [
              0.4444444444444444,
              "#bd3786"
             ],
             [
              0.5555555555555556,
              "#d8576b"
             ],
             [
              0.6666666666666666,
              "#ed7953"
             ],
             [
              0.7777777777777778,
              "#fb9f3a"
             ],
             [
              0.8888888888888888,
              "#fdca26"
             ],
             [
              1,
              "#f0f921"
             ]
            ],
            "type": "contour"
           }
          ],
          "contourcarpet": [
           {
            "colorbar": {
             "outlinewidth": 0,
             "ticks": ""
            },
            "type": "contourcarpet"
           }
          ],
          "heatmap": [
           {
            "colorbar": {
             "outlinewidth": 0,
             "ticks": ""
            },
            "colorscale": [
             [
              0,
              "#0d0887"
             ],
             [
              0.1111111111111111,
              "#46039f"
             ],
             [
              0.2222222222222222,
              "#7201a8"
             ],
             [
              0.3333333333333333,
              "#9c179e"
             ],
             [
              0.4444444444444444,
              "#bd3786"
             ],
             [
              0.5555555555555556,
              "#d8576b"
             ],
             [
              0.6666666666666666,
              "#ed7953"
             ],
             [
              0.7777777777777778,
              "#fb9f3a"
             ],
             [
              0.8888888888888888,
              "#fdca26"
             ],
             [
              1,
              "#f0f921"
             ]
            ],
            "type": "heatmap"
           }
          ],
          "heatmapgl": [
           {
            "colorbar": {
             "outlinewidth": 0,
             "ticks": ""
            },
            "colorscale": [
             [
              0,
              "#0d0887"
             ],
             [
              0.1111111111111111,
              "#46039f"
             ],
             [
              0.2222222222222222,
              "#7201a8"
             ],
             [
              0.3333333333333333,
              "#9c179e"
             ],
             [
              0.4444444444444444,
              "#bd3786"
             ],
             [
              0.5555555555555556,
              "#d8576b"
             ],
             [
              0.6666666666666666,
              "#ed7953"
             ],
             [
              0.7777777777777778,
              "#fb9f3a"
             ],
             [
              0.8888888888888888,
              "#fdca26"
             ],
             [
              1,
              "#f0f921"
             ]
            ],
            "type": "heatmapgl"
           }
          ],
          "histogram": [
           {
            "marker": {
             "colorbar": {
              "outlinewidth": 0,
              "ticks": ""
             }
            },
            "type": "histogram"
           }
          ],
          "histogram2d": [
           {
            "colorbar": {
             "outlinewidth": 0,
             "ticks": ""
            },
            "colorscale": [
             [
              0,
              "#0d0887"
             ],
             [
              0.1111111111111111,
              "#46039f"
             ],
             [
              0.2222222222222222,
              "#7201a8"
             ],
             [
              0.3333333333333333,
              "#9c179e"
             ],
             [
              0.4444444444444444,
              "#bd3786"
             ],
             [
              0.5555555555555556,
              "#d8576b"
             ],
             [
              0.6666666666666666,
              "#ed7953"
             ],
             [
              0.7777777777777778,
              "#fb9f3a"
             ],
             [
              0.8888888888888888,
              "#fdca26"
             ],
             [
              1,
              "#f0f921"
             ]
            ],
            "type": "histogram2d"
           }
          ],
          "histogram2dcontour": [
           {
            "colorbar": {
             "outlinewidth": 0,
             "ticks": ""
            },
            "colorscale": [
             [
              0,
              "#0d0887"
             ],
             [
              0.1111111111111111,
              "#46039f"
             ],
             [
              0.2222222222222222,
              "#7201a8"
             ],
             [
              0.3333333333333333,
              "#9c179e"
             ],
             [
              0.4444444444444444,
              "#bd3786"
             ],
             [
              0.5555555555555556,
              "#d8576b"
             ],
             [
              0.6666666666666666,
              "#ed7953"
             ],
             [
              0.7777777777777778,
              "#fb9f3a"
             ],
             [
              0.8888888888888888,
              "#fdca26"
             ],
             [
              1,
              "#f0f921"
             ]
            ],
            "type": "histogram2dcontour"
           }
          ],
          "mesh3d": [
           {
            "colorbar": {
             "outlinewidth": 0,
             "ticks": ""
            },
            "type": "mesh3d"
           }
          ],
          "parcoords": [
           {
            "line": {
             "colorbar": {
              "outlinewidth": 0,
              "ticks": ""
             }
            },
            "type": "parcoords"
           }
          ],
          "pie": [
           {
            "automargin": true,
            "type": "pie"
           }
          ],
          "scatter": [
           {
            "marker": {
             "colorbar": {
              "outlinewidth": 0,
              "ticks": ""
             }
            },
            "type": "scatter"
           }
          ],
          "scatter3d": [
           {
            "line": {
             "colorbar": {
              "outlinewidth": 0,
              "ticks": ""
             }
            },
            "marker": {
             "colorbar": {
              "outlinewidth": 0,
              "ticks": ""
             }
            },
            "type": "scatter3d"
           }
          ],
          "scattercarpet": [
           {
            "marker": {
             "colorbar": {
              "outlinewidth": 0,
              "ticks": ""
             }
            },
            "type": "scattercarpet"
           }
          ],
          "scattergeo": [
           {
            "marker": {
             "colorbar": {
              "outlinewidth": 0,
              "ticks": ""
             }
            },
            "type": "scattergeo"
           }
          ],
          "scattergl": [
           {
            "marker": {
             "colorbar": {
              "outlinewidth": 0,
              "ticks": ""
             }
            },
            "type": "scattergl"
           }
          ],
          "scattermapbox": [
           {
            "marker": {
             "colorbar": {
              "outlinewidth": 0,
              "ticks": ""
             }
            },
            "type": "scattermapbox"
           }
          ],
          "scatterpolar": [
           {
            "marker": {
             "colorbar": {
              "outlinewidth": 0,
              "ticks": ""
             }
            },
            "type": "scatterpolar"
           }
          ],
          "scatterpolargl": [
           {
            "marker": {
             "colorbar": {
              "outlinewidth": 0,
              "ticks": ""
             }
            },
            "type": "scatterpolargl"
           }
          ],
          "scatterternary": [
           {
            "marker": {
             "colorbar": {
              "outlinewidth": 0,
              "ticks": ""
             }
            },
            "type": "scatterternary"
           }
          ],
          "surface": [
           {
            "colorbar": {
             "outlinewidth": 0,
             "ticks": ""
            },
            "colorscale": [
             [
              0,
              "#0d0887"
             ],
             [
              0.1111111111111111,
              "#46039f"
             ],
             [
              0.2222222222222222,
              "#7201a8"
             ],
             [
              0.3333333333333333,
              "#9c179e"
             ],
             [
              0.4444444444444444,
              "#bd3786"
             ],
             [
              0.5555555555555556,
              "#d8576b"
             ],
             [
              0.6666666666666666,
              "#ed7953"
             ],
             [
              0.7777777777777778,
              "#fb9f3a"
             ],
             [
              0.8888888888888888,
              "#fdca26"
             ],
             [
              1,
              "#f0f921"
             ]
            ],
            "type": "surface"
           }
          ],
          "table": [
           {
            "cells": {
             "fill": {
              "color": "#EBF0F8"
             },
             "line": {
              "color": "white"
             }
            },
            "header": {
             "fill": {
              "color": "#C8D4E3"
             },
             "line": {
              "color": "white"
             }
            },
            "type": "table"
           }
          ]
         },
         "layout": {
          "annotationdefaults": {
           "arrowcolor": "#2a3f5f",
           "arrowhead": 0,
           "arrowwidth": 1
          },
          "coloraxis": {
           "colorbar": {
            "outlinewidth": 0,
            "ticks": ""
           }
          },
          "colorscale": {
           "diverging": [
            [
             0,
             "#8e0152"
            ],
            [
             0.1,
             "#c51b7d"
            ],
            [
             0.2,
             "#de77ae"
            ],
            [
             0.3,
             "#f1b6da"
            ],
            [
             0.4,
             "#fde0ef"
            ],
            [
             0.5,
             "#f7f7f7"
            ],
            [
             0.6,
             "#e6f5d0"
            ],
            [
             0.7,
             "#b8e186"
            ],
            [
             0.8,
             "#7fbc41"
            ],
            [
             0.9,
             "#4d9221"
            ],
            [
             1,
             "#276419"
            ]
           ],
           "sequential": [
            [
             0,
             "#0d0887"
            ],
            [
             0.1111111111111111,
             "#46039f"
            ],
            [
             0.2222222222222222,
             "#7201a8"
            ],
            [
             0.3333333333333333,
             "#9c179e"
            ],
            [
             0.4444444444444444,
             "#bd3786"
            ],
            [
             0.5555555555555556,
             "#d8576b"
            ],
            [
             0.6666666666666666,
             "#ed7953"
            ],
            [
             0.7777777777777778,
             "#fb9f3a"
            ],
            [
             0.8888888888888888,
             "#fdca26"
            ],
            [
             1,
             "#f0f921"
            ]
           ],
           "sequentialminus": [
            [
             0,
             "#0d0887"
            ],
            [
             0.1111111111111111,
             "#46039f"
            ],
            [
             0.2222222222222222,
             "#7201a8"
            ],
            [
             0.3333333333333333,
             "#9c179e"
            ],
            [
             0.4444444444444444,
             "#bd3786"
            ],
            [
             0.5555555555555556,
             "#d8576b"
            ],
            [
             0.6666666666666666,
             "#ed7953"
            ],
            [
             0.7777777777777778,
             "#fb9f3a"
            ],
            [
             0.8888888888888888,
             "#fdca26"
            ],
            [
             1,
             "#f0f921"
            ]
           ]
          },
          "colorway": [
           "#636efa",
           "#EF553B",
           "#00cc96",
           "#ab63fa",
           "#FFA15A",
           "#19d3f3",
           "#FF6692",
           "#B6E880",
           "#FF97FF",
           "#FECB52"
          ],
          "font": {
           "color": "#2a3f5f"
          },
          "geo": {
           "bgcolor": "white",
           "lakecolor": "white",
           "landcolor": "#E5ECF6",
           "showlakes": true,
           "showland": true,
           "subunitcolor": "white"
          },
          "hoverlabel": {
           "align": "left"
          },
          "hovermode": "closest",
          "mapbox": {
           "style": "light"
          },
          "paper_bgcolor": "white",
          "plot_bgcolor": "#E5ECF6",
          "polar": {
           "angularaxis": {
            "gridcolor": "white",
            "linecolor": "white",
            "ticks": ""
           },
           "bgcolor": "#E5ECF6",
           "radialaxis": {
            "gridcolor": "white",
            "linecolor": "white",
            "ticks": ""
           }
          },
          "scene": {
           "xaxis": {
            "backgroundcolor": "#E5ECF6",
            "gridcolor": "white",
            "gridwidth": 2,
            "linecolor": "white",
            "showbackground": true,
            "ticks": "",
            "zerolinecolor": "white"
           },
           "yaxis": {
            "backgroundcolor": "#E5ECF6",
            "gridcolor": "white",
            "gridwidth": 2,
            "linecolor": "white",
            "showbackground": true,
            "ticks": "",
            "zerolinecolor": "white"
           },
           "zaxis": {
            "backgroundcolor": "#E5ECF6",
            "gridcolor": "white",
            "gridwidth": 2,
            "linecolor": "white",
            "showbackground": true,
            "ticks": "",
            "zerolinecolor": "white"
           }
          },
          "shapedefaults": {
           "line": {
            "color": "#2a3f5f"
           }
          },
          "ternary": {
           "aaxis": {
            "gridcolor": "white",
            "linecolor": "white",
            "ticks": ""
           },
           "baxis": {
            "gridcolor": "white",
            "linecolor": "white",
            "ticks": ""
           },
           "bgcolor": "#E5ECF6",
           "caxis": {
            "gridcolor": "white",
            "linecolor": "white",
            "ticks": ""
           }
          },
          "title": {
           "x": 0.05
          },
          "xaxis": {
           "automargin": true,
           "gridcolor": "white",
           "linecolor": "white",
           "ticks": "",
           "title": {
            "standoff": 15
           },
           "zerolinecolor": "white",
           "zerolinewidth": 2
          },
          "yaxis": {
           "automargin": true,
           "gridcolor": "white",
           "linecolor": "white",
           "ticks": "",
           "title": {
            "standoff": 15
           },
           "zerolinecolor": "white",
           "zerolinewidth": 2
          }
         }
        },
        "title": {
         "text": "car_class >= acc : 1,car_class == unacc: 0 in data"
        }
       }
      },
      "text/html": [
       "<div>\n",
       "        \n",
       "        \n",
       "            <div id=\"b77118d5-dc6b-46b1-a690-d346a16fdcc4\" class=\"plotly-graph-div\" style=\"height:525px; width:100%;\"></div>\n",
       "            <script type=\"text/javascript\">\n",
       "                require([\"plotly\"], function(Plotly) {\n",
       "                    window.PLOTLYENV=window.PLOTLYENV || {};\n",
       "                    \n",
       "                if (document.getElementById(\"b77118d5-dc6b-46b1-a690-d346a16fdcc4\")) {\n",
       "                    Plotly.newPlot(\n",
       "                        'b77118d5-dc6b-46b1-a690-d346a16fdcc4',\n",
       "                        [{\"hole\": 0.5, \"hoverinfo\": \"label+value+text\", \"labels\": [0, 1], \"marker\": {\"colors\": [\"royalblue\", \"lime\"], \"line\": {\"color\": \"white\", \"width\": 1.3}}, \"rotation\": 90, \"type\": \"pie\", \"values\": [1210, 518]}],\n",
       "                        {\"paper_bgcolor\": \"rgb(243,243,243)\", \"plot_bgcolor\": \"rgb(243,243,243)\", \"template\": {\"data\": {\"bar\": [{\"error_x\": {\"color\": \"#2a3f5f\"}, \"error_y\": {\"color\": \"#2a3f5f\"}, \"marker\": {\"line\": {\"color\": \"#E5ECF6\", \"width\": 0.5}}, \"type\": \"bar\"}], \"barpolar\": [{\"marker\": {\"line\": {\"color\": \"#E5ECF6\", \"width\": 0.5}}, \"type\": \"barpolar\"}], \"carpet\": [{\"aaxis\": {\"endlinecolor\": \"#2a3f5f\", \"gridcolor\": \"white\", \"linecolor\": \"white\", \"minorgridcolor\": \"white\", \"startlinecolor\": \"#2a3f5f\"}, \"baxis\": {\"endlinecolor\": \"#2a3f5f\", \"gridcolor\": \"white\", \"linecolor\": \"white\", \"minorgridcolor\": \"white\", \"startlinecolor\": \"#2a3f5f\"}, \"type\": \"carpet\"}], \"choropleth\": [{\"colorbar\": {\"outlinewidth\": 0, \"ticks\": \"\"}, \"type\": \"choropleth\"}], \"contour\": [{\"colorbar\": {\"outlinewidth\": 0, \"ticks\": \"\"}, \"colorscale\": [[0.0, \"#0d0887\"], [0.1111111111111111, \"#46039f\"], [0.2222222222222222, \"#7201a8\"], [0.3333333333333333, \"#9c179e\"], [0.4444444444444444, \"#bd3786\"], [0.5555555555555556, \"#d8576b\"], [0.6666666666666666, \"#ed7953\"], [0.7777777777777778, \"#fb9f3a\"], [0.8888888888888888, \"#fdca26\"], [1.0, \"#f0f921\"]], \"type\": \"contour\"}], \"contourcarpet\": [{\"colorbar\": {\"outlinewidth\": 0, \"ticks\": \"\"}, \"type\": \"contourcarpet\"}], \"heatmap\": [{\"colorbar\": {\"outlinewidth\": 0, \"ticks\": \"\"}, \"colorscale\": [[0.0, \"#0d0887\"], [0.1111111111111111, \"#46039f\"], [0.2222222222222222, \"#7201a8\"], [0.3333333333333333, \"#9c179e\"], [0.4444444444444444, \"#bd3786\"], [0.5555555555555556, \"#d8576b\"], [0.6666666666666666, \"#ed7953\"], [0.7777777777777778, \"#fb9f3a\"], [0.8888888888888888, \"#fdca26\"], [1.0, \"#f0f921\"]], \"type\": \"heatmap\"}], \"heatmapgl\": [{\"colorbar\": {\"outlinewidth\": 0, \"ticks\": \"\"}, \"colorscale\": [[0.0, \"#0d0887\"], [0.1111111111111111, \"#46039f\"], [0.2222222222222222, \"#7201a8\"], [0.3333333333333333, \"#9c179e\"], [0.4444444444444444, \"#bd3786\"], [0.5555555555555556, \"#d8576b\"], [0.6666666666666666, \"#ed7953\"], [0.7777777777777778, \"#fb9f3a\"], [0.8888888888888888, \"#fdca26\"], [1.0, \"#f0f921\"]], \"type\": \"heatmapgl\"}], \"histogram\": [{\"marker\": {\"colorbar\": {\"outlinewidth\": 0, \"ticks\": \"\"}}, \"type\": \"histogram\"}], \"histogram2d\": [{\"colorbar\": {\"outlinewidth\": 0, \"ticks\": \"\"}, \"colorscale\": [[0.0, \"#0d0887\"], [0.1111111111111111, \"#46039f\"], [0.2222222222222222, \"#7201a8\"], [0.3333333333333333, \"#9c179e\"], [0.4444444444444444, \"#bd3786\"], [0.5555555555555556, \"#d8576b\"], [0.6666666666666666, \"#ed7953\"], [0.7777777777777778, \"#fb9f3a\"], [0.8888888888888888, \"#fdca26\"], [1.0, \"#f0f921\"]], \"type\": \"histogram2d\"}], \"histogram2dcontour\": [{\"colorbar\": {\"outlinewidth\": 0, \"ticks\": \"\"}, \"colorscale\": [[0.0, \"#0d0887\"], [0.1111111111111111, \"#46039f\"], [0.2222222222222222, \"#7201a8\"], [0.3333333333333333, \"#9c179e\"], [0.4444444444444444, \"#bd3786\"], [0.5555555555555556, \"#d8576b\"], [0.6666666666666666, \"#ed7953\"], [0.7777777777777778, \"#fb9f3a\"], [0.8888888888888888, \"#fdca26\"], [1.0, \"#f0f921\"]], \"type\": \"histogram2dcontour\"}], \"mesh3d\": [{\"colorbar\": {\"outlinewidth\": 0, \"ticks\": \"\"}, \"type\": \"mesh3d\"}], \"parcoords\": [{\"line\": {\"colorbar\": {\"outlinewidth\": 0, \"ticks\": \"\"}}, \"type\": \"parcoords\"}], \"pie\": [{\"automargin\": true, \"type\": \"pie\"}], \"scatter\": [{\"marker\": {\"colorbar\": {\"outlinewidth\": 0, \"ticks\": \"\"}}, \"type\": \"scatter\"}], \"scatter3d\": [{\"line\": {\"colorbar\": {\"outlinewidth\": 0, \"ticks\": \"\"}}, \"marker\": {\"colorbar\": {\"outlinewidth\": 0, \"ticks\": \"\"}}, \"type\": \"scatter3d\"}], \"scattercarpet\": [{\"marker\": {\"colorbar\": {\"outlinewidth\": 0, \"ticks\": \"\"}}, \"type\": \"scattercarpet\"}], \"scattergeo\": [{\"marker\": {\"colorbar\": {\"outlinewidth\": 0, \"ticks\": \"\"}}, \"type\": \"scattergeo\"}], \"scattergl\": [{\"marker\": {\"colorbar\": {\"outlinewidth\": 0, \"ticks\": \"\"}}, \"type\": \"scattergl\"}], \"scattermapbox\": [{\"marker\": {\"colorbar\": {\"outlinewidth\": 0, \"ticks\": \"\"}}, \"type\": \"scattermapbox\"}], \"scatterpolar\": [{\"marker\": {\"colorbar\": {\"outlinewidth\": 0, \"ticks\": \"\"}}, \"type\": \"scatterpolar\"}], \"scatterpolargl\": [{\"marker\": {\"colorbar\": {\"outlinewidth\": 0, \"ticks\": \"\"}}, \"type\": \"scatterpolargl\"}], \"scatterternary\": [{\"marker\": {\"colorbar\": {\"outlinewidth\": 0, \"ticks\": \"\"}}, \"type\": \"scatterternary\"}], \"surface\": [{\"colorbar\": {\"outlinewidth\": 0, \"ticks\": \"\"}, \"colorscale\": [[0.0, \"#0d0887\"], [0.1111111111111111, \"#46039f\"], [0.2222222222222222, \"#7201a8\"], [0.3333333333333333, \"#9c179e\"], [0.4444444444444444, \"#bd3786\"], [0.5555555555555556, \"#d8576b\"], [0.6666666666666666, \"#ed7953\"], [0.7777777777777778, \"#fb9f3a\"], [0.8888888888888888, \"#fdca26\"], [1.0, \"#f0f921\"]], \"type\": \"surface\"}], \"table\": [{\"cells\": {\"fill\": {\"color\": \"#EBF0F8\"}, \"line\": {\"color\": \"white\"}}, \"header\": {\"fill\": {\"color\": \"#C8D4E3\"}, \"line\": {\"color\": \"white\"}}, \"type\": \"table\"}]}, \"layout\": {\"annotationdefaults\": {\"arrowcolor\": \"#2a3f5f\", \"arrowhead\": 0, \"arrowwidth\": 1}, \"coloraxis\": {\"colorbar\": {\"outlinewidth\": 0, \"ticks\": \"\"}}, \"colorscale\": {\"diverging\": [[0, \"#8e0152\"], [0.1, \"#c51b7d\"], [0.2, \"#de77ae\"], [0.3, \"#f1b6da\"], [0.4, \"#fde0ef\"], [0.5, \"#f7f7f7\"], [0.6, \"#e6f5d0\"], [0.7, \"#b8e186\"], [0.8, \"#7fbc41\"], [0.9, \"#4d9221\"], [1, \"#276419\"]], \"sequential\": [[0.0, \"#0d0887\"], [0.1111111111111111, \"#46039f\"], [0.2222222222222222, \"#7201a8\"], [0.3333333333333333, \"#9c179e\"], [0.4444444444444444, \"#bd3786\"], [0.5555555555555556, \"#d8576b\"], [0.6666666666666666, \"#ed7953\"], [0.7777777777777778, \"#fb9f3a\"], [0.8888888888888888, \"#fdca26\"], [1.0, \"#f0f921\"]], \"sequentialminus\": [[0.0, \"#0d0887\"], [0.1111111111111111, \"#46039f\"], [0.2222222222222222, \"#7201a8\"], [0.3333333333333333, \"#9c179e\"], [0.4444444444444444, \"#bd3786\"], [0.5555555555555556, \"#d8576b\"], [0.6666666666666666, \"#ed7953\"], [0.7777777777777778, \"#fb9f3a\"], [0.8888888888888888, \"#fdca26\"], [1.0, \"#f0f921\"]]}, \"colorway\": [\"#636efa\", \"#EF553B\", \"#00cc96\", \"#ab63fa\", \"#FFA15A\", \"#19d3f3\", \"#FF6692\", \"#B6E880\", \"#FF97FF\", \"#FECB52\"], \"font\": {\"color\": \"#2a3f5f\"}, \"geo\": {\"bgcolor\": \"white\", \"lakecolor\": \"white\", \"landcolor\": \"#E5ECF6\", \"showlakes\": true, \"showland\": true, \"subunitcolor\": \"white\"}, \"hoverlabel\": {\"align\": \"left\"}, \"hovermode\": \"closest\", \"mapbox\": {\"style\": \"light\"}, \"paper_bgcolor\": \"white\", \"plot_bgcolor\": \"#E5ECF6\", \"polar\": {\"angularaxis\": {\"gridcolor\": \"white\", \"linecolor\": \"white\", \"ticks\": \"\"}, \"bgcolor\": \"#E5ECF6\", \"radialaxis\": {\"gridcolor\": \"white\", \"linecolor\": \"white\", \"ticks\": \"\"}}, \"scene\": {\"xaxis\": {\"backgroundcolor\": \"#E5ECF6\", \"gridcolor\": \"white\", \"gridwidth\": 2, \"linecolor\": \"white\", \"showbackground\": true, \"ticks\": \"\", \"zerolinecolor\": \"white\"}, \"yaxis\": {\"backgroundcolor\": \"#E5ECF6\", \"gridcolor\": \"white\", \"gridwidth\": 2, \"linecolor\": \"white\", \"showbackground\": true, \"ticks\": \"\", \"zerolinecolor\": \"white\"}, \"zaxis\": {\"backgroundcolor\": \"#E5ECF6\", \"gridcolor\": \"white\", \"gridwidth\": 2, \"linecolor\": \"white\", \"showbackground\": true, \"ticks\": \"\", \"zerolinecolor\": \"white\"}}, \"shapedefaults\": {\"line\": {\"color\": \"#2a3f5f\"}}, \"ternary\": {\"aaxis\": {\"gridcolor\": \"white\", \"linecolor\": \"white\", \"ticks\": \"\"}, \"baxis\": {\"gridcolor\": \"white\", \"linecolor\": \"white\", \"ticks\": \"\"}, \"bgcolor\": \"#E5ECF6\", \"caxis\": {\"gridcolor\": \"white\", \"linecolor\": \"white\", \"ticks\": \"\"}}, \"title\": {\"x\": 0.05}, \"xaxis\": {\"automargin\": true, \"gridcolor\": \"white\", \"linecolor\": \"white\", \"ticks\": \"\", \"title\": {\"standoff\": 15}, \"zerolinecolor\": \"white\", \"zerolinewidth\": 2}, \"yaxis\": {\"automargin\": true, \"gridcolor\": \"white\", \"linecolor\": \"white\", \"ticks\": \"\", \"title\": {\"standoff\": 15}, \"zerolinecolor\": \"white\", \"zerolinewidth\": 2}}}, \"title\": {\"text\": \"car_class >= acc : 1,car_class == unacc: 0 in data\"}},\n",
       "                        {\"responsive\": true}\n",
       "                    ).then(function(){\n",
       "                            \n",
       "var gd = document.getElementById('b77118d5-dc6b-46b1-a690-d346a16fdcc4');\n",
       "var x = new MutationObserver(function (mutations, observer) {{\n",
       "        var display = window.getComputedStyle(gd).display;\n",
       "        if (!display || display === 'none') {{\n",
       "            console.log([gd, 'removed!']);\n",
       "            Plotly.purge(gd);\n",
       "            observer.disconnect();\n",
       "        }}\n",
       "}});\n",
       "\n",
       "// Listen for the removal of the full notebook cells\n",
       "var notebookContainer = gd.closest('#notebook-container');\n",
       "if (notebookContainer) {{\n",
       "    x.observe(notebookContainer, {childList: true});\n",
       "}}\n",
       "\n",
       "// Listen for the clearing of the current output cell\n",
       "var outputEl = gd.closest('.output');\n",
       "if (outputEl) {{\n",
       "    x.observe(outputEl, {childList: true});\n",
       "}}\n",
       "\n",
       "                        })\n",
       "                };\n",
       "                });\n",
       "            </script>\n",
       "        </div>"
      ]
     },
     "metadata": {},
     "output_type": "display_data"
    }
   ],
   "source": [
    "#labels\n",
    "lab = data['car_class'].value_counts().keys().tolist()\n",
    "#values\n",
    "val = data['car_class'].value_counts().values.tolist()\n",
    "\n",
    "trace = go.Pie(labels = lab ,\n",
    "               values = val ,\n",
    "               marker = dict(colors =  [ 'royalblue' ,'lime'],\n",
    "                             line = dict(color = \"white\",\n",
    "                                         width =  1.3)\n",
    "                            ),\n",
    "               rotation = 90,\n",
    "               hoverinfo = \"label+value+text\",\n",
    "               hole = .5\n",
    "              )\n",
    "layout = go.Layout(dict(title = \"car_class >= acc : 1,car_class == unacc: 0 in data\",\n",
    "                        plot_bgcolor  = \"rgb(243,243,243)\",\n",
    "                        paper_bgcolor = \"rgb(243,243,243)\",\n",
    "                       )\n",
    "                  )\n",
    "\n",
    "fig_data = [trace]\n",
    "fig = go.Figure(data = fig_data,layout = layout)\n",
    "py.iplot(fig)"
   ]
  },
  {
   "cell_type": "code",
   "execution_count": 13,
   "metadata": {},
   "outputs": [
    {
     "data": {
      "application/vnd.plotly.v1+json": {
       "config": {
        "linkText": "Export to plot.ly",
        "plotlyServerURL": "https://plot.ly",
        "showLink": false
       },
       "data": [
        {
         "domain": {
          "x": [
           0,
           0.48
          ]
         },
         "hole": 0.6,
         "hoverinfo": "label+percent+name",
         "labels": [
          "low",
          "med",
          "high",
          "vhigh"
         ],
         "marker": {
          "line": {
           "color": "rgb(243,243,243)",
           "width": 2
          }
         },
         "name": "car_class >= acc",
         "type": "pie",
         "values": [
          174,
          164,
          108,
          72
         ]
        },
        {
         "domain": {
          "x": [
           0.52,
           1
          ]
         },
         "hole": 0.6,
         "hoverinfo": "label+percent+name",
         "labels": [
          "vhigh",
          "high",
          "med",
          "low"
         ],
         "marker": {
          "line": {
           "color": "rgb(243,243,243)",
           "width": 2
          }
         },
         "name": "car_class == unacc",
         "type": "pie",
         "values": [
          360,
          324,
          268,
          258
         ]
        }
       ],
       "layout": {
        "annotations": [
         {
          "font": {
           "size": 13
          },
          "showarrow": false,
          "text": "car_class >= acc",
          "x": 0.15,
          "y": 0.5
         },
         {
          "font": {
           "size": 13
          },
          "showarrow": false,
          "text": "car_class == unacc",
          "x": 0.88,
          "y": 0.5
         }
        ],
        "paper_bgcolor": "rgb(243,243,243)",
        "plot_bgcolor": "rgb(243,243,243)",
        "template": {
         "data": {
          "bar": [
           {
            "error_x": {
             "color": "#2a3f5f"
            },
            "error_y": {
             "color": "#2a3f5f"
            },
            "marker": {
             "line": {
              "color": "#E5ECF6",
              "width": 0.5
             }
            },
            "type": "bar"
           }
          ],
          "barpolar": [
           {
            "marker": {
             "line": {
              "color": "#E5ECF6",
              "width": 0.5
             }
            },
            "type": "barpolar"
           }
          ],
          "carpet": [
           {
            "aaxis": {
             "endlinecolor": "#2a3f5f",
             "gridcolor": "white",
             "linecolor": "white",
             "minorgridcolor": "white",
             "startlinecolor": "#2a3f5f"
            },
            "baxis": {
             "endlinecolor": "#2a3f5f",
             "gridcolor": "white",
             "linecolor": "white",
             "minorgridcolor": "white",
             "startlinecolor": "#2a3f5f"
            },
            "type": "carpet"
           }
          ],
          "choropleth": [
           {
            "colorbar": {
             "outlinewidth": 0,
             "ticks": ""
            },
            "type": "choropleth"
           }
          ],
          "contour": [
           {
            "colorbar": {
             "outlinewidth": 0,
             "ticks": ""
            },
            "colorscale": [
             [
              0,
              "#0d0887"
             ],
             [
              0.1111111111111111,
              "#46039f"
             ],
             [
              0.2222222222222222,
              "#7201a8"
             ],
             [
              0.3333333333333333,
              "#9c179e"
             ],
             [
              0.4444444444444444,
              "#bd3786"
             ],
             [
              0.5555555555555556,
              "#d8576b"
             ],
             [
              0.6666666666666666,
              "#ed7953"
             ],
             [
              0.7777777777777778,
              "#fb9f3a"
             ],
             [
              0.8888888888888888,
              "#fdca26"
             ],
             [
              1,
              "#f0f921"
             ]
            ],
            "type": "contour"
           }
          ],
          "contourcarpet": [
           {
            "colorbar": {
             "outlinewidth": 0,
             "ticks": ""
            },
            "type": "contourcarpet"
           }
          ],
          "heatmap": [
           {
            "colorbar": {
             "outlinewidth": 0,
             "ticks": ""
            },
            "colorscale": [
             [
              0,
              "#0d0887"
             ],
             [
              0.1111111111111111,
              "#46039f"
             ],
             [
              0.2222222222222222,
              "#7201a8"
             ],
             [
              0.3333333333333333,
              "#9c179e"
             ],
             [
              0.4444444444444444,
              "#bd3786"
             ],
             [
              0.5555555555555556,
              "#d8576b"
             ],
             [
              0.6666666666666666,
              "#ed7953"
             ],
             [
              0.7777777777777778,
              "#fb9f3a"
             ],
             [
              0.8888888888888888,
              "#fdca26"
             ],
             [
              1,
              "#f0f921"
             ]
            ],
            "type": "heatmap"
           }
          ],
          "heatmapgl": [
           {
            "colorbar": {
             "outlinewidth": 0,
             "ticks": ""
            },
            "colorscale": [
             [
              0,
              "#0d0887"
             ],
             [
              0.1111111111111111,
              "#46039f"
             ],
             [
              0.2222222222222222,
              "#7201a8"
             ],
             [
              0.3333333333333333,
              "#9c179e"
             ],
             [
              0.4444444444444444,
              "#bd3786"
             ],
             [
              0.5555555555555556,
              "#d8576b"
             ],
             [
              0.6666666666666666,
              "#ed7953"
             ],
             [
              0.7777777777777778,
              "#fb9f3a"
             ],
             [
              0.8888888888888888,
              "#fdca26"
             ],
             [
              1,
              "#f0f921"
             ]
            ],
            "type": "heatmapgl"
           }
          ],
          "histogram": [
           {
            "marker": {
             "colorbar": {
              "outlinewidth": 0,
              "ticks": ""
             }
            },
            "type": "histogram"
           }
          ],
          "histogram2d": [
           {
            "colorbar": {
             "outlinewidth": 0,
             "ticks": ""
            },
            "colorscale": [
             [
              0,
              "#0d0887"
             ],
             [
              0.1111111111111111,
              "#46039f"
             ],
             [
              0.2222222222222222,
              "#7201a8"
             ],
             [
              0.3333333333333333,
              "#9c179e"
             ],
             [
              0.4444444444444444,
              "#bd3786"
             ],
             [
              0.5555555555555556,
              "#d8576b"
             ],
             [
              0.6666666666666666,
              "#ed7953"
             ],
             [
              0.7777777777777778,
              "#fb9f3a"
             ],
             [
              0.8888888888888888,
              "#fdca26"
             ],
             [
              1,
              "#f0f921"
             ]
            ],
            "type": "histogram2d"
           }
          ],
          "histogram2dcontour": [
           {
            "colorbar": {
             "outlinewidth": 0,
             "ticks": ""
            },
            "colorscale": [
             [
              0,
              "#0d0887"
             ],
             [
              0.1111111111111111,
              "#46039f"
             ],
             [
              0.2222222222222222,
              "#7201a8"
             ],
             [
              0.3333333333333333,
              "#9c179e"
             ],
             [
              0.4444444444444444,
              "#bd3786"
             ],
             [
              0.5555555555555556,
              "#d8576b"
             ],
             [
              0.6666666666666666,
              "#ed7953"
             ],
             [
              0.7777777777777778,
              "#fb9f3a"
             ],
             [
              0.8888888888888888,
              "#fdca26"
             ],
             [
              1,
              "#f0f921"
             ]
            ],
            "type": "histogram2dcontour"
           }
          ],
          "mesh3d": [
           {
            "colorbar": {
             "outlinewidth": 0,
             "ticks": ""
            },
            "type": "mesh3d"
           }
          ],
          "parcoords": [
           {
            "line": {
             "colorbar": {
              "outlinewidth": 0,
              "ticks": ""
             }
            },
            "type": "parcoords"
           }
          ],
          "pie": [
           {
            "automargin": true,
            "type": "pie"
           }
          ],
          "scatter": [
           {
            "marker": {
             "colorbar": {
              "outlinewidth": 0,
              "ticks": ""
             }
            },
            "type": "scatter"
           }
          ],
          "scatter3d": [
           {
            "line": {
             "colorbar": {
              "outlinewidth": 0,
              "ticks": ""
             }
            },
            "marker": {
             "colorbar": {
              "outlinewidth": 0,
              "ticks": ""
             }
            },
            "type": "scatter3d"
           }
          ],
          "scattercarpet": [
           {
            "marker": {
             "colorbar": {
              "outlinewidth": 0,
              "ticks": ""
             }
            },
            "type": "scattercarpet"
           }
          ],
          "scattergeo": [
           {
            "marker": {
             "colorbar": {
              "outlinewidth": 0,
              "ticks": ""
             }
            },
            "type": "scattergeo"
           }
          ],
          "scattergl": [
           {
            "marker": {
             "colorbar": {
              "outlinewidth": 0,
              "ticks": ""
             }
            },
            "type": "scattergl"
           }
          ],
          "scattermapbox": [
           {
            "marker": {
             "colorbar": {
              "outlinewidth": 0,
              "ticks": ""
             }
            },
            "type": "scattermapbox"
           }
          ],
          "scatterpolar": [
           {
            "marker": {
             "colorbar": {
              "outlinewidth": 0,
              "ticks": ""
             }
            },
            "type": "scatterpolar"
           }
          ],
          "scatterpolargl": [
           {
            "marker": {
             "colorbar": {
              "outlinewidth": 0,
              "ticks": ""
             }
            },
            "type": "scatterpolargl"
           }
          ],
          "scatterternary": [
           {
            "marker": {
             "colorbar": {
              "outlinewidth": 0,
              "ticks": ""
             }
            },
            "type": "scatterternary"
           }
          ],
          "surface": [
           {
            "colorbar": {
             "outlinewidth": 0,
             "ticks": ""
            },
            "colorscale": [
             [
              0,
              "#0d0887"
             ],
             [
              0.1111111111111111,
              "#46039f"
             ],
             [
              0.2222222222222222,
              "#7201a8"
             ],
             [
              0.3333333333333333,
              "#9c179e"
             ],
             [
              0.4444444444444444,
              "#bd3786"
             ],
             [
              0.5555555555555556,
              "#d8576b"
             ],
             [
              0.6666666666666666,
              "#ed7953"
             ],
             [
              0.7777777777777778,
              "#fb9f3a"
             ],
             [
              0.8888888888888888,
              "#fdca26"
             ],
             [
              1,
              "#f0f921"
             ]
            ],
            "type": "surface"
           }
          ],
          "table": [
           {
            "cells": {
             "fill": {
              "color": "#EBF0F8"
             },
             "line": {
              "color": "white"
             }
            },
            "header": {
             "fill": {
              "color": "#C8D4E3"
             },
             "line": {
              "color": "white"
             }
            },
            "type": "table"
           }
          ]
         },
         "layout": {
          "annotationdefaults": {
           "arrowcolor": "#2a3f5f",
           "arrowhead": 0,
           "arrowwidth": 1
          },
          "coloraxis": {
           "colorbar": {
            "outlinewidth": 0,
            "ticks": ""
           }
          },
          "colorscale": {
           "diverging": [
            [
             0,
             "#8e0152"
            ],
            [
             0.1,
             "#c51b7d"
            ],
            [
             0.2,
             "#de77ae"
            ],
            [
             0.3,
             "#f1b6da"
            ],
            [
             0.4,
             "#fde0ef"
            ],
            [
             0.5,
             "#f7f7f7"
            ],
            [
             0.6,
             "#e6f5d0"
            ],
            [
             0.7,
             "#b8e186"
            ],
            [
             0.8,
             "#7fbc41"
            ],
            [
             0.9,
             "#4d9221"
            ],
            [
             1,
             "#276419"
            ]
           ],
           "sequential": [
            [
             0,
             "#0d0887"
            ],
            [
             0.1111111111111111,
             "#46039f"
            ],
            [
             0.2222222222222222,
             "#7201a8"
            ],
            [
             0.3333333333333333,
             "#9c179e"
            ],
            [
             0.4444444444444444,
             "#bd3786"
            ],
            [
             0.5555555555555556,
             "#d8576b"
            ],
            [
             0.6666666666666666,
             "#ed7953"
            ],
            [
             0.7777777777777778,
             "#fb9f3a"
            ],
            [
             0.8888888888888888,
             "#fdca26"
            ],
            [
             1,
             "#f0f921"
            ]
           ],
           "sequentialminus": [
            [
             0,
             "#0d0887"
            ],
            [
             0.1111111111111111,
             "#46039f"
            ],
            [
             0.2222222222222222,
             "#7201a8"
            ],
            [
             0.3333333333333333,
             "#9c179e"
            ],
            [
             0.4444444444444444,
             "#bd3786"
            ],
            [
             0.5555555555555556,
             "#d8576b"
            ],
            [
             0.6666666666666666,
             "#ed7953"
            ],
            [
             0.7777777777777778,
             "#fb9f3a"
            ],
            [
             0.8888888888888888,
             "#fdca26"
            ],
            [
             1,
             "#f0f921"
            ]
           ]
          },
          "colorway": [
           "#636efa",
           "#EF553B",
           "#00cc96",
           "#ab63fa",
           "#FFA15A",
           "#19d3f3",
           "#FF6692",
           "#B6E880",
           "#FF97FF",
           "#FECB52"
          ],
          "font": {
           "color": "#2a3f5f"
          },
          "geo": {
           "bgcolor": "white",
           "lakecolor": "white",
           "landcolor": "#E5ECF6",
           "showlakes": true,
           "showland": true,
           "subunitcolor": "white"
          },
          "hoverlabel": {
           "align": "left"
          },
          "hovermode": "closest",
          "mapbox": {
           "style": "light"
          },
          "paper_bgcolor": "white",
          "plot_bgcolor": "#E5ECF6",
          "polar": {
           "angularaxis": {
            "gridcolor": "white",
            "linecolor": "white",
            "ticks": ""
           },
           "bgcolor": "#E5ECF6",
           "radialaxis": {
            "gridcolor": "white",
            "linecolor": "white",
            "ticks": ""
           }
          },
          "scene": {
           "xaxis": {
            "backgroundcolor": "#E5ECF6",
            "gridcolor": "white",
            "gridwidth": 2,
            "linecolor": "white",
            "showbackground": true,
            "ticks": "",
            "zerolinecolor": "white"
           },
           "yaxis": {
            "backgroundcolor": "#E5ECF6",
            "gridcolor": "white",
            "gridwidth": 2,
            "linecolor": "white",
            "showbackground": true,
            "ticks": "",
            "zerolinecolor": "white"
           },
           "zaxis": {
            "backgroundcolor": "#E5ECF6",
            "gridcolor": "white",
            "gridwidth": 2,
            "linecolor": "white",
            "showbackground": true,
            "ticks": "",
            "zerolinecolor": "white"
           }
          },
          "shapedefaults": {
           "line": {
            "color": "#2a3f5f"
           }
          },
          "ternary": {
           "aaxis": {
            "gridcolor": "white",
            "linecolor": "white",
            "ticks": ""
           },
           "baxis": {
            "gridcolor": "white",
            "linecolor": "white",
            "ticks": ""
           },
           "bgcolor": "#E5ECF6",
           "caxis": {
            "gridcolor": "white",
            "linecolor": "white",
            "ticks": ""
           }
          },
          "title": {
           "x": 0.05
          },
          "xaxis": {
           "automargin": true,
           "gridcolor": "white",
           "linecolor": "white",
           "ticks": "",
           "title": {
            "standoff": 15
           },
           "zerolinecolor": "white",
           "zerolinewidth": 2
          },
          "yaxis": {
           "automargin": true,
           "gridcolor": "white",
           "linecolor": "white",
           "ticks": "",
           "title": {
            "standoff": 15
           },
           "zerolinecolor": "white",
           "zerolinewidth": 2
          }
         }
        },
        "title": {
         "text": "car buying price distribution "
        }
       }
      },
      "text/html": [
       "<div>\n",
       "        \n",
       "        \n",
       "            <div id=\"f9a174cb-5c60-4d82-95e3-554786454bfe\" class=\"plotly-graph-div\" style=\"height:525px; width:100%;\"></div>\n",
       "            <script type=\"text/javascript\">\n",
       "                require([\"plotly\"], function(Plotly) {\n",
       "                    window.PLOTLYENV=window.PLOTLYENV || {};\n",
       "                    \n",
       "                if (document.getElementById(\"f9a174cb-5c60-4d82-95e3-554786454bfe\")) {\n",
       "                    Plotly.newPlot(\n",
       "                        'f9a174cb-5c60-4d82-95e3-554786454bfe',\n",
       "                        [{\"domain\": {\"x\": [0, 0.48]}, \"hole\": 0.6, \"hoverinfo\": \"label+percent+name\", \"labels\": [\"low\", \"med\", \"high\", \"vhigh\"], \"marker\": {\"line\": {\"color\": \"rgb(243,243,243)\", \"width\": 2}}, \"name\": \"car_class >= acc\", \"type\": \"pie\", \"values\": [174, 164, 108, 72]}, {\"domain\": {\"x\": [0.52, 1]}, \"hole\": 0.6, \"hoverinfo\": \"label+percent+name\", \"labels\": [\"vhigh\", \"high\", \"med\", \"low\"], \"marker\": {\"line\": {\"color\": \"rgb(243,243,243)\", \"width\": 2}}, \"name\": \"car_class == unacc\", \"type\": \"pie\", \"values\": [360, 324, 268, 258]}],\n",
       "                        {\"annotations\": [{\"font\": {\"size\": 13}, \"showarrow\": false, \"text\": \"car_class >= acc\", \"x\": 0.15, \"y\": 0.5}, {\"font\": {\"size\": 13}, \"showarrow\": false, \"text\": \"car_class == unacc\", \"x\": 0.88, \"y\": 0.5}], \"paper_bgcolor\": \"rgb(243,243,243)\", \"plot_bgcolor\": \"rgb(243,243,243)\", \"template\": {\"data\": {\"bar\": [{\"error_x\": {\"color\": \"#2a3f5f\"}, \"error_y\": {\"color\": \"#2a3f5f\"}, \"marker\": {\"line\": {\"color\": \"#E5ECF6\", \"width\": 0.5}}, \"type\": \"bar\"}], \"barpolar\": [{\"marker\": {\"line\": {\"color\": \"#E5ECF6\", \"width\": 0.5}}, \"type\": \"barpolar\"}], \"carpet\": [{\"aaxis\": {\"endlinecolor\": \"#2a3f5f\", \"gridcolor\": \"white\", \"linecolor\": \"white\", \"minorgridcolor\": \"white\", \"startlinecolor\": \"#2a3f5f\"}, \"baxis\": {\"endlinecolor\": \"#2a3f5f\", \"gridcolor\": \"white\", \"linecolor\": \"white\", \"minorgridcolor\": \"white\", \"startlinecolor\": \"#2a3f5f\"}, \"type\": \"carpet\"}], \"choropleth\": [{\"colorbar\": {\"outlinewidth\": 0, \"ticks\": \"\"}, \"type\": \"choropleth\"}], \"contour\": [{\"colorbar\": {\"outlinewidth\": 0, \"ticks\": \"\"}, \"colorscale\": [[0.0, \"#0d0887\"], [0.1111111111111111, \"#46039f\"], [0.2222222222222222, \"#7201a8\"], [0.3333333333333333, \"#9c179e\"], [0.4444444444444444, \"#bd3786\"], [0.5555555555555556, \"#d8576b\"], [0.6666666666666666, \"#ed7953\"], [0.7777777777777778, \"#fb9f3a\"], [0.8888888888888888, \"#fdca26\"], [1.0, \"#f0f921\"]], \"type\": \"contour\"}], \"contourcarpet\": [{\"colorbar\": {\"outlinewidth\": 0, \"ticks\": \"\"}, \"type\": \"contourcarpet\"}], \"heatmap\": [{\"colorbar\": {\"outlinewidth\": 0, \"ticks\": \"\"}, \"colorscale\": [[0.0, \"#0d0887\"], [0.1111111111111111, \"#46039f\"], [0.2222222222222222, \"#7201a8\"], [0.3333333333333333, \"#9c179e\"], [0.4444444444444444, \"#bd3786\"], [0.5555555555555556, \"#d8576b\"], [0.6666666666666666, \"#ed7953\"], [0.7777777777777778, \"#fb9f3a\"], [0.8888888888888888, \"#fdca26\"], [1.0, \"#f0f921\"]], \"type\": \"heatmap\"}], \"heatmapgl\": [{\"colorbar\": {\"outlinewidth\": 0, \"ticks\": \"\"}, \"colorscale\": [[0.0, \"#0d0887\"], [0.1111111111111111, \"#46039f\"], [0.2222222222222222, \"#7201a8\"], [0.3333333333333333, \"#9c179e\"], [0.4444444444444444, \"#bd3786\"], [0.5555555555555556, \"#d8576b\"], [0.6666666666666666, \"#ed7953\"], [0.7777777777777778, \"#fb9f3a\"], [0.8888888888888888, \"#fdca26\"], [1.0, \"#f0f921\"]], \"type\": \"heatmapgl\"}], \"histogram\": [{\"marker\": {\"colorbar\": {\"outlinewidth\": 0, \"ticks\": \"\"}}, \"type\": \"histogram\"}], \"histogram2d\": [{\"colorbar\": {\"outlinewidth\": 0, \"ticks\": \"\"}, \"colorscale\": [[0.0, \"#0d0887\"], [0.1111111111111111, \"#46039f\"], [0.2222222222222222, \"#7201a8\"], [0.3333333333333333, \"#9c179e\"], [0.4444444444444444, \"#bd3786\"], [0.5555555555555556, \"#d8576b\"], [0.6666666666666666, \"#ed7953\"], [0.7777777777777778, \"#fb9f3a\"], [0.8888888888888888, \"#fdca26\"], [1.0, \"#f0f921\"]], \"type\": \"histogram2d\"}], \"histogram2dcontour\": [{\"colorbar\": {\"outlinewidth\": 0, \"ticks\": \"\"}, \"colorscale\": [[0.0, \"#0d0887\"], [0.1111111111111111, \"#46039f\"], [0.2222222222222222, \"#7201a8\"], [0.3333333333333333, \"#9c179e\"], [0.4444444444444444, \"#bd3786\"], [0.5555555555555556, \"#d8576b\"], [0.6666666666666666, \"#ed7953\"], [0.7777777777777778, \"#fb9f3a\"], [0.8888888888888888, \"#fdca26\"], [1.0, \"#f0f921\"]], \"type\": \"histogram2dcontour\"}], \"mesh3d\": [{\"colorbar\": {\"outlinewidth\": 0, \"ticks\": \"\"}, \"type\": \"mesh3d\"}], \"parcoords\": [{\"line\": {\"colorbar\": {\"outlinewidth\": 0, \"ticks\": \"\"}}, \"type\": \"parcoords\"}], \"pie\": [{\"automargin\": true, \"type\": \"pie\"}], \"scatter\": [{\"marker\": {\"colorbar\": {\"outlinewidth\": 0, \"ticks\": \"\"}}, \"type\": \"scatter\"}], \"scatter3d\": [{\"line\": {\"colorbar\": {\"outlinewidth\": 0, \"ticks\": \"\"}}, \"marker\": {\"colorbar\": {\"outlinewidth\": 0, \"ticks\": \"\"}}, \"type\": \"scatter3d\"}], \"scattercarpet\": [{\"marker\": {\"colorbar\": {\"outlinewidth\": 0, \"ticks\": \"\"}}, \"type\": \"scattercarpet\"}], \"scattergeo\": [{\"marker\": {\"colorbar\": {\"outlinewidth\": 0, \"ticks\": \"\"}}, \"type\": \"scattergeo\"}], \"scattergl\": [{\"marker\": {\"colorbar\": {\"outlinewidth\": 0, \"ticks\": \"\"}}, \"type\": \"scattergl\"}], \"scattermapbox\": [{\"marker\": {\"colorbar\": {\"outlinewidth\": 0, \"ticks\": \"\"}}, \"type\": \"scattermapbox\"}], \"scatterpolar\": [{\"marker\": {\"colorbar\": {\"outlinewidth\": 0, \"ticks\": \"\"}}, \"type\": \"scatterpolar\"}], \"scatterpolargl\": [{\"marker\": {\"colorbar\": {\"outlinewidth\": 0, \"ticks\": \"\"}}, \"type\": \"scatterpolargl\"}], \"scatterternary\": [{\"marker\": {\"colorbar\": {\"outlinewidth\": 0, \"ticks\": \"\"}}, \"type\": \"scatterternary\"}], \"surface\": [{\"colorbar\": {\"outlinewidth\": 0, \"ticks\": \"\"}, \"colorscale\": [[0.0, \"#0d0887\"], [0.1111111111111111, \"#46039f\"], [0.2222222222222222, \"#7201a8\"], [0.3333333333333333, \"#9c179e\"], [0.4444444444444444, \"#bd3786\"], [0.5555555555555556, \"#d8576b\"], [0.6666666666666666, \"#ed7953\"], [0.7777777777777778, \"#fb9f3a\"], [0.8888888888888888, \"#fdca26\"], [1.0, \"#f0f921\"]], \"type\": \"surface\"}], \"table\": [{\"cells\": {\"fill\": {\"color\": \"#EBF0F8\"}, \"line\": {\"color\": \"white\"}}, \"header\": {\"fill\": {\"color\": \"#C8D4E3\"}, \"line\": {\"color\": \"white\"}}, \"type\": \"table\"}]}, \"layout\": {\"annotationdefaults\": {\"arrowcolor\": \"#2a3f5f\", \"arrowhead\": 0, \"arrowwidth\": 1}, \"coloraxis\": {\"colorbar\": {\"outlinewidth\": 0, \"ticks\": \"\"}}, \"colorscale\": {\"diverging\": [[0, \"#8e0152\"], [0.1, \"#c51b7d\"], [0.2, \"#de77ae\"], [0.3, \"#f1b6da\"], [0.4, \"#fde0ef\"], [0.5, \"#f7f7f7\"], [0.6, \"#e6f5d0\"], [0.7, \"#b8e186\"], [0.8, \"#7fbc41\"], [0.9, \"#4d9221\"], [1, \"#276419\"]], \"sequential\": [[0.0, \"#0d0887\"], [0.1111111111111111, \"#46039f\"], [0.2222222222222222, \"#7201a8\"], [0.3333333333333333, \"#9c179e\"], [0.4444444444444444, \"#bd3786\"], [0.5555555555555556, \"#d8576b\"], [0.6666666666666666, \"#ed7953\"], [0.7777777777777778, \"#fb9f3a\"], [0.8888888888888888, \"#fdca26\"], [1.0, \"#f0f921\"]], \"sequentialminus\": [[0.0, \"#0d0887\"], [0.1111111111111111, \"#46039f\"], [0.2222222222222222, \"#7201a8\"], [0.3333333333333333, \"#9c179e\"], [0.4444444444444444, \"#bd3786\"], [0.5555555555555556, \"#d8576b\"], [0.6666666666666666, \"#ed7953\"], [0.7777777777777778, \"#fb9f3a\"], [0.8888888888888888, \"#fdca26\"], [1.0, \"#f0f921\"]]}, \"colorway\": [\"#636efa\", \"#EF553B\", \"#00cc96\", \"#ab63fa\", \"#FFA15A\", \"#19d3f3\", \"#FF6692\", \"#B6E880\", \"#FF97FF\", \"#FECB52\"], \"font\": {\"color\": \"#2a3f5f\"}, \"geo\": {\"bgcolor\": \"white\", \"lakecolor\": \"white\", \"landcolor\": \"#E5ECF6\", \"showlakes\": true, \"showland\": true, \"subunitcolor\": \"white\"}, \"hoverlabel\": {\"align\": \"left\"}, \"hovermode\": \"closest\", \"mapbox\": {\"style\": \"light\"}, \"paper_bgcolor\": \"white\", \"plot_bgcolor\": \"#E5ECF6\", \"polar\": {\"angularaxis\": {\"gridcolor\": \"white\", \"linecolor\": \"white\", \"ticks\": \"\"}, \"bgcolor\": \"#E5ECF6\", \"radialaxis\": {\"gridcolor\": \"white\", \"linecolor\": \"white\", \"ticks\": \"\"}}, \"scene\": {\"xaxis\": {\"backgroundcolor\": \"#E5ECF6\", \"gridcolor\": \"white\", \"gridwidth\": 2, \"linecolor\": \"white\", \"showbackground\": true, \"ticks\": \"\", \"zerolinecolor\": \"white\"}, \"yaxis\": {\"backgroundcolor\": \"#E5ECF6\", \"gridcolor\": \"white\", \"gridwidth\": 2, \"linecolor\": \"white\", \"showbackground\": true, \"ticks\": \"\", \"zerolinecolor\": \"white\"}, \"zaxis\": {\"backgroundcolor\": \"#E5ECF6\", \"gridcolor\": \"white\", \"gridwidth\": 2, \"linecolor\": \"white\", \"showbackground\": true, \"ticks\": \"\", \"zerolinecolor\": \"white\"}}, \"shapedefaults\": {\"line\": {\"color\": \"#2a3f5f\"}}, \"ternary\": {\"aaxis\": {\"gridcolor\": \"white\", \"linecolor\": \"white\", \"ticks\": \"\"}, \"baxis\": {\"gridcolor\": \"white\", \"linecolor\": \"white\", \"ticks\": \"\"}, \"bgcolor\": \"#E5ECF6\", \"caxis\": {\"gridcolor\": \"white\", \"linecolor\": \"white\", \"ticks\": \"\"}}, \"title\": {\"x\": 0.05}, \"xaxis\": {\"automargin\": true, \"gridcolor\": \"white\", \"linecolor\": \"white\", \"ticks\": \"\", \"title\": {\"standoff\": 15}, \"zerolinecolor\": \"white\", \"zerolinewidth\": 2}, \"yaxis\": {\"automargin\": true, \"gridcolor\": \"white\", \"linecolor\": \"white\", \"ticks\": \"\", \"title\": {\"standoff\": 15}, \"zerolinecolor\": \"white\", \"zerolinewidth\": 2}}}, \"title\": {\"text\": \"car buying price distribution \"}},\n",
       "                        {\"responsive\": true}\n",
       "                    ).then(function(){\n",
       "                            \n",
       "var gd = document.getElementById('f9a174cb-5c60-4d82-95e3-554786454bfe');\n",
       "var x = new MutationObserver(function (mutations, observer) {{\n",
       "        var display = window.getComputedStyle(gd).display;\n",
       "        if (!display || display === 'none') {{\n",
       "            console.log([gd, 'removed!']);\n",
       "            Plotly.purge(gd);\n",
       "            observer.disconnect();\n",
       "        }}\n",
       "}});\n",
       "\n",
       "// Listen for the removal of the full notebook cells\n",
       "var notebookContainer = gd.closest('#notebook-container');\n",
       "if (notebookContainer) {{\n",
       "    x.observe(notebookContainer, {childList: true});\n",
       "}}\n",
       "\n",
       "// Listen for the clearing of the current output cell\n",
       "var outputEl = gd.closest('.output');\n",
       "if (outputEl) {{\n",
       "    x.observe(outputEl, {childList: true});\n",
       "}}\n",
       "\n",
       "                        })\n",
       "                };\n",
       "                });\n",
       "            </script>\n",
       "        </div>"
      ]
     },
     "metadata": {},
     "output_type": "display_data"
    },
    {
     "data": {
      "application/vnd.plotly.v1+json": {
       "config": {
        "linkText": "Export to plot.ly",
        "plotlyServerURL": "https://plot.ly",
        "showLink": false
       },
       "data": [
        {
         "domain": {
          "x": [
           0,
           0.48
          ]
         },
         "hole": 0.6,
         "hoverinfo": "label+percent+name",
         "labels": [
          "med",
          "low",
          "high",
          "vhigh"
         ],
         "marker": {
          "line": {
           "color": "rgb(243,243,243)",
           "width": 2
          }
         },
         "name": "car_class >= acc",
         "type": "pie",
         "values": [
          164,
          164,
          118,
          72
         ]
        },
        {
         "domain": {
          "x": [
           0.52,
           1
          ]
         },
         "hole": 0.6,
         "hoverinfo": "label+percent+name",
         "labels": [
          "vhigh",
          "high",
          "med",
          "low"
         ],
         "marker": {
          "line": {
           "color": "rgb(243,243,243)",
           "width": 2
          }
         },
         "name": "car_class == unacc",
         "type": "pie",
         "values": [
          360,
          314,
          268,
          268
         ]
        }
       ],
       "layout": {
        "annotations": [
         {
          "font": {
           "size": 13
          },
          "showarrow": false,
          "text": "car_class >= acc",
          "x": 0.15,
          "y": 0.5
         },
         {
          "font": {
           "size": 13
          },
          "showarrow": false,
          "text": "car_class == unacc",
          "x": 0.88,
          "y": 0.5
         }
        ],
        "paper_bgcolor": "rgb(243,243,243)",
        "plot_bgcolor": "rgb(243,243,243)",
        "template": {
         "data": {
          "bar": [
           {
            "error_x": {
             "color": "#2a3f5f"
            },
            "error_y": {
             "color": "#2a3f5f"
            },
            "marker": {
             "line": {
              "color": "#E5ECF6",
              "width": 0.5
             }
            },
            "type": "bar"
           }
          ],
          "barpolar": [
           {
            "marker": {
             "line": {
              "color": "#E5ECF6",
              "width": 0.5
             }
            },
            "type": "barpolar"
           }
          ],
          "carpet": [
           {
            "aaxis": {
             "endlinecolor": "#2a3f5f",
             "gridcolor": "white",
             "linecolor": "white",
             "minorgridcolor": "white",
             "startlinecolor": "#2a3f5f"
            },
            "baxis": {
             "endlinecolor": "#2a3f5f",
             "gridcolor": "white",
             "linecolor": "white",
             "minorgridcolor": "white",
             "startlinecolor": "#2a3f5f"
            },
            "type": "carpet"
           }
          ],
          "choropleth": [
           {
            "colorbar": {
             "outlinewidth": 0,
             "ticks": ""
            },
            "type": "choropleth"
           }
          ],
          "contour": [
           {
            "colorbar": {
             "outlinewidth": 0,
             "ticks": ""
            },
            "colorscale": [
             [
              0,
              "#0d0887"
             ],
             [
              0.1111111111111111,
              "#46039f"
             ],
             [
              0.2222222222222222,
              "#7201a8"
             ],
             [
              0.3333333333333333,
              "#9c179e"
             ],
             [
              0.4444444444444444,
              "#bd3786"
             ],
             [
              0.5555555555555556,
              "#d8576b"
             ],
             [
              0.6666666666666666,
              "#ed7953"
             ],
             [
              0.7777777777777778,
              "#fb9f3a"
             ],
             [
              0.8888888888888888,
              "#fdca26"
             ],
             [
              1,
              "#f0f921"
             ]
            ],
            "type": "contour"
           }
          ],
          "contourcarpet": [
           {
            "colorbar": {
             "outlinewidth": 0,
             "ticks": ""
            },
            "type": "contourcarpet"
           }
          ],
          "heatmap": [
           {
            "colorbar": {
             "outlinewidth": 0,
             "ticks": ""
            },
            "colorscale": [
             [
              0,
              "#0d0887"
             ],
             [
              0.1111111111111111,
              "#46039f"
             ],
             [
              0.2222222222222222,
              "#7201a8"
             ],
             [
              0.3333333333333333,
              "#9c179e"
             ],
             [
              0.4444444444444444,
              "#bd3786"
             ],
             [
              0.5555555555555556,
              "#d8576b"
             ],
             [
              0.6666666666666666,
              "#ed7953"
             ],
             [
              0.7777777777777778,
              "#fb9f3a"
             ],
             [
              0.8888888888888888,
              "#fdca26"
             ],
             [
              1,
              "#f0f921"
             ]
            ],
            "type": "heatmap"
           }
          ],
          "heatmapgl": [
           {
            "colorbar": {
             "outlinewidth": 0,
             "ticks": ""
            },
            "colorscale": [
             [
              0,
              "#0d0887"
             ],
             [
              0.1111111111111111,
              "#46039f"
             ],
             [
              0.2222222222222222,
              "#7201a8"
             ],
             [
              0.3333333333333333,
              "#9c179e"
             ],
             [
              0.4444444444444444,
              "#bd3786"
             ],
             [
              0.5555555555555556,
              "#d8576b"
             ],
             [
              0.6666666666666666,
              "#ed7953"
             ],
             [
              0.7777777777777778,
              "#fb9f3a"
             ],
             [
              0.8888888888888888,
              "#fdca26"
             ],
             [
              1,
              "#f0f921"
             ]
            ],
            "type": "heatmapgl"
           }
          ],
          "histogram": [
           {
            "marker": {
             "colorbar": {
              "outlinewidth": 0,
              "ticks": ""
             }
            },
            "type": "histogram"
           }
          ],
          "histogram2d": [
           {
            "colorbar": {
             "outlinewidth": 0,
             "ticks": ""
            },
            "colorscale": [
             [
              0,
              "#0d0887"
             ],
             [
              0.1111111111111111,
              "#46039f"
             ],
             [
              0.2222222222222222,
              "#7201a8"
             ],
             [
              0.3333333333333333,
              "#9c179e"
             ],
             [
              0.4444444444444444,
              "#bd3786"
             ],
             [
              0.5555555555555556,
              "#d8576b"
             ],
             [
              0.6666666666666666,
              "#ed7953"
             ],
             [
              0.7777777777777778,
              "#fb9f3a"
             ],
             [
              0.8888888888888888,
              "#fdca26"
             ],
             [
              1,
              "#f0f921"
             ]
            ],
            "type": "histogram2d"
           }
          ],
          "histogram2dcontour": [
           {
            "colorbar": {
             "outlinewidth": 0,
             "ticks": ""
            },
            "colorscale": [
             [
              0,
              "#0d0887"
             ],
             [
              0.1111111111111111,
              "#46039f"
             ],
             [
              0.2222222222222222,
              "#7201a8"
             ],
             [
              0.3333333333333333,
              "#9c179e"
             ],
             [
              0.4444444444444444,
              "#bd3786"
             ],
             [
              0.5555555555555556,
              "#d8576b"
             ],
             [
              0.6666666666666666,
              "#ed7953"
             ],
             [
              0.7777777777777778,
              "#fb9f3a"
             ],
             [
              0.8888888888888888,
              "#fdca26"
             ],
             [
              1,
              "#f0f921"
             ]
            ],
            "type": "histogram2dcontour"
           }
          ],
          "mesh3d": [
           {
            "colorbar": {
             "outlinewidth": 0,
             "ticks": ""
            },
            "type": "mesh3d"
           }
          ],
          "parcoords": [
           {
            "line": {
             "colorbar": {
              "outlinewidth": 0,
              "ticks": ""
             }
            },
            "type": "parcoords"
           }
          ],
          "pie": [
           {
            "automargin": true,
            "type": "pie"
           }
          ],
          "scatter": [
           {
            "marker": {
             "colorbar": {
              "outlinewidth": 0,
              "ticks": ""
             }
            },
            "type": "scatter"
           }
          ],
          "scatter3d": [
           {
            "line": {
             "colorbar": {
              "outlinewidth": 0,
              "ticks": ""
             }
            },
            "marker": {
             "colorbar": {
              "outlinewidth": 0,
              "ticks": ""
             }
            },
            "type": "scatter3d"
           }
          ],
          "scattercarpet": [
           {
            "marker": {
             "colorbar": {
              "outlinewidth": 0,
              "ticks": ""
             }
            },
            "type": "scattercarpet"
           }
          ],
          "scattergeo": [
           {
            "marker": {
             "colorbar": {
              "outlinewidth": 0,
              "ticks": ""
             }
            },
            "type": "scattergeo"
           }
          ],
          "scattergl": [
           {
            "marker": {
             "colorbar": {
              "outlinewidth": 0,
              "ticks": ""
             }
            },
            "type": "scattergl"
           }
          ],
          "scattermapbox": [
           {
            "marker": {
             "colorbar": {
              "outlinewidth": 0,
              "ticks": ""
             }
            },
            "type": "scattermapbox"
           }
          ],
          "scatterpolar": [
           {
            "marker": {
             "colorbar": {
              "outlinewidth": 0,
              "ticks": ""
             }
            },
            "type": "scatterpolar"
           }
          ],
          "scatterpolargl": [
           {
            "marker": {
             "colorbar": {
              "outlinewidth": 0,
              "ticks": ""
             }
            },
            "type": "scatterpolargl"
           }
          ],
          "scatterternary": [
           {
            "marker": {
             "colorbar": {
              "outlinewidth": 0,
              "ticks": ""
             }
            },
            "type": "scatterternary"
           }
          ],
          "surface": [
           {
            "colorbar": {
             "outlinewidth": 0,
             "ticks": ""
            },
            "colorscale": [
             [
              0,
              "#0d0887"
             ],
             [
              0.1111111111111111,
              "#46039f"
             ],
             [
              0.2222222222222222,
              "#7201a8"
             ],
             [
              0.3333333333333333,
              "#9c179e"
             ],
             [
              0.4444444444444444,
              "#bd3786"
             ],
             [
              0.5555555555555556,
              "#d8576b"
             ],
             [
              0.6666666666666666,
              "#ed7953"
             ],
             [
              0.7777777777777778,
              "#fb9f3a"
             ],
             [
              0.8888888888888888,
              "#fdca26"
             ],
             [
              1,
              "#f0f921"
             ]
            ],
            "type": "surface"
           }
          ],
          "table": [
           {
            "cells": {
             "fill": {
              "color": "#EBF0F8"
             },
             "line": {
              "color": "white"
             }
            },
            "header": {
             "fill": {
              "color": "#C8D4E3"
             },
             "line": {
              "color": "white"
             }
            },
            "type": "table"
           }
          ]
         },
         "layout": {
          "annotationdefaults": {
           "arrowcolor": "#2a3f5f",
           "arrowhead": 0,
           "arrowwidth": 1
          },
          "coloraxis": {
           "colorbar": {
            "outlinewidth": 0,
            "ticks": ""
           }
          },
          "colorscale": {
           "diverging": [
            [
             0,
             "#8e0152"
            ],
            [
             0.1,
             "#c51b7d"
            ],
            [
             0.2,
             "#de77ae"
            ],
            [
             0.3,
             "#f1b6da"
            ],
            [
             0.4,
             "#fde0ef"
            ],
            [
             0.5,
             "#f7f7f7"
            ],
            [
             0.6,
             "#e6f5d0"
            ],
            [
             0.7,
             "#b8e186"
            ],
            [
             0.8,
             "#7fbc41"
            ],
            [
             0.9,
             "#4d9221"
            ],
            [
             1,
             "#276419"
            ]
           ],
           "sequential": [
            [
             0,
             "#0d0887"
            ],
            [
             0.1111111111111111,
             "#46039f"
            ],
            [
             0.2222222222222222,
             "#7201a8"
            ],
            [
             0.3333333333333333,
             "#9c179e"
            ],
            [
             0.4444444444444444,
             "#bd3786"
            ],
            [
             0.5555555555555556,
             "#d8576b"
            ],
            [
             0.6666666666666666,
             "#ed7953"
            ],
            [
             0.7777777777777778,
             "#fb9f3a"
            ],
            [
             0.8888888888888888,
             "#fdca26"
            ],
            [
             1,
             "#f0f921"
            ]
           ],
           "sequentialminus": [
            [
             0,
             "#0d0887"
            ],
            [
             0.1111111111111111,
             "#46039f"
            ],
            [
             0.2222222222222222,
             "#7201a8"
            ],
            [
             0.3333333333333333,
             "#9c179e"
            ],
            [
             0.4444444444444444,
             "#bd3786"
            ],
            [
             0.5555555555555556,
             "#d8576b"
            ],
            [
             0.6666666666666666,
             "#ed7953"
            ],
            [
             0.7777777777777778,
             "#fb9f3a"
            ],
            [
             0.8888888888888888,
             "#fdca26"
            ],
            [
             1,
             "#f0f921"
            ]
           ]
          },
          "colorway": [
           "#636efa",
           "#EF553B",
           "#00cc96",
           "#ab63fa",
           "#FFA15A",
           "#19d3f3",
           "#FF6692",
           "#B6E880",
           "#FF97FF",
           "#FECB52"
          ],
          "font": {
           "color": "#2a3f5f"
          },
          "geo": {
           "bgcolor": "white",
           "lakecolor": "white",
           "landcolor": "#E5ECF6",
           "showlakes": true,
           "showland": true,
           "subunitcolor": "white"
          },
          "hoverlabel": {
           "align": "left"
          },
          "hovermode": "closest",
          "mapbox": {
           "style": "light"
          },
          "paper_bgcolor": "white",
          "plot_bgcolor": "#E5ECF6",
          "polar": {
           "angularaxis": {
            "gridcolor": "white",
            "linecolor": "white",
            "ticks": ""
           },
           "bgcolor": "#E5ECF6",
           "radialaxis": {
            "gridcolor": "white",
            "linecolor": "white",
            "ticks": ""
           }
          },
          "scene": {
           "xaxis": {
            "backgroundcolor": "#E5ECF6",
            "gridcolor": "white",
            "gridwidth": 2,
            "linecolor": "white",
            "showbackground": true,
            "ticks": "",
            "zerolinecolor": "white"
           },
           "yaxis": {
            "backgroundcolor": "#E5ECF6",
            "gridcolor": "white",
            "gridwidth": 2,
            "linecolor": "white",
            "showbackground": true,
            "ticks": "",
            "zerolinecolor": "white"
           },
           "zaxis": {
            "backgroundcolor": "#E5ECF6",
            "gridcolor": "white",
            "gridwidth": 2,
            "linecolor": "white",
            "showbackground": true,
            "ticks": "",
            "zerolinecolor": "white"
           }
          },
          "shapedefaults": {
           "line": {
            "color": "#2a3f5f"
           }
          },
          "ternary": {
           "aaxis": {
            "gridcolor": "white",
            "linecolor": "white",
            "ticks": ""
           },
           "baxis": {
            "gridcolor": "white",
            "linecolor": "white",
            "ticks": ""
           },
           "bgcolor": "#E5ECF6",
           "caxis": {
            "gridcolor": "white",
            "linecolor": "white",
            "ticks": ""
           }
          },
          "title": {
           "x": 0.05
          },
          "xaxis": {
           "automargin": true,
           "gridcolor": "white",
           "linecolor": "white",
           "ticks": "",
           "title": {
            "standoff": 15
           },
           "zerolinecolor": "white",
           "zerolinewidth": 2
          },
          "yaxis": {
           "automargin": true,
           "gridcolor": "white",
           "linecolor": "white",
           "ticks": "",
           "title": {
            "standoff": 15
           },
           "zerolinecolor": "white",
           "zerolinewidth": 2
          }
         }
        },
        "title": {
         "text": "price of the maintenance distribution "
        }
       }
      },
      "text/html": [
       "<div>\n",
       "        \n",
       "        \n",
       "            <div id=\"029c8157-8008-43f1-9274-18ebc71e8c32\" class=\"plotly-graph-div\" style=\"height:525px; width:100%;\"></div>\n",
       "            <script type=\"text/javascript\">\n",
       "                require([\"plotly\"], function(Plotly) {\n",
       "                    window.PLOTLYENV=window.PLOTLYENV || {};\n",
       "                    \n",
       "                if (document.getElementById(\"029c8157-8008-43f1-9274-18ebc71e8c32\")) {\n",
       "                    Plotly.newPlot(\n",
       "                        '029c8157-8008-43f1-9274-18ebc71e8c32',\n",
       "                        [{\"domain\": {\"x\": [0, 0.48]}, \"hole\": 0.6, \"hoverinfo\": \"label+percent+name\", \"labels\": [\"med\", \"low\", \"high\", \"vhigh\"], \"marker\": {\"line\": {\"color\": \"rgb(243,243,243)\", \"width\": 2}}, \"name\": \"car_class >= acc\", \"type\": \"pie\", \"values\": [164, 164, 118, 72]}, {\"domain\": {\"x\": [0.52, 1]}, \"hole\": 0.6, \"hoverinfo\": \"label+percent+name\", \"labels\": [\"vhigh\", \"high\", \"med\", \"low\"], \"marker\": {\"line\": {\"color\": \"rgb(243,243,243)\", \"width\": 2}}, \"name\": \"car_class == unacc\", \"type\": \"pie\", \"values\": [360, 314, 268, 268]}],\n",
       "                        {\"annotations\": [{\"font\": {\"size\": 13}, \"showarrow\": false, \"text\": \"car_class >= acc\", \"x\": 0.15, \"y\": 0.5}, {\"font\": {\"size\": 13}, \"showarrow\": false, \"text\": \"car_class == unacc\", \"x\": 0.88, \"y\": 0.5}], \"paper_bgcolor\": \"rgb(243,243,243)\", \"plot_bgcolor\": \"rgb(243,243,243)\", \"template\": {\"data\": {\"bar\": [{\"error_x\": {\"color\": \"#2a3f5f\"}, \"error_y\": {\"color\": \"#2a3f5f\"}, \"marker\": {\"line\": {\"color\": \"#E5ECF6\", \"width\": 0.5}}, \"type\": \"bar\"}], \"barpolar\": [{\"marker\": {\"line\": {\"color\": \"#E5ECF6\", \"width\": 0.5}}, \"type\": \"barpolar\"}], \"carpet\": [{\"aaxis\": {\"endlinecolor\": \"#2a3f5f\", \"gridcolor\": \"white\", \"linecolor\": \"white\", \"minorgridcolor\": \"white\", \"startlinecolor\": \"#2a3f5f\"}, \"baxis\": {\"endlinecolor\": \"#2a3f5f\", \"gridcolor\": \"white\", \"linecolor\": \"white\", \"minorgridcolor\": \"white\", \"startlinecolor\": \"#2a3f5f\"}, \"type\": \"carpet\"}], \"choropleth\": [{\"colorbar\": {\"outlinewidth\": 0, \"ticks\": \"\"}, \"type\": \"choropleth\"}], \"contour\": [{\"colorbar\": {\"outlinewidth\": 0, \"ticks\": \"\"}, \"colorscale\": [[0.0, \"#0d0887\"], [0.1111111111111111, \"#46039f\"], [0.2222222222222222, \"#7201a8\"], [0.3333333333333333, \"#9c179e\"], [0.4444444444444444, \"#bd3786\"], [0.5555555555555556, \"#d8576b\"], [0.6666666666666666, \"#ed7953\"], [0.7777777777777778, \"#fb9f3a\"], [0.8888888888888888, \"#fdca26\"], [1.0, \"#f0f921\"]], \"type\": \"contour\"}], \"contourcarpet\": [{\"colorbar\": {\"outlinewidth\": 0, \"ticks\": \"\"}, \"type\": \"contourcarpet\"}], \"heatmap\": [{\"colorbar\": {\"outlinewidth\": 0, \"ticks\": \"\"}, \"colorscale\": [[0.0, \"#0d0887\"], [0.1111111111111111, \"#46039f\"], [0.2222222222222222, \"#7201a8\"], [0.3333333333333333, \"#9c179e\"], [0.4444444444444444, \"#bd3786\"], [0.5555555555555556, \"#d8576b\"], [0.6666666666666666, \"#ed7953\"], [0.7777777777777778, \"#fb9f3a\"], [0.8888888888888888, \"#fdca26\"], [1.0, \"#f0f921\"]], \"type\": \"heatmap\"}], \"heatmapgl\": [{\"colorbar\": {\"outlinewidth\": 0, \"ticks\": \"\"}, \"colorscale\": [[0.0, \"#0d0887\"], [0.1111111111111111, \"#46039f\"], [0.2222222222222222, \"#7201a8\"], [0.3333333333333333, \"#9c179e\"], [0.4444444444444444, \"#bd3786\"], [0.5555555555555556, \"#d8576b\"], [0.6666666666666666, \"#ed7953\"], [0.7777777777777778, \"#fb9f3a\"], [0.8888888888888888, \"#fdca26\"], [1.0, \"#f0f921\"]], \"type\": \"heatmapgl\"}], \"histogram\": [{\"marker\": {\"colorbar\": {\"outlinewidth\": 0, \"ticks\": \"\"}}, \"type\": \"histogram\"}], \"histogram2d\": [{\"colorbar\": {\"outlinewidth\": 0, \"ticks\": \"\"}, \"colorscale\": [[0.0, \"#0d0887\"], [0.1111111111111111, \"#46039f\"], [0.2222222222222222, \"#7201a8\"], [0.3333333333333333, \"#9c179e\"], [0.4444444444444444, \"#bd3786\"], [0.5555555555555556, \"#d8576b\"], [0.6666666666666666, \"#ed7953\"], [0.7777777777777778, \"#fb9f3a\"], [0.8888888888888888, \"#fdca26\"], [1.0, \"#f0f921\"]], \"type\": \"histogram2d\"}], \"histogram2dcontour\": [{\"colorbar\": {\"outlinewidth\": 0, \"ticks\": \"\"}, \"colorscale\": [[0.0, \"#0d0887\"], [0.1111111111111111, \"#46039f\"], [0.2222222222222222, \"#7201a8\"], [0.3333333333333333, \"#9c179e\"], [0.4444444444444444, \"#bd3786\"], [0.5555555555555556, \"#d8576b\"], [0.6666666666666666, \"#ed7953\"], [0.7777777777777778, \"#fb9f3a\"], [0.8888888888888888, \"#fdca26\"], [1.0, \"#f0f921\"]], \"type\": \"histogram2dcontour\"}], \"mesh3d\": [{\"colorbar\": {\"outlinewidth\": 0, \"ticks\": \"\"}, \"type\": \"mesh3d\"}], \"parcoords\": [{\"line\": {\"colorbar\": {\"outlinewidth\": 0, \"ticks\": \"\"}}, \"type\": \"parcoords\"}], \"pie\": [{\"automargin\": true, \"type\": \"pie\"}], \"scatter\": [{\"marker\": {\"colorbar\": {\"outlinewidth\": 0, \"ticks\": \"\"}}, \"type\": \"scatter\"}], \"scatter3d\": [{\"line\": {\"colorbar\": {\"outlinewidth\": 0, \"ticks\": \"\"}}, \"marker\": {\"colorbar\": {\"outlinewidth\": 0, \"ticks\": \"\"}}, \"type\": \"scatter3d\"}], \"scattercarpet\": [{\"marker\": {\"colorbar\": {\"outlinewidth\": 0, \"ticks\": \"\"}}, \"type\": \"scattercarpet\"}], \"scattergeo\": [{\"marker\": {\"colorbar\": {\"outlinewidth\": 0, \"ticks\": \"\"}}, \"type\": \"scattergeo\"}], \"scattergl\": [{\"marker\": {\"colorbar\": {\"outlinewidth\": 0, \"ticks\": \"\"}}, \"type\": \"scattergl\"}], \"scattermapbox\": [{\"marker\": {\"colorbar\": {\"outlinewidth\": 0, \"ticks\": \"\"}}, \"type\": \"scattermapbox\"}], \"scatterpolar\": [{\"marker\": {\"colorbar\": {\"outlinewidth\": 0, \"ticks\": \"\"}}, \"type\": \"scatterpolar\"}], \"scatterpolargl\": [{\"marker\": {\"colorbar\": {\"outlinewidth\": 0, \"ticks\": \"\"}}, \"type\": \"scatterpolargl\"}], \"scatterternary\": [{\"marker\": {\"colorbar\": {\"outlinewidth\": 0, \"ticks\": \"\"}}, \"type\": \"scatterternary\"}], \"surface\": [{\"colorbar\": {\"outlinewidth\": 0, \"ticks\": \"\"}, \"colorscale\": [[0.0, \"#0d0887\"], [0.1111111111111111, \"#46039f\"], [0.2222222222222222, \"#7201a8\"], [0.3333333333333333, \"#9c179e\"], [0.4444444444444444, \"#bd3786\"], [0.5555555555555556, \"#d8576b\"], [0.6666666666666666, \"#ed7953\"], [0.7777777777777778, \"#fb9f3a\"], [0.8888888888888888, \"#fdca26\"], [1.0, \"#f0f921\"]], \"type\": \"surface\"}], \"table\": [{\"cells\": {\"fill\": {\"color\": \"#EBF0F8\"}, \"line\": {\"color\": \"white\"}}, \"header\": {\"fill\": {\"color\": \"#C8D4E3\"}, \"line\": {\"color\": \"white\"}}, \"type\": \"table\"}]}, \"layout\": {\"annotationdefaults\": {\"arrowcolor\": \"#2a3f5f\", \"arrowhead\": 0, \"arrowwidth\": 1}, \"coloraxis\": {\"colorbar\": {\"outlinewidth\": 0, \"ticks\": \"\"}}, \"colorscale\": {\"diverging\": [[0, \"#8e0152\"], [0.1, \"#c51b7d\"], [0.2, \"#de77ae\"], [0.3, \"#f1b6da\"], [0.4, \"#fde0ef\"], [0.5, \"#f7f7f7\"], [0.6, \"#e6f5d0\"], [0.7, \"#b8e186\"], [0.8, \"#7fbc41\"], [0.9, \"#4d9221\"], [1, \"#276419\"]], \"sequential\": [[0.0, \"#0d0887\"], [0.1111111111111111, \"#46039f\"], [0.2222222222222222, \"#7201a8\"], [0.3333333333333333, \"#9c179e\"], [0.4444444444444444, \"#bd3786\"], [0.5555555555555556, \"#d8576b\"], [0.6666666666666666, \"#ed7953\"], [0.7777777777777778, \"#fb9f3a\"], [0.8888888888888888, \"#fdca26\"], [1.0, \"#f0f921\"]], \"sequentialminus\": [[0.0, \"#0d0887\"], [0.1111111111111111, \"#46039f\"], [0.2222222222222222, \"#7201a8\"], [0.3333333333333333, \"#9c179e\"], [0.4444444444444444, \"#bd3786\"], [0.5555555555555556, \"#d8576b\"], [0.6666666666666666, \"#ed7953\"], [0.7777777777777778, \"#fb9f3a\"], [0.8888888888888888, \"#fdca26\"], [1.0, \"#f0f921\"]]}, \"colorway\": [\"#636efa\", \"#EF553B\", \"#00cc96\", \"#ab63fa\", \"#FFA15A\", \"#19d3f3\", \"#FF6692\", \"#B6E880\", \"#FF97FF\", \"#FECB52\"], \"font\": {\"color\": \"#2a3f5f\"}, \"geo\": {\"bgcolor\": \"white\", \"lakecolor\": \"white\", \"landcolor\": \"#E5ECF6\", \"showlakes\": true, \"showland\": true, \"subunitcolor\": \"white\"}, \"hoverlabel\": {\"align\": \"left\"}, \"hovermode\": \"closest\", \"mapbox\": {\"style\": \"light\"}, \"paper_bgcolor\": \"white\", \"plot_bgcolor\": \"#E5ECF6\", \"polar\": {\"angularaxis\": {\"gridcolor\": \"white\", \"linecolor\": \"white\", \"ticks\": \"\"}, \"bgcolor\": \"#E5ECF6\", \"radialaxis\": {\"gridcolor\": \"white\", \"linecolor\": \"white\", \"ticks\": \"\"}}, \"scene\": {\"xaxis\": {\"backgroundcolor\": \"#E5ECF6\", \"gridcolor\": \"white\", \"gridwidth\": 2, \"linecolor\": \"white\", \"showbackground\": true, \"ticks\": \"\", \"zerolinecolor\": \"white\"}, \"yaxis\": {\"backgroundcolor\": \"#E5ECF6\", \"gridcolor\": \"white\", \"gridwidth\": 2, \"linecolor\": \"white\", \"showbackground\": true, \"ticks\": \"\", \"zerolinecolor\": \"white\"}, \"zaxis\": {\"backgroundcolor\": \"#E5ECF6\", \"gridcolor\": \"white\", \"gridwidth\": 2, \"linecolor\": \"white\", \"showbackground\": true, \"ticks\": \"\", \"zerolinecolor\": \"white\"}}, \"shapedefaults\": {\"line\": {\"color\": \"#2a3f5f\"}}, \"ternary\": {\"aaxis\": {\"gridcolor\": \"white\", \"linecolor\": \"white\", \"ticks\": \"\"}, \"baxis\": {\"gridcolor\": \"white\", \"linecolor\": \"white\", \"ticks\": \"\"}, \"bgcolor\": \"#E5ECF6\", \"caxis\": {\"gridcolor\": \"white\", \"linecolor\": \"white\", \"ticks\": \"\"}}, \"title\": {\"x\": 0.05}, \"xaxis\": {\"automargin\": true, \"gridcolor\": \"white\", \"linecolor\": \"white\", \"ticks\": \"\", \"title\": {\"standoff\": 15}, \"zerolinecolor\": \"white\", \"zerolinewidth\": 2}, \"yaxis\": {\"automargin\": true, \"gridcolor\": \"white\", \"linecolor\": \"white\", \"ticks\": \"\", \"title\": {\"standoff\": 15}, \"zerolinecolor\": \"white\", \"zerolinewidth\": 2}}}, \"title\": {\"text\": \"price of the maintenance distribution \"}},\n",
       "                        {\"responsive\": true}\n",
       "                    ).then(function(){\n",
       "                            \n",
       "var gd = document.getElementById('029c8157-8008-43f1-9274-18ebc71e8c32');\n",
       "var x = new MutationObserver(function (mutations, observer) {{\n",
       "        var display = window.getComputedStyle(gd).display;\n",
       "        if (!display || display === 'none') {{\n",
       "            console.log([gd, 'removed!']);\n",
       "            Plotly.purge(gd);\n",
       "            observer.disconnect();\n",
       "        }}\n",
       "}});\n",
       "\n",
       "// Listen for the removal of the full notebook cells\n",
       "var notebookContainer = gd.closest('#notebook-container');\n",
       "if (notebookContainer) {{\n",
       "    x.observe(notebookContainer, {childList: true});\n",
       "}}\n",
       "\n",
       "// Listen for the clearing of the current output cell\n",
       "var outputEl = gd.closest('.output');\n",
       "if (outputEl) {{\n",
       "    x.observe(outputEl, {childList: true});\n",
       "}}\n",
       "\n",
       "                        })\n",
       "                };\n",
       "                });\n",
       "            </script>\n",
       "        </div>"
      ]
     },
     "metadata": {},
     "output_type": "display_data"
    },
    {
     "data": {
      "application/vnd.plotly.v1+json": {
       "config": {
        "linkText": "Export to plot.ly",
        "plotlyServerURL": "https://plot.ly",
        "showLink": false
       },
       "data": [
        {
         "domain": {
          "x": [
           0,
           0.48
          ]
         },
         "hole": 0.6,
         "hoverinfo": "label+percent+name",
         "labels": [
          "5more",
          "4",
          "3",
          "2"
         ],
         "marker": {
          "line": {
           "color": "rgb(243,243,243)",
           "width": 2
          }
         },
         "name": "car_class >= acc",
         "type": "pie",
         "values": [
          140,
          140,
          132,
          106
         ]
        },
        {
         "domain": {
          "x": [
           0.52,
           1
          ]
         },
         "hole": 0.6,
         "hoverinfo": "label+percent+name",
         "labels": [
          "2",
          "3",
          "5more",
          "4"
         ],
         "marker": {
          "line": {
           "color": "rgb(243,243,243)",
           "width": 2
          }
         },
         "name": "car_class == unacc",
         "type": "pie",
         "values": [
          326,
          300,
          292,
          292
         ]
        }
       ],
       "layout": {
        "annotations": [
         {
          "font": {
           "size": 13
          },
          "showarrow": false,
          "text": "car_class >= acc",
          "x": 0.15,
          "y": 0.5
         },
         {
          "font": {
           "size": 13
          },
          "showarrow": false,
          "text": "car_class == unacc",
          "x": 0.88,
          "y": 0.5
         }
        ],
        "paper_bgcolor": "rgb(243,243,243)",
        "plot_bgcolor": "rgb(243,243,243)",
        "template": {
         "data": {
          "bar": [
           {
            "error_x": {
             "color": "#2a3f5f"
            },
            "error_y": {
             "color": "#2a3f5f"
            },
            "marker": {
             "line": {
              "color": "#E5ECF6",
              "width": 0.5
             }
            },
            "type": "bar"
           }
          ],
          "barpolar": [
           {
            "marker": {
             "line": {
              "color": "#E5ECF6",
              "width": 0.5
             }
            },
            "type": "barpolar"
           }
          ],
          "carpet": [
           {
            "aaxis": {
             "endlinecolor": "#2a3f5f",
             "gridcolor": "white",
             "linecolor": "white",
             "minorgridcolor": "white",
             "startlinecolor": "#2a3f5f"
            },
            "baxis": {
             "endlinecolor": "#2a3f5f",
             "gridcolor": "white",
             "linecolor": "white",
             "minorgridcolor": "white",
             "startlinecolor": "#2a3f5f"
            },
            "type": "carpet"
           }
          ],
          "choropleth": [
           {
            "colorbar": {
             "outlinewidth": 0,
             "ticks": ""
            },
            "type": "choropleth"
           }
          ],
          "contour": [
           {
            "colorbar": {
             "outlinewidth": 0,
             "ticks": ""
            },
            "colorscale": [
             [
              0,
              "#0d0887"
             ],
             [
              0.1111111111111111,
              "#46039f"
             ],
             [
              0.2222222222222222,
              "#7201a8"
             ],
             [
              0.3333333333333333,
              "#9c179e"
             ],
             [
              0.4444444444444444,
              "#bd3786"
             ],
             [
              0.5555555555555556,
              "#d8576b"
             ],
             [
              0.6666666666666666,
              "#ed7953"
             ],
             [
              0.7777777777777778,
              "#fb9f3a"
             ],
             [
              0.8888888888888888,
              "#fdca26"
             ],
             [
              1,
              "#f0f921"
             ]
            ],
            "type": "contour"
           }
          ],
          "contourcarpet": [
           {
            "colorbar": {
             "outlinewidth": 0,
             "ticks": ""
            },
            "type": "contourcarpet"
           }
          ],
          "heatmap": [
           {
            "colorbar": {
             "outlinewidth": 0,
             "ticks": ""
            },
            "colorscale": [
             [
              0,
              "#0d0887"
             ],
             [
              0.1111111111111111,
              "#46039f"
             ],
             [
              0.2222222222222222,
              "#7201a8"
             ],
             [
              0.3333333333333333,
              "#9c179e"
             ],
             [
              0.4444444444444444,
              "#bd3786"
             ],
             [
              0.5555555555555556,
              "#d8576b"
             ],
             [
              0.6666666666666666,
              "#ed7953"
             ],
             [
              0.7777777777777778,
              "#fb9f3a"
             ],
             [
              0.8888888888888888,
              "#fdca26"
             ],
             [
              1,
              "#f0f921"
             ]
            ],
            "type": "heatmap"
           }
          ],
          "heatmapgl": [
           {
            "colorbar": {
             "outlinewidth": 0,
             "ticks": ""
            },
            "colorscale": [
             [
              0,
              "#0d0887"
             ],
             [
              0.1111111111111111,
              "#46039f"
             ],
             [
              0.2222222222222222,
              "#7201a8"
             ],
             [
              0.3333333333333333,
              "#9c179e"
             ],
             [
              0.4444444444444444,
              "#bd3786"
             ],
             [
              0.5555555555555556,
              "#d8576b"
             ],
             [
              0.6666666666666666,
              "#ed7953"
             ],
             [
              0.7777777777777778,
              "#fb9f3a"
             ],
             [
              0.8888888888888888,
              "#fdca26"
             ],
             [
              1,
              "#f0f921"
             ]
            ],
            "type": "heatmapgl"
           }
          ],
          "histogram": [
           {
            "marker": {
             "colorbar": {
              "outlinewidth": 0,
              "ticks": ""
             }
            },
            "type": "histogram"
           }
          ],
          "histogram2d": [
           {
            "colorbar": {
             "outlinewidth": 0,
             "ticks": ""
            },
            "colorscale": [
             [
              0,
              "#0d0887"
             ],
             [
              0.1111111111111111,
              "#46039f"
             ],
             [
              0.2222222222222222,
              "#7201a8"
             ],
             [
              0.3333333333333333,
              "#9c179e"
             ],
             [
              0.4444444444444444,
              "#bd3786"
             ],
             [
              0.5555555555555556,
              "#d8576b"
             ],
             [
              0.6666666666666666,
              "#ed7953"
             ],
             [
              0.7777777777777778,
              "#fb9f3a"
             ],
             [
              0.8888888888888888,
              "#fdca26"
             ],
             [
              1,
              "#f0f921"
             ]
            ],
            "type": "histogram2d"
           }
          ],
          "histogram2dcontour": [
           {
            "colorbar": {
             "outlinewidth": 0,
             "ticks": ""
            },
            "colorscale": [
             [
              0,
              "#0d0887"
             ],
             [
              0.1111111111111111,
              "#46039f"
             ],
             [
              0.2222222222222222,
              "#7201a8"
             ],
             [
              0.3333333333333333,
              "#9c179e"
             ],
             [
              0.4444444444444444,
              "#bd3786"
             ],
             [
              0.5555555555555556,
              "#d8576b"
             ],
             [
              0.6666666666666666,
              "#ed7953"
             ],
             [
              0.7777777777777778,
              "#fb9f3a"
             ],
             [
              0.8888888888888888,
              "#fdca26"
             ],
             [
              1,
              "#f0f921"
             ]
            ],
            "type": "histogram2dcontour"
           }
          ],
          "mesh3d": [
           {
            "colorbar": {
             "outlinewidth": 0,
             "ticks": ""
            },
            "type": "mesh3d"
           }
          ],
          "parcoords": [
           {
            "line": {
             "colorbar": {
              "outlinewidth": 0,
              "ticks": ""
             }
            },
            "type": "parcoords"
           }
          ],
          "pie": [
           {
            "automargin": true,
            "type": "pie"
           }
          ],
          "scatter": [
           {
            "marker": {
             "colorbar": {
              "outlinewidth": 0,
              "ticks": ""
             }
            },
            "type": "scatter"
           }
          ],
          "scatter3d": [
           {
            "line": {
             "colorbar": {
              "outlinewidth": 0,
              "ticks": ""
             }
            },
            "marker": {
             "colorbar": {
              "outlinewidth": 0,
              "ticks": ""
             }
            },
            "type": "scatter3d"
           }
          ],
          "scattercarpet": [
           {
            "marker": {
             "colorbar": {
              "outlinewidth": 0,
              "ticks": ""
             }
            },
            "type": "scattercarpet"
           }
          ],
          "scattergeo": [
           {
            "marker": {
             "colorbar": {
              "outlinewidth": 0,
              "ticks": ""
             }
            },
            "type": "scattergeo"
           }
          ],
          "scattergl": [
           {
            "marker": {
             "colorbar": {
              "outlinewidth": 0,
              "ticks": ""
             }
            },
            "type": "scattergl"
           }
          ],
          "scattermapbox": [
           {
            "marker": {
             "colorbar": {
              "outlinewidth": 0,
              "ticks": ""
             }
            },
            "type": "scattermapbox"
           }
          ],
          "scatterpolar": [
           {
            "marker": {
             "colorbar": {
              "outlinewidth": 0,
              "ticks": ""
             }
            },
            "type": "scatterpolar"
           }
          ],
          "scatterpolargl": [
           {
            "marker": {
             "colorbar": {
              "outlinewidth": 0,
              "ticks": ""
             }
            },
            "type": "scatterpolargl"
           }
          ],
          "scatterternary": [
           {
            "marker": {
             "colorbar": {
              "outlinewidth": 0,
              "ticks": ""
             }
            },
            "type": "scatterternary"
           }
          ],
          "surface": [
           {
            "colorbar": {
             "outlinewidth": 0,
             "ticks": ""
            },
            "colorscale": [
             [
              0,
              "#0d0887"
             ],
             [
              0.1111111111111111,
              "#46039f"
             ],
             [
              0.2222222222222222,
              "#7201a8"
             ],
             [
              0.3333333333333333,
              "#9c179e"
             ],
             [
              0.4444444444444444,
              "#bd3786"
             ],
             [
              0.5555555555555556,
              "#d8576b"
             ],
             [
              0.6666666666666666,
              "#ed7953"
             ],
             [
              0.7777777777777778,
              "#fb9f3a"
             ],
             [
              0.8888888888888888,
              "#fdca26"
             ],
             [
              1,
              "#f0f921"
             ]
            ],
            "type": "surface"
           }
          ],
          "table": [
           {
            "cells": {
             "fill": {
              "color": "#EBF0F8"
             },
             "line": {
              "color": "white"
             }
            },
            "header": {
             "fill": {
              "color": "#C8D4E3"
             },
             "line": {
              "color": "white"
             }
            },
            "type": "table"
           }
          ]
         },
         "layout": {
          "annotationdefaults": {
           "arrowcolor": "#2a3f5f",
           "arrowhead": 0,
           "arrowwidth": 1
          },
          "coloraxis": {
           "colorbar": {
            "outlinewidth": 0,
            "ticks": ""
           }
          },
          "colorscale": {
           "diverging": [
            [
             0,
             "#8e0152"
            ],
            [
             0.1,
             "#c51b7d"
            ],
            [
             0.2,
             "#de77ae"
            ],
            [
             0.3,
             "#f1b6da"
            ],
            [
             0.4,
             "#fde0ef"
            ],
            [
             0.5,
             "#f7f7f7"
            ],
            [
             0.6,
             "#e6f5d0"
            ],
            [
             0.7,
             "#b8e186"
            ],
            [
             0.8,
             "#7fbc41"
            ],
            [
             0.9,
             "#4d9221"
            ],
            [
             1,
             "#276419"
            ]
           ],
           "sequential": [
            [
             0,
             "#0d0887"
            ],
            [
             0.1111111111111111,
             "#46039f"
            ],
            [
             0.2222222222222222,
             "#7201a8"
            ],
            [
             0.3333333333333333,
             "#9c179e"
            ],
            [
             0.4444444444444444,
             "#bd3786"
            ],
            [
             0.5555555555555556,
             "#d8576b"
            ],
            [
             0.6666666666666666,
             "#ed7953"
            ],
            [
             0.7777777777777778,
             "#fb9f3a"
            ],
            [
             0.8888888888888888,
             "#fdca26"
            ],
            [
             1,
             "#f0f921"
            ]
           ],
           "sequentialminus": [
            [
             0,
             "#0d0887"
            ],
            [
             0.1111111111111111,
             "#46039f"
            ],
            [
             0.2222222222222222,
             "#7201a8"
            ],
            [
             0.3333333333333333,
             "#9c179e"
            ],
            [
             0.4444444444444444,
             "#bd3786"
            ],
            [
             0.5555555555555556,
             "#d8576b"
            ],
            [
             0.6666666666666666,
             "#ed7953"
            ],
            [
             0.7777777777777778,
             "#fb9f3a"
            ],
            [
             0.8888888888888888,
             "#fdca26"
            ],
            [
             1,
             "#f0f921"
            ]
           ]
          },
          "colorway": [
           "#636efa",
           "#EF553B",
           "#00cc96",
           "#ab63fa",
           "#FFA15A",
           "#19d3f3",
           "#FF6692",
           "#B6E880",
           "#FF97FF",
           "#FECB52"
          ],
          "font": {
           "color": "#2a3f5f"
          },
          "geo": {
           "bgcolor": "white",
           "lakecolor": "white",
           "landcolor": "#E5ECF6",
           "showlakes": true,
           "showland": true,
           "subunitcolor": "white"
          },
          "hoverlabel": {
           "align": "left"
          },
          "hovermode": "closest",
          "mapbox": {
           "style": "light"
          },
          "paper_bgcolor": "white",
          "plot_bgcolor": "#E5ECF6",
          "polar": {
           "angularaxis": {
            "gridcolor": "white",
            "linecolor": "white",
            "ticks": ""
           },
           "bgcolor": "#E5ECF6",
           "radialaxis": {
            "gridcolor": "white",
            "linecolor": "white",
            "ticks": ""
           }
          },
          "scene": {
           "xaxis": {
            "backgroundcolor": "#E5ECF6",
            "gridcolor": "white",
            "gridwidth": 2,
            "linecolor": "white",
            "showbackground": true,
            "ticks": "",
            "zerolinecolor": "white"
           },
           "yaxis": {
            "backgroundcolor": "#E5ECF6",
            "gridcolor": "white",
            "gridwidth": 2,
            "linecolor": "white",
            "showbackground": true,
            "ticks": "",
            "zerolinecolor": "white"
           },
           "zaxis": {
            "backgroundcolor": "#E5ECF6",
            "gridcolor": "white",
            "gridwidth": 2,
            "linecolor": "white",
            "showbackground": true,
            "ticks": "",
            "zerolinecolor": "white"
           }
          },
          "shapedefaults": {
           "line": {
            "color": "#2a3f5f"
           }
          },
          "ternary": {
           "aaxis": {
            "gridcolor": "white",
            "linecolor": "white",
            "ticks": ""
           },
           "baxis": {
            "gridcolor": "white",
            "linecolor": "white",
            "ticks": ""
           },
           "bgcolor": "#E5ECF6",
           "caxis": {
            "gridcolor": "white",
            "linecolor": "white",
            "ticks": ""
           }
          },
          "title": {
           "x": 0.05
          },
          "xaxis": {
           "automargin": true,
           "gridcolor": "white",
           "linecolor": "white",
           "ticks": "",
           "title": {
            "standoff": 15
           },
           "zerolinecolor": "white",
           "zerolinewidth": 2
          },
          "yaxis": {
           "automargin": true,
           "gridcolor": "white",
           "linecolor": "white",
           "ticks": "",
           "title": {
            "standoff": 15
           },
           "zerolinecolor": "white",
           "zerolinewidth": 2
          }
         }
        },
        "title": {
         "text": "number of doors distribution "
        }
       }
      },
      "text/html": [
       "<div>\n",
       "        \n",
       "        \n",
       "            <div id=\"bb7ba464-4576-4a46-9399-761a2311d6d2\" class=\"plotly-graph-div\" style=\"height:525px; width:100%;\"></div>\n",
       "            <script type=\"text/javascript\">\n",
       "                require([\"plotly\"], function(Plotly) {\n",
       "                    window.PLOTLYENV=window.PLOTLYENV || {};\n",
       "                    \n",
       "                if (document.getElementById(\"bb7ba464-4576-4a46-9399-761a2311d6d2\")) {\n",
       "                    Plotly.newPlot(\n",
       "                        'bb7ba464-4576-4a46-9399-761a2311d6d2',\n",
       "                        [{\"domain\": {\"x\": [0, 0.48]}, \"hole\": 0.6, \"hoverinfo\": \"label+percent+name\", \"labels\": [\"5more\", \"4\", \"3\", \"2\"], \"marker\": {\"line\": {\"color\": \"rgb(243,243,243)\", \"width\": 2}}, \"name\": \"car_class >= acc\", \"type\": \"pie\", \"values\": [140, 140, 132, 106]}, {\"domain\": {\"x\": [0.52, 1]}, \"hole\": 0.6, \"hoverinfo\": \"label+percent+name\", \"labels\": [\"2\", \"3\", \"5more\", \"4\"], \"marker\": {\"line\": {\"color\": \"rgb(243,243,243)\", \"width\": 2}}, \"name\": \"car_class == unacc\", \"type\": \"pie\", \"values\": [326, 300, 292, 292]}],\n",
       "                        {\"annotations\": [{\"font\": {\"size\": 13}, \"showarrow\": false, \"text\": \"car_class >= acc\", \"x\": 0.15, \"y\": 0.5}, {\"font\": {\"size\": 13}, \"showarrow\": false, \"text\": \"car_class == unacc\", \"x\": 0.88, \"y\": 0.5}], \"paper_bgcolor\": \"rgb(243,243,243)\", \"plot_bgcolor\": \"rgb(243,243,243)\", \"template\": {\"data\": {\"bar\": [{\"error_x\": {\"color\": \"#2a3f5f\"}, \"error_y\": {\"color\": \"#2a3f5f\"}, \"marker\": {\"line\": {\"color\": \"#E5ECF6\", \"width\": 0.5}}, \"type\": \"bar\"}], \"barpolar\": [{\"marker\": {\"line\": {\"color\": \"#E5ECF6\", \"width\": 0.5}}, \"type\": \"barpolar\"}], \"carpet\": [{\"aaxis\": {\"endlinecolor\": \"#2a3f5f\", \"gridcolor\": \"white\", \"linecolor\": \"white\", \"minorgridcolor\": \"white\", \"startlinecolor\": \"#2a3f5f\"}, \"baxis\": {\"endlinecolor\": \"#2a3f5f\", \"gridcolor\": \"white\", \"linecolor\": \"white\", \"minorgridcolor\": \"white\", \"startlinecolor\": \"#2a3f5f\"}, \"type\": \"carpet\"}], \"choropleth\": [{\"colorbar\": {\"outlinewidth\": 0, \"ticks\": \"\"}, \"type\": \"choropleth\"}], \"contour\": [{\"colorbar\": {\"outlinewidth\": 0, \"ticks\": \"\"}, \"colorscale\": [[0.0, \"#0d0887\"], [0.1111111111111111, \"#46039f\"], [0.2222222222222222, \"#7201a8\"], [0.3333333333333333, \"#9c179e\"], [0.4444444444444444, \"#bd3786\"], [0.5555555555555556, \"#d8576b\"], [0.6666666666666666, \"#ed7953\"], [0.7777777777777778, \"#fb9f3a\"], [0.8888888888888888, \"#fdca26\"], [1.0, \"#f0f921\"]], \"type\": \"contour\"}], \"contourcarpet\": [{\"colorbar\": {\"outlinewidth\": 0, \"ticks\": \"\"}, \"type\": \"contourcarpet\"}], \"heatmap\": [{\"colorbar\": {\"outlinewidth\": 0, \"ticks\": \"\"}, \"colorscale\": [[0.0, \"#0d0887\"], [0.1111111111111111, \"#46039f\"], [0.2222222222222222, \"#7201a8\"], [0.3333333333333333, \"#9c179e\"], [0.4444444444444444, \"#bd3786\"], [0.5555555555555556, \"#d8576b\"], [0.6666666666666666, \"#ed7953\"], [0.7777777777777778, \"#fb9f3a\"], [0.8888888888888888, \"#fdca26\"], [1.0, \"#f0f921\"]], \"type\": \"heatmap\"}], \"heatmapgl\": [{\"colorbar\": {\"outlinewidth\": 0, \"ticks\": \"\"}, \"colorscale\": [[0.0, \"#0d0887\"], [0.1111111111111111, \"#46039f\"], [0.2222222222222222, \"#7201a8\"], [0.3333333333333333, \"#9c179e\"], [0.4444444444444444, \"#bd3786\"], [0.5555555555555556, \"#d8576b\"], [0.6666666666666666, \"#ed7953\"], [0.7777777777777778, \"#fb9f3a\"], [0.8888888888888888, \"#fdca26\"], [1.0, \"#f0f921\"]], \"type\": \"heatmapgl\"}], \"histogram\": [{\"marker\": {\"colorbar\": {\"outlinewidth\": 0, \"ticks\": \"\"}}, \"type\": \"histogram\"}], \"histogram2d\": [{\"colorbar\": {\"outlinewidth\": 0, \"ticks\": \"\"}, \"colorscale\": [[0.0, \"#0d0887\"], [0.1111111111111111, \"#46039f\"], [0.2222222222222222, \"#7201a8\"], [0.3333333333333333, \"#9c179e\"], [0.4444444444444444, \"#bd3786\"], [0.5555555555555556, \"#d8576b\"], [0.6666666666666666, \"#ed7953\"], [0.7777777777777778, \"#fb9f3a\"], [0.8888888888888888, \"#fdca26\"], [1.0, \"#f0f921\"]], \"type\": \"histogram2d\"}], \"histogram2dcontour\": [{\"colorbar\": {\"outlinewidth\": 0, \"ticks\": \"\"}, \"colorscale\": [[0.0, \"#0d0887\"], [0.1111111111111111, \"#46039f\"], [0.2222222222222222, \"#7201a8\"], [0.3333333333333333, \"#9c179e\"], [0.4444444444444444, \"#bd3786\"], [0.5555555555555556, \"#d8576b\"], [0.6666666666666666, \"#ed7953\"], [0.7777777777777778, \"#fb9f3a\"], [0.8888888888888888, \"#fdca26\"], [1.0, \"#f0f921\"]], \"type\": \"histogram2dcontour\"}], \"mesh3d\": [{\"colorbar\": {\"outlinewidth\": 0, \"ticks\": \"\"}, \"type\": \"mesh3d\"}], \"parcoords\": [{\"line\": {\"colorbar\": {\"outlinewidth\": 0, \"ticks\": \"\"}}, \"type\": \"parcoords\"}], \"pie\": [{\"automargin\": true, \"type\": \"pie\"}], \"scatter\": [{\"marker\": {\"colorbar\": {\"outlinewidth\": 0, \"ticks\": \"\"}}, \"type\": \"scatter\"}], \"scatter3d\": [{\"line\": {\"colorbar\": {\"outlinewidth\": 0, \"ticks\": \"\"}}, \"marker\": {\"colorbar\": {\"outlinewidth\": 0, \"ticks\": \"\"}}, \"type\": \"scatter3d\"}], \"scattercarpet\": [{\"marker\": {\"colorbar\": {\"outlinewidth\": 0, \"ticks\": \"\"}}, \"type\": \"scattercarpet\"}], \"scattergeo\": [{\"marker\": {\"colorbar\": {\"outlinewidth\": 0, \"ticks\": \"\"}}, \"type\": \"scattergeo\"}], \"scattergl\": [{\"marker\": {\"colorbar\": {\"outlinewidth\": 0, \"ticks\": \"\"}}, \"type\": \"scattergl\"}], \"scattermapbox\": [{\"marker\": {\"colorbar\": {\"outlinewidth\": 0, \"ticks\": \"\"}}, \"type\": \"scattermapbox\"}], \"scatterpolar\": [{\"marker\": {\"colorbar\": {\"outlinewidth\": 0, \"ticks\": \"\"}}, \"type\": \"scatterpolar\"}], \"scatterpolargl\": [{\"marker\": {\"colorbar\": {\"outlinewidth\": 0, \"ticks\": \"\"}}, \"type\": \"scatterpolargl\"}], \"scatterternary\": [{\"marker\": {\"colorbar\": {\"outlinewidth\": 0, \"ticks\": \"\"}}, \"type\": \"scatterternary\"}], \"surface\": [{\"colorbar\": {\"outlinewidth\": 0, \"ticks\": \"\"}, \"colorscale\": [[0.0, \"#0d0887\"], [0.1111111111111111, \"#46039f\"], [0.2222222222222222, \"#7201a8\"], [0.3333333333333333, \"#9c179e\"], [0.4444444444444444, \"#bd3786\"], [0.5555555555555556, \"#d8576b\"], [0.6666666666666666, \"#ed7953\"], [0.7777777777777778, \"#fb9f3a\"], [0.8888888888888888, \"#fdca26\"], [1.0, \"#f0f921\"]], \"type\": \"surface\"}], \"table\": [{\"cells\": {\"fill\": {\"color\": \"#EBF0F8\"}, \"line\": {\"color\": \"white\"}}, \"header\": {\"fill\": {\"color\": \"#C8D4E3\"}, \"line\": {\"color\": \"white\"}}, \"type\": \"table\"}]}, \"layout\": {\"annotationdefaults\": {\"arrowcolor\": \"#2a3f5f\", \"arrowhead\": 0, \"arrowwidth\": 1}, \"coloraxis\": {\"colorbar\": {\"outlinewidth\": 0, \"ticks\": \"\"}}, \"colorscale\": {\"diverging\": [[0, \"#8e0152\"], [0.1, \"#c51b7d\"], [0.2, \"#de77ae\"], [0.3, \"#f1b6da\"], [0.4, \"#fde0ef\"], [0.5, \"#f7f7f7\"], [0.6, \"#e6f5d0\"], [0.7, \"#b8e186\"], [0.8, \"#7fbc41\"], [0.9, \"#4d9221\"], [1, \"#276419\"]], \"sequential\": [[0.0, \"#0d0887\"], [0.1111111111111111, \"#46039f\"], [0.2222222222222222, \"#7201a8\"], [0.3333333333333333, \"#9c179e\"], [0.4444444444444444, \"#bd3786\"], [0.5555555555555556, \"#d8576b\"], [0.6666666666666666, \"#ed7953\"], [0.7777777777777778, \"#fb9f3a\"], [0.8888888888888888, \"#fdca26\"], [1.0, \"#f0f921\"]], \"sequentialminus\": [[0.0, \"#0d0887\"], [0.1111111111111111, \"#46039f\"], [0.2222222222222222, \"#7201a8\"], [0.3333333333333333, \"#9c179e\"], [0.4444444444444444, \"#bd3786\"], [0.5555555555555556, \"#d8576b\"], [0.6666666666666666, \"#ed7953\"], [0.7777777777777778, \"#fb9f3a\"], [0.8888888888888888, \"#fdca26\"], [1.0, \"#f0f921\"]]}, \"colorway\": [\"#636efa\", \"#EF553B\", \"#00cc96\", \"#ab63fa\", \"#FFA15A\", \"#19d3f3\", \"#FF6692\", \"#B6E880\", \"#FF97FF\", \"#FECB52\"], \"font\": {\"color\": \"#2a3f5f\"}, \"geo\": {\"bgcolor\": \"white\", \"lakecolor\": \"white\", \"landcolor\": \"#E5ECF6\", \"showlakes\": true, \"showland\": true, \"subunitcolor\": \"white\"}, \"hoverlabel\": {\"align\": \"left\"}, \"hovermode\": \"closest\", \"mapbox\": {\"style\": \"light\"}, \"paper_bgcolor\": \"white\", \"plot_bgcolor\": \"#E5ECF6\", \"polar\": {\"angularaxis\": {\"gridcolor\": \"white\", \"linecolor\": \"white\", \"ticks\": \"\"}, \"bgcolor\": \"#E5ECF6\", \"radialaxis\": {\"gridcolor\": \"white\", \"linecolor\": \"white\", \"ticks\": \"\"}}, \"scene\": {\"xaxis\": {\"backgroundcolor\": \"#E5ECF6\", \"gridcolor\": \"white\", \"gridwidth\": 2, \"linecolor\": \"white\", \"showbackground\": true, \"ticks\": \"\", \"zerolinecolor\": \"white\"}, \"yaxis\": {\"backgroundcolor\": \"#E5ECF6\", \"gridcolor\": \"white\", \"gridwidth\": 2, \"linecolor\": \"white\", \"showbackground\": true, \"ticks\": \"\", \"zerolinecolor\": \"white\"}, \"zaxis\": {\"backgroundcolor\": \"#E5ECF6\", \"gridcolor\": \"white\", \"gridwidth\": 2, \"linecolor\": \"white\", \"showbackground\": true, \"ticks\": \"\", \"zerolinecolor\": \"white\"}}, \"shapedefaults\": {\"line\": {\"color\": \"#2a3f5f\"}}, \"ternary\": {\"aaxis\": {\"gridcolor\": \"white\", \"linecolor\": \"white\", \"ticks\": \"\"}, \"baxis\": {\"gridcolor\": \"white\", \"linecolor\": \"white\", \"ticks\": \"\"}, \"bgcolor\": \"#E5ECF6\", \"caxis\": {\"gridcolor\": \"white\", \"linecolor\": \"white\", \"ticks\": \"\"}}, \"title\": {\"x\": 0.05}, \"xaxis\": {\"automargin\": true, \"gridcolor\": \"white\", \"linecolor\": \"white\", \"ticks\": \"\", \"title\": {\"standoff\": 15}, \"zerolinecolor\": \"white\", \"zerolinewidth\": 2}, \"yaxis\": {\"automargin\": true, \"gridcolor\": \"white\", \"linecolor\": \"white\", \"ticks\": \"\", \"title\": {\"standoff\": 15}, \"zerolinecolor\": \"white\", \"zerolinewidth\": 2}}}, \"title\": {\"text\": \"number of doors distribution \"}},\n",
       "                        {\"responsive\": true}\n",
       "                    ).then(function(){\n",
       "                            \n",
       "var gd = document.getElementById('bb7ba464-4576-4a46-9399-761a2311d6d2');\n",
       "var x = new MutationObserver(function (mutations, observer) {{\n",
       "        var display = window.getComputedStyle(gd).display;\n",
       "        if (!display || display === 'none') {{\n",
       "            console.log([gd, 'removed!']);\n",
       "            Plotly.purge(gd);\n",
       "            observer.disconnect();\n",
       "        }}\n",
       "}});\n",
       "\n",
       "// Listen for the removal of the full notebook cells\n",
       "var notebookContainer = gd.closest('#notebook-container');\n",
       "if (notebookContainer) {{\n",
       "    x.observe(notebookContainer, {childList: true});\n",
       "}}\n",
       "\n",
       "// Listen for the clearing of the current output cell\n",
       "var outputEl = gd.closest('.output');\n",
       "if (outputEl) {{\n",
       "    x.observe(outputEl, {childList: true});\n",
       "}}\n",
       "\n",
       "                        })\n",
       "                };\n",
       "                });\n",
       "            </script>\n",
       "        </div>"
      ]
     },
     "metadata": {},
     "output_type": "display_data"
    },
    {
     "data": {
      "application/vnd.plotly.v1+json": {
       "config": {
        "linkText": "Export to plot.ly",
        "plotlyServerURL": "https://plot.ly",
        "showLink": false
       },
       "data": [
        {
         "domain": {
          "x": [
           0,
           0.48
          ]
         },
         "hole": 0.6,
         "hoverinfo": "label+percent+name",
         "labels": [
          "4",
          "more"
         ],
         "marker": {
          "line": {
           "color": "rgb(243,243,243)",
           "width": 2
          }
         },
         "name": "car_class >= acc",
         "type": "pie",
         "values": [
          264,
          254
         ]
        },
        {
         "domain": {
          "x": [
           0.52,
           1
          ]
         },
         "hole": 0.6,
         "hoverinfo": "label+percent+name",
         "labels": [
          "2",
          "more",
          "4"
         ],
         "marker": {
          "line": {
           "color": "rgb(243,243,243)",
           "width": 2
          }
         },
         "name": "car_class == unacc",
         "type": "pie",
         "values": [
          576,
          322,
          312
         ]
        }
       ],
       "layout": {
        "annotations": [
         {
          "font": {
           "size": 13
          },
          "showarrow": false,
          "text": "car_class >= acc",
          "x": 0.15,
          "y": 0.5
         },
         {
          "font": {
           "size": 13
          },
          "showarrow": false,
          "text": "car_class == unacc",
          "x": 0.88,
          "y": 0.5
         }
        ],
        "paper_bgcolor": "rgb(243,243,243)",
        "plot_bgcolor": "rgb(243,243,243)",
        "template": {
         "data": {
          "bar": [
           {
            "error_x": {
             "color": "#2a3f5f"
            },
            "error_y": {
             "color": "#2a3f5f"
            },
            "marker": {
             "line": {
              "color": "#E5ECF6",
              "width": 0.5
             }
            },
            "type": "bar"
           }
          ],
          "barpolar": [
           {
            "marker": {
             "line": {
              "color": "#E5ECF6",
              "width": 0.5
             }
            },
            "type": "barpolar"
           }
          ],
          "carpet": [
           {
            "aaxis": {
             "endlinecolor": "#2a3f5f",
             "gridcolor": "white",
             "linecolor": "white",
             "minorgridcolor": "white",
             "startlinecolor": "#2a3f5f"
            },
            "baxis": {
             "endlinecolor": "#2a3f5f",
             "gridcolor": "white",
             "linecolor": "white",
             "minorgridcolor": "white",
             "startlinecolor": "#2a3f5f"
            },
            "type": "carpet"
           }
          ],
          "choropleth": [
           {
            "colorbar": {
             "outlinewidth": 0,
             "ticks": ""
            },
            "type": "choropleth"
           }
          ],
          "contour": [
           {
            "colorbar": {
             "outlinewidth": 0,
             "ticks": ""
            },
            "colorscale": [
             [
              0,
              "#0d0887"
             ],
             [
              0.1111111111111111,
              "#46039f"
             ],
             [
              0.2222222222222222,
              "#7201a8"
             ],
             [
              0.3333333333333333,
              "#9c179e"
             ],
             [
              0.4444444444444444,
              "#bd3786"
             ],
             [
              0.5555555555555556,
              "#d8576b"
             ],
             [
              0.6666666666666666,
              "#ed7953"
             ],
             [
              0.7777777777777778,
              "#fb9f3a"
             ],
             [
              0.8888888888888888,
              "#fdca26"
             ],
             [
              1,
              "#f0f921"
             ]
            ],
            "type": "contour"
           }
          ],
          "contourcarpet": [
           {
            "colorbar": {
             "outlinewidth": 0,
             "ticks": ""
            },
            "type": "contourcarpet"
           }
          ],
          "heatmap": [
           {
            "colorbar": {
             "outlinewidth": 0,
             "ticks": ""
            },
            "colorscale": [
             [
              0,
              "#0d0887"
             ],
             [
              0.1111111111111111,
              "#46039f"
             ],
             [
              0.2222222222222222,
              "#7201a8"
             ],
             [
              0.3333333333333333,
              "#9c179e"
             ],
             [
              0.4444444444444444,
              "#bd3786"
             ],
             [
              0.5555555555555556,
              "#d8576b"
             ],
             [
              0.6666666666666666,
              "#ed7953"
             ],
             [
              0.7777777777777778,
              "#fb9f3a"
             ],
             [
              0.8888888888888888,
              "#fdca26"
             ],
             [
              1,
              "#f0f921"
             ]
            ],
            "type": "heatmap"
           }
          ],
          "heatmapgl": [
           {
            "colorbar": {
             "outlinewidth": 0,
             "ticks": ""
            },
            "colorscale": [
             [
              0,
              "#0d0887"
             ],
             [
              0.1111111111111111,
              "#46039f"
             ],
             [
              0.2222222222222222,
              "#7201a8"
             ],
             [
              0.3333333333333333,
              "#9c179e"
             ],
             [
              0.4444444444444444,
              "#bd3786"
             ],
             [
              0.5555555555555556,
              "#d8576b"
             ],
             [
              0.6666666666666666,
              "#ed7953"
             ],
             [
              0.7777777777777778,
              "#fb9f3a"
             ],
             [
              0.8888888888888888,
              "#fdca26"
             ],
             [
              1,
              "#f0f921"
             ]
            ],
            "type": "heatmapgl"
           }
          ],
          "histogram": [
           {
            "marker": {
             "colorbar": {
              "outlinewidth": 0,
              "ticks": ""
             }
            },
            "type": "histogram"
           }
          ],
          "histogram2d": [
           {
            "colorbar": {
             "outlinewidth": 0,
             "ticks": ""
            },
            "colorscale": [
             [
              0,
              "#0d0887"
             ],
             [
              0.1111111111111111,
              "#46039f"
             ],
             [
              0.2222222222222222,
              "#7201a8"
             ],
             [
              0.3333333333333333,
              "#9c179e"
             ],
             [
              0.4444444444444444,
              "#bd3786"
             ],
             [
              0.5555555555555556,
              "#d8576b"
             ],
             [
              0.6666666666666666,
              "#ed7953"
             ],
             [
              0.7777777777777778,
              "#fb9f3a"
             ],
             [
              0.8888888888888888,
              "#fdca26"
             ],
             [
              1,
              "#f0f921"
             ]
            ],
            "type": "histogram2d"
           }
          ],
          "histogram2dcontour": [
           {
            "colorbar": {
             "outlinewidth": 0,
             "ticks": ""
            },
            "colorscale": [
             [
              0,
              "#0d0887"
             ],
             [
              0.1111111111111111,
              "#46039f"
             ],
             [
              0.2222222222222222,
              "#7201a8"
             ],
             [
              0.3333333333333333,
              "#9c179e"
             ],
             [
              0.4444444444444444,
              "#bd3786"
             ],
             [
              0.5555555555555556,
              "#d8576b"
             ],
             [
              0.6666666666666666,
              "#ed7953"
             ],
             [
              0.7777777777777778,
              "#fb9f3a"
             ],
             [
              0.8888888888888888,
              "#fdca26"
             ],
             [
              1,
              "#f0f921"
             ]
            ],
            "type": "histogram2dcontour"
           }
          ],
          "mesh3d": [
           {
            "colorbar": {
             "outlinewidth": 0,
             "ticks": ""
            },
            "type": "mesh3d"
           }
          ],
          "parcoords": [
           {
            "line": {
             "colorbar": {
              "outlinewidth": 0,
              "ticks": ""
             }
            },
            "type": "parcoords"
           }
          ],
          "pie": [
           {
            "automargin": true,
            "type": "pie"
           }
          ],
          "scatter": [
           {
            "marker": {
             "colorbar": {
              "outlinewidth": 0,
              "ticks": ""
             }
            },
            "type": "scatter"
           }
          ],
          "scatter3d": [
           {
            "line": {
             "colorbar": {
              "outlinewidth": 0,
              "ticks": ""
             }
            },
            "marker": {
             "colorbar": {
              "outlinewidth": 0,
              "ticks": ""
             }
            },
            "type": "scatter3d"
           }
          ],
          "scattercarpet": [
           {
            "marker": {
             "colorbar": {
              "outlinewidth": 0,
              "ticks": ""
             }
            },
            "type": "scattercarpet"
           }
          ],
          "scattergeo": [
           {
            "marker": {
             "colorbar": {
              "outlinewidth": 0,
              "ticks": ""
             }
            },
            "type": "scattergeo"
           }
          ],
          "scattergl": [
           {
            "marker": {
             "colorbar": {
              "outlinewidth": 0,
              "ticks": ""
             }
            },
            "type": "scattergl"
           }
          ],
          "scattermapbox": [
           {
            "marker": {
             "colorbar": {
              "outlinewidth": 0,
              "ticks": ""
             }
            },
            "type": "scattermapbox"
           }
          ],
          "scatterpolar": [
           {
            "marker": {
             "colorbar": {
              "outlinewidth": 0,
              "ticks": ""
             }
            },
            "type": "scatterpolar"
           }
          ],
          "scatterpolargl": [
           {
            "marker": {
             "colorbar": {
              "outlinewidth": 0,
              "ticks": ""
             }
            },
            "type": "scatterpolargl"
           }
          ],
          "scatterternary": [
           {
            "marker": {
             "colorbar": {
              "outlinewidth": 0,
              "ticks": ""
             }
            },
            "type": "scatterternary"
           }
          ],
          "surface": [
           {
            "colorbar": {
             "outlinewidth": 0,
             "ticks": ""
            },
            "colorscale": [
             [
              0,
              "#0d0887"
             ],
             [
              0.1111111111111111,
              "#46039f"
             ],
             [
              0.2222222222222222,
              "#7201a8"
             ],
             [
              0.3333333333333333,
              "#9c179e"
             ],
             [
              0.4444444444444444,
              "#bd3786"
             ],
             [
              0.5555555555555556,
              "#d8576b"
             ],
             [
              0.6666666666666666,
              "#ed7953"
             ],
             [
              0.7777777777777778,
              "#fb9f3a"
             ],
             [
              0.8888888888888888,
              "#fdca26"
             ],
             [
              1,
              "#f0f921"
             ]
            ],
            "type": "surface"
           }
          ],
          "table": [
           {
            "cells": {
             "fill": {
              "color": "#EBF0F8"
             },
             "line": {
              "color": "white"
             }
            },
            "header": {
             "fill": {
              "color": "#C8D4E3"
             },
             "line": {
              "color": "white"
             }
            },
            "type": "table"
           }
          ]
         },
         "layout": {
          "annotationdefaults": {
           "arrowcolor": "#2a3f5f",
           "arrowhead": 0,
           "arrowwidth": 1
          },
          "coloraxis": {
           "colorbar": {
            "outlinewidth": 0,
            "ticks": ""
           }
          },
          "colorscale": {
           "diverging": [
            [
             0,
             "#8e0152"
            ],
            [
             0.1,
             "#c51b7d"
            ],
            [
             0.2,
             "#de77ae"
            ],
            [
             0.3,
             "#f1b6da"
            ],
            [
             0.4,
             "#fde0ef"
            ],
            [
             0.5,
             "#f7f7f7"
            ],
            [
             0.6,
             "#e6f5d0"
            ],
            [
             0.7,
             "#b8e186"
            ],
            [
             0.8,
             "#7fbc41"
            ],
            [
             0.9,
             "#4d9221"
            ],
            [
             1,
             "#276419"
            ]
           ],
           "sequential": [
            [
             0,
             "#0d0887"
            ],
            [
             0.1111111111111111,
             "#46039f"
            ],
            [
             0.2222222222222222,
             "#7201a8"
            ],
            [
             0.3333333333333333,
             "#9c179e"
            ],
            [
             0.4444444444444444,
             "#bd3786"
            ],
            [
             0.5555555555555556,
             "#d8576b"
            ],
            [
             0.6666666666666666,
             "#ed7953"
            ],
            [
             0.7777777777777778,
             "#fb9f3a"
            ],
            [
             0.8888888888888888,
             "#fdca26"
            ],
            [
             1,
             "#f0f921"
            ]
           ],
           "sequentialminus": [
            [
             0,
             "#0d0887"
            ],
            [
             0.1111111111111111,
             "#46039f"
            ],
            [
             0.2222222222222222,
             "#7201a8"
            ],
            [
             0.3333333333333333,
             "#9c179e"
            ],
            [
             0.4444444444444444,
             "#bd3786"
            ],
            [
             0.5555555555555556,
             "#d8576b"
            ],
            [
             0.6666666666666666,
             "#ed7953"
            ],
            [
             0.7777777777777778,
             "#fb9f3a"
            ],
            [
             0.8888888888888888,
             "#fdca26"
            ],
            [
             1,
             "#f0f921"
            ]
           ]
          },
          "colorway": [
           "#636efa",
           "#EF553B",
           "#00cc96",
           "#ab63fa",
           "#FFA15A",
           "#19d3f3",
           "#FF6692",
           "#B6E880",
           "#FF97FF",
           "#FECB52"
          ],
          "font": {
           "color": "#2a3f5f"
          },
          "geo": {
           "bgcolor": "white",
           "lakecolor": "white",
           "landcolor": "#E5ECF6",
           "showlakes": true,
           "showland": true,
           "subunitcolor": "white"
          },
          "hoverlabel": {
           "align": "left"
          },
          "hovermode": "closest",
          "mapbox": {
           "style": "light"
          },
          "paper_bgcolor": "white",
          "plot_bgcolor": "#E5ECF6",
          "polar": {
           "angularaxis": {
            "gridcolor": "white",
            "linecolor": "white",
            "ticks": ""
           },
           "bgcolor": "#E5ECF6",
           "radialaxis": {
            "gridcolor": "white",
            "linecolor": "white",
            "ticks": ""
           }
          },
          "scene": {
           "xaxis": {
            "backgroundcolor": "#E5ECF6",
            "gridcolor": "white",
            "gridwidth": 2,
            "linecolor": "white",
            "showbackground": true,
            "ticks": "",
            "zerolinecolor": "white"
           },
           "yaxis": {
            "backgroundcolor": "#E5ECF6",
            "gridcolor": "white",
            "gridwidth": 2,
            "linecolor": "white",
            "showbackground": true,
            "ticks": "",
            "zerolinecolor": "white"
           },
           "zaxis": {
            "backgroundcolor": "#E5ECF6",
            "gridcolor": "white",
            "gridwidth": 2,
            "linecolor": "white",
            "showbackground": true,
            "ticks": "",
            "zerolinecolor": "white"
           }
          },
          "shapedefaults": {
           "line": {
            "color": "#2a3f5f"
           }
          },
          "ternary": {
           "aaxis": {
            "gridcolor": "white",
            "linecolor": "white",
            "ticks": ""
           },
           "baxis": {
            "gridcolor": "white",
            "linecolor": "white",
            "ticks": ""
           },
           "bgcolor": "#E5ECF6",
           "caxis": {
            "gridcolor": "white",
            "linecolor": "white",
            "ticks": ""
           }
          },
          "title": {
           "x": 0.05
          },
          "xaxis": {
           "automargin": true,
           "gridcolor": "white",
           "linecolor": "white",
           "ticks": "",
           "title": {
            "standoff": 15
           },
           "zerolinecolor": "white",
           "zerolinewidth": 2
          },
          "yaxis": {
           "automargin": true,
           "gridcolor": "white",
           "linecolor": "white",
           "ticks": "",
           "title": {
            "standoff": 15
           },
           "zerolinecolor": "white",
           "zerolinewidth": 2
          }
         }
        },
        "title": {
         "text": "capacity in terms of persons to carry distribution "
        }
       }
      },
      "text/html": [
       "<div>\n",
       "        \n",
       "        \n",
       "            <div id=\"6ad462e8-d9e6-45b9-a37d-b63a7cb7f783\" class=\"plotly-graph-div\" style=\"height:525px; width:100%;\"></div>\n",
       "            <script type=\"text/javascript\">\n",
       "                require([\"plotly\"], function(Plotly) {\n",
       "                    window.PLOTLYENV=window.PLOTLYENV || {};\n",
       "                    \n",
       "                if (document.getElementById(\"6ad462e8-d9e6-45b9-a37d-b63a7cb7f783\")) {\n",
       "                    Plotly.newPlot(\n",
       "                        '6ad462e8-d9e6-45b9-a37d-b63a7cb7f783',\n",
       "                        [{\"domain\": {\"x\": [0, 0.48]}, \"hole\": 0.6, \"hoverinfo\": \"label+percent+name\", \"labels\": [\"4\", \"more\"], \"marker\": {\"line\": {\"color\": \"rgb(243,243,243)\", \"width\": 2}}, \"name\": \"car_class >= acc\", \"type\": \"pie\", \"values\": [264, 254]}, {\"domain\": {\"x\": [0.52, 1]}, \"hole\": 0.6, \"hoverinfo\": \"label+percent+name\", \"labels\": [\"2\", \"more\", \"4\"], \"marker\": {\"line\": {\"color\": \"rgb(243,243,243)\", \"width\": 2}}, \"name\": \"car_class == unacc\", \"type\": \"pie\", \"values\": [576, 322, 312]}],\n",
       "                        {\"annotations\": [{\"font\": {\"size\": 13}, \"showarrow\": false, \"text\": \"car_class >= acc\", \"x\": 0.15, \"y\": 0.5}, {\"font\": {\"size\": 13}, \"showarrow\": false, \"text\": \"car_class == unacc\", \"x\": 0.88, \"y\": 0.5}], \"paper_bgcolor\": \"rgb(243,243,243)\", \"plot_bgcolor\": \"rgb(243,243,243)\", \"template\": {\"data\": {\"bar\": [{\"error_x\": {\"color\": \"#2a3f5f\"}, \"error_y\": {\"color\": \"#2a3f5f\"}, \"marker\": {\"line\": {\"color\": \"#E5ECF6\", \"width\": 0.5}}, \"type\": \"bar\"}], \"barpolar\": [{\"marker\": {\"line\": {\"color\": \"#E5ECF6\", \"width\": 0.5}}, \"type\": \"barpolar\"}], \"carpet\": [{\"aaxis\": {\"endlinecolor\": \"#2a3f5f\", \"gridcolor\": \"white\", \"linecolor\": \"white\", \"minorgridcolor\": \"white\", \"startlinecolor\": \"#2a3f5f\"}, \"baxis\": {\"endlinecolor\": \"#2a3f5f\", \"gridcolor\": \"white\", \"linecolor\": \"white\", \"minorgridcolor\": \"white\", \"startlinecolor\": \"#2a3f5f\"}, \"type\": \"carpet\"}], \"choropleth\": [{\"colorbar\": {\"outlinewidth\": 0, \"ticks\": \"\"}, \"type\": \"choropleth\"}], \"contour\": [{\"colorbar\": {\"outlinewidth\": 0, \"ticks\": \"\"}, \"colorscale\": [[0.0, \"#0d0887\"], [0.1111111111111111, \"#46039f\"], [0.2222222222222222, \"#7201a8\"], [0.3333333333333333, \"#9c179e\"], [0.4444444444444444, \"#bd3786\"], [0.5555555555555556, \"#d8576b\"], [0.6666666666666666, \"#ed7953\"], [0.7777777777777778, \"#fb9f3a\"], [0.8888888888888888, \"#fdca26\"], [1.0, \"#f0f921\"]], \"type\": \"contour\"}], \"contourcarpet\": [{\"colorbar\": {\"outlinewidth\": 0, \"ticks\": \"\"}, \"type\": \"contourcarpet\"}], \"heatmap\": [{\"colorbar\": {\"outlinewidth\": 0, \"ticks\": \"\"}, \"colorscale\": [[0.0, \"#0d0887\"], [0.1111111111111111, \"#46039f\"], [0.2222222222222222, \"#7201a8\"], [0.3333333333333333, \"#9c179e\"], [0.4444444444444444, \"#bd3786\"], [0.5555555555555556, \"#d8576b\"], [0.6666666666666666, \"#ed7953\"], [0.7777777777777778, \"#fb9f3a\"], [0.8888888888888888, \"#fdca26\"], [1.0, \"#f0f921\"]], \"type\": \"heatmap\"}], \"heatmapgl\": [{\"colorbar\": {\"outlinewidth\": 0, \"ticks\": \"\"}, \"colorscale\": [[0.0, \"#0d0887\"], [0.1111111111111111, \"#46039f\"], [0.2222222222222222, \"#7201a8\"], [0.3333333333333333, \"#9c179e\"], [0.4444444444444444, \"#bd3786\"], [0.5555555555555556, \"#d8576b\"], [0.6666666666666666, \"#ed7953\"], [0.7777777777777778, \"#fb9f3a\"], [0.8888888888888888, \"#fdca26\"], [1.0, \"#f0f921\"]], \"type\": \"heatmapgl\"}], \"histogram\": [{\"marker\": {\"colorbar\": {\"outlinewidth\": 0, \"ticks\": \"\"}}, \"type\": \"histogram\"}], \"histogram2d\": [{\"colorbar\": {\"outlinewidth\": 0, \"ticks\": \"\"}, \"colorscale\": [[0.0, \"#0d0887\"], [0.1111111111111111, \"#46039f\"], [0.2222222222222222, \"#7201a8\"], [0.3333333333333333, \"#9c179e\"], [0.4444444444444444, \"#bd3786\"], [0.5555555555555556, \"#d8576b\"], [0.6666666666666666, \"#ed7953\"], [0.7777777777777778, \"#fb9f3a\"], [0.8888888888888888, \"#fdca26\"], [1.0, \"#f0f921\"]], \"type\": \"histogram2d\"}], \"histogram2dcontour\": [{\"colorbar\": {\"outlinewidth\": 0, \"ticks\": \"\"}, \"colorscale\": [[0.0, \"#0d0887\"], [0.1111111111111111, \"#46039f\"], [0.2222222222222222, \"#7201a8\"], [0.3333333333333333, \"#9c179e\"], [0.4444444444444444, \"#bd3786\"], [0.5555555555555556, \"#d8576b\"], [0.6666666666666666, \"#ed7953\"], [0.7777777777777778, \"#fb9f3a\"], [0.8888888888888888, \"#fdca26\"], [1.0, \"#f0f921\"]], \"type\": \"histogram2dcontour\"}], \"mesh3d\": [{\"colorbar\": {\"outlinewidth\": 0, \"ticks\": \"\"}, \"type\": \"mesh3d\"}], \"parcoords\": [{\"line\": {\"colorbar\": {\"outlinewidth\": 0, \"ticks\": \"\"}}, \"type\": \"parcoords\"}], \"pie\": [{\"automargin\": true, \"type\": \"pie\"}], \"scatter\": [{\"marker\": {\"colorbar\": {\"outlinewidth\": 0, \"ticks\": \"\"}}, \"type\": \"scatter\"}], \"scatter3d\": [{\"line\": {\"colorbar\": {\"outlinewidth\": 0, \"ticks\": \"\"}}, \"marker\": {\"colorbar\": {\"outlinewidth\": 0, \"ticks\": \"\"}}, \"type\": \"scatter3d\"}], \"scattercarpet\": [{\"marker\": {\"colorbar\": {\"outlinewidth\": 0, \"ticks\": \"\"}}, \"type\": \"scattercarpet\"}], \"scattergeo\": [{\"marker\": {\"colorbar\": {\"outlinewidth\": 0, \"ticks\": \"\"}}, \"type\": \"scattergeo\"}], \"scattergl\": [{\"marker\": {\"colorbar\": {\"outlinewidth\": 0, \"ticks\": \"\"}}, \"type\": \"scattergl\"}], \"scattermapbox\": [{\"marker\": {\"colorbar\": {\"outlinewidth\": 0, \"ticks\": \"\"}}, \"type\": \"scattermapbox\"}], \"scatterpolar\": [{\"marker\": {\"colorbar\": {\"outlinewidth\": 0, \"ticks\": \"\"}}, \"type\": \"scatterpolar\"}], \"scatterpolargl\": [{\"marker\": {\"colorbar\": {\"outlinewidth\": 0, \"ticks\": \"\"}}, \"type\": \"scatterpolargl\"}], \"scatterternary\": [{\"marker\": {\"colorbar\": {\"outlinewidth\": 0, \"ticks\": \"\"}}, \"type\": \"scatterternary\"}], \"surface\": [{\"colorbar\": {\"outlinewidth\": 0, \"ticks\": \"\"}, \"colorscale\": [[0.0, \"#0d0887\"], [0.1111111111111111, \"#46039f\"], [0.2222222222222222, \"#7201a8\"], [0.3333333333333333, \"#9c179e\"], [0.4444444444444444, \"#bd3786\"], [0.5555555555555556, \"#d8576b\"], [0.6666666666666666, \"#ed7953\"], [0.7777777777777778, \"#fb9f3a\"], [0.8888888888888888, \"#fdca26\"], [1.0, \"#f0f921\"]], \"type\": \"surface\"}], \"table\": [{\"cells\": {\"fill\": {\"color\": \"#EBF0F8\"}, \"line\": {\"color\": \"white\"}}, \"header\": {\"fill\": {\"color\": \"#C8D4E3\"}, \"line\": {\"color\": \"white\"}}, \"type\": \"table\"}]}, \"layout\": {\"annotationdefaults\": {\"arrowcolor\": \"#2a3f5f\", \"arrowhead\": 0, \"arrowwidth\": 1}, \"coloraxis\": {\"colorbar\": {\"outlinewidth\": 0, \"ticks\": \"\"}}, \"colorscale\": {\"diverging\": [[0, \"#8e0152\"], [0.1, \"#c51b7d\"], [0.2, \"#de77ae\"], [0.3, \"#f1b6da\"], [0.4, \"#fde0ef\"], [0.5, \"#f7f7f7\"], [0.6, \"#e6f5d0\"], [0.7, \"#b8e186\"], [0.8, \"#7fbc41\"], [0.9, \"#4d9221\"], [1, \"#276419\"]], \"sequential\": [[0.0, \"#0d0887\"], [0.1111111111111111, \"#46039f\"], [0.2222222222222222, \"#7201a8\"], [0.3333333333333333, \"#9c179e\"], [0.4444444444444444, \"#bd3786\"], [0.5555555555555556, \"#d8576b\"], [0.6666666666666666, \"#ed7953\"], [0.7777777777777778, \"#fb9f3a\"], [0.8888888888888888, \"#fdca26\"], [1.0, \"#f0f921\"]], \"sequentialminus\": [[0.0, \"#0d0887\"], [0.1111111111111111, \"#46039f\"], [0.2222222222222222, \"#7201a8\"], [0.3333333333333333, \"#9c179e\"], [0.4444444444444444, \"#bd3786\"], [0.5555555555555556, \"#d8576b\"], [0.6666666666666666, \"#ed7953\"], [0.7777777777777778, \"#fb9f3a\"], [0.8888888888888888, \"#fdca26\"], [1.0, \"#f0f921\"]]}, \"colorway\": [\"#636efa\", \"#EF553B\", \"#00cc96\", \"#ab63fa\", \"#FFA15A\", \"#19d3f3\", \"#FF6692\", \"#B6E880\", \"#FF97FF\", \"#FECB52\"], \"font\": {\"color\": \"#2a3f5f\"}, \"geo\": {\"bgcolor\": \"white\", \"lakecolor\": \"white\", \"landcolor\": \"#E5ECF6\", \"showlakes\": true, \"showland\": true, \"subunitcolor\": \"white\"}, \"hoverlabel\": {\"align\": \"left\"}, \"hovermode\": \"closest\", \"mapbox\": {\"style\": \"light\"}, \"paper_bgcolor\": \"white\", \"plot_bgcolor\": \"#E5ECF6\", \"polar\": {\"angularaxis\": {\"gridcolor\": \"white\", \"linecolor\": \"white\", \"ticks\": \"\"}, \"bgcolor\": \"#E5ECF6\", \"radialaxis\": {\"gridcolor\": \"white\", \"linecolor\": \"white\", \"ticks\": \"\"}}, \"scene\": {\"xaxis\": {\"backgroundcolor\": \"#E5ECF6\", \"gridcolor\": \"white\", \"gridwidth\": 2, \"linecolor\": \"white\", \"showbackground\": true, \"ticks\": \"\", \"zerolinecolor\": \"white\"}, \"yaxis\": {\"backgroundcolor\": \"#E5ECF6\", \"gridcolor\": \"white\", \"gridwidth\": 2, \"linecolor\": \"white\", \"showbackground\": true, \"ticks\": \"\", \"zerolinecolor\": \"white\"}, \"zaxis\": {\"backgroundcolor\": \"#E5ECF6\", \"gridcolor\": \"white\", \"gridwidth\": 2, \"linecolor\": \"white\", \"showbackground\": true, \"ticks\": \"\", \"zerolinecolor\": \"white\"}}, \"shapedefaults\": {\"line\": {\"color\": \"#2a3f5f\"}}, \"ternary\": {\"aaxis\": {\"gridcolor\": \"white\", \"linecolor\": \"white\", \"ticks\": \"\"}, \"baxis\": {\"gridcolor\": \"white\", \"linecolor\": \"white\", \"ticks\": \"\"}, \"bgcolor\": \"#E5ECF6\", \"caxis\": {\"gridcolor\": \"white\", \"linecolor\": \"white\", \"ticks\": \"\"}}, \"title\": {\"x\": 0.05}, \"xaxis\": {\"automargin\": true, \"gridcolor\": \"white\", \"linecolor\": \"white\", \"ticks\": \"\", \"title\": {\"standoff\": 15}, \"zerolinecolor\": \"white\", \"zerolinewidth\": 2}, \"yaxis\": {\"automargin\": true, \"gridcolor\": \"white\", \"linecolor\": \"white\", \"ticks\": \"\", \"title\": {\"standoff\": 15}, \"zerolinecolor\": \"white\", \"zerolinewidth\": 2}}}, \"title\": {\"text\": \"capacity in terms of persons to carry distribution \"}},\n",
       "                        {\"responsive\": true}\n",
       "                    ).then(function(){\n",
       "                            \n",
       "var gd = document.getElementById('6ad462e8-d9e6-45b9-a37d-b63a7cb7f783');\n",
       "var x = new MutationObserver(function (mutations, observer) {{\n",
       "        var display = window.getComputedStyle(gd).display;\n",
       "        if (!display || display === 'none') {{\n",
       "            console.log([gd, 'removed!']);\n",
       "            Plotly.purge(gd);\n",
       "            observer.disconnect();\n",
       "        }}\n",
       "}});\n",
       "\n",
       "// Listen for the removal of the full notebook cells\n",
       "var notebookContainer = gd.closest('#notebook-container');\n",
       "if (notebookContainer) {{\n",
       "    x.observe(notebookContainer, {childList: true});\n",
       "}}\n",
       "\n",
       "// Listen for the clearing of the current output cell\n",
       "var outputEl = gd.closest('.output');\n",
       "if (outputEl) {{\n",
       "    x.observe(outputEl, {childList: true});\n",
       "}}\n",
       "\n",
       "                        })\n",
       "                };\n",
       "                });\n",
       "            </script>\n",
       "        </div>"
      ]
     },
     "metadata": {},
     "output_type": "display_data"
    },
    {
     "data": {
      "application/vnd.plotly.v1+json": {
       "config": {
        "linkText": "Export to plot.ly",
        "plotlyServerURL": "https://plot.ly",
        "showLink": false
       },
       "data": [
        {
         "domain": {
          "x": [
           0,
           0.48
          ]
         },
         "hole": 0.6,
         "hoverinfo": "label+percent+name",
         "labels": [
          "big",
          "med",
          "small"
         ],
         "marker": {
          "line": {
           "color": "rgb(243,243,243)",
           "width": 2
          }
         },
         "name": "car_class >= acc",
         "type": "pie",
         "values": [
          208,
          184,
          126
         ]
        },
        {
         "domain": {
          "x": [
           0.52,
           1
          ]
         },
         "hole": 0.6,
         "hoverinfo": "label+percent+name",
         "labels": [
          "small",
          "med",
          "big"
         ],
         "marker": {
          "line": {
           "color": "rgb(243,243,243)",
           "width": 2
          }
         },
         "name": "car_class == unacc",
         "type": "pie",
         "values": [
          450,
          392,
          368
         ]
        }
       ],
       "layout": {
        "annotations": [
         {
          "font": {
           "size": 13
          },
          "showarrow": false,
          "text": "car_class >= acc",
          "x": 0.15,
          "y": 0.5
         },
         {
          "font": {
           "size": 13
          },
          "showarrow": false,
          "text": "car_class == unacc",
          "x": 0.88,
          "y": 0.5
         }
        ],
        "paper_bgcolor": "rgb(243,243,243)",
        "plot_bgcolor": "rgb(243,243,243)",
        "template": {
         "data": {
          "bar": [
           {
            "error_x": {
             "color": "#2a3f5f"
            },
            "error_y": {
             "color": "#2a3f5f"
            },
            "marker": {
             "line": {
              "color": "#E5ECF6",
              "width": 0.5
             }
            },
            "type": "bar"
           }
          ],
          "barpolar": [
           {
            "marker": {
             "line": {
              "color": "#E5ECF6",
              "width": 0.5
             }
            },
            "type": "barpolar"
           }
          ],
          "carpet": [
           {
            "aaxis": {
             "endlinecolor": "#2a3f5f",
             "gridcolor": "white",
             "linecolor": "white",
             "minorgridcolor": "white",
             "startlinecolor": "#2a3f5f"
            },
            "baxis": {
             "endlinecolor": "#2a3f5f",
             "gridcolor": "white",
             "linecolor": "white",
             "minorgridcolor": "white",
             "startlinecolor": "#2a3f5f"
            },
            "type": "carpet"
           }
          ],
          "choropleth": [
           {
            "colorbar": {
             "outlinewidth": 0,
             "ticks": ""
            },
            "type": "choropleth"
           }
          ],
          "contour": [
           {
            "colorbar": {
             "outlinewidth": 0,
             "ticks": ""
            },
            "colorscale": [
             [
              0,
              "#0d0887"
             ],
             [
              0.1111111111111111,
              "#46039f"
             ],
             [
              0.2222222222222222,
              "#7201a8"
             ],
             [
              0.3333333333333333,
              "#9c179e"
             ],
             [
              0.4444444444444444,
              "#bd3786"
             ],
             [
              0.5555555555555556,
              "#d8576b"
             ],
             [
              0.6666666666666666,
              "#ed7953"
             ],
             [
              0.7777777777777778,
              "#fb9f3a"
             ],
             [
              0.8888888888888888,
              "#fdca26"
             ],
             [
              1,
              "#f0f921"
             ]
            ],
            "type": "contour"
           }
          ],
          "contourcarpet": [
           {
            "colorbar": {
             "outlinewidth": 0,
             "ticks": ""
            },
            "type": "contourcarpet"
           }
          ],
          "heatmap": [
           {
            "colorbar": {
             "outlinewidth": 0,
             "ticks": ""
            },
            "colorscale": [
             [
              0,
              "#0d0887"
             ],
             [
              0.1111111111111111,
              "#46039f"
             ],
             [
              0.2222222222222222,
              "#7201a8"
             ],
             [
              0.3333333333333333,
              "#9c179e"
             ],
             [
              0.4444444444444444,
              "#bd3786"
             ],
             [
              0.5555555555555556,
              "#d8576b"
             ],
             [
              0.6666666666666666,
              "#ed7953"
             ],
             [
              0.7777777777777778,
              "#fb9f3a"
             ],
             [
              0.8888888888888888,
              "#fdca26"
             ],
             [
              1,
              "#f0f921"
             ]
            ],
            "type": "heatmap"
           }
          ],
          "heatmapgl": [
           {
            "colorbar": {
             "outlinewidth": 0,
             "ticks": ""
            },
            "colorscale": [
             [
              0,
              "#0d0887"
             ],
             [
              0.1111111111111111,
              "#46039f"
             ],
             [
              0.2222222222222222,
              "#7201a8"
             ],
             [
              0.3333333333333333,
              "#9c179e"
             ],
             [
              0.4444444444444444,
              "#bd3786"
             ],
             [
              0.5555555555555556,
              "#d8576b"
             ],
             [
              0.6666666666666666,
              "#ed7953"
             ],
             [
              0.7777777777777778,
              "#fb9f3a"
             ],
             [
              0.8888888888888888,
              "#fdca26"
             ],
             [
              1,
              "#f0f921"
             ]
            ],
            "type": "heatmapgl"
           }
          ],
          "histogram": [
           {
            "marker": {
             "colorbar": {
              "outlinewidth": 0,
              "ticks": ""
             }
            },
            "type": "histogram"
           }
          ],
          "histogram2d": [
           {
            "colorbar": {
             "outlinewidth": 0,
             "ticks": ""
            },
            "colorscale": [
             [
              0,
              "#0d0887"
             ],
             [
              0.1111111111111111,
              "#46039f"
             ],
             [
              0.2222222222222222,
              "#7201a8"
             ],
             [
              0.3333333333333333,
              "#9c179e"
             ],
             [
              0.4444444444444444,
              "#bd3786"
             ],
             [
              0.5555555555555556,
              "#d8576b"
             ],
             [
              0.6666666666666666,
              "#ed7953"
             ],
             [
              0.7777777777777778,
              "#fb9f3a"
             ],
             [
              0.8888888888888888,
              "#fdca26"
             ],
             [
              1,
              "#f0f921"
             ]
            ],
            "type": "histogram2d"
           }
          ],
          "histogram2dcontour": [
           {
            "colorbar": {
             "outlinewidth": 0,
             "ticks": ""
            },
            "colorscale": [
             [
              0,
              "#0d0887"
             ],
             [
              0.1111111111111111,
              "#46039f"
             ],
             [
              0.2222222222222222,
              "#7201a8"
             ],
             [
              0.3333333333333333,
              "#9c179e"
             ],
             [
              0.4444444444444444,
              "#bd3786"
             ],
             [
              0.5555555555555556,
              "#d8576b"
             ],
             [
              0.6666666666666666,
              "#ed7953"
             ],
             [
              0.7777777777777778,
              "#fb9f3a"
             ],
             [
              0.8888888888888888,
              "#fdca26"
             ],
             [
              1,
              "#f0f921"
             ]
            ],
            "type": "histogram2dcontour"
           }
          ],
          "mesh3d": [
           {
            "colorbar": {
             "outlinewidth": 0,
             "ticks": ""
            },
            "type": "mesh3d"
           }
          ],
          "parcoords": [
           {
            "line": {
             "colorbar": {
              "outlinewidth": 0,
              "ticks": ""
             }
            },
            "type": "parcoords"
           }
          ],
          "pie": [
           {
            "automargin": true,
            "type": "pie"
           }
          ],
          "scatter": [
           {
            "marker": {
             "colorbar": {
              "outlinewidth": 0,
              "ticks": ""
             }
            },
            "type": "scatter"
           }
          ],
          "scatter3d": [
           {
            "line": {
             "colorbar": {
              "outlinewidth": 0,
              "ticks": ""
             }
            },
            "marker": {
             "colorbar": {
              "outlinewidth": 0,
              "ticks": ""
             }
            },
            "type": "scatter3d"
           }
          ],
          "scattercarpet": [
           {
            "marker": {
             "colorbar": {
              "outlinewidth": 0,
              "ticks": ""
             }
            },
            "type": "scattercarpet"
           }
          ],
          "scattergeo": [
           {
            "marker": {
             "colorbar": {
              "outlinewidth": 0,
              "ticks": ""
             }
            },
            "type": "scattergeo"
           }
          ],
          "scattergl": [
           {
            "marker": {
             "colorbar": {
              "outlinewidth": 0,
              "ticks": ""
             }
            },
            "type": "scattergl"
           }
          ],
          "scattermapbox": [
           {
            "marker": {
             "colorbar": {
              "outlinewidth": 0,
              "ticks": ""
             }
            },
            "type": "scattermapbox"
           }
          ],
          "scatterpolar": [
           {
            "marker": {
             "colorbar": {
              "outlinewidth": 0,
              "ticks": ""
             }
            },
            "type": "scatterpolar"
           }
          ],
          "scatterpolargl": [
           {
            "marker": {
             "colorbar": {
              "outlinewidth": 0,
              "ticks": ""
             }
            },
            "type": "scatterpolargl"
           }
          ],
          "scatterternary": [
           {
            "marker": {
             "colorbar": {
              "outlinewidth": 0,
              "ticks": ""
             }
            },
            "type": "scatterternary"
           }
          ],
          "surface": [
           {
            "colorbar": {
             "outlinewidth": 0,
             "ticks": ""
            },
            "colorscale": [
             [
              0,
              "#0d0887"
             ],
             [
              0.1111111111111111,
              "#46039f"
             ],
             [
              0.2222222222222222,
              "#7201a8"
             ],
             [
              0.3333333333333333,
              "#9c179e"
             ],
             [
              0.4444444444444444,
              "#bd3786"
             ],
             [
              0.5555555555555556,
              "#d8576b"
             ],
             [
              0.6666666666666666,
              "#ed7953"
             ],
             [
              0.7777777777777778,
              "#fb9f3a"
             ],
             [
              0.8888888888888888,
              "#fdca26"
             ],
             [
              1,
              "#f0f921"
             ]
            ],
            "type": "surface"
           }
          ],
          "table": [
           {
            "cells": {
             "fill": {
              "color": "#EBF0F8"
             },
             "line": {
              "color": "white"
             }
            },
            "header": {
             "fill": {
              "color": "#C8D4E3"
             },
             "line": {
              "color": "white"
             }
            },
            "type": "table"
           }
          ]
         },
         "layout": {
          "annotationdefaults": {
           "arrowcolor": "#2a3f5f",
           "arrowhead": 0,
           "arrowwidth": 1
          },
          "coloraxis": {
           "colorbar": {
            "outlinewidth": 0,
            "ticks": ""
           }
          },
          "colorscale": {
           "diverging": [
            [
             0,
             "#8e0152"
            ],
            [
             0.1,
             "#c51b7d"
            ],
            [
             0.2,
             "#de77ae"
            ],
            [
             0.3,
             "#f1b6da"
            ],
            [
             0.4,
             "#fde0ef"
            ],
            [
             0.5,
             "#f7f7f7"
            ],
            [
             0.6,
             "#e6f5d0"
            ],
            [
             0.7,
             "#b8e186"
            ],
            [
             0.8,
             "#7fbc41"
            ],
            [
             0.9,
             "#4d9221"
            ],
            [
             1,
             "#276419"
            ]
           ],
           "sequential": [
            [
             0,
             "#0d0887"
            ],
            [
             0.1111111111111111,
             "#46039f"
            ],
            [
             0.2222222222222222,
             "#7201a8"
            ],
            [
             0.3333333333333333,
             "#9c179e"
            ],
            [
             0.4444444444444444,
             "#bd3786"
            ],
            [
             0.5555555555555556,
             "#d8576b"
            ],
            [
             0.6666666666666666,
             "#ed7953"
            ],
            [
             0.7777777777777778,
             "#fb9f3a"
            ],
            [
             0.8888888888888888,
             "#fdca26"
            ],
            [
             1,
             "#f0f921"
            ]
           ],
           "sequentialminus": [
            [
             0,
             "#0d0887"
            ],
            [
             0.1111111111111111,
             "#46039f"
            ],
            [
             0.2222222222222222,
             "#7201a8"
            ],
            [
             0.3333333333333333,
             "#9c179e"
            ],
            [
             0.4444444444444444,
             "#bd3786"
            ],
            [
             0.5555555555555556,
             "#d8576b"
            ],
            [
             0.6666666666666666,
             "#ed7953"
            ],
            [
             0.7777777777777778,
             "#fb9f3a"
            ],
            [
             0.8888888888888888,
             "#fdca26"
            ],
            [
             1,
             "#f0f921"
            ]
           ]
          },
          "colorway": [
           "#636efa",
           "#EF553B",
           "#00cc96",
           "#ab63fa",
           "#FFA15A",
           "#19d3f3",
           "#FF6692",
           "#B6E880",
           "#FF97FF",
           "#FECB52"
          ],
          "font": {
           "color": "#2a3f5f"
          },
          "geo": {
           "bgcolor": "white",
           "lakecolor": "white",
           "landcolor": "#E5ECF6",
           "showlakes": true,
           "showland": true,
           "subunitcolor": "white"
          },
          "hoverlabel": {
           "align": "left"
          },
          "hovermode": "closest",
          "mapbox": {
           "style": "light"
          },
          "paper_bgcolor": "white",
          "plot_bgcolor": "#E5ECF6",
          "polar": {
           "angularaxis": {
            "gridcolor": "white",
            "linecolor": "white",
            "ticks": ""
           },
           "bgcolor": "#E5ECF6",
           "radialaxis": {
            "gridcolor": "white",
            "linecolor": "white",
            "ticks": ""
           }
          },
          "scene": {
           "xaxis": {
            "backgroundcolor": "#E5ECF6",
            "gridcolor": "white",
            "gridwidth": 2,
            "linecolor": "white",
            "showbackground": true,
            "ticks": "",
            "zerolinecolor": "white"
           },
           "yaxis": {
            "backgroundcolor": "#E5ECF6",
            "gridcolor": "white",
            "gridwidth": 2,
            "linecolor": "white",
            "showbackground": true,
            "ticks": "",
            "zerolinecolor": "white"
           },
           "zaxis": {
            "backgroundcolor": "#E5ECF6",
            "gridcolor": "white",
            "gridwidth": 2,
            "linecolor": "white",
            "showbackground": true,
            "ticks": "",
            "zerolinecolor": "white"
           }
          },
          "shapedefaults": {
           "line": {
            "color": "#2a3f5f"
           }
          },
          "ternary": {
           "aaxis": {
            "gridcolor": "white",
            "linecolor": "white",
            "ticks": ""
           },
           "baxis": {
            "gridcolor": "white",
            "linecolor": "white",
            "ticks": ""
           },
           "bgcolor": "#E5ECF6",
           "caxis": {
            "gridcolor": "white",
            "linecolor": "white",
            "ticks": ""
           }
          },
          "title": {
           "x": 0.05
          },
          "xaxis": {
           "automargin": true,
           "gridcolor": "white",
           "linecolor": "white",
           "ticks": "",
           "title": {
            "standoff": 15
           },
           "zerolinecolor": "white",
           "zerolinewidth": 2
          },
          "yaxis": {
           "automargin": true,
           "gridcolor": "white",
           "linecolor": "white",
           "ticks": "",
           "title": {
            "standoff": 15
           },
           "zerolinecolor": "white",
           "zerolinewidth": 2
          }
         }
        },
        "title": {
         "text": "the size of luggage boot distribution "
        }
       }
      },
      "text/html": [
       "<div>\n",
       "        \n",
       "        \n",
       "            <div id=\"3ecba7fd-eb0b-424e-a0b8-8358b0a7887f\" class=\"plotly-graph-div\" style=\"height:525px; width:100%;\"></div>\n",
       "            <script type=\"text/javascript\">\n",
       "                require([\"plotly\"], function(Plotly) {\n",
       "                    window.PLOTLYENV=window.PLOTLYENV || {};\n",
       "                    \n",
       "                if (document.getElementById(\"3ecba7fd-eb0b-424e-a0b8-8358b0a7887f\")) {\n",
       "                    Plotly.newPlot(\n",
       "                        '3ecba7fd-eb0b-424e-a0b8-8358b0a7887f',\n",
       "                        [{\"domain\": {\"x\": [0, 0.48]}, \"hole\": 0.6, \"hoverinfo\": \"label+percent+name\", \"labels\": [\"big\", \"med\", \"small\"], \"marker\": {\"line\": {\"color\": \"rgb(243,243,243)\", \"width\": 2}}, \"name\": \"car_class >= acc\", \"type\": \"pie\", \"values\": [208, 184, 126]}, {\"domain\": {\"x\": [0.52, 1]}, \"hole\": 0.6, \"hoverinfo\": \"label+percent+name\", \"labels\": [\"small\", \"med\", \"big\"], \"marker\": {\"line\": {\"color\": \"rgb(243,243,243)\", \"width\": 2}}, \"name\": \"car_class == unacc\", \"type\": \"pie\", \"values\": [450, 392, 368]}],\n",
       "                        {\"annotations\": [{\"font\": {\"size\": 13}, \"showarrow\": false, \"text\": \"car_class >= acc\", \"x\": 0.15, \"y\": 0.5}, {\"font\": {\"size\": 13}, \"showarrow\": false, \"text\": \"car_class == unacc\", \"x\": 0.88, \"y\": 0.5}], \"paper_bgcolor\": \"rgb(243,243,243)\", \"plot_bgcolor\": \"rgb(243,243,243)\", \"template\": {\"data\": {\"bar\": [{\"error_x\": {\"color\": \"#2a3f5f\"}, \"error_y\": {\"color\": \"#2a3f5f\"}, \"marker\": {\"line\": {\"color\": \"#E5ECF6\", \"width\": 0.5}}, \"type\": \"bar\"}], \"barpolar\": [{\"marker\": {\"line\": {\"color\": \"#E5ECF6\", \"width\": 0.5}}, \"type\": \"barpolar\"}], \"carpet\": [{\"aaxis\": {\"endlinecolor\": \"#2a3f5f\", \"gridcolor\": \"white\", \"linecolor\": \"white\", \"minorgridcolor\": \"white\", \"startlinecolor\": \"#2a3f5f\"}, \"baxis\": {\"endlinecolor\": \"#2a3f5f\", \"gridcolor\": \"white\", \"linecolor\": \"white\", \"minorgridcolor\": \"white\", \"startlinecolor\": \"#2a3f5f\"}, \"type\": \"carpet\"}], \"choropleth\": [{\"colorbar\": {\"outlinewidth\": 0, \"ticks\": \"\"}, \"type\": \"choropleth\"}], \"contour\": [{\"colorbar\": {\"outlinewidth\": 0, \"ticks\": \"\"}, \"colorscale\": [[0.0, \"#0d0887\"], [0.1111111111111111, \"#46039f\"], [0.2222222222222222, \"#7201a8\"], [0.3333333333333333, \"#9c179e\"], [0.4444444444444444, \"#bd3786\"], [0.5555555555555556, \"#d8576b\"], [0.6666666666666666, \"#ed7953\"], [0.7777777777777778, \"#fb9f3a\"], [0.8888888888888888, \"#fdca26\"], [1.0, \"#f0f921\"]], \"type\": \"contour\"}], \"contourcarpet\": [{\"colorbar\": {\"outlinewidth\": 0, \"ticks\": \"\"}, \"type\": \"contourcarpet\"}], \"heatmap\": [{\"colorbar\": {\"outlinewidth\": 0, \"ticks\": \"\"}, \"colorscale\": [[0.0, \"#0d0887\"], [0.1111111111111111, \"#46039f\"], [0.2222222222222222, \"#7201a8\"], [0.3333333333333333, \"#9c179e\"], [0.4444444444444444, \"#bd3786\"], [0.5555555555555556, \"#d8576b\"], [0.6666666666666666, \"#ed7953\"], [0.7777777777777778, \"#fb9f3a\"], [0.8888888888888888, \"#fdca26\"], [1.0, \"#f0f921\"]], \"type\": \"heatmap\"}], \"heatmapgl\": [{\"colorbar\": {\"outlinewidth\": 0, \"ticks\": \"\"}, \"colorscale\": [[0.0, \"#0d0887\"], [0.1111111111111111, \"#46039f\"], [0.2222222222222222, \"#7201a8\"], [0.3333333333333333, \"#9c179e\"], [0.4444444444444444, \"#bd3786\"], [0.5555555555555556, \"#d8576b\"], [0.6666666666666666, \"#ed7953\"], [0.7777777777777778, \"#fb9f3a\"], [0.8888888888888888, \"#fdca26\"], [1.0, \"#f0f921\"]], \"type\": \"heatmapgl\"}], \"histogram\": [{\"marker\": {\"colorbar\": {\"outlinewidth\": 0, \"ticks\": \"\"}}, \"type\": \"histogram\"}], \"histogram2d\": [{\"colorbar\": {\"outlinewidth\": 0, \"ticks\": \"\"}, \"colorscale\": [[0.0, \"#0d0887\"], [0.1111111111111111, \"#46039f\"], [0.2222222222222222, \"#7201a8\"], [0.3333333333333333, \"#9c179e\"], [0.4444444444444444, \"#bd3786\"], [0.5555555555555556, \"#d8576b\"], [0.6666666666666666, \"#ed7953\"], [0.7777777777777778, \"#fb9f3a\"], [0.8888888888888888, \"#fdca26\"], [1.0, \"#f0f921\"]], \"type\": \"histogram2d\"}], \"histogram2dcontour\": [{\"colorbar\": {\"outlinewidth\": 0, \"ticks\": \"\"}, \"colorscale\": [[0.0, \"#0d0887\"], [0.1111111111111111, \"#46039f\"], [0.2222222222222222, \"#7201a8\"], [0.3333333333333333, \"#9c179e\"], [0.4444444444444444, \"#bd3786\"], [0.5555555555555556, \"#d8576b\"], [0.6666666666666666, \"#ed7953\"], [0.7777777777777778, \"#fb9f3a\"], [0.8888888888888888, \"#fdca26\"], [1.0, \"#f0f921\"]], \"type\": \"histogram2dcontour\"}], \"mesh3d\": [{\"colorbar\": {\"outlinewidth\": 0, \"ticks\": \"\"}, \"type\": \"mesh3d\"}], \"parcoords\": [{\"line\": {\"colorbar\": {\"outlinewidth\": 0, \"ticks\": \"\"}}, \"type\": \"parcoords\"}], \"pie\": [{\"automargin\": true, \"type\": \"pie\"}], \"scatter\": [{\"marker\": {\"colorbar\": {\"outlinewidth\": 0, \"ticks\": \"\"}}, \"type\": \"scatter\"}], \"scatter3d\": [{\"line\": {\"colorbar\": {\"outlinewidth\": 0, \"ticks\": \"\"}}, \"marker\": {\"colorbar\": {\"outlinewidth\": 0, \"ticks\": \"\"}}, \"type\": \"scatter3d\"}], \"scattercarpet\": [{\"marker\": {\"colorbar\": {\"outlinewidth\": 0, \"ticks\": \"\"}}, \"type\": \"scattercarpet\"}], \"scattergeo\": [{\"marker\": {\"colorbar\": {\"outlinewidth\": 0, \"ticks\": \"\"}}, \"type\": \"scattergeo\"}], \"scattergl\": [{\"marker\": {\"colorbar\": {\"outlinewidth\": 0, \"ticks\": \"\"}}, \"type\": \"scattergl\"}], \"scattermapbox\": [{\"marker\": {\"colorbar\": {\"outlinewidth\": 0, \"ticks\": \"\"}}, \"type\": \"scattermapbox\"}], \"scatterpolar\": [{\"marker\": {\"colorbar\": {\"outlinewidth\": 0, \"ticks\": \"\"}}, \"type\": \"scatterpolar\"}], \"scatterpolargl\": [{\"marker\": {\"colorbar\": {\"outlinewidth\": 0, \"ticks\": \"\"}}, \"type\": \"scatterpolargl\"}], \"scatterternary\": [{\"marker\": {\"colorbar\": {\"outlinewidth\": 0, \"ticks\": \"\"}}, \"type\": \"scatterternary\"}], \"surface\": [{\"colorbar\": {\"outlinewidth\": 0, \"ticks\": \"\"}, \"colorscale\": [[0.0, \"#0d0887\"], [0.1111111111111111, \"#46039f\"], [0.2222222222222222, \"#7201a8\"], [0.3333333333333333, \"#9c179e\"], [0.4444444444444444, \"#bd3786\"], [0.5555555555555556, \"#d8576b\"], [0.6666666666666666, \"#ed7953\"], [0.7777777777777778, \"#fb9f3a\"], [0.8888888888888888, \"#fdca26\"], [1.0, \"#f0f921\"]], \"type\": \"surface\"}], \"table\": [{\"cells\": {\"fill\": {\"color\": \"#EBF0F8\"}, \"line\": {\"color\": \"white\"}}, \"header\": {\"fill\": {\"color\": \"#C8D4E3\"}, \"line\": {\"color\": \"white\"}}, \"type\": \"table\"}]}, \"layout\": {\"annotationdefaults\": {\"arrowcolor\": \"#2a3f5f\", \"arrowhead\": 0, \"arrowwidth\": 1}, \"coloraxis\": {\"colorbar\": {\"outlinewidth\": 0, \"ticks\": \"\"}}, \"colorscale\": {\"diverging\": [[0, \"#8e0152\"], [0.1, \"#c51b7d\"], [0.2, \"#de77ae\"], [0.3, \"#f1b6da\"], [0.4, \"#fde0ef\"], [0.5, \"#f7f7f7\"], [0.6, \"#e6f5d0\"], [0.7, \"#b8e186\"], [0.8, \"#7fbc41\"], [0.9, \"#4d9221\"], [1, \"#276419\"]], \"sequential\": [[0.0, \"#0d0887\"], [0.1111111111111111, \"#46039f\"], [0.2222222222222222, \"#7201a8\"], [0.3333333333333333, \"#9c179e\"], [0.4444444444444444, \"#bd3786\"], [0.5555555555555556, \"#d8576b\"], [0.6666666666666666, \"#ed7953\"], [0.7777777777777778, \"#fb9f3a\"], [0.8888888888888888, \"#fdca26\"], [1.0, \"#f0f921\"]], \"sequentialminus\": [[0.0, \"#0d0887\"], [0.1111111111111111, \"#46039f\"], [0.2222222222222222, \"#7201a8\"], [0.3333333333333333, \"#9c179e\"], [0.4444444444444444, \"#bd3786\"], [0.5555555555555556, \"#d8576b\"], [0.6666666666666666, \"#ed7953\"], [0.7777777777777778, \"#fb9f3a\"], [0.8888888888888888, \"#fdca26\"], [1.0, \"#f0f921\"]]}, \"colorway\": [\"#636efa\", \"#EF553B\", \"#00cc96\", \"#ab63fa\", \"#FFA15A\", \"#19d3f3\", \"#FF6692\", \"#B6E880\", \"#FF97FF\", \"#FECB52\"], \"font\": {\"color\": \"#2a3f5f\"}, \"geo\": {\"bgcolor\": \"white\", \"lakecolor\": \"white\", \"landcolor\": \"#E5ECF6\", \"showlakes\": true, \"showland\": true, \"subunitcolor\": \"white\"}, \"hoverlabel\": {\"align\": \"left\"}, \"hovermode\": \"closest\", \"mapbox\": {\"style\": \"light\"}, \"paper_bgcolor\": \"white\", \"plot_bgcolor\": \"#E5ECF6\", \"polar\": {\"angularaxis\": {\"gridcolor\": \"white\", \"linecolor\": \"white\", \"ticks\": \"\"}, \"bgcolor\": \"#E5ECF6\", \"radialaxis\": {\"gridcolor\": \"white\", \"linecolor\": \"white\", \"ticks\": \"\"}}, \"scene\": {\"xaxis\": {\"backgroundcolor\": \"#E5ECF6\", \"gridcolor\": \"white\", \"gridwidth\": 2, \"linecolor\": \"white\", \"showbackground\": true, \"ticks\": \"\", \"zerolinecolor\": \"white\"}, \"yaxis\": {\"backgroundcolor\": \"#E5ECF6\", \"gridcolor\": \"white\", \"gridwidth\": 2, \"linecolor\": \"white\", \"showbackground\": true, \"ticks\": \"\", \"zerolinecolor\": \"white\"}, \"zaxis\": {\"backgroundcolor\": \"#E5ECF6\", \"gridcolor\": \"white\", \"gridwidth\": 2, \"linecolor\": \"white\", \"showbackground\": true, \"ticks\": \"\", \"zerolinecolor\": \"white\"}}, \"shapedefaults\": {\"line\": {\"color\": \"#2a3f5f\"}}, \"ternary\": {\"aaxis\": {\"gridcolor\": \"white\", \"linecolor\": \"white\", \"ticks\": \"\"}, \"baxis\": {\"gridcolor\": \"white\", \"linecolor\": \"white\", \"ticks\": \"\"}, \"bgcolor\": \"#E5ECF6\", \"caxis\": {\"gridcolor\": \"white\", \"linecolor\": \"white\", \"ticks\": \"\"}}, \"title\": {\"x\": 0.05}, \"xaxis\": {\"automargin\": true, \"gridcolor\": \"white\", \"linecolor\": \"white\", \"ticks\": \"\", \"title\": {\"standoff\": 15}, \"zerolinecolor\": \"white\", \"zerolinewidth\": 2}, \"yaxis\": {\"automargin\": true, \"gridcolor\": \"white\", \"linecolor\": \"white\", \"ticks\": \"\", \"title\": {\"standoff\": 15}, \"zerolinecolor\": \"white\", \"zerolinewidth\": 2}}}, \"title\": {\"text\": \"the size of luggage boot distribution \"}},\n",
       "                        {\"responsive\": true}\n",
       "                    ).then(function(){\n",
       "                            \n",
       "var gd = document.getElementById('3ecba7fd-eb0b-424e-a0b8-8358b0a7887f');\n",
       "var x = new MutationObserver(function (mutations, observer) {{\n",
       "        var display = window.getComputedStyle(gd).display;\n",
       "        if (!display || display === 'none') {{\n",
       "            console.log([gd, 'removed!']);\n",
       "            Plotly.purge(gd);\n",
       "            observer.disconnect();\n",
       "        }}\n",
       "}});\n",
       "\n",
       "// Listen for the removal of the full notebook cells\n",
       "var notebookContainer = gd.closest('#notebook-container');\n",
       "if (notebookContainer) {{\n",
       "    x.observe(notebookContainer, {childList: true});\n",
       "}}\n",
       "\n",
       "// Listen for the clearing of the current output cell\n",
       "var outputEl = gd.closest('.output');\n",
       "if (outputEl) {{\n",
       "    x.observe(outputEl, {childList: true});\n",
       "}}\n",
       "\n",
       "                        })\n",
       "                };\n",
       "                });\n",
       "            </script>\n",
       "        </div>"
      ]
     },
     "metadata": {},
     "output_type": "display_data"
    },
    {
     "data": {
      "application/vnd.plotly.v1+json": {
       "config": {
        "linkText": "Export to plot.ly",
        "plotlyServerURL": "https://plot.ly",
        "showLink": false
       },
       "data": [
        {
         "domain": {
          "x": [
           0,
           0.48
          ]
         },
         "hole": 0.6,
         "hoverinfo": "label+percent+name",
         "labels": [
          "high",
          "med"
         ],
         "marker": {
          "line": {
           "color": "rgb(243,243,243)",
           "width": 2
          }
         },
         "name": "car_class >= acc",
         "type": "pie",
         "values": [
          299,
          219
         ]
        },
        {
         "domain": {
          "x": [
           0.52,
           1
          ]
         },
         "hole": 0.6,
         "hoverinfo": "label+percent+name",
         "labels": [
          "low",
          "med",
          "high"
         ],
         "marker": {
          "line": {
           "color": "rgb(243,243,243)",
           "width": 2
          }
         },
         "name": "car_class == unacc",
         "type": "pie",
         "values": [
          576,
          357,
          277
         ]
        }
       ],
       "layout": {
        "annotations": [
         {
          "font": {
           "size": 13
          },
          "showarrow": false,
          "text": "car_class >= acc",
          "x": 0.15,
          "y": 0.5
         },
         {
          "font": {
           "size": 13
          },
          "showarrow": false,
          "text": "car_class == unacc",
          "x": 0.88,
          "y": 0.5
         }
        ],
        "paper_bgcolor": "rgb(243,243,243)",
        "plot_bgcolor": "rgb(243,243,243)",
        "template": {
         "data": {
          "bar": [
           {
            "error_x": {
             "color": "#2a3f5f"
            },
            "error_y": {
             "color": "#2a3f5f"
            },
            "marker": {
             "line": {
              "color": "#E5ECF6",
              "width": 0.5
             }
            },
            "type": "bar"
           }
          ],
          "barpolar": [
           {
            "marker": {
             "line": {
              "color": "#E5ECF6",
              "width": 0.5
             }
            },
            "type": "barpolar"
           }
          ],
          "carpet": [
           {
            "aaxis": {
             "endlinecolor": "#2a3f5f",
             "gridcolor": "white",
             "linecolor": "white",
             "minorgridcolor": "white",
             "startlinecolor": "#2a3f5f"
            },
            "baxis": {
             "endlinecolor": "#2a3f5f",
             "gridcolor": "white",
             "linecolor": "white",
             "minorgridcolor": "white",
             "startlinecolor": "#2a3f5f"
            },
            "type": "carpet"
           }
          ],
          "choropleth": [
           {
            "colorbar": {
             "outlinewidth": 0,
             "ticks": ""
            },
            "type": "choropleth"
           }
          ],
          "contour": [
           {
            "colorbar": {
             "outlinewidth": 0,
             "ticks": ""
            },
            "colorscale": [
             [
              0,
              "#0d0887"
             ],
             [
              0.1111111111111111,
              "#46039f"
             ],
             [
              0.2222222222222222,
              "#7201a8"
             ],
             [
              0.3333333333333333,
              "#9c179e"
             ],
             [
              0.4444444444444444,
              "#bd3786"
             ],
             [
              0.5555555555555556,
              "#d8576b"
             ],
             [
              0.6666666666666666,
              "#ed7953"
             ],
             [
              0.7777777777777778,
              "#fb9f3a"
             ],
             [
              0.8888888888888888,
              "#fdca26"
             ],
             [
              1,
              "#f0f921"
             ]
            ],
            "type": "contour"
           }
          ],
          "contourcarpet": [
           {
            "colorbar": {
             "outlinewidth": 0,
             "ticks": ""
            },
            "type": "contourcarpet"
           }
          ],
          "heatmap": [
           {
            "colorbar": {
             "outlinewidth": 0,
             "ticks": ""
            },
            "colorscale": [
             [
              0,
              "#0d0887"
             ],
             [
              0.1111111111111111,
              "#46039f"
             ],
             [
              0.2222222222222222,
              "#7201a8"
             ],
             [
              0.3333333333333333,
              "#9c179e"
             ],
             [
              0.4444444444444444,
              "#bd3786"
             ],
             [
              0.5555555555555556,
              "#d8576b"
             ],
             [
              0.6666666666666666,
              "#ed7953"
             ],
             [
              0.7777777777777778,
              "#fb9f3a"
             ],
             [
              0.8888888888888888,
              "#fdca26"
             ],
             [
              1,
              "#f0f921"
             ]
            ],
            "type": "heatmap"
           }
          ],
          "heatmapgl": [
           {
            "colorbar": {
             "outlinewidth": 0,
             "ticks": ""
            },
            "colorscale": [
             [
              0,
              "#0d0887"
             ],
             [
              0.1111111111111111,
              "#46039f"
             ],
             [
              0.2222222222222222,
              "#7201a8"
             ],
             [
              0.3333333333333333,
              "#9c179e"
             ],
             [
              0.4444444444444444,
              "#bd3786"
             ],
             [
              0.5555555555555556,
              "#d8576b"
             ],
             [
              0.6666666666666666,
              "#ed7953"
             ],
             [
              0.7777777777777778,
              "#fb9f3a"
             ],
             [
              0.8888888888888888,
              "#fdca26"
             ],
             [
              1,
              "#f0f921"
             ]
            ],
            "type": "heatmapgl"
           }
          ],
          "histogram": [
           {
            "marker": {
             "colorbar": {
              "outlinewidth": 0,
              "ticks": ""
             }
            },
            "type": "histogram"
           }
          ],
          "histogram2d": [
           {
            "colorbar": {
             "outlinewidth": 0,
             "ticks": ""
            },
            "colorscale": [
             [
              0,
              "#0d0887"
             ],
             [
              0.1111111111111111,
              "#46039f"
             ],
             [
              0.2222222222222222,
              "#7201a8"
             ],
             [
              0.3333333333333333,
              "#9c179e"
             ],
             [
              0.4444444444444444,
              "#bd3786"
             ],
             [
              0.5555555555555556,
              "#d8576b"
             ],
             [
              0.6666666666666666,
              "#ed7953"
             ],
             [
              0.7777777777777778,
              "#fb9f3a"
             ],
             [
              0.8888888888888888,
              "#fdca26"
             ],
             [
              1,
              "#f0f921"
             ]
            ],
            "type": "histogram2d"
           }
          ],
          "histogram2dcontour": [
           {
            "colorbar": {
             "outlinewidth": 0,
             "ticks": ""
            },
            "colorscale": [
             [
              0,
              "#0d0887"
             ],
             [
              0.1111111111111111,
              "#46039f"
             ],
             [
              0.2222222222222222,
              "#7201a8"
             ],
             [
              0.3333333333333333,
              "#9c179e"
             ],
             [
              0.4444444444444444,
              "#bd3786"
             ],
             [
              0.5555555555555556,
              "#d8576b"
             ],
             [
              0.6666666666666666,
              "#ed7953"
             ],
             [
              0.7777777777777778,
              "#fb9f3a"
             ],
             [
              0.8888888888888888,
              "#fdca26"
             ],
             [
              1,
              "#f0f921"
             ]
            ],
            "type": "histogram2dcontour"
           }
          ],
          "mesh3d": [
           {
            "colorbar": {
             "outlinewidth": 0,
             "ticks": ""
            },
            "type": "mesh3d"
           }
          ],
          "parcoords": [
           {
            "line": {
             "colorbar": {
              "outlinewidth": 0,
              "ticks": ""
             }
            },
            "type": "parcoords"
           }
          ],
          "pie": [
           {
            "automargin": true,
            "type": "pie"
           }
          ],
          "scatter": [
           {
            "marker": {
             "colorbar": {
              "outlinewidth": 0,
              "ticks": ""
             }
            },
            "type": "scatter"
           }
          ],
          "scatter3d": [
           {
            "line": {
             "colorbar": {
              "outlinewidth": 0,
              "ticks": ""
             }
            },
            "marker": {
             "colorbar": {
              "outlinewidth": 0,
              "ticks": ""
             }
            },
            "type": "scatter3d"
           }
          ],
          "scattercarpet": [
           {
            "marker": {
             "colorbar": {
              "outlinewidth": 0,
              "ticks": ""
             }
            },
            "type": "scattercarpet"
           }
          ],
          "scattergeo": [
           {
            "marker": {
             "colorbar": {
              "outlinewidth": 0,
              "ticks": ""
             }
            },
            "type": "scattergeo"
           }
          ],
          "scattergl": [
           {
            "marker": {
             "colorbar": {
              "outlinewidth": 0,
              "ticks": ""
             }
            },
            "type": "scattergl"
           }
          ],
          "scattermapbox": [
           {
            "marker": {
             "colorbar": {
              "outlinewidth": 0,
              "ticks": ""
             }
            },
            "type": "scattermapbox"
           }
          ],
          "scatterpolar": [
           {
            "marker": {
             "colorbar": {
              "outlinewidth": 0,
              "ticks": ""
             }
            },
            "type": "scatterpolar"
           }
          ],
          "scatterpolargl": [
           {
            "marker": {
             "colorbar": {
              "outlinewidth": 0,
              "ticks": ""
             }
            },
            "type": "scatterpolargl"
           }
          ],
          "scatterternary": [
           {
            "marker": {
             "colorbar": {
              "outlinewidth": 0,
              "ticks": ""
             }
            },
            "type": "scatterternary"
           }
          ],
          "surface": [
           {
            "colorbar": {
             "outlinewidth": 0,
             "ticks": ""
            },
            "colorscale": [
             [
              0,
              "#0d0887"
             ],
             [
              0.1111111111111111,
              "#46039f"
             ],
             [
              0.2222222222222222,
              "#7201a8"
             ],
             [
              0.3333333333333333,
              "#9c179e"
             ],
             [
              0.4444444444444444,
              "#bd3786"
             ],
             [
              0.5555555555555556,
              "#d8576b"
             ],
             [
              0.6666666666666666,
              "#ed7953"
             ],
             [
              0.7777777777777778,
              "#fb9f3a"
             ],
             [
              0.8888888888888888,
              "#fdca26"
             ],
             [
              1,
              "#f0f921"
             ]
            ],
            "type": "surface"
           }
          ],
          "table": [
           {
            "cells": {
             "fill": {
              "color": "#EBF0F8"
             },
             "line": {
              "color": "white"
             }
            },
            "header": {
             "fill": {
              "color": "#C8D4E3"
             },
             "line": {
              "color": "white"
             }
            },
            "type": "table"
           }
          ]
         },
         "layout": {
          "annotationdefaults": {
           "arrowcolor": "#2a3f5f",
           "arrowhead": 0,
           "arrowwidth": 1
          },
          "coloraxis": {
           "colorbar": {
            "outlinewidth": 0,
            "ticks": ""
           }
          },
          "colorscale": {
           "diverging": [
            [
             0,
             "#8e0152"
            ],
            [
             0.1,
             "#c51b7d"
            ],
            [
             0.2,
             "#de77ae"
            ],
            [
             0.3,
             "#f1b6da"
            ],
            [
             0.4,
             "#fde0ef"
            ],
            [
             0.5,
             "#f7f7f7"
            ],
            [
             0.6,
             "#e6f5d0"
            ],
            [
             0.7,
             "#b8e186"
            ],
            [
             0.8,
             "#7fbc41"
            ],
            [
             0.9,
             "#4d9221"
            ],
            [
             1,
             "#276419"
            ]
           ],
           "sequential": [
            [
             0,
             "#0d0887"
            ],
            [
             0.1111111111111111,
             "#46039f"
            ],
            [
             0.2222222222222222,
             "#7201a8"
            ],
            [
             0.3333333333333333,
             "#9c179e"
            ],
            [
             0.4444444444444444,
             "#bd3786"
            ],
            [
             0.5555555555555556,
             "#d8576b"
            ],
            [
             0.6666666666666666,
             "#ed7953"
            ],
            [
             0.7777777777777778,
             "#fb9f3a"
            ],
            [
             0.8888888888888888,
             "#fdca26"
            ],
            [
             1,
             "#f0f921"
            ]
           ],
           "sequentialminus": [
            [
             0,
             "#0d0887"
            ],
            [
             0.1111111111111111,
             "#46039f"
            ],
            [
             0.2222222222222222,
             "#7201a8"
            ],
            [
             0.3333333333333333,
             "#9c179e"
            ],
            [
             0.4444444444444444,
             "#bd3786"
            ],
            [
             0.5555555555555556,
             "#d8576b"
            ],
            [
             0.6666666666666666,
             "#ed7953"
            ],
            [
             0.7777777777777778,
             "#fb9f3a"
            ],
            [
             0.8888888888888888,
             "#fdca26"
            ],
            [
             1,
             "#f0f921"
            ]
           ]
          },
          "colorway": [
           "#636efa",
           "#EF553B",
           "#00cc96",
           "#ab63fa",
           "#FFA15A",
           "#19d3f3",
           "#FF6692",
           "#B6E880",
           "#FF97FF",
           "#FECB52"
          ],
          "font": {
           "color": "#2a3f5f"
          },
          "geo": {
           "bgcolor": "white",
           "lakecolor": "white",
           "landcolor": "#E5ECF6",
           "showlakes": true,
           "showland": true,
           "subunitcolor": "white"
          },
          "hoverlabel": {
           "align": "left"
          },
          "hovermode": "closest",
          "mapbox": {
           "style": "light"
          },
          "paper_bgcolor": "white",
          "plot_bgcolor": "#E5ECF6",
          "polar": {
           "angularaxis": {
            "gridcolor": "white",
            "linecolor": "white",
            "ticks": ""
           },
           "bgcolor": "#E5ECF6",
           "radialaxis": {
            "gridcolor": "white",
            "linecolor": "white",
            "ticks": ""
           }
          },
          "scene": {
           "xaxis": {
            "backgroundcolor": "#E5ECF6",
            "gridcolor": "white",
            "gridwidth": 2,
            "linecolor": "white",
            "showbackground": true,
            "ticks": "",
            "zerolinecolor": "white"
           },
           "yaxis": {
            "backgroundcolor": "#E5ECF6",
            "gridcolor": "white",
            "gridwidth": 2,
            "linecolor": "white",
            "showbackground": true,
            "ticks": "",
            "zerolinecolor": "white"
           },
           "zaxis": {
            "backgroundcolor": "#E5ECF6",
            "gridcolor": "white",
            "gridwidth": 2,
            "linecolor": "white",
            "showbackground": true,
            "ticks": "",
            "zerolinecolor": "white"
           }
          },
          "shapedefaults": {
           "line": {
            "color": "#2a3f5f"
           }
          },
          "ternary": {
           "aaxis": {
            "gridcolor": "white",
            "linecolor": "white",
            "ticks": ""
           },
           "baxis": {
            "gridcolor": "white",
            "linecolor": "white",
            "ticks": ""
           },
           "bgcolor": "#E5ECF6",
           "caxis": {
            "gridcolor": "white",
            "linecolor": "white",
            "ticks": ""
           }
          },
          "title": {
           "x": 0.05
          },
          "xaxis": {
           "automargin": true,
           "gridcolor": "white",
           "linecolor": "white",
           "ticks": "",
           "title": {
            "standoff": 15
           },
           "zerolinecolor": "white",
           "zerolinewidth": 2
          },
          "yaxis": {
           "automargin": true,
           "gridcolor": "white",
           "linecolor": "white",
           "ticks": "",
           "title": {
            "standoff": 15
           },
           "zerolinecolor": "white",
           "zerolinewidth": 2
          }
         }
        },
        "title": {
         "text": "estimated safety of the car distribution "
        }
       }
      },
      "text/html": [
       "<div>\n",
       "        \n",
       "        \n",
       "            <div id=\"7119c206-db52-4d51-a8ed-61ce74fcf724\" class=\"plotly-graph-div\" style=\"height:525px; width:100%;\"></div>\n",
       "            <script type=\"text/javascript\">\n",
       "                require([\"plotly\"], function(Plotly) {\n",
       "                    window.PLOTLYENV=window.PLOTLYENV || {};\n",
       "                    \n",
       "                if (document.getElementById(\"7119c206-db52-4d51-a8ed-61ce74fcf724\")) {\n",
       "                    Plotly.newPlot(\n",
       "                        '7119c206-db52-4d51-a8ed-61ce74fcf724',\n",
       "                        [{\"domain\": {\"x\": [0, 0.48]}, \"hole\": 0.6, \"hoverinfo\": \"label+percent+name\", \"labels\": [\"high\", \"med\"], \"marker\": {\"line\": {\"color\": \"rgb(243,243,243)\", \"width\": 2}}, \"name\": \"car_class >= acc\", \"type\": \"pie\", \"values\": [299, 219]}, {\"domain\": {\"x\": [0.52, 1]}, \"hole\": 0.6, \"hoverinfo\": \"label+percent+name\", \"labels\": [\"low\", \"med\", \"high\"], \"marker\": {\"line\": {\"color\": \"rgb(243,243,243)\", \"width\": 2}}, \"name\": \"car_class == unacc\", \"type\": \"pie\", \"values\": [576, 357, 277]}],\n",
       "                        {\"annotations\": [{\"font\": {\"size\": 13}, \"showarrow\": false, \"text\": \"car_class >= acc\", \"x\": 0.15, \"y\": 0.5}, {\"font\": {\"size\": 13}, \"showarrow\": false, \"text\": \"car_class == unacc\", \"x\": 0.88, \"y\": 0.5}], \"paper_bgcolor\": \"rgb(243,243,243)\", \"plot_bgcolor\": \"rgb(243,243,243)\", \"template\": {\"data\": {\"bar\": [{\"error_x\": {\"color\": \"#2a3f5f\"}, \"error_y\": {\"color\": \"#2a3f5f\"}, \"marker\": {\"line\": {\"color\": \"#E5ECF6\", \"width\": 0.5}}, \"type\": \"bar\"}], \"barpolar\": [{\"marker\": {\"line\": {\"color\": \"#E5ECF6\", \"width\": 0.5}}, \"type\": \"barpolar\"}], \"carpet\": [{\"aaxis\": {\"endlinecolor\": \"#2a3f5f\", \"gridcolor\": \"white\", \"linecolor\": \"white\", \"minorgridcolor\": \"white\", \"startlinecolor\": \"#2a3f5f\"}, \"baxis\": {\"endlinecolor\": \"#2a3f5f\", \"gridcolor\": \"white\", \"linecolor\": \"white\", \"minorgridcolor\": \"white\", \"startlinecolor\": \"#2a3f5f\"}, \"type\": \"carpet\"}], \"choropleth\": [{\"colorbar\": {\"outlinewidth\": 0, \"ticks\": \"\"}, \"type\": \"choropleth\"}], \"contour\": [{\"colorbar\": {\"outlinewidth\": 0, \"ticks\": \"\"}, \"colorscale\": [[0.0, \"#0d0887\"], [0.1111111111111111, \"#46039f\"], [0.2222222222222222, \"#7201a8\"], [0.3333333333333333, \"#9c179e\"], [0.4444444444444444, \"#bd3786\"], [0.5555555555555556, \"#d8576b\"], [0.6666666666666666, \"#ed7953\"], [0.7777777777777778, \"#fb9f3a\"], [0.8888888888888888, \"#fdca26\"], [1.0, \"#f0f921\"]], \"type\": \"contour\"}], \"contourcarpet\": [{\"colorbar\": {\"outlinewidth\": 0, \"ticks\": \"\"}, \"type\": \"contourcarpet\"}], \"heatmap\": [{\"colorbar\": {\"outlinewidth\": 0, \"ticks\": \"\"}, \"colorscale\": [[0.0, \"#0d0887\"], [0.1111111111111111, \"#46039f\"], [0.2222222222222222, \"#7201a8\"], [0.3333333333333333, \"#9c179e\"], [0.4444444444444444, \"#bd3786\"], [0.5555555555555556, \"#d8576b\"], [0.6666666666666666, \"#ed7953\"], [0.7777777777777778, \"#fb9f3a\"], [0.8888888888888888, \"#fdca26\"], [1.0, \"#f0f921\"]], \"type\": \"heatmap\"}], \"heatmapgl\": [{\"colorbar\": {\"outlinewidth\": 0, \"ticks\": \"\"}, \"colorscale\": [[0.0, \"#0d0887\"], [0.1111111111111111, \"#46039f\"], [0.2222222222222222, \"#7201a8\"], [0.3333333333333333, \"#9c179e\"], [0.4444444444444444, \"#bd3786\"], [0.5555555555555556, \"#d8576b\"], [0.6666666666666666, \"#ed7953\"], [0.7777777777777778, \"#fb9f3a\"], [0.8888888888888888, \"#fdca26\"], [1.0, \"#f0f921\"]], \"type\": \"heatmapgl\"}], \"histogram\": [{\"marker\": {\"colorbar\": {\"outlinewidth\": 0, \"ticks\": \"\"}}, \"type\": \"histogram\"}], \"histogram2d\": [{\"colorbar\": {\"outlinewidth\": 0, \"ticks\": \"\"}, \"colorscale\": [[0.0, \"#0d0887\"], [0.1111111111111111, \"#46039f\"], [0.2222222222222222, \"#7201a8\"], [0.3333333333333333, \"#9c179e\"], [0.4444444444444444, \"#bd3786\"], [0.5555555555555556, \"#d8576b\"], [0.6666666666666666, \"#ed7953\"], [0.7777777777777778, \"#fb9f3a\"], [0.8888888888888888, \"#fdca26\"], [1.0, \"#f0f921\"]], \"type\": \"histogram2d\"}], \"histogram2dcontour\": [{\"colorbar\": {\"outlinewidth\": 0, \"ticks\": \"\"}, \"colorscale\": [[0.0, \"#0d0887\"], [0.1111111111111111, \"#46039f\"], [0.2222222222222222, \"#7201a8\"], [0.3333333333333333, \"#9c179e\"], [0.4444444444444444, \"#bd3786\"], [0.5555555555555556, \"#d8576b\"], [0.6666666666666666, \"#ed7953\"], [0.7777777777777778, \"#fb9f3a\"], [0.8888888888888888, \"#fdca26\"], [1.0, \"#f0f921\"]], \"type\": \"histogram2dcontour\"}], \"mesh3d\": [{\"colorbar\": {\"outlinewidth\": 0, \"ticks\": \"\"}, \"type\": \"mesh3d\"}], \"parcoords\": [{\"line\": {\"colorbar\": {\"outlinewidth\": 0, \"ticks\": \"\"}}, \"type\": \"parcoords\"}], \"pie\": [{\"automargin\": true, \"type\": \"pie\"}], \"scatter\": [{\"marker\": {\"colorbar\": {\"outlinewidth\": 0, \"ticks\": \"\"}}, \"type\": \"scatter\"}], \"scatter3d\": [{\"line\": {\"colorbar\": {\"outlinewidth\": 0, \"ticks\": \"\"}}, \"marker\": {\"colorbar\": {\"outlinewidth\": 0, \"ticks\": \"\"}}, \"type\": \"scatter3d\"}], \"scattercarpet\": [{\"marker\": {\"colorbar\": {\"outlinewidth\": 0, \"ticks\": \"\"}}, \"type\": \"scattercarpet\"}], \"scattergeo\": [{\"marker\": {\"colorbar\": {\"outlinewidth\": 0, \"ticks\": \"\"}}, \"type\": \"scattergeo\"}], \"scattergl\": [{\"marker\": {\"colorbar\": {\"outlinewidth\": 0, \"ticks\": \"\"}}, \"type\": \"scattergl\"}], \"scattermapbox\": [{\"marker\": {\"colorbar\": {\"outlinewidth\": 0, \"ticks\": \"\"}}, \"type\": \"scattermapbox\"}], \"scatterpolar\": [{\"marker\": {\"colorbar\": {\"outlinewidth\": 0, \"ticks\": \"\"}}, \"type\": \"scatterpolar\"}], \"scatterpolargl\": [{\"marker\": {\"colorbar\": {\"outlinewidth\": 0, \"ticks\": \"\"}}, \"type\": \"scatterpolargl\"}], \"scatterternary\": [{\"marker\": {\"colorbar\": {\"outlinewidth\": 0, \"ticks\": \"\"}}, \"type\": \"scatterternary\"}], \"surface\": [{\"colorbar\": {\"outlinewidth\": 0, \"ticks\": \"\"}, \"colorscale\": [[0.0, \"#0d0887\"], [0.1111111111111111, \"#46039f\"], [0.2222222222222222, \"#7201a8\"], [0.3333333333333333, \"#9c179e\"], [0.4444444444444444, \"#bd3786\"], [0.5555555555555556, \"#d8576b\"], [0.6666666666666666, \"#ed7953\"], [0.7777777777777778, \"#fb9f3a\"], [0.8888888888888888, \"#fdca26\"], [1.0, \"#f0f921\"]], \"type\": \"surface\"}], \"table\": [{\"cells\": {\"fill\": {\"color\": \"#EBF0F8\"}, \"line\": {\"color\": \"white\"}}, \"header\": {\"fill\": {\"color\": \"#C8D4E3\"}, \"line\": {\"color\": \"white\"}}, \"type\": \"table\"}]}, \"layout\": {\"annotationdefaults\": {\"arrowcolor\": \"#2a3f5f\", \"arrowhead\": 0, \"arrowwidth\": 1}, \"coloraxis\": {\"colorbar\": {\"outlinewidth\": 0, \"ticks\": \"\"}}, \"colorscale\": {\"diverging\": [[0, \"#8e0152\"], [0.1, \"#c51b7d\"], [0.2, \"#de77ae\"], [0.3, \"#f1b6da\"], [0.4, \"#fde0ef\"], [0.5, \"#f7f7f7\"], [0.6, \"#e6f5d0\"], [0.7, \"#b8e186\"], [0.8, \"#7fbc41\"], [0.9, \"#4d9221\"], [1, \"#276419\"]], \"sequential\": [[0.0, \"#0d0887\"], [0.1111111111111111, \"#46039f\"], [0.2222222222222222, \"#7201a8\"], [0.3333333333333333, \"#9c179e\"], [0.4444444444444444, \"#bd3786\"], [0.5555555555555556, \"#d8576b\"], [0.6666666666666666, \"#ed7953\"], [0.7777777777777778, \"#fb9f3a\"], [0.8888888888888888, \"#fdca26\"], [1.0, \"#f0f921\"]], \"sequentialminus\": [[0.0, \"#0d0887\"], [0.1111111111111111, \"#46039f\"], [0.2222222222222222, \"#7201a8\"], [0.3333333333333333, \"#9c179e\"], [0.4444444444444444, \"#bd3786\"], [0.5555555555555556, \"#d8576b\"], [0.6666666666666666, \"#ed7953\"], [0.7777777777777778, \"#fb9f3a\"], [0.8888888888888888, \"#fdca26\"], [1.0, \"#f0f921\"]]}, \"colorway\": [\"#636efa\", \"#EF553B\", \"#00cc96\", \"#ab63fa\", \"#FFA15A\", \"#19d3f3\", \"#FF6692\", \"#B6E880\", \"#FF97FF\", \"#FECB52\"], \"font\": {\"color\": \"#2a3f5f\"}, \"geo\": {\"bgcolor\": \"white\", \"lakecolor\": \"white\", \"landcolor\": \"#E5ECF6\", \"showlakes\": true, \"showland\": true, \"subunitcolor\": \"white\"}, \"hoverlabel\": {\"align\": \"left\"}, \"hovermode\": \"closest\", \"mapbox\": {\"style\": \"light\"}, \"paper_bgcolor\": \"white\", \"plot_bgcolor\": \"#E5ECF6\", \"polar\": {\"angularaxis\": {\"gridcolor\": \"white\", \"linecolor\": \"white\", \"ticks\": \"\"}, \"bgcolor\": \"#E5ECF6\", \"radialaxis\": {\"gridcolor\": \"white\", \"linecolor\": \"white\", \"ticks\": \"\"}}, \"scene\": {\"xaxis\": {\"backgroundcolor\": \"#E5ECF6\", \"gridcolor\": \"white\", \"gridwidth\": 2, \"linecolor\": \"white\", \"showbackground\": true, \"ticks\": \"\", \"zerolinecolor\": \"white\"}, \"yaxis\": {\"backgroundcolor\": \"#E5ECF6\", \"gridcolor\": \"white\", \"gridwidth\": 2, \"linecolor\": \"white\", \"showbackground\": true, \"ticks\": \"\", \"zerolinecolor\": \"white\"}, \"zaxis\": {\"backgroundcolor\": \"#E5ECF6\", \"gridcolor\": \"white\", \"gridwidth\": 2, \"linecolor\": \"white\", \"showbackground\": true, \"ticks\": \"\", \"zerolinecolor\": \"white\"}}, \"shapedefaults\": {\"line\": {\"color\": \"#2a3f5f\"}}, \"ternary\": {\"aaxis\": {\"gridcolor\": \"white\", \"linecolor\": \"white\", \"ticks\": \"\"}, \"baxis\": {\"gridcolor\": \"white\", \"linecolor\": \"white\", \"ticks\": \"\"}, \"bgcolor\": \"#E5ECF6\", \"caxis\": {\"gridcolor\": \"white\", \"linecolor\": \"white\", \"ticks\": \"\"}}, \"title\": {\"x\": 0.05}, \"xaxis\": {\"automargin\": true, \"gridcolor\": \"white\", \"linecolor\": \"white\", \"ticks\": \"\", \"title\": {\"standoff\": 15}, \"zerolinecolor\": \"white\", \"zerolinewidth\": 2}, \"yaxis\": {\"automargin\": true, \"gridcolor\": \"white\", \"linecolor\": \"white\", \"ticks\": \"\", \"title\": {\"standoff\": 15}, \"zerolinecolor\": \"white\", \"zerolinewidth\": 2}}}, \"title\": {\"text\": \"estimated safety of the car distribution \"}},\n",
       "                        {\"responsive\": true}\n",
       "                    ).then(function(){\n",
       "                            \n",
       "var gd = document.getElementById('7119c206-db52-4d51-a8ed-61ce74fcf724');\n",
       "var x = new MutationObserver(function (mutations, observer) {{\n",
       "        var display = window.getComputedStyle(gd).display;\n",
       "        if (!display || display === 'none') {{\n",
       "            console.log([gd, 'removed!']);\n",
       "            Plotly.purge(gd);\n",
       "            observer.disconnect();\n",
       "        }}\n",
       "}});\n",
       "\n",
       "// Listen for the removal of the full notebook cells\n",
       "var notebookContainer = gd.closest('#notebook-container');\n",
       "if (notebookContainer) {{\n",
       "    x.observe(notebookContainer, {childList: true});\n",
       "}}\n",
       "\n",
       "// Listen for the clearing of the current output cell\n",
       "var outputEl = gd.closest('.output');\n",
       "if (outputEl) {{\n",
       "    x.observe(outputEl, {childList: true});\n",
       "}}\n",
       "\n",
       "                        })\n",
       "                };\n",
       "                });\n",
       "            </script>\n",
       "        </div>"
      ]
     },
     "metadata": {},
     "output_type": "display_data"
    }
   ],
   "source": [
    "def get_title(column):\n",
    "    if(column=='buying'):\n",
    "        return 'car buying price'\n",
    "    elif(column=='maint'):\n",
    "        return 'price of the maintenance'\n",
    "    elif (column=='doors'):\n",
    "        return 'number of doors'\n",
    "    elif (column=='persons'):\n",
    "        return 'capacity in terms of persons to carry'\n",
    "    elif (column=='lug_boot'):\n",
    "        return 'the size of luggage boot'\n",
    "    elif (column=='safety'):\n",
    "        return 'estimated safety of the car'\n",
    "    \n",
    "#function  for pie plot for customer attrition types\n",
    "def plot_pie(column) :\n",
    "    \n",
    "    trace1 = go.Pie(values  = acc_car_class[column].value_counts().values.tolist(),\n",
    "                    labels  = acc_car_class[column].value_counts().keys().tolist(),\n",
    "                    hoverinfo = \"label+percent+name\",\n",
    "                    domain  = dict(x = [0,.48]),\n",
    "                    name    = \"car_class >= acc\",\n",
    "                    marker  = dict(line = dict(width = 2,\n",
    "                                               color = \"rgb(243,243,243)\")\n",
    "                                  ),\n",
    "                    hole    = .6\n",
    "                   )\n",
    "    trace2 = go.Pie(values  = unacc_car_class[column].value_counts().values.tolist(),\n",
    "                    labels  = unacc_car_class[column].value_counts().keys().tolist(),\n",
    "                    hoverinfo = \"label+percent+name\",\n",
    "                    marker  = dict(line = dict(width = 2,\n",
    "                                               color = \"rgb(243,243,243)\")\n",
    "                                  ),\n",
    "                    domain  = dict(x = [.52,1]),\n",
    "                    hole    = .6,\n",
    "                    name    = \"car_class == unacc\" \n",
    "                   )\n",
    "\n",
    "\n",
    "    \n",
    "    layout = go.Layout(dict(title = get_title(column) + \" distribution \",\n",
    "                            plot_bgcolor  = \"rgb(243,243,243)\",\n",
    "                            paper_bgcolor = \"rgb(243,243,243)\",\n",
    "                            annotations = [dict(text = \"car_class >= acc\",\n",
    "                                                font = dict(size = 13),\n",
    "                                                showarrow = False,\n",
    "                                                x = .15, y = .5),\n",
    "                                           dict(text = \"car_class == unacc\",\n",
    "                                                font = dict(size = 13),\n",
    "                                                showarrow = False,\n",
    "                                                x = .88,y = .5\n",
    "                                               )\n",
    "                                          ]\n",
    "                           )\n",
    "                      )\n",
    "    data_fig = [trace1,trace2]\n",
    "    fig  = go.Figure(data = data_fig,layout = layout)\n",
    "    py.iplot(fig)\n",
    "\n",
    "\n",
    "#for all categorical columns plot pie\n",
    "for i in cat_cols :\n",
    "    plot_pie(i)\n",
    "\n"
   ]
  },
  {
   "cell_type": "code",
   "execution_count": 14,
   "metadata": {},
   "outputs": [
    {
     "data": {
      "application/vnd.plotly.v1+json": {
       "config": {
        "linkText": "Export to plot.ly",
        "plotlyServerURL": "https://plot.ly",
        "showLink": false
       },
       "data": [
        {
         "marker": {
          "line": {
           "color": "black",
           "width": 0.5
          }
         },
         "name": "car_class >= acc",
         "opacity": 0.9,
         "type": "bar",
         "x": [
          "low",
          "med",
          "high",
          "vhigh"
         ],
         "y": [
          174,
          164,
          108,
          72
         ]
        },
        {
         "marker": {
          "line": {
           "color": "black",
           "width": 0.5
          }
         },
         "name": "car_class == unacc",
         "opacity": 0.9,
         "type": "bar",
         "x": [
          "vhigh",
          "high",
          "med",
          "low"
         ],
         "y": [
          360,
          324,
          268,
          258
         ]
        }
       ],
       "layout": {
        "paper_bgcolor": "rgb(243,243,243)",
        "plot_bgcolor": "rgb(243,243,243)",
        "template": {
         "data": {
          "bar": [
           {
            "error_x": {
             "color": "#2a3f5f"
            },
            "error_y": {
             "color": "#2a3f5f"
            },
            "marker": {
             "line": {
              "color": "#E5ECF6",
              "width": 0.5
             }
            },
            "type": "bar"
           }
          ],
          "barpolar": [
           {
            "marker": {
             "line": {
              "color": "#E5ECF6",
              "width": 0.5
             }
            },
            "type": "barpolar"
           }
          ],
          "carpet": [
           {
            "aaxis": {
             "endlinecolor": "#2a3f5f",
             "gridcolor": "white",
             "linecolor": "white",
             "minorgridcolor": "white",
             "startlinecolor": "#2a3f5f"
            },
            "baxis": {
             "endlinecolor": "#2a3f5f",
             "gridcolor": "white",
             "linecolor": "white",
             "minorgridcolor": "white",
             "startlinecolor": "#2a3f5f"
            },
            "type": "carpet"
           }
          ],
          "choropleth": [
           {
            "colorbar": {
             "outlinewidth": 0,
             "ticks": ""
            },
            "type": "choropleth"
           }
          ],
          "contour": [
           {
            "colorbar": {
             "outlinewidth": 0,
             "ticks": ""
            },
            "colorscale": [
             [
              0,
              "#0d0887"
             ],
             [
              0.1111111111111111,
              "#46039f"
             ],
             [
              0.2222222222222222,
              "#7201a8"
             ],
             [
              0.3333333333333333,
              "#9c179e"
             ],
             [
              0.4444444444444444,
              "#bd3786"
             ],
             [
              0.5555555555555556,
              "#d8576b"
             ],
             [
              0.6666666666666666,
              "#ed7953"
             ],
             [
              0.7777777777777778,
              "#fb9f3a"
             ],
             [
              0.8888888888888888,
              "#fdca26"
             ],
             [
              1,
              "#f0f921"
             ]
            ],
            "type": "contour"
           }
          ],
          "contourcarpet": [
           {
            "colorbar": {
             "outlinewidth": 0,
             "ticks": ""
            },
            "type": "contourcarpet"
           }
          ],
          "heatmap": [
           {
            "colorbar": {
             "outlinewidth": 0,
             "ticks": ""
            },
            "colorscale": [
             [
              0,
              "#0d0887"
             ],
             [
              0.1111111111111111,
              "#46039f"
             ],
             [
              0.2222222222222222,
              "#7201a8"
             ],
             [
              0.3333333333333333,
              "#9c179e"
             ],
             [
              0.4444444444444444,
              "#bd3786"
             ],
             [
              0.5555555555555556,
              "#d8576b"
             ],
             [
              0.6666666666666666,
              "#ed7953"
             ],
             [
              0.7777777777777778,
              "#fb9f3a"
             ],
             [
              0.8888888888888888,
              "#fdca26"
             ],
             [
              1,
              "#f0f921"
             ]
            ],
            "type": "heatmap"
           }
          ],
          "heatmapgl": [
           {
            "colorbar": {
             "outlinewidth": 0,
             "ticks": ""
            },
            "colorscale": [
             [
              0,
              "#0d0887"
             ],
             [
              0.1111111111111111,
              "#46039f"
             ],
             [
              0.2222222222222222,
              "#7201a8"
             ],
             [
              0.3333333333333333,
              "#9c179e"
             ],
             [
              0.4444444444444444,
              "#bd3786"
             ],
             [
              0.5555555555555556,
              "#d8576b"
             ],
             [
              0.6666666666666666,
              "#ed7953"
             ],
             [
              0.7777777777777778,
              "#fb9f3a"
             ],
             [
              0.8888888888888888,
              "#fdca26"
             ],
             [
              1,
              "#f0f921"
             ]
            ],
            "type": "heatmapgl"
           }
          ],
          "histogram": [
           {
            "marker": {
             "colorbar": {
              "outlinewidth": 0,
              "ticks": ""
             }
            },
            "type": "histogram"
           }
          ],
          "histogram2d": [
           {
            "colorbar": {
             "outlinewidth": 0,
             "ticks": ""
            },
            "colorscale": [
             [
              0,
              "#0d0887"
             ],
             [
              0.1111111111111111,
              "#46039f"
             ],
             [
              0.2222222222222222,
              "#7201a8"
             ],
             [
              0.3333333333333333,
              "#9c179e"
             ],
             [
              0.4444444444444444,
              "#bd3786"
             ],
             [
              0.5555555555555556,
              "#d8576b"
             ],
             [
              0.6666666666666666,
              "#ed7953"
             ],
             [
              0.7777777777777778,
              "#fb9f3a"
             ],
             [
              0.8888888888888888,
              "#fdca26"
             ],
             [
              1,
              "#f0f921"
             ]
            ],
            "type": "histogram2d"
           }
          ],
          "histogram2dcontour": [
           {
            "colorbar": {
             "outlinewidth": 0,
             "ticks": ""
            },
            "colorscale": [
             [
              0,
              "#0d0887"
             ],
             [
              0.1111111111111111,
              "#46039f"
             ],
             [
              0.2222222222222222,
              "#7201a8"
             ],
             [
              0.3333333333333333,
              "#9c179e"
             ],
             [
              0.4444444444444444,
              "#bd3786"
             ],
             [
              0.5555555555555556,
              "#d8576b"
             ],
             [
              0.6666666666666666,
              "#ed7953"
             ],
             [
              0.7777777777777778,
              "#fb9f3a"
             ],
             [
              0.8888888888888888,
              "#fdca26"
             ],
             [
              1,
              "#f0f921"
             ]
            ],
            "type": "histogram2dcontour"
           }
          ],
          "mesh3d": [
           {
            "colorbar": {
             "outlinewidth": 0,
             "ticks": ""
            },
            "type": "mesh3d"
           }
          ],
          "parcoords": [
           {
            "line": {
             "colorbar": {
              "outlinewidth": 0,
              "ticks": ""
             }
            },
            "type": "parcoords"
           }
          ],
          "pie": [
           {
            "automargin": true,
            "type": "pie"
           }
          ],
          "scatter": [
           {
            "marker": {
             "colorbar": {
              "outlinewidth": 0,
              "ticks": ""
             }
            },
            "type": "scatter"
           }
          ],
          "scatter3d": [
           {
            "line": {
             "colorbar": {
              "outlinewidth": 0,
              "ticks": ""
             }
            },
            "marker": {
             "colorbar": {
              "outlinewidth": 0,
              "ticks": ""
             }
            },
            "type": "scatter3d"
           }
          ],
          "scattercarpet": [
           {
            "marker": {
             "colorbar": {
              "outlinewidth": 0,
              "ticks": ""
             }
            },
            "type": "scattercarpet"
           }
          ],
          "scattergeo": [
           {
            "marker": {
             "colorbar": {
              "outlinewidth": 0,
              "ticks": ""
             }
            },
            "type": "scattergeo"
           }
          ],
          "scattergl": [
           {
            "marker": {
             "colorbar": {
              "outlinewidth": 0,
              "ticks": ""
             }
            },
            "type": "scattergl"
           }
          ],
          "scattermapbox": [
           {
            "marker": {
             "colorbar": {
              "outlinewidth": 0,
              "ticks": ""
             }
            },
            "type": "scattermapbox"
           }
          ],
          "scatterpolar": [
           {
            "marker": {
             "colorbar": {
              "outlinewidth": 0,
              "ticks": ""
             }
            },
            "type": "scatterpolar"
           }
          ],
          "scatterpolargl": [
           {
            "marker": {
             "colorbar": {
              "outlinewidth": 0,
              "ticks": ""
             }
            },
            "type": "scatterpolargl"
           }
          ],
          "scatterternary": [
           {
            "marker": {
             "colorbar": {
              "outlinewidth": 0,
              "ticks": ""
             }
            },
            "type": "scatterternary"
           }
          ],
          "surface": [
           {
            "colorbar": {
             "outlinewidth": 0,
             "ticks": ""
            },
            "colorscale": [
             [
              0,
              "#0d0887"
             ],
             [
              0.1111111111111111,
              "#46039f"
             ],
             [
              0.2222222222222222,
              "#7201a8"
             ],
             [
              0.3333333333333333,
              "#9c179e"
             ],
             [
              0.4444444444444444,
              "#bd3786"
             ],
             [
              0.5555555555555556,
              "#d8576b"
             ],
             [
              0.6666666666666666,
              "#ed7953"
             ],
             [
              0.7777777777777778,
              "#fb9f3a"
             ],
             [
              0.8888888888888888,
              "#fdca26"
             ],
             [
              1,
              "#f0f921"
             ]
            ],
            "type": "surface"
           }
          ],
          "table": [
           {
            "cells": {
             "fill": {
              "color": "#EBF0F8"
             },
             "line": {
              "color": "white"
             }
            },
            "header": {
             "fill": {
              "color": "#C8D4E3"
             },
             "line": {
              "color": "white"
             }
            },
            "type": "table"
           }
          ]
         },
         "layout": {
          "annotationdefaults": {
           "arrowcolor": "#2a3f5f",
           "arrowhead": 0,
           "arrowwidth": 1
          },
          "coloraxis": {
           "colorbar": {
            "outlinewidth": 0,
            "ticks": ""
           }
          },
          "colorscale": {
           "diverging": [
            [
             0,
             "#8e0152"
            ],
            [
             0.1,
             "#c51b7d"
            ],
            [
             0.2,
             "#de77ae"
            ],
            [
             0.3,
             "#f1b6da"
            ],
            [
             0.4,
             "#fde0ef"
            ],
            [
             0.5,
             "#f7f7f7"
            ],
            [
             0.6,
             "#e6f5d0"
            ],
            [
             0.7,
             "#b8e186"
            ],
            [
             0.8,
             "#7fbc41"
            ],
            [
             0.9,
             "#4d9221"
            ],
            [
             1,
             "#276419"
            ]
           ],
           "sequential": [
            [
             0,
             "#0d0887"
            ],
            [
             0.1111111111111111,
             "#46039f"
            ],
            [
             0.2222222222222222,
             "#7201a8"
            ],
            [
             0.3333333333333333,
             "#9c179e"
            ],
            [
             0.4444444444444444,
             "#bd3786"
            ],
            [
             0.5555555555555556,
             "#d8576b"
            ],
            [
             0.6666666666666666,
             "#ed7953"
            ],
            [
             0.7777777777777778,
             "#fb9f3a"
            ],
            [
             0.8888888888888888,
             "#fdca26"
            ],
            [
             1,
             "#f0f921"
            ]
           ],
           "sequentialminus": [
            [
             0,
             "#0d0887"
            ],
            [
             0.1111111111111111,
             "#46039f"
            ],
            [
             0.2222222222222222,
             "#7201a8"
            ],
            [
             0.3333333333333333,
             "#9c179e"
            ],
            [
             0.4444444444444444,
             "#bd3786"
            ],
            [
             0.5555555555555556,
             "#d8576b"
            ],
            [
             0.6666666666666666,
             "#ed7953"
            ],
            [
             0.7777777777777778,
             "#fb9f3a"
            ],
            [
             0.8888888888888888,
             "#fdca26"
            ],
            [
             1,
             "#f0f921"
            ]
           ]
          },
          "colorway": [
           "#636efa",
           "#EF553B",
           "#00cc96",
           "#ab63fa",
           "#FFA15A",
           "#19d3f3",
           "#FF6692",
           "#B6E880",
           "#FF97FF",
           "#FECB52"
          ],
          "font": {
           "color": "#2a3f5f"
          },
          "geo": {
           "bgcolor": "white",
           "lakecolor": "white",
           "landcolor": "#E5ECF6",
           "showlakes": true,
           "showland": true,
           "subunitcolor": "white"
          },
          "hoverlabel": {
           "align": "left"
          },
          "hovermode": "closest",
          "mapbox": {
           "style": "light"
          },
          "paper_bgcolor": "white",
          "plot_bgcolor": "#E5ECF6",
          "polar": {
           "angularaxis": {
            "gridcolor": "white",
            "linecolor": "white",
            "ticks": ""
           },
           "bgcolor": "#E5ECF6",
           "radialaxis": {
            "gridcolor": "white",
            "linecolor": "white",
            "ticks": ""
           }
          },
          "scene": {
           "xaxis": {
            "backgroundcolor": "#E5ECF6",
            "gridcolor": "white",
            "gridwidth": 2,
            "linecolor": "white",
            "showbackground": true,
            "ticks": "",
            "zerolinecolor": "white"
           },
           "yaxis": {
            "backgroundcolor": "#E5ECF6",
            "gridcolor": "white",
            "gridwidth": 2,
            "linecolor": "white",
            "showbackground": true,
            "ticks": "",
            "zerolinecolor": "white"
           },
           "zaxis": {
            "backgroundcolor": "#E5ECF6",
            "gridcolor": "white",
            "gridwidth": 2,
            "linecolor": "white",
            "showbackground": true,
            "ticks": "",
            "zerolinecolor": "white"
           }
          },
          "shapedefaults": {
           "line": {
            "color": "#2a3f5f"
           }
          },
          "ternary": {
           "aaxis": {
            "gridcolor": "white",
            "linecolor": "white",
            "ticks": ""
           },
           "baxis": {
            "gridcolor": "white",
            "linecolor": "white",
            "ticks": ""
           },
           "bgcolor": "#E5ECF6",
           "caxis": {
            "gridcolor": "white",
            "linecolor": "white",
            "ticks": ""
           }
          },
          "title": {
           "x": 0.05
          },
          "xaxis": {
           "automargin": true,
           "gridcolor": "white",
           "linecolor": "white",
           "ticks": "",
           "title": {
            "standoff": 15
           },
           "zerolinecolor": "white",
           "zerolinewidth": 2
          },
          "yaxis": {
           "automargin": true,
           "gridcolor": "white",
           "linecolor": "white",
           "ticks": "",
           "title": {
            "standoff": 15
           },
           "zerolinecolor": "white",
           "zerolinewidth": 2
          }
         }
        },
        "title": {
         "text": "Distribution in car buying price"
        },
        "xaxis": {
         "gridcolor": "rgb(255, 255, 255)",
         "gridwidth": 2,
         "ticklen": 5,
         "title": {
          "text": "buying"
         },
         "zerolinewidth": 1
        },
        "yaxis": {
         "gridcolor": "rgb(255, 255, 255)",
         "gridwidth": 2,
         "ticklen": 5,
         "title": {
          "text": "count"
         },
         "zerolinewidth": 1
        }
       }
      },
      "text/html": [
       "<div>\n",
       "        \n",
       "        \n",
       "            <div id=\"dfbf756a-5ea2-4c45-a9eb-f6cfadda1320\" class=\"plotly-graph-div\" style=\"height:525px; width:100%;\"></div>\n",
       "            <script type=\"text/javascript\">\n",
       "                require([\"plotly\"], function(Plotly) {\n",
       "                    window.PLOTLYENV=window.PLOTLYENV || {};\n",
       "                    \n",
       "                if (document.getElementById(\"dfbf756a-5ea2-4c45-a9eb-f6cfadda1320\")) {\n",
       "                    Plotly.newPlot(\n",
       "                        'dfbf756a-5ea2-4c45-a9eb-f6cfadda1320',\n",
       "                        [{\"marker\": {\"line\": {\"color\": \"black\", \"width\": 0.5}}, \"name\": \"car_class >= acc\", \"opacity\": 0.9, \"type\": \"bar\", \"x\": [\"low\", \"med\", \"high\", \"vhigh\"], \"y\": [174, 164, 108, 72]}, {\"marker\": {\"line\": {\"color\": \"black\", \"width\": 0.5}}, \"name\": \"car_class == unacc\", \"opacity\": 0.9, \"type\": \"bar\", \"x\": [\"vhigh\", \"high\", \"med\", \"low\"], \"y\": [360, 324, 268, 258]}],\n",
       "                        {\"paper_bgcolor\": \"rgb(243,243,243)\", \"plot_bgcolor\": \"rgb(243,243,243)\", \"template\": {\"data\": {\"bar\": [{\"error_x\": {\"color\": \"#2a3f5f\"}, \"error_y\": {\"color\": \"#2a3f5f\"}, \"marker\": {\"line\": {\"color\": \"#E5ECF6\", \"width\": 0.5}}, \"type\": \"bar\"}], \"barpolar\": [{\"marker\": {\"line\": {\"color\": \"#E5ECF6\", \"width\": 0.5}}, \"type\": \"barpolar\"}], \"carpet\": [{\"aaxis\": {\"endlinecolor\": \"#2a3f5f\", \"gridcolor\": \"white\", \"linecolor\": \"white\", \"minorgridcolor\": \"white\", \"startlinecolor\": \"#2a3f5f\"}, \"baxis\": {\"endlinecolor\": \"#2a3f5f\", \"gridcolor\": \"white\", \"linecolor\": \"white\", \"minorgridcolor\": \"white\", \"startlinecolor\": \"#2a3f5f\"}, \"type\": \"carpet\"}], \"choropleth\": [{\"colorbar\": {\"outlinewidth\": 0, \"ticks\": \"\"}, \"type\": \"choropleth\"}], \"contour\": [{\"colorbar\": {\"outlinewidth\": 0, \"ticks\": \"\"}, \"colorscale\": [[0.0, \"#0d0887\"], [0.1111111111111111, \"#46039f\"], [0.2222222222222222, \"#7201a8\"], [0.3333333333333333, \"#9c179e\"], [0.4444444444444444, \"#bd3786\"], [0.5555555555555556, \"#d8576b\"], [0.6666666666666666, \"#ed7953\"], [0.7777777777777778, \"#fb9f3a\"], [0.8888888888888888, \"#fdca26\"], [1.0, \"#f0f921\"]], \"type\": \"contour\"}], \"contourcarpet\": [{\"colorbar\": {\"outlinewidth\": 0, \"ticks\": \"\"}, \"type\": \"contourcarpet\"}], \"heatmap\": [{\"colorbar\": {\"outlinewidth\": 0, \"ticks\": \"\"}, \"colorscale\": [[0.0, \"#0d0887\"], [0.1111111111111111, \"#46039f\"], [0.2222222222222222, \"#7201a8\"], [0.3333333333333333, \"#9c179e\"], [0.4444444444444444, \"#bd3786\"], [0.5555555555555556, \"#d8576b\"], [0.6666666666666666, \"#ed7953\"], [0.7777777777777778, \"#fb9f3a\"], [0.8888888888888888, \"#fdca26\"], [1.0, \"#f0f921\"]], \"type\": \"heatmap\"}], \"heatmapgl\": [{\"colorbar\": {\"outlinewidth\": 0, \"ticks\": \"\"}, \"colorscale\": [[0.0, \"#0d0887\"], [0.1111111111111111, \"#46039f\"], [0.2222222222222222, \"#7201a8\"], [0.3333333333333333, \"#9c179e\"], [0.4444444444444444, \"#bd3786\"], [0.5555555555555556, \"#d8576b\"], [0.6666666666666666, \"#ed7953\"], [0.7777777777777778, \"#fb9f3a\"], [0.8888888888888888, \"#fdca26\"], [1.0, \"#f0f921\"]], \"type\": \"heatmapgl\"}], \"histogram\": [{\"marker\": {\"colorbar\": {\"outlinewidth\": 0, \"ticks\": \"\"}}, \"type\": \"histogram\"}], \"histogram2d\": [{\"colorbar\": {\"outlinewidth\": 0, \"ticks\": \"\"}, \"colorscale\": [[0.0, \"#0d0887\"], [0.1111111111111111, \"#46039f\"], [0.2222222222222222, \"#7201a8\"], [0.3333333333333333, \"#9c179e\"], [0.4444444444444444, \"#bd3786\"], [0.5555555555555556, \"#d8576b\"], [0.6666666666666666, \"#ed7953\"], [0.7777777777777778, \"#fb9f3a\"], [0.8888888888888888, \"#fdca26\"], [1.0, \"#f0f921\"]], \"type\": \"histogram2d\"}], \"histogram2dcontour\": [{\"colorbar\": {\"outlinewidth\": 0, \"ticks\": \"\"}, \"colorscale\": [[0.0, \"#0d0887\"], [0.1111111111111111, \"#46039f\"], [0.2222222222222222, \"#7201a8\"], [0.3333333333333333, \"#9c179e\"], [0.4444444444444444, \"#bd3786\"], [0.5555555555555556, \"#d8576b\"], [0.6666666666666666, \"#ed7953\"], [0.7777777777777778, \"#fb9f3a\"], [0.8888888888888888, \"#fdca26\"], [1.0, \"#f0f921\"]], \"type\": \"histogram2dcontour\"}], \"mesh3d\": [{\"colorbar\": {\"outlinewidth\": 0, \"ticks\": \"\"}, \"type\": \"mesh3d\"}], \"parcoords\": [{\"line\": {\"colorbar\": {\"outlinewidth\": 0, \"ticks\": \"\"}}, \"type\": \"parcoords\"}], \"pie\": [{\"automargin\": true, \"type\": \"pie\"}], \"scatter\": [{\"marker\": {\"colorbar\": {\"outlinewidth\": 0, \"ticks\": \"\"}}, \"type\": \"scatter\"}], \"scatter3d\": [{\"line\": {\"colorbar\": {\"outlinewidth\": 0, \"ticks\": \"\"}}, \"marker\": {\"colorbar\": {\"outlinewidth\": 0, \"ticks\": \"\"}}, \"type\": \"scatter3d\"}], \"scattercarpet\": [{\"marker\": {\"colorbar\": {\"outlinewidth\": 0, \"ticks\": \"\"}}, \"type\": \"scattercarpet\"}], \"scattergeo\": [{\"marker\": {\"colorbar\": {\"outlinewidth\": 0, \"ticks\": \"\"}}, \"type\": \"scattergeo\"}], \"scattergl\": [{\"marker\": {\"colorbar\": {\"outlinewidth\": 0, \"ticks\": \"\"}}, \"type\": \"scattergl\"}], \"scattermapbox\": [{\"marker\": {\"colorbar\": {\"outlinewidth\": 0, \"ticks\": \"\"}}, \"type\": \"scattermapbox\"}], \"scatterpolar\": [{\"marker\": {\"colorbar\": {\"outlinewidth\": 0, \"ticks\": \"\"}}, \"type\": \"scatterpolar\"}], \"scatterpolargl\": [{\"marker\": {\"colorbar\": {\"outlinewidth\": 0, \"ticks\": \"\"}}, \"type\": \"scatterpolargl\"}], \"scatterternary\": [{\"marker\": {\"colorbar\": {\"outlinewidth\": 0, \"ticks\": \"\"}}, \"type\": \"scatterternary\"}], \"surface\": [{\"colorbar\": {\"outlinewidth\": 0, \"ticks\": \"\"}, \"colorscale\": [[0.0, \"#0d0887\"], [0.1111111111111111, \"#46039f\"], [0.2222222222222222, \"#7201a8\"], [0.3333333333333333, \"#9c179e\"], [0.4444444444444444, \"#bd3786\"], [0.5555555555555556, \"#d8576b\"], [0.6666666666666666, \"#ed7953\"], [0.7777777777777778, \"#fb9f3a\"], [0.8888888888888888, \"#fdca26\"], [1.0, \"#f0f921\"]], \"type\": \"surface\"}], \"table\": [{\"cells\": {\"fill\": {\"color\": \"#EBF0F8\"}, \"line\": {\"color\": \"white\"}}, \"header\": {\"fill\": {\"color\": \"#C8D4E3\"}, \"line\": {\"color\": \"white\"}}, \"type\": \"table\"}]}, \"layout\": {\"annotationdefaults\": {\"arrowcolor\": \"#2a3f5f\", \"arrowhead\": 0, \"arrowwidth\": 1}, \"coloraxis\": {\"colorbar\": {\"outlinewidth\": 0, \"ticks\": \"\"}}, \"colorscale\": {\"diverging\": [[0, \"#8e0152\"], [0.1, \"#c51b7d\"], [0.2, \"#de77ae\"], [0.3, \"#f1b6da\"], [0.4, \"#fde0ef\"], [0.5, \"#f7f7f7\"], [0.6, \"#e6f5d0\"], [0.7, \"#b8e186\"], [0.8, \"#7fbc41\"], [0.9, \"#4d9221\"], [1, \"#276419\"]], \"sequential\": [[0.0, \"#0d0887\"], [0.1111111111111111, \"#46039f\"], [0.2222222222222222, \"#7201a8\"], [0.3333333333333333, \"#9c179e\"], [0.4444444444444444, \"#bd3786\"], [0.5555555555555556, \"#d8576b\"], [0.6666666666666666, \"#ed7953\"], [0.7777777777777778, \"#fb9f3a\"], [0.8888888888888888, \"#fdca26\"], [1.0, \"#f0f921\"]], \"sequentialminus\": [[0.0, \"#0d0887\"], [0.1111111111111111, \"#46039f\"], [0.2222222222222222, \"#7201a8\"], [0.3333333333333333, \"#9c179e\"], [0.4444444444444444, \"#bd3786\"], [0.5555555555555556, \"#d8576b\"], [0.6666666666666666, \"#ed7953\"], [0.7777777777777778, \"#fb9f3a\"], [0.8888888888888888, \"#fdca26\"], [1.0, \"#f0f921\"]]}, \"colorway\": [\"#636efa\", \"#EF553B\", \"#00cc96\", \"#ab63fa\", \"#FFA15A\", \"#19d3f3\", \"#FF6692\", \"#B6E880\", \"#FF97FF\", \"#FECB52\"], \"font\": {\"color\": \"#2a3f5f\"}, \"geo\": {\"bgcolor\": \"white\", \"lakecolor\": \"white\", \"landcolor\": \"#E5ECF6\", \"showlakes\": true, \"showland\": true, \"subunitcolor\": \"white\"}, \"hoverlabel\": {\"align\": \"left\"}, \"hovermode\": \"closest\", \"mapbox\": {\"style\": \"light\"}, \"paper_bgcolor\": \"white\", \"plot_bgcolor\": \"#E5ECF6\", \"polar\": {\"angularaxis\": {\"gridcolor\": \"white\", \"linecolor\": \"white\", \"ticks\": \"\"}, \"bgcolor\": \"#E5ECF6\", \"radialaxis\": {\"gridcolor\": \"white\", \"linecolor\": \"white\", \"ticks\": \"\"}}, \"scene\": {\"xaxis\": {\"backgroundcolor\": \"#E5ECF6\", \"gridcolor\": \"white\", \"gridwidth\": 2, \"linecolor\": \"white\", \"showbackground\": true, \"ticks\": \"\", \"zerolinecolor\": \"white\"}, \"yaxis\": {\"backgroundcolor\": \"#E5ECF6\", \"gridcolor\": \"white\", \"gridwidth\": 2, \"linecolor\": \"white\", \"showbackground\": true, \"ticks\": \"\", \"zerolinecolor\": \"white\"}, \"zaxis\": {\"backgroundcolor\": \"#E5ECF6\", \"gridcolor\": \"white\", \"gridwidth\": 2, \"linecolor\": \"white\", \"showbackground\": true, \"ticks\": \"\", \"zerolinecolor\": \"white\"}}, \"shapedefaults\": {\"line\": {\"color\": \"#2a3f5f\"}}, \"ternary\": {\"aaxis\": {\"gridcolor\": \"white\", \"linecolor\": \"white\", \"ticks\": \"\"}, \"baxis\": {\"gridcolor\": \"white\", \"linecolor\": \"white\", \"ticks\": \"\"}, \"bgcolor\": \"#E5ECF6\", \"caxis\": {\"gridcolor\": \"white\", \"linecolor\": \"white\", \"ticks\": \"\"}}, \"title\": {\"x\": 0.05}, \"xaxis\": {\"automargin\": true, \"gridcolor\": \"white\", \"linecolor\": \"white\", \"ticks\": \"\", \"title\": {\"standoff\": 15}, \"zerolinecolor\": \"white\", \"zerolinewidth\": 2}, \"yaxis\": {\"automargin\": true, \"gridcolor\": \"white\", \"linecolor\": \"white\", \"ticks\": \"\", \"title\": {\"standoff\": 15}, \"zerolinecolor\": \"white\", \"zerolinewidth\": 2}}}, \"title\": {\"text\": \"Distribution in car buying price\"}, \"xaxis\": {\"gridcolor\": \"rgb(255, 255, 255)\", \"gridwidth\": 2, \"ticklen\": 5, \"title\": {\"text\": \"buying\"}, \"zerolinewidth\": 1}, \"yaxis\": {\"gridcolor\": \"rgb(255, 255, 255)\", \"gridwidth\": 2, \"ticklen\": 5, \"title\": {\"text\": \"count\"}, \"zerolinewidth\": 1}},\n",
       "                        {\"responsive\": true}\n",
       "                    ).then(function(){\n",
       "                            \n",
       "var gd = document.getElementById('dfbf756a-5ea2-4c45-a9eb-f6cfadda1320');\n",
       "var x = new MutationObserver(function (mutations, observer) {{\n",
       "        var display = window.getComputedStyle(gd).display;\n",
       "        if (!display || display === 'none') {{\n",
       "            console.log([gd, 'removed!']);\n",
       "            Plotly.purge(gd);\n",
       "            observer.disconnect();\n",
       "        }}\n",
       "}});\n",
       "\n",
       "// Listen for the removal of the full notebook cells\n",
       "var notebookContainer = gd.closest('#notebook-container');\n",
       "if (notebookContainer) {{\n",
       "    x.observe(notebookContainer, {childList: true});\n",
       "}}\n",
       "\n",
       "// Listen for the clearing of the current output cell\n",
       "var outputEl = gd.closest('.output');\n",
       "if (outputEl) {{\n",
       "    x.observe(outputEl, {childList: true});\n",
       "}}\n",
       "\n",
       "                        })\n",
       "                };\n",
       "                });\n",
       "            </script>\n",
       "        </div>"
      ]
     },
     "metadata": {},
     "output_type": "display_data"
    },
    {
     "data": {
      "application/vnd.plotly.v1+json": {
       "config": {
        "linkText": "Export to plot.ly",
        "plotlyServerURL": "https://plot.ly",
        "showLink": false
       },
       "data": [
        {
         "marker": {
          "line": {
           "color": "black",
           "width": 0.5
          }
         },
         "name": "car_class >= acc",
         "opacity": 0.9,
         "type": "bar",
         "x": [
          "med",
          "low",
          "high",
          "vhigh"
         ],
         "y": [
          164,
          164,
          118,
          72
         ]
        },
        {
         "marker": {
          "line": {
           "color": "black",
           "width": 0.5
          }
         },
         "name": "car_class == unacc",
         "opacity": 0.9,
         "type": "bar",
         "x": [
          "vhigh",
          "high",
          "med",
          "low"
         ],
         "y": [
          360,
          314,
          268,
          268
         ]
        }
       ],
       "layout": {
        "paper_bgcolor": "rgb(243,243,243)",
        "plot_bgcolor": "rgb(243,243,243)",
        "template": {
         "data": {
          "bar": [
           {
            "error_x": {
             "color": "#2a3f5f"
            },
            "error_y": {
             "color": "#2a3f5f"
            },
            "marker": {
             "line": {
              "color": "#E5ECF6",
              "width": 0.5
             }
            },
            "type": "bar"
           }
          ],
          "barpolar": [
           {
            "marker": {
             "line": {
              "color": "#E5ECF6",
              "width": 0.5
             }
            },
            "type": "barpolar"
           }
          ],
          "carpet": [
           {
            "aaxis": {
             "endlinecolor": "#2a3f5f",
             "gridcolor": "white",
             "linecolor": "white",
             "minorgridcolor": "white",
             "startlinecolor": "#2a3f5f"
            },
            "baxis": {
             "endlinecolor": "#2a3f5f",
             "gridcolor": "white",
             "linecolor": "white",
             "minorgridcolor": "white",
             "startlinecolor": "#2a3f5f"
            },
            "type": "carpet"
           }
          ],
          "choropleth": [
           {
            "colorbar": {
             "outlinewidth": 0,
             "ticks": ""
            },
            "type": "choropleth"
           }
          ],
          "contour": [
           {
            "colorbar": {
             "outlinewidth": 0,
             "ticks": ""
            },
            "colorscale": [
             [
              0,
              "#0d0887"
             ],
             [
              0.1111111111111111,
              "#46039f"
             ],
             [
              0.2222222222222222,
              "#7201a8"
             ],
             [
              0.3333333333333333,
              "#9c179e"
             ],
             [
              0.4444444444444444,
              "#bd3786"
             ],
             [
              0.5555555555555556,
              "#d8576b"
             ],
             [
              0.6666666666666666,
              "#ed7953"
             ],
             [
              0.7777777777777778,
              "#fb9f3a"
             ],
             [
              0.8888888888888888,
              "#fdca26"
             ],
             [
              1,
              "#f0f921"
             ]
            ],
            "type": "contour"
           }
          ],
          "contourcarpet": [
           {
            "colorbar": {
             "outlinewidth": 0,
             "ticks": ""
            },
            "type": "contourcarpet"
           }
          ],
          "heatmap": [
           {
            "colorbar": {
             "outlinewidth": 0,
             "ticks": ""
            },
            "colorscale": [
             [
              0,
              "#0d0887"
             ],
             [
              0.1111111111111111,
              "#46039f"
             ],
             [
              0.2222222222222222,
              "#7201a8"
             ],
             [
              0.3333333333333333,
              "#9c179e"
             ],
             [
              0.4444444444444444,
              "#bd3786"
             ],
             [
              0.5555555555555556,
              "#d8576b"
             ],
             [
              0.6666666666666666,
              "#ed7953"
             ],
             [
              0.7777777777777778,
              "#fb9f3a"
             ],
             [
              0.8888888888888888,
              "#fdca26"
             ],
             [
              1,
              "#f0f921"
             ]
            ],
            "type": "heatmap"
           }
          ],
          "heatmapgl": [
           {
            "colorbar": {
             "outlinewidth": 0,
             "ticks": ""
            },
            "colorscale": [
             [
              0,
              "#0d0887"
             ],
             [
              0.1111111111111111,
              "#46039f"
             ],
             [
              0.2222222222222222,
              "#7201a8"
             ],
             [
              0.3333333333333333,
              "#9c179e"
             ],
             [
              0.4444444444444444,
              "#bd3786"
             ],
             [
              0.5555555555555556,
              "#d8576b"
             ],
             [
              0.6666666666666666,
              "#ed7953"
             ],
             [
              0.7777777777777778,
              "#fb9f3a"
             ],
             [
              0.8888888888888888,
              "#fdca26"
             ],
             [
              1,
              "#f0f921"
             ]
            ],
            "type": "heatmapgl"
           }
          ],
          "histogram": [
           {
            "marker": {
             "colorbar": {
              "outlinewidth": 0,
              "ticks": ""
             }
            },
            "type": "histogram"
           }
          ],
          "histogram2d": [
           {
            "colorbar": {
             "outlinewidth": 0,
             "ticks": ""
            },
            "colorscale": [
             [
              0,
              "#0d0887"
             ],
             [
              0.1111111111111111,
              "#46039f"
             ],
             [
              0.2222222222222222,
              "#7201a8"
             ],
             [
              0.3333333333333333,
              "#9c179e"
             ],
             [
              0.4444444444444444,
              "#bd3786"
             ],
             [
              0.5555555555555556,
              "#d8576b"
             ],
             [
              0.6666666666666666,
              "#ed7953"
             ],
             [
              0.7777777777777778,
              "#fb9f3a"
             ],
             [
              0.8888888888888888,
              "#fdca26"
             ],
             [
              1,
              "#f0f921"
             ]
            ],
            "type": "histogram2d"
           }
          ],
          "histogram2dcontour": [
           {
            "colorbar": {
             "outlinewidth": 0,
             "ticks": ""
            },
            "colorscale": [
             [
              0,
              "#0d0887"
             ],
             [
              0.1111111111111111,
              "#46039f"
             ],
             [
              0.2222222222222222,
              "#7201a8"
             ],
             [
              0.3333333333333333,
              "#9c179e"
             ],
             [
              0.4444444444444444,
              "#bd3786"
             ],
             [
              0.5555555555555556,
              "#d8576b"
             ],
             [
              0.6666666666666666,
              "#ed7953"
             ],
             [
              0.7777777777777778,
              "#fb9f3a"
             ],
             [
              0.8888888888888888,
              "#fdca26"
             ],
             [
              1,
              "#f0f921"
             ]
            ],
            "type": "histogram2dcontour"
           }
          ],
          "mesh3d": [
           {
            "colorbar": {
             "outlinewidth": 0,
             "ticks": ""
            },
            "type": "mesh3d"
           }
          ],
          "parcoords": [
           {
            "line": {
             "colorbar": {
              "outlinewidth": 0,
              "ticks": ""
             }
            },
            "type": "parcoords"
           }
          ],
          "pie": [
           {
            "automargin": true,
            "type": "pie"
           }
          ],
          "scatter": [
           {
            "marker": {
             "colorbar": {
              "outlinewidth": 0,
              "ticks": ""
             }
            },
            "type": "scatter"
           }
          ],
          "scatter3d": [
           {
            "line": {
             "colorbar": {
              "outlinewidth": 0,
              "ticks": ""
             }
            },
            "marker": {
             "colorbar": {
              "outlinewidth": 0,
              "ticks": ""
             }
            },
            "type": "scatter3d"
           }
          ],
          "scattercarpet": [
           {
            "marker": {
             "colorbar": {
              "outlinewidth": 0,
              "ticks": ""
             }
            },
            "type": "scattercarpet"
           }
          ],
          "scattergeo": [
           {
            "marker": {
             "colorbar": {
              "outlinewidth": 0,
              "ticks": ""
             }
            },
            "type": "scattergeo"
           }
          ],
          "scattergl": [
           {
            "marker": {
             "colorbar": {
              "outlinewidth": 0,
              "ticks": ""
             }
            },
            "type": "scattergl"
           }
          ],
          "scattermapbox": [
           {
            "marker": {
             "colorbar": {
              "outlinewidth": 0,
              "ticks": ""
             }
            },
            "type": "scattermapbox"
           }
          ],
          "scatterpolar": [
           {
            "marker": {
             "colorbar": {
              "outlinewidth": 0,
              "ticks": ""
             }
            },
            "type": "scatterpolar"
           }
          ],
          "scatterpolargl": [
           {
            "marker": {
             "colorbar": {
              "outlinewidth": 0,
              "ticks": ""
             }
            },
            "type": "scatterpolargl"
           }
          ],
          "scatterternary": [
           {
            "marker": {
             "colorbar": {
              "outlinewidth": 0,
              "ticks": ""
             }
            },
            "type": "scatterternary"
           }
          ],
          "surface": [
           {
            "colorbar": {
             "outlinewidth": 0,
             "ticks": ""
            },
            "colorscale": [
             [
              0,
              "#0d0887"
             ],
             [
              0.1111111111111111,
              "#46039f"
             ],
             [
              0.2222222222222222,
              "#7201a8"
             ],
             [
              0.3333333333333333,
              "#9c179e"
             ],
             [
              0.4444444444444444,
              "#bd3786"
             ],
             [
              0.5555555555555556,
              "#d8576b"
             ],
             [
              0.6666666666666666,
              "#ed7953"
             ],
             [
              0.7777777777777778,
              "#fb9f3a"
             ],
             [
              0.8888888888888888,
              "#fdca26"
             ],
             [
              1,
              "#f0f921"
             ]
            ],
            "type": "surface"
           }
          ],
          "table": [
           {
            "cells": {
             "fill": {
              "color": "#EBF0F8"
             },
             "line": {
              "color": "white"
             }
            },
            "header": {
             "fill": {
              "color": "#C8D4E3"
             },
             "line": {
              "color": "white"
             }
            },
            "type": "table"
           }
          ]
         },
         "layout": {
          "annotationdefaults": {
           "arrowcolor": "#2a3f5f",
           "arrowhead": 0,
           "arrowwidth": 1
          },
          "coloraxis": {
           "colorbar": {
            "outlinewidth": 0,
            "ticks": ""
           }
          },
          "colorscale": {
           "diverging": [
            [
             0,
             "#8e0152"
            ],
            [
             0.1,
             "#c51b7d"
            ],
            [
             0.2,
             "#de77ae"
            ],
            [
             0.3,
             "#f1b6da"
            ],
            [
             0.4,
             "#fde0ef"
            ],
            [
             0.5,
             "#f7f7f7"
            ],
            [
             0.6,
             "#e6f5d0"
            ],
            [
             0.7,
             "#b8e186"
            ],
            [
             0.8,
             "#7fbc41"
            ],
            [
             0.9,
             "#4d9221"
            ],
            [
             1,
             "#276419"
            ]
           ],
           "sequential": [
            [
             0,
             "#0d0887"
            ],
            [
             0.1111111111111111,
             "#46039f"
            ],
            [
             0.2222222222222222,
             "#7201a8"
            ],
            [
             0.3333333333333333,
             "#9c179e"
            ],
            [
             0.4444444444444444,
             "#bd3786"
            ],
            [
             0.5555555555555556,
             "#d8576b"
            ],
            [
             0.6666666666666666,
             "#ed7953"
            ],
            [
             0.7777777777777778,
             "#fb9f3a"
            ],
            [
             0.8888888888888888,
             "#fdca26"
            ],
            [
             1,
             "#f0f921"
            ]
           ],
           "sequentialminus": [
            [
             0,
             "#0d0887"
            ],
            [
             0.1111111111111111,
             "#46039f"
            ],
            [
             0.2222222222222222,
             "#7201a8"
            ],
            [
             0.3333333333333333,
             "#9c179e"
            ],
            [
             0.4444444444444444,
             "#bd3786"
            ],
            [
             0.5555555555555556,
             "#d8576b"
            ],
            [
             0.6666666666666666,
             "#ed7953"
            ],
            [
             0.7777777777777778,
             "#fb9f3a"
            ],
            [
             0.8888888888888888,
             "#fdca26"
            ],
            [
             1,
             "#f0f921"
            ]
           ]
          },
          "colorway": [
           "#636efa",
           "#EF553B",
           "#00cc96",
           "#ab63fa",
           "#FFA15A",
           "#19d3f3",
           "#FF6692",
           "#B6E880",
           "#FF97FF",
           "#FECB52"
          ],
          "font": {
           "color": "#2a3f5f"
          },
          "geo": {
           "bgcolor": "white",
           "lakecolor": "white",
           "landcolor": "#E5ECF6",
           "showlakes": true,
           "showland": true,
           "subunitcolor": "white"
          },
          "hoverlabel": {
           "align": "left"
          },
          "hovermode": "closest",
          "mapbox": {
           "style": "light"
          },
          "paper_bgcolor": "white",
          "plot_bgcolor": "#E5ECF6",
          "polar": {
           "angularaxis": {
            "gridcolor": "white",
            "linecolor": "white",
            "ticks": ""
           },
           "bgcolor": "#E5ECF6",
           "radialaxis": {
            "gridcolor": "white",
            "linecolor": "white",
            "ticks": ""
           }
          },
          "scene": {
           "xaxis": {
            "backgroundcolor": "#E5ECF6",
            "gridcolor": "white",
            "gridwidth": 2,
            "linecolor": "white",
            "showbackground": true,
            "ticks": "",
            "zerolinecolor": "white"
           },
           "yaxis": {
            "backgroundcolor": "#E5ECF6",
            "gridcolor": "white",
            "gridwidth": 2,
            "linecolor": "white",
            "showbackground": true,
            "ticks": "",
            "zerolinecolor": "white"
           },
           "zaxis": {
            "backgroundcolor": "#E5ECF6",
            "gridcolor": "white",
            "gridwidth": 2,
            "linecolor": "white",
            "showbackground": true,
            "ticks": "",
            "zerolinecolor": "white"
           }
          },
          "shapedefaults": {
           "line": {
            "color": "#2a3f5f"
           }
          },
          "ternary": {
           "aaxis": {
            "gridcolor": "white",
            "linecolor": "white",
            "ticks": ""
           },
           "baxis": {
            "gridcolor": "white",
            "linecolor": "white",
            "ticks": ""
           },
           "bgcolor": "#E5ECF6",
           "caxis": {
            "gridcolor": "white",
            "linecolor": "white",
            "ticks": ""
           }
          },
          "title": {
           "x": 0.05
          },
          "xaxis": {
           "automargin": true,
           "gridcolor": "white",
           "linecolor": "white",
           "ticks": "",
           "title": {
            "standoff": 15
           },
           "zerolinecolor": "white",
           "zerolinewidth": 2
          },
          "yaxis": {
           "automargin": true,
           "gridcolor": "white",
           "linecolor": "white",
           "ticks": "",
           "title": {
            "standoff": 15
           },
           "zerolinecolor": "white",
           "zerolinewidth": 2
          }
         }
        },
        "title": {
         "text": "Distribution in price of the maintenance"
        },
        "xaxis": {
         "gridcolor": "rgb(255, 255, 255)",
         "gridwidth": 2,
         "ticklen": 5,
         "title": {
          "text": "maint"
         },
         "zerolinewidth": 1
        },
        "yaxis": {
         "gridcolor": "rgb(255, 255, 255)",
         "gridwidth": 2,
         "ticklen": 5,
         "title": {
          "text": "count"
         },
         "zerolinewidth": 1
        }
       }
      },
      "text/html": [
       "<div>\n",
       "        \n",
       "        \n",
       "            <div id=\"d1724d31-9edc-4b1f-99cb-5074ab87ef30\" class=\"plotly-graph-div\" style=\"height:525px; width:100%;\"></div>\n",
       "            <script type=\"text/javascript\">\n",
       "                require([\"plotly\"], function(Plotly) {\n",
       "                    window.PLOTLYENV=window.PLOTLYENV || {};\n",
       "                    \n",
       "                if (document.getElementById(\"d1724d31-9edc-4b1f-99cb-5074ab87ef30\")) {\n",
       "                    Plotly.newPlot(\n",
       "                        'd1724d31-9edc-4b1f-99cb-5074ab87ef30',\n",
       "                        [{\"marker\": {\"line\": {\"color\": \"black\", \"width\": 0.5}}, \"name\": \"car_class >= acc\", \"opacity\": 0.9, \"type\": \"bar\", \"x\": [\"med\", \"low\", \"high\", \"vhigh\"], \"y\": [164, 164, 118, 72]}, {\"marker\": {\"line\": {\"color\": \"black\", \"width\": 0.5}}, \"name\": \"car_class == unacc\", \"opacity\": 0.9, \"type\": \"bar\", \"x\": [\"vhigh\", \"high\", \"med\", \"low\"], \"y\": [360, 314, 268, 268]}],\n",
       "                        {\"paper_bgcolor\": \"rgb(243,243,243)\", \"plot_bgcolor\": \"rgb(243,243,243)\", \"template\": {\"data\": {\"bar\": [{\"error_x\": {\"color\": \"#2a3f5f\"}, \"error_y\": {\"color\": \"#2a3f5f\"}, \"marker\": {\"line\": {\"color\": \"#E5ECF6\", \"width\": 0.5}}, \"type\": \"bar\"}], \"barpolar\": [{\"marker\": {\"line\": {\"color\": \"#E5ECF6\", \"width\": 0.5}}, \"type\": \"barpolar\"}], \"carpet\": [{\"aaxis\": {\"endlinecolor\": \"#2a3f5f\", \"gridcolor\": \"white\", \"linecolor\": \"white\", \"minorgridcolor\": \"white\", \"startlinecolor\": \"#2a3f5f\"}, \"baxis\": {\"endlinecolor\": \"#2a3f5f\", \"gridcolor\": \"white\", \"linecolor\": \"white\", \"minorgridcolor\": \"white\", \"startlinecolor\": \"#2a3f5f\"}, \"type\": \"carpet\"}], \"choropleth\": [{\"colorbar\": {\"outlinewidth\": 0, \"ticks\": \"\"}, \"type\": \"choropleth\"}], \"contour\": [{\"colorbar\": {\"outlinewidth\": 0, \"ticks\": \"\"}, \"colorscale\": [[0.0, \"#0d0887\"], [0.1111111111111111, \"#46039f\"], [0.2222222222222222, \"#7201a8\"], [0.3333333333333333, \"#9c179e\"], [0.4444444444444444, \"#bd3786\"], [0.5555555555555556, \"#d8576b\"], [0.6666666666666666, \"#ed7953\"], [0.7777777777777778, \"#fb9f3a\"], [0.8888888888888888, \"#fdca26\"], [1.0, \"#f0f921\"]], \"type\": \"contour\"}], \"contourcarpet\": [{\"colorbar\": {\"outlinewidth\": 0, \"ticks\": \"\"}, \"type\": \"contourcarpet\"}], \"heatmap\": [{\"colorbar\": {\"outlinewidth\": 0, \"ticks\": \"\"}, \"colorscale\": [[0.0, \"#0d0887\"], [0.1111111111111111, \"#46039f\"], [0.2222222222222222, \"#7201a8\"], [0.3333333333333333, \"#9c179e\"], [0.4444444444444444, \"#bd3786\"], [0.5555555555555556, \"#d8576b\"], [0.6666666666666666, \"#ed7953\"], [0.7777777777777778, \"#fb9f3a\"], [0.8888888888888888, \"#fdca26\"], [1.0, \"#f0f921\"]], \"type\": \"heatmap\"}], \"heatmapgl\": [{\"colorbar\": {\"outlinewidth\": 0, \"ticks\": \"\"}, \"colorscale\": [[0.0, \"#0d0887\"], [0.1111111111111111, \"#46039f\"], [0.2222222222222222, \"#7201a8\"], [0.3333333333333333, \"#9c179e\"], [0.4444444444444444, \"#bd3786\"], [0.5555555555555556, \"#d8576b\"], [0.6666666666666666, \"#ed7953\"], [0.7777777777777778, \"#fb9f3a\"], [0.8888888888888888, \"#fdca26\"], [1.0, \"#f0f921\"]], \"type\": \"heatmapgl\"}], \"histogram\": [{\"marker\": {\"colorbar\": {\"outlinewidth\": 0, \"ticks\": \"\"}}, \"type\": \"histogram\"}], \"histogram2d\": [{\"colorbar\": {\"outlinewidth\": 0, \"ticks\": \"\"}, \"colorscale\": [[0.0, \"#0d0887\"], [0.1111111111111111, \"#46039f\"], [0.2222222222222222, \"#7201a8\"], [0.3333333333333333, \"#9c179e\"], [0.4444444444444444, \"#bd3786\"], [0.5555555555555556, \"#d8576b\"], [0.6666666666666666, \"#ed7953\"], [0.7777777777777778, \"#fb9f3a\"], [0.8888888888888888, \"#fdca26\"], [1.0, \"#f0f921\"]], \"type\": \"histogram2d\"}], \"histogram2dcontour\": [{\"colorbar\": {\"outlinewidth\": 0, \"ticks\": \"\"}, \"colorscale\": [[0.0, \"#0d0887\"], [0.1111111111111111, \"#46039f\"], [0.2222222222222222, \"#7201a8\"], [0.3333333333333333, \"#9c179e\"], [0.4444444444444444, \"#bd3786\"], [0.5555555555555556, \"#d8576b\"], [0.6666666666666666, \"#ed7953\"], [0.7777777777777778, \"#fb9f3a\"], [0.8888888888888888, \"#fdca26\"], [1.0, \"#f0f921\"]], \"type\": \"histogram2dcontour\"}], \"mesh3d\": [{\"colorbar\": {\"outlinewidth\": 0, \"ticks\": \"\"}, \"type\": \"mesh3d\"}], \"parcoords\": [{\"line\": {\"colorbar\": {\"outlinewidth\": 0, \"ticks\": \"\"}}, \"type\": \"parcoords\"}], \"pie\": [{\"automargin\": true, \"type\": \"pie\"}], \"scatter\": [{\"marker\": {\"colorbar\": {\"outlinewidth\": 0, \"ticks\": \"\"}}, \"type\": \"scatter\"}], \"scatter3d\": [{\"line\": {\"colorbar\": {\"outlinewidth\": 0, \"ticks\": \"\"}}, \"marker\": {\"colorbar\": {\"outlinewidth\": 0, \"ticks\": \"\"}}, \"type\": \"scatter3d\"}], \"scattercarpet\": [{\"marker\": {\"colorbar\": {\"outlinewidth\": 0, \"ticks\": \"\"}}, \"type\": \"scattercarpet\"}], \"scattergeo\": [{\"marker\": {\"colorbar\": {\"outlinewidth\": 0, \"ticks\": \"\"}}, \"type\": \"scattergeo\"}], \"scattergl\": [{\"marker\": {\"colorbar\": {\"outlinewidth\": 0, \"ticks\": \"\"}}, \"type\": \"scattergl\"}], \"scattermapbox\": [{\"marker\": {\"colorbar\": {\"outlinewidth\": 0, \"ticks\": \"\"}}, \"type\": \"scattermapbox\"}], \"scatterpolar\": [{\"marker\": {\"colorbar\": {\"outlinewidth\": 0, \"ticks\": \"\"}}, \"type\": \"scatterpolar\"}], \"scatterpolargl\": [{\"marker\": {\"colorbar\": {\"outlinewidth\": 0, \"ticks\": \"\"}}, \"type\": \"scatterpolargl\"}], \"scatterternary\": [{\"marker\": {\"colorbar\": {\"outlinewidth\": 0, \"ticks\": \"\"}}, \"type\": \"scatterternary\"}], \"surface\": [{\"colorbar\": {\"outlinewidth\": 0, \"ticks\": \"\"}, \"colorscale\": [[0.0, \"#0d0887\"], [0.1111111111111111, \"#46039f\"], [0.2222222222222222, \"#7201a8\"], [0.3333333333333333, \"#9c179e\"], [0.4444444444444444, \"#bd3786\"], [0.5555555555555556, \"#d8576b\"], [0.6666666666666666, \"#ed7953\"], [0.7777777777777778, \"#fb9f3a\"], [0.8888888888888888, \"#fdca26\"], [1.0, \"#f0f921\"]], \"type\": \"surface\"}], \"table\": [{\"cells\": {\"fill\": {\"color\": \"#EBF0F8\"}, \"line\": {\"color\": \"white\"}}, \"header\": {\"fill\": {\"color\": \"#C8D4E3\"}, \"line\": {\"color\": \"white\"}}, \"type\": \"table\"}]}, \"layout\": {\"annotationdefaults\": {\"arrowcolor\": \"#2a3f5f\", \"arrowhead\": 0, \"arrowwidth\": 1}, \"coloraxis\": {\"colorbar\": {\"outlinewidth\": 0, \"ticks\": \"\"}}, \"colorscale\": {\"diverging\": [[0, \"#8e0152\"], [0.1, \"#c51b7d\"], [0.2, \"#de77ae\"], [0.3, \"#f1b6da\"], [0.4, \"#fde0ef\"], [0.5, \"#f7f7f7\"], [0.6, \"#e6f5d0\"], [0.7, \"#b8e186\"], [0.8, \"#7fbc41\"], [0.9, \"#4d9221\"], [1, \"#276419\"]], \"sequential\": [[0.0, \"#0d0887\"], [0.1111111111111111, \"#46039f\"], [0.2222222222222222, \"#7201a8\"], [0.3333333333333333, \"#9c179e\"], [0.4444444444444444, \"#bd3786\"], [0.5555555555555556, \"#d8576b\"], [0.6666666666666666, \"#ed7953\"], [0.7777777777777778, \"#fb9f3a\"], [0.8888888888888888, \"#fdca26\"], [1.0, \"#f0f921\"]], \"sequentialminus\": [[0.0, \"#0d0887\"], [0.1111111111111111, \"#46039f\"], [0.2222222222222222, \"#7201a8\"], [0.3333333333333333, \"#9c179e\"], [0.4444444444444444, \"#bd3786\"], [0.5555555555555556, \"#d8576b\"], [0.6666666666666666, \"#ed7953\"], [0.7777777777777778, \"#fb9f3a\"], [0.8888888888888888, \"#fdca26\"], [1.0, \"#f0f921\"]]}, \"colorway\": [\"#636efa\", \"#EF553B\", \"#00cc96\", \"#ab63fa\", \"#FFA15A\", \"#19d3f3\", \"#FF6692\", \"#B6E880\", \"#FF97FF\", \"#FECB52\"], \"font\": {\"color\": \"#2a3f5f\"}, \"geo\": {\"bgcolor\": \"white\", \"lakecolor\": \"white\", \"landcolor\": \"#E5ECF6\", \"showlakes\": true, \"showland\": true, \"subunitcolor\": \"white\"}, \"hoverlabel\": {\"align\": \"left\"}, \"hovermode\": \"closest\", \"mapbox\": {\"style\": \"light\"}, \"paper_bgcolor\": \"white\", \"plot_bgcolor\": \"#E5ECF6\", \"polar\": {\"angularaxis\": {\"gridcolor\": \"white\", \"linecolor\": \"white\", \"ticks\": \"\"}, \"bgcolor\": \"#E5ECF6\", \"radialaxis\": {\"gridcolor\": \"white\", \"linecolor\": \"white\", \"ticks\": \"\"}}, \"scene\": {\"xaxis\": {\"backgroundcolor\": \"#E5ECF6\", \"gridcolor\": \"white\", \"gridwidth\": 2, \"linecolor\": \"white\", \"showbackground\": true, \"ticks\": \"\", \"zerolinecolor\": \"white\"}, \"yaxis\": {\"backgroundcolor\": \"#E5ECF6\", \"gridcolor\": \"white\", \"gridwidth\": 2, \"linecolor\": \"white\", \"showbackground\": true, \"ticks\": \"\", \"zerolinecolor\": \"white\"}, \"zaxis\": {\"backgroundcolor\": \"#E5ECF6\", \"gridcolor\": \"white\", \"gridwidth\": 2, \"linecolor\": \"white\", \"showbackground\": true, \"ticks\": \"\", \"zerolinecolor\": \"white\"}}, \"shapedefaults\": {\"line\": {\"color\": \"#2a3f5f\"}}, \"ternary\": {\"aaxis\": {\"gridcolor\": \"white\", \"linecolor\": \"white\", \"ticks\": \"\"}, \"baxis\": {\"gridcolor\": \"white\", \"linecolor\": \"white\", \"ticks\": \"\"}, \"bgcolor\": \"#E5ECF6\", \"caxis\": {\"gridcolor\": \"white\", \"linecolor\": \"white\", \"ticks\": \"\"}}, \"title\": {\"x\": 0.05}, \"xaxis\": {\"automargin\": true, \"gridcolor\": \"white\", \"linecolor\": \"white\", \"ticks\": \"\", \"title\": {\"standoff\": 15}, \"zerolinecolor\": \"white\", \"zerolinewidth\": 2}, \"yaxis\": {\"automargin\": true, \"gridcolor\": \"white\", \"linecolor\": \"white\", \"ticks\": \"\", \"title\": {\"standoff\": 15}, \"zerolinecolor\": \"white\", \"zerolinewidth\": 2}}}, \"title\": {\"text\": \"Distribution in price of the maintenance\"}, \"xaxis\": {\"gridcolor\": \"rgb(255, 255, 255)\", \"gridwidth\": 2, \"ticklen\": 5, \"title\": {\"text\": \"maint\"}, \"zerolinewidth\": 1}, \"yaxis\": {\"gridcolor\": \"rgb(255, 255, 255)\", \"gridwidth\": 2, \"ticklen\": 5, \"title\": {\"text\": \"count\"}, \"zerolinewidth\": 1}},\n",
       "                        {\"responsive\": true}\n",
       "                    ).then(function(){\n",
       "                            \n",
       "var gd = document.getElementById('d1724d31-9edc-4b1f-99cb-5074ab87ef30');\n",
       "var x = new MutationObserver(function (mutations, observer) {{\n",
       "        var display = window.getComputedStyle(gd).display;\n",
       "        if (!display || display === 'none') {{\n",
       "            console.log([gd, 'removed!']);\n",
       "            Plotly.purge(gd);\n",
       "            observer.disconnect();\n",
       "        }}\n",
       "}});\n",
       "\n",
       "// Listen for the removal of the full notebook cells\n",
       "var notebookContainer = gd.closest('#notebook-container');\n",
       "if (notebookContainer) {{\n",
       "    x.observe(notebookContainer, {childList: true});\n",
       "}}\n",
       "\n",
       "// Listen for the clearing of the current output cell\n",
       "var outputEl = gd.closest('.output');\n",
       "if (outputEl) {{\n",
       "    x.observe(outputEl, {childList: true});\n",
       "}}\n",
       "\n",
       "                        })\n",
       "                };\n",
       "                });\n",
       "            </script>\n",
       "        </div>"
      ]
     },
     "metadata": {},
     "output_type": "display_data"
    },
    {
     "data": {
      "application/vnd.plotly.v1+json": {
       "config": {
        "linkText": "Export to plot.ly",
        "plotlyServerURL": "https://plot.ly",
        "showLink": false
       },
       "data": [
        {
         "marker": {
          "line": {
           "color": "black",
           "width": 0.5
          }
         },
         "name": "car_class >= acc",
         "opacity": 0.9,
         "type": "bar",
         "x": [
          "5more",
          "4",
          "3",
          "2"
         ],
         "y": [
          140,
          140,
          132,
          106
         ]
        },
        {
         "marker": {
          "line": {
           "color": "black",
           "width": 0.5
          }
         },
         "name": "car_class == unacc",
         "opacity": 0.9,
         "type": "bar",
         "x": [
          "2",
          "3",
          "5more",
          "4"
         ],
         "y": [
          326,
          300,
          292,
          292
         ]
        }
       ],
       "layout": {
        "paper_bgcolor": "rgb(243,243,243)",
        "plot_bgcolor": "rgb(243,243,243)",
        "template": {
         "data": {
          "bar": [
           {
            "error_x": {
             "color": "#2a3f5f"
            },
            "error_y": {
             "color": "#2a3f5f"
            },
            "marker": {
             "line": {
              "color": "#E5ECF6",
              "width": 0.5
             }
            },
            "type": "bar"
           }
          ],
          "barpolar": [
           {
            "marker": {
             "line": {
              "color": "#E5ECF6",
              "width": 0.5
             }
            },
            "type": "barpolar"
           }
          ],
          "carpet": [
           {
            "aaxis": {
             "endlinecolor": "#2a3f5f",
             "gridcolor": "white",
             "linecolor": "white",
             "minorgridcolor": "white",
             "startlinecolor": "#2a3f5f"
            },
            "baxis": {
             "endlinecolor": "#2a3f5f",
             "gridcolor": "white",
             "linecolor": "white",
             "minorgridcolor": "white",
             "startlinecolor": "#2a3f5f"
            },
            "type": "carpet"
           }
          ],
          "choropleth": [
           {
            "colorbar": {
             "outlinewidth": 0,
             "ticks": ""
            },
            "type": "choropleth"
           }
          ],
          "contour": [
           {
            "colorbar": {
             "outlinewidth": 0,
             "ticks": ""
            },
            "colorscale": [
             [
              0,
              "#0d0887"
             ],
             [
              0.1111111111111111,
              "#46039f"
             ],
             [
              0.2222222222222222,
              "#7201a8"
             ],
             [
              0.3333333333333333,
              "#9c179e"
             ],
             [
              0.4444444444444444,
              "#bd3786"
             ],
             [
              0.5555555555555556,
              "#d8576b"
             ],
             [
              0.6666666666666666,
              "#ed7953"
             ],
             [
              0.7777777777777778,
              "#fb9f3a"
             ],
             [
              0.8888888888888888,
              "#fdca26"
             ],
             [
              1,
              "#f0f921"
             ]
            ],
            "type": "contour"
           }
          ],
          "contourcarpet": [
           {
            "colorbar": {
             "outlinewidth": 0,
             "ticks": ""
            },
            "type": "contourcarpet"
           }
          ],
          "heatmap": [
           {
            "colorbar": {
             "outlinewidth": 0,
             "ticks": ""
            },
            "colorscale": [
             [
              0,
              "#0d0887"
             ],
             [
              0.1111111111111111,
              "#46039f"
             ],
             [
              0.2222222222222222,
              "#7201a8"
             ],
             [
              0.3333333333333333,
              "#9c179e"
             ],
             [
              0.4444444444444444,
              "#bd3786"
             ],
             [
              0.5555555555555556,
              "#d8576b"
             ],
             [
              0.6666666666666666,
              "#ed7953"
             ],
             [
              0.7777777777777778,
              "#fb9f3a"
             ],
             [
              0.8888888888888888,
              "#fdca26"
             ],
             [
              1,
              "#f0f921"
             ]
            ],
            "type": "heatmap"
           }
          ],
          "heatmapgl": [
           {
            "colorbar": {
             "outlinewidth": 0,
             "ticks": ""
            },
            "colorscale": [
             [
              0,
              "#0d0887"
             ],
             [
              0.1111111111111111,
              "#46039f"
             ],
             [
              0.2222222222222222,
              "#7201a8"
             ],
             [
              0.3333333333333333,
              "#9c179e"
             ],
             [
              0.4444444444444444,
              "#bd3786"
             ],
             [
              0.5555555555555556,
              "#d8576b"
             ],
             [
              0.6666666666666666,
              "#ed7953"
             ],
             [
              0.7777777777777778,
              "#fb9f3a"
             ],
             [
              0.8888888888888888,
              "#fdca26"
             ],
             [
              1,
              "#f0f921"
             ]
            ],
            "type": "heatmapgl"
           }
          ],
          "histogram": [
           {
            "marker": {
             "colorbar": {
              "outlinewidth": 0,
              "ticks": ""
             }
            },
            "type": "histogram"
           }
          ],
          "histogram2d": [
           {
            "colorbar": {
             "outlinewidth": 0,
             "ticks": ""
            },
            "colorscale": [
             [
              0,
              "#0d0887"
             ],
             [
              0.1111111111111111,
              "#46039f"
             ],
             [
              0.2222222222222222,
              "#7201a8"
             ],
             [
              0.3333333333333333,
              "#9c179e"
             ],
             [
              0.4444444444444444,
              "#bd3786"
             ],
             [
              0.5555555555555556,
              "#d8576b"
             ],
             [
              0.6666666666666666,
              "#ed7953"
             ],
             [
              0.7777777777777778,
              "#fb9f3a"
             ],
             [
              0.8888888888888888,
              "#fdca26"
             ],
             [
              1,
              "#f0f921"
             ]
            ],
            "type": "histogram2d"
           }
          ],
          "histogram2dcontour": [
           {
            "colorbar": {
             "outlinewidth": 0,
             "ticks": ""
            },
            "colorscale": [
             [
              0,
              "#0d0887"
             ],
             [
              0.1111111111111111,
              "#46039f"
             ],
             [
              0.2222222222222222,
              "#7201a8"
             ],
             [
              0.3333333333333333,
              "#9c179e"
             ],
             [
              0.4444444444444444,
              "#bd3786"
             ],
             [
              0.5555555555555556,
              "#d8576b"
             ],
             [
              0.6666666666666666,
              "#ed7953"
             ],
             [
              0.7777777777777778,
              "#fb9f3a"
             ],
             [
              0.8888888888888888,
              "#fdca26"
             ],
             [
              1,
              "#f0f921"
             ]
            ],
            "type": "histogram2dcontour"
           }
          ],
          "mesh3d": [
           {
            "colorbar": {
             "outlinewidth": 0,
             "ticks": ""
            },
            "type": "mesh3d"
           }
          ],
          "parcoords": [
           {
            "line": {
             "colorbar": {
              "outlinewidth": 0,
              "ticks": ""
             }
            },
            "type": "parcoords"
           }
          ],
          "pie": [
           {
            "automargin": true,
            "type": "pie"
           }
          ],
          "scatter": [
           {
            "marker": {
             "colorbar": {
              "outlinewidth": 0,
              "ticks": ""
             }
            },
            "type": "scatter"
           }
          ],
          "scatter3d": [
           {
            "line": {
             "colorbar": {
              "outlinewidth": 0,
              "ticks": ""
             }
            },
            "marker": {
             "colorbar": {
              "outlinewidth": 0,
              "ticks": ""
             }
            },
            "type": "scatter3d"
           }
          ],
          "scattercarpet": [
           {
            "marker": {
             "colorbar": {
              "outlinewidth": 0,
              "ticks": ""
             }
            },
            "type": "scattercarpet"
           }
          ],
          "scattergeo": [
           {
            "marker": {
             "colorbar": {
              "outlinewidth": 0,
              "ticks": ""
             }
            },
            "type": "scattergeo"
           }
          ],
          "scattergl": [
           {
            "marker": {
             "colorbar": {
              "outlinewidth": 0,
              "ticks": ""
             }
            },
            "type": "scattergl"
           }
          ],
          "scattermapbox": [
           {
            "marker": {
             "colorbar": {
              "outlinewidth": 0,
              "ticks": ""
             }
            },
            "type": "scattermapbox"
           }
          ],
          "scatterpolar": [
           {
            "marker": {
             "colorbar": {
              "outlinewidth": 0,
              "ticks": ""
             }
            },
            "type": "scatterpolar"
           }
          ],
          "scatterpolargl": [
           {
            "marker": {
             "colorbar": {
              "outlinewidth": 0,
              "ticks": ""
             }
            },
            "type": "scatterpolargl"
           }
          ],
          "scatterternary": [
           {
            "marker": {
             "colorbar": {
              "outlinewidth": 0,
              "ticks": ""
             }
            },
            "type": "scatterternary"
           }
          ],
          "surface": [
           {
            "colorbar": {
             "outlinewidth": 0,
             "ticks": ""
            },
            "colorscale": [
             [
              0,
              "#0d0887"
             ],
             [
              0.1111111111111111,
              "#46039f"
             ],
             [
              0.2222222222222222,
              "#7201a8"
             ],
             [
              0.3333333333333333,
              "#9c179e"
             ],
             [
              0.4444444444444444,
              "#bd3786"
             ],
             [
              0.5555555555555556,
              "#d8576b"
             ],
             [
              0.6666666666666666,
              "#ed7953"
             ],
             [
              0.7777777777777778,
              "#fb9f3a"
             ],
             [
              0.8888888888888888,
              "#fdca26"
             ],
             [
              1,
              "#f0f921"
             ]
            ],
            "type": "surface"
           }
          ],
          "table": [
           {
            "cells": {
             "fill": {
              "color": "#EBF0F8"
             },
             "line": {
              "color": "white"
             }
            },
            "header": {
             "fill": {
              "color": "#C8D4E3"
             },
             "line": {
              "color": "white"
             }
            },
            "type": "table"
           }
          ]
         },
         "layout": {
          "annotationdefaults": {
           "arrowcolor": "#2a3f5f",
           "arrowhead": 0,
           "arrowwidth": 1
          },
          "coloraxis": {
           "colorbar": {
            "outlinewidth": 0,
            "ticks": ""
           }
          },
          "colorscale": {
           "diverging": [
            [
             0,
             "#8e0152"
            ],
            [
             0.1,
             "#c51b7d"
            ],
            [
             0.2,
             "#de77ae"
            ],
            [
             0.3,
             "#f1b6da"
            ],
            [
             0.4,
             "#fde0ef"
            ],
            [
             0.5,
             "#f7f7f7"
            ],
            [
             0.6,
             "#e6f5d0"
            ],
            [
             0.7,
             "#b8e186"
            ],
            [
             0.8,
             "#7fbc41"
            ],
            [
             0.9,
             "#4d9221"
            ],
            [
             1,
             "#276419"
            ]
           ],
           "sequential": [
            [
             0,
             "#0d0887"
            ],
            [
             0.1111111111111111,
             "#46039f"
            ],
            [
             0.2222222222222222,
             "#7201a8"
            ],
            [
             0.3333333333333333,
             "#9c179e"
            ],
            [
             0.4444444444444444,
             "#bd3786"
            ],
            [
             0.5555555555555556,
             "#d8576b"
            ],
            [
             0.6666666666666666,
             "#ed7953"
            ],
            [
             0.7777777777777778,
             "#fb9f3a"
            ],
            [
             0.8888888888888888,
             "#fdca26"
            ],
            [
             1,
             "#f0f921"
            ]
           ],
           "sequentialminus": [
            [
             0,
             "#0d0887"
            ],
            [
             0.1111111111111111,
             "#46039f"
            ],
            [
             0.2222222222222222,
             "#7201a8"
            ],
            [
             0.3333333333333333,
             "#9c179e"
            ],
            [
             0.4444444444444444,
             "#bd3786"
            ],
            [
             0.5555555555555556,
             "#d8576b"
            ],
            [
             0.6666666666666666,
             "#ed7953"
            ],
            [
             0.7777777777777778,
             "#fb9f3a"
            ],
            [
             0.8888888888888888,
             "#fdca26"
            ],
            [
             1,
             "#f0f921"
            ]
           ]
          },
          "colorway": [
           "#636efa",
           "#EF553B",
           "#00cc96",
           "#ab63fa",
           "#FFA15A",
           "#19d3f3",
           "#FF6692",
           "#B6E880",
           "#FF97FF",
           "#FECB52"
          ],
          "font": {
           "color": "#2a3f5f"
          },
          "geo": {
           "bgcolor": "white",
           "lakecolor": "white",
           "landcolor": "#E5ECF6",
           "showlakes": true,
           "showland": true,
           "subunitcolor": "white"
          },
          "hoverlabel": {
           "align": "left"
          },
          "hovermode": "closest",
          "mapbox": {
           "style": "light"
          },
          "paper_bgcolor": "white",
          "plot_bgcolor": "#E5ECF6",
          "polar": {
           "angularaxis": {
            "gridcolor": "white",
            "linecolor": "white",
            "ticks": ""
           },
           "bgcolor": "#E5ECF6",
           "radialaxis": {
            "gridcolor": "white",
            "linecolor": "white",
            "ticks": ""
           }
          },
          "scene": {
           "xaxis": {
            "backgroundcolor": "#E5ECF6",
            "gridcolor": "white",
            "gridwidth": 2,
            "linecolor": "white",
            "showbackground": true,
            "ticks": "",
            "zerolinecolor": "white"
           },
           "yaxis": {
            "backgroundcolor": "#E5ECF6",
            "gridcolor": "white",
            "gridwidth": 2,
            "linecolor": "white",
            "showbackground": true,
            "ticks": "",
            "zerolinecolor": "white"
           },
           "zaxis": {
            "backgroundcolor": "#E5ECF6",
            "gridcolor": "white",
            "gridwidth": 2,
            "linecolor": "white",
            "showbackground": true,
            "ticks": "",
            "zerolinecolor": "white"
           }
          },
          "shapedefaults": {
           "line": {
            "color": "#2a3f5f"
           }
          },
          "ternary": {
           "aaxis": {
            "gridcolor": "white",
            "linecolor": "white",
            "ticks": ""
           },
           "baxis": {
            "gridcolor": "white",
            "linecolor": "white",
            "ticks": ""
           },
           "bgcolor": "#E5ECF6",
           "caxis": {
            "gridcolor": "white",
            "linecolor": "white",
            "ticks": ""
           }
          },
          "title": {
           "x": 0.05
          },
          "xaxis": {
           "automargin": true,
           "gridcolor": "white",
           "linecolor": "white",
           "ticks": "",
           "title": {
            "standoff": 15
           },
           "zerolinecolor": "white",
           "zerolinewidth": 2
          },
          "yaxis": {
           "automargin": true,
           "gridcolor": "white",
           "linecolor": "white",
           "ticks": "",
           "title": {
            "standoff": 15
           },
           "zerolinecolor": "white",
           "zerolinewidth": 2
          }
         }
        },
        "title": {
         "text": "Distribution in number of doors"
        },
        "xaxis": {
         "gridcolor": "rgb(255, 255, 255)",
         "gridwidth": 2,
         "ticklen": 5,
         "title": {
          "text": "doors"
         },
         "zerolinewidth": 1
        },
        "yaxis": {
         "gridcolor": "rgb(255, 255, 255)",
         "gridwidth": 2,
         "ticklen": 5,
         "title": {
          "text": "count"
         },
         "zerolinewidth": 1
        }
       }
      },
      "text/html": [
       "<div>\n",
       "        \n",
       "        \n",
       "            <div id=\"05407e92-266e-4067-b407-75cd028afcd4\" class=\"plotly-graph-div\" style=\"height:525px; width:100%;\"></div>\n",
       "            <script type=\"text/javascript\">\n",
       "                require([\"plotly\"], function(Plotly) {\n",
       "                    window.PLOTLYENV=window.PLOTLYENV || {};\n",
       "                    \n",
       "                if (document.getElementById(\"05407e92-266e-4067-b407-75cd028afcd4\")) {\n",
       "                    Plotly.newPlot(\n",
       "                        '05407e92-266e-4067-b407-75cd028afcd4',\n",
       "                        [{\"marker\": {\"line\": {\"color\": \"black\", \"width\": 0.5}}, \"name\": \"car_class >= acc\", \"opacity\": 0.9, \"type\": \"bar\", \"x\": [\"5more\", \"4\", \"3\", \"2\"], \"y\": [140, 140, 132, 106]}, {\"marker\": {\"line\": {\"color\": \"black\", \"width\": 0.5}}, \"name\": \"car_class == unacc\", \"opacity\": 0.9, \"type\": \"bar\", \"x\": [\"2\", \"3\", \"5more\", \"4\"], \"y\": [326, 300, 292, 292]}],\n",
       "                        {\"paper_bgcolor\": \"rgb(243,243,243)\", \"plot_bgcolor\": \"rgb(243,243,243)\", \"template\": {\"data\": {\"bar\": [{\"error_x\": {\"color\": \"#2a3f5f\"}, \"error_y\": {\"color\": \"#2a3f5f\"}, \"marker\": {\"line\": {\"color\": \"#E5ECF6\", \"width\": 0.5}}, \"type\": \"bar\"}], \"barpolar\": [{\"marker\": {\"line\": {\"color\": \"#E5ECF6\", \"width\": 0.5}}, \"type\": \"barpolar\"}], \"carpet\": [{\"aaxis\": {\"endlinecolor\": \"#2a3f5f\", \"gridcolor\": \"white\", \"linecolor\": \"white\", \"minorgridcolor\": \"white\", \"startlinecolor\": \"#2a3f5f\"}, \"baxis\": {\"endlinecolor\": \"#2a3f5f\", \"gridcolor\": \"white\", \"linecolor\": \"white\", \"minorgridcolor\": \"white\", \"startlinecolor\": \"#2a3f5f\"}, \"type\": \"carpet\"}], \"choropleth\": [{\"colorbar\": {\"outlinewidth\": 0, \"ticks\": \"\"}, \"type\": \"choropleth\"}], \"contour\": [{\"colorbar\": {\"outlinewidth\": 0, \"ticks\": \"\"}, \"colorscale\": [[0.0, \"#0d0887\"], [0.1111111111111111, \"#46039f\"], [0.2222222222222222, \"#7201a8\"], [0.3333333333333333, \"#9c179e\"], [0.4444444444444444, \"#bd3786\"], [0.5555555555555556, \"#d8576b\"], [0.6666666666666666, \"#ed7953\"], [0.7777777777777778, \"#fb9f3a\"], [0.8888888888888888, \"#fdca26\"], [1.0, \"#f0f921\"]], \"type\": \"contour\"}], \"contourcarpet\": [{\"colorbar\": {\"outlinewidth\": 0, \"ticks\": \"\"}, \"type\": \"contourcarpet\"}], \"heatmap\": [{\"colorbar\": {\"outlinewidth\": 0, \"ticks\": \"\"}, \"colorscale\": [[0.0, \"#0d0887\"], [0.1111111111111111, \"#46039f\"], [0.2222222222222222, \"#7201a8\"], [0.3333333333333333, \"#9c179e\"], [0.4444444444444444, \"#bd3786\"], [0.5555555555555556, \"#d8576b\"], [0.6666666666666666, \"#ed7953\"], [0.7777777777777778, \"#fb9f3a\"], [0.8888888888888888, \"#fdca26\"], [1.0, \"#f0f921\"]], \"type\": \"heatmap\"}], \"heatmapgl\": [{\"colorbar\": {\"outlinewidth\": 0, \"ticks\": \"\"}, \"colorscale\": [[0.0, \"#0d0887\"], [0.1111111111111111, \"#46039f\"], [0.2222222222222222, \"#7201a8\"], [0.3333333333333333, \"#9c179e\"], [0.4444444444444444, \"#bd3786\"], [0.5555555555555556, \"#d8576b\"], [0.6666666666666666, \"#ed7953\"], [0.7777777777777778, \"#fb9f3a\"], [0.8888888888888888, \"#fdca26\"], [1.0, \"#f0f921\"]], \"type\": \"heatmapgl\"}], \"histogram\": [{\"marker\": {\"colorbar\": {\"outlinewidth\": 0, \"ticks\": \"\"}}, \"type\": \"histogram\"}], \"histogram2d\": [{\"colorbar\": {\"outlinewidth\": 0, \"ticks\": \"\"}, \"colorscale\": [[0.0, \"#0d0887\"], [0.1111111111111111, \"#46039f\"], [0.2222222222222222, \"#7201a8\"], [0.3333333333333333, \"#9c179e\"], [0.4444444444444444, \"#bd3786\"], [0.5555555555555556, \"#d8576b\"], [0.6666666666666666, \"#ed7953\"], [0.7777777777777778, \"#fb9f3a\"], [0.8888888888888888, \"#fdca26\"], [1.0, \"#f0f921\"]], \"type\": \"histogram2d\"}], \"histogram2dcontour\": [{\"colorbar\": {\"outlinewidth\": 0, \"ticks\": \"\"}, \"colorscale\": [[0.0, \"#0d0887\"], [0.1111111111111111, \"#46039f\"], [0.2222222222222222, \"#7201a8\"], [0.3333333333333333, \"#9c179e\"], [0.4444444444444444, \"#bd3786\"], [0.5555555555555556, \"#d8576b\"], [0.6666666666666666, \"#ed7953\"], [0.7777777777777778, \"#fb9f3a\"], [0.8888888888888888, \"#fdca26\"], [1.0, \"#f0f921\"]], \"type\": \"histogram2dcontour\"}], \"mesh3d\": [{\"colorbar\": {\"outlinewidth\": 0, \"ticks\": \"\"}, \"type\": \"mesh3d\"}], \"parcoords\": [{\"line\": {\"colorbar\": {\"outlinewidth\": 0, \"ticks\": \"\"}}, \"type\": \"parcoords\"}], \"pie\": [{\"automargin\": true, \"type\": \"pie\"}], \"scatter\": [{\"marker\": {\"colorbar\": {\"outlinewidth\": 0, \"ticks\": \"\"}}, \"type\": \"scatter\"}], \"scatter3d\": [{\"line\": {\"colorbar\": {\"outlinewidth\": 0, \"ticks\": \"\"}}, \"marker\": {\"colorbar\": {\"outlinewidth\": 0, \"ticks\": \"\"}}, \"type\": \"scatter3d\"}], \"scattercarpet\": [{\"marker\": {\"colorbar\": {\"outlinewidth\": 0, \"ticks\": \"\"}}, \"type\": \"scattercarpet\"}], \"scattergeo\": [{\"marker\": {\"colorbar\": {\"outlinewidth\": 0, \"ticks\": \"\"}}, \"type\": \"scattergeo\"}], \"scattergl\": [{\"marker\": {\"colorbar\": {\"outlinewidth\": 0, \"ticks\": \"\"}}, \"type\": \"scattergl\"}], \"scattermapbox\": [{\"marker\": {\"colorbar\": {\"outlinewidth\": 0, \"ticks\": \"\"}}, \"type\": \"scattermapbox\"}], \"scatterpolar\": [{\"marker\": {\"colorbar\": {\"outlinewidth\": 0, \"ticks\": \"\"}}, \"type\": \"scatterpolar\"}], \"scatterpolargl\": [{\"marker\": {\"colorbar\": {\"outlinewidth\": 0, \"ticks\": \"\"}}, \"type\": \"scatterpolargl\"}], \"scatterternary\": [{\"marker\": {\"colorbar\": {\"outlinewidth\": 0, \"ticks\": \"\"}}, \"type\": \"scatterternary\"}], \"surface\": [{\"colorbar\": {\"outlinewidth\": 0, \"ticks\": \"\"}, \"colorscale\": [[0.0, \"#0d0887\"], [0.1111111111111111, \"#46039f\"], [0.2222222222222222, \"#7201a8\"], [0.3333333333333333, \"#9c179e\"], [0.4444444444444444, \"#bd3786\"], [0.5555555555555556, \"#d8576b\"], [0.6666666666666666, \"#ed7953\"], [0.7777777777777778, \"#fb9f3a\"], [0.8888888888888888, \"#fdca26\"], [1.0, \"#f0f921\"]], \"type\": \"surface\"}], \"table\": [{\"cells\": {\"fill\": {\"color\": \"#EBF0F8\"}, \"line\": {\"color\": \"white\"}}, \"header\": {\"fill\": {\"color\": \"#C8D4E3\"}, \"line\": {\"color\": \"white\"}}, \"type\": \"table\"}]}, \"layout\": {\"annotationdefaults\": {\"arrowcolor\": \"#2a3f5f\", \"arrowhead\": 0, \"arrowwidth\": 1}, \"coloraxis\": {\"colorbar\": {\"outlinewidth\": 0, \"ticks\": \"\"}}, \"colorscale\": {\"diverging\": [[0, \"#8e0152\"], [0.1, \"#c51b7d\"], [0.2, \"#de77ae\"], [0.3, \"#f1b6da\"], [0.4, \"#fde0ef\"], [0.5, \"#f7f7f7\"], [0.6, \"#e6f5d0\"], [0.7, \"#b8e186\"], [0.8, \"#7fbc41\"], [0.9, \"#4d9221\"], [1, \"#276419\"]], \"sequential\": [[0.0, \"#0d0887\"], [0.1111111111111111, \"#46039f\"], [0.2222222222222222, \"#7201a8\"], [0.3333333333333333, \"#9c179e\"], [0.4444444444444444, \"#bd3786\"], [0.5555555555555556, \"#d8576b\"], [0.6666666666666666, \"#ed7953\"], [0.7777777777777778, \"#fb9f3a\"], [0.8888888888888888, \"#fdca26\"], [1.0, \"#f0f921\"]], \"sequentialminus\": [[0.0, \"#0d0887\"], [0.1111111111111111, \"#46039f\"], [0.2222222222222222, \"#7201a8\"], [0.3333333333333333, \"#9c179e\"], [0.4444444444444444, \"#bd3786\"], [0.5555555555555556, \"#d8576b\"], [0.6666666666666666, \"#ed7953\"], [0.7777777777777778, \"#fb9f3a\"], [0.8888888888888888, \"#fdca26\"], [1.0, \"#f0f921\"]]}, \"colorway\": [\"#636efa\", \"#EF553B\", \"#00cc96\", \"#ab63fa\", \"#FFA15A\", \"#19d3f3\", \"#FF6692\", \"#B6E880\", \"#FF97FF\", \"#FECB52\"], \"font\": {\"color\": \"#2a3f5f\"}, \"geo\": {\"bgcolor\": \"white\", \"lakecolor\": \"white\", \"landcolor\": \"#E5ECF6\", \"showlakes\": true, \"showland\": true, \"subunitcolor\": \"white\"}, \"hoverlabel\": {\"align\": \"left\"}, \"hovermode\": \"closest\", \"mapbox\": {\"style\": \"light\"}, \"paper_bgcolor\": \"white\", \"plot_bgcolor\": \"#E5ECF6\", \"polar\": {\"angularaxis\": {\"gridcolor\": \"white\", \"linecolor\": \"white\", \"ticks\": \"\"}, \"bgcolor\": \"#E5ECF6\", \"radialaxis\": {\"gridcolor\": \"white\", \"linecolor\": \"white\", \"ticks\": \"\"}}, \"scene\": {\"xaxis\": {\"backgroundcolor\": \"#E5ECF6\", \"gridcolor\": \"white\", \"gridwidth\": 2, \"linecolor\": \"white\", \"showbackground\": true, \"ticks\": \"\", \"zerolinecolor\": \"white\"}, \"yaxis\": {\"backgroundcolor\": \"#E5ECF6\", \"gridcolor\": \"white\", \"gridwidth\": 2, \"linecolor\": \"white\", \"showbackground\": true, \"ticks\": \"\", \"zerolinecolor\": \"white\"}, \"zaxis\": {\"backgroundcolor\": \"#E5ECF6\", \"gridcolor\": \"white\", \"gridwidth\": 2, \"linecolor\": \"white\", \"showbackground\": true, \"ticks\": \"\", \"zerolinecolor\": \"white\"}}, \"shapedefaults\": {\"line\": {\"color\": \"#2a3f5f\"}}, \"ternary\": {\"aaxis\": {\"gridcolor\": \"white\", \"linecolor\": \"white\", \"ticks\": \"\"}, \"baxis\": {\"gridcolor\": \"white\", \"linecolor\": \"white\", \"ticks\": \"\"}, \"bgcolor\": \"#E5ECF6\", \"caxis\": {\"gridcolor\": \"white\", \"linecolor\": \"white\", \"ticks\": \"\"}}, \"title\": {\"x\": 0.05}, \"xaxis\": {\"automargin\": true, \"gridcolor\": \"white\", \"linecolor\": \"white\", \"ticks\": \"\", \"title\": {\"standoff\": 15}, \"zerolinecolor\": \"white\", \"zerolinewidth\": 2}, \"yaxis\": {\"automargin\": true, \"gridcolor\": \"white\", \"linecolor\": \"white\", \"ticks\": \"\", \"title\": {\"standoff\": 15}, \"zerolinecolor\": \"white\", \"zerolinewidth\": 2}}}, \"title\": {\"text\": \"Distribution in number of doors\"}, \"xaxis\": {\"gridcolor\": \"rgb(255, 255, 255)\", \"gridwidth\": 2, \"ticklen\": 5, \"title\": {\"text\": \"doors\"}, \"zerolinewidth\": 1}, \"yaxis\": {\"gridcolor\": \"rgb(255, 255, 255)\", \"gridwidth\": 2, \"ticklen\": 5, \"title\": {\"text\": \"count\"}, \"zerolinewidth\": 1}},\n",
       "                        {\"responsive\": true}\n",
       "                    ).then(function(){\n",
       "                            \n",
       "var gd = document.getElementById('05407e92-266e-4067-b407-75cd028afcd4');\n",
       "var x = new MutationObserver(function (mutations, observer) {{\n",
       "        var display = window.getComputedStyle(gd).display;\n",
       "        if (!display || display === 'none') {{\n",
       "            console.log([gd, 'removed!']);\n",
       "            Plotly.purge(gd);\n",
       "            observer.disconnect();\n",
       "        }}\n",
       "}});\n",
       "\n",
       "// Listen for the removal of the full notebook cells\n",
       "var notebookContainer = gd.closest('#notebook-container');\n",
       "if (notebookContainer) {{\n",
       "    x.observe(notebookContainer, {childList: true});\n",
       "}}\n",
       "\n",
       "// Listen for the clearing of the current output cell\n",
       "var outputEl = gd.closest('.output');\n",
       "if (outputEl) {{\n",
       "    x.observe(outputEl, {childList: true});\n",
       "}}\n",
       "\n",
       "                        })\n",
       "                };\n",
       "                });\n",
       "            </script>\n",
       "        </div>"
      ]
     },
     "metadata": {},
     "output_type": "display_data"
    },
    {
     "data": {
      "application/vnd.plotly.v1+json": {
       "config": {
        "linkText": "Export to plot.ly",
        "plotlyServerURL": "https://plot.ly",
        "showLink": false
       },
       "data": [
        {
         "marker": {
          "line": {
           "color": "black",
           "width": 0.5
          }
         },
         "name": "car_class >= acc",
         "opacity": 0.9,
         "type": "bar",
         "x": [
          "4",
          "more"
         ],
         "y": [
          264,
          254
         ]
        },
        {
         "marker": {
          "line": {
           "color": "black",
           "width": 0.5
          }
         },
         "name": "car_class == unacc",
         "opacity": 0.9,
         "type": "bar",
         "x": [
          "2",
          "more",
          "4"
         ],
         "y": [
          576,
          322,
          312
         ]
        }
       ],
       "layout": {
        "paper_bgcolor": "rgb(243,243,243)",
        "plot_bgcolor": "rgb(243,243,243)",
        "template": {
         "data": {
          "bar": [
           {
            "error_x": {
             "color": "#2a3f5f"
            },
            "error_y": {
             "color": "#2a3f5f"
            },
            "marker": {
             "line": {
              "color": "#E5ECF6",
              "width": 0.5
             }
            },
            "type": "bar"
           }
          ],
          "barpolar": [
           {
            "marker": {
             "line": {
              "color": "#E5ECF6",
              "width": 0.5
             }
            },
            "type": "barpolar"
           }
          ],
          "carpet": [
           {
            "aaxis": {
             "endlinecolor": "#2a3f5f",
             "gridcolor": "white",
             "linecolor": "white",
             "minorgridcolor": "white",
             "startlinecolor": "#2a3f5f"
            },
            "baxis": {
             "endlinecolor": "#2a3f5f",
             "gridcolor": "white",
             "linecolor": "white",
             "minorgridcolor": "white",
             "startlinecolor": "#2a3f5f"
            },
            "type": "carpet"
           }
          ],
          "choropleth": [
           {
            "colorbar": {
             "outlinewidth": 0,
             "ticks": ""
            },
            "type": "choropleth"
           }
          ],
          "contour": [
           {
            "colorbar": {
             "outlinewidth": 0,
             "ticks": ""
            },
            "colorscale": [
             [
              0,
              "#0d0887"
             ],
             [
              0.1111111111111111,
              "#46039f"
             ],
             [
              0.2222222222222222,
              "#7201a8"
             ],
             [
              0.3333333333333333,
              "#9c179e"
             ],
             [
              0.4444444444444444,
              "#bd3786"
             ],
             [
              0.5555555555555556,
              "#d8576b"
             ],
             [
              0.6666666666666666,
              "#ed7953"
             ],
             [
              0.7777777777777778,
              "#fb9f3a"
             ],
             [
              0.8888888888888888,
              "#fdca26"
             ],
             [
              1,
              "#f0f921"
             ]
            ],
            "type": "contour"
           }
          ],
          "contourcarpet": [
           {
            "colorbar": {
             "outlinewidth": 0,
             "ticks": ""
            },
            "type": "contourcarpet"
           }
          ],
          "heatmap": [
           {
            "colorbar": {
             "outlinewidth": 0,
             "ticks": ""
            },
            "colorscale": [
             [
              0,
              "#0d0887"
             ],
             [
              0.1111111111111111,
              "#46039f"
             ],
             [
              0.2222222222222222,
              "#7201a8"
             ],
             [
              0.3333333333333333,
              "#9c179e"
             ],
             [
              0.4444444444444444,
              "#bd3786"
             ],
             [
              0.5555555555555556,
              "#d8576b"
             ],
             [
              0.6666666666666666,
              "#ed7953"
             ],
             [
              0.7777777777777778,
              "#fb9f3a"
             ],
             [
              0.8888888888888888,
              "#fdca26"
             ],
             [
              1,
              "#f0f921"
             ]
            ],
            "type": "heatmap"
           }
          ],
          "heatmapgl": [
           {
            "colorbar": {
             "outlinewidth": 0,
             "ticks": ""
            },
            "colorscale": [
             [
              0,
              "#0d0887"
             ],
             [
              0.1111111111111111,
              "#46039f"
             ],
             [
              0.2222222222222222,
              "#7201a8"
             ],
             [
              0.3333333333333333,
              "#9c179e"
             ],
             [
              0.4444444444444444,
              "#bd3786"
             ],
             [
              0.5555555555555556,
              "#d8576b"
             ],
             [
              0.6666666666666666,
              "#ed7953"
             ],
             [
              0.7777777777777778,
              "#fb9f3a"
             ],
             [
              0.8888888888888888,
              "#fdca26"
             ],
             [
              1,
              "#f0f921"
             ]
            ],
            "type": "heatmapgl"
           }
          ],
          "histogram": [
           {
            "marker": {
             "colorbar": {
              "outlinewidth": 0,
              "ticks": ""
             }
            },
            "type": "histogram"
           }
          ],
          "histogram2d": [
           {
            "colorbar": {
             "outlinewidth": 0,
             "ticks": ""
            },
            "colorscale": [
             [
              0,
              "#0d0887"
             ],
             [
              0.1111111111111111,
              "#46039f"
             ],
             [
              0.2222222222222222,
              "#7201a8"
             ],
             [
              0.3333333333333333,
              "#9c179e"
             ],
             [
              0.4444444444444444,
              "#bd3786"
             ],
             [
              0.5555555555555556,
              "#d8576b"
             ],
             [
              0.6666666666666666,
              "#ed7953"
             ],
             [
              0.7777777777777778,
              "#fb9f3a"
             ],
             [
              0.8888888888888888,
              "#fdca26"
             ],
             [
              1,
              "#f0f921"
             ]
            ],
            "type": "histogram2d"
           }
          ],
          "histogram2dcontour": [
           {
            "colorbar": {
             "outlinewidth": 0,
             "ticks": ""
            },
            "colorscale": [
             [
              0,
              "#0d0887"
             ],
             [
              0.1111111111111111,
              "#46039f"
             ],
             [
              0.2222222222222222,
              "#7201a8"
             ],
             [
              0.3333333333333333,
              "#9c179e"
             ],
             [
              0.4444444444444444,
              "#bd3786"
             ],
             [
              0.5555555555555556,
              "#d8576b"
             ],
             [
              0.6666666666666666,
              "#ed7953"
             ],
             [
              0.7777777777777778,
              "#fb9f3a"
             ],
             [
              0.8888888888888888,
              "#fdca26"
             ],
             [
              1,
              "#f0f921"
             ]
            ],
            "type": "histogram2dcontour"
           }
          ],
          "mesh3d": [
           {
            "colorbar": {
             "outlinewidth": 0,
             "ticks": ""
            },
            "type": "mesh3d"
           }
          ],
          "parcoords": [
           {
            "line": {
             "colorbar": {
              "outlinewidth": 0,
              "ticks": ""
             }
            },
            "type": "parcoords"
           }
          ],
          "pie": [
           {
            "automargin": true,
            "type": "pie"
           }
          ],
          "scatter": [
           {
            "marker": {
             "colorbar": {
              "outlinewidth": 0,
              "ticks": ""
             }
            },
            "type": "scatter"
           }
          ],
          "scatter3d": [
           {
            "line": {
             "colorbar": {
              "outlinewidth": 0,
              "ticks": ""
             }
            },
            "marker": {
             "colorbar": {
              "outlinewidth": 0,
              "ticks": ""
             }
            },
            "type": "scatter3d"
           }
          ],
          "scattercarpet": [
           {
            "marker": {
             "colorbar": {
              "outlinewidth": 0,
              "ticks": ""
             }
            },
            "type": "scattercarpet"
           }
          ],
          "scattergeo": [
           {
            "marker": {
             "colorbar": {
              "outlinewidth": 0,
              "ticks": ""
             }
            },
            "type": "scattergeo"
           }
          ],
          "scattergl": [
           {
            "marker": {
             "colorbar": {
              "outlinewidth": 0,
              "ticks": ""
             }
            },
            "type": "scattergl"
           }
          ],
          "scattermapbox": [
           {
            "marker": {
             "colorbar": {
              "outlinewidth": 0,
              "ticks": ""
             }
            },
            "type": "scattermapbox"
           }
          ],
          "scatterpolar": [
           {
            "marker": {
             "colorbar": {
              "outlinewidth": 0,
              "ticks": ""
             }
            },
            "type": "scatterpolar"
           }
          ],
          "scatterpolargl": [
           {
            "marker": {
             "colorbar": {
              "outlinewidth": 0,
              "ticks": ""
             }
            },
            "type": "scatterpolargl"
           }
          ],
          "scatterternary": [
           {
            "marker": {
             "colorbar": {
              "outlinewidth": 0,
              "ticks": ""
             }
            },
            "type": "scatterternary"
           }
          ],
          "surface": [
           {
            "colorbar": {
             "outlinewidth": 0,
             "ticks": ""
            },
            "colorscale": [
             [
              0,
              "#0d0887"
             ],
             [
              0.1111111111111111,
              "#46039f"
             ],
             [
              0.2222222222222222,
              "#7201a8"
             ],
             [
              0.3333333333333333,
              "#9c179e"
             ],
             [
              0.4444444444444444,
              "#bd3786"
             ],
             [
              0.5555555555555556,
              "#d8576b"
             ],
             [
              0.6666666666666666,
              "#ed7953"
             ],
             [
              0.7777777777777778,
              "#fb9f3a"
             ],
             [
              0.8888888888888888,
              "#fdca26"
             ],
             [
              1,
              "#f0f921"
             ]
            ],
            "type": "surface"
           }
          ],
          "table": [
           {
            "cells": {
             "fill": {
              "color": "#EBF0F8"
             },
             "line": {
              "color": "white"
             }
            },
            "header": {
             "fill": {
              "color": "#C8D4E3"
             },
             "line": {
              "color": "white"
             }
            },
            "type": "table"
           }
          ]
         },
         "layout": {
          "annotationdefaults": {
           "arrowcolor": "#2a3f5f",
           "arrowhead": 0,
           "arrowwidth": 1
          },
          "coloraxis": {
           "colorbar": {
            "outlinewidth": 0,
            "ticks": ""
           }
          },
          "colorscale": {
           "diverging": [
            [
             0,
             "#8e0152"
            ],
            [
             0.1,
             "#c51b7d"
            ],
            [
             0.2,
             "#de77ae"
            ],
            [
             0.3,
             "#f1b6da"
            ],
            [
             0.4,
             "#fde0ef"
            ],
            [
             0.5,
             "#f7f7f7"
            ],
            [
             0.6,
             "#e6f5d0"
            ],
            [
             0.7,
             "#b8e186"
            ],
            [
             0.8,
             "#7fbc41"
            ],
            [
             0.9,
             "#4d9221"
            ],
            [
             1,
             "#276419"
            ]
           ],
           "sequential": [
            [
             0,
             "#0d0887"
            ],
            [
             0.1111111111111111,
             "#46039f"
            ],
            [
             0.2222222222222222,
             "#7201a8"
            ],
            [
             0.3333333333333333,
             "#9c179e"
            ],
            [
             0.4444444444444444,
             "#bd3786"
            ],
            [
             0.5555555555555556,
             "#d8576b"
            ],
            [
             0.6666666666666666,
             "#ed7953"
            ],
            [
             0.7777777777777778,
             "#fb9f3a"
            ],
            [
             0.8888888888888888,
             "#fdca26"
            ],
            [
             1,
             "#f0f921"
            ]
           ],
           "sequentialminus": [
            [
             0,
             "#0d0887"
            ],
            [
             0.1111111111111111,
             "#46039f"
            ],
            [
             0.2222222222222222,
             "#7201a8"
            ],
            [
             0.3333333333333333,
             "#9c179e"
            ],
            [
             0.4444444444444444,
             "#bd3786"
            ],
            [
             0.5555555555555556,
             "#d8576b"
            ],
            [
             0.6666666666666666,
             "#ed7953"
            ],
            [
             0.7777777777777778,
             "#fb9f3a"
            ],
            [
             0.8888888888888888,
             "#fdca26"
            ],
            [
             1,
             "#f0f921"
            ]
           ]
          },
          "colorway": [
           "#636efa",
           "#EF553B",
           "#00cc96",
           "#ab63fa",
           "#FFA15A",
           "#19d3f3",
           "#FF6692",
           "#B6E880",
           "#FF97FF",
           "#FECB52"
          ],
          "font": {
           "color": "#2a3f5f"
          },
          "geo": {
           "bgcolor": "white",
           "lakecolor": "white",
           "landcolor": "#E5ECF6",
           "showlakes": true,
           "showland": true,
           "subunitcolor": "white"
          },
          "hoverlabel": {
           "align": "left"
          },
          "hovermode": "closest",
          "mapbox": {
           "style": "light"
          },
          "paper_bgcolor": "white",
          "plot_bgcolor": "#E5ECF6",
          "polar": {
           "angularaxis": {
            "gridcolor": "white",
            "linecolor": "white",
            "ticks": ""
           },
           "bgcolor": "#E5ECF6",
           "radialaxis": {
            "gridcolor": "white",
            "linecolor": "white",
            "ticks": ""
           }
          },
          "scene": {
           "xaxis": {
            "backgroundcolor": "#E5ECF6",
            "gridcolor": "white",
            "gridwidth": 2,
            "linecolor": "white",
            "showbackground": true,
            "ticks": "",
            "zerolinecolor": "white"
           },
           "yaxis": {
            "backgroundcolor": "#E5ECF6",
            "gridcolor": "white",
            "gridwidth": 2,
            "linecolor": "white",
            "showbackground": true,
            "ticks": "",
            "zerolinecolor": "white"
           },
           "zaxis": {
            "backgroundcolor": "#E5ECF6",
            "gridcolor": "white",
            "gridwidth": 2,
            "linecolor": "white",
            "showbackground": true,
            "ticks": "",
            "zerolinecolor": "white"
           }
          },
          "shapedefaults": {
           "line": {
            "color": "#2a3f5f"
           }
          },
          "ternary": {
           "aaxis": {
            "gridcolor": "white",
            "linecolor": "white",
            "ticks": ""
           },
           "baxis": {
            "gridcolor": "white",
            "linecolor": "white",
            "ticks": ""
           },
           "bgcolor": "#E5ECF6",
           "caxis": {
            "gridcolor": "white",
            "linecolor": "white",
            "ticks": ""
           }
          },
          "title": {
           "x": 0.05
          },
          "xaxis": {
           "automargin": true,
           "gridcolor": "white",
           "linecolor": "white",
           "ticks": "",
           "title": {
            "standoff": 15
           },
           "zerolinecolor": "white",
           "zerolinewidth": 2
          },
          "yaxis": {
           "automargin": true,
           "gridcolor": "white",
           "linecolor": "white",
           "ticks": "",
           "title": {
            "standoff": 15
           },
           "zerolinecolor": "white",
           "zerolinewidth": 2
          }
         }
        },
        "title": {
         "text": "Distribution in capacity in terms of persons to carry"
        },
        "xaxis": {
         "gridcolor": "rgb(255, 255, 255)",
         "gridwidth": 2,
         "ticklen": 5,
         "title": {
          "text": "persons"
         },
         "zerolinewidth": 1
        },
        "yaxis": {
         "gridcolor": "rgb(255, 255, 255)",
         "gridwidth": 2,
         "ticklen": 5,
         "title": {
          "text": "count"
         },
         "zerolinewidth": 1
        }
       }
      },
      "text/html": [
       "<div>\n",
       "        \n",
       "        \n",
       "            <div id=\"61df82c3-529a-4b7b-911c-1d610cf9dda7\" class=\"plotly-graph-div\" style=\"height:525px; width:100%;\"></div>\n",
       "            <script type=\"text/javascript\">\n",
       "                require([\"plotly\"], function(Plotly) {\n",
       "                    window.PLOTLYENV=window.PLOTLYENV || {};\n",
       "                    \n",
       "                if (document.getElementById(\"61df82c3-529a-4b7b-911c-1d610cf9dda7\")) {\n",
       "                    Plotly.newPlot(\n",
       "                        '61df82c3-529a-4b7b-911c-1d610cf9dda7',\n",
       "                        [{\"marker\": {\"line\": {\"color\": \"black\", \"width\": 0.5}}, \"name\": \"car_class >= acc\", \"opacity\": 0.9, \"type\": \"bar\", \"x\": [\"4\", \"more\"], \"y\": [264, 254]}, {\"marker\": {\"line\": {\"color\": \"black\", \"width\": 0.5}}, \"name\": \"car_class == unacc\", \"opacity\": 0.9, \"type\": \"bar\", \"x\": [\"2\", \"more\", \"4\"], \"y\": [576, 322, 312]}],\n",
       "                        {\"paper_bgcolor\": \"rgb(243,243,243)\", \"plot_bgcolor\": \"rgb(243,243,243)\", \"template\": {\"data\": {\"bar\": [{\"error_x\": {\"color\": \"#2a3f5f\"}, \"error_y\": {\"color\": \"#2a3f5f\"}, \"marker\": {\"line\": {\"color\": \"#E5ECF6\", \"width\": 0.5}}, \"type\": \"bar\"}], \"barpolar\": [{\"marker\": {\"line\": {\"color\": \"#E5ECF6\", \"width\": 0.5}}, \"type\": \"barpolar\"}], \"carpet\": [{\"aaxis\": {\"endlinecolor\": \"#2a3f5f\", \"gridcolor\": \"white\", \"linecolor\": \"white\", \"minorgridcolor\": \"white\", \"startlinecolor\": \"#2a3f5f\"}, \"baxis\": {\"endlinecolor\": \"#2a3f5f\", \"gridcolor\": \"white\", \"linecolor\": \"white\", \"minorgridcolor\": \"white\", \"startlinecolor\": \"#2a3f5f\"}, \"type\": \"carpet\"}], \"choropleth\": [{\"colorbar\": {\"outlinewidth\": 0, \"ticks\": \"\"}, \"type\": \"choropleth\"}], \"contour\": [{\"colorbar\": {\"outlinewidth\": 0, \"ticks\": \"\"}, \"colorscale\": [[0.0, \"#0d0887\"], [0.1111111111111111, \"#46039f\"], [0.2222222222222222, \"#7201a8\"], [0.3333333333333333, \"#9c179e\"], [0.4444444444444444, \"#bd3786\"], [0.5555555555555556, \"#d8576b\"], [0.6666666666666666, \"#ed7953\"], [0.7777777777777778, \"#fb9f3a\"], [0.8888888888888888, \"#fdca26\"], [1.0, \"#f0f921\"]], \"type\": \"contour\"}], \"contourcarpet\": [{\"colorbar\": {\"outlinewidth\": 0, \"ticks\": \"\"}, \"type\": \"contourcarpet\"}], \"heatmap\": [{\"colorbar\": {\"outlinewidth\": 0, \"ticks\": \"\"}, \"colorscale\": [[0.0, \"#0d0887\"], [0.1111111111111111, \"#46039f\"], [0.2222222222222222, \"#7201a8\"], [0.3333333333333333, \"#9c179e\"], [0.4444444444444444, \"#bd3786\"], [0.5555555555555556, \"#d8576b\"], [0.6666666666666666, \"#ed7953\"], [0.7777777777777778, \"#fb9f3a\"], [0.8888888888888888, \"#fdca26\"], [1.0, \"#f0f921\"]], \"type\": \"heatmap\"}], \"heatmapgl\": [{\"colorbar\": {\"outlinewidth\": 0, \"ticks\": \"\"}, \"colorscale\": [[0.0, \"#0d0887\"], [0.1111111111111111, \"#46039f\"], [0.2222222222222222, \"#7201a8\"], [0.3333333333333333, \"#9c179e\"], [0.4444444444444444, \"#bd3786\"], [0.5555555555555556, \"#d8576b\"], [0.6666666666666666, \"#ed7953\"], [0.7777777777777778, \"#fb9f3a\"], [0.8888888888888888, \"#fdca26\"], [1.0, \"#f0f921\"]], \"type\": \"heatmapgl\"}], \"histogram\": [{\"marker\": {\"colorbar\": {\"outlinewidth\": 0, \"ticks\": \"\"}}, \"type\": \"histogram\"}], \"histogram2d\": [{\"colorbar\": {\"outlinewidth\": 0, \"ticks\": \"\"}, \"colorscale\": [[0.0, \"#0d0887\"], [0.1111111111111111, \"#46039f\"], [0.2222222222222222, \"#7201a8\"], [0.3333333333333333, \"#9c179e\"], [0.4444444444444444, \"#bd3786\"], [0.5555555555555556, \"#d8576b\"], [0.6666666666666666, \"#ed7953\"], [0.7777777777777778, \"#fb9f3a\"], [0.8888888888888888, \"#fdca26\"], [1.0, \"#f0f921\"]], \"type\": \"histogram2d\"}], \"histogram2dcontour\": [{\"colorbar\": {\"outlinewidth\": 0, \"ticks\": \"\"}, \"colorscale\": [[0.0, \"#0d0887\"], [0.1111111111111111, \"#46039f\"], [0.2222222222222222, \"#7201a8\"], [0.3333333333333333, \"#9c179e\"], [0.4444444444444444, \"#bd3786\"], [0.5555555555555556, \"#d8576b\"], [0.6666666666666666, \"#ed7953\"], [0.7777777777777778, \"#fb9f3a\"], [0.8888888888888888, \"#fdca26\"], [1.0, \"#f0f921\"]], \"type\": \"histogram2dcontour\"}], \"mesh3d\": [{\"colorbar\": {\"outlinewidth\": 0, \"ticks\": \"\"}, \"type\": \"mesh3d\"}], \"parcoords\": [{\"line\": {\"colorbar\": {\"outlinewidth\": 0, \"ticks\": \"\"}}, \"type\": \"parcoords\"}], \"pie\": [{\"automargin\": true, \"type\": \"pie\"}], \"scatter\": [{\"marker\": {\"colorbar\": {\"outlinewidth\": 0, \"ticks\": \"\"}}, \"type\": \"scatter\"}], \"scatter3d\": [{\"line\": {\"colorbar\": {\"outlinewidth\": 0, \"ticks\": \"\"}}, \"marker\": {\"colorbar\": {\"outlinewidth\": 0, \"ticks\": \"\"}}, \"type\": \"scatter3d\"}], \"scattercarpet\": [{\"marker\": {\"colorbar\": {\"outlinewidth\": 0, \"ticks\": \"\"}}, \"type\": \"scattercarpet\"}], \"scattergeo\": [{\"marker\": {\"colorbar\": {\"outlinewidth\": 0, \"ticks\": \"\"}}, \"type\": \"scattergeo\"}], \"scattergl\": [{\"marker\": {\"colorbar\": {\"outlinewidth\": 0, \"ticks\": \"\"}}, \"type\": \"scattergl\"}], \"scattermapbox\": [{\"marker\": {\"colorbar\": {\"outlinewidth\": 0, \"ticks\": \"\"}}, \"type\": \"scattermapbox\"}], \"scatterpolar\": [{\"marker\": {\"colorbar\": {\"outlinewidth\": 0, \"ticks\": \"\"}}, \"type\": \"scatterpolar\"}], \"scatterpolargl\": [{\"marker\": {\"colorbar\": {\"outlinewidth\": 0, \"ticks\": \"\"}}, \"type\": \"scatterpolargl\"}], \"scatterternary\": [{\"marker\": {\"colorbar\": {\"outlinewidth\": 0, \"ticks\": \"\"}}, \"type\": \"scatterternary\"}], \"surface\": [{\"colorbar\": {\"outlinewidth\": 0, \"ticks\": \"\"}, \"colorscale\": [[0.0, \"#0d0887\"], [0.1111111111111111, \"#46039f\"], [0.2222222222222222, \"#7201a8\"], [0.3333333333333333, \"#9c179e\"], [0.4444444444444444, \"#bd3786\"], [0.5555555555555556, \"#d8576b\"], [0.6666666666666666, \"#ed7953\"], [0.7777777777777778, \"#fb9f3a\"], [0.8888888888888888, \"#fdca26\"], [1.0, \"#f0f921\"]], \"type\": \"surface\"}], \"table\": [{\"cells\": {\"fill\": {\"color\": \"#EBF0F8\"}, \"line\": {\"color\": \"white\"}}, \"header\": {\"fill\": {\"color\": \"#C8D4E3\"}, \"line\": {\"color\": \"white\"}}, \"type\": \"table\"}]}, \"layout\": {\"annotationdefaults\": {\"arrowcolor\": \"#2a3f5f\", \"arrowhead\": 0, \"arrowwidth\": 1}, \"coloraxis\": {\"colorbar\": {\"outlinewidth\": 0, \"ticks\": \"\"}}, \"colorscale\": {\"diverging\": [[0, \"#8e0152\"], [0.1, \"#c51b7d\"], [0.2, \"#de77ae\"], [0.3, \"#f1b6da\"], [0.4, \"#fde0ef\"], [0.5, \"#f7f7f7\"], [0.6, \"#e6f5d0\"], [0.7, \"#b8e186\"], [0.8, \"#7fbc41\"], [0.9, \"#4d9221\"], [1, \"#276419\"]], \"sequential\": [[0.0, \"#0d0887\"], [0.1111111111111111, \"#46039f\"], [0.2222222222222222, \"#7201a8\"], [0.3333333333333333, \"#9c179e\"], [0.4444444444444444, \"#bd3786\"], [0.5555555555555556, \"#d8576b\"], [0.6666666666666666, \"#ed7953\"], [0.7777777777777778, \"#fb9f3a\"], [0.8888888888888888, \"#fdca26\"], [1.0, \"#f0f921\"]], \"sequentialminus\": [[0.0, \"#0d0887\"], [0.1111111111111111, \"#46039f\"], [0.2222222222222222, \"#7201a8\"], [0.3333333333333333, \"#9c179e\"], [0.4444444444444444, \"#bd3786\"], [0.5555555555555556, \"#d8576b\"], [0.6666666666666666, \"#ed7953\"], [0.7777777777777778, \"#fb9f3a\"], [0.8888888888888888, \"#fdca26\"], [1.0, \"#f0f921\"]]}, \"colorway\": [\"#636efa\", \"#EF553B\", \"#00cc96\", \"#ab63fa\", \"#FFA15A\", \"#19d3f3\", \"#FF6692\", \"#B6E880\", \"#FF97FF\", \"#FECB52\"], \"font\": {\"color\": \"#2a3f5f\"}, \"geo\": {\"bgcolor\": \"white\", \"lakecolor\": \"white\", \"landcolor\": \"#E5ECF6\", \"showlakes\": true, \"showland\": true, \"subunitcolor\": \"white\"}, \"hoverlabel\": {\"align\": \"left\"}, \"hovermode\": \"closest\", \"mapbox\": {\"style\": \"light\"}, \"paper_bgcolor\": \"white\", \"plot_bgcolor\": \"#E5ECF6\", \"polar\": {\"angularaxis\": {\"gridcolor\": \"white\", \"linecolor\": \"white\", \"ticks\": \"\"}, \"bgcolor\": \"#E5ECF6\", \"radialaxis\": {\"gridcolor\": \"white\", \"linecolor\": \"white\", \"ticks\": \"\"}}, \"scene\": {\"xaxis\": {\"backgroundcolor\": \"#E5ECF6\", \"gridcolor\": \"white\", \"gridwidth\": 2, \"linecolor\": \"white\", \"showbackground\": true, \"ticks\": \"\", \"zerolinecolor\": \"white\"}, \"yaxis\": {\"backgroundcolor\": \"#E5ECF6\", \"gridcolor\": \"white\", \"gridwidth\": 2, \"linecolor\": \"white\", \"showbackground\": true, \"ticks\": \"\", \"zerolinecolor\": \"white\"}, \"zaxis\": {\"backgroundcolor\": \"#E5ECF6\", \"gridcolor\": \"white\", \"gridwidth\": 2, \"linecolor\": \"white\", \"showbackground\": true, \"ticks\": \"\", \"zerolinecolor\": \"white\"}}, \"shapedefaults\": {\"line\": {\"color\": \"#2a3f5f\"}}, \"ternary\": {\"aaxis\": {\"gridcolor\": \"white\", \"linecolor\": \"white\", \"ticks\": \"\"}, \"baxis\": {\"gridcolor\": \"white\", \"linecolor\": \"white\", \"ticks\": \"\"}, \"bgcolor\": \"#E5ECF6\", \"caxis\": {\"gridcolor\": \"white\", \"linecolor\": \"white\", \"ticks\": \"\"}}, \"title\": {\"x\": 0.05}, \"xaxis\": {\"automargin\": true, \"gridcolor\": \"white\", \"linecolor\": \"white\", \"ticks\": \"\", \"title\": {\"standoff\": 15}, \"zerolinecolor\": \"white\", \"zerolinewidth\": 2}, \"yaxis\": {\"automargin\": true, \"gridcolor\": \"white\", \"linecolor\": \"white\", \"ticks\": \"\", \"title\": {\"standoff\": 15}, \"zerolinecolor\": \"white\", \"zerolinewidth\": 2}}}, \"title\": {\"text\": \"Distribution in capacity in terms of persons to carry\"}, \"xaxis\": {\"gridcolor\": \"rgb(255, 255, 255)\", \"gridwidth\": 2, \"ticklen\": 5, \"title\": {\"text\": \"persons\"}, \"zerolinewidth\": 1}, \"yaxis\": {\"gridcolor\": \"rgb(255, 255, 255)\", \"gridwidth\": 2, \"ticklen\": 5, \"title\": {\"text\": \"count\"}, \"zerolinewidth\": 1}},\n",
       "                        {\"responsive\": true}\n",
       "                    ).then(function(){\n",
       "                            \n",
       "var gd = document.getElementById('61df82c3-529a-4b7b-911c-1d610cf9dda7');\n",
       "var x = new MutationObserver(function (mutations, observer) {{\n",
       "        var display = window.getComputedStyle(gd).display;\n",
       "        if (!display || display === 'none') {{\n",
       "            console.log([gd, 'removed!']);\n",
       "            Plotly.purge(gd);\n",
       "            observer.disconnect();\n",
       "        }}\n",
       "}});\n",
       "\n",
       "// Listen for the removal of the full notebook cells\n",
       "var notebookContainer = gd.closest('#notebook-container');\n",
       "if (notebookContainer) {{\n",
       "    x.observe(notebookContainer, {childList: true});\n",
       "}}\n",
       "\n",
       "// Listen for the clearing of the current output cell\n",
       "var outputEl = gd.closest('.output');\n",
       "if (outputEl) {{\n",
       "    x.observe(outputEl, {childList: true});\n",
       "}}\n",
       "\n",
       "                        })\n",
       "                };\n",
       "                });\n",
       "            </script>\n",
       "        </div>"
      ]
     },
     "metadata": {},
     "output_type": "display_data"
    },
    {
     "data": {
      "application/vnd.plotly.v1+json": {
       "config": {
        "linkText": "Export to plot.ly",
        "plotlyServerURL": "https://plot.ly",
        "showLink": false
       },
       "data": [
        {
         "marker": {
          "line": {
           "color": "black",
           "width": 0.5
          }
         },
         "name": "car_class >= acc",
         "opacity": 0.9,
         "type": "bar",
         "x": [
          "big",
          "med",
          "small"
         ],
         "y": [
          208,
          184,
          126
         ]
        },
        {
         "marker": {
          "line": {
           "color": "black",
           "width": 0.5
          }
         },
         "name": "car_class == unacc",
         "opacity": 0.9,
         "type": "bar",
         "x": [
          "small",
          "med",
          "big"
         ],
         "y": [
          450,
          392,
          368
         ]
        }
       ],
       "layout": {
        "paper_bgcolor": "rgb(243,243,243)",
        "plot_bgcolor": "rgb(243,243,243)",
        "template": {
         "data": {
          "bar": [
           {
            "error_x": {
             "color": "#2a3f5f"
            },
            "error_y": {
             "color": "#2a3f5f"
            },
            "marker": {
             "line": {
              "color": "#E5ECF6",
              "width": 0.5
             }
            },
            "type": "bar"
           }
          ],
          "barpolar": [
           {
            "marker": {
             "line": {
              "color": "#E5ECF6",
              "width": 0.5
             }
            },
            "type": "barpolar"
           }
          ],
          "carpet": [
           {
            "aaxis": {
             "endlinecolor": "#2a3f5f",
             "gridcolor": "white",
             "linecolor": "white",
             "minorgridcolor": "white",
             "startlinecolor": "#2a3f5f"
            },
            "baxis": {
             "endlinecolor": "#2a3f5f",
             "gridcolor": "white",
             "linecolor": "white",
             "minorgridcolor": "white",
             "startlinecolor": "#2a3f5f"
            },
            "type": "carpet"
           }
          ],
          "choropleth": [
           {
            "colorbar": {
             "outlinewidth": 0,
             "ticks": ""
            },
            "type": "choropleth"
           }
          ],
          "contour": [
           {
            "colorbar": {
             "outlinewidth": 0,
             "ticks": ""
            },
            "colorscale": [
             [
              0,
              "#0d0887"
             ],
             [
              0.1111111111111111,
              "#46039f"
             ],
             [
              0.2222222222222222,
              "#7201a8"
             ],
             [
              0.3333333333333333,
              "#9c179e"
             ],
             [
              0.4444444444444444,
              "#bd3786"
             ],
             [
              0.5555555555555556,
              "#d8576b"
             ],
             [
              0.6666666666666666,
              "#ed7953"
             ],
             [
              0.7777777777777778,
              "#fb9f3a"
             ],
             [
              0.8888888888888888,
              "#fdca26"
             ],
             [
              1,
              "#f0f921"
             ]
            ],
            "type": "contour"
           }
          ],
          "contourcarpet": [
           {
            "colorbar": {
             "outlinewidth": 0,
             "ticks": ""
            },
            "type": "contourcarpet"
           }
          ],
          "heatmap": [
           {
            "colorbar": {
             "outlinewidth": 0,
             "ticks": ""
            },
            "colorscale": [
             [
              0,
              "#0d0887"
             ],
             [
              0.1111111111111111,
              "#46039f"
             ],
             [
              0.2222222222222222,
              "#7201a8"
             ],
             [
              0.3333333333333333,
              "#9c179e"
             ],
             [
              0.4444444444444444,
              "#bd3786"
             ],
             [
              0.5555555555555556,
              "#d8576b"
             ],
             [
              0.6666666666666666,
              "#ed7953"
             ],
             [
              0.7777777777777778,
              "#fb9f3a"
             ],
             [
              0.8888888888888888,
              "#fdca26"
             ],
             [
              1,
              "#f0f921"
             ]
            ],
            "type": "heatmap"
           }
          ],
          "heatmapgl": [
           {
            "colorbar": {
             "outlinewidth": 0,
             "ticks": ""
            },
            "colorscale": [
             [
              0,
              "#0d0887"
             ],
             [
              0.1111111111111111,
              "#46039f"
             ],
             [
              0.2222222222222222,
              "#7201a8"
             ],
             [
              0.3333333333333333,
              "#9c179e"
             ],
             [
              0.4444444444444444,
              "#bd3786"
             ],
             [
              0.5555555555555556,
              "#d8576b"
             ],
             [
              0.6666666666666666,
              "#ed7953"
             ],
             [
              0.7777777777777778,
              "#fb9f3a"
             ],
             [
              0.8888888888888888,
              "#fdca26"
             ],
             [
              1,
              "#f0f921"
             ]
            ],
            "type": "heatmapgl"
           }
          ],
          "histogram": [
           {
            "marker": {
             "colorbar": {
              "outlinewidth": 0,
              "ticks": ""
             }
            },
            "type": "histogram"
           }
          ],
          "histogram2d": [
           {
            "colorbar": {
             "outlinewidth": 0,
             "ticks": ""
            },
            "colorscale": [
             [
              0,
              "#0d0887"
             ],
             [
              0.1111111111111111,
              "#46039f"
             ],
             [
              0.2222222222222222,
              "#7201a8"
             ],
             [
              0.3333333333333333,
              "#9c179e"
             ],
             [
              0.4444444444444444,
              "#bd3786"
             ],
             [
              0.5555555555555556,
              "#d8576b"
             ],
             [
              0.6666666666666666,
              "#ed7953"
             ],
             [
              0.7777777777777778,
              "#fb9f3a"
             ],
             [
              0.8888888888888888,
              "#fdca26"
             ],
             [
              1,
              "#f0f921"
             ]
            ],
            "type": "histogram2d"
           }
          ],
          "histogram2dcontour": [
           {
            "colorbar": {
             "outlinewidth": 0,
             "ticks": ""
            },
            "colorscale": [
             [
              0,
              "#0d0887"
             ],
             [
              0.1111111111111111,
              "#46039f"
             ],
             [
              0.2222222222222222,
              "#7201a8"
             ],
             [
              0.3333333333333333,
              "#9c179e"
             ],
             [
              0.4444444444444444,
              "#bd3786"
             ],
             [
              0.5555555555555556,
              "#d8576b"
             ],
             [
              0.6666666666666666,
              "#ed7953"
             ],
             [
              0.7777777777777778,
              "#fb9f3a"
             ],
             [
              0.8888888888888888,
              "#fdca26"
             ],
             [
              1,
              "#f0f921"
             ]
            ],
            "type": "histogram2dcontour"
           }
          ],
          "mesh3d": [
           {
            "colorbar": {
             "outlinewidth": 0,
             "ticks": ""
            },
            "type": "mesh3d"
           }
          ],
          "parcoords": [
           {
            "line": {
             "colorbar": {
              "outlinewidth": 0,
              "ticks": ""
             }
            },
            "type": "parcoords"
           }
          ],
          "pie": [
           {
            "automargin": true,
            "type": "pie"
           }
          ],
          "scatter": [
           {
            "marker": {
             "colorbar": {
              "outlinewidth": 0,
              "ticks": ""
             }
            },
            "type": "scatter"
           }
          ],
          "scatter3d": [
           {
            "line": {
             "colorbar": {
              "outlinewidth": 0,
              "ticks": ""
             }
            },
            "marker": {
             "colorbar": {
              "outlinewidth": 0,
              "ticks": ""
             }
            },
            "type": "scatter3d"
           }
          ],
          "scattercarpet": [
           {
            "marker": {
             "colorbar": {
              "outlinewidth": 0,
              "ticks": ""
             }
            },
            "type": "scattercarpet"
           }
          ],
          "scattergeo": [
           {
            "marker": {
             "colorbar": {
              "outlinewidth": 0,
              "ticks": ""
             }
            },
            "type": "scattergeo"
           }
          ],
          "scattergl": [
           {
            "marker": {
             "colorbar": {
              "outlinewidth": 0,
              "ticks": ""
             }
            },
            "type": "scattergl"
           }
          ],
          "scattermapbox": [
           {
            "marker": {
             "colorbar": {
              "outlinewidth": 0,
              "ticks": ""
             }
            },
            "type": "scattermapbox"
           }
          ],
          "scatterpolar": [
           {
            "marker": {
             "colorbar": {
              "outlinewidth": 0,
              "ticks": ""
             }
            },
            "type": "scatterpolar"
           }
          ],
          "scatterpolargl": [
           {
            "marker": {
             "colorbar": {
              "outlinewidth": 0,
              "ticks": ""
             }
            },
            "type": "scatterpolargl"
           }
          ],
          "scatterternary": [
           {
            "marker": {
             "colorbar": {
              "outlinewidth": 0,
              "ticks": ""
             }
            },
            "type": "scatterternary"
           }
          ],
          "surface": [
           {
            "colorbar": {
             "outlinewidth": 0,
             "ticks": ""
            },
            "colorscale": [
             [
              0,
              "#0d0887"
             ],
             [
              0.1111111111111111,
              "#46039f"
             ],
             [
              0.2222222222222222,
              "#7201a8"
             ],
             [
              0.3333333333333333,
              "#9c179e"
             ],
             [
              0.4444444444444444,
              "#bd3786"
             ],
             [
              0.5555555555555556,
              "#d8576b"
             ],
             [
              0.6666666666666666,
              "#ed7953"
             ],
             [
              0.7777777777777778,
              "#fb9f3a"
             ],
             [
              0.8888888888888888,
              "#fdca26"
             ],
             [
              1,
              "#f0f921"
             ]
            ],
            "type": "surface"
           }
          ],
          "table": [
           {
            "cells": {
             "fill": {
              "color": "#EBF0F8"
             },
             "line": {
              "color": "white"
             }
            },
            "header": {
             "fill": {
              "color": "#C8D4E3"
             },
             "line": {
              "color": "white"
             }
            },
            "type": "table"
           }
          ]
         },
         "layout": {
          "annotationdefaults": {
           "arrowcolor": "#2a3f5f",
           "arrowhead": 0,
           "arrowwidth": 1
          },
          "coloraxis": {
           "colorbar": {
            "outlinewidth": 0,
            "ticks": ""
           }
          },
          "colorscale": {
           "diverging": [
            [
             0,
             "#8e0152"
            ],
            [
             0.1,
             "#c51b7d"
            ],
            [
             0.2,
             "#de77ae"
            ],
            [
             0.3,
             "#f1b6da"
            ],
            [
             0.4,
             "#fde0ef"
            ],
            [
             0.5,
             "#f7f7f7"
            ],
            [
             0.6,
             "#e6f5d0"
            ],
            [
             0.7,
             "#b8e186"
            ],
            [
             0.8,
             "#7fbc41"
            ],
            [
             0.9,
             "#4d9221"
            ],
            [
             1,
             "#276419"
            ]
           ],
           "sequential": [
            [
             0,
             "#0d0887"
            ],
            [
             0.1111111111111111,
             "#46039f"
            ],
            [
             0.2222222222222222,
             "#7201a8"
            ],
            [
             0.3333333333333333,
             "#9c179e"
            ],
            [
             0.4444444444444444,
             "#bd3786"
            ],
            [
             0.5555555555555556,
             "#d8576b"
            ],
            [
             0.6666666666666666,
             "#ed7953"
            ],
            [
             0.7777777777777778,
             "#fb9f3a"
            ],
            [
             0.8888888888888888,
             "#fdca26"
            ],
            [
             1,
             "#f0f921"
            ]
           ],
           "sequentialminus": [
            [
             0,
             "#0d0887"
            ],
            [
             0.1111111111111111,
             "#46039f"
            ],
            [
             0.2222222222222222,
             "#7201a8"
            ],
            [
             0.3333333333333333,
             "#9c179e"
            ],
            [
             0.4444444444444444,
             "#bd3786"
            ],
            [
             0.5555555555555556,
             "#d8576b"
            ],
            [
             0.6666666666666666,
             "#ed7953"
            ],
            [
             0.7777777777777778,
             "#fb9f3a"
            ],
            [
             0.8888888888888888,
             "#fdca26"
            ],
            [
             1,
             "#f0f921"
            ]
           ]
          },
          "colorway": [
           "#636efa",
           "#EF553B",
           "#00cc96",
           "#ab63fa",
           "#FFA15A",
           "#19d3f3",
           "#FF6692",
           "#B6E880",
           "#FF97FF",
           "#FECB52"
          ],
          "font": {
           "color": "#2a3f5f"
          },
          "geo": {
           "bgcolor": "white",
           "lakecolor": "white",
           "landcolor": "#E5ECF6",
           "showlakes": true,
           "showland": true,
           "subunitcolor": "white"
          },
          "hoverlabel": {
           "align": "left"
          },
          "hovermode": "closest",
          "mapbox": {
           "style": "light"
          },
          "paper_bgcolor": "white",
          "plot_bgcolor": "#E5ECF6",
          "polar": {
           "angularaxis": {
            "gridcolor": "white",
            "linecolor": "white",
            "ticks": ""
           },
           "bgcolor": "#E5ECF6",
           "radialaxis": {
            "gridcolor": "white",
            "linecolor": "white",
            "ticks": ""
           }
          },
          "scene": {
           "xaxis": {
            "backgroundcolor": "#E5ECF6",
            "gridcolor": "white",
            "gridwidth": 2,
            "linecolor": "white",
            "showbackground": true,
            "ticks": "",
            "zerolinecolor": "white"
           },
           "yaxis": {
            "backgroundcolor": "#E5ECF6",
            "gridcolor": "white",
            "gridwidth": 2,
            "linecolor": "white",
            "showbackground": true,
            "ticks": "",
            "zerolinecolor": "white"
           },
           "zaxis": {
            "backgroundcolor": "#E5ECF6",
            "gridcolor": "white",
            "gridwidth": 2,
            "linecolor": "white",
            "showbackground": true,
            "ticks": "",
            "zerolinecolor": "white"
           }
          },
          "shapedefaults": {
           "line": {
            "color": "#2a3f5f"
           }
          },
          "ternary": {
           "aaxis": {
            "gridcolor": "white",
            "linecolor": "white",
            "ticks": ""
           },
           "baxis": {
            "gridcolor": "white",
            "linecolor": "white",
            "ticks": ""
           },
           "bgcolor": "#E5ECF6",
           "caxis": {
            "gridcolor": "white",
            "linecolor": "white",
            "ticks": ""
           }
          },
          "title": {
           "x": 0.05
          },
          "xaxis": {
           "automargin": true,
           "gridcolor": "white",
           "linecolor": "white",
           "ticks": "",
           "title": {
            "standoff": 15
           },
           "zerolinecolor": "white",
           "zerolinewidth": 2
          },
          "yaxis": {
           "automargin": true,
           "gridcolor": "white",
           "linecolor": "white",
           "ticks": "",
           "title": {
            "standoff": 15
           },
           "zerolinecolor": "white",
           "zerolinewidth": 2
          }
         }
        },
        "title": {
         "text": "Distribution in the size of luggage boot"
        },
        "xaxis": {
         "gridcolor": "rgb(255, 255, 255)",
         "gridwidth": 2,
         "ticklen": 5,
         "title": {
          "text": "lug_boot"
         },
         "zerolinewidth": 1
        },
        "yaxis": {
         "gridcolor": "rgb(255, 255, 255)",
         "gridwidth": 2,
         "ticklen": 5,
         "title": {
          "text": "count"
         },
         "zerolinewidth": 1
        }
       }
      },
      "text/html": [
       "<div>\n",
       "        \n",
       "        \n",
       "            <div id=\"302d4590-065e-4459-916f-1e4692323da8\" class=\"plotly-graph-div\" style=\"height:525px; width:100%;\"></div>\n",
       "            <script type=\"text/javascript\">\n",
       "                require([\"plotly\"], function(Plotly) {\n",
       "                    window.PLOTLYENV=window.PLOTLYENV || {};\n",
       "                    \n",
       "                if (document.getElementById(\"302d4590-065e-4459-916f-1e4692323da8\")) {\n",
       "                    Plotly.newPlot(\n",
       "                        '302d4590-065e-4459-916f-1e4692323da8',\n",
       "                        [{\"marker\": {\"line\": {\"color\": \"black\", \"width\": 0.5}}, \"name\": \"car_class >= acc\", \"opacity\": 0.9, \"type\": \"bar\", \"x\": [\"big\", \"med\", \"small\"], \"y\": [208, 184, 126]}, {\"marker\": {\"line\": {\"color\": \"black\", \"width\": 0.5}}, \"name\": \"car_class == unacc\", \"opacity\": 0.9, \"type\": \"bar\", \"x\": [\"small\", \"med\", \"big\"], \"y\": [450, 392, 368]}],\n",
       "                        {\"paper_bgcolor\": \"rgb(243,243,243)\", \"plot_bgcolor\": \"rgb(243,243,243)\", \"template\": {\"data\": {\"bar\": [{\"error_x\": {\"color\": \"#2a3f5f\"}, \"error_y\": {\"color\": \"#2a3f5f\"}, \"marker\": {\"line\": {\"color\": \"#E5ECF6\", \"width\": 0.5}}, \"type\": \"bar\"}], \"barpolar\": [{\"marker\": {\"line\": {\"color\": \"#E5ECF6\", \"width\": 0.5}}, \"type\": \"barpolar\"}], \"carpet\": [{\"aaxis\": {\"endlinecolor\": \"#2a3f5f\", \"gridcolor\": \"white\", \"linecolor\": \"white\", \"minorgridcolor\": \"white\", \"startlinecolor\": \"#2a3f5f\"}, \"baxis\": {\"endlinecolor\": \"#2a3f5f\", \"gridcolor\": \"white\", \"linecolor\": \"white\", \"minorgridcolor\": \"white\", \"startlinecolor\": \"#2a3f5f\"}, \"type\": \"carpet\"}], \"choropleth\": [{\"colorbar\": {\"outlinewidth\": 0, \"ticks\": \"\"}, \"type\": \"choropleth\"}], \"contour\": [{\"colorbar\": {\"outlinewidth\": 0, \"ticks\": \"\"}, \"colorscale\": [[0.0, \"#0d0887\"], [0.1111111111111111, \"#46039f\"], [0.2222222222222222, \"#7201a8\"], [0.3333333333333333, \"#9c179e\"], [0.4444444444444444, \"#bd3786\"], [0.5555555555555556, \"#d8576b\"], [0.6666666666666666, \"#ed7953\"], [0.7777777777777778, \"#fb9f3a\"], [0.8888888888888888, \"#fdca26\"], [1.0, \"#f0f921\"]], \"type\": \"contour\"}], \"contourcarpet\": [{\"colorbar\": {\"outlinewidth\": 0, \"ticks\": \"\"}, \"type\": \"contourcarpet\"}], \"heatmap\": [{\"colorbar\": {\"outlinewidth\": 0, \"ticks\": \"\"}, \"colorscale\": [[0.0, \"#0d0887\"], [0.1111111111111111, \"#46039f\"], [0.2222222222222222, \"#7201a8\"], [0.3333333333333333, \"#9c179e\"], [0.4444444444444444, \"#bd3786\"], [0.5555555555555556, \"#d8576b\"], [0.6666666666666666, \"#ed7953\"], [0.7777777777777778, \"#fb9f3a\"], [0.8888888888888888, \"#fdca26\"], [1.0, \"#f0f921\"]], \"type\": \"heatmap\"}], \"heatmapgl\": [{\"colorbar\": {\"outlinewidth\": 0, \"ticks\": \"\"}, \"colorscale\": [[0.0, \"#0d0887\"], [0.1111111111111111, \"#46039f\"], [0.2222222222222222, \"#7201a8\"], [0.3333333333333333, \"#9c179e\"], [0.4444444444444444, \"#bd3786\"], [0.5555555555555556, \"#d8576b\"], [0.6666666666666666, \"#ed7953\"], [0.7777777777777778, \"#fb9f3a\"], [0.8888888888888888, \"#fdca26\"], [1.0, \"#f0f921\"]], \"type\": \"heatmapgl\"}], \"histogram\": [{\"marker\": {\"colorbar\": {\"outlinewidth\": 0, \"ticks\": \"\"}}, \"type\": \"histogram\"}], \"histogram2d\": [{\"colorbar\": {\"outlinewidth\": 0, \"ticks\": \"\"}, \"colorscale\": [[0.0, \"#0d0887\"], [0.1111111111111111, \"#46039f\"], [0.2222222222222222, \"#7201a8\"], [0.3333333333333333, \"#9c179e\"], [0.4444444444444444, \"#bd3786\"], [0.5555555555555556, \"#d8576b\"], [0.6666666666666666, \"#ed7953\"], [0.7777777777777778, \"#fb9f3a\"], [0.8888888888888888, \"#fdca26\"], [1.0, \"#f0f921\"]], \"type\": \"histogram2d\"}], \"histogram2dcontour\": [{\"colorbar\": {\"outlinewidth\": 0, \"ticks\": \"\"}, \"colorscale\": [[0.0, \"#0d0887\"], [0.1111111111111111, \"#46039f\"], [0.2222222222222222, \"#7201a8\"], [0.3333333333333333, \"#9c179e\"], [0.4444444444444444, \"#bd3786\"], [0.5555555555555556, \"#d8576b\"], [0.6666666666666666, \"#ed7953\"], [0.7777777777777778, \"#fb9f3a\"], [0.8888888888888888, \"#fdca26\"], [1.0, \"#f0f921\"]], \"type\": \"histogram2dcontour\"}], \"mesh3d\": [{\"colorbar\": {\"outlinewidth\": 0, \"ticks\": \"\"}, \"type\": \"mesh3d\"}], \"parcoords\": [{\"line\": {\"colorbar\": {\"outlinewidth\": 0, \"ticks\": \"\"}}, \"type\": \"parcoords\"}], \"pie\": [{\"automargin\": true, \"type\": \"pie\"}], \"scatter\": [{\"marker\": {\"colorbar\": {\"outlinewidth\": 0, \"ticks\": \"\"}}, \"type\": \"scatter\"}], \"scatter3d\": [{\"line\": {\"colorbar\": {\"outlinewidth\": 0, \"ticks\": \"\"}}, \"marker\": {\"colorbar\": {\"outlinewidth\": 0, \"ticks\": \"\"}}, \"type\": \"scatter3d\"}], \"scattercarpet\": [{\"marker\": {\"colorbar\": {\"outlinewidth\": 0, \"ticks\": \"\"}}, \"type\": \"scattercarpet\"}], \"scattergeo\": [{\"marker\": {\"colorbar\": {\"outlinewidth\": 0, \"ticks\": \"\"}}, \"type\": \"scattergeo\"}], \"scattergl\": [{\"marker\": {\"colorbar\": {\"outlinewidth\": 0, \"ticks\": \"\"}}, \"type\": \"scattergl\"}], \"scattermapbox\": [{\"marker\": {\"colorbar\": {\"outlinewidth\": 0, \"ticks\": \"\"}}, \"type\": \"scattermapbox\"}], \"scatterpolar\": [{\"marker\": {\"colorbar\": {\"outlinewidth\": 0, \"ticks\": \"\"}}, \"type\": \"scatterpolar\"}], \"scatterpolargl\": [{\"marker\": {\"colorbar\": {\"outlinewidth\": 0, \"ticks\": \"\"}}, \"type\": \"scatterpolargl\"}], \"scatterternary\": [{\"marker\": {\"colorbar\": {\"outlinewidth\": 0, \"ticks\": \"\"}}, \"type\": \"scatterternary\"}], \"surface\": [{\"colorbar\": {\"outlinewidth\": 0, \"ticks\": \"\"}, \"colorscale\": [[0.0, \"#0d0887\"], [0.1111111111111111, \"#46039f\"], [0.2222222222222222, \"#7201a8\"], [0.3333333333333333, \"#9c179e\"], [0.4444444444444444, \"#bd3786\"], [0.5555555555555556, \"#d8576b\"], [0.6666666666666666, \"#ed7953\"], [0.7777777777777778, \"#fb9f3a\"], [0.8888888888888888, \"#fdca26\"], [1.0, \"#f0f921\"]], \"type\": \"surface\"}], \"table\": [{\"cells\": {\"fill\": {\"color\": \"#EBF0F8\"}, \"line\": {\"color\": \"white\"}}, \"header\": {\"fill\": {\"color\": \"#C8D4E3\"}, \"line\": {\"color\": \"white\"}}, \"type\": \"table\"}]}, \"layout\": {\"annotationdefaults\": {\"arrowcolor\": \"#2a3f5f\", \"arrowhead\": 0, \"arrowwidth\": 1}, \"coloraxis\": {\"colorbar\": {\"outlinewidth\": 0, \"ticks\": \"\"}}, \"colorscale\": {\"diverging\": [[0, \"#8e0152\"], [0.1, \"#c51b7d\"], [0.2, \"#de77ae\"], [0.3, \"#f1b6da\"], [0.4, \"#fde0ef\"], [0.5, \"#f7f7f7\"], [0.6, \"#e6f5d0\"], [0.7, \"#b8e186\"], [0.8, \"#7fbc41\"], [0.9, \"#4d9221\"], [1, \"#276419\"]], \"sequential\": [[0.0, \"#0d0887\"], [0.1111111111111111, \"#46039f\"], [0.2222222222222222, \"#7201a8\"], [0.3333333333333333, \"#9c179e\"], [0.4444444444444444, \"#bd3786\"], [0.5555555555555556, \"#d8576b\"], [0.6666666666666666, \"#ed7953\"], [0.7777777777777778, \"#fb9f3a\"], [0.8888888888888888, \"#fdca26\"], [1.0, \"#f0f921\"]], \"sequentialminus\": [[0.0, \"#0d0887\"], [0.1111111111111111, \"#46039f\"], [0.2222222222222222, \"#7201a8\"], [0.3333333333333333, \"#9c179e\"], [0.4444444444444444, \"#bd3786\"], [0.5555555555555556, \"#d8576b\"], [0.6666666666666666, \"#ed7953\"], [0.7777777777777778, \"#fb9f3a\"], [0.8888888888888888, \"#fdca26\"], [1.0, \"#f0f921\"]]}, \"colorway\": [\"#636efa\", \"#EF553B\", \"#00cc96\", \"#ab63fa\", \"#FFA15A\", \"#19d3f3\", \"#FF6692\", \"#B6E880\", \"#FF97FF\", \"#FECB52\"], \"font\": {\"color\": \"#2a3f5f\"}, \"geo\": {\"bgcolor\": \"white\", \"lakecolor\": \"white\", \"landcolor\": \"#E5ECF6\", \"showlakes\": true, \"showland\": true, \"subunitcolor\": \"white\"}, \"hoverlabel\": {\"align\": \"left\"}, \"hovermode\": \"closest\", \"mapbox\": {\"style\": \"light\"}, \"paper_bgcolor\": \"white\", \"plot_bgcolor\": \"#E5ECF6\", \"polar\": {\"angularaxis\": {\"gridcolor\": \"white\", \"linecolor\": \"white\", \"ticks\": \"\"}, \"bgcolor\": \"#E5ECF6\", \"radialaxis\": {\"gridcolor\": \"white\", \"linecolor\": \"white\", \"ticks\": \"\"}}, \"scene\": {\"xaxis\": {\"backgroundcolor\": \"#E5ECF6\", \"gridcolor\": \"white\", \"gridwidth\": 2, \"linecolor\": \"white\", \"showbackground\": true, \"ticks\": \"\", \"zerolinecolor\": \"white\"}, \"yaxis\": {\"backgroundcolor\": \"#E5ECF6\", \"gridcolor\": \"white\", \"gridwidth\": 2, \"linecolor\": \"white\", \"showbackground\": true, \"ticks\": \"\", \"zerolinecolor\": \"white\"}, \"zaxis\": {\"backgroundcolor\": \"#E5ECF6\", \"gridcolor\": \"white\", \"gridwidth\": 2, \"linecolor\": \"white\", \"showbackground\": true, \"ticks\": \"\", \"zerolinecolor\": \"white\"}}, \"shapedefaults\": {\"line\": {\"color\": \"#2a3f5f\"}}, \"ternary\": {\"aaxis\": {\"gridcolor\": \"white\", \"linecolor\": \"white\", \"ticks\": \"\"}, \"baxis\": {\"gridcolor\": \"white\", \"linecolor\": \"white\", \"ticks\": \"\"}, \"bgcolor\": \"#E5ECF6\", \"caxis\": {\"gridcolor\": \"white\", \"linecolor\": \"white\", \"ticks\": \"\"}}, \"title\": {\"x\": 0.05}, \"xaxis\": {\"automargin\": true, \"gridcolor\": \"white\", \"linecolor\": \"white\", \"ticks\": \"\", \"title\": {\"standoff\": 15}, \"zerolinecolor\": \"white\", \"zerolinewidth\": 2}, \"yaxis\": {\"automargin\": true, \"gridcolor\": \"white\", \"linecolor\": \"white\", \"ticks\": \"\", \"title\": {\"standoff\": 15}, \"zerolinecolor\": \"white\", \"zerolinewidth\": 2}}}, \"title\": {\"text\": \"Distribution in the size of luggage boot\"}, \"xaxis\": {\"gridcolor\": \"rgb(255, 255, 255)\", \"gridwidth\": 2, \"ticklen\": 5, \"title\": {\"text\": \"lug_boot\"}, \"zerolinewidth\": 1}, \"yaxis\": {\"gridcolor\": \"rgb(255, 255, 255)\", \"gridwidth\": 2, \"ticklen\": 5, \"title\": {\"text\": \"count\"}, \"zerolinewidth\": 1}},\n",
       "                        {\"responsive\": true}\n",
       "                    ).then(function(){\n",
       "                            \n",
       "var gd = document.getElementById('302d4590-065e-4459-916f-1e4692323da8');\n",
       "var x = new MutationObserver(function (mutations, observer) {{\n",
       "        var display = window.getComputedStyle(gd).display;\n",
       "        if (!display || display === 'none') {{\n",
       "            console.log([gd, 'removed!']);\n",
       "            Plotly.purge(gd);\n",
       "            observer.disconnect();\n",
       "        }}\n",
       "}});\n",
       "\n",
       "// Listen for the removal of the full notebook cells\n",
       "var notebookContainer = gd.closest('#notebook-container');\n",
       "if (notebookContainer) {{\n",
       "    x.observe(notebookContainer, {childList: true});\n",
       "}}\n",
       "\n",
       "// Listen for the clearing of the current output cell\n",
       "var outputEl = gd.closest('.output');\n",
       "if (outputEl) {{\n",
       "    x.observe(outputEl, {childList: true});\n",
       "}}\n",
       "\n",
       "                        })\n",
       "                };\n",
       "                });\n",
       "            </script>\n",
       "        </div>"
      ]
     },
     "metadata": {},
     "output_type": "display_data"
    },
    {
     "data": {
      "application/vnd.plotly.v1+json": {
       "config": {
        "linkText": "Export to plot.ly",
        "plotlyServerURL": "https://plot.ly",
        "showLink": false
       },
       "data": [
        {
         "marker": {
          "line": {
           "color": "black",
           "width": 0.5
          }
         },
         "name": "car_class >= acc",
         "opacity": 0.9,
         "type": "bar",
         "x": [
          "high",
          "med"
         ],
         "y": [
          299,
          219
         ]
        },
        {
         "marker": {
          "line": {
           "color": "black",
           "width": 0.5
          }
         },
         "name": "car_class == unacc",
         "opacity": 0.9,
         "type": "bar",
         "x": [
          "low",
          "med",
          "high"
         ],
         "y": [
          576,
          357,
          277
         ]
        }
       ],
       "layout": {
        "paper_bgcolor": "rgb(243,243,243)",
        "plot_bgcolor": "rgb(243,243,243)",
        "template": {
         "data": {
          "bar": [
           {
            "error_x": {
             "color": "#2a3f5f"
            },
            "error_y": {
             "color": "#2a3f5f"
            },
            "marker": {
             "line": {
              "color": "#E5ECF6",
              "width": 0.5
             }
            },
            "type": "bar"
           }
          ],
          "barpolar": [
           {
            "marker": {
             "line": {
              "color": "#E5ECF6",
              "width": 0.5
             }
            },
            "type": "barpolar"
           }
          ],
          "carpet": [
           {
            "aaxis": {
             "endlinecolor": "#2a3f5f",
             "gridcolor": "white",
             "linecolor": "white",
             "minorgridcolor": "white",
             "startlinecolor": "#2a3f5f"
            },
            "baxis": {
             "endlinecolor": "#2a3f5f",
             "gridcolor": "white",
             "linecolor": "white",
             "minorgridcolor": "white",
             "startlinecolor": "#2a3f5f"
            },
            "type": "carpet"
           }
          ],
          "choropleth": [
           {
            "colorbar": {
             "outlinewidth": 0,
             "ticks": ""
            },
            "type": "choropleth"
           }
          ],
          "contour": [
           {
            "colorbar": {
             "outlinewidth": 0,
             "ticks": ""
            },
            "colorscale": [
             [
              0,
              "#0d0887"
             ],
             [
              0.1111111111111111,
              "#46039f"
             ],
             [
              0.2222222222222222,
              "#7201a8"
             ],
             [
              0.3333333333333333,
              "#9c179e"
             ],
             [
              0.4444444444444444,
              "#bd3786"
             ],
             [
              0.5555555555555556,
              "#d8576b"
             ],
             [
              0.6666666666666666,
              "#ed7953"
             ],
             [
              0.7777777777777778,
              "#fb9f3a"
             ],
             [
              0.8888888888888888,
              "#fdca26"
             ],
             [
              1,
              "#f0f921"
             ]
            ],
            "type": "contour"
           }
          ],
          "contourcarpet": [
           {
            "colorbar": {
             "outlinewidth": 0,
             "ticks": ""
            },
            "type": "contourcarpet"
           }
          ],
          "heatmap": [
           {
            "colorbar": {
             "outlinewidth": 0,
             "ticks": ""
            },
            "colorscale": [
             [
              0,
              "#0d0887"
             ],
             [
              0.1111111111111111,
              "#46039f"
             ],
             [
              0.2222222222222222,
              "#7201a8"
             ],
             [
              0.3333333333333333,
              "#9c179e"
             ],
             [
              0.4444444444444444,
              "#bd3786"
             ],
             [
              0.5555555555555556,
              "#d8576b"
             ],
             [
              0.6666666666666666,
              "#ed7953"
             ],
             [
              0.7777777777777778,
              "#fb9f3a"
             ],
             [
              0.8888888888888888,
              "#fdca26"
             ],
             [
              1,
              "#f0f921"
             ]
            ],
            "type": "heatmap"
           }
          ],
          "heatmapgl": [
           {
            "colorbar": {
             "outlinewidth": 0,
             "ticks": ""
            },
            "colorscale": [
             [
              0,
              "#0d0887"
             ],
             [
              0.1111111111111111,
              "#46039f"
             ],
             [
              0.2222222222222222,
              "#7201a8"
             ],
             [
              0.3333333333333333,
              "#9c179e"
             ],
             [
              0.4444444444444444,
              "#bd3786"
             ],
             [
              0.5555555555555556,
              "#d8576b"
             ],
             [
              0.6666666666666666,
              "#ed7953"
             ],
             [
              0.7777777777777778,
              "#fb9f3a"
             ],
             [
              0.8888888888888888,
              "#fdca26"
             ],
             [
              1,
              "#f0f921"
             ]
            ],
            "type": "heatmapgl"
           }
          ],
          "histogram": [
           {
            "marker": {
             "colorbar": {
              "outlinewidth": 0,
              "ticks": ""
             }
            },
            "type": "histogram"
           }
          ],
          "histogram2d": [
           {
            "colorbar": {
             "outlinewidth": 0,
             "ticks": ""
            },
            "colorscale": [
             [
              0,
              "#0d0887"
             ],
             [
              0.1111111111111111,
              "#46039f"
             ],
             [
              0.2222222222222222,
              "#7201a8"
             ],
             [
              0.3333333333333333,
              "#9c179e"
             ],
             [
              0.4444444444444444,
              "#bd3786"
             ],
             [
              0.5555555555555556,
              "#d8576b"
             ],
             [
              0.6666666666666666,
              "#ed7953"
             ],
             [
              0.7777777777777778,
              "#fb9f3a"
             ],
             [
              0.8888888888888888,
              "#fdca26"
             ],
             [
              1,
              "#f0f921"
             ]
            ],
            "type": "histogram2d"
           }
          ],
          "histogram2dcontour": [
           {
            "colorbar": {
             "outlinewidth": 0,
             "ticks": ""
            },
            "colorscale": [
             [
              0,
              "#0d0887"
             ],
             [
              0.1111111111111111,
              "#46039f"
             ],
             [
              0.2222222222222222,
              "#7201a8"
             ],
             [
              0.3333333333333333,
              "#9c179e"
             ],
             [
              0.4444444444444444,
              "#bd3786"
             ],
             [
              0.5555555555555556,
              "#d8576b"
             ],
             [
              0.6666666666666666,
              "#ed7953"
             ],
             [
              0.7777777777777778,
              "#fb9f3a"
             ],
             [
              0.8888888888888888,
              "#fdca26"
             ],
             [
              1,
              "#f0f921"
             ]
            ],
            "type": "histogram2dcontour"
           }
          ],
          "mesh3d": [
           {
            "colorbar": {
             "outlinewidth": 0,
             "ticks": ""
            },
            "type": "mesh3d"
           }
          ],
          "parcoords": [
           {
            "line": {
             "colorbar": {
              "outlinewidth": 0,
              "ticks": ""
             }
            },
            "type": "parcoords"
           }
          ],
          "pie": [
           {
            "automargin": true,
            "type": "pie"
           }
          ],
          "scatter": [
           {
            "marker": {
             "colorbar": {
              "outlinewidth": 0,
              "ticks": ""
             }
            },
            "type": "scatter"
           }
          ],
          "scatter3d": [
           {
            "line": {
             "colorbar": {
              "outlinewidth": 0,
              "ticks": ""
             }
            },
            "marker": {
             "colorbar": {
              "outlinewidth": 0,
              "ticks": ""
             }
            },
            "type": "scatter3d"
           }
          ],
          "scattercarpet": [
           {
            "marker": {
             "colorbar": {
              "outlinewidth": 0,
              "ticks": ""
             }
            },
            "type": "scattercarpet"
           }
          ],
          "scattergeo": [
           {
            "marker": {
             "colorbar": {
              "outlinewidth": 0,
              "ticks": ""
             }
            },
            "type": "scattergeo"
           }
          ],
          "scattergl": [
           {
            "marker": {
             "colorbar": {
              "outlinewidth": 0,
              "ticks": ""
             }
            },
            "type": "scattergl"
           }
          ],
          "scattermapbox": [
           {
            "marker": {
             "colorbar": {
              "outlinewidth": 0,
              "ticks": ""
             }
            },
            "type": "scattermapbox"
           }
          ],
          "scatterpolar": [
           {
            "marker": {
             "colorbar": {
              "outlinewidth": 0,
              "ticks": ""
             }
            },
            "type": "scatterpolar"
           }
          ],
          "scatterpolargl": [
           {
            "marker": {
             "colorbar": {
              "outlinewidth": 0,
              "ticks": ""
             }
            },
            "type": "scatterpolargl"
           }
          ],
          "scatterternary": [
           {
            "marker": {
             "colorbar": {
              "outlinewidth": 0,
              "ticks": ""
             }
            },
            "type": "scatterternary"
           }
          ],
          "surface": [
           {
            "colorbar": {
             "outlinewidth": 0,
             "ticks": ""
            },
            "colorscale": [
             [
              0,
              "#0d0887"
             ],
             [
              0.1111111111111111,
              "#46039f"
             ],
             [
              0.2222222222222222,
              "#7201a8"
             ],
             [
              0.3333333333333333,
              "#9c179e"
             ],
             [
              0.4444444444444444,
              "#bd3786"
             ],
             [
              0.5555555555555556,
              "#d8576b"
             ],
             [
              0.6666666666666666,
              "#ed7953"
             ],
             [
              0.7777777777777778,
              "#fb9f3a"
             ],
             [
              0.8888888888888888,
              "#fdca26"
             ],
             [
              1,
              "#f0f921"
             ]
            ],
            "type": "surface"
           }
          ],
          "table": [
           {
            "cells": {
             "fill": {
              "color": "#EBF0F8"
             },
             "line": {
              "color": "white"
             }
            },
            "header": {
             "fill": {
              "color": "#C8D4E3"
             },
             "line": {
              "color": "white"
             }
            },
            "type": "table"
           }
          ]
         },
         "layout": {
          "annotationdefaults": {
           "arrowcolor": "#2a3f5f",
           "arrowhead": 0,
           "arrowwidth": 1
          },
          "coloraxis": {
           "colorbar": {
            "outlinewidth": 0,
            "ticks": ""
           }
          },
          "colorscale": {
           "diverging": [
            [
             0,
             "#8e0152"
            ],
            [
             0.1,
             "#c51b7d"
            ],
            [
             0.2,
             "#de77ae"
            ],
            [
             0.3,
             "#f1b6da"
            ],
            [
             0.4,
             "#fde0ef"
            ],
            [
             0.5,
             "#f7f7f7"
            ],
            [
             0.6,
             "#e6f5d0"
            ],
            [
             0.7,
             "#b8e186"
            ],
            [
             0.8,
             "#7fbc41"
            ],
            [
             0.9,
             "#4d9221"
            ],
            [
             1,
             "#276419"
            ]
           ],
           "sequential": [
            [
             0,
             "#0d0887"
            ],
            [
             0.1111111111111111,
             "#46039f"
            ],
            [
             0.2222222222222222,
             "#7201a8"
            ],
            [
             0.3333333333333333,
             "#9c179e"
            ],
            [
             0.4444444444444444,
             "#bd3786"
            ],
            [
             0.5555555555555556,
             "#d8576b"
            ],
            [
             0.6666666666666666,
             "#ed7953"
            ],
            [
             0.7777777777777778,
             "#fb9f3a"
            ],
            [
             0.8888888888888888,
             "#fdca26"
            ],
            [
             1,
             "#f0f921"
            ]
           ],
           "sequentialminus": [
            [
             0,
             "#0d0887"
            ],
            [
             0.1111111111111111,
             "#46039f"
            ],
            [
             0.2222222222222222,
             "#7201a8"
            ],
            [
             0.3333333333333333,
             "#9c179e"
            ],
            [
             0.4444444444444444,
             "#bd3786"
            ],
            [
             0.5555555555555556,
             "#d8576b"
            ],
            [
             0.6666666666666666,
             "#ed7953"
            ],
            [
             0.7777777777777778,
             "#fb9f3a"
            ],
            [
             0.8888888888888888,
             "#fdca26"
            ],
            [
             1,
             "#f0f921"
            ]
           ]
          },
          "colorway": [
           "#636efa",
           "#EF553B",
           "#00cc96",
           "#ab63fa",
           "#FFA15A",
           "#19d3f3",
           "#FF6692",
           "#B6E880",
           "#FF97FF",
           "#FECB52"
          ],
          "font": {
           "color": "#2a3f5f"
          },
          "geo": {
           "bgcolor": "white",
           "lakecolor": "white",
           "landcolor": "#E5ECF6",
           "showlakes": true,
           "showland": true,
           "subunitcolor": "white"
          },
          "hoverlabel": {
           "align": "left"
          },
          "hovermode": "closest",
          "mapbox": {
           "style": "light"
          },
          "paper_bgcolor": "white",
          "plot_bgcolor": "#E5ECF6",
          "polar": {
           "angularaxis": {
            "gridcolor": "white",
            "linecolor": "white",
            "ticks": ""
           },
           "bgcolor": "#E5ECF6",
           "radialaxis": {
            "gridcolor": "white",
            "linecolor": "white",
            "ticks": ""
           }
          },
          "scene": {
           "xaxis": {
            "backgroundcolor": "#E5ECF6",
            "gridcolor": "white",
            "gridwidth": 2,
            "linecolor": "white",
            "showbackground": true,
            "ticks": "",
            "zerolinecolor": "white"
           },
           "yaxis": {
            "backgroundcolor": "#E5ECF6",
            "gridcolor": "white",
            "gridwidth": 2,
            "linecolor": "white",
            "showbackground": true,
            "ticks": "",
            "zerolinecolor": "white"
           },
           "zaxis": {
            "backgroundcolor": "#E5ECF6",
            "gridcolor": "white",
            "gridwidth": 2,
            "linecolor": "white",
            "showbackground": true,
            "ticks": "",
            "zerolinecolor": "white"
           }
          },
          "shapedefaults": {
           "line": {
            "color": "#2a3f5f"
           }
          },
          "ternary": {
           "aaxis": {
            "gridcolor": "white",
            "linecolor": "white",
            "ticks": ""
           },
           "baxis": {
            "gridcolor": "white",
            "linecolor": "white",
            "ticks": ""
           },
           "bgcolor": "#E5ECF6",
           "caxis": {
            "gridcolor": "white",
            "linecolor": "white",
            "ticks": ""
           }
          },
          "title": {
           "x": 0.05
          },
          "xaxis": {
           "automargin": true,
           "gridcolor": "white",
           "linecolor": "white",
           "ticks": "",
           "title": {
            "standoff": 15
           },
           "zerolinecolor": "white",
           "zerolinewidth": 2
          },
          "yaxis": {
           "automargin": true,
           "gridcolor": "white",
           "linecolor": "white",
           "ticks": "",
           "title": {
            "standoff": 15
           },
           "zerolinecolor": "white",
           "zerolinewidth": 2
          }
         }
        },
        "title": {
         "text": "Distribution in estimated safety of the car"
        },
        "xaxis": {
         "gridcolor": "rgb(255, 255, 255)",
         "gridwidth": 2,
         "ticklen": 5,
         "title": {
          "text": "safety"
         },
         "zerolinewidth": 1
        },
        "yaxis": {
         "gridcolor": "rgb(255, 255, 255)",
         "gridwidth": 2,
         "ticklen": 5,
         "title": {
          "text": "count"
         },
         "zerolinewidth": 1
        }
       }
      },
      "text/html": [
       "<div>\n",
       "        \n",
       "        \n",
       "            <div id=\"3c31a08a-60cf-4f5d-ba11-4a883d4d180a\" class=\"plotly-graph-div\" style=\"height:525px; width:100%;\"></div>\n",
       "            <script type=\"text/javascript\">\n",
       "                require([\"plotly\"], function(Plotly) {\n",
       "                    window.PLOTLYENV=window.PLOTLYENV || {};\n",
       "                    \n",
       "                if (document.getElementById(\"3c31a08a-60cf-4f5d-ba11-4a883d4d180a\")) {\n",
       "                    Plotly.newPlot(\n",
       "                        '3c31a08a-60cf-4f5d-ba11-4a883d4d180a',\n",
       "                        [{\"marker\": {\"line\": {\"color\": \"black\", \"width\": 0.5}}, \"name\": \"car_class >= acc\", \"opacity\": 0.9, \"type\": \"bar\", \"x\": [\"high\", \"med\"], \"y\": [299, 219]}, {\"marker\": {\"line\": {\"color\": \"black\", \"width\": 0.5}}, \"name\": \"car_class == unacc\", \"opacity\": 0.9, \"type\": \"bar\", \"x\": [\"low\", \"med\", \"high\"], \"y\": [576, 357, 277]}],\n",
       "                        {\"paper_bgcolor\": \"rgb(243,243,243)\", \"plot_bgcolor\": \"rgb(243,243,243)\", \"template\": {\"data\": {\"bar\": [{\"error_x\": {\"color\": \"#2a3f5f\"}, \"error_y\": {\"color\": \"#2a3f5f\"}, \"marker\": {\"line\": {\"color\": \"#E5ECF6\", \"width\": 0.5}}, \"type\": \"bar\"}], \"barpolar\": [{\"marker\": {\"line\": {\"color\": \"#E5ECF6\", \"width\": 0.5}}, \"type\": \"barpolar\"}], \"carpet\": [{\"aaxis\": {\"endlinecolor\": \"#2a3f5f\", \"gridcolor\": \"white\", \"linecolor\": \"white\", \"minorgridcolor\": \"white\", \"startlinecolor\": \"#2a3f5f\"}, \"baxis\": {\"endlinecolor\": \"#2a3f5f\", \"gridcolor\": \"white\", \"linecolor\": \"white\", \"minorgridcolor\": \"white\", \"startlinecolor\": \"#2a3f5f\"}, \"type\": \"carpet\"}], \"choropleth\": [{\"colorbar\": {\"outlinewidth\": 0, \"ticks\": \"\"}, \"type\": \"choropleth\"}], \"contour\": [{\"colorbar\": {\"outlinewidth\": 0, \"ticks\": \"\"}, \"colorscale\": [[0.0, \"#0d0887\"], [0.1111111111111111, \"#46039f\"], [0.2222222222222222, \"#7201a8\"], [0.3333333333333333, \"#9c179e\"], [0.4444444444444444, \"#bd3786\"], [0.5555555555555556, \"#d8576b\"], [0.6666666666666666, \"#ed7953\"], [0.7777777777777778, \"#fb9f3a\"], [0.8888888888888888, \"#fdca26\"], [1.0, \"#f0f921\"]], \"type\": \"contour\"}], \"contourcarpet\": [{\"colorbar\": {\"outlinewidth\": 0, \"ticks\": \"\"}, \"type\": \"contourcarpet\"}], \"heatmap\": [{\"colorbar\": {\"outlinewidth\": 0, \"ticks\": \"\"}, \"colorscale\": [[0.0, \"#0d0887\"], [0.1111111111111111, \"#46039f\"], [0.2222222222222222, \"#7201a8\"], [0.3333333333333333, \"#9c179e\"], [0.4444444444444444, \"#bd3786\"], [0.5555555555555556, \"#d8576b\"], [0.6666666666666666, \"#ed7953\"], [0.7777777777777778, \"#fb9f3a\"], [0.8888888888888888, \"#fdca26\"], [1.0, \"#f0f921\"]], \"type\": \"heatmap\"}], \"heatmapgl\": [{\"colorbar\": {\"outlinewidth\": 0, \"ticks\": \"\"}, \"colorscale\": [[0.0, \"#0d0887\"], [0.1111111111111111, \"#46039f\"], [0.2222222222222222, \"#7201a8\"], [0.3333333333333333, \"#9c179e\"], [0.4444444444444444, \"#bd3786\"], [0.5555555555555556, \"#d8576b\"], [0.6666666666666666, \"#ed7953\"], [0.7777777777777778, \"#fb9f3a\"], [0.8888888888888888, \"#fdca26\"], [1.0, \"#f0f921\"]], \"type\": \"heatmapgl\"}], \"histogram\": [{\"marker\": {\"colorbar\": {\"outlinewidth\": 0, \"ticks\": \"\"}}, \"type\": \"histogram\"}], \"histogram2d\": [{\"colorbar\": {\"outlinewidth\": 0, \"ticks\": \"\"}, \"colorscale\": [[0.0, \"#0d0887\"], [0.1111111111111111, \"#46039f\"], [0.2222222222222222, \"#7201a8\"], [0.3333333333333333, \"#9c179e\"], [0.4444444444444444, \"#bd3786\"], [0.5555555555555556, \"#d8576b\"], [0.6666666666666666, \"#ed7953\"], [0.7777777777777778, \"#fb9f3a\"], [0.8888888888888888, \"#fdca26\"], [1.0, \"#f0f921\"]], \"type\": \"histogram2d\"}], \"histogram2dcontour\": [{\"colorbar\": {\"outlinewidth\": 0, \"ticks\": \"\"}, \"colorscale\": [[0.0, \"#0d0887\"], [0.1111111111111111, \"#46039f\"], [0.2222222222222222, \"#7201a8\"], [0.3333333333333333, \"#9c179e\"], [0.4444444444444444, \"#bd3786\"], [0.5555555555555556, \"#d8576b\"], [0.6666666666666666, \"#ed7953\"], [0.7777777777777778, \"#fb9f3a\"], [0.8888888888888888, \"#fdca26\"], [1.0, \"#f0f921\"]], \"type\": \"histogram2dcontour\"}], \"mesh3d\": [{\"colorbar\": {\"outlinewidth\": 0, \"ticks\": \"\"}, \"type\": \"mesh3d\"}], \"parcoords\": [{\"line\": {\"colorbar\": {\"outlinewidth\": 0, \"ticks\": \"\"}}, \"type\": \"parcoords\"}], \"pie\": [{\"automargin\": true, \"type\": \"pie\"}], \"scatter\": [{\"marker\": {\"colorbar\": {\"outlinewidth\": 0, \"ticks\": \"\"}}, \"type\": \"scatter\"}], \"scatter3d\": [{\"line\": {\"colorbar\": {\"outlinewidth\": 0, \"ticks\": \"\"}}, \"marker\": {\"colorbar\": {\"outlinewidth\": 0, \"ticks\": \"\"}}, \"type\": \"scatter3d\"}], \"scattercarpet\": [{\"marker\": {\"colorbar\": {\"outlinewidth\": 0, \"ticks\": \"\"}}, \"type\": \"scattercarpet\"}], \"scattergeo\": [{\"marker\": {\"colorbar\": {\"outlinewidth\": 0, \"ticks\": \"\"}}, \"type\": \"scattergeo\"}], \"scattergl\": [{\"marker\": {\"colorbar\": {\"outlinewidth\": 0, \"ticks\": \"\"}}, \"type\": \"scattergl\"}], \"scattermapbox\": [{\"marker\": {\"colorbar\": {\"outlinewidth\": 0, \"ticks\": \"\"}}, \"type\": \"scattermapbox\"}], \"scatterpolar\": [{\"marker\": {\"colorbar\": {\"outlinewidth\": 0, \"ticks\": \"\"}}, \"type\": \"scatterpolar\"}], \"scatterpolargl\": [{\"marker\": {\"colorbar\": {\"outlinewidth\": 0, \"ticks\": \"\"}}, \"type\": \"scatterpolargl\"}], \"scatterternary\": [{\"marker\": {\"colorbar\": {\"outlinewidth\": 0, \"ticks\": \"\"}}, \"type\": \"scatterternary\"}], \"surface\": [{\"colorbar\": {\"outlinewidth\": 0, \"ticks\": \"\"}, \"colorscale\": [[0.0, \"#0d0887\"], [0.1111111111111111, \"#46039f\"], [0.2222222222222222, \"#7201a8\"], [0.3333333333333333, \"#9c179e\"], [0.4444444444444444, \"#bd3786\"], [0.5555555555555556, \"#d8576b\"], [0.6666666666666666, \"#ed7953\"], [0.7777777777777778, \"#fb9f3a\"], [0.8888888888888888, \"#fdca26\"], [1.0, \"#f0f921\"]], \"type\": \"surface\"}], \"table\": [{\"cells\": {\"fill\": {\"color\": \"#EBF0F8\"}, \"line\": {\"color\": \"white\"}}, \"header\": {\"fill\": {\"color\": \"#C8D4E3\"}, \"line\": {\"color\": \"white\"}}, \"type\": \"table\"}]}, \"layout\": {\"annotationdefaults\": {\"arrowcolor\": \"#2a3f5f\", \"arrowhead\": 0, \"arrowwidth\": 1}, \"coloraxis\": {\"colorbar\": {\"outlinewidth\": 0, \"ticks\": \"\"}}, \"colorscale\": {\"diverging\": [[0, \"#8e0152\"], [0.1, \"#c51b7d\"], [0.2, \"#de77ae\"], [0.3, \"#f1b6da\"], [0.4, \"#fde0ef\"], [0.5, \"#f7f7f7\"], [0.6, \"#e6f5d0\"], [0.7, \"#b8e186\"], [0.8, \"#7fbc41\"], [0.9, \"#4d9221\"], [1, \"#276419\"]], \"sequential\": [[0.0, \"#0d0887\"], [0.1111111111111111, \"#46039f\"], [0.2222222222222222, \"#7201a8\"], [0.3333333333333333, \"#9c179e\"], [0.4444444444444444, \"#bd3786\"], [0.5555555555555556, \"#d8576b\"], [0.6666666666666666, \"#ed7953\"], [0.7777777777777778, \"#fb9f3a\"], [0.8888888888888888, \"#fdca26\"], [1.0, \"#f0f921\"]], \"sequentialminus\": [[0.0, \"#0d0887\"], [0.1111111111111111, \"#46039f\"], [0.2222222222222222, \"#7201a8\"], [0.3333333333333333, \"#9c179e\"], [0.4444444444444444, \"#bd3786\"], [0.5555555555555556, \"#d8576b\"], [0.6666666666666666, \"#ed7953\"], [0.7777777777777778, \"#fb9f3a\"], [0.8888888888888888, \"#fdca26\"], [1.0, \"#f0f921\"]]}, \"colorway\": [\"#636efa\", \"#EF553B\", \"#00cc96\", \"#ab63fa\", \"#FFA15A\", \"#19d3f3\", \"#FF6692\", \"#B6E880\", \"#FF97FF\", \"#FECB52\"], \"font\": {\"color\": \"#2a3f5f\"}, \"geo\": {\"bgcolor\": \"white\", \"lakecolor\": \"white\", \"landcolor\": \"#E5ECF6\", \"showlakes\": true, \"showland\": true, \"subunitcolor\": \"white\"}, \"hoverlabel\": {\"align\": \"left\"}, \"hovermode\": \"closest\", \"mapbox\": {\"style\": \"light\"}, \"paper_bgcolor\": \"white\", \"plot_bgcolor\": \"#E5ECF6\", \"polar\": {\"angularaxis\": {\"gridcolor\": \"white\", \"linecolor\": \"white\", \"ticks\": \"\"}, \"bgcolor\": \"#E5ECF6\", \"radialaxis\": {\"gridcolor\": \"white\", \"linecolor\": \"white\", \"ticks\": \"\"}}, \"scene\": {\"xaxis\": {\"backgroundcolor\": \"#E5ECF6\", \"gridcolor\": \"white\", \"gridwidth\": 2, \"linecolor\": \"white\", \"showbackground\": true, \"ticks\": \"\", \"zerolinecolor\": \"white\"}, \"yaxis\": {\"backgroundcolor\": \"#E5ECF6\", \"gridcolor\": \"white\", \"gridwidth\": 2, \"linecolor\": \"white\", \"showbackground\": true, \"ticks\": \"\", \"zerolinecolor\": \"white\"}, \"zaxis\": {\"backgroundcolor\": \"#E5ECF6\", \"gridcolor\": \"white\", \"gridwidth\": 2, \"linecolor\": \"white\", \"showbackground\": true, \"ticks\": \"\", \"zerolinecolor\": \"white\"}}, \"shapedefaults\": {\"line\": {\"color\": \"#2a3f5f\"}}, \"ternary\": {\"aaxis\": {\"gridcolor\": \"white\", \"linecolor\": \"white\", \"ticks\": \"\"}, \"baxis\": {\"gridcolor\": \"white\", \"linecolor\": \"white\", \"ticks\": \"\"}, \"bgcolor\": \"#E5ECF6\", \"caxis\": {\"gridcolor\": \"white\", \"linecolor\": \"white\", \"ticks\": \"\"}}, \"title\": {\"x\": 0.05}, \"xaxis\": {\"automargin\": true, \"gridcolor\": \"white\", \"linecolor\": \"white\", \"ticks\": \"\", \"title\": {\"standoff\": 15}, \"zerolinecolor\": \"white\", \"zerolinewidth\": 2}, \"yaxis\": {\"automargin\": true, \"gridcolor\": \"white\", \"linecolor\": \"white\", \"ticks\": \"\", \"title\": {\"standoff\": 15}, \"zerolinecolor\": \"white\", \"zerolinewidth\": 2}}}, \"title\": {\"text\": \"Distribution in estimated safety of the car\"}, \"xaxis\": {\"gridcolor\": \"rgb(255, 255, 255)\", \"gridwidth\": 2, \"ticklen\": 5, \"title\": {\"text\": \"safety\"}, \"zerolinewidth\": 1}, \"yaxis\": {\"gridcolor\": \"rgb(255, 255, 255)\", \"gridwidth\": 2, \"ticklen\": 5, \"title\": {\"text\": \"count\"}, \"zerolinewidth\": 1}},\n",
       "                        {\"responsive\": true}\n",
       "                    ).then(function(){\n",
       "                            \n",
       "var gd = document.getElementById('3c31a08a-60cf-4f5d-ba11-4a883d4d180a');\n",
       "var x = new MutationObserver(function (mutations, observer) {{\n",
       "        var display = window.getComputedStyle(gd).display;\n",
       "        if (!display || display === 'none') {{\n",
       "            console.log([gd, 'removed!']);\n",
       "            Plotly.purge(gd);\n",
       "            observer.disconnect();\n",
       "        }}\n",
       "}});\n",
       "\n",
       "// Listen for the removal of the full notebook cells\n",
       "var notebookContainer = gd.closest('#notebook-container');\n",
       "if (notebookContainer) {{\n",
       "    x.observe(notebookContainer, {childList: true});\n",
       "}}\n",
       "\n",
       "// Listen for the clearing of the current output cell\n",
       "var outputEl = gd.closest('.output');\n",
       "if (outputEl) {{\n",
       "    x.observe(outputEl, {childList: true});\n",
       "}}\n",
       "\n",
       "                        })\n",
       "                };\n",
       "                });\n",
       "            </script>\n",
       "        </div>"
      ]
     },
     "metadata": {},
     "output_type": "display_data"
    }
   ],
   "source": [
    "\n",
    "group_cols=cat_cols\n",
    "groups_class_ge_accs  = [acc_car_class[\"buying\"].value_counts().reset_index(),\n",
    "                   acc_car_class[\"maint\"].value_counts().reset_index(),\n",
    "                   acc_car_class[\"doors\"].value_counts().reset_index(),\n",
    "                   acc_car_class[\"persons\"].value_counts().reset_index(),\n",
    "                   acc_car_class[\"lug_boot\"].value_counts().reset_index(),\n",
    "                   acc_car_class[\"safety\"].value_counts().reset_index()]\n",
    "groups_class_eq_unaccs =  [unacc_car_class[\"buying\"].value_counts().reset_index(),\n",
    "                   unacc_car_class[\"maint\"].value_counts().reset_index(),\n",
    "                   unacc_car_class[\"doors\"].value_counts().reset_index(),\n",
    "                   unacc_car_class[\"persons\"].value_counts().reset_index(),\n",
    "                   unacc_car_class[\"lug_boot\"].value_counts().reset_index(),\n",
    "                   unacc_car_class[\"safety\"].value_counts().reset_index()]\n",
    "group_count=len(group_cols)\n",
    "\n",
    "for i in range(group_count):\n",
    "    groups_class_ge_acc=groups_class_ge_accs[i]\n",
    "    groups_class_eq_unacc=groups_class_eq_unaccs[i]\n",
    "    groups_class_ge_acc.columns  = [group_cols[i],\"count\"]\n",
    "    groups_class_eq_unacc.columns = [group_cols[i],\"count\"]\n",
    "\n",
    "    #bar - car_class_ge_acc\n",
    "    trace1 = go.Bar(x = groups_class_ge_acc[group_cols[i]]  , y = groups_class_ge_acc[\"count\"],\n",
    "                name = \"car_class >= acc\",\n",
    "                marker = dict(line = dict(width = .5,color = \"black\")),\n",
    "                opacity = .9)\n",
    "\n",
    "    #bar - not car_class_ge_acc\n",
    "    trace2 = go.Bar(x = groups_class_eq_unacc[group_cols[i]] , y = groups_class_eq_unacc[\"count\"],\n",
    "                name = \"car_class == unacc\",\n",
    "                marker = dict(line = dict(width = .5,color = \"black\")),\n",
    "                opacity = .9)\n",
    "\n",
    "    layout = go.Layout(dict(title = \"Distribution in \"+get_title(group_cols[i]),\n",
    "                        plot_bgcolor  = \"rgb(243,243,243)\",\n",
    "                        paper_bgcolor = \"rgb(243,243,243)\",\n",
    "                        xaxis = dict(gridcolor = 'rgb(255, 255, 255)',\n",
    "                                     title = group_cols[i],\n",
    "                                     zerolinewidth=1,ticklen=5,gridwidth=2),\n",
    "                        yaxis = dict(gridcolor = 'rgb(255, 255, 255)',\n",
    "                                     title = \"count\",\n",
    "                                     zerolinewidth=1,ticklen=5,gridwidth=2),\n",
    "                       )\n",
    "                  )\n",
    "    data_fig = [trace1,trace2]\n",
    "    fig  = go.Figure(data=data_fig,layout=layout)\n",
    "    py.iplot(fig)"
   ]
  },
  {
   "cell_type": "markdown",
   "metadata": {},
   "source": [
    "ЗАДАНИЕ 3.\n",
    "\n",
    "Сделать feature engineering. При этом постарайтесь «завернуть» ваш код для преобразования данных в классы или функции (пример Transformer как в ноутбуке)."
   ]
  },
  {
   "cell_type": "code",
   "execution_count": 15,
   "metadata": {},
   "outputs": [],
   "source": [
    "from sklearn.base import BaseEstimator, TransformerMixin\n",
    "\n",
    "class ColumnSelector(BaseEstimator, TransformerMixin):\n",
    "    \"\"\"\n",
    "    Transformer to select a single column from the data frame to perform additional transformations on\n",
    "    \"\"\"\n",
    "    def __init__(self, key):\n",
    "        self.key = key\n",
    "\n",
    "    def fit(self, X, y=None):\n",
    "        return self\n",
    "\n",
    "    def transform(self, X):\n",
    "        return X[self.key]\n",
    "  \n",
    "    \n",
    "class OHEEncoder(BaseEstimator, TransformerMixin):\n",
    "    def __init__(self, key):\n",
    "        self.key = key\n",
    "        self.columns = []\n",
    "\n",
    "    def fit(self, X, y=None):\n",
    "        self.columns = [col for col in pd.get_dummies(X, prefix=self.key).columns]\n",
    "        return self\n",
    "\n",
    "    def transform(self, X):\n",
    "        X = pd.get_dummies(X, prefix=self.key)\n",
    "        test_columns = [col for col in X.columns]\n",
    "        for col_ in self.columns:\n",
    "            if col_ not in test_columns:\n",
    "                X[col_] = 0\n",
    "        return X[self.columns]"
   ]
  },
  {
   "cell_type": "code",
   "execution_count": 16,
   "metadata": {},
   "outputs": [],
   "source": [
    "from sklearn.pipeline import Pipeline\n",
    "\n",
    "#'buying','maint','doors','persons','lug_boot','safety'\n",
    "buying = Pipeline([\n",
    "                ('selector', ColumnSelector(key='buying')),\n",
    "                ('ohe', OHEEncoder(key='buying'))\n",
    "            ])\n",
    "maint = Pipeline([\n",
    "                ('selector', ColumnSelector(key='maint')),\n",
    "                ('ohe', OHEEncoder(key='maint'))\n",
    "            ])\n",
    "doors = Pipeline([\n",
    "                ('selector', ColumnSelector(key='doors')),\n",
    "                ('ohe', OHEEncoder(key='doors'))\n",
    "            ])\n",
    "persons = Pipeline([\n",
    "                ('selector', ColumnSelector(key='persons')),\n",
    "                ('ohe', OHEEncoder(key='persons'))\n",
    "            ])\n",
    "lug_boot = Pipeline([\n",
    "                ('selector', ColumnSelector(key='lug_boot')),\n",
    "                ('ohe', OHEEncoder(key='lug_boot'))\n",
    "            ])\n",
    "safety = Pipeline([\n",
    "                ('selector', ColumnSelector(key='safety')),\n",
    "                ('ohe', OHEEncoder(key='safety'))\n",
    "            ])"
   ]
  },
  {
   "cell_type": "code",
   "execution_count": 17,
   "metadata": {},
   "outputs": [
    {
     "data": {
      "text/plain": [
       "array([[0, 0, 0, ..., 0, 1, 0],\n",
       "       [1, 0, 0, ..., 0, 1, 0],\n",
       "       [0, 0, 0, ..., 1, 0, 0],\n",
       "       ...,\n",
       "       [1, 0, 0, ..., 1, 0, 0],\n",
       "       [0, 1, 0, ..., 0, 0, 1],\n",
       "       [0, 0, 1, ..., 0, 0, 1]], dtype=uint8)"
      ]
     },
     "execution_count": 17,
     "metadata": {},
     "output_type": "execute_result"
    }
   ],
   "source": [
    "from sklearn.pipeline import FeatureUnion\n",
    "\n",
    "#'buying','maint','doors','persons','lug_boot','safety'\n",
    "feats = FeatureUnion([('buying', buying), \n",
    "                      ('maint', maint),\n",
    "                      ('doors', doors),\n",
    "                      ('persons', persons),\n",
    "                      ('lug_boot', lug_boot),\n",
    "                      ('safety', safety)\n",
    "                      ])\n",
    "\n",
    "feature_processing = Pipeline([('feats', feats)])\n",
    "feature_processing.fit_transform(X_train)"
   ]
  },
  {
   "cell_type": "markdown",
   "metadata": {},
   "source": [
    "ЗАДАНИЕ 4. \n",
    "\n",
    "Обучить базовую модель (любую - на ваш выбор). При этом нужно использовать cross validation"
   ]
  },
  {
   "cell_type": "code",
   "execution_count": 18,
   "metadata": {},
   "outputs": [
    {
     "data": {
      "text/plain": [
       "0.9474605954465849"
      ]
     },
     "execution_count": 18,
     "metadata": {},
     "output_type": "execute_result"
    }
   ],
   "source": [
    "from catboost import CatBoostClassifier\n",
    "\n",
    "iterations=20\n",
    "learning_rate=0.01\n",
    "depth=5\n",
    "\n",
    "pipeline = Pipeline([\n",
    "    ('features',feats),\n",
    "    ('classifier', \n",
    "     CatBoostClassifier(iterations=iterations,learning_rate=learning_rate,depth=depth, \n",
    "                        thread_count=2, random_state=42, silent=True)),\n",
    "])\n",
    "\n",
    "pipeline.fit(X_train, y_train)\n",
    "\n",
    "preds = pipeline.predict(X_test)\n",
    "np.mean(preds == y_test)"
   ]
  },
  {
   "cell_type": "code",
   "execution_count": 19,
   "metadata": {},
   "outputs": [
    {
     "data": {
      "text/plain": [
       "dict_keys(['memory', 'steps', 'verbose', 'features', 'classifier', 'features__n_jobs', 'features__transformer_list', 'features__transformer_weights', 'features__verbose', 'features__buying', 'features__maint', 'features__doors', 'features__persons', 'features__lug_boot', 'features__safety', 'features__buying__memory', 'features__buying__steps', 'features__buying__verbose', 'features__buying__selector', 'features__buying__ohe', 'features__buying__selector__key', 'features__buying__ohe__key', 'features__maint__memory', 'features__maint__steps', 'features__maint__verbose', 'features__maint__selector', 'features__maint__ohe', 'features__maint__selector__key', 'features__maint__ohe__key', 'features__doors__memory', 'features__doors__steps', 'features__doors__verbose', 'features__doors__selector', 'features__doors__ohe', 'features__doors__selector__key', 'features__doors__ohe__key', 'features__persons__memory', 'features__persons__steps', 'features__persons__verbose', 'features__persons__selector', 'features__persons__ohe', 'features__persons__selector__key', 'features__persons__ohe__key', 'features__lug_boot__memory', 'features__lug_boot__steps', 'features__lug_boot__verbose', 'features__lug_boot__selector', 'features__lug_boot__ohe', 'features__lug_boot__selector__key', 'features__lug_boot__ohe__key', 'features__safety__memory', 'features__safety__steps', 'features__safety__verbose', 'features__safety__selector', 'features__safety__ohe', 'features__safety__selector__key', 'features__safety__ohe__key', 'classifier__iterations', 'classifier__learning_rate', 'classifier__depth', 'classifier__thread_count', 'classifier__silent', 'classifier__random_state'])"
      ]
     },
     "execution_count": 19,
     "metadata": {},
     "output_type": "execute_result"
    }
   ],
   "source": [
    "pipeline.get_params().keys()"
   ]
  },
  {
   "cell_type": "markdown",
   "metadata": {},
   "source": [
    "Делаем кросс-валидацию на GridSearchCV используя имена параметров классификатора, полученные на пред. шаге"
   ]
  },
  {
   "cell_type": "code",
   "execution_count": 20,
   "metadata": {},
   "outputs": [
    {
     "data": {
      "text/plain": [
       "GridSearchCV(cv=5,\n",
       "             estimator=Pipeline(steps=[('features',\n",
       "                                        FeatureUnion(transformer_list=[('buying',\n",
       "                                                                        Pipeline(steps=[('selector',\n",
       "                                                                                         ColumnSelector(key='buying')),\n",
       "                                                                                        ('ohe',\n",
       "                                                                                         OHEEncoder(key='buying'))])),\n",
       "                                                                       ('maint',\n",
       "                                                                        Pipeline(steps=[('selector',\n",
       "                                                                                         ColumnSelector(key='maint')),\n",
       "                                                                                        ('ohe',\n",
       "                                                                                         OHEEncoder(key='maint'))])),\n",
       "                                                                       ('doors',\n",
       "                                                                        Pipeline(steps=[('selector',\n",
       "                                                                                         ColumnSelector(key='d...\n",
       "                                                                                         OHEEncoder(key='lug_boot'))])),\n",
       "                                                                       ('safety',\n",
       "                                                                        Pipeline(steps=[('selector',\n",
       "                                                                                         ColumnSelector(key='safety')),\n",
       "                                                                                        ('ohe',\n",
       "                                                                                         OHEEncoder(key='safety'))]))])),\n",
       "                                       ('classifier',\n",
       "                                        <catboost.core.CatBoostClassifier object at 0x000001DA4DE918C8>)]),\n",
       "             param_grid={'classifier__depth': [3, 5, 7],\n",
       "                         'classifier__iterations': [10, 20, 30],\n",
       "                         'classifier__learning_rate': [0.005, 0.01, 0.05],\n",
       "                         'classifier__random_state': [42]})"
      ]
     },
     "execution_count": 20,
     "metadata": {},
     "output_type": "execute_result"
    }
   ],
   "source": [
    "from sklearn.model_selection import GridSearchCV\n",
    "\n",
    "hyperparameters = { 'classifier__iterations': [10, 20, 30],\n",
    "                    'classifier__learning_rate': [0.005,0.01,0.05],\n",
    "                    'classifier__depth' : [3,5,7],\n",
    "                    'classifier__random_state':[42]\n",
    "                  }\n",
    "clf = GridSearchCV(pipeline, hyperparameters, cv=5)\n",
    " \n",
    "# Fit and tune model\n",
    "clf.fit(X_train, y_train)"
   ]
  },
  {
   "cell_type": "code",
   "execution_count": 21,
   "metadata": {},
   "outputs": [
    {
     "data": {
      "text/plain": [
       "{'classifier__depth': 7,\n",
       " 'classifier__iterations': 30,\n",
       " 'classifier__learning_rate': 0.05,\n",
       " 'classifier__random_state': 42}"
      ]
     },
     "execution_count": 21,
     "metadata": {},
     "output_type": "execute_result"
    }
   ],
   "source": [
    "clf.best_params_"
   ]
  },
  {
   "cell_type": "code",
   "execution_count": 22,
   "metadata": {},
   "outputs": [
    {
     "data": {
      "text/plain": [
       "0.9859894921190894"
      ]
     },
     "execution_count": 22,
     "metadata": {},
     "output_type": "execute_result"
    }
   ],
   "source": [
    "#refitting on entire training data using best settings\n",
    "clf.refit\n",
    "\n",
    "preds = clf.predict(X_test)\n",
    "probs = clf.predict_proba(X_test)\n",
    "\n",
    "np.mean(preds == y_test)"
   ]
  },
  {
   "cell_type": "markdown",
   "metadata": {},
   "source": [
    "Теперь сравним множество разных моделей"
   ]
  },
  {
   "cell_type": "code",
   "execution_count": 23,
   "metadata": {},
   "outputs": [],
   "source": [
    "import xgboost as xgb\n",
    "from sklearn.svm import SVC\n",
    "from sklearn.linear_model import SGDClassifier\n",
    "from sklearn.neighbors import KNeighborsClassifier\n",
    "from sklearn.tree import DecisionTreeClassifier\n",
    "from sklearn.tree import ExtraTreeClassifier\n",
    "from sklearn.ensemble import GradientBoostingClassifier\n",
    "from sklearn.ensemble import AdaBoostClassifier\n",
    "from sklearn.ensemble import RandomForestClassifier\n",
    "\n",
    "classifiers = [\n",
    "    SVC(),\n",
    "    SGDClassifier(),\n",
    "    KNeighborsClassifier(),\n",
    "    DecisionTreeClassifier(),\n",
    "    ExtraTreeClassifier(),\n",
    "    GradientBoostingClassifier(),\n",
    "    AdaBoostClassifier(),\n",
    "    xgb.XGBClassifier(),\n",
    "    CatBoostClassifier(),\n",
    "    RandomForestClassifier()\n",
    "]"
   ]
  },
  {
   "cell_type": "code",
   "execution_count": 24,
   "metadata": {},
   "outputs": [],
   "source": [
    "pipeline = Pipeline([\n",
    "    ('features',feats),\n",
    "    ('classifier', RandomForestClassifier(random_state = 42)),\n",
    "])"
   ]
  },
  {
   "cell_type": "code",
   "execution_count": 25,
   "metadata": {},
   "outputs": [
    {
     "name": "stdout",
     "output_type": "stream",
     "text": [
      "----------------------\n",
      "SVC()\n",
      "----------------------\n",
      "'Leaderboard score - mean auc test 0.9987642645305171'\n",
      "----------------------\n",
      "SGDClassifier()\n",
      "----------------------\n",
      "'Leaderboard score - mean auc test 0.987110672022052'\n",
      "----------------------\n",
      "KNeighborsClassifier()\n",
      "----------------------\n",
      "'Leaderboard score - mean auc test 0.9762222484925078'\n",
      "----------------------\n",
      "DecisionTreeClassifier()\n",
      "----------------------\n",
      "'Leaderboard score - mean auc test 0.9753970331465328'\n",
      "----------------------\n",
      "ExtraTreeClassifier()\n",
      "----------------------\n",
      "'Leaderboard score - mean auc test 0.916240009082013'\n",
      "----------------------\n",
      "GradientBoostingClassifier()\n",
      "----------------------\n",
      "'Leaderboard score - mean auc test 0.999098741559498'\n",
      "----------------------\n",
      "AdaBoostClassifier()\n",
      "----------------------\n",
      "'Leaderboard score - mean auc test 0.9895454583836457'\n",
      "----------------------\n",
      "XGBClassifier(base_score=None, booster=None, colsample_bylevel=None,\n",
      "              colsample_bynode=None, colsample_bytree=None, gamma=None,\n",
      "              gpu_id=None, importance_type='gain', interaction_constraints=None,\n",
      "              learning_rate=None, max_delta_step=None, max_depth=None,\n",
      "              min_child_weight=None, missing=nan, monotone_constraints=None,\n",
      "              n_estimators=100, n_jobs=None, num_parallel_tree=None,\n",
      "              random_state=None, reg_alpha=None, reg_lambda=None,\n",
      "              scale_pos_weight=None, subsample=None, tree_method=None,\n",
      "              validate_parameters=None, verbosity=None)\n",
      "----------------------\n",
      "'Leaderboard score - mean auc test 0.9999893042408686'\n",
      "Learning rate set to 0.009219\n",
      "0:\tlearn: 0.6800820\ttotal: 3.26ms\tremaining: 3.26s\n",
      "1:\tlearn: 0.6690169\ttotal: 5.7ms\tremaining: 2.84s\n",
      "2:\tlearn: 0.6568438\ttotal: 8.37ms\tremaining: 2.78s\n",
      "3:\tlearn: 0.6445135\ttotal: 11.2ms\tremaining: 2.78s\n",
      "4:\tlearn: 0.6330886\ttotal: 13.2ms\tremaining: 2.63s\n",
      "5:\tlearn: 0.6214073\ttotal: 16ms\tremaining: 2.65s\n",
      "6:\tlearn: 0.6109768\ttotal: 18.6ms\tremaining: 2.64s\n",
      "7:\tlearn: 0.5996902\ttotal: 21.4ms\tremaining: 2.65s\n",
      "8:\tlearn: 0.5893792\ttotal: 24.5ms\tremaining: 2.69s\n",
      "9:\tlearn: 0.5793040\ttotal: 26.4ms\tremaining: 2.61s\n",
      "10:\tlearn: 0.5688610\ttotal: 28.4ms\tremaining: 2.55s\n",
      "11:\tlearn: 0.5587065\ttotal: 30.4ms\tremaining: 2.5s\n",
      "12:\tlearn: 0.5505088\ttotal: 32.4ms\tremaining: 2.46s\n",
      "13:\tlearn: 0.5422974\ttotal: 34.6ms\tremaining: 2.44s\n",
      "14:\tlearn: 0.5325855\ttotal: 36.5ms\tremaining: 2.4s\n",
      "15:\tlearn: 0.5234385\ttotal: 38.9ms\tremaining: 2.39s\n",
      "16:\tlearn: 0.5156461\ttotal: 40.8ms\tremaining: 2.36s\n",
      "17:\tlearn: 0.5069338\ttotal: 42.5ms\tremaining: 2.32s\n",
      "18:\tlearn: 0.4999939\ttotal: 44.1ms\tremaining: 2.28s\n",
      "19:\tlearn: 0.4931731\ttotal: 45.8ms\tremaining: 2.24s\n",
      "20:\tlearn: 0.4859370\ttotal: 47.3ms\tremaining: 2.21s\n",
      "21:\tlearn: 0.4793273\ttotal: 48.8ms\tremaining: 2.17s\n",
      "22:\tlearn: 0.4729615\ttotal: 50.4ms\tremaining: 2.14s\n",
      "23:\tlearn: 0.4663739\ttotal: 52ms\tremaining: 2.11s\n",
      "24:\tlearn: 0.4605326\ttotal: 53.5ms\tremaining: 2.09s\n",
      "25:\tlearn: 0.4542700\ttotal: 55.1ms\tremaining: 2.06s\n",
      "26:\tlearn: 0.4474216\ttotal: 56.1ms\tremaining: 2.02s\n",
      "27:\tlearn: 0.4415653\ttotal: 57.7ms\tremaining: 2s\n",
      "28:\tlearn: 0.4353340\ttotal: 59.3ms\tremaining: 1.98s\n",
      "29:\tlearn: 0.4297478\ttotal: 60.8ms\tremaining: 1.97s\n",
      "30:\tlearn: 0.4244894\ttotal: 62.8ms\tremaining: 1.96s\n",
      "31:\tlearn: 0.4184034\ttotal: 64.3ms\tremaining: 1.95s\n",
      "32:\tlearn: 0.4131531\ttotal: 65.9ms\tremaining: 1.93s\n",
      "33:\tlearn: 0.4084979\ttotal: 67.5ms\tremaining: 1.92s\n",
      "34:\tlearn: 0.4033766\ttotal: 69ms\tremaining: 1.9s\n",
      "35:\tlearn: 0.3983682\ttotal: 70.6ms\tremaining: 1.89s\n",
      "36:\tlearn: 0.3931303\ttotal: 72.2ms\tremaining: 1.88s\n",
      "37:\tlearn: 0.3886995\ttotal: 74ms\tremaining: 1.87s\n",
      "38:\tlearn: 0.3837097\ttotal: 75.6ms\tremaining: 1.86s\n",
      "39:\tlearn: 0.3791789\ttotal: 77.2ms\tremaining: 1.85s\n",
      "40:\tlearn: 0.3749377\ttotal: 78.8ms\tremaining: 1.84s\n",
      "41:\tlearn: 0.3699089\ttotal: 80.4ms\tremaining: 1.83s\n",
      "42:\tlearn: 0.3655168\ttotal: 81.5ms\tremaining: 1.81s\n",
      "43:\tlearn: 0.3605901\ttotal: 83.1ms\tremaining: 1.8s\n",
      "44:\tlearn: 0.3565209\ttotal: 84.6ms\tremaining: 1.8s\n",
      "45:\tlearn: 0.3526103\ttotal: 86.2ms\tremaining: 1.79s\n",
      "46:\tlearn: 0.3486981\ttotal: 89.5ms\tremaining: 1.81s\n",
      "47:\tlearn: 0.3447527\ttotal: 90.8ms\tremaining: 1.8s\n",
      "48:\tlearn: 0.3410480\ttotal: 92.1ms\tremaining: 1.79s\n",
      "49:\tlearn: 0.3368658\ttotal: 93.6ms\tremaining: 1.78s\n",
      "50:\tlearn: 0.3328743\ttotal: 95.2ms\tremaining: 1.77s\n",
      "51:\tlearn: 0.3288118\ttotal: 96.8ms\tremaining: 1.76s\n",
      "52:\tlearn: 0.3247390\ttotal: 98.3ms\tremaining: 1.76s\n",
      "53:\tlearn: 0.3214800\ttotal: 99.9ms\tremaining: 1.75s\n",
      "54:\tlearn: 0.3182349\ttotal: 102ms\tremaining: 1.74s\n",
      "55:\tlearn: 0.3152512\ttotal: 103ms\tremaining: 1.74s\n",
      "56:\tlearn: 0.3119067\ttotal: 105ms\tremaining: 1.73s\n",
      "57:\tlearn: 0.3086792\ttotal: 106ms\tremaining: 1.73s\n",
      "58:\tlearn: 0.3058329\ttotal: 108ms\tremaining: 1.72s\n",
      "59:\tlearn: 0.3023972\ttotal: 109ms\tremaining: 1.72s\n",
      "60:\tlearn: 0.2991392\ttotal: 111ms\tremaining: 1.71s\n",
      "61:\tlearn: 0.2967533\ttotal: 113ms\tremaining: 1.71s\n",
      "62:\tlearn: 0.2942702\ttotal: 114ms\tremaining: 1.7s\n",
      "63:\tlearn: 0.2916659\ttotal: 116ms\tremaining: 1.7s\n",
      "64:\tlearn: 0.2893843\ttotal: 118ms\tremaining: 1.69s\n",
      "65:\tlearn: 0.2866236\ttotal: 119ms\tremaining: 1.69s\n",
      "66:\tlearn: 0.2846997\ttotal: 121ms\tremaining: 1.69s\n",
      "67:\tlearn: 0.2816950\ttotal: 123ms\tremaining: 1.68s\n",
      "68:\tlearn: 0.2792963\ttotal: 124ms\tremaining: 1.68s\n",
      "69:\tlearn: 0.2773550\ttotal: 126ms\tremaining: 1.67s\n",
      "70:\tlearn: 0.2750599\ttotal: 127ms\tremaining: 1.67s\n",
      "71:\tlearn: 0.2721033\ttotal: 129ms\tremaining: 1.67s\n",
      "72:\tlearn: 0.2693049\ttotal: 131ms\tremaining: 1.66s\n",
      "73:\tlearn: 0.2670663\ttotal: 133ms\tremaining: 1.66s\n",
      "74:\tlearn: 0.2649107\ttotal: 134ms\tremaining: 1.66s\n",
      "75:\tlearn: 0.2629961\ttotal: 136ms\tremaining: 1.65s\n",
      "76:\tlearn: 0.2609722\ttotal: 138ms\tremaining: 1.65s\n",
      "77:\tlearn: 0.2587339\ttotal: 139ms\tremaining: 1.65s\n",
      "78:\tlearn: 0.2565193\ttotal: 141ms\tremaining: 1.65s\n",
      "79:\tlearn: 0.2541831\ttotal: 143ms\tremaining: 1.65s\n",
      "80:\tlearn: 0.2520474\ttotal: 145ms\tremaining: 1.64s\n",
      "81:\tlearn: 0.2501240\ttotal: 147ms\tremaining: 1.64s\n",
      "82:\tlearn: 0.2478313\ttotal: 148ms\tremaining: 1.64s\n",
      "83:\tlearn: 0.2467350\ttotal: 150ms\tremaining: 1.64s\n",
      "84:\tlearn: 0.2448828\ttotal: 152ms\tremaining: 1.63s\n",
      "85:\tlearn: 0.2430734\ttotal: 154ms\tremaining: 1.63s\n",
      "86:\tlearn: 0.2410426\ttotal: 155ms\tremaining: 1.63s\n",
      "87:\tlearn: 0.2393255\ttotal: 159ms\tremaining: 1.65s\n",
      "88:\tlearn: 0.2380212\ttotal: 161ms\tremaining: 1.65s\n",
      "89:\tlearn: 0.2365092\ttotal: 162ms\tremaining: 1.64s\n",
      "90:\tlearn: 0.2345378\ttotal: 164ms\tremaining: 1.64s\n",
      "91:\tlearn: 0.2326135\ttotal: 166ms\tremaining: 1.64s\n",
      "92:\tlearn: 0.2304916\ttotal: 167ms\tremaining: 1.63s\n",
      "93:\tlearn: 0.2287095\ttotal: 169ms\tremaining: 1.63s\n",
      "94:\tlearn: 0.2265856\ttotal: 173ms\tremaining: 1.65s\n",
      "95:\tlearn: 0.2245818\ttotal: 174ms\tremaining: 1.64s\n",
      "96:\tlearn: 0.2235613\ttotal: 176ms\tremaining: 1.64s\n",
      "97:\tlearn: 0.2221949\ttotal: 178ms\tremaining: 1.63s\n",
      "98:\tlearn: 0.2202849\ttotal: 179ms\tremaining: 1.63s\n",
      "99:\tlearn: 0.2185316\ttotal: 181ms\tremaining: 1.63s\n",
      "100:\tlearn: 0.2171024\ttotal: 183ms\tremaining: 1.63s\n",
      "101:\tlearn: 0.2157185\ttotal: 185ms\tremaining: 1.63s\n",
      "102:\tlearn: 0.2144015\ttotal: 187ms\tremaining: 1.63s\n",
      "103:\tlearn: 0.2129097\ttotal: 188ms\tremaining: 1.62s\n",
      "104:\tlearn: 0.2113507\ttotal: 190ms\tremaining: 1.62s\n",
      "105:\tlearn: 0.2099377\ttotal: 191ms\tremaining: 1.61s\n",
      "106:\tlearn: 0.2087359\ttotal: 193ms\tremaining: 1.61s\n",
      "107:\tlearn: 0.2079262\ttotal: 195ms\tremaining: 1.61s\n",
      "108:\tlearn: 0.2064406\ttotal: 197ms\tremaining: 1.61s\n",
      "109:\tlearn: 0.2055099\ttotal: 199ms\tremaining: 1.61s\n",
      "110:\tlearn: 0.2041927\ttotal: 200ms\tremaining: 1.6s\n",
      "111:\tlearn: 0.2029701\ttotal: 202ms\tremaining: 1.6s\n",
      "112:\tlearn: 0.2012678\ttotal: 204ms\tremaining: 1.6s\n",
      "113:\tlearn: 0.2000686\ttotal: 205ms\tremaining: 1.59s\n",
      "114:\tlearn: 0.1989013\ttotal: 207ms\tremaining: 1.59s\n",
      "115:\tlearn: 0.1976282\ttotal: 209ms\tremaining: 1.59s\n",
      "116:\tlearn: 0.1962816\ttotal: 210ms\tremaining: 1.59s\n",
      "117:\tlearn: 0.1951244\ttotal: 212ms\tremaining: 1.58s\n",
      "118:\tlearn: 0.1935483\ttotal: 213ms\tremaining: 1.58s\n",
      "119:\tlearn: 0.1927391\ttotal: 215ms\tremaining: 1.58s\n",
      "120:\tlearn: 0.1915805\ttotal: 217ms\tremaining: 1.57s\n",
      "121:\tlearn: 0.1904485\ttotal: 218ms\tremaining: 1.57s\n",
      "122:\tlearn: 0.1890713\ttotal: 220ms\tremaining: 1.57s\n",
      "123:\tlearn: 0.1882036\ttotal: 222ms\tremaining: 1.57s\n",
      "124:\tlearn: 0.1872266\ttotal: 224ms\tremaining: 1.56s\n",
      "125:\tlearn: 0.1860182\ttotal: 225ms\tremaining: 1.56s\n",
      "126:\tlearn: 0.1848995\ttotal: 227ms\tremaining: 1.56s\n",
      "127:\tlearn: 0.1839853\ttotal: 229ms\tremaining: 1.56s\n",
      "128:\tlearn: 0.1827878\ttotal: 231ms\tremaining: 1.56s\n",
      "129:\tlearn: 0.1819496\ttotal: 233ms\tremaining: 1.56s\n",
      "130:\tlearn: 0.1810018\ttotal: 234ms\tremaining: 1.55s\n",
      "131:\tlearn: 0.1802437\ttotal: 236ms\tremaining: 1.55s\n",
      "132:\tlearn: 0.1794992\ttotal: 237ms\tremaining: 1.55s\n",
      "133:\tlearn: 0.1784593\ttotal: 239ms\tremaining: 1.54s\n",
      "134:\tlearn: 0.1775313\ttotal: 241ms\tremaining: 1.54s\n",
      "135:\tlearn: 0.1766159\ttotal: 242ms\tremaining: 1.54s\n",
      "136:\tlearn: 0.1755441\ttotal: 244ms\tremaining: 1.54s\n",
      "137:\tlearn: 0.1747172\ttotal: 246ms\tremaining: 1.53s\n",
      "138:\tlearn: 0.1737349\ttotal: 247ms\tremaining: 1.53s\n",
      "139:\tlearn: 0.1729857\ttotal: 249ms\tremaining: 1.53s\n",
      "140:\tlearn: 0.1720874\ttotal: 250ms\tremaining: 1.52s\n",
      "141:\tlearn: 0.1712802\ttotal: 252ms\tremaining: 1.52s\n",
      "142:\tlearn: 0.1703775\ttotal: 254ms\tremaining: 1.52s\n",
      "143:\tlearn: 0.1698160\ttotal: 256ms\tremaining: 1.52s\n",
      "144:\tlearn: 0.1685303\ttotal: 257ms\tremaining: 1.52s\n",
      "145:\tlearn: 0.1678611\ttotal: 259ms\tremaining: 1.51s\n",
      "146:\tlearn: 0.1669220\ttotal: 261ms\tremaining: 1.51s\n",
      "147:\tlearn: 0.1658315\ttotal: 263ms\tremaining: 1.51s\n",
      "148:\tlearn: 0.1649683\ttotal: 264ms\tremaining: 1.51s\n",
      "149:\tlearn: 0.1641785\ttotal: 266ms\tremaining: 1.51s\n",
      "150:\tlearn: 0.1634998\ttotal: 268ms\tremaining: 1.5s\n",
      "151:\tlearn: 0.1630669\ttotal: 269ms\tremaining: 1.5s\n",
      "152:\tlearn: 0.1621404\ttotal: 271ms\tremaining: 1.5s\n",
      "153:\tlearn: 0.1614078\ttotal: 272ms\tremaining: 1.5s\n",
      "154:\tlearn: 0.1608656\ttotal: 274ms\tremaining: 1.49s\n",
      "155:\tlearn: 0.1601667\ttotal: 276ms\tremaining: 1.49s\n",
      "156:\tlearn: 0.1590130\ttotal: 277ms\tremaining: 1.49s\n",
      "157:\tlearn: 0.1583698\ttotal: 279ms\tremaining: 1.49s\n",
      "158:\tlearn: 0.1580486\ttotal: 281ms\tremaining: 1.48s\n",
      "159:\tlearn: 0.1570541\ttotal: 282ms\tremaining: 1.48s\n",
      "160:\tlearn: 0.1563773\ttotal: 284ms\tremaining: 1.48s\n",
      "161:\tlearn: 0.1557107\ttotal: 285ms\tremaining: 1.48s\n",
      "162:\tlearn: 0.1548724\ttotal: 287ms\tremaining: 1.47s\n",
      "163:\tlearn: 0.1543286\ttotal: 289ms\tremaining: 1.47s\n",
      "164:\tlearn: 0.1537430\ttotal: 290ms\tremaining: 1.47s\n",
      "165:\tlearn: 0.1529215\ttotal: 291ms\tremaining: 1.46s\n",
      "166:\tlearn: 0.1519709\ttotal: 293ms\tremaining: 1.46s\n",
      "167:\tlearn: 0.1515576\ttotal: 295ms\tremaining: 1.46s\n",
      "168:\tlearn: 0.1510569\ttotal: 297ms\tremaining: 1.46s\n"
     ]
    },
    {
     "name": "stdout",
     "output_type": "stream",
     "text": [
      "169:\tlearn: 0.1503212\ttotal: 299ms\tremaining: 1.46s\n",
      "170:\tlearn: 0.1492987\ttotal: 301ms\tremaining: 1.46s\n",
      "171:\tlearn: 0.1485488\ttotal: 303ms\tremaining: 1.46s\n",
      "172:\tlearn: 0.1477428\ttotal: 306ms\tremaining: 1.46s\n",
      "173:\tlearn: 0.1469152\ttotal: 308ms\tremaining: 1.46s\n",
      "174:\tlearn: 0.1463811\ttotal: 310ms\tremaining: 1.46s\n",
      "175:\tlearn: 0.1457990\ttotal: 311ms\tremaining: 1.46s\n",
      "176:\tlearn: 0.1451212\ttotal: 313ms\tremaining: 1.46s\n",
      "177:\tlearn: 0.1445476\ttotal: 315ms\tremaining: 1.45s\n",
      "178:\tlearn: 0.1440503\ttotal: 316ms\tremaining: 1.45s\n",
      "179:\tlearn: 0.1434217\ttotal: 318ms\tremaining: 1.45s\n",
      "180:\tlearn: 0.1429617\ttotal: 320ms\tremaining: 1.45s\n",
      "181:\tlearn: 0.1423096\ttotal: 321ms\tremaining: 1.44s\n",
      "182:\tlearn: 0.1419361\ttotal: 323ms\tremaining: 1.44s\n",
      "183:\tlearn: 0.1415623\ttotal: 325ms\tremaining: 1.44s\n",
      "184:\tlearn: 0.1412289\ttotal: 326ms\tremaining: 1.44s\n",
      "185:\tlearn: 0.1404319\ttotal: 328ms\tremaining: 1.44s\n",
      "186:\tlearn: 0.1399271\ttotal: 330ms\tremaining: 1.43s\n",
      "187:\tlearn: 0.1391290\ttotal: 331ms\tremaining: 1.43s\n",
      "188:\tlearn: 0.1384558\ttotal: 333ms\tremaining: 1.43s\n",
      "189:\tlearn: 0.1379146\ttotal: 335ms\tremaining: 1.43s\n",
      "190:\tlearn: 0.1373707\ttotal: 337ms\tremaining: 1.43s\n",
      "191:\tlearn: 0.1368827\ttotal: 338ms\tremaining: 1.42s\n",
      "192:\tlearn: 0.1360413\ttotal: 340ms\tremaining: 1.42s\n",
      "193:\tlearn: 0.1354696\ttotal: 342ms\tremaining: 1.42s\n",
      "194:\tlearn: 0.1350251\ttotal: 344ms\tremaining: 1.42s\n",
      "195:\tlearn: 0.1343056\ttotal: 345ms\tremaining: 1.42s\n",
      "196:\tlearn: 0.1337749\ttotal: 347ms\tremaining: 1.41s\n",
      "197:\tlearn: 0.1333976\ttotal: 349ms\tremaining: 1.41s\n",
      "198:\tlearn: 0.1329262\ttotal: 351ms\tremaining: 1.41s\n",
      "199:\tlearn: 0.1321975\ttotal: 352ms\tremaining: 1.41s\n",
      "200:\tlearn: 0.1316264\ttotal: 354ms\tremaining: 1.41s\n",
      "201:\tlearn: 0.1311663\ttotal: 356ms\tremaining: 1.41s\n",
      "202:\tlearn: 0.1304511\ttotal: 358ms\tremaining: 1.4s\n",
      "203:\tlearn: 0.1304151\ttotal: 359ms\tremaining: 1.4s\n",
      "204:\tlearn: 0.1299777\ttotal: 360ms\tremaining: 1.4s\n",
      "205:\tlearn: 0.1296016\ttotal: 362ms\tremaining: 1.4s\n",
      "206:\tlearn: 0.1290574\ttotal: 364ms\tremaining: 1.39s\n",
      "207:\tlearn: 0.1285796\ttotal: 365ms\tremaining: 1.39s\n",
      "208:\tlearn: 0.1277864\ttotal: 367ms\tremaining: 1.39s\n",
      "209:\tlearn: 0.1272995\ttotal: 369ms\tremaining: 1.39s\n",
      "210:\tlearn: 0.1265561\ttotal: 370ms\tremaining: 1.39s\n",
      "211:\tlearn: 0.1262192\ttotal: 372ms\tremaining: 1.38s\n",
      "212:\tlearn: 0.1259020\ttotal: 374ms\tremaining: 1.38s\n",
      "213:\tlearn: 0.1253267\ttotal: 375ms\tremaining: 1.38s\n",
      "214:\tlearn: 0.1247715\ttotal: 377ms\tremaining: 1.38s\n",
      "215:\tlearn: 0.1244449\ttotal: 379ms\tremaining: 1.37s\n",
      "216:\tlearn: 0.1241911\ttotal: 381ms\tremaining: 1.37s\n",
      "217:\tlearn: 0.1237471\ttotal: 382ms\tremaining: 1.37s\n",
      "218:\tlearn: 0.1232369\ttotal: 384ms\tremaining: 1.37s\n",
      "219:\tlearn: 0.1228077\ttotal: 386ms\tremaining: 1.37s\n",
      "220:\tlearn: 0.1221781\ttotal: 388ms\tremaining: 1.37s\n",
      "221:\tlearn: 0.1219948\ttotal: 389ms\tremaining: 1.36s\n",
      "222:\tlearn: 0.1216262\ttotal: 391ms\tremaining: 1.36s\n",
      "223:\tlearn: 0.1212472\ttotal: 393ms\tremaining: 1.36s\n",
      "224:\tlearn: 0.1208043\ttotal: 394ms\tremaining: 1.36s\n",
      "225:\tlearn: 0.1204523\ttotal: 396ms\tremaining: 1.36s\n",
      "226:\tlearn: 0.1199070\ttotal: 398ms\tremaining: 1.35s\n",
      "227:\tlearn: 0.1192222\ttotal: 399ms\tremaining: 1.35s\n",
      "228:\tlearn: 0.1186907\ttotal: 401ms\tremaining: 1.35s\n",
      "229:\tlearn: 0.1183963\ttotal: 403ms\tremaining: 1.35s\n",
      "230:\tlearn: 0.1178478\ttotal: 404ms\tremaining: 1.35s\n",
      "231:\tlearn: 0.1173762\ttotal: 406ms\tremaining: 1.34s\n",
      "232:\tlearn: 0.1169770\ttotal: 408ms\tremaining: 1.34s\n",
      "233:\tlearn: 0.1166272\ttotal: 410ms\tremaining: 1.34s\n",
      "234:\tlearn: 0.1161439\ttotal: 411ms\tremaining: 1.34s\n",
      "235:\tlearn: 0.1155128\ttotal: 413ms\tremaining: 1.34s\n",
      "236:\tlearn: 0.1150399\ttotal: 415ms\tremaining: 1.33s\n",
      "237:\tlearn: 0.1146726\ttotal: 416ms\tremaining: 1.33s\n",
      "238:\tlearn: 0.1142707\ttotal: 418ms\tremaining: 1.33s\n",
      "239:\tlearn: 0.1139232\ttotal: 420ms\tremaining: 1.33s\n",
      "240:\tlearn: 0.1134587\ttotal: 422ms\tremaining: 1.33s\n",
      "241:\tlearn: 0.1131731\ttotal: 423ms\tremaining: 1.33s\n",
      "242:\tlearn: 0.1127337\ttotal: 425ms\tremaining: 1.32s\n",
      "243:\tlearn: 0.1123622\ttotal: 427ms\tremaining: 1.32s\n",
      "244:\tlearn: 0.1119416\ttotal: 429ms\tremaining: 1.32s\n",
      "245:\tlearn: 0.1115426\ttotal: 431ms\tremaining: 1.32s\n",
      "246:\tlearn: 0.1110479\ttotal: 432ms\tremaining: 1.32s\n",
      "247:\tlearn: 0.1106042\ttotal: 434ms\tremaining: 1.32s\n",
      "248:\tlearn: 0.1102369\ttotal: 436ms\tremaining: 1.31s\n",
      "249:\tlearn: 0.1099771\ttotal: 438ms\tremaining: 1.31s\n",
      "250:\tlearn: 0.1095544\ttotal: 439ms\tremaining: 1.31s\n",
      "251:\tlearn: 0.1092419\ttotal: 441ms\tremaining: 1.31s\n",
      "252:\tlearn: 0.1089163\ttotal: 443ms\tremaining: 1.31s\n",
      "253:\tlearn: 0.1085554\ttotal: 444ms\tremaining: 1.3s\n",
      "254:\tlearn: 0.1080426\ttotal: 446ms\tremaining: 1.3s\n",
      "255:\tlearn: 0.1076543\ttotal: 448ms\tremaining: 1.3s\n",
      "256:\tlearn: 0.1073297\ttotal: 449ms\tremaining: 1.3s\n",
      "257:\tlearn: 0.1070744\ttotal: 451ms\tremaining: 1.3s\n",
      "258:\tlearn: 0.1067841\ttotal: 453ms\tremaining: 1.3s\n",
      "259:\tlearn: 0.1064746\ttotal: 455ms\tremaining: 1.29s\n",
      "260:\tlearn: 0.1061289\ttotal: 457ms\tremaining: 1.29s\n",
      "261:\tlearn: 0.1057946\ttotal: 458ms\tremaining: 1.29s\n",
      "262:\tlearn: 0.1054402\ttotal: 460ms\tremaining: 1.29s\n",
      "263:\tlearn: 0.1051476\ttotal: 462ms\tremaining: 1.29s\n",
      "264:\tlearn: 0.1047371\ttotal: 464ms\tremaining: 1.29s\n",
      "265:\tlearn: 0.1044343\ttotal: 465ms\tremaining: 1.28s\n",
      "266:\tlearn: 0.1040860\ttotal: 467ms\tremaining: 1.28s\n",
      "267:\tlearn: 0.1036536\ttotal: 469ms\tremaining: 1.28s\n",
      "268:\tlearn: 0.1034462\ttotal: 471ms\tremaining: 1.28s\n",
      "269:\tlearn: 0.1031618\ttotal: 472ms\tremaining: 1.28s\n",
      "270:\tlearn: 0.1027081\ttotal: 474ms\tremaining: 1.27s\n",
      "271:\tlearn: 0.1024984\ttotal: 476ms\tremaining: 1.27s\n",
      "272:\tlearn: 0.1022171\ttotal: 477ms\tremaining: 1.27s\n",
      "273:\tlearn: 0.1018249\ttotal: 479ms\tremaining: 1.27s\n",
      "274:\tlearn: 0.1015332\ttotal: 480ms\tremaining: 1.27s\n",
      "275:\tlearn: 0.1012616\ttotal: 482ms\tremaining: 1.26s\n",
      "276:\tlearn: 0.1008261\ttotal: 484ms\tremaining: 1.26s\n",
      "277:\tlearn: 0.1008061\ttotal: 485ms\tremaining: 1.26s\n",
      "278:\tlearn: 0.1005417\ttotal: 486ms\tremaining: 1.26s\n",
      "279:\tlearn: 0.1003807\ttotal: 489ms\tremaining: 1.26s\n",
      "280:\tlearn: 0.0998979\ttotal: 490ms\tremaining: 1.25s\n",
      "281:\tlearn: 0.0996068\ttotal: 492ms\tremaining: 1.25s\n",
      "282:\tlearn: 0.0993807\ttotal: 493ms\tremaining: 1.25s\n",
      "283:\tlearn: 0.0990532\ttotal: 495ms\tremaining: 1.25s\n",
      "284:\tlearn: 0.0987544\ttotal: 496ms\tremaining: 1.25s\n",
      "285:\tlearn: 0.0984540\ttotal: 498ms\tremaining: 1.24s\n",
      "286:\tlearn: 0.0982053\ttotal: 500ms\tremaining: 1.24s\n",
      "287:\tlearn: 0.0978834\ttotal: 501ms\tremaining: 1.24s\n",
      "288:\tlearn: 0.0975607\ttotal: 503ms\tremaining: 1.24s\n",
      "289:\tlearn: 0.0971608\ttotal: 505ms\tremaining: 1.24s\n",
      "290:\tlearn: 0.0968448\ttotal: 506ms\tremaining: 1.23s\n",
      "291:\tlearn: 0.0965500\ttotal: 508ms\tremaining: 1.23s\n",
      "292:\tlearn: 0.0962733\ttotal: 509ms\tremaining: 1.23s\n",
      "293:\tlearn: 0.0960119\ttotal: 511ms\tremaining: 1.23s\n",
      "294:\tlearn: 0.0956104\ttotal: 512ms\tremaining: 1.22s\n",
      "295:\tlearn: 0.0953995\ttotal: 514ms\tremaining: 1.22s\n",
      "296:\tlearn: 0.0951528\ttotal: 516ms\tremaining: 1.22s\n",
      "297:\tlearn: 0.0948468\ttotal: 517ms\tremaining: 1.22s\n",
      "298:\tlearn: 0.0944878\ttotal: 519ms\tremaining: 1.22s\n",
      "299:\tlearn: 0.0941320\ttotal: 520ms\tremaining: 1.21s\n",
      "300:\tlearn: 0.0938982\ttotal: 522ms\tremaining: 1.21s\n",
      "301:\tlearn: 0.0935758\ttotal: 524ms\tremaining: 1.21s\n",
      "302:\tlearn: 0.0932993\ttotal: 525ms\tremaining: 1.21s\n",
      "303:\tlearn: 0.0929990\ttotal: 527ms\tremaining: 1.21s\n",
      "304:\tlearn: 0.0926300\ttotal: 528ms\tremaining: 1.2s\n",
      "305:\tlearn: 0.0923730\ttotal: 530ms\tremaining: 1.2s\n",
      "306:\tlearn: 0.0920236\ttotal: 532ms\tremaining: 1.2s\n",
      "307:\tlearn: 0.0917815\ttotal: 533ms\tremaining: 1.2s\n",
      "308:\tlearn: 0.0914654\ttotal: 535ms\tremaining: 1.2s\n",
      "309:\tlearn: 0.0912546\ttotal: 536ms\tremaining: 1.19s\n",
      "310:\tlearn: 0.0911104\ttotal: 538ms\tremaining: 1.19s\n",
      "311:\tlearn: 0.0908837\ttotal: 540ms\tremaining: 1.19s\n",
      "312:\tlearn: 0.0905632\ttotal: 541ms\tremaining: 1.19s\n",
      "313:\tlearn: 0.0902796\ttotal: 543ms\tremaining: 1.19s\n",
      "314:\tlearn: 0.0900463\ttotal: 544ms\tremaining: 1.18s\n",
      "315:\tlearn: 0.0896979\ttotal: 546ms\tremaining: 1.18s\n",
      "316:\tlearn: 0.0893601\ttotal: 547ms\tremaining: 1.18s\n",
      "317:\tlearn: 0.0890627\ttotal: 549ms\tremaining: 1.18s\n",
      "318:\tlearn: 0.0888422\ttotal: 551ms\tremaining: 1.18s\n",
      "319:\tlearn: 0.0885328\ttotal: 552ms\tremaining: 1.17s\n",
      "320:\tlearn: 0.0882090\ttotal: 554ms\tremaining: 1.17s\n",
      "321:\tlearn: 0.0879125\ttotal: 555ms\tremaining: 1.17s\n",
      "322:\tlearn: 0.0876463\ttotal: 557ms\tremaining: 1.17s\n",
      "323:\tlearn: 0.0873166\ttotal: 558ms\tremaining: 1.17s\n",
      "324:\tlearn: 0.0870615\ttotal: 560ms\tremaining: 1.16s\n",
      "325:\tlearn: 0.0867511\ttotal: 562ms\tremaining: 1.16s\n",
      "326:\tlearn: 0.0865783\ttotal: 563ms\tremaining: 1.16s\n",
      "327:\tlearn: 0.0863496\ttotal: 565ms\tremaining: 1.16s\n",
      "328:\tlearn: 0.0862241\ttotal: 566ms\tremaining: 1.15s\n",
      "329:\tlearn: 0.0860825\ttotal: 568ms\tremaining: 1.15s\n",
      "330:\tlearn: 0.0857202\ttotal: 569ms\tremaining: 1.15s\n",
      "331:\tlearn: 0.0854907\ttotal: 571ms\tremaining: 1.15s\n",
      "332:\tlearn: 0.0852353\ttotal: 572ms\tremaining: 1.15s\n",
      "333:\tlearn: 0.0849578\ttotal: 574ms\tremaining: 1.14s\n",
      "334:\tlearn: 0.0847509\ttotal: 575ms\tremaining: 1.14s\n",
      "335:\tlearn: 0.0845624\ttotal: 577ms\tremaining: 1.14s\n",
      "336:\tlearn: 0.0843247\ttotal: 579ms\tremaining: 1.14s\n",
      "337:\tlearn: 0.0841417\ttotal: 581ms\tremaining: 1.14s\n",
      "338:\tlearn: 0.0839144\ttotal: 582ms\tremaining: 1.14s\n",
      "339:\tlearn: 0.0837014\ttotal: 584ms\tremaining: 1.13s\n",
      "340:\tlearn: 0.0834609\ttotal: 586ms\tremaining: 1.13s\n",
      "341:\tlearn: 0.0832609\ttotal: 587ms\tremaining: 1.13s\n",
      "342:\tlearn: 0.0830506\ttotal: 589ms\tremaining: 1.13s\n",
      "343:\tlearn: 0.0827703\ttotal: 591ms\tremaining: 1.13s\n",
      "344:\tlearn: 0.0825579\ttotal: 592ms\tremaining: 1.12s\n",
      "345:\tlearn: 0.0823288\ttotal: 594ms\tremaining: 1.12s\n",
      "346:\tlearn: 0.0821041\ttotal: 595ms\tremaining: 1.12s\n",
      "347:\tlearn: 0.0818440\ttotal: 597ms\tremaining: 1.12s\n",
      "348:\tlearn: 0.0816449\ttotal: 599ms\tremaining: 1.12s\n",
      "349:\tlearn: 0.0812785\ttotal: 600ms\tremaining: 1.11s\n",
      "350:\tlearn: 0.0811282\ttotal: 602ms\tremaining: 1.11s\n",
      "351:\tlearn: 0.0809177\ttotal: 603ms\tremaining: 1.11s\n",
      "352:\tlearn: 0.0807153\ttotal: 605ms\tremaining: 1.11s\n",
      "353:\tlearn: 0.0805092\ttotal: 607ms\tremaining: 1.11s\n",
      "354:\tlearn: 0.0804575\ttotal: 608ms\tremaining: 1.1s\n",
      "355:\tlearn: 0.0801682\ttotal: 610ms\tremaining: 1.1s\n",
      "356:\tlearn: 0.0799924\ttotal: 611ms\tremaining: 1.1s\n",
      "357:\tlearn: 0.0798133\ttotal: 613ms\tremaining: 1.1s\n",
      "358:\tlearn: 0.0796324\ttotal: 614ms\tremaining: 1.1s\n",
      "359:\tlearn: 0.0794402\ttotal: 616ms\tremaining: 1.09s\n",
      "360:\tlearn: 0.0791857\ttotal: 618ms\tremaining: 1.09s\n",
      "361:\tlearn: 0.0789518\ttotal: 619ms\tremaining: 1.09s\n",
      "362:\tlearn: 0.0787189\ttotal: 621ms\tremaining: 1.09s\n",
      "363:\tlearn: 0.0784934\ttotal: 623ms\tremaining: 1.09s\n",
      "364:\tlearn: 0.0782406\ttotal: 624ms\tremaining: 1.09s\n",
      "365:\tlearn: 0.0780373\ttotal: 626ms\tremaining: 1.08s\n",
      "366:\tlearn: 0.0777996\ttotal: 628ms\tremaining: 1.08s\n",
      "367:\tlearn: 0.0775741\ttotal: 629ms\tremaining: 1.08s\n",
      "368:\tlearn: 0.0773696\ttotal: 631ms\tremaining: 1.08s\n",
      "369:\tlearn: 0.0772204\ttotal: 632ms\tremaining: 1.08s\n",
      "370:\tlearn: 0.0770642\ttotal: 634ms\tremaining: 1.07s\n",
      "371:\tlearn: 0.0769154\ttotal: 636ms\tremaining: 1.07s\n",
      "372:\tlearn: 0.0767557\ttotal: 637ms\tremaining: 1.07s\n"
     ]
    },
    {
     "name": "stdout",
     "output_type": "stream",
     "text": [
      "373:\tlearn: 0.0765254\ttotal: 639ms\tremaining: 1.07s\n",
      "374:\tlearn: 0.0763349\ttotal: 641ms\tremaining: 1.07s\n",
      "375:\tlearn: 0.0760980\ttotal: 642ms\tremaining: 1.06s\n",
      "376:\tlearn: 0.0758418\ttotal: 644ms\tremaining: 1.06s\n",
      "377:\tlearn: 0.0755773\ttotal: 646ms\tremaining: 1.06s\n",
      "378:\tlearn: 0.0754026\ttotal: 647ms\tremaining: 1.06s\n",
      "379:\tlearn: 0.0752515\ttotal: 649ms\tremaining: 1.06s\n",
      "380:\tlearn: 0.0751134\ttotal: 651ms\tremaining: 1.06s\n",
      "381:\tlearn: 0.0748769\ttotal: 653ms\tremaining: 1.05s\n",
      "382:\tlearn: 0.0746437\ttotal: 654ms\tremaining: 1.05s\n",
      "383:\tlearn: 0.0744283\ttotal: 656ms\tremaining: 1.05s\n",
      "384:\tlearn: 0.0741415\ttotal: 657ms\tremaining: 1.05s\n",
      "385:\tlearn: 0.0738992\ttotal: 659ms\tremaining: 1.05s\n",
      "386:\tlearn: 0.0736634\ttotal: 661ms\tremaining: 1.05s\n",
      "387:\tlearn: 0.0734912\ttotal: 662ms\tremaining: 1.04s\n",
      "388:\tlearn: 0.0732936\ttotal: 664ms\tremaining: 1.04s\n",
      "389:\tlearn: 0.0731821\ttotal: 666ms\tremaining: 1.04s\n",
      "390:\tlearn: 0.0729617\ttotal: 668ms\tremaining: 1.04s\n",
      "391:\tlearn: 0.0728609\ttotal: 670ms\tremaining: 1.04s\n",
      "392:\tlearn: 0.0726968\ttotal: 671ms\tremaining: 1.04s\n",
      "393:\tlearn: 0.0724436\ttotal: 673ms\tremaining: 1.03s\n",
      "394:\tlearn: 0.0723312\ttotal: 674ms\tremaining: 1.03s\n",
      "395:\tlearn: 0.0721552\ttotal: 676ms\tremaining: 1.03s\n",
      "396:\tlearn: 0.0719983\ttotal: 677ms\tremaining: 1.03s\n",
      "397:\tlearn: 0.0718727\ttotal: 679ms\tremaining: 1.03s\n",
      "398:\tlearn: 0.0717034\ttotal: 681ms\tremaining: 1.02s\n",
      "399:\tlearn: 0.0714878\ttotal: 682ms\tremaining: 1.02s\n",
      "400:\tlearn: 0.0712799\ttotal: 684ms\tremaining: 1.02s\n",
      "401:\tlearn: 0.0711171\ttotal: 685ms\tremaining: 1.02s\n",
      "402:\tlearn: 0.0708769\ttotal: 687ms\tremaining: 1.02s\n",
      "403:\tlearn: 0.0706332\ttotal: 688ms\tremaining: 1.01s\n",
      "404:\tlearn: 0.0704478\ttotal: 690ms\tremaining: 1.01s\n",
      "405:\tlearn: 0.0702696\ttotal: 692ms\tremaining: 1.01s\n",
      "406:\tlearn: 0.0701178\ttotal: 694ms\tremaining: 1.01s\n",
      "407:\tlearn: 0.0699668\ttotal: 695ms\tremaining: 1.01s\n",
      "408:\tlearn: 0.0698255\ttotal: 696ms\tremaining: 1.01s\n",
      "409:\tlearn: 0.0696849\ttotal: 698ms\tremaining: 1s\n",
      "410:\tlearn: 0.0694812\ttotal: 700ms\tremaining: 1s\n",
      "411:\tlearn: 0.0691904\ttotal: 701ms\tremaining: 1s\n",
      "412:\tlearn: 0.0690791\ttotal: 703ms\tremaining: 999ms\n",
      "413:\tlearn: 0.0689882\ttotal: 704ms\tremaining: 997ms\n",
      "414:\tlearn: 0.0687921\ttotal: 706ms\tremaining: 995ms\n",
      "415:\tlearn: 0.0686549\ttotal: 707ms\tremaining: 993ms\n",
      "416:\tlearn: 0.0685036\ttotal: 709ms\tremaining: 991ms\n",
      "417:\tlearn: 0.0683683\ttotal: 711ms\tremaining: 989ms\n",
      "418:\tlearn: 0.0681940\ttotal: 712ms\tremaining: 987ms\n",
      "419:\tlearn: 0.0680564\ttotal: 714ms\tremaining: 986ms\n",
      "420:\tlearn: 0.0679120\ttotal: 715ms\tremaining: 984ms\n",
      "421:\tlearn: 0.0678892\ttotal: 716ms\tremaining: 981ms\n",
      "422:\tlearn: 0.0676633\ttotal: 718ms\tremaining: 979ms\n",
      "423:\tlearn: 0.0675111\ttotal: 720ms\tremaining: 978ms\n",
      "424:\tlearn: 0.0673391\ttotal: 721ms\tremaining: 976ms\n",
      "425:\tlearn: 0.0671598\ttotal: 723ms\tremaining: 974ms\n",
      "426:\tlearn: 0.0670108\ttotal: 724ms\tremaining: 972ms\n",
      "427:\tlearn: 0.0667918\ttotal: 726ms\tremaining: 970ms\n",
      "428:\tlearn: 0.0665851\ttotal: 727ms\tremaining: 968ms\n",
      "429:\tlearn: 0.0664555\ttotal: 729ms\tremaining: 966ms\n",
      "430:\tlearn: 0.0663133\ttotal: 730ms\tremaining: 964ms\n",
      "431:\tlearn: 0.0661739\ttotal: 732ms\tremaining: 962ms\n",
      "432:\tlearn: 0.0660180\ttotal: 734ms\tremaining: 961ms\n",
      "433:\tlearn: 0.0658382\ttotal: 735ms\tremaining: 959ms\n",
      "434:\tlearn: 0.0656237\ttotal: 737ms\tremaining: 957ms\n",
      "435:\tlearn: 0.0654731\ttotal: 738ms\tremaining: 955ms\n",
      "436:\tlearn: 0.0653533\ttotal: 740ms\tremaining: 953ms\n",
      "437:\tlearn: 0.0652070\ttotal: 741ms\tremaining: 951ms\n",
      "438:\tlearn: 0.0650610\ttotal: 743ms\tremaining: 949ms\n",
      "439:\tlearn: 0.0648924\ttotal: 744ms\tremaining: 947ms\n",
      "440:\tlearn: 0.0647689\ttotal: 746ms\tremaining: 946ms\n",
      "441:\tlearn: 0.0646632\ttotal: 748ms\tremaining: 944ms\n",
      "442:\tlearn: 0.0644834\ttotal: 749ms\tremaining: 942ms\n",
      "443:\tlearn: 0.0643362\ttotal: 751ms\tremaining: 940ms\n",
      "444:\tlearn: 0.0641777\ttotal: 752ms\tremaining: 938ms\n",
      "445:\tlearn: 0.0640218\ttotal: 754ms\tremaining: 936ms\n",
      "446:\tlearn: 0.0638736\ttotal: 755ms\tremaining: 935ms\n",
      "447:\tlearn: 0.0637475\ttotal: 757ms\tremaining: 933ms\n",
      "448:\tlearn: 0.0635979\ttotal: 759ms\tremaining: 931ms\n",
      "449:\tlearn: 0.0634604\ttotal: 760ms\tremaining: 929ms\n",
      "450:\tlearn: 0.0632402\ttotal: 762ms\tremaining: 927ms\n",
      "451:\tlearn: 0.0630921\ttotal: 763ms\tremaining: 925ms\n",
      "452:\tlearn: 0.0628697\ttotal: 765ms\tremaining: 924ms\n",
      "453:\tlearn: 0.0627384\ttotal: 767ms\tremaining: 922ms\n",
      "454:\tlearn: 0.0625057\ttotal: 768ms\tremaining: 920ms\n",
      "455:\tlearn: 0.0622911\ttotal: 770ms\tremaining: 919ms\n",
      "456:\tlearn: 0.0621440\ttotal: 772ms\tremaining: 917ms\n",
      "457:\tlearn: 0.0619420\ttotal: 774ms\tremaining: 916ms\n",
      "458:\tlearn: 0.0617633\ttotal: 775ms\tremaining: 914ms\n",
      "459:\tlearn: 0.0616047\ttotal: 777ms\tremaining: 912ms\n",
      "460:\tlearn: 0.0614793\ttotal: 779ms\tremaining: 910ms\n",
      "461:\tlearn: 0.0613419\ttotal: 780ms\tremaining: 909ms\n",
      "462:\tlearn: 0.0611704\ttotal: 782ms\tremaining: 907ms\n",
      "463:\tlearn: 0.0609798\ttotal: 784ms\tremaining: 905ms\n",
      "464:\tlearn: 0.0608577\ttotal: 785ms\tremaining: 904ms\n",
      "465:\tlearn: 0.0607158\ttotal: 787ms\tremaining: 902ms\n",
      "466:\tlearn: 0.0605945\ttotal: 789ms\tremaining: 900ms\n",
      "467:\tlearn: 0.0604858\ttotal: 790ms\tremaining: 898ms\n",
      "468:\tlearn: 0.0604488\ttotal: 791ms\tremaining: 896ms\n",
      "469:\tlearn: 0.0603199\ttotal: 793ms\tremaining: 894ms\n",
      "470:\tlearn: 0.0601975\ttotal: 794ms\tremaining: 892ms\n",
      "471:\tlearn: 0.0600926\ttotal: 796ms\tremaining: 890ms\n",
      "472:\tlearn: 0.0599271\ttotal: 798ms\tremaining: 889ms\n",
      "473:\tlearn: 0.0597930\ttotal: 799ms\tremaining: 887ms\n",
      "474:\tlearn: 0.0596303\ttotal: 801ms\tremaining: 885ms\n",
      "475:\tlearn: 0.0595008\ttotal: 802ms\tremaining: 883ms\n",
      "476:\tlearn: 0.0593861\ttotal: 804ms\tremaining: 882ms\n",
      "477:\tlearn: 0.0592703\ttotal: 806ms\tremaining: 880ms\n",
      "478:\tlearn: 0.0590900\ttotal: 808ms\tremaining: 879ms\n",
      "479:\tlearn: 0.0589627\ttotal: 809ms\tremaining: 877ms\n",
      "480:\tlearn: 0.0588401\ttotal: 811ms\tremaining: 875ms\n",
      "481:\tlearn: 0.0587146\ttotal: 812ms\tremaining: 873ms\n",
      "482:\tlearn: 0.0585767\ttotal: 814ms\tremaining: 871ms\n",
      "483:\tlearn: 0.0584132\ttotal: 816ms\tremaining: 869ms\n",
      "484:\tlearn: 0.0582844\ttotal: 817ms\tremaining: 868ms\n",
      "485:\tlearn: 0.0581937\ttotal: 819ms\tremaining: 866ms\n",
      "486:\tlearn: 0.0580477\ttotal: 821ms\tremaining: 864ms\n",
      "487:\tlearn: 0.0578878\ttotal: 822ms\tremaining: 863ms\n",
      "488:\tlearn: 0.0578068\ttotal: 824ms\tremaining: 861ms\n",
      "489:\tlearn: 0.0576785\ttotal: 825ms\tremaining: 859ms\n",
      "490:\tlearn: 0.0575772\ttotal: 827ms\tremaining: 857ms\n",
      "491:\tlearn: 0.0574335\ttotal: 828ms\tremaining: 855ms\n",
      "492:\tlearn: 0.0572980\ttotal: 830ms\tremaining: 853ms\n",
      "493:\tlearn: 0.0572907\ttotal: 831ms\tremaining: 851ms\n",
      "494:\tlearn: 0.0571067\ttotal: 832ms\tremaining: 849ms\n",
      "495:\tlearn: 0.0569563\ttotal: 834ms\tremaining: 847ms\n",
      "496:\tlearn: 0.0568169\ttotal: 835ms\tremaining: 846ms\n",
      "497:\tlearn: 0.0567124\ttotal: 837ms\tremaining: 844ms\n",
      "498:\tlearn: 0.0566097\ttotal: 839ms\tremaining: 842ms\n",
      "499:\tlearn: 0.0564905\ttotal: 840ms\tremaining: 840ms\n",
      "500:\tlearn: 0.0563773\ttotal: 842ms\tremaining: 838ms\n",
      "501:\tlearn: 0.0562363\ttotal: 843ms\tremaining: 836ms\n",
      "502:\tlearn: 0.0560925\ttotal: 845ms\tremaining: 835ms\n",
      "503:\tlearn: 0.0559513\ttotal: 846ms\tremaining: 833ms\n",
      "504:\tlearn: 0.0558504\ttotal: 848ms\tremaining: 831ms\n",
      "505:\tlearn: 0.0557562\ttotal: 849ms\tremaining: 829ms\n",
      "506:\tlearn: 0.0556556\ttotal: 851ms\tremaining: 827ms\n",
      "507:\tlearn: 0.0555573\ttotal: 852ms\tremaining: 826ms\n",
      "508:\tlearn: 0.0554239\ttotal: 854ms\tremaining: 824ms\n",
      "509:\tlearn: 0.0553147\ttotal: 856ms\tremaining: 822ms\n",
      "510:\tlearn: 0.0551894\ttotal: 857ms\tremaining: 820ms\n",
      "511:\tlearn: 0.0550633\ttotal: 859ms\tremaining: 818ms\n",
      "512:\tlearn: 0.0549677\ttotal: 860ms\tremaining: 817ms\n",
      "513:\tlearn: 0.0548458\ttotal: 862ms\tremaining: 815ms\n",
      "514:\tlearn: 0.0546917\ttotal: 864ms\tremaining: 813ms\n",
      "515:\tlearn: 0.0545449\ttotal: 865ms\tremaining: 811ms\n",
      "516:\tlearn: 0.0543638\ttotal: 867ms\tremaining: 810ms\n",
      "517:\tlearn: 0.0542778\ttotal: 868ms\tremaining: 808ms\n",
      "518:\tlearn: 0.0541066\ttotal: 870ms\tremaining: 806ms\n",
      "519:\tlearn: 0.0540054\ttotal: 872ms\tremaining: 804ms\n",
      "520:\tlearn: 0.0539036\ttotal: 873ms\tremaining: 803ms\n",
      "521:\tlearn: 0.0537431\ttotal: 875ms\tremaining: 801ms\n",
      "522:\tlearn: 0.0535891\ttotal: 876ms\tremaining: 799ms\n",
      "523:\tlearn: 0.0534933\ttotal: 878ms\tremaining: 797ms\n",
      "524:\tlearn: 0.0533522\ttotal: 879ms\tremaining: 796ms\n",
      "525:\tlearn: 0.0532305\ttotal: 881ms\tremaining: 794ms\n",
      "526:\tlearn: 0.0531286\ttotal: 883ms\tremaining: 792ms\n",
      "527:\tlearn: 0.0530589\ttotal: 884ms\tremaining: 790ms\n",
      "528:\tlearn: 0.0529527\ttotal: 886ms\tremaining: 789ms\n",
      "529:\tlearn: 0.0528295\ttotal: 887ms\tremaining: 787ms\n",
      "530:\tlearn: 0.0527182\ttotal: 889ms\tremaining: 785ms\n",
      "531:\tlearn: 0.0526282\ttotal: 890ms\tremaining: 783ms\n",
      "532:\tlearn: 0.0525891\ttotal: 891ms\tremaining: 781ms\n",
      "533:\tlearn: 0.0524307\ttotal: 893ms\tremaining: 779ms\n",
      "534:\tlearn: 0.0523366\ttotal: 895ms\tremaining: 778ms\n",
      "535:\tlearn: 0.0522505\ttotal: 896ms\tremaining: 776ms\n",
      "536:\tlearn: 0.0521576\ttotal: 898ms\tremaining: 774ms\n",
      "537:\tlearn: 0.0521234\ttotal: 899ms\tremaining: 772ms\n",
      "538:\tlearn: 0.0519400\ttotal: 901ms\tremaining: 770ms\n",
      "539:\tlearn: 0.0518210\ttotal: 902ms\tremaining: 769ms\n",
      "540:\tlearn: 0.0516748\ttotal: 904ms\tremaining: 767ms\n",
      "541:\tlearn: 0.0515557\ttotal: 905ms\tremaining: 765ms\n",
      "542:\tlearn: 0.0514109\ttotal: 907ms\tremaining: 763ms\n",
      "543:\tlearn: 0.0513262\ttotal: 909ms\tremaining: 762ms\n",
      "544:\tlearn: 0.0512301\ttotal: 910ms\tremaining: 760ms\n",
      "545:\tlearn: 0.0511170\ttotal: 912ms\tremaining: 758ms\n",
      "546:\tlearn: 0.0510128\ttotal: 913ms\tremaining: 756ms\n",
      "547:\tlearn: 0.0509318\ttotal: 915ms\tremaining: 755ms\n",
      "548:\tlearn: 0.0508427\ttotal: 917ms\tremaining: 753ms\n",
      "549:\tlearn: 0.0507001\ttotal: 918ms\tremaining: 751ms\n",
      "550:\tlearn: 0.0506064\ttotal: 920ms\tremaining: 750ms\n",
      "551:\tlearn: 0.0505098\ttotal: 921ms\tremaining: 748ms\n",
      "552:\tlearn: 0.0503789\ttotal: 923ms\tremaining: 746ms\n",
      "553:\tlearn: 0.0502911\ttotal: 925ms\tremaining: 744ms\n",
      "554:\tlearn: 0.0501700\ttotal: 926ms\tremaining: 743ms\n",
      "555:\tlearn: 0.0500279\ttotal: 928ms\tremaining: 741ms\n",
      "556:\tlearn: 0.0498928\ttotal: 929ms\tremaining: 739ms\n",
      "557:\tlearn: 0.0497603\ttotal: 931ms\tremaining: 737ms\n",
      "558:\tlearn: 0.0496295\ttotal: 933ms\tremaining: 736ms\n",
      "559:\tlearn: 0.0495174\ttotal: 934ms\tremaining: 734ms\n",
      "560:\tlearn: 0.0494292\ttotal: 936ms\tremaining: 732ms\n",
      "561:\tlearn: 0.0493313\ttotal: 937ms\tremaining: 730ms\n",
      "562:\tlearn: 0.0492711\ttotal: 939ms\tremaining: 729ms\n",
      "563:\tlearn: 0.0491649\ttotal: 940ms\tremaining: 727ms\n",
      "564:\tlearn: 0.0490521\ttotal: 942ms\tremaining: 725ms\n",
      "565:\tlearn: 0.0489508\ttotal: 944ms\tremaining: 723ms\n",
      "566:\tlearn: 0.0488564\ttotal: 945ms\tremaining: 722ms\n",
      "567:\tlearn: 0.0487828\ttotal: 947ms\tremaining: 720ms\n",
      "568:\tlearn: 0.0487087\ttotal: 948ms\tremaining: 718ms\n",
      "569:\tlearn: 0.0486155\ttotal: 950ms\tremaining: 717ms\n",
      "570:\tlearn: 0.0484807\ttotal: 952ms\tremaining: 715ms\n",
      "571:\tlearn: 0.0483570\ttotal: 953ms\tremaining: 713ms\n",
      "572:\tlearn: 0.0482702\ttotal: 955ms\tremaining: 711ms\n",
      "573:\tlearn: 0.0481455\ttotal: 956ms\tremaining: 710ms\n",
      "574:\tlearn: 0.0480223\ttotal: 958ms\tremaining: 708ms\n",
      "575:\tlearn: 0.0479126\ttotal: 959ms\tremaining: 706ms\n",
      "576:\tlearn: 0.0478216\ttotal: 961ms\tremaining: 704ms\n",
      "577:\tlearn: 0.0477254\ttotal: 962ms\tremaining: 703ms\n",
      "578:\tlearn: 0.0476233\ttotal: 964ms\tremaining: 701ms\n",
      "579:\tlearn: 0.0475284\ttotal: 966ms\tremaining: 699ms\n",
      "580:\tlearn: 0.0474249\ttotal: 967ms\tremaining: 698ms\n",
      "581:\tlearn: 0.0473305\ttotal: 969ms\tremaining: 696ms\n",
      "582:\tlearn: 0.0472112\ttotal: 970ms\tremaining: 694ms\n",
      "583:\tlearn: 0.0471020\ttotal: 972ms\tremaining: 692ms\n",
      "584:\tlearn: 0.0469857\ttotal: 973ms\tremaining: 691ms\n",
      "585:\tlearn: 0.0468846\ttotal: 975ms\tremaining: 689ms\n"
     ]
    },
    {
     "name": "stdout",
     "output_type": "stream",
     "text": [
      "586:\tlearn: 0.0467718\ttotal: 977ms\tremaining: 688ms\n",
      "587:\tlearn: 0.0466555\ttotal: 979ms\tremaining: 686ms\n",
      "588:\tlearn: 0.0465460\ttotal: 981ms\tremaining: 684ms\n",
      "589:\tlearn: 0.0464803\ttotal: 983ms\tremaining: 683ms\n",
      "590:\tlearn: 0.0463800\ttotal: 984ms\tremaining: 681ms\n",
      "591:\tlearn: 0.0462889\ttotal: 986ms\tremaining: 680ms\n",
      "592:\tlearn: 0.0461870\ttotal: 988ms\tremaining: 678ms\n",
      "593:\tlearn: 0.0460779\ttotal: 989ms\tremaining: 676ms\n",
      "594:\tlearn: 0.0459874\ttotal: 991ms\tremaining: 674ms\n",
      "595:\tlearn: 0.0458853\ttotal: 992ms\tremaining: 673ms\n",
      "596:\tlearn: 0.0458101\ttotal: 994ms\tremaining: 671ms\n",
      "597:\tlearn: 0.0457252\ttotal: 996ms\tremaining: 669ms\n",
      "598:\tlearn: 0.0456141\ttotal: 997ms\tremaining: 667ms\n",
      "599:\tlearn: 0.0455178\ttotal: 999ms\tremaining: 666ms\n",
      "600:\tlearn: 0.0453973\ttotal: 1s\tremaining: 664ms\n",
      "601:\tlearn: 0.0452969\ttotal: 1s\tremaining: 662ms\n",
      "602:\tlearn: 0.0451946\ttotal: 1s\tremaining: 661ms\n",
      "603:\tlearn: 0.0451204\ttotal: 1s\tremaining: 659ms\n",
      "604:\tlearn: 0.0450589\ttotal: 1.01s\tremaining: 657ms\n",
      "605:\tlearn: 0.0449790\ttotal: 1.01s\tremaining: 656ms\n",
      "606:\tlearn: 0.0448676\ttotal: 1.01s\tremaining: 654ms\n",
      "607:\tlearn: 0.0447586\ttotal: 1.01s\tremaining: 652ms\n",
      "608:\tlearn: 0.0446872\ttotal: 1.01s\tremaining: 650ms\n",
      "609:\tlearn: 0.0446012\ttotal: 1.01s\tremaining: 649ms\n",
      "610:\tlearn: 0.0444946\ttotal: 1.02s\tremaining: 647ms\n",
      "611:\tlearn: 0.0444043\ttotal: 1.02s\tremaining: 645ms\n",
      "612:\tlearn: 0.0442912\ttotal: 1.02s\tremaining: 643ms\n",
      "613:\tlearn: 0.0442243\ttotal: 1.02s\tremaining: 642ms\n",
      "614:\tlearn: 0.0441451\ttotal: 1.02s\tremaining: 640ms\n",
      "615:\tlearn: 0.0440511\ttotal: 1.02s\tremaining: 638ms\n",
      "616:\tlearn: 0.0439782\ttotal: 1.02s\tremaining: 637ms\n",
      "617:\tlearn: 0.0438882\ttotal: 1.03s\tremaining: 635ms\n",
      "618:\tlearn: 0.0438011\ttotal: 1.03s\tremaining: 633ms\n",
      "619:\tlearn: 0.0437220\ttotal: 1.03s\tremaining: 631ms\n",
      "620:\tlearn: 0.0436365\ttotal: 1.03s\tremaining: 630ms\n",
      "621:\tlearn: 0.0435004\ttotal: 1.03s\tremaining: 628ms\n",
      "622:\tlearn: 0.0433793\ttotal: 1.03s\tremaining: 626ms\n",
      "623:\tlearn: 0.0432680\ttotal: 1.04s\tremaining: 625ms\n",
      "624:\tlearn: 0.0431451\ttotal: 1.04s\tremaining: 623ms\n",
      "625:\tlearn: 0.0430728\ttotal: 1.04s\tremaining: 621ms\n",
      "626:\tlearn: 0.0429959\ttotal: 1.04s\tremaining: 620ms\n",
      "627:\tlearn: 0.0429025\ttotal: 1.04s\tremaining: 618ms\n",
      "628:\tlearn: 0.0428177\ttotal: 1.04s\tremaining: 616ms\n",
      "629:\tlearn: 0.0426885\ttotal: 1.05s\tremaining: 614ms\n",
      "630:\tlearn: 0.0426008\ttotal: 1.05s\tremaining: 613ms\n",
      "631:\tlearn: 0.0425158\ttotal: 1.05s\tremaining: 611ms\n",
      "632:\tlearn: 0.0423841\ttotal: 1.05s\tremaining: 609ms\n",
      "633:\tlearn: 0.0423033\ttotal: 1.05s\tremaining: 608ms\n",
      "634:\tlearn: 0.0421825\ttotal: 1.05s\tremaining: 606ms\n",
      "635:\tlearn: 0.0420640\ttotal: 1.05s\tremaining: 604ms\n",
      "636:\tlearn: 0.0420168\ttotal: 1.06s\tremaining: 602ms\n",
      "637:\tlearn: 0.0419317\ttotal: 1.06s\tremaining: 600ms\n",
      "638:\tlearn: 0.0418484\ttotal: 1.06s\tremaining: 599ms\n",
      "639:\tlearn: 0.0417644\ttotal: 1.06s\tremaining: 597ms\n",
      "640:\tlearn: 0.0417025\ttotal: 1.06s\tremaining: 595ms\n",
      "641:\tlearn: 0.0416046\ttotal: 1.06s\tremaining: 594ms\n",
      "642:\tlearn: 0.0414954\ttotal: 1.07s\tremaining: 592ms\n",
      "643:\tlearn: 0.0413794\ttotal: 1.07s\tremaining: 590ms\n",
      "644:\tlearn: 0.0413042\ttotal: 1.07s\tremaining: 589ms\n",
      "645:\tlearn: 0.0411971\ttotal: 1.07s\tremaining: 587ms\n",
      "646:\tlearn: 0.0410814\ttotal: 1.07s\tremaining: 585ms\n",
      "647:\tlearn: 0.0410222\ttotal: 1.07s\tremaining: 583ms\n",
      "648:\tlearn: 0.0409271\ttotal: 1.07s\tremaining: 582ms\n",
      "649:\tlearn: 0.0408342\ttotal: 1.08s\tremaining: 580ms\n",
      "650:\tlearn: 0.0407522\ttotal: 1.08s\tremaining: 578ms\n",
      "651:\tlearn: 0.0406918\ttotal: 1.08s\tremaining: 577ms\n",
      "652:\tlearn: 0.0406205\ttotal: 1.08s\tremaining: 575ms\n",
      "653:\tlearn: 0.0405144\ttotal: 1.08s\tremaining: 573ms\n",
      "654:\tlearn: 0.0404485\ttotal: 1.08s\tremaining: 572ms\n",
      "655:\tlearn: 0.0403568\ttotal: 1.09s\tremaining: 570ms\n",
      "656:\tlearn: 0.0402945\ttotal: 1.09s\tremaining: 568ms\n",
      "657:\tlearn: 0.0402138\ttotal: 1.09s\tremaining: 566ms\n",
      "658:\tlearn: 0.0401270\ttotal: 1.09s\tremaining: 565ms\n",
      "659:\tlearn: 0.0400600\ttotal: 1.09s\tremaining: 563ms\n",
      "660:\tlearn: 0.0399530\ttotal: 1.09s\tremaining: 561ms\n",
      "661:\tlearn: 0.0398479\ttotal: 1.1s\tremaining: 560ms\n",
      "662:\tlearn: 0.0397643\ttotal: 1.1s\tremaining: 558ms\n",
      "663:\tlearn: 0.0396772\ttotal: 1.1s\tremaining: 556ms\n",
      "664:\tlearn: 0.0396050\ttotal: 1.1s\tremaining: 555ms\n",
      "665:\tlearn: 0.0395316\ttotal: 1.1s\tremaining: 553ms\n",
      "666:\tlearn: 0.0394485\ttotal: 1.1s\tremaining: 551ms\n",
      "667:\tlearn: 0.0393713\ttotal: 1.1s\tremaining: 549ms\n",
      "668:\tlearn: 0.0393106\ttotal: 1.11s\tremaining: 548ms\n",
      "669:\tlearn: 0.0392355\ttotal: 1.11s\tremaining: 546ms\n",
      "670:\tlearn: 0.0391625\ttotal: 1.11s\tremaining: 544ms\n",
      "671:\tlearn: 0.0391022\ttotal: 1.11s\tremaining: 543ms\n",
      "672:\tlearn: 0.0390292\ttotal: 1.11s\tremaining: 541ms\n",
      "673:\tlearn: 0.0389511\ttotal: 1.11s\tremaining: 539ms\n",
      "674:\tlearn: 0.0388835\ttotal: 1.12s\tremaining: 538ms\n",
      "675:\tlearn: 0.0387942\ttotal: 1.12s\tremaining: 536ms\n",
      "676:\tlearn: 0.0386741\ttotal: 1.12s\tremaining: 534ms\n",
      "677:\tlearn: 0.0385968\ttotal: 1.12s\tremaining: 533ms\n",
      "678:\tlearn: 0.0385179\ttotal: 1.12s\tremaining: 531ms\n",
      "679:\tlearn: 0.0384455\ttotal: 1.12s\tremaining: 529ms\n",
      "680:\tlearn: 0.0383638\ttotal: 1.13s\tremaining: 528ms\n",
      "681:\tlearn: 0.0382866\ttotal: 1.13s\tremaining: 526ms\n",
      "682:\tlearn: 0.0381990\ttotal: 1.13s\tremaining: 524ms\n",
      "683:\tlearn: 0.0381400\ttotal: 1.13s\tremaining: 522ms\n",
      "684:\tlearn: 0.0380675\ttotal: 1.13s\tremaining: 521ms\n",
      "685:\tlearn: 0.0379990\ttotal: 1.13s\tremaining: 519ms\n",
      "686:\tlearn: 0.0379029\ttotal: 1.14s\tremaining: 517ms\n",
      "687:\tlearn: 0.0378367\ttotal: 1.14s\tremaining: 516ms\n",
      "688:\tlearn: 0.0377631\ttotal: 1.14s\tremaining: 514ms\n",
      "689:\tlearn: 0.0376653\ttotal: 1.14s\tremaining: 512ms\n",
      "690:\tlearn: 0.0375649\ttotal: 1.14s\tremaining: 511ms\n",
      "691:\tlearn: 0.0374953\ttotal: 1.14s\tremaining: 509ms\n",
      "692:\tlearn: 0.0374417\ttotal: 1.15s\tremaining: 507ms\n",
      "693:\tlearn: 0.0373889\ttotal: 1.15s\tremaining: 506ms\n",
      "694:\tlearn: 0.0373381\ttotal: 1.15s\tremaining: 504ms\n",
      "695:\tlearn: 0.0372172\ttotal: 1.15s\tremaining: 502ms\n",
      "696:\tlearn: 0.0371380\ttotal: 1.15s\tremaining: 501ms\n",
      "697:\tlearn: 0.0370861\ttotal: 1.15s\tremaining: 499ms\n",
      "698:\tlearn: 0.0369908\ttotal: 1.15s\tremaining: 497ms\n",
      "699:\tlearn: 0.0369212\ttotal: 1.16s\tremaining: 495ms\n",
      "700:\tlearn: 0.0368414\ttotal: 1.16s\tremaining: 494ms\n",
      "701:\tlearn: 0.0367835\ttotal: 1.16s\tremaining: 492ms\n",
      "702:\tlearn: 0.0366970\ttotal: 1.16s\tremaining: 490ms\n",
      "703:\tlearn: 0.0366283\ttotal: 1.16s\tremaining: 489ms\n",
      "704:\tlearn: 0.0365683\ttotal: 1.16s\tremaining: 487ms\n",
      "705:\tlearn: 0.0364892\ttotal: 1.17s\tremaining: 486ms\n",
      "706:\tlearn: 0.0364071\ttotal: 1.17s\tremaining: 484ms\n",
      "707:\tlearn: 0.0363053\ttotal: 1.17s\tremaining: 482ms\n",
      "708:\tlearn: 0.0362438\ttotal: 1.17s\tremaining: 481ms\n",
      "709:\tlearn: 0.0361514\ttotal: 1.17s\tremaining: 479ms\n",
      "710:\tlearn: 0.0360610\ttotal: 1.17s\tremaining: 477ms\n",
      "711:\tlearn: 0.0359513\ttotal: 1.18s\tremaining: 476ms\n",
      "712:\tlearn: 0.0358712\ttotal: 1.18s\tremaining: 474ms\n",
      "713:\tlearn: 0.0357972\ttotal: 1.18s\tremaining: 472ms\n",
      "714:\tlearn: 0.0357503\ttotal: 1.18s\tremaining: 471ms\n",
      "715:\tlearn: 0.0356671\ttotal: 1.18s\tremaining: 469ms\n",
      "716:\tlearn: 0.0355739\ttotal: 1.18s\tremaining: 467ms\n",
      "717:\tlearn: 0.0355167\ttotal: 1.19s\tremaining: 466ms\n",
      "718:\tlearn: 0.0354381\ttotal: 1.19s\tremaining: 464ms\n",
      "719:\tlearn: 0.0353557\ttotal: 1.19s\tremaining: 462ms\n",
      "720:\tlearn: 0.0352797\ttotal: 1.19s\tremaining: 461ms\n",
      "721:\tlearn: 0.0351975\ttotal: 1.19s\tremaining: 459ms\n",
      "722:\tlearn: 0.0351457\ttotal: 1.19s\tremaining: 457ms\n",
      "723:\tlearn: 0.0350750\ttotal: 1.2s\tremaining: 456ms\n",
      "724:\tlearn: 0.0350045\ttotal: 1.2s\tremaining: 454ms\n",
      "725:\tlearn: 0.0349343\ttotal: 1.2s\tremaining: 452ms\n",
      "726:\tlearn: 0.0348397\ttotal: 1.2s\tremaining: 451ms\n",
      "727:\tlearn: 0.0347781\ttotal: 1.2s\tremaining: 449ms\n",
      "728:\tlearn: 0.0347118\ttotal: 1.2s\tremaining: 447ms\n",
      "729:\tlearn: 0.0346563\ttotal: 1.21s\tremaining: 446ms\n",
      "730:\tlearn: 0.0345600\ttotal: 1.21s\tremaining: 444ms\n",
      "731:\tlearn: 0.0345085\ttotal: 1.21s\tremaining: 442ms\n",
      "732:\tlearn: 0.0344497\ttotal: 1.21s\tremaining: 441ms\n",
      "733:\tlearn: 0.0343922\ttotal: 1.21s\tremaining: 439ms\n",
      "734:\tlearn: 0.0343476\ttotal: 1.21s\tremaining: 437ms\n",
      "735:\tlearn: 0.0342807\ttotal: 1.22s\tremaining: 436ms\n",
      "736:\tlearn: 0.0341863\ttotal: 1.22s\tremaining: 434ms\n",
      "737:\tlearn: 0.0341261\ttotal: 1.22s\tremaining: 433ms\n",
      "738:\tlearn: 0.0340537\ttotal: 1.22s\tremaining: 431ms\n",
      "739:\tlearn: 0.0339933\ttotal: 1.22s\tremaining: 429ms\n",
      "740:\tlearn: 0.0339137\ttotal: 1.22s\tremaining: 428ms\n",
      "741:\tlearn: 0.0338634\ttotal: 1.22s\tremaining: 426ms\n",
      "742:\tlearn: 0.0338073\ttotal: 1.23s\tremaining: 424ms\n",
      "743:\tlearn: 0.0337572\ttotal: 1.23s\tremaining: 423ms\n",
      "744:\tlearn: 0.0336860\ttotal: 1.23s\tremaining: 421ms\n",
      "745:\tlearn: 0.0336238\ttotal: 1.23s\tremaining: 419ms\n",
      "746:\tlearn: 0.0335643\ttotal: 1.23s\tremaining: 417ms\n",
      "747:\tlearn: 0.0335180\ttotal: 1.23s\tremaining: 416ms\n",
      "748:\tlearn: 0.0334521\ttotal: 1.24s\tremaining: 414ms\n",
      "749:\tlearn: 0.0333969\ttotal: 1.24s\tremaining: 412ms\n",
      "750:\tlearn: 0.0333303\ttotal: 1.24s\tremaining: 411ms\n",
      "751:\tlearn: 0.0332511\ttotal: 1.24s\tremaining: 409ms\n",
      "752:\tlearn: 0.0332000\ttotal: 1.24s\tremaining: 407ms\n",
      "753:\tlearn: 0.0331427\ttotal: 1.24s\tremaining: 406ms\n",
      "754:\tlearn: 0.0330708\ttotal: 1.25s\tremaining: 404ms\n",
      "755:\tlearn: 0.0330107\ttotal: 1.25s\tremaining: 402ms\n",
      "756:\tlearn: 0.0329488\ttotal: 1.25s\tremaining: 401ms\n",
      "757:\tlearn: 0.0328922\ttotal: 1.25s\tremaining: 399ms\n",
      "758:\tlearn: 0.0328395\ttotal: 1.25s\tremaining: 397ms\n",
      "759:\tlearn: 0.0327741\ttotal: 1.25s\tremaining: 396ms\n",
      "760:\tlearn: 0.0327204\ttotal: 1.25s\tremaining: 394ms\n",
      "761:\tlearn: 0.0326312\ttotal: 1.26s\tremaining: 392ms\n",
      "762:\tlearn: 0.0325776\ttotal: 1.26s\tremaining: 391ms\n",
      "763:\tlearn: 0.0325309\ttotal: 1.26s\tremaining: 389ms\n",
      "764:\tlearn: 0.0324880\ttotal: 1.26s\tremaining: 387ms\n",
      "765:\tlearn: 0.0324197\ttotal: 1.26s\tremaining: 386ms\n",
      "766:\tlearn: 0.0323483\ttotal: 1.26s\tremaining: 384ms\n",
      "767:\tlearn: 0.0322908\ttotal: 1.26s\tremaining: 382ms\n",
      "768:\tlearn: 0.0322173\ttotal: 1.27s\tremaining: 381ms\n",
      "769:\tlearn: 0.0321498\ttotal: 1.27s\tremaining: 379ms\n",
      "770:\tlearn: 0.0320832\ttotal: 1.27s\tremaining: 377ms\n",
      "771:\tlearn: 0.0320348\ttotal: 1.27s\tremaining: 376ms\n",
      "772:\tlearn: 0.0319530\ttotal: 1.27s\tremaining: 374ms\n",
      "773:\tlearn: 0.0318825\ttotal: 1.27s\tremaining: 372ms\n",
      "774:\tlearn: 0.0318261\ttotal: 1.28s\tremaining: 371ms\n",
      "775:\tlearn: 0.0317633\ttotal: 1.28s\tremaining: 369ms\n",
      "776:\tlearn: 0.0316937\ttotal: 1.28s\tremaining: 367ms\n",
      "777:\tlearn: 0.0316358\ttotal: 1.28s\tremaining: 366ms\n",
      "778:\tlearn: 0.0315725\ttotal: 1.28s\tremaining: 364ms\n",
      "779:\tlearn: 0.0315018\ttotal: 1.28s\tremaining: 362ms\n",
      "780:\tlearn: 0.0314442\ttotal: 1.29s\tremaining: 361ms\n",
      "781:\tlearn: 0.0313747\ttotal: 1.29s\tremaining: 359ms\n",
      "782:\tlearn: 0.0313065\ttotal: 1.29s\tremaining: 357ms\n",
      "783:\tlearn: 0.0312456\ttotal: 1.29s\tremaining: 356ms\n",
      "784:\tlearn: 0.0311827\ttotal: 1.29s\tremaining: 354ms\n",
      "785:\tlearn: 0.0311260\ttotal: 1.29s\tremaining: 352ms\n",
      "786:\tlearn: 0.0310737\ttotal: 1.29s\tremaining: 351ms\n",
      "787:\tlearn: 0.0310125\ttotal: 1.3s\tremaining: 349ms\n",
      "788:\tlearn: 0.0309617\ttotal: 1.3s\tremaining: 347ms\n",
      "789:\tlearn: 0.0309002\ttotal: 1.3s\tremaining: 346ms\n",
      "790:\tlearn: 0.0308417\ttotal: 1.3s\tremaining: 344ms\n",
      "791:\tlearn: 0.0307920\ttotal: 1.3s\tremaining: 342ms\n",
      "792:\tlearn: 0.0307411\ttotal: 1.3s\tremaining: 341ms\n",
      "793:\tlearn: 0.0306815\ttotal: 1.31s\tremaining: 339ms\n",
      "794:\tlearn: 0.0306361\ttotal: 1.31s\tremaining: 337ms\n",
      "795:\tlearn: 0.0305681\ttotal: 1.31s\tremaining: 336ms\n",
      "796:\tlearn: 0.0305284\ttotal: 1.31s\tremaining: 334ms\n",
      "797:\tlearn: 0.0304659\ttotal: 1.31s\tremaining: 332ms\n"
     ]
    },
    {
     "name": "stdout",
     "output_type": "stream",
     "text": [
      "798:\tlearn: 0.0303970\ttotal: 1.31s\tremaining: 331ms\n",
      "799:\tlearn: 0.0303509\ttotal: 1.32s\tremaining: 329ms\n",
      "800:\tlearn: 0.0302862\ttotal: 1.32s\tremaining: 328ms\n",
      "801:\tlearn: 0.0302282\ttotal: 1.32s\tremaining: 326ms\n",
      "802:\tlearn: 0.0301673\ttotal: 1.32s\tremaining: 324ms\n",
      "803:\tlearn: 0.0301159\ttotal: 1.32s\tremaining: 323ms\n",
      "804:\tlearn: 0.0300601\ttotal: 1.32s\tremaining: 321ms\n",
      "805:\tlearn: 0.0300111\ttotal: 1.33s\tremaining: 319ms\n",
      "806:\tlearn: 0.0299607\ttotal: 1.33s\tremaining: 318ms\n",
      "807:\tlearn: 0.0298897\ttotal: 1.33s\tremaining: 316ms\n",
      "808:\tlearn: 0.0298440\ttotal: 1.33s\tremaining: 314ms\n",
      "809:\tlearn: 0.0297870\ttotal: 1.33s\tremaining: 313ms\n",
      "810:\tlearn: 0.0297323\ttotal: 1.33s\tremaining: 311ms\n",
      "811:\tlearn: 0.0296766\ttotal: 1.34s\tremaining: 309ms\n",
      "812:\tlearn: 0.0296241\ttotal: 1.34s\tremaining: 308ms\n",
      "813:\tlearn: 0.0295619\ttotal: 1.34s\tremaining: 306ms\n",
      "814:\tlearn: 0.0295135\ttotal: 1.34s\tremaining: 304ms\n",
      "815:\tlearn: 0.0294667\ttotal: 1.34s\tremaining: 303ms\n",
      "816:\tlearn: 0.0293904\ttotal: 1.34s\tremaining: 301ms\n",
      "817:\tlearn: 0.0293366\ttotal: 1.34s\tremaining: 299ms\n",
      "818:\tlearn: 0.0292809\ttotal: 1.35s\tremaining: 298ms\n",
      "819:\tlearn: 0.0292066\ttotal: 1.35s\tremaining: 296ms\n",
      "820:\tlearn: 0.0291535\ttotal: 1.35s\tremaining: 294ms\n",
      "821:\tlearn: 0.0290801\ttotal: 1.35s\tremaining: 293ms\n",
      "822:\tlearn: 0.0290333\ttotal: 1.35s\tremaining: 291ms\n",
      "823:\tlearn: 0.0289839\ttotal: 1.35s\tremaining: 289ms\n",
      "824:\tlearn: 0.0289318\ttotal: 1.36s\tremaining: 288ms\n",
      "825:\tlearn: 0.0288675\ttotal: 1.36s\tremaining: 286ms\n",
      "826:\tlearn: 0.0287987\ttotal: 1.36s\tremaining: 284ms\n",
      "827:\tlearn: 0.0287434\ttotal: 1.36s\tremaining: 283ms\n",
      "828:\tlearn: 0.0286678\ttotal: 1.36s\tremaining: 281ms\n",
      "829:\tlearn: 0.0286123\ttotal: 1.36s\tremaining: 279ms\n",
      "830:\tlearn: 0.0285617\ttotal: 1.37s\tremaining: 278ms\n",
      "831:\tlearn: 0.0284992\ttotal: 1.37s\tremaining: 276ms\n",
      "832:\tlearn: 0.0284434\ttotal: 1.37s\tremaining: 275ms\n",
      "833:\tlearn: 0.0283869\ttotal: 1.37s\tremaining: 273ms\n",
      "834:\tlearn: 0.0283487\ttotal: 1.37s\tremaining: 271ms\n",
      "835:\tlearn: 0.0282968\ttotal: 1.37s\tremaining: 270ms\n",
      "836:\tlearn: 0.0282283\ttotal: 1.38s\tremaining: 268ms\n",
      "837:\tlearn: 0.0281836\ttotal: 1.38s\tremaining: 266ms\n",
      "838:\tlearn: 0.0281372\ttotal: 1.38s\tremaining: 265ms\n",
      "839:\tlearn: 0.0280855\ttotal: 1.38s\tremaining: 263ms\n",
      "840:\tlearn: 0.0280194\ttotal: 1.38s\tremaining: 262ms\n",
      "841:\tlearn: 0.0279667\ttotal: 1.39s\tremaining: 260ms\n",
      "842:\tlearn: 0.0279019\ttotal: 1.39s\tremaining: 258ms\n",
      "843:\tlearn: 0.0278354\ttotal: 1.39s\tremaining: 257ms\n",
      "844:\tlearn: 0.0277699\ttotal: 1.39s\tremaining: 255ms\n",
      "845:\tlearn: 0.0277283\ttotal: 1.39s\tremaining: 254ms\n",
      "846:\tlearn: 0.0276662\ttotal: 1.4s\tremaining: 252ms\n",
      "847:\tlearn: 0.0276168\ttotal: 1.4s\tremaining: 251ms\n",
      "848:\tlearn: 0.0275621\ttotal: 1.4s\tremaining: 249ms\n",
      "849:\tlearn: 0.0275228\ttotal: 1.4s\tremaining: 247ms\n",
      "850:\tlearn: 0.0274714\ttotal: 1.4s\tremaining: 246ms\n",
      "851:\tlearn: 0.0274229\ttotal: 1.41s\tremaining: 244ms\n",
      "852:\tlearn: 0.0273661\ttotal: 1.41s\tremaining: 243ms\n",
      "853:\tlearn: 0.0272978\ttotal: 1.41s\tremaining: 241ms\n",
      "854:\tlearn: 0.0272341\ttotal: 1.41s\tremaining: 239ms\n",
      "855:\tlearn: 0.0271860\ttotal: 1.41s\tremaining: 238ms\n",
      "856:\tlearn: 0.0271213\ttotal: 1.41s\tremaining: 236ms\n",
      "857:\tlearn: 0.0270676\ttotal: 1.42s\tremaining: 234ms\n",
      "858:\tlearn: 0.0270230\ttotal: 1.42s\tremaining: 233ms\n",
      "859:\tlearn: 0.0269857\ttotal: 1.42s\tremaining: 231ms\n",
      "860:\tlearn: 0.0269231\ttotal: 1.42s\tremaining: 229ms\n",
      "861:\tlearn: 0.0268542\ttotal: 1.42s\tremaining: 228ms\n",
      "862:\tlearn: 0.0268093\ttotal: 1.42s\tremaining: 226ms\n",
      "863:\tlearn: 0.0267653\ttotal: 1.43s\tremaining: 224ms\n",
      "864:\tlearn: 0.0267135\ttotal: 1.43s\tremaining: 223ms\n",
      "865:\tlearn: 0.0266529\ttotal: 1.43s\tremaining: 221ms\n",
      "866:\tlearn: 0.0266122\ttotal: 1.43s\tremaining: 219ms\n",
      "867:\tlearn: 0.0265646\ttotal: 1.43s\tremaining: 218ms\n",
      "868:\tlearn: 0.0265226\ttotal: 1.43s\tremaining: 216ms\n",
      "869:\tlearn: 0.0264600\ttotal: 1.43s\tremaining: 214ms\n",
      "870:\tlearn: 0.0263983\ttotal: 1.44s\tremaining: 213ms\n",
      "871:\tlearn: 0.0263383\ttotal: 1.44s\tremaining: 211ms\n",
      "872:\tlearn: 0.0262912\ttotal: 1.44s\tremaining: 209ms\n",
      "873:\tlearn: 0.0262401\ttotal: 1.44s\tremaining: 208ms\n",
      "874:\tlearn: 0.0261981\ttotal: 1.44s\tremaining: 206ms\n",
      "875:\tlearn: 0.0261384\ttotal: 1.44s\tremaining: 204ms\n",
      "876:\tlearn: 0.0260883\ttotal: 1.45s\tremaining: 203ms\n",
      "877:\tlearn: 0.0260464\ttotal: 1.45s\tremaining: 201ms\n",
      "878:\tlearn: 0.0259856\ttotal: 1.45s\tremaining: 199ms\n",
      "879:\tlearn: 0.0259396\ttotal: 1.45s\tremaining: 198ms\n",
      "880:\tlearn: 0.0258867\ttotal: 1.45s\tremaining: 196ms\n",
      "881:\tlearn: 0.0258387\ttotal: 1.45s\tremaining: 195ms\n",
      "882:\tlearn: 0.0257939\ttotal: 1.46s\tremaining: 193ms\n",
      "883:\tlearn: 0.0257588\ttotal: 1.46s\tremaining: 191ms\n",
      "884:\tlearn: 0.0257010\ttotal: 1.46s\tremaining: 190ms\n",
      "885:\tlearn: 0.0256632\ttotal: 1.46s\tremaining: 188ms\n",
      "886:\tlearn: 0.0256037\ttotal: 1.46s\tremaining: 186ms\n",
      "887:\tlearn: 0.0255451\ttotal: 1.46s\tremaining: 185ms\n",
      "888:\tlearn: 0.0254998\ttotal: 1.47s\tremaining: 183ms\n",
      "889:\tlearn: 0.0254454\ttotal: 1.47s\tremaining: 181ms\n",
      "890:\tlearn: 0.0253897\ttotal: 1.47s\tremaining: 180ms\n",
      "891:\tlearn: 0.0253516\ttotal: 1.47s\tremaining: 178ms\n",
      "892:\tlearn: 0.0253115\ttotal: 1.47s\tremaining: 176ms\n",
      "893:\tlearn: 0.0252543\ttotal: 1.47s\tremaining: 175ms\n",
      "894:\tlearn: 0.0252202\ttotal: 1.48s\tremaining: 173ms\n",
      "895:\tlearn: 0.0251716\ttotal: 1.48s\tremaining: 171ms\n",
      "896:\tlearn: 0.0251321\ttotal: 1.48s\tremaining: 170ms\n",
      "897:\tlearn: 0.0250715\ttotal: 1.48s\tremaining: 168ms\n",
      "898:\tlearn: 0.0250398\ttotal: 1.48s\tremaining: 167ms\n",
      "899:\tlearn: 0.0249845\ttotal: 1.48s\tremaining: 165ms\n",
      "900:\tlearn: 0.0249240\ttotal: 1.49s\tremaining: 163ms\n",
      "901:\tlearn: 0.0248854\ttotal: 1.49s\tremaining: 162ms\n",
      "902:\tlearn: 0.0248432\ttotal: 1.49s\tremaining: 160ms\n",
      "903:\tlearn: 0.0248009\ttotal: 1.49s\tremaining: 158ms\n",
      "904:\tlearn: 0.0247592\ttotal: 1.49s\tremaining: 157ms\n",
      "905:\tlearn: 0.0247119\ttotal: 1.5s\tremaining: 155ms\n",
      "906:\tlearn: 0.0246568\ttotal: 1.5s\tremaining: 154ms\n",
      "907:\tlearn: 0.0246266\ttotal: 1.5s\tremaining: 152ms\n",
      "908:\tlearn: 0.0245767\ttotal: 1.5s\tremaining: 150ms\n",
      "909:\tlearn: 0.0245392\ttotal: 1.5s\tremaining: 149ms\n",
      "910:\tlearn: 0.0245094\ttotal: 1.5s\tremaining: 147ms\n",
      "911:\tlearn: 0.0244684\ttotal: 1.5s\tremaining: 145ms\n",
      "912:\tlearn: 0.0244226\ttotal: 1.51s\tremaining: 144ms\n",
      "913:\tlearn: 0.0243817\ttotal: 1.51s\tremaining: 142ms\n",
      "914:\tlearn: 0.0243305\ttotal: 1.51s\tremaining: 140ms\n",
      "915:\tlearn: 0.0242771\ttotal: 1.51s\tremaining: 139ms\n",
      "916:\tlearn: 0.0242417\ttotal: 1.51s\tremaining: 137ms\n",
      "917:\tlearn: 0.0242075\ttotal: 1.52s\tremaining: 135ms\n",
      "918:\tlearn: 0.0241656\ttotal: 1.52s\tremaining: 134ms\n",
      "919:\tlearn: 0.0241244\ttotal: 1.52s\tremaining: 132ms\n",
      "920:\tlearn: 0.0240859\ttotal: 1.52s\tremaining: 131ms\n",
      "921:\tlearn: 0.0240410\ttotal: 1.52s\tremaining: 129ms\n",
      "922:\tlearn: 0.0240085\ttotal: 1.52s\tremaining: 127ms\n",
      "923:\tlearn: 0.0239607\ttotal: 1.53s\tremaining: 126ms\n",
      "924:\tlearn: 0.0239127\ttotal: 1.53s\tremaining: 124ms\n",
      "925:\tlearn: 0.0238688\ttotal: 1.53s\tremaining: 122ms\n",
      "926:\tlearn: 0.0238170\ttotal: 1.53s\tremaining: 121ms\n",
      "927:\tlearn: 0.0237794\ttotal: 1.53s\tremaining: 119ms\n",
      "928:\tlearn: 0.0237454\ttotal: 1.54s\tremaining: 117ms\n",
      "929:\tlearn: 0.0237091\ttotal: 1.54s\tremaining: 116ms\n",
      "930:\tlearn: 0.0236784\ttotal: 1.54s\tremaining: 114ms\n",
      "931:\tlearn: 0.0236279\ttotal: 1.54s\tremaining: 112ms\n",
      "932:\tlearn: 0.0235836\ttotal: 1.54s\tremaining: 111ms\n",
      "933:\tlearn: 0.0235332\ttotal: 1.54s\tremaining: 109ms\n",
      "934:\tlearn: 0.0234783\ttotal: 1.55s\tremaining: 108ms\n",
      "935:\tlearn: 0.0234419\ttotal: 1.55s\tremaining: 106ms\n",
      "936:\tlearn: 0.0233917\ttotal: 1.55s\tremaining: 104ms\n",
      "937:\tlearn: 0.0233553\ttotal: 1.55s\tremaining: 103ms\n",
      "938:\tlearn: 0.0233166\ttotal: 1.55s\tremaining: 101ms\n",
      "939:\tlearn: 0.0232670\ttotal: 1.55s\tremaining: 99.3ms\n",
      "940:\tlearn: 0.0232319\ttotal: 1.56s\tremaining: 97.6ms\n",
      "941:\tlearn: 0.0231996\ttotal: 1.56s\tremaining: 96ms\n",
      "942:\tlearn: 0.0231676\ttotal: 1.56s\tremaining: 94.4ms\n",
      "943:\tlearn: 0.0231302\ttotal: 1.56s\tremaining: 92.7ms\n",
      "944:\tlearn: 0.0230926\ttotal: 1.56s\tremaining: 91.1ms\n",
      "945:\tlearn: 0.0230534\ttotal: 1.57s\tremaining: 89.4ms\n",
      "946:\tlearn: 0.0230231\ttotal: 1.57s\tremaining: 87.8ms\n",
      "947:\tlearn: 0.0229818\ttotal: 1.57s\tremaining: 86.1ms\n",
      "948:\tlearn: 0.0229438\ttotal: 1.57s\tremaining: 84.5ms\n",
      "949:\tlearn: 0.0229074\ttotal: 1.57s\tremaining: 82.8ms\n",
      "950:\tlearn: 0.0228677\ttotal: 1.57s\tremaining: 81.2ms\n",
      "951:\tlearn: 0.0228309\ttotal: 1.58s\tremaining: 79.5ms\n",
      "952:\tlearn: 0.0227971\ttotal: 1.58s\tremaining: 77.9ms\n",
      "953:\tlearn: 0.0227643\ttotal: 1.58s\tremaining: 76.2ms\n",
      "954:\tlearn: 0.0227309\ttotal: 1.58s\tremaining: 74.6ms\n",
      "955:\tlearn: 0.0226816\ttotal: 1.58s\tremaining: 72.9ms\n",
      "956:\tlearn: 0.0226506\ttotal: 1.58s\tremaining: 71.3ms\n",
      "957:\tlearn: 0.0226187\ttotal: 1.59s\tremaining: 69.6ms\n",
      "958:\tlearn: 0.0225721\ttotal: 1.59s\tremaining: 68ms\n",
      "959:\tlearn: 0.0225365\ttotal: 1.59s\tremaining: 66.3ms\n",
      "960:\tlearn: 0.0224995\ttotal: 1.59s\tremaining: 64.6ms\n",
      "961:\tlearn: 0.0224631\ttotal: 1.59s\tremaining: 63ms\n",
      "962:\tlearn: 0.0224274\ttotal: 1.6s\tremaining: 61.3ms\n",
      "963:\tlearn: 0.0223975\ttotal: 1.6s\tremaining: 59.7ms\n",
      "964:\tlearn: 0.0223721\ttotal: 1.6s\tremaining: 58ms\n",
      "965:\tlearn: 0.0223242\ttotal: 1.6s\tremaining: 56.4ms\n",
      "966:\tlearn: 0.0222885\ttotal: 1.6s\tremaining: 54.7ms\n",
      "967:\tlearn: 0.0222449\ttotal: 1.6s\tremaining: 53.1ms\n",
      "968:\tlearn: 0.0221982\ttotal: 1.61s\tremaining: 51.4ms\n",
      "969:\tlearn: 0.0221638\ttotal: 1.61s\tremaining: 49.8ms\n",
      "970:\tlearn: 0.0221240\ttotal: 1.61s\tremaining: 48.1ms\n",
      "971:\tlearn: 0.0220983\ttotal: 1.61s\tremaining: 46.5ms\n",
      "972:\tlearn: 0.0220646\ttotal: 1.61s\tremaining: 44.8ms\n",
      "973:\tlearn: 0.0220314\ttotal: 1.62s\tremaining: 43.2ms\n",
      "974:\tlearn: 0.0219917\ttotal: 1.62s\tremaining: 41.5ms\n",
      "975:\tlearn: 0.0219498\ttotal: 1.62s\tremaining: 39.8ms\n",
      "976:\tlearn: 0.0219184\ttotal: 1.62s\tremaining: 38.2ms\n",
      "977:\tlearn: 0.0218893\ttotal: 1.62s\tremaining: 36.5ms\n",
      "978:\tlearn: 0.0218628\ttotal: 1.63s\tremaining: 34.9ms\n",
      "979:\tlearn: 0.0218162\ttotal: 1.63s\tremaining: 33.2ms\n",
      "980:\tlearn: 0.0217836\ttotal: 1.63s\tremaining: 31.5ms\n",
      "981:\tlearn: 0.0217518\ttotal: 1.63s\tremaining: 29.9ms\n",
      "982:\tlearn: 0.0217042\ttotal: 1.63s\tremaining: 28.2ms\n",
      "983:\tlearn: 0.0216601\ttotal: 1.63s\tremaining: 26.6ms\n",
      "984:\tlearn: 0.0216246\ttotal: 1.64s\tremaining: 24.9ms\n",
      "985:\tlearn: 0.0215964\ttotal: 1.64s\tremaining: 23.2ms\n",
      "986:\tlearn: 0.0215525\ttotal: 1.64s\tremaining: 21.6ms\n",
      "987:\tlearn: 0.0215223\ttotal: 1.64s\tremaining: 19.9ms\n",
      "988:\tlearn: 0.0214967\ttotal: 1.64s\tremaining: 18.3ms\n",
      "989:\tlearn: 0.0214586\ttotal: 1.64s\tremaining: 16.6ms\n",
      "990:\tlearn: 0.0214262\ttotal: 1.65s\tremaining: 14.9ms\n",
      "991:\tlearn: 0.0213951\ttotal: 1.65s\tremaining: 13.3ms\n",
      "992:\tlearn: 0.0213575\ttotal: 1.65s\tremaining: 11.6ms\n",
      "993:\tlearn: 0.0213283\ttotal: 1.65s\tremaining: 9.96ms\n",
      "994:\tlearn: 0.0212882\ttotal: 1.65s\tremaining: 8.3ms\n",
      "995:\tlearn: 0.0212546\ttotal: 1.65s\tremaining: 6.64ms\n",
      "996:\tlearn: 0.0212299\ttotal: 1.65s\tremaining: 4.98ms\n"
     ]
    },
    {
     "name": "stdout",
     "output_type": "stream",
     "text": [
      "997:\tlearn: 0.0211869\ttotal: 1.66s\tremaining: 3.32ms\n",
      "998:\tlearn: 0.0211447\ttotal: 1.66s\tremaining: 1.66ms\n",
      "999:\tlearn: 0.0211138\ttotal: 1.66s\tremaining: 0us\n",
      "Learning rate set to 0.009219\n",
      "0:\tlearn: 0.6798945\ttotal: 1.11ms\tremaining: 1.11s\n",
      "1:\tlearn: 0.6687143\ttotal: 4.78ms\tremaining: 2.38s\n",
      "2:\tlearn: 0.6563344\ttotal: 6ms\tremaining: 2s\n",
      "3:\tlearn: 0.6439389\ttotal: 7.52ms\tremaining: 1.87s\n",
      "4:\tlearn: 0.6327230\ttotal: 9.04ms\tremaining: 1.8s\n",
      "5:\tlearn: 0.6209666\ttotal: 10.5ms\tremaining: 1.75s\n",
      "6:\tlearn: 0.6106362\ttotal: 12.2ms\tremaining: 1.74s\n",
      "7:\tlearn: 0.5994156\ttotal: 13.8ms\tremaining: 1.71s\n",
      "8:\tlearn: 0.5895603\ttotal: 15.3ms\tremaining: 1.68s\n",
      "9:\tlearn: 0.5793601\ttotal: 16.8ms\tremaining: 1.67s\n",
      "10:\tlearn: 0.5690232\ttotal: 18.4ms\tremaining: 1.66s\n",
      "11:\tlearn: 0.5592903\ttotal: 19.9ms\tremaining: 1.64s\n",
      "12:\tlearn: 0.5511969\ttotal: 21.5ms\tremaining: 1.63s\n",
      "13:\tlearn: 0.5428567\ttotal: 23.1ms\tremaining: 1.62s\n",
      "14:\tlearn: 0.5329933\ttotal: 23.9ms\tremaining: 1.57s\n",
      "15:\tlearn: 0.5242748\ttotal: 25.3ms\tremaining: 1.56s\n",
      "16:\tlearn: 0.5167059\ttotal: 27ms\tremaining: 1.56s\n",
      "17:\tlearn: 0.5086048\ttotal: 28.5ms\tremaining: 1.56s\n",
      "18:\tlearn: 0.5016055\ttotal: 30.1ms\tremaining: 1.55s\n",
      "19:\tlearn: 0.4943281\ttotal: 31.8ms\tremaining: 1.56s\n",
      "20:\tlearn: 0.4873044\ttotal: 33.4ms\tremaining: 1.55s\n",
      "21:\tlearn: 0.4805815\ttotal: 34.9ms\tremaining: 1.55s\n",
      "22:\tlearn: 0.4741442\ttotal: 36.5ms\tremaining: 1.55s\n",
      "23:\tlearn: 0.4667022\ttotal: 38ms\tremaining: 1.54s\n",
      "24:\tlearn: 0.4611354\ttotal: 40.9ms\tremaining: 1.59s\n",
      "25:\tlearn: 0.4548608\ttotal: 42.5ms\tremaining: 1.59s\n",
      "26:\tlearn: 0.4478458\ttotal: 43.6ms\tremaining: 1.57s\n",
      "27:\tlearn: 0.4417232\ttotal: 45.2ms\tremaining: 1.57s\n",
      "28:\tlearn: 0.4352894\ttotal: 46.7ms\tremaining: 1.56s\n",
      "29:\tlearn: 0.4287114\ttotal: 48.3ms\tremaining: 1.56s\n",
      "30:\tlearn: 0.4237717\ttotal: 49.8ms\tremaining: 1.56s\n",
      "31:\tlearn: 0.4182212\ttotal: 51.4ms\tremaining: 1.55s\n",
      "32:\tlearn: 0.4127837\ttotal: 52.9ms\tremaining: 1.55s\n",
      "33:\tlearn: 0.4076571\ttotal: 54.5ms\tremaining: 1.55s\n",
      "34:\tlearn: 0.4024490\ttotal: 56ms\tremaining: 1.54s\n",
      "35:\tlearn: 0.3968712\ttotal: 57.5ms\tremaining: 1.54s\n",
      "36:\tlearn: 0.3917425\ttotal: 59ms\tremaining: 1.54s\n",
      "37:\tlearn: 0.3872894\ttotal: 60.5ms\tremaining: 1.53s\n",
      "38:\tlearn: 0.3824510\ttotal: 62ms\tremaining: 1.53s\n",
      "39:\tlearn: 0.3775726\ttotal: 63.6ms\tremaining: 1.52s\n",
      "40:\tlearn: 0.3730995\ttotal: 65.1ms\tremaining: 1.52s\n",
      "41:\tlearn: 0.3680301\ttotal: 66.7ms\tremaining: 1.52s\n",
      "42:\tlearn: 0.3640282\ttotal: 68.2ms\tremaining: 1.52s\n",
      "43:\tlearn: 0.3599497\ttotal: 69.8ms\tremaining: 1.52s\n",
      "44:\tlearn: 0.3557287\ttotal: 71.3ms\tremaining: 1.51s\n",
      "45:\tlearn: 0.3511612\ttotal: 72.9ms\tremaining: 1.51s\n",
      "46:\tlearn: 0.3466964\ttotal: 74.4ms\tremaining: 1.51s\n",
      "47:\tlearn: 0.3434959\ttotal: 75.9ms\tremaining: 1.51s\n",
      "48:\tlearn: 0.3402005\ttotal: 77.5ms\tremaining: 1.5s\n",
      "49:\tlearn: 0.3358998\ttotal: 79ms\tremaining: 1.5s\n",
      "50:\tlearn: 0.3316601\ttotal: 80.6ms\tremaining: 1.5s\n",
      "51:\tlearn: 0.3283419\ttotal: 82.1ms\tremaining: 1.5s\n",
      "52:\tlearn: 0.3246794\ttotal: 83.7ms\tremaining: 1.49s\n",
      "53:\tlearn: 0.3212496\ttotal: 85.2ms\tremaining: 1.49s\n",
      "54:\tlearn: 0.3174406\ttotal: 86.8ms\tremaining: 1.49s\n",
      "55:\tlearn: 0.3140262\ttotal: 88.4ms\tremaining: 1.49s\n",
      "56:\tlearn: 0.3109970\ttotal: 89.9ms\tremaining: 1.49s\n",
      "57:\tlearn: 0.3079657\ttotal: 91.4ms\tremaining: 1.49s\n",
      "58:\tlearn: 0.3049894\ttotal: 93ms\tremaining: 1.48s\n",
      "59:\tlearn: 0.3025841\ttotal: 94.5ms\tremaining: 1.48s\n",
      "60:\tlearn: 0.2992255\ttotal: 96.5ms\tremaining: 1.49s\n",
      "61:\tlearn: 0.2959865\ttotal: 98.5ms\tremaining: 1.49s\n",
      "62:\tlearn: 0.2927582\ttotal: 100ms\tremaining: 1.49s\n",
      "63:\tlearn: 0.2901945\ttotal: 102ms\tremaining: 1.49s\n",
      "64:\tlearn: 0.2877957\ttotal: 104ms\tremaining: 1.5s\n",
      "65:\tlearn: 0.2856603\ttotal: 106ms\tremaining: 1.5s\n",
      "66:\tlearn: 0.2826656\ttotal: 109ms\tremaining: 1.52s\n",
      "67:\tlearn: 0.2795975\ttotal: 111ms\tremaining: 1.52s\n",
      "68:\tlearn: 0.2769375\ttotal: 113ms\tremaining: 1.52s\n",
      "69:\tlearn: 0.2741877\ttotal: 115ms\tremaining: 1.52s\n",
      "70:\tlearn: 0.2714106\ttotal: 117ms\tremaining: 1.52s\n",
      "71:\tlearn: 0.2689275\ttotal: 118ms\tremaining: 1.52s\n",
      "72:\tlearn: 0.2662165\ttotal: 120ms\tremaining: 1.52s\n",
      "73:\tlearn: 0.2638862\ttotal: 122ms\tremaining: 1.52s\n",
      "74:\tlearn: 0.2617727\ttotal: 125ms\tremaining: 1.54s\n",
      "75:\tlearn: 0.2595710\ttotal: 127ms\tremaining: 1.54s\n",
      "76:\tlearn: 0.2572678\ttotal: 129ms\tremaining: 1.54s\n",
      "77:\tlearn: 0.2552309\ttotal: 130ms\tremaining: 1.54s\n",
      "78:\tlearn: 0.2532748\ttotal: 132ms\tremaining: 1.54s\n",
      "79:\tlearn: 0.2508810\ttotal: 134ms\tremaining: 1.54s\n",
      "80:\tlearn: 0.2487357\ttotal: 135ms\tremaining: 1.54s\n",
      "81:\tlearn: 0.2472814\ttotal: 137ms\tremaining: 1.53s\n",
      "82:\tlearn: 0.2450209\ttotal: 139ms\tremaining: 1.53s\n",
      "83:\tlearn: 0.2427152\ttotal: 141ms\tremaining: 1.53s\n",
      "84:\tlearn: 0.2405557\ttotal: 142ms\tremaining: 1.53s\n",
      "85:\tlearn: 0.2383959\ttotal: 144ms\tremaining: 1.53s\n",
      "86:\tlearn: 0.2364864\ttotal: 146ms\tremaining: 1.53s\n",
      "87:\tlearn: 0.2347103\ttotal: 148ms\tremaining: 1.53s\n",
      "88:\tlearn: 0.2328274\ttotal: 149ms\tremaining: 1.53s\n",
      "89:\tlearn: 0.2310931\ttotal: 151ms\tremaining: 1.53s\n",
      "90:\tlearn: 0.2291289\ttotal: 153ms\tremaining: 1.52s\n",
      "91:\tlearn: 0.2276772\ttotal: 154ms\tremaining: 1.52s\n",
      "92:\tlearn: 0.2265123\ttotal: 156ms\tremaining: 1.52s\n",
      "93:\tlearn: 0.2250821\ttotal: 158ms\tremaining: 1.52s\n",
      "94:\tlearn: 0.2234195\ttotal: 160ms\tremaining: 1.52s\n",
      "95:\tlearn: 0.2219949\ttotal: 162ms\tremaining: 1.52s\n",
      "96:\tlearn: 0.2202351\ttotal: 163ms\tremaining: 1.52s\n",
      "97:\tlearn: 0.2189608\ttotal: 165ms\tremaining: 1.52s\n",
      "98:\tlearn: 0.2173068\ttotal: 167ms\tremaining: 1.52s\n",
      "99:\tlearn: 0.2157997\ttotal: 168ms\tremaining: 1.52s\n",
      "100:\tlearn: 0.2142728\ttotal: 170ms\tremaining: 1.51s\n",
      "101:\tlearn: 0.2133049\ttotal: 172ms\tremaining: 1.51s\n",
      "102:\tlearn: 0.2119368\ttotal: 173ms\tremaining: 1.51s\n",
      "103:\tlearn: 0.2107377\ttotal: 175ms\tremaining: 1.51s\n",
      "104:\tlearn: 0.2097419\ttotal: 177ms\tremaining: 1.5s\n",
      "105:\tlearn: 0.2086126\ttotal: 178ms\tremaining: 1.5s\n",
      "106:\tlearn: 0.2079072\ttotal: 180ms\tremaining: 1.5s\n",
      "107:\tlearn: 0.2065468\ttotal: 182ms\tremaining: 1.5s\n",
      "108:\tlearn: 0.2053033\ttotal: 185ms\tremaining: 1.51s\n",
      "109:\tlearn: 0.2040087\ttotal: 187ms\tremaining: 1.51s\n",
      "110:\tlearn: 0.2026003\ttotal: 189ms\tremaining: 1.51s\n",
      "111:\tlearn: 0.2011469\ttotal: 191ms\tremaining: 1.51s\n",
      "112:\tlearn: 0.1996486\ttotal: 192ms\tremaining: 1.51s\n",
      "113:\tlearn: 0.1979360\ttotal: 194ms\tremaining: 1.51s\n",
      "114:\tlearn: 0.1963756\ttotal: 197ms\tremaining: 1.52s\n",
      "115:\tlearn: 0.1955395\ttotal: 199ms\tremaining: 1.52s\n",
      "116:\tlearn: 0.1942565\ttotal: 201ms\tremaining: 1.52s\n",
      "117:\tlearn: 0.1930708\ttotal: 203ms\tremaining: 1.51s\n",
      "118:\tlearn: 0.1919102\ttotal: 204ms\tremaining: 1.51s\n",
      "119:\tlearn: 0.1906891\ttotal: 206ms\tremaining: 1.51s\n",
      "120:\tlearn: 0.1893537\ttotal: 208ms\tremaining: 1.51s\n",
      "121:\tlearn: 0.1882927\ttotal: 209ms\tremaining: 1.51s\n",
      "122:\tlearn: 0.1873277\ttotal: 211ms\tremaining: 1.5s\n",
      "123:\tlearn: 0.1866491\ttotal: 213ms\tremaining: 1.5s\n",
      "124:\tlearn: 0.1853131\ttotal: 214ms\tremaining: 1.5s\n",
      "125:\tlearn: 0.1843738\ttotal: 216ms\tremaining: 1.5s\n",
      "126:\tlearn: 0.1833958\ttotal: 218ms\tremaining: 1.5s\n",
      "127:\tlearn: 0.1825278\ttotal: 220ms\tremaining: 1.5s\n",
      "128:\tlearn: 0.1817425\ttotal: 221ms\tremaining: 1.49s\n",
      "129:\tlearn: 0.1806790\ttotal: 223ms\tremaining: 1.49s\n",
      "130:\tlearn: 0.1796218\ttotal: 225ms\tremaining: 1.49s\n",
      "131:\tlearn: 0.1783608\ttotal: 226ms\tremaining: 1.49s\n",
      "132:\tlearn: 0.1775757\ttotal: 228ms\tremaining: 1.49s\n",
      "133:\tlearn: 0.1765235\ttotal: 231ms\tremaining: 1.49s\n",
      "134:\tlearn: 0.1758256\ttotal: 233ms\tremaining: 1.49s\n",
      "135:\tlearn: 0.1749838\ttotal: 234ms\tremaining: 1.49s\n",
      "136:\tlearn: 0.1742567\ttotal: 236ms\tremaining: 1.49s\n",
      "137:\tlearn: 0.1732437\ttotal: 237ms\tremaining: 1.48s\n",
      "138:\tlearn: 0.1724579\ttotal: 239ms\tremaining: 1.48s\n",
      "139:\tlearn: 0.1715229\ttotal: 241ms\tremaining: 1.48s\n",
      "140:\tlearn: 0.1704928\ttotal: 242ms\tremaining: 1.48s\n",
      "141:\tlearn: 0.1697963\ttotal: 244ms\tremaining: 1.47s\n",
      "142:\tlearn: 0.1691269\ttotal: 245ms\tremaining: 1.47s\n",
      "143:\tlearn: 0.1678066\ttotal: 247ms\tremaining: 1.47s\n",
      "144:\tlearn: 0.1668038\ttotal: 249ms\tremaining: 1.47s\n",
      "145:\tlearn: 0.1659214\ttotal: 250ms\tremaining: 1.46s\n",
      "146:\tlearn: 0.1648588\ttotal: 252ms\tremaining: 1.46s\n",
      "147:\tlearn: 0.1642649\ttotal: 254ms\tremaining: 1.46s\n",
      "148:\tlearn: 0.1632327\ttotal: 255ms\tremaining: 1.46s\n",
      "149:\tlearn: 0.1624254\ttotal: 257ms\tremaining: 1.45s\n",
      "150:\tlearn: 0.1616930\ttotal: 258ms\tremaining: 1.45s\n",
      "151:\tlearn: 0.1607762\ttotal: 260ms\tremaining: 1.45s\n",
      "152:\tlearn: 0.1601796\ttotal: 261ms\tremaining: 1.45s\n",
      "153:\tlearn: 0.1592664\ttotal: 263ms\tremaining: 1.44s\n",
      "154:\tlearn: 0.1586372\ttotal: 265ms\tremaining: 1.44s\n",
      "155:\tlearn: 0.1580853\ttotal: 266ms\tremaining: 1.44s\n",
      "156:\tlearn: 0.1571735\ttotal: 268ms\tremaining: 1.44s\n",
      "157:\tlearn: 0.1566315\ttotal: 269ms\tremaining: 1.44s\n",
      "158:\tlearn: 0.1561466\ttotal: 271ms\tremaining: 1.43s\n"
     ]
    },
    {
     "name": "stdout",
     "output_type": "stream",
     "text": [
      "159:\tlearn: 0.1552750\ttotal: 273ms\tremaining: 1.43s\n",
      "160:\tlearn: 0.1544572\ttotal: 275ms\tremaining: 1.43s\n",
      "161:\tlearn: 0.1537656\ttotal: 277ms\tremaining: 1.43s\n",
      "162:\tlearn: 0.1531492\ttotal: 279ms\tremaining: 1.43s\n",
      "163:\tlearn: 0.1526055\ttotal: 281ms\tremaining: 1.43s\n",
      "164:\tlearn: 0.1519916\ttotal: 283ms\tremaining: 1.43s\n",
      "165:\tlearn: 0.1511677\ttotal: 284ms\tremaining: 1.43s\n",
      "166:\tlearn: 0.1504822\ttotal: 286ms\tremaining: 1.43s\n",
      "167:\tlearn: 0.1497203\ttotal: 288ms\tremaining: 1.43s\n",
      "168:\tlearn: 0.1487337\ttotal: 290ms\tremaining: 1.42s\n",
      "169:\tlearn: 0.1484383\ttotal: 292ms\tremaining: 1.42s\n",
      "170:\tlearn: 0.1480889\ttotal: 293ms\tremaining: 1.42s\n",
      "171:\tlearn: 0.1473541\ttotal: 295ms\tremaining: 1.42s\n",
      "172:\tlearn: 0.1466311\ttotal: 297ms\tremaining: 1.42s\n",
      "173:\tlearn: 0.1459968\ttotal: 299ms\tremaining: 1.42s\n",
      "174:\tlearn: 0.1451328\ttotal: 301ms\tremaining: 1.42s\n",
      "175:\tlearn: 0.1445827\ttotal: 305ms\tremaining: 1.43s\n",
      "176:\tlearn: 0.1439070\ttotal: 307ms\tremaining: 1.43s\n",
      "177:\tlearn: 0.1431306\ttotal: 309ms\tremaining: 1.43s\n",
      "178:\tlearn: 0.1424887\ttotal: 311ms\tremaining: 1.42s\n",
      "179:\tlearn: 0.1417936\ttotal: 313ms\tremaining: 1.42s\n",
      "180:\tlearn: 0.1411309\ttotal: 314ms\tremaining: 1.42s\n",
      "181:\tlearn: 0.1405225\ttotal: 316ms\tremaining: 1.42s\n",
      "182:\tlearn: 0.1404272\ttotal: 317ms\tremaining: 1.42s\n",
      "183:\tlearn: 0.1398588\ttotal: 319ms\tremaining: 1.41s\n",
      "184:\tlearn: 0.1393452\ttotal: 321ms\tremaining: 1.41s\n",
      "185:\tlearn: 0.1388953\ttotal: 322ms\tremaining: 1.41s\n",
      "186:\tlearn: 0.1384939\ttotal: 324ms\tremaining: 1.41s\n",
      "187:\tlearn: 0.1378164\ttotal: 326ms\tremaining: 1.41s\n",
      "188:\tlearn: 0.1374530\ttotal: 328ms\tremaining: 1.41s\n",
      "189:\tlearn: 0.1367362\ttotal: 330ms\tremaining: 1.41s\n",
      "190:\tlearn: 0.1360338\ttotal: 332ms\tremaining: 1.41s\n",
      "191:\tlearn: 0.1353652\ttotal: 334ms\tremaining: 1.4s\n",
      "192:\tlearn: 0.1346919\ttotal: 336ms\tremaining: 1.4s\n",
      "193:\tlearn: 0.1342533\ttotal: 338ms\tremaining: 1.4s\n",
      "194:\tlearn: 0.1336606\ttotal: 339ms\tremaining: 1.4s\n",
      "195:\tlearn: 0.1332342\ttotal: 342ms\tremaining: 1.4s\n",
      "196:\tlearn: 0.1327247\ttotal: 344ms\tremaining: 1.4s\n",
      "197:\tlearn: 0.1322409\ttotal: 346ms\tremaining: 1.4s\n",
      "198:\tlearn: 0.1317591\ttotal: 349ms\tremaining: 1.4s\n",
      "199:\tlearn: 0.1309938\ttotal: 351ms\tremaining: 1.4s\n",
      "200:\tlearn: 0.1304019\ttotal: 353ms\tremaining: 1.4s\n",
      "201:\tlearn: 0.1298846\ttotal: 355ms\tremaining: 1.4s\n",
      "202:\tlearn: 0.1292719\ttotal: 356ms\tremaining: 1.4s\n",
      "203:\tlearn: 0.1285411\ttotal: 358ms\tremaining: 1.4s\n",
      "204:\tlearn: 0.1280206\ttotal: 360ms\tremaining: 1.4s\n",
      "205:\tlearn: 0.1272639\ttotal: 362ms\tremaining: 1.4s\n",
      "206:\tlearn: 0.1266028\ttotal: 364ms\tremaining: 1.39s\n",
      "207:\tlearn: 0.1260863\ttotal: 366ms\tremaining: 1.39s\n",
      "208:\tlearn: 0.1256518\ttotal: 368ms\tremaining: 1.39s\n",
      "209:\tlearn: 0.1251403\ttotal: 370ms\tremaining: 1.39s\n",
      "210:\tlearn: 0.1246146\ttotal: 372ms\tremaining: 1.39s\n",
      "211:\tlearn: 0.1240787\ttotal: 373ms\tremaining: 1.39s\n",
      "212:\tlearn: 0.1239327\ttotal: 375ms\tremaining: 1.38s\n",
      "213:\tlearn: 0.1235860\ttotal: 377ms\tremaining: 1.38s\n",
      "214:\tlearn: 0.1230138\ttotal: 378ms\tremaining: 1.38s\n",
      "215:\tlearn: 0.1225322\ttotal: 380ms\tremaining: 1.38s\n",
      "216:\tlearn: 0.1219512\ttotal: 382ms\tremaining: 1.38s\n",
      "217:\tlearn: 0.1214187\ttotal: 384ms\tremaining: 1.38s\n",
      "218:\tlearn: 0.1209299\ttotal: 385ms\tremaining: 1.37s\n",
      "219:\tlearn: 0.1204515\ttotal: 387ms\tremaining: 1.37s\n",
      "220:\tlearn: 0.1198784\ttotal: 389ms\tremaining: 1.37s\n",
      "221:\tlearn: 0.1194048\ttotal: 392ms\tremaining: 1.37s\n",
      "222:\tlearn: 0.1190443\ttotal: 393ms\tremaining: 1.37s\n",
      "223:\tlearn: 0.1185843\ttotal: 395ms\tremaining: 1.37s\n",
      "224:\tlearn: 0.1183189\ttotal: 396ms\tremaining: 1.36s\n",
      "225:\tlearn: 0.1178294\ttotal: 398ms\tremaining: 1.36s\n",
      "226:\tlearn: 0.1172321\ttotal: 400ms\tremaining: 1.36s\n",
      "227:\tlearn: 0.1167829\ttotal: 402ms\tremaining: 1.36s\n",
      "228:\tlearn: 0.1163248\ttotal: 404ms\tremaining: 1.36s\n",
      "229:\tlearn: 0.1157957\ttotal: 406ms\tremaining: 1.36s\n",
      "230:\tlearn: 0.1154138\ttotal: 408ms\tremaining: 1.36s\n",
      "231:\tlearn: 0.1150948\ttotal: 409ms\tremaining: 1.35s\n",
      "232:\tlearn: 0.1147192\ttotal: 411ms\tremaining: 1.35s\n",
      "233:\tlearn: 0.1142529\ttotal: 413ms\tremaining: 1.35s\n",
      "234:\tlearn: 0.1137975\ttotal: 414ms\tremaining: 1.35s\n",
      "235:\tlearn: 0.1133542\ttotal: 416ms\tremaining: 1.34s\n",
      "236:\tlearn: 0.1130259\ttotal: 417ms\tremaining: 1.34s\n",
      "237:\tlearn: 0.1126048\ttotal: 419ms\tremaining: 1.34s\n",
      "238:\tlearn: 0.1123413\ttotal: 420ms\tremaining: 1.34s\n",
      "239:\tlearn: 0.1119751\ttotal: 422ms\tremaining: 1.34s\n",
      "240:\tlearn: 0.1114227\ttotal: 424ms\tremaining: 1.33s\n",
      "241:\tlearn: 0.1110214\ttotal: 425ms\tremaining: 1.33s\n",
      "242:\tlearn: 0.1105399\ttotal: 427ms\tremaining: 1.33s\n",
      "243:\tlearn: 0.1099482\ttotal: 428ms\tremaining: 1.33s\n",
      "244:\tlearn: 0.1095720\ttotal: 430ms\tremaining: 1.32s\n",
      "245:\tlearn: 0.1092690\ttotal: 431ms\tremaining: 1.32s\n",
      "246:\tlearn: 0.1089154\ttotal: 433ms\tremaining: 1.32s\n",
      "247:\tlearn: 0.1084263\ttotal: 435ms\tremaining: 1.32s\n",
      "248:\tlearn: 0.1080719\ttotal: 436ms\tremaining: 1.31s\n",
      "249:\tlearn: 0.1077231\ttotal: 438ms\tremaining: 1.31s\n",
      "250:\tlearn: 0.1072935\ttotal: 439ms\tremaining: 1.31s\n",
      "251:\tlearn: 0.1069284\ttotal: 442ms\tremaining: 1.31s\n",
      "252:\tlearn: 0.1063486\ttotal: 444ms\tremaining: 1.31s\n",
      "253:\tlearn: 0.1058776\ttotal: 445ms\tremaining: 1.31s\n",
      "254:\tlearn: 0.1055280\ttotal: 447ms\tremaining: 1.3s\n",
      "255:\tlearn: 0.1051222\ttotal: 449ms\tremaining: 1.3s\n",
      "256:\tlearn: 0.1046879\ttotal: 451ms\tremaining: 1.3s\n",
      "257:\tlearn: 0.1043234\ttotal: 452ms\tremaining: 1.3s\n",
      "258:\tlearn: 0.1038964\ttotal: 454ms\tremaining: 1.3s\n",
      "259:\tlearn: 0.1035233\ttotal: 455ms\tremaining: 1.3s\n",
      "260:\tlearn: 0.1030886\ttotal: 457ms\tremaining: 1.29s\n",
      "261:\tlearn: 0.1024724\ttotal: 459ms\tremaining: 1.29s\n",
      "262:\tlearn: 0.1021106\ttotal: 461ms\tremaining: 1.29s\n",
      "263:\tlearn: 0.1018424\ttotal: 462ms\tremaining: 1.29s\n",
      "264:\tlearn: 0.1014694\ttotal: 464ms\tremaining: 1.28s\n",
      "265:\tlearn: 0.1011193\ttotal: 465ms\tremaining: 1.28s\n",
      "266:\tlearn: 0.1007980\ttotal: 467ms\tremaining: 1.28s\n",
      "267:\tlearn: 0.1004199\ttotal: 468ms\tremaining: 1.28s\n",
      "268:\tlearn: 0.1001730\ttotal: 470ms\tremaining: 1.28s\n",
      "269:\tlearn: 0.0996664\ttotal: 471ms\tremaining: 1.27s\n",
      "270:\tlearn: 0.0993016\ttotal: 473ms\tremaining: 1.27s\n",
      "271:\tlearn: 0.0989825\ttotal: 475ms\tremaining: 1.27s\n",
      "272:\tlearn: 0.0985849\ttotal: 476ms\tremaining: 1.27s\n",
      "273:\tlearn: 0.0983333\ttotal: 478ms\tremaining: 1.26s\n",
      "274:\tlearn: 0.0979823\ttotal: 479ms\tremaining: 1.26s\n",
      "275:\tlearn: 0.0978163\ttotal: 481ms\tremaining: 1.26s\n",
      "276:\tlearn: 0.0975805\ttotal: 482ms\tremaining: 1.26s\n",
      "277:\tlearn: 0.0972575\ttotal: 484ms\tremaining: 1.26s\n",
      "278:\tlearn: 0.0969957\ttotal: 485ms\tremaining: 1.25s\n",
      "279:\tlearn: 0.0967248\ttotal: 487ms\tremaining: 1.25s\n",
      "280:\tlearn: 0.0964486\ttotal: 489ms\tremaining: 1.25s\n",
      "281:\tlearn: 0.0961552\ttotal: 490ms\tremaining: 1.25s\n",
      "282:\tlearn: 0.0959088\ttotal: 492ms\tremaining: 1.25s\n",
      "283:\tlearn: 0.0955749\ttotal: 493ms\tremaining: 1.24s\n",
      "284:\tlearn: 0.0953362\ttotal: 495ms\tremaining: 1.24s\n",
      "285:\tlearn: 0.0949741\ttotal: 496ms\tremaining: 1.24s\n",
      "286:\tlearn: 0.0946601\ttotal: 498ms\tremaining: 1.24s\n",
      "287:\tlearn: 0.0943880\ttotal: 499ms\tremaining: 1.23s\n",
      "288:\tlearn: 0.0940356\ttotal: 501ms\tremaining: 1.23s\n",
      "289:\tlearn: 0.0936947\ttotal: 502ms\tremaining: 1.23s\n",
      "290:\tlearn: 0.0933548\ttotal: 504ms\tremaining: 1.23s\n",
      "291:\tlearn: 0.0931324\ttotal: 505ms\tremaining: 1.23s\n",
      "292:\tlearn: 0.0928218\ttotal: 507ms\tremaining: 1.22s\n",
      "293:\tlearn: 0.0923646\ttotal: 509ms\tremaining: 1.22s\n",
      "294:\tlearn: 0.0920643\ttotal: 511ms\tremaining: 1.22s\n",
      "295:\tlearn: 0.0915502\ttotal: 513ms\tremaining: 1.22s\n",
      "296:\tlearn: 0.0912304\ttotal: 515ms\tremaining: 1.22s\n",
      "297:\tlearn: 0.0908479\ttotal: 516ms\tremaining: 1.22s\n",
      "298:\tlearn: 0.0906284\ttotal: 518ms\tremaining: 1.21s\n",
      "299:\tlearn: 0.0903622\ttotal: 519ms\tremaining: 1.21s\n",
      "300:\tlearn: 0.0900561\ttotal: 521ms\tremaining: 1.21s\n",
      "301:\tlearn: 0.0896798\ttotal: 522ms\tremaining: 1.21s\n",
      "302:\tlearn: 0.0893204\ttotal: 524ms\tremaining: 1.2s\n",
      "303:\tlearn: 0.0890232\ttotal: 525ms\tremaining: 1.2s\n",
      "304:\tlearn: 0.0887770\ttotal: 527ms\tremaining: 1.2s\n",
      "305:\tlearn: 0.0884800\ttotal: 528ms\tremaining: 1.2s\n",
      "306:\tlearn: 0.0882178\ttotal: 530ms\tremaining: 1.2s\n",
      "307:\tlearn: 0.0878567\ttotal: 532ms\tremaining: 1.19s\n",
      "308:\tlearn: 0.0875259\ttotal: 533ms\tremaining: 1.19s\n",
      "309:\tlearn: 0.0873445\ttotal: 535ms\tremaining: 1.19s\n",
      "310:\tlearn: 0.0870360\ttotal: 536ms\tremaining: 1.19s\n",
      "311:\tlearn: 0.0867657\ttotal: 538ms\tremaining: 1.19s\n",
      "312:\tlearn: 0.0865242\ttotal: 539ms\tremaining: 1.18s\n",
      "313:\tlearn: 0.0862965\ttotal: 541ms\tremaining: 1.18s\n",
      "314:\tlearn: 0.0858903\ttotal: 542ms\tremaining: 1.18s\n",
      "315:\tlearn: 0.0856551\ttotal: 544ms\tremaining: 1.18s\n",
      "316:\tlearn: 0.0854285\ttotal: 545ms\tremaining: 1.18s\n",
      "317:\tlearn: 0.0851516\ttotal: 547ms\tremaining: 1.17s\n",
      "318:\tlearn: 0.0850369\ttotal: 548ms\tremaining: 1.17s\n",
      "319:\tlearn: 0.0848404\ttotal: 550ms\tremaining: 1.17s\n",
      "320:\tlearn: 0.0845491\ttotal: 552ms\tremaining: 1.17s\n",
      "321:\tlearn: 0.0841904\ttotal: 553ms\tremaining: 1.16s\n",
      "322:\tlearn: 0.0839076\ttotal: 555ms\tremaining: 1.16s\n",
      "323:\tlearn: 0.0836539\ttotal: 556ms\tremaining: 1.16s\n",
      "324:\tlearn: 0.0834165\ttotal: 558ms\tremaining: 1.16s\n",
      "325:\tlearn: 0.0832282\ttotal: 559ms\tremaining: 1.16s\n",
      "326:\tlearn: 0.0829692\ttotal: 560ms\tremaining: 1.15s\n",
      "327:\tlearn: 0.0826354\ttotal: 562ms\tremaining: 1.15s\n",
      "328:\tlearn: 0.0824371\ttotal: 563ms\tremaining: 1.15s\n",
      "329:\tlearn: 0.0820877\ttotal: 565ms\tremaining: 1.15s\n",
      "330:\tlearn: 0.0818016\ttotal: 566ms\tremaining: 1.14s\n",
      "331:\tlearn: 0.0815426\ttotal: 568ms\tremaining: 1.14s\n",
      "332:\tlearn: 0.0811780\ttotal: 570ms\tremaining: 1.14s\n",
      "333:\tlearn: 0.0809252\ttotal: 571ms\tremaining: 1.14s\n",
      "334:\tlearn: 0.0806392\ttotal: 573ms\tremaining: 1.14s\n",
      "335:\tlearn: 0.0802380\ttotal: 574ms\tremaining: 1.13s\n",
      "336:\tlearn: 0.0800276\ttotal: 576ms\tremaining: 1.13s\n",
      "337:\tlearn: 0.0797861\ttotal: 577ms\tremaining: 1.13s\n",
      "338:\tlearn: 0.0795832\ttotal: 579ms\tremaining: 1.13s\n",
      "339:\tlearn: 0.0795633\ttotal: 580ms\tremaining: 1.13s\n",
      "340:\tlearn: 0.0792544\ttotal: 581ms\tremaining: 1.12s\n",
      "341:\tlearn: 0.0789345\ttotal: 583ms\tremaining: 1.12s\n",
      "342:\tlearn: 0.0786758\ttotal: 585ms\tremaining: 1.12s\n",
      "343:\tlearn: 0.0784086\ttotal: 586ms\tremaining: 1.12s\n",
      "344:\tlearn: 0.0781640\ttotal: 588ms\tremaining: 1.11s\n",
      "345:\tlearn: 0.0777954\ttotal: 589ms\tremaining: 1.11s\n",
      "346:\tlearn: 0.0774087\ttotal: 591ms\tremaining: 1.11s\n",
      "347:\tlearn: 0.0771706\ttotal: 592ms\tremaining: 1.11s\n",
      "348:\tlearn: 0.0769411\ttotal: 594ms\tremaining: 1.11s\n",
      "349:\tlearn: 0.0769034\ttotal: 595ms\tremaining: 1.1s\n",
      "350:\tlearn: 0.0765493\ttotal: 596ms\tremaining: 1.1s\n",
      "351:\tlearn: 0.0763331\ttotal: 598ms\tremaining: 1.1s\n",
      "352:\tlearn: 0.0760383\ttotal: 599ms\tremaining: 1.1s\n",
      "353:\tlearn: 0.0757944\ttotal: 601ms\tremaining: 1.1s\n",
      "354:\tlearn: 0.0755499\ttotal: 602ms\tremaining: 1.09s\n",
      "355:\tlearn: 0.0753126\ttotal: 604ms\tremaining: 1.09s\n",
      "356:\tlearn: 0.0750679\ttotal: 605ms\tremaining: 1.09s\n",
      "357:\tlearn: 0.0748879\ttotal: 607ms\tremaining: 1.09s\n",
      "358:\tlearn: 0.0746486\ttotal: 608ms\tremaining: 1.09s\n",
      "359:\tlearn: 0.0744866\ttotal: 610ms\tremaining: 1.08s\n",
      "360:\tlearn: 0.0742447\ttotal: 611ms\tremaining: 1.08s\n",
      "361:\tlearn: 0.0740101\ttotal: 613ms\tremaining: 1.08s\n",
      "362:\tlearn: 0.0737907\ttotal: 614ms\tremaining: 1.08s\n",
      "363:\tlearn: 0.0736538\ttotal: 616ms\tremaining: 1.08s\n"
     ]
    },
    {
     "name": "stdout",
     "output_type": "stream",
     "text": [
      "364:\tlearn: 0.0733897\ttotal: 618ms\tremaining: 1.07s\n",
      "365:\tlearn: 0.0731153\ttotal: 620ms\tremaining: 1.07s\n",
      "366:\tlearn: 0.0731076\ttotal: 621ms\tremaining: 1.07s\n",
      "367:\tlearn: 0.0727480\ttotal: 622ms\tremaining: 1.07s\n",
      "368:\tlearn: 0.0724802\ttotal: 624ms\tremaining: 1.07s\n",
      "369:\tlearn: 0.0723018\ttotal: 626ms\tremaining: 1.06s\n",
      "370:\tlearn: 0.0721615\ttotal: 627ms\tremaining: 1.06s\n",
      "371:\tlearn: 0.0718949\ttotal: 629ms\tremaining: 1.06s\n",
      "372:\tlearn: 0.0717125\ttotal: 630ms\tremaining: 1.06s\n",
      "373:\tlearn: 0.0713710\ttotal: 632ms\tremaining: 1.06s\n",
      "374:\tlearn: 0.0711097\ttotal: 633ms\tremaining: 1.05s\n",
      "375:\tlearn: 0.0709130\ttotal: 635ms\tremaining: 1.05s\n",
      "376:\tlearn: 0.0706464\ttotal: 636ms\tremaining: 1.05s\n",
      "377:\tlearn: 0.0704323\ttotal: 638ms\tremaining: 1.05s\n",
      "378:\tlearn: 0.0702163\ttotal: 639ms\tremaining: 1.05s\n",
      "379:\tlearn: 0.0700283\ttotal: 641ms\tremaining: 1.04s\n",
      "380:\tlearn: 0.0697957\ttotal: 642ms\tremaining: 1.04s\n",
      "381:\tlearn: 0.0695822\ttotal: 644ms\tremaining: 1.04s\n",
      "382:\tlearn: 0.0695695\ttotal: 645ms\tremaining: 1.04s\n",
      "383:\tlearn: 0.0693689\ttotal: 646ms\tremaining: 1.04s\n",
      "384:\tlearn: 0.0691893\ttotal: 648ms\tremaining: 1.03s\n",
      "385:\tlearn: 0.0690249\ttotal: 649ms\tremaining: 1.03s\n",
      "386:\tlearn: 0.0688681\ttotal: 651ms\tremaining: 1.03s\n",
      "387:\tlearn: 0.0686991\ttotal: 653ms\tremaining: 1.03s\n",
      "388:\tlearn: 0.0684563\ttotal: 654ms\tremaining: 1.03s\n",
      "389:\tlearn: 0.0682700\ttotal: 656ms\tremaining: 1.02s\n",
      "390:\tlearn: 0.0680517\ttotal: 658ms\tremaining: 1.02s\n",
      "391:\tlearn: 0.0679260\ttotal: 659ms\tremaining: 1.02s\n",
      "392:\tlearn: 0.0677343\ttotal: 661ms\tremaining: 1.02s\n",
      "393:\tlearn: 0.0676016\ttotal: 662ms\tremaining: 1.02s\n",
      "394:\tlearn: 0.0673318\ttotal: 664ms\tremaining: 1.02s\n",
      "395:\tlearn: 0.0671082\ttotal: 665ms\tremaining: 1.01s\n",
      "396:\tlearn: 0.0668752\ttotal: 667ms\tremaining: 1.01s\n",
      "397:\tlearn: 0.0666312\ttotal: 668ms\tremaining: 1.01s\n",
      "398:\tlearn: 0.0664280\ttotal: 670ms\tremaining: 1.01s\n",
      "399:\tlearn: 0.0661954\ttotal: 671ms\tremaining: 1.01s\n",
      "400:\tlearn: 0.0659793\ttotal: 673ms\tremaining: 1s\n",
      "401:\tlearn: 0.0658005\ttotal: 674ms\tremaining: 1s\n",
      "402:\tlearn: 0.0655734\ttotal: 676ms\tremaining: 1s\n",
      "403:\tlearn: 0.0654330\ttotal: 677ms\tremaining: 999ms\n",
      "404:\tlearn: 0.0652905\ttotal: 679ms\tremaining: 997ms\n",
      "405:\tlearn: 0.0651232\ttotal: 680ms\tremaining: 995ms\n",
      "406:\tlearn: 0.0648702\ttotal: 682ms\tremaining: 994ms\n",
      "407:\tlearn: 0.0647119\ttotal: 683ms\tremaining: 992ms\n",
      "408:\tlearn: 0.0645646\ttotal: 685ms\tremaining: 990ms\n",
      "409:\tlearn: 0.0644498\ttotal: 687ms\tremaining: 988ms\n",
      "410:\tlearn: 0.0642664\ttotal: 688ms\tremaining: 986ms\n",
      "411:\tlearn: 0.0641100\ttotal: 690ms\tremaining: 984ms\n",
      "412:\tlearn: 0.0639101\ttotal: 691ms\tremaining: 983ms\n",
      "413:\tlearn: 0.0637323\ttotal: 693ms\tremaining: 981ms\n",
      "414:\tlearn: 0.0636174\ttotal: 695ms\tremaining: 979ms\n",
      "415:\tlearn: 0.0634256\ttotal: 696ms\tremaining: 978ms\n",
      "416:\tlearn: 0.0633424\ttotal: 698ms\tremaining: 975ms\n",
      "417:\tlearn: 0.0631533\ttotal: 699ms\tremaining: 974ms\n",
      "418:\tlearn: 0.0630062\ttotal: 701ms\tremaining: 972ms\n",
      "419:\tlearn: 0.0628743\ttotal: 702ms\tremaining: 970ms\n",
      "420:\tlearn: 0.0627310\ttotal: 704ms\tremaining: 968ms\n",
      "421:\tlearn: 0.0625103\ttotal: 705ms\tremaining: 966ms\n",
      "422:\tlearn: 0.0623244\ttotal: 707ms\tremaining: 964ms\n",
      "423:\tlearn: 0.0622031\ttotal: 708ms\tremaining: 962ms\n",
      "424:\tlearn: 0.0620221\ttotal: 710ms\tremaining: 960ms\n",
      "425:\tlearn: 0.0619043\ttotal: 711ms\tremaining: 959ms\n",
      "426:\tlearn: 0.0617239\ttotal: 713ms\tremaining: 957ms\n",
      "427:\tlearn: 0.0615084\ttotal: 715ms\tremaining: 955ms\n",
      "428:\tlearn: 0.0613252\ttotal: 716ms\tremaining: 953ms\n",
      "429:\tlearn: 0.0611959\ttotal: 718ms\tremaining: 952ms\n",
      "430:\tlearn: 0.0609564\ttotal: 719ms\tremaining: 950ms\n",
      "431:\tlearn: 0.0608247\ttotal: 721ms\tremaining: 948ms\n",
      "432:\tlearn: 0.0607015\ttotal: 723ms\tremaining: 946ms\n",
      "433:\tlearn: 0.0605110\ttotal: 724ms\tremaining: 944ms\n",
      "434:\tlearn: 0.0603852\ttotal: 726ms\tremaining: 943ms\n",
      "435:\tlearn: 0.0602363\ttotal: 727ms\tremaining: 941ms\n",
      "436:\tlearn: 0.0600412\ttotal: 729ms\tremaining: 939ms\n",
      "437:\tlearn: 0.0598629\ttotal: 731ms\tremaining: 938ms\n",
      "438:\tlearn: 0.0597041\ttotal: 733ms\tremaining: 936ms\n",
      "439:\tlearn: 0.0595277\ttotal: 735ms\tremaining: 935ms\n",
      "440:\tlearn: 0.0593597\ttotal: 736ms\tremaining: 933ms\n",
      "441:\tlearn: 0.0592649\ttotal: 738ms\tremaining: 931ms\n",
      "442:\tlearn: 0.0590693\ttotal: 739ms\tremaining: 929ms\n",
      "443:\tlearn: 0.0589813\ttotal: 740ms\tremaining: 927ms\n",
      "444:\tlearn: 0.0587999\ttotal: 742ms\tremaining: 925ms\n",
      "445:\tlearn: 0.0586406\ttotal: 743ms\tremaining: 923ms\n",
      "446:\tlearn: 0.0584646\ttotal: 745ms\tremaining: 922ms\n",
      "447:\tlearn: 0.0582766\ttotal: 746ms\tremaining: 920ms\n",
      "448:\tlearn: 0.0581417\ttotal: 748ms\tremaining: 918ms\n",
      "449:\tlearn: 0.0579697\ttotal: 750ms\tremaining: 916ms\n",
      "450:\tlearn: 0.0578312\ttotal: 751ms\tremaining: 914ms\n",
      "451:\tlearn: 0.0576866\ttotal: 753ms\tremaining: 913ms\n",
      "452:\tlearn: 0.0575740\ttotal: 754ms\tremaining: 911ms\n",
      "453:\tlearn: 0.0574347\ttotal: 756ms\tremaining: 909ms\n",
      "454:\tlearn: 0.0572739\ttotal: 758ms\tremaining: 907ms\n",
      "455:\tlearn: 0.0570709\ttotal: 759ms\tremaining: 906ms\n",
      "456:\tlearn: 0.0569457\ttotal: 761ms\tremaining: 904ms\n",
      "457:\tlearn: 0.0568127\ttotal: 762ms\tremaining: 902ms\n",
      "458:\tlearn: 0.0566530\ttotal: 764ms\tremaining: 900ms\n",
      "459:\tlearn: 0.0565563\ttotal: 765ms\tremaining: 898ms\n",
      "460:\tlearn: 0.0565243\ttotal: 766ms\tremaining: 896ms\n",
      "461:\tlearn: 0.0564038\ttotal: 768ms\tremaining: 894ms\n",
      "462:\tlearn: 0.0563037\ttotal: 770ms\tremaining: 892ms\n",
      "463:\tlearn: 0.0561448\ttotal: 771ms\tremaining: 891ms\n",
      "464:\tlearn: 0.0560378\ttotal: 773ms\tremaining: 889ms\n",
      "465:\tlearn: 0.0559058\ttotal: 774ms\tremaining: 887ms\n",
      "466:\tlearn: 0.0557156\ttotal: 776ms\tremaining: 885ms\n",
      "467:\tlearn: 0.0555778\ttotal: 777ms\tremaining: 883ms\n",
      "468:\tlearn: 0.0554495\ttotal: 779ms\tremaining: 882ms\n",
      "469:\tlearn: 0.0553184\ttotal: 780ms\tremaining: 880ms\n",
      "470:\tlearn: 0.0551961\ttotal: 782ms\tremaining: 878ms\n",
      "471:\tlearn: 0.0550432\ttotal: 783ms\tremaining: 876ms\n",
      "472:\tlearn: 0.0549217\ttotal: 785ms\tremaining: 875ms\n",
      "473:\tlearn: 0.0547846\ttotal: 787ms\tremaining: 873ms\n",
      "474:\tlearn: 0.0547081\ttotal: 788ms\tremaining: 871ms\n",
      "475:\tlearn: 0.0546050\ttotal: 790ms\tremaining: 869ms\n",
      "476:\tlearn: 0.0544720\ttotal: 791ms\tremaining: 868ms\n",
      "477:\tlearn: 0.0543484\ttotal: 793ms\tremaining: 866ms\n",
      "478:\tlearn: 0.0542551\ttotal: 794ms\tremaining: 864ms\n",
      "479:\tlearn: 0.0541041\ttotal: 796ms\tremaining: 862ms\n",
      "480:\tlearn: 0.0539765\ttotal: 797ms\tremaining: 860ms\n",
      "481:\tlearn: 0.0538521\ttotal: 799ms\tremaining: 859ms\n",
      "482:\tlearn: 0.0537074\ttotal: 801ms\tremaining: 857ms\n",
      "483:\tlearn: 0.0535431\ttotal: 802ms\tremaining: 855ms\n",
      "484:\tlearn: 0.0534195\ttotal: 804ms\tremaining: 853ms\n",
      "485:\tlearn: 0.0532674\ttotal: 806ms\tremaining: 852ms\n",
      "486:\tlearn: 0.0531229\ttotal: 807ms\tremaining: 850ms\n",
      "487:\tlearn: 0.0530020\ttotal: 809ms\tremaining: 849ms\n",
      "488:\tlearn: 0.0528841\ttotal: 811ms\tremaining: 847ms\n",
      "489:\tlearn: 0.0527591\ttotal: 812ms\tremaining: 845ms\n",
      "490:\tlearn: 0.0525863\ttotal: 814ms\tremaining: 843ms\n",
      "491:\tlearn: 0.0524632\ttotal: 815ms\tremaining: 842ms\n",
      "492:\tlearn: 0.0523997\ttotal: 816ms\tremaining: 839ms\n",
      "493:\tlearn: 0.0523024\ttotal: 818ms\tremaining: 838ms\n",
      "494:\tlearn: 0.0522076\ttotal: 820ms\tremaining: 836ms\n",
      "495:\tlearn: 0.0520754\ttotal: 821ms\tremaining: 834ms\n",
      "496:\tlearn: 0.0519573\ttotal: 823ms\tremaining: 833ms\n",
      "497:\tlearn: 0.0518579\ttotal: 824ms\tremaining: 831ms\n",
      "498:\tlearn: 0.0516590\ttotal: 826ms\tremaining: 830ms\n",
      "499:\tlearn: 0.0514640\ttotal: 828ms\tremaining: 828ms\n",
      "500:\tlearn: 0.0512980\ttotal: 830ms\tremaining: 827ms\n",
      "501:\tlearn: 0.0512020\ttotal: 832ms\tremaining: 825ms\n",
      "502:\tlearn: 0.0510618\ttotal: 833ms\tremaining: 823ms\n",
      "503:\tlearn: 0.0508972\ttotal: 835ms\tremaining: 821ms\n",
      "504:\tlearn: 0.0507993\ttotal: 836ms\tremaining: 820ms\n",
      "505:\tlearn: 0.0506941\ttotal: 838ms\tremaining: 818ms\n",
      "506:\tlearn: 0.0506410\ttotal: 839ms\tremaining: 816ms\n",
      "507:\tlearn: 0.0504749\ttotal: 840ms\tremaining: 814ms\n",
      "508:\tlearn: 0.0503786\ttotal: 842ms\tremaining: 812ms\n",
      "509:\tlearn: 0.0502489\ttotal: 843ms\tremaining: 810ms\n",
      "510:\tlearn: 0.0500775\ttotal: 845ms\tremaining: 808ms\n",
      "511:\tlearn: 0.0499447\ttotal: 846ms\tremaining: 807ms\n",
      "512:\tlearn: 0.0498130\ttotal: 848ms\tremaining: 805ms\n",
      "513:\tlearn: 0.0496881\ttotal: 849ms\tremaining: 803ms\n",
      "514:\tlearn: 0.0495596\ttotal: 851ms\tremaining: 801ms\n",
      "515:\tlearn: 0.0494481\ttotal: 853ms\tremaining: 800ms\n",
      "516:\tlearn: 0.0493409\ttotal: 854ms\tremaining: 798ms\n",
      "517:\tlearn: 0.0492085\ttotal: 856ms\tremaining: 796ms\n",
      "518:\tlearn: 0.0491087\ttotal: 857ms\tremaining: 795ms\n",
      "519:\tlearn: 0.0490032\ttotal: 859ms\tremaining: 793ms\n",
      "520:\tlearn: 0.0488885\ttotal: 861ms\tremaining: 791ms\n",
      "521:\tlearn: 0.0488001\ttotal: 862ms\tremaining: 790ms\n",
      "522:\tlearn: 0.0487067\ttotal: 864ms\tremaining: 788ms\n",
      "523:\tlearn: 0.0486050\ttotal: 865ms\tremaining: 786ms\n",
      "524:\tlearn: 0.0484118\ttotal: 867ms\tremaining: 784ms\n",
      "525:\tlearn: 0.0482613\ttotal: 868ms\tremaining: 783ms\n",
      "526:\tlearn: 0.0481884\ttotal: 870ms\tremaining: 781ms\n",
      "527:\tlearn: 0.0480914\ttotal: 872ms\tremaining: 779ms\n",
      "528:\tlearn: 0.0479928\ttotal: 873ms\tremaining: 777ms\n",
      "529:\tlearn: 0.0479095\ttotal: 875ms\tremaining: 776ms\n",
      "530:\tlearn: 0.0477555\ttotal: 876ms\tremaining: 774ms\n",
      "531:\tlearn: 0.0476313\ttotal: 878ms\tremaining: 773ms\n",
      "532:\tlearn: 0.0474802\ttotal: 880ms\tremaining: 771ms\n",
      "533:\tlearn: 0.0473575\ttotal: 882ms\tremaining: 770ms\n",
      "534:\tlearn: 0.0472231\ttotal: 885ms\tremaining: 769ms\n",
      "535:\tlearn: 0.0470831\ttotal: 886ms\tremaining: 767ms\n",
      "536:\tlearn: 0.0469727\ttotal: 888ms\tremaining: 765ms\n",
      "537:\tlearn: 0.0468733\ttotal: 889ms\tremaining: 764ms\n",
      "538:\tlearn: 0.0467597\ttotal: 891ms\tremaining: 762ms\n",
      "539:\tlearn: 0.0466332\ttotal: 893ms\tremaining: 761ms\n",
      "540:\tlearn: 0.0465537\ttotal: 895ms\tremaining: 760ms\n",
      "541:\tlearn: 0.0464584\ttotal: 897ms\tremaining: 758ms\n",
      "542:\tlearn: 0.0463773\ttotal: 899ms\tremaining: 756ms\n",
      "543:\tlearn: 0.0462628\ttotal: 901ms\tremaining: 755ms\n",
      "544:\tlearn: 0.0461375\ttotal: 902ms\tremaining: 753ms\n",
      "545:\tlearn: 0.0460575\ttotal: 904ms\tremaining: 752ms\n",
      "546:\tlearn: 0.0459574\ttotal: 906ms\tremaining: 750ms\n",
      "547:\tlearn: 0.0458370\ttotal: 908ms\tremaining: 749ms\n",
      "548:\tlearn: 0.0457307\ttotal: 909ms\tremaining: 747ms\n",
      "549:\tlearn: 0.0456126\ttotal: 911ms\tremaining: 745ms\n",
      "550:\tlearn: 0.0455013\ttotal: 912ms\tremaining: 743ms\n",
      "551:\tlearn: 0.0453796\ttotal: 914ms\tremaining: 742ms\n",
      "552:\tlearn: 0.0452160\ttotal: 915ms\tremaining: 740ms\n",
      "553:\tlearn: 0.0450812\ttotal: 917ms\tremaining: 738ms\n",
      "554:\tlearn: 0.0449873\ttotal: 918ms\tremaining: 736ms\n",
      "555:\tlearn: 0.0448322\ttotal: 920ms\tremaining: 735ms\n",
      "556:\tlearn: 0.0447293\ttotal: 921ms\tremaining: 733ms\n",
      "557:\tlearn: 0.0445762\ttotal: 923ms\tremaining: 731ms\n",
      "558:\tlearn: 0.0444614\ttotal: 924ms\tremaining: 729ms\n",
      "559:\tlearn: 0.0443525\ttotal: 926ms\tremaining: 728ms\n",
      "560:\tlearn: 0.0442862\ttotal: 928ms\tremaining: 726ms\n",
      "561:\tlearn: 0.0441660\ttotal: 929ms\tremaining: 724ms\n",
      "562:\tlearn: 0.0440533\ttotal: 931ms\tremaining: 722ms\n",
      "563:\tlearn: 0.0439375\ttotal: 932ms\tremaining: 721ms\n",
      "564:\tlearn: 0.0438259\ttotal: 934ms\tremaining: 719ms\n",
      "565:\tlearn: 0.0437202\ttotal: 935ms\tremaining: 717ms\n",
      "566:\tlearn: 0.0436350\ttotal: 937ms\tremaining: 715ms\n",
      "567:\tlearn: 0.0435509\ttotal: 938ms\tremaining: 714ms\n",
      "568:\tlearn: 0.0434647\ttotal: 940ms\tremaining: 712ms\n",
      "569:\tlearn: 0.0433693\ttotal: 941ms\tremaining: 710ms\n",
      "570:\tlearn: 0.0432956\ttotal: 943ms\tremaining: 708ms\n",
      "571:\tlearn: 0.0431723\ttotal: 944ms\tremaining: 707ms\n",
      "572:\tlearn: 0.0430622\ttotal: 946ms\tremaining: 705ms\n",
      "573:\tlearn: 0.0429507\ttotal: 947ms\tremaining: 703ms\n",
      "574:\tlearn: 0.0428474\ttotal: 949ms\tremaining: 701ms\n",
      "575:\tlearn: 0.0427629\ttotal: 950ms\tremaining: 700ms\n",
      "576:\tlearn: 0.0426618\ttotal: 952ms\tremaining: 698ms\n",
      "577:\tlearn: 0.0425750\ttotal: 953ms\tremaining: 696ms\n"
     ]
    },
    {
     "name": "stdout",
     "output_type": "stream",
     "text": [
      "578:\tlearn: 0.0424707\ttotal: 955ms\tremaining: 695ms\n",
      "579:\tlearn: 0.0423672\ttotal: 957ms\tremaining: 693ms\n",
      "580:\tlearn: 0.0422357\ttotal: 958ms\tremaining: 691ms\n",
      "581:\tlearn: 0.0421253\ttotal: 960ms\tremaining: 689ms\n",
      "582:\tlearn: 0.0420722\ttotal: 961ms\tremaining: 688ms\n",
      "583:\tlearn: 0.0419585\ttotal: 963ms\tremaining: 686ms\n",
      "584:\tlearn: 0.0418474\ttotal: 964ms\tremaining: 684ms\n",
      "585:\tlearn: 0.0417753\ttotal: 966ms\tremaining: 682ms\n",
      "586:\tlearn: 0.0416811\ttotal: 967ms\tremaining: 681ms\n",
      "587:\tlearn: 0.0416406\ttotal: 969ms\tremaining: 679ms\n",
      "588:\tlearn: 0.0415460\ttotal: 971ms\tremaining: 677ms\n",
      "589:\tlearn: 0.0414634\ttotal: 972ms\tremaining: 676ms\n",
      "590:\tlearn: 0.0413640\ttotal: 974ms\tremaining: 674ms\n",
      "591:\tlearn: 0.0412400\ttotal: 975ms\tremaining: 672ms\n",
      "592:\tlearn: 0.0411574\ttotal: 977ms\tremaining: 670ms\n",
      "593:\tlearn: 0.0410779\ttotal: 978ms\tremaining: 669ms\n",
      "594:\tlearn: 0.0410078\ttotal: 980ms\tremaining: 667ms\n",
      "595:\tlearn: 0.0408932\ttotal: 981ms\tremaining: 665ms\n",
      "596:\tlearn: 0.0407731\ttotal: 983ms\tremaining: 663ms\n",
      "597:\tlearn: 0.0406891\ttotal: 984ms\tremaining: 662ms\n",
      "598:\tlearn: 0.0406732\ttotal: 986ms\tremaining: 660ms\n",
      "599:\tlearn: 0.0405375\ttotal: 987ms\tremaining: 658ms\n",
      "600:\tlearn: 0.0404417\ttotal: 989ms\tremaining: 656ms\n",
      "601:\tlearn: 0.0403614\ttotal: 990ms\tremaining: 655ms\n",
      "602:\tlearn: 0.0402850\ttotal: 992ms\tremaining: 653ms\n",
      "603:\tlearn: 0.0402090\ttotal: 993ms\tremaining: 651ms\n",
      "604:\tlearn: 0.0401135\ttotal: 995ms\tremaining: 650ms\n",
      "605:\tlearn: 0.0399816\ttotal: 997ms\tremaining: 648ms\n",
      "606:\tlearn: 0.0398966\ttotal: 998ms\tremaining: 646ms\n",
      "607:\tlearn: 0.0398483\ttotal: 1000ms\tremaining: 644ms\n",
      "608:\tlearn: 0.0397641\ttotal: 1s\tremaining: 643ms\n",
      "609:\tlearn: 0.0396750\ttotal: 1s\tremaining: 641ms\n",
      "610:\tlearn: 0.0396011\ttotal: 1s\tremaining: 639ms\n",
      "611:\tlearn: 0.0395099\ttotal: 1s\tremaining: 638ms\n",
      "612:\tlearn: 0.0394461\ttotal: 1.01s\tremaining: 636ms\n",
      "613:\tlearn: 0.0393810\ttotal: 1.01s\tremaining: 634ms\n",
      "614:\tlearn: 0.0393099\ttotal: 1.01s\tremaining: 632ms\n",
      "615:\tlearn: 0.0391903\ttotal: 1.01s\tremaining: 631ms\n",
      "616:\tlearn: 0.0391000\ttotal: 1.01s\tremaining: 629ms\n",
      "617:\tlearn: 0.0390221\ttotal: 1.01s\tremaining: 627ms\n",
      "618:\tlearn: 0.0389177\ttotal: 1.02s\tremaining: 626ms\n",
      "619:\tlearn: 0.0388429\ttotal: 1.02s\tremaining: 624ms\n",
      "620:\tlearn: 0.0387487\ttotal: 1.02s\tremaining: 622ms\n",
      "621:\tlearn: 0.0386745\ttotal: 1.02s\tremaining: 620ms\n",
      "622:\tlearn: 0.0386063\ttotal: 1.02s\tremaining: 619ms\n",
      "623:\tlearn: 0.0384916\ttotal: 1.02s\tremaining: 617ms\n",
      "624:\tlearn: 0.0384291\ttotal: 1.02s\tremaining: 615ms\n",
      "625:\tlearn: 0.0383558\ttotal: 1.03s\tremaining: 614ms\n",
      "626:\tlearn: 0.0382569\ttotal: 1.03s\tremaining: 612ms\n",
      "627:\tlearn: 0.0381642\ttotal: 1.03s\tremaining: 610ms\n",
      "628:\tlearn: 0.0380390\ttotal: 1.03s\tremaining: 608ms\n",
      "629:\tlearn: 0.0379553\ttotal: 1.03s\tremaining: 607ms\n",
      "630:\tlearn: 0.0378252\ttotal: 1.03s\tremaining: 605ms\n",
      "631:\tlearn: 0.0377039\ttotal: 1.04s\tremaining: 603ms\n",
      "632:\tlearn: 0.0376262\ttotal: 1.04s\tremaining: 602ms\n",
      "633:\tlearn: 0.0375089\ttotal: 1.04s\tremaining: 600ms\n",
      "634:\tlearn: 0.0374167\ttotal: 1.04s\tremaining: 598ms\n",
      "635:\tlearn: 0.0374008\ttotal: 1.04s\tremaining: 596ms\n",
      "636:\tlearn: 0.0372950\ttotal: 1.04s\tremaining: 594ms\n",
      "637:\tlearn: 0.0372116\ttotal: 1.04s\tremaining: 593ms\n",
      "638:\tlearn: 0.0371160\ttotal: 1.05s\tremaining: 591ms\n",
      "639:\tlearn: 0.0370363\ttotal: 1.05s\tremaining: 589ms\n",
      "640:\tlearn: 0.0369522\ttotal: 1.05s\tremaining: 588ms\n",
      "641:\tlearn: 0.0368808\ttotal: 1.05s\tremaining: 586ms\n",
      "642:\tlearn: 0.0368150\ttotal: 1.05s\tremaining: 584ms\n",
      "643:\tlearn: 0.0367468\ttotal: 1.05s\tremaining: 583ms\n",
      "644:\tlearn: 0.0366827\ttotal: 1.05s\tremaining: 581ms\n",
      "645:\tlearn: 0.0366008\ttotal: 1.06s\tremaining: 579ms\n",
      "646:\tlearn: 0.0365125\ttotal: 1.06s\tremaining: 577ms\n",
      "647:\tlearn: 0.0364493\ttotal: 1.06s\tremaining: 576ms\n",
      "648:\tlearn: 0.0363529\ttotal: 1.06s\tremaining: 574ms\n",
      "649:\tlearn: 0.0362816\ttotal: 1.06s\tremaining: 572ms\n",
      "650:\tlearn: 0.0362223\ttotal: 1.06s\tremaining: 571ms\n",
      "651:\tlearn: 0.0361631\ttotal: 1.07s\tremaining: 569ms\n",
      "652:\tlearn: 0.0360713\ttotal: 1.07s\tremaining: 567ms\n",
      "653:\tlearn: 0.0360046\ttotal: 1.07s\tremaining: 566ms\n",
      "654:\tlearn: 0.0359228\ttotal: 1.07s\tremaining: 564ms\n",
      "655:\tlearn: 0.0358494\ttotal: 1.07s\tremaining: 562ms\n",
      "656:\tlearn: 0.0357588\ttotal: 1.07s\tremaining: 561ms\n",
      "657:\tlearn: 0.0356697\ttotal: 1.07s\tremaining: 559ms\n",
      "658:\tlearn: 0.0355601\ttotal: 1.08s\tremaining: 557ms\n",
      "659:\tlearn: 0.0354948\ttotal: 1.08s\tremaining: 556ms\n",
      "660:\tlearn: 0.0353834\ttotal: 1.08s\tremaining: 554ms\n",
      "661:\tlearn: 0.0353137\ttotal: 1.08s\tremaining: 552ms\n",
      "662:\tlearn: 0.0352263\ttotal: 1.08s\tremaining: 550ms\n",
      "663:\tlearn: 0.0351693\ttotal: 1.08s\tremaining: 549ms\n",
      "664:\tlearn: 0.0350863\ttotal: 1.09s\tremaining: 547ms\n",
      "665:\tlearn: 0.0349906\ttotal: 1.09s\tremaining: 545ms\n",
      "666:\tlearn: 0.0349345\ttotal: 1.09s\tremaining: 544ms\n",
      "667:\tlearn: 0.0348643\ttotal: 1.09s\tremaining: 542ms\n",
      "668:\tlearn: 0.0347904\ttotal: 1.09s\tremaining: 540ms\n",
      "669:\tlearn: 0.0347205\ttotal: 1.09s\tremaining: 539ms\n",
      "670:\tlearn: 0.0346420\ttotal: 1.09s\tremaining: 537ms\n",
      "671:\tlearn: 0.0345761\ttotal: 1.1s\tremaining: 535ms\n",
      "672:\tlearn: 0.0344807\ttotal: 1.1s\tremaining: 534ms\n",
      "673:\tlearn: 0.0344083\ttotal: 1.1s\tremaining: 532ms\n",
      "674:\tlearn: 0.0343512\ttotal: 1.1s\tremaining: 530ms\n",
      "675:\tlearn: 0.0342793\ttotal: 1.1s\tremaining: 529ms\n",
      "676:\tlearn: 0.0342298\ttotal: 1.1s\tremaining: 527ms\n",
      "677:\tlearn: 0.0341866\ttotal: 1.11s\tremaining: 525ms\n",
      "678:\tlearn: 0.0341209\ttotal: 1.11s\tremaining: 524ms\n",
      "679:\tlearn: 0.0340470\ttotal: 1.11s\tremaining: 522ms\n",
      "680:\tlearn: 0.0339631\ttotal: 1.11s\tremaining: 520ms\n",
      "681:\tlearn: 0.0339153\ttotal: 1.11s\tremaining: 519ms\n",
      "682:\tlearn: 0.0338230\ttotal: 1.11s\tremaining: 517ms\n",
      "683:\tlearn: 0.0338104\ttotal: 1.11s\tremaining: 515ms\n",
      "684:\tlearn: 0.0337490\ttotal: 1.12s\tremaining: 513ms\n",
      "685:\tlearn: 0.0336612\ttotal: 1.12s\tremaining: 512ms\n",
      "686:\tlearn: 0.0335941\ttotal: 1.12s\tremaining: 510ms\n",
      "687:\tlearn: 0.0335306\ttotal: 1.12s\tremaining: 508ms\n",
      "688:\tlearn: 0.0334448\ttotal: 1.12s\tremaining: 507ms\n",
      "689:\tlearn: 0.0333918\ttotal: 1.12s\tremaining: 505ms\n",
      "690:\tlearn: 0.0333237\ttotal: 1.13s\tremaining: 504ms\n",
      "691:\tlearn: 0.0332170\ttotal: 1.13s\tremaining: 502ms\n",
      "692:\tlearn: 0.0331300\ttotal: 1.13s\tremaining: 500ms\n",
      "693:\tlearn: 0.0330709\ttotal: 1.13s\tremaining: 499ms\n",
      "694:\tlearn: 0.0330095\ttotal: 1.13s\tremaining: 497ms\n",
      "695:\tlearn: 0.0329393\ttotal: 1.13s\tremaining: 496ms\n",
      "696:\tlearn: 0.0328583\ttotal: 1.14s\tremaining: 494ms\n",
      "697:\tlearn: 0.0327829\ttotal: 1.14s\tremaining: 492ms\n",
      "698:\tlearn: 0.0327295\ttotal: 1.14s\tremaining: 491ms\n",
      "699:\tlearn: 0.0326613\ttotal: 1.14s\tremaining: 489ms\n",
      "700:\tlearn: 0.0325613\ttotal: 1.14s\tremaining: 488ms\n",
      "701:\tlearn: 0.0325014\ttotal: 1.14s\tremaining: 486ms\n",
      "702:\tlearn: 0.0324326\ttotal: 1.15s\tremaining: 484ms\n",
      "703:\tlearn: 0.0323589\ttotal: 1.15s\tremaining: 483ms\n",
      "704:\tlearn: 0.0323433\ttotal: 1.15s\tremaining: 481ms\n",
      "705:\tlearn: 0.0322701\ttotal: 1.15s\tremaining: 479ms\n",
      "706:\tlearn: 0.0322139\ttotal: 1.15s\tremaining: 478ms\n",
      "707:\tlearn: 0.0321157\ttotal: 1.15s\tremaining: 476ms\n",
      "708:\tlearn: 0.0320449\ttotal: 1.16s\tremaining: 474ms\n",
      "709:\tlearn: 0.0319756\ttotal: 1.16s\tremaining: 473ms\n",
      "710:\tlearn: 0.0318962\ttotal: 1.16s\tremaining: 471ms\n",
      "711:\tlearn: 0.0318183\ttotal: 1.16s\tremaining: 470ms\n",
      "712:\tlearn: 0.0317660\ttotal: 1.16s\tremaining: 468ms\n",
      "713:\tlearn: 0.0317214\ttotal: 1.16s\tremaining: 467ms\n",
      "714:\tlearn: 0.0316417\ttotal: 1.17s\tremaining: 465ms\n",
      "715:\tlearn: 0.0315744\ttotal: 1.17s\tremaining: 463ms\n",
      "716:\tlearn: 0.0315179\ttotal: 1.17s\tremaining: 462ms\n",
      "717:\tlearn: 0.0314396\ttotal: 1.17s\tremaining: 460ms\n",
      "718:\tlearn: 0.0313733\ttotal: 1.17s\tremaining: 458ms\n",
      "719:\tlearn: 0.0313141\ttotal: 1.17s\tremaining: 457ms\n",
      "720:\tlearn: 0.0312502\ttotal: 1.18s\tremaining: 455ms\n",
      "721:\tlearn: 0.0311982\ttotal: 1.18s\tremaining: 454ms\n",
      "722:\tlearn: 0.0311313\ttotal: 1.18s\tremaining: 452ms\n",
      "723:\tlearn: 0.0310810\ttotal: 1.18s\tremaining: 450ms\n",
      "724:\tlearn: 0.0310184\ttotal: 1.18s\tremaining: 449ms\n",
      "725:\tlearn: 0.0309420\ttotal: 1.18s\tremaining: 447ms\n",
      "726:\tlearn: 0.0308774\ttotal: 1.19s\tremaining: 446ms\n",
      "727:\tlearn: 0.0308274\ttotal: 1.19s\tremaining: 444ms\n",
      "728:\tlearn: 0.0307700\ttotal: 1.19s\tremaining: 443ms\n",
      "729:\tlearn: 0.0307053\ttotal: 1.19s\tremaining: 441ms\n",
      "730:\tlearn: 0.0306479\ttotal: 1.19s\tremaining: 439ms\n",
      "731:\tlearn: 0.0305568\ttotal: 1.2s\tremaining: 438ms\n",
      "732:\tlearn: 0.0304967\ttotal: 1.2s\tremaining: 436ms\n",
      "733:\tlearn: 0.0304339\ttotal: 1.2s\tremaining: 434ms\n",
      "734:\tlearn: 0.0303710\ttotal: 1.2s\tremaining: 433ms\n",
      "735:\tlearn: 0.0302893\ttotal: 1.2s\tremaining: 431ms\n",
      "736:\tlearn: 0.0302229\ttotal: 1.2s\tremaining: 430ms\n",
      "737:\tlearn: 0.0301700\ttotal: 1.21s\tremaining: 428ms\n",
      "738:\tlearn: 0.0301046\ttotal: 1.21s\tremaining: 426ms\n",
      "739:\tlearn: 0.0300268\ttotal: 1.21s\tremaining: 425ms\n",
      "740:\tlearn: 0.0299638\ttotal: 1.21s\tremaining: 423ms\n",
      "741:\tlearn: 0.0298921\ttotal: 1.21s\tremaining: 422ms\n",
      "742:\tlearn: 0.0298089\ttotal: 1.21s\tremaining: 420ms\n",
      "743:\tlearn: 0.0297566\ttotal: 1.22s\tremaining: 418ms\n",
      "744:\tlearn: 0.0296945\ttotal: 1.22s\tremaining: 417ms\n",
      "745:\tlearn: 0.0296339\ttotal: 1.22s\tremaining: 415ms\n",
      "746:\tlearn: 0.0295716\ttotal: 1.22s\tremaining: 414ms\n",
      "747:\tlearn: 0.0295118\ttotal: 1.22s\tremaining: 412ms\n",
      "748:\tlearn: 0.0294555\ttotal: 1.22s\tremaining: 410ms\n",
      "749:\tlearn: 0.0293948\ttotal: 1.23s\tremaining: 409ms\n",
      "750:\tlearn: 0.0293427\ttotal: 1.23s\tremaining: 407ms\n",
      "751:\tlearn: 0.0292689\ttotal: 1.23s\tremaining: 405ms\n",
      "752:\tlearn: 0.0292084\ttotal: 1.23s\tremaining: 404ms\n",
      "753:\tlearn: 0.0291267\ttotal: 1.23s\tremaining: 402ms\n",
      "754:\tlearn: 0.0290766\ttotal: 1.23s\tremaining: 401ms\n",
      "755:\tlearn: 0.0290237\ttotal: 1.24s\tremaining: 399ms\n",
      "756:\tlearn: 0.0289435\ttotal: 1.24s\tremaining: 397ms\n",
      "757:\tlearn: 0.0288957\ttotal: 1.24s\tremaining: 396ms\n",
      "758:\tlearn: 0.0288468\ttotal: 1.24s\tremaining: 394ms\n",
      "759:\tlearn: 0.0287980\ttotal: 1.24s\tremaining: 393ms\n",
      "760:\tlearn: 0.0287388\ttotal: 1.24s\tremaining: 391ms\n",
      "761:\tlearn: 0.0286841\ttotal: 1.25s\tremaining: 389ms\n",
      "762:\tlearn: 0.0286307\ttotal: 1.25s\tremaining: 388ms\n",
      "763:\tlearn: 0.0285557\ttotal: 1.25s\tremaining: 386ms\n",
      "764:\tlearn: 0.0285048\ttotal: 1.25s\tremaining: 384ms\n",
      "765:\tlearn: 0.0284523\ttotal: 1.25s\tremaining: 383ms\n",
      "766:\tlearn: 0.0284122\ttotal: 1.25s\tremaining: 381ms\n",
      "767:\tlearn: 0.0283672\ttotal: 1.26s\tremaining: 380ms\n",
      "768:\tlearn: 0.0282902\ttotal: 1.26s\tremaining: 378ms\n",
      "769:\tlearn: 0.0282262\ttotal: 1.26s\tremaining: 376ms\n",
      "770:\tlearn: 0.0281637\ttotal: 1.26s\tremaining: 375ms\n",
      "771:\tlearn: 0.0280912\ttotal: 1.26s\tremaining: 373ms\n",
      "772:\tlearn: 0.0280160\ttotal: 1.26s\tremaining: 372ms\n",
      "773:\tlearn: 0.0279612\ttotal: 1.27s\tremaining: 370ms\n",
      "774:\tlearn: 0.0278990\ttotal: 1.27s\tremaining: 368ms\n",
      "775:\tlearn: 0.0278441\ttotal: 1.27s\tremaining: 367ms\n",
      "776:\tlearn: 0.0277859\ttotal: 1.27s\tremaining: 365ms\n",
      "777:\tlearn: 0.0277338\ttotal: 1.27s\tremaining: 363ms\n",
      "778:\tlearn: 0.0276669\ttotal: 1.27s\tremaining: 362ms\n",
      "779:\tlearn: 0.0276057\ttotal: 1.28s\tremaining: 360ms\n",
      "780:\tlearn: 0.0275293\ttotal: 1.28s\tremaining: 358ms\n",
      "781:\tlearn: 0.0274693\ttotal: 1.28s\tremaining: 357ms\n",
      "782:\tlearn: 0.0274228\ttotal: 1.28s\tremaining: 355ms\n",
      "783:\tlearn: 0.0273512\ttotal: 1.28s\tremaining: 353ms\n",
      "784:\tlearn: 0.0272923\ttotal: 1.28s\tremaining: 352ms\n",
      "785:\tlearn: 0.0272380\ttotal: 1.28s\tremaining: 350ms\n",
      "786:\tlearn: 0.0271876\ttotal: 1.29s\tremaining: 348ms\n",
      "787:\tlearn: 0.0271307\ttotal: 1.29s\tremaining: 347ms\n",
      "788:\tlearn: 0.0270602\ttotal: 1.29s\tremaining: 345ms\n",
      "789:\tlearn: 0.0270064\ttotal: 1.29s\tremaining: 343ms\n"
     ]
    },
    {
     "name": "stdout",
     "output_type": "stream",
     "text": [
      "790:\tlearn: 0.0269535\ttotal: 1.29s\tremaining: 342ms\n",
      "791:\tlearn: 0.0269073\ttotal: 1.3s\tremaining: 340ms\n",
      "792:\tlearn: 0.0268341\ttotal: 1.3s\tremaining: 339ms\n",
      "793:\tlearn: 0.0267878\ttotal: 1.3s\tremaining: 337ms\n",
      "794:\tlearn: 0.0267301\ttotal: 1.3s\tremaining: 336ms\n",
      "795:\tlearn: 0.0266785\ttotal: 1.3s\tremaining: 334ms\n",
      "796:\tlearn: 0.0266312\ttotal: 1.3s\tremaining: 332ms\n",
      "797:\tlearn: 0.0265718\ttotal: 1.31s\tremaining: 331ms\n",
      "798:\tlearn: 0.0265223\ttotal: 1.31s\tremaining: 329ms\n",
      "799:\tlearn: 0.0264632\ttotal: 1.31s\tremaining: 327ms\n",
      "800:\tlearn: 0.0264171\ttotal: 1.31s\tremaining: 326ms\n",
      "801:\tlearn: 0.0263485\ttotal: 1.31s\tremaining: 324ms\n",
      "802:\tlearn: 0.0263020\ttotal: 1.31s\tremaining: 323ms\n",
      "803:\tlearn: 0.0262526\ttotal: 1.32s\tremaining: 321ms\n",
      "804:\tlearn: 0.0261979\ttotal: 1.32s\tremaining: 319ms\n",
      "805:\tlearn: 0.0261473\ttotal: 1.32s\tremaining: 318ms\n",
      "806:\tlearn: 0.0260916\ttotal: 1.32s\tremaining: 316ms\n",
      "807:\tlearn: 0.0260424\ttotal: 1.32s\tremaining: 314ms\n",
      "808:\tlearn: 0.0259724\ttotal: 1.32s\tremaining: 313ms\n",
      "809:\tlearn: 0.0259227\ttotal: 1.33s\tremaining: 311ms\n",
      "810:\tlearn: 0.0258538\ttotal: 1.33s\tremaining: 310ms\n",
      "811:\tlearn: 0.0258191\ttotal: 1.33s\tremaining: 308ms\n",
      "812:\tlearn: 0.0257733\ttotal: 1.33s\tremaining: 306ms\n",
      "813:\tlearn: 0.0257104\ttotal: 1.33s\tremaining: 305ms\n",
      "814:\tlearn: 0.0256614\ttotal: 1.33s\tremaining: 303ms\n",
      "815:\tlearn: 0.0256120\ttotal: 1.34s\tremaining: 301ms\n",
      "816:\tlearn: 0.0255644\ttotal: 1.34s\tremaining: 300ms\n",
      "817:\tlearn: 0.0255154\ttotal: 1.34s\tremaining: 298ms\n",
      "818:\tlearn: 0.0254623\ttotal: 1.34s\tremaining: 296ms\n",
      "819:\tlearn: 0.0254071\ttotal: 1.34s\tremaining: 295ms\n",
      "820:\tlearn: 0.0253609\ttotal: 1.34s\tremaining: 293ms\n",
      "821:\tlearn: 0.0253094\ttotal: 1.34s\tremaining: 291ms\n",
      "822:\tlearn: 0.0252553\ttotal: 1.35s\tremaining: 290ms\n",
      "823:\tlearn: 0.0252051\ttotal: 1.35s\tremaining: 288ms\n",
      "824:\tlearn: 0.0251525\ttotal: 1.35s\tremaining: 287ms\n",
      "825:\tlearn: 0.0251203\ttotal: 1.35s\tremaining: 285ms\n",
      "826:\tlearn: 0.0250816\ttotal: 1.35s\tremaining: 283ms\n",
      "827:\tlearn: 0.0250209\ttotal: 1.36s\tremaining: 282ms\n",
      "828:\tlearn: 0.0249672\ttotal: 1.36s\tremaining: 280ms\n",
      "829:\tlearn: 0.0249375\ttotal: 1.36s\tremaining: 278ms\n",
      "830:\tlearn: 0.0248956\ttotal: 1.36s\tremaining: 277ms\n",
      "831:\tlearn: 0.0248599\ttotal: 1.36s\tremaining: 275ms\n",
      "832:\tlearn: 0.0248247\ttotal: 1.36s\tremaining: 274ms\n",
      "833:\tlearn: 0.0247819\ttotal: 1.36s\tremaining: 272ms\n",
      "834:\tlearn: 0.0247400\ttotal: 1.37s\tremaining: 270ms\n",
      "835:\tlearn: 0.0246990\ttotal: 1.37s\tremaining: 269ms\n",
      "836:\tlearn: 0.0246524\ttotal: 1.37s\tremaining: 267ms\n",
      "837:\tlearn: 0.0246075\ttotal: 1.37s\tremaining: 265ms\n",
      "838:\tlearn: 0.0245616\ttotal: 1.37s\tremaining: 264ms\n",
      "839:\tlearn: 0.0245205\ttotal: 1.38s\tremaining: 262ms\n",
      "840:\tlearn: 0.0244860\ttotal: 1.38s\tremaining: 260ms\n",
      "841:\tlearn: 0.0244367\ttotal: 1.38s\tremaining: 259ms\n",
      "842:\tlearn: 0.0243959\ttotal: 1.38s\tremaining: 257ms\n",
      "843:\tlearn: 0.0243464\ttotal: 1.38s\tremaining: 256ms\n",
      "844:\tlearn: 0.0242839\ttotal: 1.38s\tremaining: 254ms\n",
      "845:\tlearn: 0.0242356\ttotal: 1.39s\tremaining: 252ms\n",
      "846:\tlearn: 0.0241869\ttotal: 1.39s\tremaining: 251ms\n",
      "847:\tlearn: 0.0241486\ttotal: 1.39s\tremaining: 249ms\n",
      "848:\tlearn: 0.0240930\ttotal: 1.39s\tremaining: 247ms\n",
      "849:\tlearn: 0.0240546\ttotal: 1.39s\tremaining: 246ms\n",
      "850:\tlearn: 0.0240201\ttotal: 1.39s\tremaining: 244ms\n",
      "851:\tlearn: 0.0239783\ttotal: 1.4s\tremaining: 242ms\n",
      "852:\tlearn: 0.0239319\ttotal: 1.4s\tremaining: 241ms\n",
      "853:\tlearn: 0.0238724\ttotal: 1.4s\tremaining: 239ms\n",
      "854:\tlearn: 0.0238202\ttotal: 1.4s\tremaining: 237ms\n",
      "855:\tlearn: 0.0237828\ttotal: 1.4s\tremaining: 236ms\n",
      "856:\tlearn: 0.0237342\ttotal: 1.4s\tremaining: 234ms\n",
      "857:\tlearn: 0.0236917\ttotal: 1.41s\tremaining: 233ms\n",
      "858:\tlearn: 0.0236441\ttotal: 1.41s\tremaining: 231ms\n",
      "859:\tlearn: 0.0236066\ttotal: 1.41s\tremaining: 229ms\n",
      "860:\tlearn: 0.0235727\ttotal: 1.41s\tremaining: 228ms\n",
      "861:\tlearn: 0.0235157\ttotal: 1.41s\tremaining: 226ms\n",
      "862:\tlearn: 0.0234792\ttotal: 1.41s\tremaining: 224ms\n",
      "863:\tlearn: 0.0234366\ttotal: 1.41s\tremaining: 223ms\n",
      "864:\tlearn: 0.0233984\ttotal: 1.42s\tremaining: 221ms\n",
      "865:\tlearn: 0.0233599\ttotal: 1.42s\tremaining: 219ms\n",
      "866:\tlearn: 0.0233144\ttotal: 1.42s\tremaining: 218ms\n",
      "867:\tlearn: 0.0232657\ttotal: 1.42s\tremaining: 216ms\n",
      "868:\tlearn: 0.0232248\ttotal: 1.42s\tremaining: 214ms\n",
      "869:\tlearn: 0.0231824\ttotal: 1.42s\tremaining: 213ms\n",
      "870:\tlearn: 0.0231386\ttotal: 1.43s\tremaining: 211ms\n",
      "871:\tlearn: 0.0231017\ttotal: 1.43s\tremaining: 209ms\n",
      "872:\tlearn: 0.0230583\ttotal: 1.43s\tremaining: 208ms\n",
      "873:\tlearn: 0.0230104\ttotal: 1.43s\tremaining: 206ms\n",
      "874:\tlearn: 0.0229739\ttotal: 1.43s\tremaining: 204ms\n",
      "875:\tlearn: 0.0229153\ttotal: 1.43s\tremaining: 203ms\n",
      "876:\tlearn: 0.0228575\ttotal: 1.43s\tremaining: 201ms\n",
      "877:\tlearn: 0.0228032\ttotal: 1.44s\tremaining: 200ms\n",
      "878:\tlearn: 0.0227612\ttotal: 1.44s\tremaining: 198ms\n",
      "879:\tlearn: 0.0227268\ttotal: 1.44s\tremaining: 196ms\n",
      "880:\tlearn: 0.0226902\ttotal: 1.44s\tremaining: 195ms\n",
      "881:\tlearn: 0.0226541\ttotal: 1.44s\tremaining: 193ms\n",
      "882:\tlearn: 0.0225976\ttotal: 1.44s\tremaining: 191ms\n",
      "883:\tlearn: 0.0225445\ttotal: 1.45s\tremaining: 190ms\n",
      "884:\tlearn: 0.0224982\ttotal: 1.45s\tremaining: 188ms\n",
      "885:\tlearn: 0.0224686\ttotal: 1.45s\tremaining: 186ms\n",
      "886:\tlearn: 0.0224313\ttotal: 1.45s\tremaining: 185ms\n",
      "887:\tlearn: 0.0223763\ttotal: 1.45s\tremaining: 183ms\n",
      "888:\tlearn: 0.0223310\ttotal: 1.45s\tremaining: 181ms\n",
      "889:\tlearn: 0.0222943\ttotal: 1.45s\tremaining: 180ms\n",
      "890:\tlearn: 0.0222523\ttotal: 1.46s\tremaining: 178ms\n",
      "891:\tlearn: 0.0222153\ttotal: 1.46s\tremaining: 176ms\n",
      "892:\tlearn: 0.0221789\ttotal: 1.46s\tremaining: 175ms\n",
      "893:\tlearn: 0.0221330\ttotal: 1.46s\tremaining: 173ms\n",
      "894:\tlearn: 0.0220963\ttotal: 1.46s\tremaining: 172ms\n",
      "895:\tlearn: 0.0220737\ttotal: 1.46s\tremaining: 170ms\n",
      "896:\tlearn: 0.0220374\ttotal: 1.47s\tremaining: 168ms\n",
      "897:\tlearn: 0.0219876\ttotal: 1.47s\tremaining: 167ms\n",
      "898:\tlearn: 0.0219522\ttotal: 1.47s\tremaining: 165ms\n",
      "899:\tlearn: 0.0219154\ttotal: 1.47s\tremaining: 163ms\n",
      "900:\tlearn: 0.0218968\ttotal: 1.47s\tremaining: 162ms\n",
      "901:\tlearn: 0.0218556\ttotal: 1.47s\tremaining: 160ms\n",
      "902:\tlearn: 0.0218203\ttotal: 1.48s\tremaining: 158ms\n",
      "903:\tlearn: 0.0217819\ttotal: 1.48s\tremaining: 157ms\n",
      "904:\tlearn: 0.0217461\ttotal: 1.48s\tremaining: 155ms\n",
      "905:\tlearn: 0.0216954\ttotal: 1.48s\tremaining: 154ms\n",
      "906:\tlearn: 0.0216572\ttotal: 1.48s\tremaining: 152ms\n",
      "907:\tlearn: 0.0216091\ttotal: 1.48s\tremaining: 150ms\n",
      "908:\tlearn: 0.0215748\ttotal: 1.49s\tremaining: 149ms\n",
      "909:\tlearn: 0.0215399\ttotal: 1.49s\tremaining: 147ms\n",
      "910:\tlearn: 0.0214905\ttotal: 1.49s\tremaining: 145ms\n",
      "911:\tlearn: 0.0214418\ttotal: 1.49s\tremaining: 144ms\n",
      "912:\tlearn: 0.0214022\ttotal: 1.49s\tremaining: 142ms\n",
      "913:\tlearn: 0.0213555\ttotal: 1.49s\tremaining: 140ms\n",
      "914:\tlearn: 0.0213257\ttotal: 1.49s\tremaining: 139ms\n",
      "915:\tlearn: 0.0212871\ttotal: 1.5s\tremaining: 137ms\n",
      "916:\tlearn: 0.0212489\ttotal: 1.5s\tremaining: 136ms\n",
      "917:\tlearn: 0.0212149\ttotal: 1.5s\tremaining: 134ms\n",
      "918:\tlearn: 0.0211670\ttotal: 1.5s\tremaining: 132ms\n",
      "919:\tlearn: 0.0211262\ttotal: 1.5s\tremaining: 131ms\n",
      "920:\tlearn: 0.0210892\ttotal: 1.5s\tremaining: 129ms\n",
      "921:\tlearn: 0.0210501\ttotal: 1.5s\tremaining: 127ms\n",
      "922:\tlearn: 0.0210175\ttotal: 1.51s\tremaining: 126ms\n",
      "923:\tlearn: 0.0209909\ttotal: 1.51s\tremaining: 124ms\n",
      "924:\tlearn: 0.0209397\ttotal: 1.51s\tremaining: 122ms\n",
      "925:\tlearn: 0.0209012\ttotal: 1.51s\tremaining: 121ms\n",
      "926:\tlearn: 0.0208552\ttotal: 1.51s\tremaining: 119ms\n",
      "927:\tlearn: 0.0208202\ttotal: 1.51s\tremaining: 117ms\n",
      "928:\tlearn: 0.0207869\ttotal: 1.51s\tremaining: 116ms\n",
      "929:\tlearn: 0.0207549\ttotal: 1.52s\tremaining: 114ms\n",
      "930:\tlearn: 0.0207180\ttotal: 1.52s\tremaining: 113ms\n",
      "931:\tlearn: 0.0206682\ttotal: 1.52s\tremaining: 111ms\n",
      "932:\tlearn: 0.0206367\ttotal: 1.52s\tremaining: 109ms\n",
      "933:\tlearn: 0.0205887\ttotal: 1.52s\tremaining: 108ms\n",
      "934:\tlearn: 0.0205421\ttotal: 1.52s\tremaining: 106ms\n",
      "935:\tlearn: 0.0205035\ttotal: 1.53s\tremaining: 104ms\n",
      "936:\tlearn: 0.0204689\ttotal: 1.53s\tremaining: 103ms\n",
      "937:\tlearn: 0.0204232\ttotal: 1.53s\tremaining: 101ms\n",
      "938:\tlearn: 0.0203855\ttotal: 1.53s\tremaining: 99.5ms\n",
      "939:\tlearn: 0.0203476\ttotal: 1.53s\tremaining: 97.8ms\n",
      "940:\tlearn: 0.0203095\ttotal: 1.53s\tremaining: 96.2ms\n",
      "941:\tlearn: 0.0202747\ttotal: 1.53s\tremaining: 94.6ms\n",
      "942:\tlearn: 0.0202385\ttotal: 1.54s\tremaining: 92.9ms\n",
      "943:\tlearn: 0.0201928\ttotal: 1.54s\tremaining: 91.3ms\n",
      "944:\tlearn: 0.0201556\ttotal: 1.54s\tremaining: 89.7ms\n",
      "945:\tlearn: 0.0201318\ttotal: 1.54s\tremaining: 88ms\n",
      "946:\tlearn: 0.0200919\ttotal: 1.54s\tremaining: 86.4ms\n",
      "947:\tlearn: 0.0200605\ttotal: 1.54s\tremaining: 84.7ms\n",
      "948:\tlearn: 0.0200240\ttotal: 1.55s\tremaining: 83.1ms\n",
      "949:\tlearn: 0.0199897\ttotal: 1.55s\tremaining: 81.5ms\n",
      "950:\tlearn: 0.0199559\ttotal: 1.55s\tremaining: 79.8ms\n",
      "951:\tlearn: 0.0199328\ttotal: 1.55s\tremaining: 78.2ms\n",
      "952:\tlearn: 0.0198977\ttotal: 1.55s\tremaining: 76.6ms\n",
      "953:\tlearn: 0.0198644\ttotal: 1.55s\tremaining: 74.9ms\n",
      "954:\tlearn: 0.0198358\ttotal: 1.55s\tremaining: 73.3ms\n",
      "955:\tlearn: 0.0198102\ttotal: 1.56s\tremaining: 71.7ms\n",
      "956:\tlearn: 0.0197676\ttotal: 1.56s\tremaining: 70ms\n",
      "957:\tlearn: 0.0197288\ttotal: 1.56s\tremaining: 68.4ms\n",
      "958:\tlearn: 0.0196993\ttotal: 1.56s\tremaining: 66.8ms\n",
      "959:\tlearn: 0.0196639\ttotal: 1.56s\tremaining: 65.1ms\n",
      "960:\tlearn: 0.0196322\ttotal: 1.56s\tremaining: 63.5ms\n",
      "961:\tlearn: 0.0195965\ttotal: 1.57s\tremaining: 61.9ms\n",
      "962:\tlearn: 0.0195664\ttotal: 1.57s\tremaining: 60.2ms\n",
      "963:\tlearn: 0.0195386\ttotal: 1.57s\tremaining: 58.6ms\n",
      "964:\tlearn: 0.0194956\ttotal: 1.57s\tremaining: 57ms\n",
      "965:\tlearn: 0.0194645\ttotal: 1.57s\tremaining: 55.3ms\n",
      "966:\tlearn: 0.0194358\ttotal: 1.57s\tremaining: 53.7ms\n",
      "967:\tlearn: 0.0194051\ttotal: 1.57s\tremaining: 52.1ms\n",
      "968:\tlearn: 0.0193675\ttotal: 1.58s\tremaining: 50.5ms\n",
      "969:\tlearn: 0.0193249\ttotal: 1.58s\tremaining: 48.8ms\n",
      "970:\tlearn: 0.0192909\ttotal: 1.58s\tremaining: 47.2ms\n",
      "971:\tlearn: 0.0192506\ttotal: 1.58s\tremaining: 45.6ms\n",
      "972:\tlearn: 0.0192181\ttotal: 1.58s\tremaining: 43.9ms\n",
      "973:\tlearn: 0.0191834\ttotal: 1.58s\tremaining: 42.3ms\n",
      "974:\tlearn: 0.0191573\ttotal: 1.59s\tremaining: 40.7ms\n",
      "975:\tlearn: 0.0191254\ttotal: 1.59s\tremaining: 39ms\n",
      "976:\tlearn: 0.0190936\ttotal: 1.59s\tremaining: 37.4ms\n",
      "977:\tlearn: 0.0190509\ttotal: 1.59s\tremaining: 35.8ms\n",
      "978:\tlearn: 0.0190217\ttotal: 1.59s\tremaining: 34.2ms\n",
      "979:\tlearn: 0.0189888\ttotal: 1.59s\tremaining: 32.5ms\n",
      "980:\tlearn: 0.0189575\ttotal: 1.59s\tremaining: 30.9ms\n",
      "981:\tlearn: 0.0189184\ttotal: 1.6s\tremaining: 29.3ms\n",
      "982:\tlearn: 0.0188838\ttotal: 1.6s\tremaining: 27.6ms\n",
      "983:\tlearn: 0.0188517\ttotal: 1.6s\tremaining: 26ms\n",
      "984:\tlearn: 0.0188231\ttotal: 1.6s\tremaining: 24.4ms\n",
      "985:\tlearn: 0.0187896\ttotal: 1.6s\tremaining: 22.8ms\n",
      "986:\tlearn: 0.0187615\ttotal: 1.6s\tremaining: 21.1ms\n",
      "987:\tlearn: 0.0187268\ttotal: 1.61s\tremaining: 19.5ms\n",
      "988:\tlearn: 0.0186871\ttotal: 1.61s\tremaining: 17.9ms\n",
      "989:\tlearn: 0.0186479\ttotal: 1.61s\tremaining: 16.3ms\n",
      "990:\tlearn: 0.0186093\ttotal: 1.61s\tremaining: 14.6ms\n",
      "991:\tlearn: 0.0185819\ttotal: 1.61s\tremaining: 13ms\n",
      "992:\tlearn: 0.0185548\ttotal: 1.61s\tremaining: 11.4ms\n",
      "993:\tlearn: 0.0185280\ttotal: 1.61s\tremaining: 9.75ms\n",
      "994:\tlearn: 0.0184916\ttotal: 1.62s\tremaining: 8.12ms\n",
      "995:\tlearn: 0.0184594\ttotal: 1.62s\tremaining: 6.5ms\n",
      "996:\tlearn: 0.0184193\ttotal: 1.62s\tremaining: 4.87ms\n",
      "997:\tlearn: 0.0183889\ttotal: 1.62s\tremaining: 3.25ms\n",
      "998:\tlearn: 0.0183573\ttotal: 1.62s\tremaining: 1.62ms\n",
      "999:\tlearn: 0.0183191\ttotal: 1.62s\tremaining: 0us\n"
     ]
    },
    {
     "name": "stdout",
     "output_type": "stream",
     "text": [
      "Learning rate set to 0.009225\n",
      "0:\tlearn: 0.6811110\ttotal: 1.69ms\tremaining: 1.68s\n",
      "1:\tlearn: 0.6679470\ttotal: 3.35ms\tremaining: 1.67s\n",
      "2:\tlearn: 0.6553458\ttotal: 4.95ms\tremaining: 1.64s\n",
      "3:\tlearn: 0.6449960\ttotal: 6.63ms\tremaining: 1.65s\n",
      "4:\tlearn: 0.6338412\ttotal: 8.39ms\tremaining: 1.67s\n",
      "5:\tlearn: 0.6227630\ttotal: 10.3ms\tremaining: 1.71s\n",
      "6:\tlearn: 0.6115953\ttotal: 13ms\tremaining: 1.85s\n",
      "7:\tlearn: 0.6010460\ttotal: 14.7ms\tremaining: 1.82s\n",
      "8:\tlearn: 0.5887855\ttotal: 15.9ms\tremaining: 1.75s\n",
      "9:\tlearn: 0.5783175\ttotal: 17.5ms\tremaining: 1.73s\n",
      "10:\tlearn: 0.5682352\ttotal: 19.1ms\tremaining: 1.72s\n",
      "11:\tlearn: 0.5579702\ttotal: 20.7ms\tremaining: 1.7s\n",
      "12:\tlearn: 0.5492022\ttotal: 22.3ms\tremaining: 1.69s\n",
      "13:\tlearn: 0.5400256\ttotal: 23.9ms\tremaining: 1.68s\n",
      "14:\tlearn: 0.5293542\ttotal: 24.9ms\tremaining: 1.63s\n",
      "15:\tlearn: 0.5201971\ttotal: 26.4ms\tremaining: 1.63s\n",
      "16:\tlearn: 0.5120576\ttotal: 28ms\tremaining: 1.62s\n",
      "17:\tlearn: 0.5033612\ttotal: 29.8ms\tremaining: 1.63s\n",
      "18:\tlearn: 0.4961082\ttotal: 31.4ms\tremaining: 1.62s\n",
      "19:\tlearn: 0.4887096\ttotal: 33ms\tremaining: 1.61s\n",
      "20:\tlearn: 0.4813923\ttotal: 34.6ms\tremaining: 1.61s\n",
      "21:\tlearn: 0.4737111\ttotal: 35.8ms\tremaining: 1.59s\n",
      "22:\tlearn: 0.4675392\ttotal: 37.5ms\tremaining: 1.59s\n",
      "23:\tlearn: 0.4605397\ttotal: 39.2ms\tremaining: 1.59s\n",
      "24:\tlearn: 0.4545002\ttotal: 40.7ms\tremaining: 1.59s\n",
      "25:\tlearn: 0.4471342\ttotal: 42.3ms\tremaining: 1.59s\n",
      "26:\tlearn: 0.4405559\ttotal: 43.9ms\tremaining: 1.58s\n",
      "27:\tlearn: 0.4335387\ttotal: 45.5ms\tremaining: 1.58s\n",
      "28:\tlearn: 0.4269499\ttotal: 47.1ms\tremaining: 1.57s\n",
      "29:\tlearn: 0.4218083\ttotal: 48.8ms\tremaining: 1.58s\n",
      "30:\tlearn: 0.4151662\ttotal: 50.4ms\tremaining: 1.58s\n",
      "31:\tlearn: 0.4094103\ttotal: 52.1ms\tremaining: 1.58s\n",
      "32:\tlearn: 0.4041997\ttotal: 53.9ms\tremaining: 1.58s\n",
      "33:\tlearn: 0.3984243\ttotal: 55.1ms\tremaining: 1.57s\n",
      "34:\tlearn: 0.3930914\ttotal: 56.6ms\tremaining: 1.56s\n",
      "35:\tlearn: 0.3872371\ttotal: 58.2ms\tremaining: 1.56s\n",
      "36:\tlearn: 0.3827772\ttotal: 59.6ms\tremaining: 1.55s\n",
      "37:\tlearn: 0.3780107\ttotal: 61.2ms\tremaining: 1.55s\n",
      "38:\tlearn: 0.3732803\ttotal: 62.8ms\tremaining: 1.55s\n",
      "39:\tlearn: 0.3682859\ttotal: 64.3ms\tremaining: 1.54s\n",
      "40:\tlearn: 0.3631451\ttotal: 65.8ms\tremaining: 1.54s\n",
      "41:\tlearn: 0.3584180\ttotal: 67.4ms\tremaining: 1.54s\n",
      "42:\tlearn: 0.3541155\ttotal: 68.8ms\tremaining: 1.53s\n",
      "43:\tlearn: 0.3496386\ttotal: 71.5ms\tremaining: 1.55s\n",
      "44:\tlearn: 0.3449762\ttotal: 73.1ms\tremaining: 1.55s\n",
      "45:\tlearn: 0.3403809\ttotal: 74.6ms\tremaining: 1.55s\n",
      "46:\tlearn: 0.3363354\ttotal: 76.2ms\tremaining: 1.54s\n",
      "47:\tlearn: 0.3321527\ttotal: 77.6ms\tremaining: 1.54s\n",
      "48:\tlearn: 0.3281975\ttotal: 78.9ms\tremaining: 1.53s\n",
      "49:\tlearn: 0.3248392\ttotal: 80.5ms\tremaining: 1.53s\n",
      "50:\tlearn: 0.3212826\ttotal: 82.1ms\tremaining: 1.53s\n",
      "51:\tlearn: 0.3177459\ttotal: 84.1ms\tremaining: 1.53s\n",
      "52:\tlearn: 0.3137637\ttotal: 85.8ms\tremaining: 1.53s\n",
      "53:\tlearn: 0.3101635\ttotal: 87.5ms\tremaining: 1.53s\n",
      "54:\tlearn: 0.3067582\ttotal: 89.2ms\tremaining: 1.53s\n",
      "55:\tlearn: 0.3037466\ttotal: 90.7ms\tremaining: 1.53s\n",
      "56:\tlearn: 0.3004745\ttotal: 92ms\tremaining: 1.52s\n",
      "57:\tlearn: 0.2978138\ttotal: 93.5ms\tremaining: 1.52s\n",
      "58:\tlearn: 0.2957851\ttotal: 96.6ms\tremaining: 1.54s\n",
      "59:\tlearn: 0.2938686\ttotal: 97.7ms\tremaining: 1.53s\n",
      "60:\tlearn: 0.2913835\ttotal: 99.2ms\tremaining: 1.53s\n",
      "61:\tlearn: 0.2884718\ttotal: 101ms\tremaining: 1.52s\n",
      "62:\tlearn: 0.2852422\ttotal: 102ms\tremaining: 1.52s\n",
      "63:\tlearn: 0.2824504\ttotal: 104ms\tremaining: 1.52s\n",
      "64:\tlearn: 0.2798617\ttotal: 105ms\tremaining: 1.51s\n",
      "65:\tlearn: 0.2775071\ttotal: 107ms\tremaining: 1.51s\n",
      "66:\tlearn: 0.2753966\ttotal: 108ms\tremaining: 1.51s\n",
      "67:\tlearn: 0.2733454\ttotal: 110ms\tremaining: 1.51s\n",
      "68:\tlearn: 0.2708442\ttotal: 112ms\tremaining: 1.51s\n",
      "69:\tlearn: 0.2684628\ttotal: 114ms\tremaining: 1.51s\n",
      "70:\tlearn: 0.2663974\ttotal: 115ms\tremaining: 1.51s\n",
      "71:\tlearn: 0.2634633\ttotal: 117ms\tremaining: 1.51s\n",
      "72:\tlearn: 0.2614354\ttotal: 118ms\tremaining: 1.5s\n",
      "73:\tlearn: 0.2590923\ttotal: 120ms\tremaining: 1.5s\n",
      "74:\tlearn: 0.2564262\ttotal: 123ms\tremaining: 1.51s\n",
      "75:\tlearn: 0.2542023\ttotal: 124ms\tremaining: 1.51s\n",
      "76:\tlearn: 0.2523498\ttotal: 126ms\tremaining: 1.51s\n",
      "77:\tlearn: 0.2502250\ttotal: 127ms\tremaining: 1.5s\n",
      "78:\tlearn: 0.2475900\ttotal: 129ms\tremaining: 1.5s\n",
      "79:\tlearn: 0.2457458\ttotal: 130ms\tremaining: 1.5s\n",
      "80:\tlearn: 0.2436683\ttotal: 132ms\tremaining: 1.5s\n",
      "81:\tlearn: 0.2414621\ttotal: 134ms\tremaining: 1.49s\n",
      "82:\tlearn: 0.2391026\ttotal: 135ms\tremaining: 1.49s\n",
      "83:\tlearn: 0.2371364\ttotal: 137ms\tremaining: 1.49s\n",
      "84:\tlearn: 0.2351955\ttotal: 139ms\tremaining: 1.49s\n",
      "85:\tlearn: 0.2343043\ttotal: 140ms\tremaining: 1.49s\n",
      "86:\tlearn: 0.2325129\ttotal: 142ms\tremaining: 1.49s\n",
      "87:\tlearn: 0.2303200\ttotal: 143ms\tremaining: 1.49s\n",
      "88:\tlearn: 0.2286209\ttotal: 145ms\tremaining: 1.48s\n",
      "89:\tlearn: 0.2264081\ttotal: 146ms\tremaining: 1.48s\n",
      "90:\tlearn: 0.2246037\ttotal: 148ms\tremaining: 1.48s\n",
      "91:\tlearn: 0.2224797\ttotal: 150ms\tremaining: 1.48s\n",
      "92:\tlearn: 0.2205714\ttotal: 151ms\tremaining: 1.47s\n",
      "93:\tlearn: 0.2189713\ttotal: 152ms\tremaining: 1.47s\n",
      "94:\tlearn: 0.2172982\ttotal: 154ms\tremaining: 1.47s\n",
      "95:\tlearn: 0.2156569\ttotal: 155ms\tremaining: 1.46s\n",
      "96:\tlearn: 0.2142932\ttotal: 157ms\tremaining: 1.46s\n",
      "97:\tlearn: 0.2126102\ttotal: 159ms\tremaining: 1.46s\n",
      "98:\tlearn: 0.2107550\ttotal: 160ms\tremaining: 1.46s\n",
      "99:\tlearn: 0.2089693\ttotal: 162ms\tremaining: 1.46s\n",
      "100:\tlearn: 0.2075716\ttotal: 164ms\tremaining: 1.46s\n",
      "101:\tlearn: 0.2060898\ttotal: 166ms\tremaining: 1.46s\n",
      "102:\tlearn: 0.2045977\ttotal: 168ms\tremaining: 1.46s\n",
      "103:\tlearn: 0.2033488\ttotal: 170ms\tremaining: 1.46s\n",
      "104:\tlearn: 0.2025437\ttotal: 171ms\tremaining: 1.46s\n",
      "105:\tlearn: 0.2011869\ttotal: 173ms\tremaining: 1.46s\n",
      "106:\tlearn: 0.2004136\ttotal: 175ms\tremaining: 1.46s\n",
      "107:\tlearn: 0.1989564\ttotal: 177ms\tremaining: 1.46s\n",
      "108:\tlearn: 0.1977843\ttotal: 178ms\tremaining: 1.46s\n",
      "109:\tlearn: 0.1960142\ttotal: 181ms\tremaining: 1.46s\n",
      "110:\tlearn: 0.1945161\ttotal: 183ms\tremaining: 1.46s\n",
      "111:\tlearn: 0.1932283\ttotal: 184ms\tremaining: 1.46s\n",
      "112:\tlearn: 0.1918663\ttotal: 186ms\tremaining: 1.46s\n",
      "113:\tlearn: 0.1904540\ttotal: 187ms\tremaining: 1.46s\n",
      "114:\tlearn: 0.1888118\ttotal: 189ms\tremaining: 1.45s\n",
      "115:\tlearn: 0.1873565\ttotal: 191ms\tremaining: 1.45s\n",
      "116:\tlearn: 0.1865708\ttotal: 192ms\tremaining: 1.45s\n",
      "117:\tlearn: 0.1853987\ttotal: 194ms\tremaining: 1.45s\n",
      "118:\tlearn: 0.1843898\ttotal: 196ms\tremaining: 1.45s\n",
      "119:\tlearn: 0.1830457\ttotal: 197ms\tremaining: 1.45s\n",
      "120:\tlearn: 0.1815196\ttotal: 199ms\tremaining: 1.44s\n",
      "121:\tlearn: 0.1801606\ttotal: 200ms\tremaining: 1.44s\n",
      "122:\tlearn: 0.1792350\ttotal: 202ms\tremaining: 1.44s\n",
      "123:\tlearn: 0.1780965\ttotal: 203ms\tremaining: 1.44s\n",
      "124:\tlearn: 0.1773484\ttotal: 205ms\tremaining: 1.44s\n",
      "125:\tlearn: 0.1763267\ttotal: 207ms\tremaining: 1.43s\n",
      "126:\tlearn: 0.1756148\ttotal: 208ms\tremaining: 1.43s\n",
      "127:\tlearn: 0.1749727\ttotal: 209ms\tremaining: 1.43s\n",
      "128:\tlearn: 0.1737636\ttotal: 211ms\tremaining: 1.42s\n",
      "129:\tlearn: 0.1724642\ttotal: 213ms\tremaining: 1.42s\n",
      "130:\tlearn: 0.1717387\ttotal: 214ms\tremaining: 1.42s\n",
      "131:\tlearn: 0.1708436\ttotal: 216ms\tremaining: 1.42s\n",
      "132:\tlearn: 0.1696969\ttotal: 217ms\tremaining: 1.42s\n",
      "133:\tlearn: 0.1685435\ttotal: 219ms\tremaining: 1.41s\n",
      "134:\tlearn: 0.1678787\ttotal: 220ms\tremaining: 1.41s\n",
      "135:\tlearn: 0.1667618\ttotal: 222ms\tremaining: 1.41s\n",
      "136:\tlearn: 0.1659869\ttotal: 223ms\tremaining: 1.41s\n",
      "137:\tlearn: 0.1653907\ttotal: 225ms\tremaining: 1.4s\n",
      "138:\tlearn: 0.1646753\ttotal: 226ms\tremaining: 1.4s\n",
      "139:\tlearn: 0.1638974\ttotal: 228ms\tremaining: 1.4s\n",
      "140:\tlearn: 0.1627718\ttotal: 231ms\tremaining: 1.41s\n",
      "141:\tlearn: 0.1618901\ttotal: 232ms\tremaining: 1.4s\n",
      "142:\tlearn: 0.1610903\ttotal: 234ms\tremaining: 1.4s\n",
      "143:\tlearn: 0.1609828\ttotal: 235ms\tremaining: 1.39s\n",
      "144:\tlearn: 0.1601224\ttotal: 236ms\tremaining: 1.39s\n",
      "145:\tlearn: 0.1589208\ttotal: 238ms\tremaining: 1.39s\n",
      "146:\tlearn: 0.1581793\ttotal: 239ms\tremaining: 1.39s\n",
      "147:\tlearn: 0.1573020\ttotal: 241ms\tremaining: 1.39s\n",
      "148:\tlearn: 0.1565286\ttotal: 243ms\tremaining: 1.39s\n",
      "149:\tlearn: 0.1560521\ttotal: 244ms\tremaining: 1.38s\n",
      "150:\tlearn: 0.1550196\ttotal: 246ms\tremaining: 1.38s\n",
      "151:\tlearn: 0.1542417\ttotal: 247ms\tremaining: 1.38s\n",
      "152:\tlearn: 0.1535355\ttotal: 249ms\tremaining: 1.38s\n",
      "153:\tlearn: 0.1527106\ttotal: 250ms\tremaining: 1.38s\n",
      "154:\tlearn: 0.1518846\ttotal: 252ms\tremaining: 1.37s\n",
      "155:\tlearn: 0.1513052\ttotal: 253ms\tremaining: 1.37s\n",
      "156:\tlearn: 0.1505827\ttotal: 255ms\tremaining: 1.37s\n",
      "157:\tlearn: 0.1495026\ttotal: 257ms\tremaining: 1.37s\n",
      "158:\tlearn: 0.1488720\ttotal: 258ms\tremaining: 1.36s\n",
      "159:\tlearn: 0.1482721\ttotal: 260ms\tremaining: 1.36s\n",
      "160:\tlearn: 0.1474672\ttotal: 261ms\tremaining: 1.36s\n",
      "161:\tlearn: 0.1466536\ttotal: 263ms\tremaining: 1.36s\n",
      "162:\tlearn: 0.1458741\ttotal: 264ms\tremaining: 1.36s\n",
      "163:\tlearn: 0.1451481\ttotal: 266ms\tremaining: 1.35s\n",
      "164:\tlearn: 0.1445180\ttotal: 267ms\tremaining: 1.35s\n",
      "165:\tlearn: 0.1439992\ttotal: 269ms\tremaining: 1.35s\n",
      "166:\tlearn: 0.1433710\ttotal: 271ms\tremaining: 1.35s\n",
      "167:\tlearn: 0.1424349\ttotal: 272ms\tremaining: 1.35s\n",
      "168:\tlearn: 0.1418935\ttotal: 274ms\tremaining: 1.34s\n",
      "169:\tlearn: 0.1413832\ttotal: 275ms\tremaining: 1.34s\n",
      "170:\tlearn: 0.1408498\ttotal: 277ms\tremaining: 1.34s\n",
      "171:\tlearn: 0.1402698\ttotal: 278ms\tremaining: 1.34s\n",
      "172:\tlearn: 0.1396010\ttotal: 280ms\tremaining: 1.34s\n",
      "173:\tlearn: 0.1391389\ttotal: 281ms\tremaining: 1.33s\n",
      "174:\tlearn: 0.1385039\ttotal: 283ms\tremaining: 1.33s\n",
      "175:\tlearn: 0.1380482\ttotal: 284ms\tremaining: 1.33s\n",
      "176:\tlearn: 0.1377159\ttotal: 286ms\tremaining: 1.33s\n",
      "177:\tlearn: 0.1368963\ttotal: 288ms\tremaining: 1.33s\n",
      "178:\tlearn: 0.1364710\ttotal: 289ms\tremaining: 1.33s\n",
      "179:\tlearn: 0.1358506\ttotal: 291ms\tremaining: 1.32s\n",
      "180:\tlearn: 0.1351278\ttotal: 292ms\tremaining: 1.32s\n",
      "181:\tlearn: 0.1346270\ttotal: 294ms\tremaining: 1.32s\n",
      "182:\tlearn: 0.1341682\ttotal: 295ms\tremaining: 1.32s\n",
      "183:\tlearn: 0.1336932\ttotal: 297ms\tremaining: 1.32s\n",
      "184:\tlearn: 0.1331955\ttotal: 299ms\tremaining: 1.31s\n",
      "185:\tlearn: 0.1326967\ttotal: 300ms\tremaining: 1.31s\n",
      "186:\tlearn: 0.1318682\ttotal: 302ms\tremaining: 1.31s\n",
      "187:\tlearn: 0.1312357\ttotal: 305ms\tremaining: 1.32s\n",
      "188:\tlearn: 0.1304531\ttotal: 306ms\tremaining: 1.31s\n",
      "189:\tlearn: 0.1300904\ttotal: 308ms\tremaining: 1.31s\n",
      "190:\tlearn: 0.1294599\ttotal: 309ms\tremaining: 1.31s\n",
      "191:\tlearn: 0.1289433\ttotal: 311ms\tremaining: 1.31s\n",
      "192:\tlearn: 0.1284842\ttotal: 313ms\tremaining: 1.31s\n",
      "193:\tlearn: 0.1281446\ttotal: 314ms\tremaining: 1.3s\n",
      "194:\tlearn: 0.1278183\ttotal: 316ms\tremaining: 1.3s\n",
      "195:\tlearn: 0.1272659\ttotal: 317ms\tremaining: 1.3s\n",
      "196:\tlearn: 0.1268096\ttotal: 319ms\tremaining: 1.3s\n",
      "197:\tlearn: 0.1265008\ttotal: 320ms\tremaining: 1.3s\n",
      "198:\tlearn: 0.1261512\ttotal: 322ms\tremaining: 1.3s\n",
      "199:\tlearn: 0.1254072\ttotal: 323ms\tremaining: 1.29s\n",
      "200:\tlearn: 0.1247842\ttotal: 325ms\tremaining: 1.29s\n",
      "201:\tlearn: 0.1242887\ttotal: 327ms\tremaining: 1.29s\n",
      "202:\tlearn: 0.1235953\ttotal: 328ms\tremaining: 1.29s\n",
      "203:\tlearn: 0.1230196\ttotal: 330ms\tremaining: 1.29s\n",
      "204:\tlearn: 0.1225453\ttotal: 331ms\tremaining: 1.28s\n",
      "205:\tlearn: 0.1221490\ttotal: 333ms\tremaining: 1.28s\n",
      "206:\tlearn: 0.1216804\ttotal: 334ms\tremaining: 1.28s\n"
     ]
    },
    {
     "name": "stdout",
     "output_type": "stream",
     "text": [
      "207:\tlearn: 0.1212507\ttotal: 336ms\tremaining: 1.28s\n",
      "208:\tlearn: 0.1208530\ttotal: 338ms\tremaining: 1.28s\n",
      "209:\tlearn: 0.1204703\ttotal: 339ms\tremaining: 1.27s\n",
      "210:\tlearn: 0.1200587\ttotal: 341ms\tremaining: 1.27s\n",
      "211:\tlearn: 0.1195236\ttotal: 342ms\tremaining: 1.27s\n",
      "212:\tlearn: 0.1191059\ttotal: 344ms\tremaining: 1.27s\n",
      "213:\tlearn: 0.1185504\ttotal: 346ms\tremaining: 1.27s\n",
      "214:\tlearn: 0.1179917\ttotal: 348ms\tremaining: 1.27s\n",
      "215:\tlearn: 0.1175562\ttotal: 350ms\tremaining: 1.27s\n",
      "216:\tlearn: 0.1170077\ttotal: 351ms\tremaining: 1.27s\n",
      "217:\tlearn: 0.1166117\ttotal: 353ms\tremaining: 1.26s\n",
      "218:\tlearn: 0.1162003\ttotal: 354ms\tremaining: 1.26s\n",
      "219:\tlearn: 0.1155909\ttotal: 356ms\tremaining: 1.26s\n",
      "220:\tlearn: 0.1150804\ttotal: 357ms\tremaining: 1.26s\n",
      "221:\tlearn: 0.1147481\ttotal: 359ms\tremaining: 1.26s\n",
      "222:\tlearn: 0.1144195\ttotal: 362ms\tremaining: 1.26s\n",
      "223:\tlearn: 0.1140160\ttotal: 363ms\tremaining: 1.26s\n",
      "224:\tlearn: 0.1134293\ttotal: 365ms\tremaining: 1.26s\n",
      "225:\tlearn: 0.1127430\ttotal: 366ms\tremaining: 1.25s\n",
      "226:\tlearn: 0.1121878\ttotal: 368ms\tremaining: 1.25s\n",
      "227:\tlearn: 0.1115844\ttotal: 370ms\tremaining: 1.25s\n",
      "228:\tlearn: 0.1111989\ttotal: 371ms\tremaining: 1.25s\n",
      "229:\tlearn: 0.1107850\ttotal: 373ms\tremaining: 1.25s\n",
      "230:\tlearn: 0.1104894\ttotal: 374ms\tremaining: 1.25s\n",
      "231:\tlearn: 0.1101566\ttotal: 376ms\tremaining: 1.24s\n",
      "232:\tlearn: 0.1095795\ttotal: 377ms\tremaining: 1.24s\n",
      "233:\tlearn: 0.1091121\ttotal: 379ms\tremaining: 1.24s\n",
      "234:\tlearn: 0.1087303\ttotal: 380ms\tremaining: 1.24s\n",
      "235:\tlearn: 0.1082465\ttotal: 382ms\tremaining: 1.24s\n",
      "236:\tlearn: 0.1077987\ttotal: 383ms\tremaining: 1.23s\n",
      "237:\tlearn: 0.1074175\ttotal: 385ms\tremaining: 1.23s\n",
      "238:\tlearn: 0.1070384\ttotal: 386ms\tremaining: 1.23s\n",
      "239:\tlearn: 0.1067731\ttotal: 389ms\tremaining: 1.23s\n",
      "240:\tlearn: 0.1064302\ttotal: 391ms\tremaining: 1.23s\n",
      "241:\tlearn: 0.1059179\ttotal: 392ms\tremaining: 1.23s\n",
      "242:\tlearn: 0.1056248\ttotal: 396ms\tremaining: 1.23s\n",
      "243:\tlearn: 0.1053360\ttotal: 397ms\tremaining: 1.23s\n",
      "244:\tlearn: 0.1050036\ttotal: 398ms\tremaining: 1.23s\n",
      "245:\tlearn: 0.1046792\ttotal: 400ms\tremaining: 1.23s\n",
      "246:\tlearn: 0.1043771\ttotal: 402ms\tremaining: 1.22s\n",
      "247:\tlearn: 0.1039273\ttotal: 403ms\tremaining: 1.22s\n",
      "248:\tlearn: 0.1036537\ttotal: 405ms\tremaining: 1.22s\n",
      "249:\tlearn: 0.1032228\ttotal: 406ms\tremaining: 1.22s\n",
      "250:\tlearn: 0.1029103\ttotal: 408ms\tremaining: 1.22s\n",
      "251:\tlearn: 0.1025744\ttotal: 409ms\tremaining: 1.21s\n",
      "252:\tlearn: 0.1022629\ttotal: 411ms\tremaining: 1.21s\n",
      "253:\tlearn: 0.1019721\ttotal: 412ms\tremaining: 1.21s\n",
      "254:\tlearn: 0.1017634\ttotal: 414ms\tremaining: 1.21s\n",
      "255:\tlearn: 0.1013711\ttotal: 415ms\tremaining: 1.21s\n",
      "256:\tlearn: 0.1011263\ttotal: 417ms\tremaining: 1.21s\n",
      "257:\tlearn: 0.1011075\ttotal: 418ms\tremaining: 1.2s\n",
      "258:\tlearn: 0.1007584\ttotal: 419ms\tremaining: 1.2s\n",
      "259:\tlearn: 0.1004628\ttotal: 421ms\tremaining: 1.2s\n",
      "260:\tlearn: 0.1002696\ttotal: 422ms\tremaining: 1.2s\n",
      "261:\tlearn: 0.1000844\ttotal: 424ms\tremaining: 1.19s\n",
      "262:\tlearn: 0.0997702\ttotal: 426ms\tremaining: 1.19s\n",
      "263:\tlearn: 0.0994180\ttotal: 427ms\tremaining: 1.19s\n",
      "264:\tlearn: 0.0989812\ttotal: 429ms\tremaining: 1.19s\n",
      "265:\tlearn: 0.0986478\ttotal: 432ms\tremaining: 1.19s\n",
      "266:\tlearn: 0.0984501\ttotal: 433ms\tremaining: 1.19s\n",
      "267:\tlearn: 0.0980722\ttotal: 435ms\tremaining: 1.19s\n",
      "268:\tlearn: 0.0977863\ttotal: 436ms\tremaining: 1.19s\n",
      "269:\tlearn: 0.0974495\ttotal: 438ms\tremaining: 1.18s\n",
      "270:\tlearn: 0.0970746\ttotal: 439ms\tremaining: 1.18s\n",
      "271:\tlearn: 0.0968095\ttotal: 441ms\tremaining: 1.18s\n",
      "272:\tlearn: 0.0965129\ttotal: 442ms\tremaining: 1.18s\n",
      "273:\tlearn: 0.0962303\ttotal: 444ms\tremaining: 1.18s\n",
      "274:\tlearn: 0.0959566\ttotal: 446ms\tremaining: 1.17s\n",
      "275:\tlearn: 0.0956152\ttotal: 447ms\tremaining: 1.17s\n",
      "276:\tlearn: 0.0953576\ttotal: 449ms\tremaining: 1.17s\n",
      "277:\tlearn: 0.0951507\ttotal: 450ms\tremaining: 1.17s\n",
      "278:\tlearn: 0.0947930\ttotal: 452ms\tremaining: 1.17s\n",
      "279:\tlearn: 0.0945352\ttotal: 453ms\tremaining: 1.16s\n",
      "280:\tlearn: 0.0942353\ttotal: 456ms\tremaining: 1.17s\n",
      "281:\tlearn: 0.0939513\ttotal: 458ms\tremaining: 1.17s\n",
      "282:\tlearn: 0.0935987\ttotal: 459ms\tremaining: 1.16s\n",
      "283:\tlearn: 0.0932903\ttotal: 461ms\tremaining: 1.16s\n",
      "284:\tlearn: 0.0930177\ttotal: 462ms\tremaining: 1.16s\n",
      "285:\tlearn: 0.0929820\ttotal: 463ms\tremaining: 1.16s\n",
      "286:\tlearn: 0.0928227\ttotal: 465ms\tremaining: 1.16s\n",
      "287:\tlearn: 0.0924562\ttotal: 467ms\tremaining: 1.15s\n",
      "288:\tlearn: 0.0920996\ttotal: 468ms\tremaining: 1.15s\n",
      "289:\tlearn: 0.0918191\ttotal: 470ms\tremaining: 1.15s\n",
      "290:\tlearn: 0.0914919\ttotal: 471ms\tremaining: 1.15s\n",
      "291:\tlearn: 0.0911865\ttotal: 473ms\tremaining: 1.15s\n",
      "292:\tlearn: 0.0908981\ttotal: 474ms\tremaining: 1.14s\n",
      "293:\tlearn: 0.0907175\ttotal: 476ms\tremaining: 1.14s\n",
      "294:\tlearn: 0.0904846\ttotal: 477ms\tremaining: 1.14s\n",
      "295:\tlearn: 0.0900970\ttotal: 479ms\tremaining: 1.14s\n",
      "296:\tlearn: 0.0897772\ttotal: 481ms\tremaining: 1.14s\n",
      "297:\tlearn: 0.0896831\ttotal: 482ms\tremaining: 1.14s\n",
      "298:\tlearn: 0.0892034\ttotal: 483ms\tremaining: 1.13s\n",
      "299:\tlearn: 0.0889763\ttotal: 485ms\tremaining: 1.13s\n",
      "300:\tlearn: 0.0887269\ttotal: 487ms\tremaining: 1.13s\n",
      "301:\tlearn: 0.0885144\ttotal: 488ms\tremaining: 1.13s\n",
      "302:\tlearn: 0.0883771\ttotal: 490ms\tremaining: 1.13s\n",
      "303:\tlearn: 0.0881102\ttotal: 491ms\tremaining: 1.12s\n",
      "304:\tlearn: 0.0878369\ttotal: 493ms\tremaining: 1.12s\n",
      "305:\tlearn: 0.0875921\ttotal: 494ms\tremaining: 1.12s\n",
      "306:\tlearn: 0.0875770\ttotal: 495ms\tremaining: 1.12s\n",
      "307:\tlearn: 0.0872319\ttotal: 497ms\tremaining: 1.12s\n",
      "308:\tlearn: 0.0869793\ttotal: 498ms\tremaining: 1.11s\n",
      "309:\tlearn: 0.0867167\ttotal: 500ms\tremaining: 1.11s\n",
      "310:\tlearn: 0.0864882\ttotal: 501ms\tremaining: 1.11s\n",
      "311:\tlearn: 0.0861865\ttotal: 503ms\tremaining: 1.11s\n",
      "312:\tlearn: 0.0859021\ttotal: 505ms\tremaining: 1.11s\n",
      "313:\tlearn: 0.0856630\ttotal: 507ms\tremaining: 1.11s\n",
      "314:\tlearn: 0.0853308\ttotal: 509ms\tremaining: 1.11s\n",
      "315:\tlearn: 0.0850051\ttotal: 510ms\tremaining: 1.1s\n",
      "316:\tlearn: 0.0847435\ttotal: 512ms\tremaining: 1.1s\n",
      "317:\tlearn: 0.0844602\ttotal: 514ms\tremaining: 1.1s\n",
      "318:\tlearn: 0.0840763\ttotal: 516ms\tremaining: 1.1s\n",
      "319:\tlearn: 0.0837806\ttotal: 517ms\tremaining: 1.1s\n",
      "320:\tlearn: 0.0835249\ttotal: 519ms\tremaining: 1.1s\n",
      "321:\tlearn: 0.0831331\ttotal: 521ms\tremaining: 1.1s\n",
      "322:\tlearn: 0.0828560\ttotal: 522ms\tremaining: 1.09s\n",
      "323:\tlearn: 0.0825841\ttotal: 524ms\tremaining: 1.09s\n",
      "324:\tlearn: 0.0822649\ttotal: 527ms\tremaining: 1.09s\n",
      "325:\tlearn: 0.0820349\ttotal: 528ms\tremaining: 1.09s\n",
      "326:\tlearn: 0.0818605\ttotal: 530ms\tremaining: 1.09s\n",
      "327:\tlearn: 0.0815648\ttotal: 531ms\tremaining: 1.09s\n",
      "328:\tlearn: 0.0813122\ttotal: 533ms\tremaining: 1.09s\n",
      "329:\tlearn: 0.0811698\ttotal: 536ms\tremaining: 1.09s\n",
      "330:\tlearn: 0.0810239\ttotal: 539ms\tremaining: 1.09s\n",
      "331:\tlearn: 0.0807991\ttotal: 540ms\tremaining: 1.09s\n",
      "332:\tlearn: 0.0805951\ttotal: 542ms\tremaining: 1.08s\n",
      "333:\tlearn: 0.0803345\ttotal: 544ms\tremaining: 1.08s\n",
      "334:\tlearn: 0.0801022\ttotal: 545ms\tremaining: 1.08s\n",
      "335:\tlearn: 0.0799025\ttotal: 547ms\tremaining: 1.08s\n",
      "336:\tlearn: 0.0796992\ttotal: 548ms\tremaining: 1.08s\n",
      "337:\tlearn: 0.0794625\ttotal: 550ms\tremaining: 1.08s\n",
      "338:\tlearn: 0.0792639\ttotal: 552ms\tremaining: 1.07s\n",
      "339:\tlearn: 0.0789047\ttotal: 553ms\tremaining: 1.07s\n",
      "340:\tlearn: 0.0786018\ttotal: 555ms\tremaining: 1.07s\n",
      "341:\tlearn: 0.0783500\ttotal: 556ms\tremaining: 1.07s\n",
      "342:\tlearn: 0.0780534\ttotal: 558ms\tremaining: 1.07s\n",
      "343:\tlearn: 0.0777723\ttotal: 559ms\tremaining: 1.07s\n",
      "344:\tlearn: 0.0774255\ttotal: 561ms\tremaining: 1.06s\n",
      "345:\tlearn: 0.0771538\ttotal: 563ms\tremaining: 1.06s\n",
      "346:\tlearn: 0.0769404\ttotal: 564ms\tremaining: 1.06s\n",
      "347:\tlearn: 0.0766823\ttotal: 566ms\tremaining: 1.06s\n",
      "348:\tlearn: 0.0764719\ttotal: 567ms\tremaining: 1.06s\n",
      "349:\tlearn: 0.0764384\ttotal: 568ms\tremaining: 1.05s\n",
      "350:\tlearn: 0.0762849\ttotal: 570ms\tremaining: 1.05s\n",
      "351:\tlearn: 0.0760201\ttotal: 572ms\tremaining: 1.05s\n",
      "352:\tlearn: 0.0758506\ttotal: 574ms\tremaining: 1.05s\n",
      "353:\tlearn: 0.0756376\ttotal: 575ms\tremaining: 1.05s\n",
      "354:\tlearn: 0.0753657\ttotal: 577ms\tremaining: 1.05s\n",
      "355:\tlearn: 0.0753294\ttotal: 578ms\tremaining: 1.04s\n",
      "356:\tlearn: 0.0751585\ttotal: 579ms\tremaining: 1.04s\n",
      "357:\tlearn: 0.0748873\ttotal: 581ms\tremaining: 1.04s\n",
      "358:\tlearn: 0.0747162\ttotal: 582ms\tremaining: 1.04s\n",
      "359:\tlearn: 0.0745445\ttotal: 584ms\tremaining: 1.04s\n",
      "360:\tlearn: 0.0743214\ttotal: 586ms\tremaining: 1.04s\n",
      "361:\tlearn: 0.0740582\ttotal: 587ms\tremaining: 1.03s\n",
      "362:\tlearn: 0.0737570\ttotal: 589ms\tremaining: 1.03s\n",
      "363:\tlearn: 0.0736095\ttotal: 590ms\tremaining: 1.03s\n",
      "364:\tlearn: 0.0735995\ttotal: 591ms\tremaining: 1.03s\n",
      "365:\tlearn: 0.0733553\ttotal: 593ms\tremaining: 1.03s\n",
      "366:\tlearn: 0.0731501\ttotal: 594ms\tremaining: 1.02s\n",
      "367:\tlearn: 0.0729730\ttotal: 596ms\tremaining: 1.02s\n",
      "368:\tlearn: 0.0727953\ttotal: 597ms\tremaining: 1.02s\n",
      "369:\tlearn: 0.0726036\ttotal: 599ms\tremaining: 1.02s\n",
      "370:\tlearn: 0.0723341\ttotal: 601ms\tremaining: 1.02s\n",
      "371:\tlearn: 0.0720836\ttotal: 602ms\tremaining: 1.02s\n",
      "372:\tlearn: 0.0718400\ttotal: 604ms\tremaining: 1.01s\n",
      "373:\tlearn: 0.0716490\ttotal: 605ms\tremaining: 1.01s\n",
      "374:\tlearn: 0.0714847\ttotal: 607ms\tremaining: 1.01s\n",
      "375:\tlearn: 0.0711628\ttotal: 608ms\tremaining: 1.01s\n",
      "376:\tlearn: 0.0709495\ttotal: 610ms\tremaining: 1.01s\n",
      "377:\tlearn: 0.0707611\ttotal: 611ms\tremaining: 1.01s\n",
      "378:\tlearn: 0.0705665\ttotal: 613ms\tremaining: 1s\n",
      "379:\tlearn: 0.0703781\ttotal: 615ms\tremaining: 1s\n",
      "380:\tlearn: 0.0701364\ttotal: 616ms\tremaining: 1s\n",
      "381:\tlearn: 0.0699360\ttotal: 618ms\tremaining: 1s\n",
      "382:\tlearn: 0.0697126\ttotal: 620ms\tremaining: 998ms\n",
      "383:\tlearn: 0.0695089\ttotal: 621ms\tremaining: 997ms\n",
      "384:\tlearn: 0.0693407\ttotal: 623ms\tremaining: 995ms\n",
      "385:\tlearn: 0.0691398\ttotal: 624ms\tremaining: 993ms\n",
      "386:\tlearn: 0.0689226\ttotal: 626ms\tremaining: 991ms\n",
      "387:\tlearn: 0.0687421\ttotal: 628ms\tremaining: 990ms\n",
      "388:\tlearn: 0.0685714\ttotal: 629ms\tremaining: 988ms\n",
      "389:\tlearn: 0.0684107\ttotal: 632ms\tremaining: 988ms\n",
      "390:\tlearn: 0.0681950\ttotal: 635ms\tremaining: 989ms\n",
      "391:\tlearn: 0.0679905\ttotal: 636ms\tremaining: 987ms\n",
      "392:\tlearn: 0.0678037\ttotal: 638ms\tremaining: 985ms\n",
      "393:\tlearn: 0.0676534\ttotal: 639ms\tremaining: 983ms\n",
      "394:\tlearn: 0.0674259\ttotal: 641ms\tremaining: 982ms\n",
      "395:\tlearn: 0.0673002\ttotal: 644ms\tremaining: 982ms\n",
      "396:\tlearn: 0.0671079\ttotal: 645ms\tremaining: 980ms\n",
      "397:\tlearn: 0.0669036\ttotal: 647ms\tremaining: 979ms\n",
      "398:\tlearn: 0.0667642\ttotal: 649ms\tremaining: 977ms\n",
      "399:\tlearn: 0.0665836\ttotal: 650ms\tremaining: 975ms\n",
      "400:\tlearn: 0.0663732\ttotal: 652ms\tremaining: 973ms\n",
      "401:\tlearn: 0.0662160\ttotal: 653ms\tremaining: 972ms\n",
      "402:\tlearn: 0.0660374\ttotal: 655ms\tremaining: 970ms\n",
      "403:\tlearn: 0.0658315\ttotal: 656ms\tremaining: 968ms\n",
      "404:\tlearn: 0.0656671\ttotal: 658ms\tremaining: 966ms\n",
      "405:\tlearn: 0.0655210\ttotal: 659ms\tremaining: 965ms\n",
      "406:\tlearn: 0.0653691\ttotal: 661ms\tremaining: 963ms\n",
      "407:\tlearn: 0.0651743\ttotal: 662ms\tremaining: 961ms\n",
      "408:\tlearn: 0.0650573\ttotal: 664ms\tremaining: 960ms\n",
      "409:\tlearn: 0.0649489\ttotal: 666ms\tremaining: 958ms\n",
      "410:\tlearn: 0.0648156\ttotal: 667ms\tremaining: 956ms\n",
      "411:\tlearn: 0.0646472\ttotal: 669ms\tremaining: 955ms\n",
      "412:\tlearn: 0.0644347\ttotal: 670ms\tremaining: 953ms\n",
      "413:\tlearn: 0.0642704\ttotal: 672ms\tremaining: 951ms\n",
      "414:\tlearn: 0.0641252\ttotal: 675ms\tremaining: 951ms\n"
     ]
    },
    {
     "name": "stdout",
     "output_type": "stream",
     "text": [
      "415:\tlearn: 0.0639201\ttotal: 677ms\tremaining: 950ms\n",
      "416:\tlearn: 0.0637169\ttotal: 678ms\tremaining: 948ms\n",
      "417:\tlearn: 0.0635729\ttotal: 680ms\tremaining: 947ms\n",
      "418:\tlearn: 0.0634034\ttotal: 681ms\tremaining: 944ms\n",
      "419:\tlearn: 0.0632921\ttotal: 683ms\tremaining: 943ms\n",
      "420:\tlearn: 0.0631749\ttotal: 684ms\tremaining: 941ms\n",
      "421:\tlearn: 0.0629443\ttotal: 686ms\tremaining: 939ms\n",
      "422:\tlearn: 0.0628239\ttotal: 687ms\tremaining: 937ms\n",
      "423:\tlearn: 0.0626194\ttotal: 689ms\tremaining: 936ms\n",
      "424:\tlearn: 0.0624848\ttotal: 690ms\tremaining: 934ms\n",
      "425:\tlearn: 0.0623906\ttotal: 692ms\tremaining: 932ms\n",
      "426:\tlearn: 0.0622140\ttotal: 693ms\tremaining: 930ms\n",
      "427:\tlearn: 0.0621366\ttotal: 695ms\tremaining: 928ms\n",
      "428:\tlearn: 0.0620677\ttotal: 696ms\tremaining: 927ms\n",
      "429:\tlearn: 0.0619300\ttotal: 698ms\tremaining: 925ms\n",
      "430:\tlearn: 0.0617995\ttotal: 699ms\tremaining: 923ms\n",
      "431:\tlearn: 0.0616552\ttotal: 701ms\tremaining: 921ms\n",
      "432:\tlearn: 0.0615412\ttotal: 702ms\tremaining: 920ms\n",
      "433:\tlearn: 0.0613888\ttotal: 704ms\tremaining: 918ms\n",
      "434:\tlearn: 0.0612763\ttotal: 705ms\tremaining: 916ms\n",
      "435:\tlearn: 0.0611151\ttotal: 707ms\tremaining: 915ms\n",
      "436:\tlearn: 0.0609953\ttotal: 709ms\tremaining: 913ms\n",
      "437:\tlearn: 0.0608263\ttotal: 710ms\tremaining: 911ms\n",
      "438:\tlearn: 0.0606312\ttotal: 712ms\tremaining: 910ms\n",
      "439:\tlearn: 0.0604693\ttotal: 713ms\tremaining: 908ms\n",
      "440:\tlearn: 0.0602852\ttotal: 715ms\tremaining: 906ms\n",
      "441:\tlearn: 0.0601700\ttotal: 716ms\tremaining: 904ms\n",
      "442:\tlearn: 0.0600453\ttotal: 718ms\tremaining: 903ms\n",
      "443:\tlearn: 0.0598878\ttotal: 720ms\tremaining: 901ms\n",
      "444:\tlearn: 0.0597369\ttotal: 721ms\tremaining: 899ms\n",
      "445:\tlearn: 0.0596166\ttotal: 723ms\tremaining: 898ms\n",
      "446:\tlearn: 0.0594999\ttotal: 724ms\tremaining: 896ms\n",
      "447:\tlearn: 0.0593616\ttotal: 726ms\tremaining: 894ms\n",
      "448:\tlearn: 0.0592085\ttotal: 727ms\tremaining: 892ms\n",
      "449:\tlearn: 0.0590673\ttotal: 729ms\tremaining: 891ms\n",
      "450:\tlearn: 0.0588944\ttotal: 730ms\tremaining: 889ms\n",
      "451:\tlearn: 0.0586604\ttotal: 732ms\tremaining: 887ms\n",
      "452:\tlearn: 0.0585582\ttotal: 733ms\tremaining: 886ms\n",
      "453:\tlearn: 0.0583940\ttotal: 735ms\tremaining: 884ms\n",
      "454:\tlearn: 0.0582187\ttotal: 736ms\tremaining: 882ms\n",
      "455:\tlearn: 0.0580956\ttotal: 738ms\tremaining: 880ms\n",
      "456:\tlearn: 0.0580082\ttotal: 740ms\tremaining: 879ms\n",
      "457:\tlearn: 0.0578321\ttotal: 741ms\tremaining: 877ms\n",
      "458:\tlearn: 0.0576837\ttotal: 743ms\tremaining: 875ms\n",
      "459:\tlearn: 0.0575725\ttotal: 744ms\tremaining: 874ms\n",
      "460:\tlearn: 0.0574927\ttotal: 746ms\tremaining: 872ms\n",
      "461:\tlearn: 0.0573817\ttotal: 747ms\tremaining: 870ms\n",
      "462:\tlearn: 0.0572799\ttotal: 749ms\tremaining: 868ms\n",
      "463:\tlearn: 0.0571188\ttotal: 750ms\tremaining: 867ms\n",
      "464:\tlearn: 0.0569455\ttotal: 752ms\tremaining: 865ms\n",
      "465:\tlearn: 0.0568502\ttotal: 754ms\tremaining: 864ms\n",
      "466:\tlearn: 0.0567659\ttotal: 755ms\tremaining: 862ms\n",
      "467:\tlearn: 0.0565909\ttotal: 757ms\tremaining: 860ms\n",
      "468:\tlearn: 0.0564431\ttotal: 758ms\tremaining: 858ms\n",
      "469:\tlearn: 0.0562561\ttotal: 760ms\tremaining: 857ms\n",
      "470:\tlearn: 0.0561040\ttotal: 761ms\tremaining: 855ms\n",
      "471:\tlearn: 0.0559747\ttotal: 763ms\tremaining: 853ms\n",
      "472:\tlearn: 0.0558440\ttotal: 764ms\tremaining: 852ms\n",
      "473:\tlearn: 0.0557138\ttotal: 766ms\tremaining: 850ms\n",
      "474:\tlearn: 0.0555754\ttotal: 767ms\tremaining: 848ms\n",
      "475:\tlearn: 0.0554505\ttotal: 769ms\tremaining: 846ms\n",
      "476:\tlearn: 0.0553121\ttotal: 770ms\tremaining: 845ms\n",
      "477:\tlearn: 0.0552313\ttotal: 772ms\tremaining: 843ms\n",
      "478:\tlearn: 0.0550949\ttotal: 774ms\tremaining: 841ms\n",
      "479:\tlearn: 0.0549296\ttotal: 775ms\tremaining: 840ms\n",
      "480:\tlearn: 0.0547890\ttotal: 777ms\tremaining: 838ms\n",
      "481:\tlearn: 0.0546634\ttotal: 778ms\tremaining: 836ms\n",
      "482:\tlearn: 0.0545373\ttotal: 780ms\tremaining: 835ms\n",
      "483:\tlearn: 0.0544340\ttotal: 781ms\tremaining: 833ms\n",
      "484:\tlearn: 0.0542566\ttotal: 783ms\tremaining: 831ms\n",
      "485:\tlearn: 0.0540898\ttotal: 784ms\tremaining: 830ms\n",
      "486:\tlearn: 0.0539761\ttotal: 787ms\tremaining: 829ms\n",
      "487:\tlearn: 0.0538190\ttotal: 789ms\tremaining: 827ms\n",
      "488:\tlearn: 0.0537379\ttotal: 790ms\tremaining: 826ms\n",
      "489:\tlearn: 0.0536194\ttotal: 792ms\tremaining: 824ms\n",
      "490:\tlearn: 0.0534649\ttotal: 793ms\tremaining: 822ms\n",
      "491:\tlearn: 0.0533254\ttotal: 795ms\tremaining: 821ms\n",
      "492:\tlearn: 0.0531964\ttotal: 796ms\tremaining: 819ms\n",
      "493:\tlearn: 0.0530983\ttotal: 798ms\tremaining: 817ms\n",
      "494:\tlearn: 0.0529653\ttotal: 799ms\tremaining: 816ms\n",
      "495:\tlearn: 0.0528502\ttotal: 801ms\tremaining: 814ms\n",
      "496:\tlearn: 0.0527284\ttotal: 803ms\tremaining: 812ms\n",
      "497:\tlearn: 0.0526018\ttotal: 804ms\tremaining: 811ms\n",
      "498:\tlearn: 0.0524920\ttotal: 806ms\tremaining: 809ms\n",
      "499:\tlearn: 0.0524597\ttotal: 807ms\tremaining: 807ms\n",
      "500:\tlearn: 0.0523327\ttotal: 808ms\tremaining: 805ms\n",
      "501:\tlearn: 0.0522181\ttotal: 810ms\tremaining: 804ms\n",
      "502:\tlearn: 0.0521498\ttotal: 813ms\tremaining: 803ms\n",
      "503:\tlearn: 0.0520580\ttotal: 815ms\tremaining: 802ms\n",
      "504:\tlearn: 0.0519751\ttotal: 816ms\tremaining: 800ms\n",
      "505:\tlearn: 0.0518677\ttotal: 818ms\tremaining: 798ms\n",
      "506:\tlearn: 0.0517417\ttotal: 819ms\tremaining: 797ms\n",
      "507:\tlearn: 0.0516205\ttotal: 821ms\tremaining: 795ms\n",
      "508:\tlearn: 0.0515348\ttotal: 822ms\tremaining: 793ms\n",
      "509:\tlearn: 0.0513988\ttotal: 824ms\tremaining: 792ms\n",
      "510:\tlearn: 0.0512615\ttotal: 825ms\tremaining: 790ms\n",
      "511:\tlearn: 0.0511184\ttotal: 827ms\tremaining: 788ms\n",
      "512:\tlearn: 0.0510551\ttotal: 829ms\tremaining: 787ms\n",
      "513:\tlearn: 0.0509089\ttotal: 830ms\tremaining: 785ms\n",
      "514:\tlearn: 0.0507890\ttotal: 832ms\tremaining: 783ms\n",
      "515:\tlearn: 0.0506760\ttotal: 833ms\tremaining: 782ms\n",
      "516:\tlearn: 0.0505331\ttotal: 835ms\tremaining: 780ms\n",
      "517:\tlearn: 0.0503883\ttotal: 837ms\tremaining: 778ms\n",
      "518:\tlearn: 0.0502904\ttotal: 838ms\tremaining: 777ms\n",
      "519:\tlearn: 0.0501603\ttotal: 840ms\tremaining: 775ms\n",
      "520:\tlearn: 0.0499904\ttotal: 841ms\tremaining: 773ms\n",
      "521:\tlearn: 0.0498944\ttotal: 843ms\tremaining: 772ms\n",
      "522:\tlearn: 0.0497987\ttotal: 844ms\tremaining: 770ms\n",
      "523:\tlearn: 0.0497111\ttotal: 846ms\tremaining: 768ms\n",
      "524:\tlearn: 0.0496123\ttotal: 848ms\tremaining: 767ms\n",
      "525:\tlearn: 0.0494974\ttotal: 849ms\tremaining: 765ms\n",
      "526:\tlearn: 0.0493953\ttotal: 851ms\tremaining: 764ms\n",
      "527:\tlearn: 0.0493201\ttotal: 852ms\tremaining: 762ms\n",
      "528:\tlearn: 0.0492257\ttotal: 854ms\tremaining: 760ms\n",
      "529:\tlearn: 0.0491030\ttotal: 856ms\tremaining: 759ms\n",
      "530:\tlearn: 0.0489997\ttotal: 857ms\tremaining: 757ms\n",
      "531:\tlearn: 0.0488990\ttotal: 859ms\tremaining: 756ms\n",
      "532:\tlearn: 0.0488020\ttotal: 861ms\tremaining: 755ms\n",
      "533:\tlearn: 0.0487061\ttotal: 863ms\tremaining: 753ms\n",
      "534:\tlearn: 0.0485882\ttotal: 865ms\tremaining: 752ms\n",
      "535:\tlearn: 0.0484545\ttotal: 867ms\tremaining: 750ms\n",
      "536:\tlearn: 0.0483129\ttotal: 868ms\tremaining: 749ms\n",
      "537:\tlearn: 0.0482019\ttotal: 872ms\tremaining: 749ms\n",
      "538:\tlearn: 0.0481011\ttotal: 874ms\tremaining: 747ms\n",
      "539:\tlearn: 0.0480114\ttotal: 875ms\tremaining: 746ms\n",
      "540:\tlearn: 0.0479201\ttotal: 877ms\tremaining: 744ms\n",
      "541:\tlearn: 0.0478318\ttotal: 879ms\tremaining: 742ms\n",
      "542:\tlearn: 0.0477142\ttotal: 880ms\tremaining: 741ms\n",
      "543:\tlearn: 0.0476731\ttotal: 881ms\tremaining: 739ms\n",
      "544:\tlearn: 0.0475556\ttotal: 883ms\tremaining: 737ms\n",
      "545:\tlearn: 0.0474744\ttotal: 884ms\tremaining: 735ms\n",
      "546:\tlearn: 0.0473519\ttotal: 886ms\tremaining: 734ms\n",
      "547:\tlearn: 0.0472609\ttotal: 888ms\tremaining: 732ms\n",
      "548:\tlearn: 0.0471246\ttotal: 889ms\tremaining: 731ms\n",
      "549:\tlearn: 0.0470390\ttotal: 891ms\tremaining: 729ms\n",
      "550:\tlearn: 0.0469725\ttotal: 893ms\tremaining: 728ms\n",
      "551:\tlearn: 0.0469527\ttotal: 894ms\tremaining: 726ms\n",
      "552:\tlearn: 0.0468395\ttotal: 896ms\tremaining: 724ms\n",
      "553:\tlearn: 0.0467404\ttotal: 898ms\tremaining: 723ms\n",
      "554:\tlearn: 0.0466383\ttotal: 900ms\tremaining: 721ms\n",
      "555:\tlearn: 0.0465338\ttotal: 901ms\tremaining: 720ms\n",
      "556:\tlearn: 0.0464418\ttotal: 903ms\tremaining: 718ms\n",
      "557:\tlearn: 0.0464262\ttotal: 904ms\tremaining: 716ms\n",
      "558:\tlearn: 0.0463436\ttotal: 905ms\tremaining: 714ms\n",
      "559:\tlearn: 0.0462156\ttotal: 907ms\tremaining: 713ms\n",
      "560:\tlearn: 0.0461114\ttotal: 908ms\tremaining: 711ms\n",
      "561:\tlearn: 0.0459715\ttotal: 910ms\tremaining: 709ms\n",
      "562:\tlearn: 0.0458377\ttotal: 912ms\tremaining: 708ms\n",
      "563:\tlearn: 0.0457564\ttotal: 913ms\tremaining: 706ms\n",
      "564:\tlearn: 0.0456744\ttotal: 915ms\tremaining: 704ms\n",
      "565:\tlearn: 0.0455906\ttotal: 917ms\tremaining: 703ms\n",
      "566:\tlearn: 0.0454680\ttotal: 918ms\tremaining: 701ms\n",
      "567:\tlearn: 0.0453791\ttotal: 920ms\tremaining: 700ms\n",
      "568:\tlearn: 0.0452652\ttotal: 922ms\tremaining: 698ms\n",
      "569:\tlearn: 0.0451406\ttotal: 924ms\tremaining: 697ms\n",
      "570:\tlearn: 0.0450564\ttotal: 925ms\tremaining: 695ms\n",
      "571:\tlearn: 0.0449165\ttotal: 927ms\tremaining: 693ms\n",
      "572:\tlearn: 0.0448376\ttotal: 929ms\tremaining: 692ms\n",
      "573:\tlearn: 0.0447553\ttotal: 930ms\tremaining: 691ms\n",
      "574:\tlearn: 0.0446434\ttotal: 932ms\tremaining: 689ms\n",
      "575:\tlearn: 0.0445633\ttotal: 934ms\tremaining: 688ms\n",
      "576:\tlearn: 0.0444660\ttotal: 936ms\tremaining: 686ms\n",
      "577:\tlearn: 0.0443889\ttotal: 939ms\tremaining: 685ms\n",
      "578:\tlearn: 0.0443252\ttotal: 940ms\tremaining: 684ms\n",
      "579:\tlearn: 0.0441928\ttotal: 942ms\tremaining: 682ms\n",
      "580:\tlearn: 0.0441183\ttotal: 944ms\tremaining: 681ms\n",
      "581:\tlearn: 0.0440259\ttotal: 946ms\tremaining: 680ms\n",
      "582:\tlearn: 0.0439421\ttotal: 948ms\tremaining: 678ms\n",
      "583:\tlearn: 0.0438592\ttotal: 950ms\tremaining: 676ms\n",
      "584:\tlearn: 0.0437627\ttotal: 951ms\tremaining: 675ms\n",
      "585:\tlearn: 0.0436223\ttotal: 953ms\tremaining: 673ms\n",
      "586:\tlearn: 0.0435265\ttotal: 954ms\tremaining: 672ms\n",
      "587:\tlearn: 0.0434274\ttotal: 956ms\tremaining: 670ms\n",
      "588:\tlearn: 0.0433339\ttotal: 958ms\tremaining: 668ms\n",
      "589:\tlearn: 0.0432092\ttotal: 959ms\tremaining: 667ms\n",
      "590:\tlearn: 0.0431120\ttotal: 961ms\tremaining: 665ms\n",
      "591:\tlearn: 0.0430384\ttotal: 963ms\tremaining: 663ms\n",
      "592:\tlearn: 0.0429534\ttotal: 964ms\tremaining: 662ms\n",
      "593:\tlearn: 0.0428506\ttotal: 966ms\tremaining: 660ms\n",
      "594:\tlearn: 0.0427667\ttotal: 968ms\tremaining: 659ms\n",
      "595:\tlearn: 0.0426795\ttotal: 969ms\tremaining: 657ms\n",
      "596:\tlearn: 0.0426101\ttotal: 971ms\tremaining: 656ms\n",
      "597:\tlearn: 0.0425416\ttotal: 973ms\tremaining: 654ms\n",
      "598:\tlearn: 0.0424398\ttotal: 974ms\tremaining: 652ms\n",
      "599:\tlearn: 0.0423524\ttotal: 976ms\tremaining: 650ms\n",
      "600:\tlearn: 0.0422550\ttotal: 977ms\tremaining: 649ms\n",
      "601:\tlearn: 0.0421749\ttotal: 979ms\tremaining: 647ms\n",
      "602:\tlearn: 0.0420866\ttotal: 980ms\tremaining: 645ms\n",
      "603:\tlearn: 0.0419949\ttotal: 982ms\tremaining: 644ms\n",
      "604:\tlearn: 0.0419261\ttotal: 983ms\tremaining: 642ms\n",
      "605:\tlearn: 0.0418393\ttotal: 985ms\tremaining: 640ms\n",
      "606:\tlearn: 0.0417606\ttotal: 986ms\tremaining: 639ms\n",
      "607:\tlearn: 0.0416752\ttotal: 988ms\tremaining: 637ms\n",
      "608:\tlearn: 0.0415757\ttotal: 990ms\tremaining: 635ms\n",
      "609:\tlearn: 0.0415117\ttotal: 991ms\tremaining: 634ms\n",
      "610:\tlearn: 0.0414059\ttotal: 993ms\tremaining: 632ms\n",
      "611:\tlearn: 0.0413015\ttotal: 994ms\tremaining: 630ms\n",
      "612:\tlearn: 0.0411788\ttotal: 996ms\tremaining: 629ms\n",
      "613:\tlearn: 0.0410581\ttotal: 997ms\tremaining: 627ms\n",
      "614:\tlearn: 0.0409902\ttotal: 999ms\tremaining: 625ms\n",
      "615:\tlearn: 0.0409017\ttotal: 1s\tremaining: 624ms\n",
      "616:\tlearn: 0.0408373\ttotal: 1s\tremaining: 622ms\n",
      "617:\tlearn: 0.0407668\ttotal: 1s\tremaining: 620ms\n",
      "618:\tlearn: 0.0406770\ttotal: 1s\tremaining: 619ms\n",
      "619:\tlearn: 0.0405957\ttotal: 1.01s\tremaining: 617ms\n",
      "620:\tlearn: 0.0404731\ttotal: 1.01s\tremaining: 615ms\n",
      "621:\tlearn: 0.0403971\ttotal: 1.01s\tremaining: 614ms\n",
      "622:\tlearn: 0.0403139\ttotal: 1.01s\tremaining: 612ms\n",
      "623:\tlearn: 0.0402331\ttotal: 1.01s\tremaining: 610ms\n",
      "624:\tlearn: 0.0401592\ttotal: 1.01s\tremaining: 609ms\n"
     ]
    },
    {
     "name": "stdout",
     "output_type": "stream",
     "text": [
      "625:\tlearn: 0.0400569\ttotal: 1.02s\tremaining: 607ms\n",
      "626:\tlearn: 0.0399832\ttotal: 1.02s\tremaining: 606ms\n",
      "627:\tlearn: 0.0399103\ttotal: 1.02s\tremaining: 605ms\n",
      "628:\tlearn: 0.0398290\ttotal: 1.02s\tremaining: 603ms\n",
      "629:\tlearn: 0.0397413\ttotal: 1.02s\tremaining: 601ms\n",
      "630:\tlearn: 0.0396518\ttotal: 1.02s\tremaining: 600ms\n",
      "631:\tlearn: 0.0395704\ttotal: 1.03s\tremaining: 598ms\n",
      "632:\tlearn: 0.0394417\ttotal: 1.03s\tremaining: 597ms\n",
      "633:\tlearn: 0.0393153\ttotal: 1.03s\tremaining: 596ms\n",
      "634:\tlearn: 0.0392448\ttotal: 1.03s\tremaining: 594ms\n",
      "635:\tlearn: 0.0391347\ttotal: 1.04s\tremaining: 593ms\n",
      "636:\tlearn: 0.0390523\ttotal: 1.04s\tremaining: 592ms\n",
      "637:\tlearn: 0.0390088\ttotal: 1.04s\tremaining: 590ms\n",
      "638:\tlearn: 0.0389351\ttotal: 1.04s\tremaining: 588ms\n",
      "639:\tlearn: 0.0388363\ttotal: 1.04s\tremaining: 586ms\n",
      "640:\tlearn: 0.0387475\ttotal: 1.04s\tremaining: 585ms\n",
      "641:\tlearn: 0.0386910\ttotal: 1.04s\tremaining: 583ms\n",
      "642:\tlearn: 0.0386060\ttotal: 1.05s\tremaining: 581ms\n",
      "643:\tlearn: 0.0385484\ttotal: 1.05s\tremaining: 580ms\n",
      "644:\tlearn: 0.0384911\ttotal: 1.05s\tremaining: 578ms\n",
      "645:\tlearn: 0.0384358\ttotal: 1.05s\tremaining: 576ms\n",
      "646:\tlearn: 0.0383724\ttotal: 1.05s\tremaining: 575ms\n",
      "647:\tlearn: 0.0382947\ttotal: 1.05s\tremaining: 573ms\n",
      "648:\tlearn: 0.0382297\ttotal: 1.06s\tremaining: 571ms\n",
      "649:\tlearn: 0.0381644\ttotal: 1.06s\tremaining: 570ms\n",
      "650:\tlearn: 0.0381117\ttotal: 1.06s\tremaining: 568ms\n",
      "651:\tlearn: 0.0380538\ttotal: 1.06s\tremaining: 567ms\n",
      "652:\tlearn: 0.0379624\ttotal: 1.06s\tremaining: 566ms\n",
      "653:\tlearn: 0.0378861\ttotal: 1.07s\tremaining: 564ms\n",
      "654:\tlearn: 0.0377871\ttotal: 1.07s\tremaining: 562ms\n",
      "655:\tlearn: 0.0377071\ttotal: 1.07s\tremaining: 561ms\n",
      "656:\tlearn: 0.0376290\ttotal: 1.07s\tremaining: 559ms\n",
      "657:\tlearn: 0.0375609\ttotal: 1.07s\tremaining: 557ms\n",
      "658:\tlearn: 0.0374879\ttotal: 1.07s\tremaining: 556ms\n",
      "659:\tlearn: 0.0373803\ttotal: 1.07s\tremaining: 554ms\n",
      "660:\tlearn: 0.0373170\ttotal: 1.08s\tremaining: 552ms\n",
      "661:\tlearn: 0.0372491\ttotal: 1.08s\tremaining: 551ms\n",
      "662:\tlearn: 0.0371866\ttotal: 1.08s\tremaining: 549ms\n",
      "663:\tlearn: 0.0370725\ttotal: 1.08s\tremaining: 548ms\n",
      "664:\tlearn: 0.0369897\ttotal: 1.08s\tremaining: 546ms\n",
      "665:\tlearn: 0.0369122\ttotal: 1.08s\tremaining: 544ms\n",
      "666:\tlearn: 0.0368349\ttotal: 1.09s\tremaining: 543ms\n",
      "667:\tlearn: 0.0367635\ttotal: 1.09s\tremaining: 541ms\n",
      "668:\tlearn: 0.0366842\ttotal: 1.09s\tremaining: 539ms\n",
      "669:\tlearn: 0.0366156\ttotal: 1.09s\tremaining: 538ms\n",
      "670:\tlearn: 0.0365454\ttotal: 1.09s\tremaining: 536ms\n",
      "671:\tlearn: 0.0364566\ttotal: 1.09s\tremaining: 534ms\n",
      "672:\tlearn: 0.0363896\ttotal: 1.09s\tremaining: 532ms\n",
      "673:\tlearn: 0.0363037\ttotal: 1.1s\tremaining: 531ms\n",
      "674:\tlearn: 0.0362134\ttotal: 1.1s\tremaining: 529ms\n",
      "675:\tlearn: 0.0361552\ttotal: 1.1s\tremaining: 527ms\n",
      "676:\tlearn: 0.0360854\ttotal: 1.1s\tremaining: 526ms\n",
      "677:\tlearn: 0.0360068\ttotal: 1.1s\tremaining: 524ms\n",
      "678:\tlearn: 0.0359495\ttotal: 1.1s\tremaining: 523ms\n",
      "679:\tlearn: 0.0358633\ttotal: 1.11s\tremaining: 521ms\n",
      "680:\tlearn: 0.0358062\ttotal: 1.11s\tremaining: 519ms\n",
      "681:\tlearn: 0.0357264\ttotal: 1.11s\tremaining: 518ms\n",
      "682:\tlearn: 0.0356371\ttotal: 1.11s\tremaining: 516ms\n",
      "683:\tlearn: 0.0355824\ttotal: 1.11s\tremaining: 514ms\n",
      "684:\tlearn: 0.0354984\ttotal: 1.11s\tremaining: 513ms\n",
      "685:\tlearn: 0.0353953\ttotal: 1.12s\tremaining: 511ms\n",
      "686:\tlearn: 0.0353137\ttotal: 1.12s\tremaining: 509ms\n",
      "687:\tlearn: 0.0352599\ttotal: 1.12s\tremaining: 508ms\n",
      "688:\tlearn: 0.0351898\ttotal: 1.12s\tremaining: 506ms\n",
      "689:\tlearn: 0.0351275\ttotal: 1.12s\tremaining: 505ms\n",
      "690:\tlearn: 0.0350406\ttotal: 1.13s\tremaining: 503ms\n",
      "691:\tlearn: 0.0349821\ttotal: 1.13s\tremaining: 502ms\n",
      "692:\tlearn: 0.0349403\ttotal: 1.13s\tremaining: 500ms\n",
      "693:\tlearn: 0.0348686\ttotal: 1.13s\tremaining: 498ms\n",
      "694:\tlearn: 0.0347963\ttotal: 1.13s\tremaining: 497ms\n",
      "695:\tlearn: 0.0347302\ttotal: 1.13s\tremaining: 495ms\n",
      "696:\tlearn: 0.0346407\ttotal: 1.13s\tremaining: 493ms\n",
      "697:\tlearn: 0.0345855\ttotal: 1.14s\tremaining: 492ms\n",
      "698:\tlearn: 0.0344979\ttotal: 1.14s\tremaining: 491ms\n",
      "699:\tlearn: 0.0343986\ttotal: 1.14s\tremaining: 489ms\n",
      "700:\tlearn: 0.0343339\ttotal: 1.14s\tremaining: 487ms\n",
      "701:\tlearn: 0.0342358\ttotal: 1.14s\tremaining: 486ms\n",
      "702:\tlearn: 0.0341712\ttotal: 1.15s\tremaining: 484ms\n",
      "703:\tlearn: 0.0341100\ttotal: 1.15s\tremaining: 483ms\n",
      "704:\tlearn: 0.0340420\ttotal: 1.15s\tremaining: 481ms\n",
      "705:\tlearn: 0.0339734\ttotal: 1.15s\tremaining: 479ms\n",
      "706:\tlearn: 0.0338795\ttotal: 1.15s\tremaining: 478ms\n",
      "707:\tlearn: 0.0338057\ttotal: 1.15s\tremaining: 476ms\n",
      "708:\tlearn: 0.0337417\ttotal: 1.16s\tremaining: 474ms\n",
      "709:\tlearn: 0.0336749\ttotal: 1.16s\tremaining: 473ms\n",
      "710:\tlearn: 0.0336170\ttotal: 1.16s\tremaining: 471ms\n",
      "711:\tlearn: 0.0335848\ttotal: 1.16s\tremaining: 469ms\n",
      "712:\tlearn: 0.0335151\ttotal: 1.16s\tremaining: 468ms\n",
      "713:\tlearn: 0.0334476\ttotal: 1.16s\tremaining: 466ms\n",
      "714:\tlearn: 0.0333751\ttotal: 1.17s\tremaining: 465ms\n",
      "715:\tlearn: 0.0333202\ttotal: 1.17s\tremaining: 463ms\n",
      "716:\tlearn: 0.0332610\ttotal: 1.17s\tremaining: 462ms\n",
      "717:\tlearn: 0.0331764\ttotal: 1.17s\tremaining: 460ms\n",
      "718:\tlearn: 0.0331075\ttotal: 1.17s\tremaining: 458ms\n",
      "719:\tlearn: 0.0330398\ttotal: 1.17s\tremaining: 457ms\n",
      "720:\tlearn: 0.0329764\ttotal: 1.18s\tremaining: 455ms\n",
      "721:\tlearn: 0.0328972\ttotal: 1.18s\tremaining: 453ms\n",
      "722:\tlearn: 0.0328457\ttotal: 1.18s\tremaining: 452ms\n",
      "723:\tlearn: 0.0327795\ttotal: 1.18s\tremaining: 450ms\n",
      "724:\tlearn: 0.0326953\ttotal: 1.18s\tremaining: 448ms\n",
      "725:\tlearn: 0.0326498\ttotal: 1.18s\tremaining: 447ms\n",
      "726:\tlearn: 0.0326075\ttotal: 1.19s\tremaining: 445ms\n",
      "727:\tlearn: 0.0325344\ttotal: 1.19s\tremaining: 444ms\n",
      "728:\tlearn: 0.0324611\ttotal: 1.19s\tremaining: 442ms\n",
      "729:\tlearn: 0.0323946\ttotal: 1.19s\tremaining: 441ms\n",
      "730:\tlearn: 0.0323362\ttotal: 1.19s\tremaining: 439ms\n",
      "731:\tlearn: 0.0322858\ttotal: 1.2s\tremaining: 438ms\n",
      "732:\tlearn: 0.0322337\ttotal: 1.2s\tremaining: 436ms\n",
      "733:\tlearn: 0.0321894\ttotal: 1.2s\tremaining: 434ms\n",
      "734:\tlearn: 0.0321324\ttotal: 1.2s\tremaining: 433ms\n",
      "735:\tlearn: 0.0320566\ttotal: 1.2s\tremaining: 431ms\n",
      "736:\tlearn: 0.0319847\ttotal: 1.2s\tremaining: 429ms\n",
      "737:\tlearn: 0.0319117\ttotal: 1.2s\tremaining: 428ms\n",
      "738:\tlearn: 0.0318401\ttotal: 1.21s\tremaining: 426ms\n",
      "739:\tlearn: 0.0317936\ttotal: 1.21s\tremaining: 424ms\n",
      "740:\tlearn: 0.0317320\ttotal: 1.21s\tremaining: 423ms\n",
      "741:\tlearn: 0.0316704\ttotal: 1.21s\tremaining: 421ms\n",
      "742:\tlearn: 0.0315931\ttotal: 1.21s\tremaining: 419ms\n",
      "743:\tlearn: 0.0315350\ttotal: 1.21s\tremaining: 418ms\n",
      "744:\tlearn: 0.0314877\ttotal: 1.22s\tremaining: 417ms\n",
      "745:\tlearn: 0.0314469\ttotal: 1.22s\tremaining: 415ms\n",
      "746:\tlearn: 0.0313720\ttotal: 1.22s\tremaining: 413ms\n",
      "747:\tlearn: 0.0313067\ttotal: 1.22s\tremaining: 412ms\n",
      "748:\tlearn: 0.0312413\ttotal: 1.22s\tremaining: 410ms\n",
      "749:\tlearn: 0.0311741\ttotal: 1.23s\tremaining: 408ms\n",
      "750:\tlearn: 0.0311260\ttotal: 1.23s\tremaining: 407ms\n",
      "751:\tlearn: 0.0310735\ttotal: 1.23s\tremaining: 405ms\n",
      "752:\tlearn: 0.0310278\ttotal: 1.23s\tremaining: 403ms\n",
      "753:\tlearn: 0.0309538\ttotal: 1.23s\tremaining: 402ms\n",
      "754:\tlearn: 0.0309165\ttotal: 1.23s\tremaining: 400ms\n",
      "755:\tlearn: 0.0308429\ttotal: 1.23s\tremaining: 398ms\n",
      "756:\tlearn: 0.0307844\ttotal: 1.24s\tremaining: 397ms\n",
      "757:\tlearn: 0.0306992\ttotal: 1.24s\tremaining: 395ms\n",
      "758:\tlearn: 0.0306425\ttotal: 1.24s\tremaining: 393ms\n",
      "759:\tlearn: 0.0305867\ttotal: 1.24s\tremaining: 392ms\n",
      "760:\tlearn: 0.0305250\ttotal: 1.24s\tremaining: 390ms\n",
      "761:\tlearn: 0.0304520\ttotal: 1.25s\tremaining: 389ms\n",
      "762:\tlearn: 0.0303696\ttotal: 1.25s\tremaining: 387ms\n",
      "763:\tlearn: 0.0303201\ttotal: 1.25s\tremaining: 386ms\n",
      "764:\tlearn: 0.0302474\ttotal: 1.25s\tremaining: 384ms\n",
      "765:\tlearn: 0.0301670\ttotal: 1.25s\tremaining: 382ms\n",
      "766:\tlearn: 0.0301102\ttotal: 1.25s\tremaining: 381ms\n",
      "767:\tlearn: 0.0300674\ttotal: 1.25s\tremaining: 379ms\n",
      "768:\tlearn: 0.0300182\ttotal: 1.26s\tremaining: 378ms\n",
      "769:\tlearn: 0.0299708\ttotal: 1.26s\tremaining: 376ms\n",
      "770:\tlearn: 0.0298993\ttotal: 1.26s\tremaining: 374ms\n",
      "771:\tlearn: 0.0298419\ttotal: 1.26s\tremaining: 373ms\n",
      "772:\tlearn: 0.0297847\ttotal: 1.26s\tremaining: 371ms\n",
      "773:\tlearn: 0.0297369\ttotal: 1.26s\tremaining: 369ms\n",
      "774:\tlearn: 0.0296854\ttotal: 1.27s\tremaining: 368ms\n",
      "775:\tlearn: 0.0296364\ttotal: 1.27s\tremaining: 366ms\n",
      "776:\tlearn: 0.0295802\ttotal: 1.27s\tremaining: 364ms\n",
      "777:\tlearn: 0.0295282\ttotal: 1.27s\tremaining: 363ms\n",
      "778:\tlearn: 0.0294489\ttotal: 1.27s\tremaining: 361ms\n",
      "779:\tlearn: 0.0294044\ttotal: 1.27s\tremaining: 359ms\n",
      "780:\tlearn: 0.0293608\ttotal: 1.27s\tremaining: 358ms\n",
      "781:\tlearn: 0.0292973\ttotal: 1.28s\tremaining: 356ms\n",
      "782:\tlearn: 0.0292481\ttotal: 1.28s\tremaining: 354ms\n",
      "783:\tlearn: 0.0291919\ttotal: 1.28s\tremaining: 353ms\n",
      "784:\tlearn: 0.0291516\ttotal: 1.28s\tremaining: 351ms\n",
      "785:\tlearn: 0.0291013\ttotal: 1.28s\tremaining: 349ms\n",
      "786:\tlearn: 0.0290353\ttotal: 1.28s\tremaining: 348ms\n",
      "787:\tlearn: 0.0289767\ttotal: 1.29s\tremaining: 346ms\n",
      "788:\tlearn: 0.0289294\ttotal: 1.29s\tremaining: 344ms\n",
      "789:\tlearn: 0.0288859\ttotal: 1.29s\tremaining: 343ms\n",
      "790:\tlearn: 0.0288405\ttotal: 1.29s\tremaining: 341ms\n",
      "791:\tlearn: 0.0287949\ttotal: 1.29s\tremaining: 339ms\n",
      "792:\tlearn: 0.0287526\ttotal: 1.29s\tremaining: 338ms\n",
      "793:\tlearn: 0.0286901\ttotal: 1.29s\tremaining: 336ms\n",
      "794:\tlearn: 0.0286337\ttotal: 1.3s\tremaining: 335ms\n",
      "795:\tlearn: 0.0285829\ttotal: 1.3s\tremaining: 333ms\n",
      "796:\tlearn: 0.0285366\ttotal: 1.3s\tremaining: 331ms\n",
      "797:\tlearn: 0.0284624\ttotal: 1.3s\tremaining: 330ms\n",
      "798:\tlearn: 0.0283894\ttotal: 1.3s\tremaining: 328ms\n",
      "799:\tlearn: 0.0283274\ttotal: 1.3s\tremaining: 326ms\n",
      "800:\tlearn: 0.0282609\ttotal: 1.31s\tremaining: 325ms\n",
      "801:\tlearn: 0.0282174\ttotal: 1.31s\tremaining: 323ms\n",
      "802:\tlearn: 0.0281677\ttotal: 1.31s\tremaining: 321ms\n",
      "803:\tlearn: 0.0281124\ttotal: 1.31s\tremaining: 320ms\n",
      "804:\tlearn: 0.0280482\ttotal: 1.31s\tremaining: 318ms\n",
      "805:\tlearn: 0.0279916\ttotal: 1.31s\tremaining: 316ms\n",
      "806:\tlearn: 0.0279390\ttotal: 1.31s\tremaining: 315ms\n",
      "807:\tlearn: 0.0278881\ttotal: 1.32s\tremaining: 313ms\n",
      "808:\tlearn: 0.0278410\ttotal: 1.32s\tremaining: 311ms\n",
      "809:\tlearn: 0.0277824\ttotal: 1.32s\tremaining: 310ms\n",
      "810:\tlearn: 0.0277367\ttotal: 1.32s\tremaining: 309ms\n",
      "811:\tlearn: 0.0276748\ttotal: 1.32s\tremaining: 307ms\n",
      "812:\tlearn: 0.0276304\ttotal: 1.33s\tremaining: 305ms\n",
      "813:\tlearn: 0.0275904\ttotal: 1.33s\tremaining: 304ms\n",
      "814:\tlearn: 0.0275350\ttotal: 1.33s\tremaining: 302ms\n",
      "815:\tlearn: 0.0274813\ttotal: 1.33s\tremaining: 300ms\n",
      "816:\tlearn: 0.0274321\ttotal: 1.33s\tremaining: 299ms\n",
      "817:\tlearn: 0.0273863\ttotal: 1.33s\tremaining: 297ms\n",
      "818:\tlearn: 0.0273302\ttotal: 1.34s\tremaining: 295ms\n",
      "819:\tlearn: 0.0272826\ttotal: 1.34s\tremaining: 294ms\n",
      "820:\tlearn: 0.0272342\ttotal: 1.34s\tremaining: 292ms\n",
      "821:\tlearn: 0.0271872\ttotal: 1.34s\tremaining: 290ms\n",
      "822:\tlearn: 0.0271373\ttotal: 1.34s\tremaining: 289ms\n",
      "823:\tlearn: 0.0270911\ttotal: 1.34s\tremaining: 287ms\n",
      "824:\tlearn: 0.0270370\ttotal: 1.34s\tremaining: 285ms\n",
      "825:\tlearn: 0.0269662\ttotal: 1.35s\tremaining: 284ms\n",
      "826:\tlearn: 0.0269103\ttotal: 1.35s\tremaining: 282ms\n",
      "827:\tlearn: 0.0268661\ttotal: 1.35s\tremaining: 280ms\n",
      "828:\tlearn: 0.0268236\ttotal: 1.35s\tremaining: 279ms\n",
      "829:\tlearn: 0.0267776\ttotal: 1.35s\tremaining: 277ms\n",
      "830:\tlearn: 0.0267162\ttotal: 1.35s\tremaining: 276ms\n"
     ]
    },
    {
     "name": "stdout",
     "output_type": "stream",
     "text": [
      "831:\tlearn: 0.0266740\ttotal: 1.36s\tremaining: 274ms\n",
      "832:\tlearn: 0.0266055\ttotal: 1.36s\tremaining: 272ms\n",
      "833:\tlearn: 0.0265577\ttotal: 1.36s\tremaining: 271ms\n",
      "834:\tlearn: 0.0264892\ttotal: 1.36s\tremaining: 269ms\n",
      "835:\tlearn: 0.0264473\ttotal: 1.36s\tremaining: 267ms\n",
      "836:\tlearn: 0.0264015\ttotal: 1.36s\tremaining: 266ms\n",
      "837:\tlearn: 0.0263482\ttotal: 1.36s\tremaining: 264ms\n",
      "838:\tlearn: 0.0262998\ttotal: 1.37s\tremaining: 262ms\n",
      "839:\tlearn: 0.0262452\ttotal: 1.37s\tremaining: 261ms\n",
      "840:\tlearn: 0.0261977\ttotal: 1.37s\tremaining: 259ms\n",
      "841:\tlearn: 0.0261322\ttotal: 1.37s\tremaining: 257ms\n",
      "842:\tlearn: 0.0260864\ttotal: 1.37s\tremaining: 256ms\n",
      "843:\tlearn: 0.0260467\ttotal: 1.38s\tremaining: 254ms\n",
      "844:\tlearn: 0.0260040\ttotal: 1.38s\tremaining: 253ms\n",
      "845:\tlearn: 0.0259656\ttotal: 1.38s\tremaining: 251ms\n",
      "846:\tlearn: 0.0259019\ttotal: 1.38s\tremaining: 249ms\n",
      "847:\tlearn: 0.0258565\ttotal: 1.38s\tremaining: 248ms\n",
      "848:\tlearn: 0.0258145\ttotal: 1.38s\tremaining: 246ms\n",
      "849:\tlearn: 0.0257510\ttotal: 1.38s\tremaining: 244ms\n",
      "850:\tlearn: 0.0257069\ttotal: 1.39s\tremaining: 243ms\n",
      "851:\tlearn: 0.0256598\ttotal: 1.39s\tremaining: 241ms\n",
      "852:\tlearn: 0.0256081\ttotal: 1.39s\tremaining: 239ms\n",
      "853:\tlearn: 0.0255578\ttotal: 1.39s\tremaining: 238ms\n",
      "854:\tlearn: 0.0255194\ttotal: 1.39s\tremaining: 236ms\n",
      "855:\tlearn: 0.0254580\ttotal: 1.4s\tremaining: 235ms\n",
      "856:\tlearn: 0.0254149\ttotal: 1.4s\tremaining: 233ms\n",
      "857:\tlearn: 0.0253761\ttotal: 1.4s\tremaining: 231ms\n",
      "858:\tlearn: 0.0253358\ttotal: 1.4s\tremaining: 230ms\n",
      "859:\tlearn: 0.0252802\ttotal: 1.4s\tremaining: 228ms\n",
      "860:\tlearn: 0.0252349\ttotal: 1.4s\tremaining: 227ms\n",
      "861:\tlearn: 0.0251748\ttotal: 1.4s\tremaining: 225ms\n",
      "862:\tlearn: 0.0251190\ttotal: 1.41s\tremaining: 223ms\n",
      "863:\tlearn: 0.0250686\ttotal: 1.41s\tremaining: 222ms\n",
      "864:\tlearn: 0.0250336\ttotal: 1.41s\tremaining: 220ms\n",
      "865:\tlearn: 0.0249952\ttotal: 1.41s\tremaining: 218ms\n",
      "866:\tlearn: 0.0249417\ttotal: 1.41s\tremaining: 217ms\n",
      "867:\tlearn: 0.0249044\ttotal: 1.41s\tremaining: 215ms\n",
      "868:\tlearn: 0.0248676\ttotal: 1.42s\tremaining: 213ms\n",
      "869:\tlearn: 0.0248333\ttotal: 1.42s\tremaining: 212ms\n",
      "870:\tlearn: 0.0247920\ttotal: 1.42s\tremaining: 210ms\n",
      "871:\tlearn: 0.0247424\ttotal: 1.42s\tremaining: 209ms\n",
      "872:\tlearn: 0.0246834\ttotal: 1.42s\tremaining: 207ms\n",
      "873:\tlearn: 0.0246431\ttotal: 1.42s\tremaining: 205ms\n",
      "874:\tlearn: 0.0245938\ttotal: 1.43s\tremaining: 204ms\n",
      "875:\tlearn: 0.0245359\ttotal: 1.43s\tremaining: 202ms\n",
      "876:\tlearn: 0.0244871\ttotal: 1.43s\tremaining: 200ms\n",
      "877:\tlearn: 0.0244400\ttotal: 1.43s\tremaining: 199ms\n",
      "878:\tlearn: 0.0243824\ttotal: 1.43s\tremaining: 197ms\n",
      "879:\tlearn: 0.0243419\ttotal: 1.43s\tremaining: 195ms\n",
      "880:\tlearn: 0.0243044\ttotal: 1.43s\tremaining: 194ms\n",
      "881:\tlearn: 0.0242487\ttotal: 1.44s\tremaining: 192ms\n",
      "882:\tlearn: 0.0242142\ttotal: 1.44s\tremaining: 190ms\n",
      "883:\tlearn: 0.0241705\ttotal: 1.44s\tremaining: 189ms\n",
      "884:\tlearn: 0.0241333\ttotal: 1.44s\tremaining: 187ms\n",
      "885:\tlearn: 0.0240931\ttotal: 1.44s\tremaining: 186ms\n",
      "886:\tlearn: 0.0240544\ttotal: 1.44s\tremaining: 184ms\n",
      "887:\tlearn: 0.0240193\ttotal: 1.45s\tremaining: 182ms\n",
      "888:\tlearn: 0.0239644\ttotal: 1.45s\tremaining: 181ms\n",
      "889:\tlearn: 0.0239091\ttotal: 1.45s\tremaining: 179ms\n",
      "890:\tlearn: 0.0238694\ttotal: 1.45s\tremaining: 178ms\n",
      "891:\tlearn: 0.0238304\ttotal: 1.45s\tremaining: 176ms\n",
      "892:\tlearn: 0.0237748\ttotal: 1.45s\tremaining: 174ms\n",
      "893:\tlearn: 0.0237380\ttotal: 1.46s\tremaining: 173ms\n",
      "894:\tlearn: 0.0236964\ttotal: 1.46s\tremaining: 171ms\n",
      "895:\tlearn: 0.0236549\ttotal: 1.46s\tremaining: 169ms\n",
      "896:\tlearn: 0.0236166\ttotal: 1.46s\tremaining: 168ms\n",
      "897:\tlearn: 0.0235678\ttotal: 1.46s\tremaining: 166ms\n",
      "898:\tlearn: 0.0235293\ttotal: 1.46s\tremaining: 164ms\n",
      "899:\tlearn: 0.0234754\ttotal: 1.46s\tremaining: 163ms\n",
      "900:\tlearn: 0.0234377\ttotal: 1.47s\tremaining: 161ms\n",
      "901:\tlearn: 0.0233925\ttotal: 1.47s\tremaining: 159ms\n",
      "902:\tlearn: 0.0233553\ttotal: 1.47s\tremaining: 158ms\n",
      "903:\tlearn: 0.0233076\ttotal: 1.47s\tremaining: 156ms\n",
      "904:\tlearn: 0.0232781\ttotal: 1.47s\tremaining: 155ms\n",
      "905:\tlearn: 0.0232309\ttotal: 1.47s\tremaining: 153ms\n",
      "906:\tlearn: 0.0231935\ttotal: 1.48s\tremaining: 151ms\n",
      "907:\tlearn: 0.0231413\ttotal: 1.48s\tremaining: 150ms\n",
      "908:\tlearn: 0.0231066\ttotal: 1.48s\tremaining: 148ms\n",
      "909:\tlearn: 0.0230492\ttotal: 1.48s\tremaining: 146ms\n",
      "910:\tlearn: 0.0230059\ttotal: 1.48s\tremaining: 145ms\n",
      "911:\tlearn: 0.0229624\ttotal: 1.48s\tremaining: 143ms\n",
      "912:\tlearn: 0.0229284\ttotal: 1.49s\tremaining: 142ms\n",
      "913:\tlearn: 0.0228772\ttotal: 1.49s\tremaining: 140ms\n",
      "914:\tlearn: 0.0228411\ttotal: 1.49s\tremaining: 138ms\n",
      "915:\tlearn: 0.0228074\ttotal: 1.49s\tremaining: 137ms\n",
      "916:\tlearn: 0.0227723\ttotal: 1.49s\tremaining: 135ms\n",
      "917:\tlearn: 0.0227235\ttotal: 1.49s\tremaining: 133ms\n",
      "918:\tlearn: 0.0226879\ttotal: 1.49s\tremaining: 132ms\n",
      "919:\tlearn: 0.0226441\ttotal: 1.5s\tremaining: 130ms\n",
      "920:\tlearn: 0.0226027\ttotal: 1.5s\tremaining: 128ms\n",
      "921:\tlearn: 0.0225617\ttotal: 1.5s\tremaining: 127ms\n",
      "922:\tlearn: 0.0225299\ttotal: 1.5s\tremaining: 125ms\n",
      "923:\tlearn: 0.0224880\ttotal: 1.5s\tremaining: 124ms\n",
      "924:\tlearn: 0.0224511\ttotal: 1.5s\tremaining: 122ms\n",
      "925:\tlearn: 0.0224049\ttotal: 1.5s\tremaining: 120ms\n",
      "926:\tlearn: 0.0223687\ttotal: 1.51s\tremaining: 119ms\n",
      "927:\tlearn: 0.0223330\ttotal: 1.51s\tremaining: 117ms\n",
      "928:\tlearn: 0.0222989\ttotal: 1.51s\tremaining: 115ms\n",
      "929:\tlearn: 0.0222645\ttotal: 1.51s\tremaining: 114ms\n",
      "930:\tlearn: 0.0222294\ttotal: 1.51s\tremaining: 112ms\n",
      "931:\tlearn: 0.0221872\ttotal: 1.51s\tremaining: 110ms\n",
      "932:\tlearn: 0.0221539\ttotal: 1.51s\tremaining: 109ms\n",
      "933:\tlearn: 0.0221236\ttotal: 1.52s\tremaining: 107ms\n",
      "934:\tlearn: 0.0220894\ttotal: 1.52s\tremaining: 106ms\n",
      "935:\tlearn: 0.0220566\ttotal: 1.52s\tremaining: 104ms\n",
      "936:\tlearn: 0.0220076\ttotal: 1.52s\tremaining: 102ms\n",
      "937:\tlearn: 0.0219603\ttotal: 1.52s\tremaining: 101ms\n",
      "938:\tlearn: 0.0219216\ttotal: 1.53s\tremaining: 99.2ms\n",
      "939:\tlearn: 0.0218895\ttotal: 1.53s\tremaining: 97.6ms\n",
      "940:\tlearn: 0.0218401\ttotal: 1.53s\tremaining: 95.9ms\n",
      "941:\tlearn: 0.0218085\ttotal: 1.53s\tremaining: 94.3ms\n",
      "942:\tlearn: 0.0217674\ttotal: 1.53s\tremaining: 92.7ms\n",
      "943:\tlearn: 0.0217386\ttotal: 1.53s\tremaining: 91ms\n",
      "944:\tlearn: 0.0216978\ttotal: 1.53s\tremaining: 89.4ms\n",
      "945:\tlearn: 0.0216503\ttotal: 1.54s\tremaining: 87.8ms\n",
      "946:\tlearn: 0.0216188\ttotal: 1.54s\tremaining: 86.1ms\n",
      "947:\tlearn: 0.0215862\ttotal: 1.54s\tremaining: 84.5ms\n",
      "948:\tlearn: 0.0215528\ttotal: 1.54s\tremaining: 82.9ms\n",
      "949:\tlearn: 0.0215219\ttotal: 1.54s\tremaining: 81.3ms\n",
      "950:\tlearn: 0.0214911\ttotal: 1.54s\tremaining: 79.6ms\n",
      "951:\tlearn: 0.0214588\ttotal: 1.55s\tremaining: 78ms\n",
      "952:\tlearn: 0.0214193\ttotal: 1.55s\tremaining: 76.4ms\n",
      "953:\tlearn: 0.0213895\ttotal: 1.55s\tremaining: 74.7ms\n",
      "954:\tlearn: 0.0213581\ttotal: 1.55s\tremaining: 73.1ms\n",
      "955:\tlearn: 0.0213277\ttotal: 1.55s\tremaining: 71.5ms\n",
      "956:\tlearn: 0.0212987\ttotal: 1.55s\tremaining: 69.9ms\n",
      "957:\tlearn: 0.0212524\ttotal: 1.56s\tremaining: 68.2ms\n",
      "958:\tlearn: 0.0212067\ttotal: 1.56s\tremaining: 66.6ms\n",
      "959:\tlearn: 0.0211626\ttotal: 1.56s\tremaining: 65ms\n",
      "960:\tlearn: 0.0211318\ttotal: 1.56s\tremaining: 63.4ms\n",
      "961:\tlearn: 0.0210908\ttotal: 1.56s\tremaining: 61.7ms\n",
      "962:\tlearn: 0.0210526\ttotal: 1.56s\tremaining: 60.1ms\n",
      "963:\tlearn: 0.0210243\ttotal: 1.56s\tremaining: 58.5ms\n",
      "964:\tlearn: 0.0209880\ttotal: 1.57s\tremaining: 56.8ms\n",
      "965:\tlearn: 0.0209513\ttotal: 1.57s\tremaining: 55.2ms\n",
      "966:\tlearn: 0.0209234\ttotal: 1.57s\tremaining: 53.6ms\n",
      "967:\tlearn: 0.0208942\ttotal: 1.57s\tremaining: 52ms\n",
      "968:\tlearn: 0.0208571\ttotal: 1.57s\tremaining: 50.3ms\n",
      "969:\tlearn: 0.0208267\ttotal: 1.57s\tremaining: 48.7ms\n",
      "970:\tlearn: 0.0207827\ttotal: 1.58s\tremaining: 47.1ms\n",
      "971:\tlearn: 0.0207380\ttotal: 1.58s\tremaining: 45.5ms\n",
      "972:\tlearn: 0.0207091\ttotal: 1.58s\tremaining: 43.8ms\n",
      "973:\tlearn: 0.0206655\ttotal: 1.58s\tremaining: 42.2ms\n",
      "974:\tlearn: 0.0206375\ttotal: 1.58s\tremaining: 40.6ms\n",
      "975:\tlearn: 0.0206073\ttotal: 1.58s\tremaining: 39ms\n",
      "976:\tlearn: 0.0205644\ttotal: 1.58s\tremaining: 37.3ms\n",
      "977:\tlearn: 0.0205333\ttotal: 1.59s\tremaining: 35.7ms\n",
      "978:\tlearn: 0.0204914\ttotal: 1.59s\tremaining: 34.1ms\n",
      "979:\tlearn: 0.0204606\ttotal: 1.59s\tremaining: 32.5ms\n",
      "980:\tlearn: 0.0204180\ttotal: 1.59s\tremaining: 30.8ms\n",
      "981:\tlearn: 0.0203899\ttotal: 1.59s\tremaining: 29.2ms\n",
      "982:\tlearn: 0.0203619\ttotal: 1.59s\tremaining: 27.6ms\n",
      "983:\tlearn: 0.0203348\ttotal: 1.6s\tremaining: 26ms\n",
      "984:\tlearn: 0.0203056\ttotal: 1.6s\tremaining: 24.3ms\n",
      "985:\tlearn: 0.0202798\ttotal: 1.6s\tremaining: 22.7ms\n",
      "986:\tlearn: 0.0202492\ttotal: 1.6s\tremaining: 21.1ms\n",
      "987:\tlearn: 0.0202189\ttotal: 1.6s\tremaining: 19.5ms\n",
      "988:\tlearn: 0.0201931\ttotal: 1.61s\tremaining: 17.9ms\n",
      "989:\tlearn: 0.0201663\ttotal: 1.61s\tremaining: 16.2ms\n",
      "990:\tlearn: 0.0201307\ttotal: 1.61s\tremaining: 14.6ms\n",
      "991:\tlearn: 0.0201043\ttotal: 1.61s\tremaining: 13ms\n",
      "992:\tlearn: 0.0200748\ttotal: 1.61s\tremaining: 11.4ms\n",
      "993:\tlearn: 0.0200380\ttotal: 1.61s\tremaining: 9.74ms\n",
      "994:\tlearn: 0.0200049\ttotal: 1.61s\tremaining: 8.12ms\n",
      "995:\tlearn: 0.0199642\ttotal: 1.62s\tremaining: 6.49ms\n",
      "996:\tlearn: 0.0199347\ttotal: 1.62s\tremaining: 4.87ms\n",
      "997:\tlearn: 0.0199017\ttotal: 1.62s\tremaining: 3.25ms\n",
      "998:\tlearn: 0.0198749\ttotal: 1.62s\tremaining: 1.62ms\n",
      "999:\tlearn: 0.0198489\ttotal: 1.62s\tremaining: 0us\n",
      "----------------------\n",
      "<catboost.core.CatBoostClassifier object at 0x000001DA4FD8B588>\n",
      "----------------------\n",
      "'Leaderboard score - mean auc test 0.9999571231410255'\n"
     ]
    },
    {
     "name": "stdout",
     "output_type": "stream",
     "text": [
      "----------------------\n",
      "RandomForestClassifier()\n",
      "----------------------\n",
      "'Leaderboard score - mean auc test 0.998601201114986'\n"
     ]
    }
   ],
   "source": [
    "from sklearn.model_selection import cross_validate\n",
    "from pprint import pprint\n",
    "\n",
    "for clf in classifiers:\n",
    "    pipeline.set_params(classifier=clf)\n",
    "    scores = cross_validate(pipeline, X_train, y_train, scoring='roc_auc', cv=3)\n",
    "    #print(scores)\n",
    "    print('----------------------')\n",
    "    print(str(clf))\n",
    "    print('----------------------')\n",
    "    pprint('Leaderboard score - mean auc test '+str((scores['test_score'].mean())))"
   ]
  },
  {
   "cell_type": "markdown",
   "metadata": {},
   "source": [
    "XGBClassifier - лучшая"
   ]
  },
  {
   "cell_type": "code",
   "execution_count": 26,
   "metadata": {},
   "outputs": [
    {
     "data": {
      "text/plain": [
       "GridSearchCV(cv=3,\n",
       "             estimator=Pipeline(steps=[('features',\n",
       "                                        FeatureUnion(transformer_list=[('buying',\n",
       "                                                                        Pipeline(steps=[('selector',\n",
       "                                                                                         ColumnSelector(key='buying')),\n",
       "                                                                                        ('ohe',\n",
       "                                                                                         OHEEncoder(key='buying'))])),\n",
       "                                                                       ('maint',\n",
       "                                                                        Pipeline(steps=[('selector',\n",
       "                                                                                         ColumnSelector(key='maint')),\n",
       "                                                                                        ('ohe',\n",
       "                                                                                         OHEEncoder(key='maint'))])),\n",
       "                                                                       ('doors',\n",
       "                                                                        Pipeline(steps=[('selector',\n",
       "                                                                                         ColumnSelector(key='d...\n",
       "                                                      missing=nan,\n",
       "                                                      monotone_constraints=None,\n",
       "                                                      n_estimators=100,\n",
       "                                                      n_jobs=None,\n",
       "                                                      num_parallel_tree=None,\n",
       "                                                      random_state=None,\n",
       "                                                      reg_alpha=None,\n",
       "                                                      reg_lambda=None,\n",
       "                                                      scale_pos_weight=None,\n",
       "                                                      subsample=None,\n",
       "                                                      tree_method=None,\n",
       "                                                      validate_parameters=None,\n",
       "                                                      verbosity=None))]),\n",
       "             param_grid={'classifier__max_depth': [3, 5],\n",
       "                         'classifier__n_estimators': [200, 300],\n",
       "                         'classifier__subsample': [0.3, 0.4, 0.6]})"
      ]
     },
     "execution_count": 26,
     "metadata": {},
     "output_type": "execute_result"
    }
   ],
   "source": [
    "pipeline = Pipeline([\n",
    "    ('features',feats),\n",
    "    ('classifier', xgb.XGBClassifier()),\n",
    "])\n",
    "\n",
    "hyperparameters = { 'classifier__max_depth': [3, 5],\n",
    "                    'classifier__subsample': [0.3, 0.4, 0.6],\n",
    "                    'classifier__n_estimators': [200, 300],\n",
    "                  }\n",
    "clf = GridSearchCV(pipeline, hyperparameters, cv=3)\n",
    " \n",
    "# Fit and tune model\n",
    "clf.fit(X_train, y_train)"
   ]
  },
  {
   "cell_type": "code",
   "execution_count": 27,
   "metadata": {},
   "outputs": [
    {
     "data": {
      "text/plain": [
       "{'classifier__max_depth': 5,\n",
       " 'classifier__n_estimators': 300,\n",
       " 'classifier__subsample': 0.6}"
      ]
     },
     "execution_count": 27,
     "metadata": {},
     "output_type": "execute_result"
    }
   ],
   "source": [
    "clf.best_params_"
   ]
  },
  {
   "cell_type": "code",
   "execution_count": 28,
   "metadata": {},
   "outputs": [
    {
     "data": {
      "text/plain": [
       "1.0"
      ]
     },
     "execution_count": 28,
     "metadata": {},
     "output_type": "execute_result"
    }
   ],
   "source": [
    "#refitting on entire training data using best settings\n",
    "clf.refit\n",
    "\n",
    "preds = clf.predict(X_test)\n",
    "probs = clf.predict_proba(X_test)\n",
    "\n",
    "np.mean(preds == y_test)"
   ]
  },
  {
   "cell_type": "code",
   "execution_count": 29,
   "metadata": {},
   "outputs": [
    {
     "name": "stdout",
     "output_type": "stream",
     "text": [
      "[19:27:12] WARNING: C:\\Users\\Administrator\\workspace\\xgboost-win64_release_1.1.0\\src\\learner.cc:480: \n",
      "Parameters: { classifier__max_depth, classifier__n_estimators, classifier__subsample } might not be used.\n",
      "\n",
      "  This may not be accurate due to some parameters are only used in language bindings but\n",
      "  passed down to XGBoost core.  Or some parameters are not used but slip through this\n",
      "  verification. Please open an issue if you find above cases.\n",
      "\n",
      "\n"
     ]
    },
    {
     "data": {
      "text/plain": [
       "Pipeline(steps=[('features',\n",
       "                 FeatureUnion(transformer_list=[('buying',\n",
       "                                                 Pipeline(steps=[('selector',\n",
       "                                                                  ColumnSelector(key='buying')),\n",
       "                                                                 ('ohe',\n",
       "                                                                  OHEEncoder(key='buying'))])),\n",
       "                                                ('maint',\n",
       "                                                 Pipeline(steps=[('selector',\n",
       "                                                                  ColumnSelector(key='maint')),\n",
       "                                                                 ('ohe',\n",
       "                                                                  OHEEncoder(key='maint'))])),\n",
       "                                                ('doors',\n",
       "                                                 Pipeline(steps=[('selector',\n",
       "                                                                  ColumnSelector(key='doors')),\n",
       "                                                                 ('ohe',\n",
       "                                                                  OHEEncoder(ke...\n",
       "                               colsample_bynode=1, colsample_bytree=1, gamma=0,\n",
       "                               gpu_id=-1, importance_type='gain',\n",
       "                               interaction_constraints='',\n",
       "                               learning_rate=0.300000012, max_delta_step=0,\n",
       "                               max_depth=6, min_child_weight=1, missing=nan,\n",
       "                               monotone_constraints='()', n_estimators=100,\n",
       "                               n_jobs=0, num_parallel_tree=1, random_state=0,\n",
       "                               reg_alpha=0, reg_lambda=1, scale_pos_weight=1,\n",
       "                               subsample=1, tree_method='exact',\n",
       "                               validate_parameters=1, verbosity=None))])"
      ]
     },
     "execution_count": 29,
     "metadata": {},
     "output_type": "execute_result"
    }
   ],
   "source": [
    "pipeline = Pipeline([\n",
    "    ('features',feats),\n",
    "    ('classifier', xgb.XGBClassifier(**clf.best_params_)),\n",
    "])\n",
    "\n",
    "pipeline.fit(X_train, y_train)"
   ]
  },
  {
   "cell_type": "code",
   "execution_count": 30,
   "metadata": {},
   "outputs": [
    {
     "data": {
      "text/plain": [
       "XGBClassifier(base_score=0.5, booster='gbtree', classifier__max_depth=5,\n",
       "              classifier__n_estimators=300, classifier__subsample=0.6,\n",
       "              colsample_bylevel=1, colsample_bynode=1, colsample_bytree=1,\n",
       "              gamma=0, gpu_id=-1, importance_type='gain',\n",
       "              interaction_constraints='', learning_rate=0.300000012,\n",
       "              max_delta_step=0, max_depth=6, min_child_weight=1, missing=nan,\n",
       "              monotone_constraints='()', n_estimators=100, n_jobs=0,\n",
       "              num_parallel_tree=1, random_state=0, reg_alpha=0, reg_lambda=1,\n",
       "              scale_pos_weight=1, subsample=1, tree_method='exact',\n",
       "              validate_parameters=1, verbosity=None)"
      ]
     },
     "execution_count": 30,
     "metadata": {},
     "output_type": "execute_result"
    }
   ],
   "source": [
    "pipeline.steps[1][1]"
   ]
  },
  {
   "cell_type": "markdown",
   "metadata": {},
   "source": [
    "ЗАДАНИЕ 5.\n",
    "\n",
    "Посчитайте разные метрики качества на cross-validation, отрисуйте графики (roc auc)"
   ]
  },
  {
   "cell_type": "code",
   "execution_count": 31,
   "metadata": {},
   "outputs": [],
   "source": [
    "def data_acc_car_class_prediction(algorithm, training_x, training_y, testing_x,testing_y,predictions, \n",
    "                             probabilities ,cf,threshold_plot):\n",
    "    print (\"\\n Classification report : \\n\",classification_report(testing_y,predictions))\n",
    "    print (\"Accuracy   Score : \",accuracy_score(testing_y,predictions))\n",
    "    #confusion matrix\n",
    "    conf_matrix = confusion_matrix(testing_y,predictions)\n",
    "    #roc_auc_score\n",
    "    model_roc_auc = roc_auc_score(testing_y,predictions) \n",
    "    print (\"Area under curve : \",model_roc_auc,\"\\n\")\n",
    "    fpr,tpr,thresholds = roc_curve(testing_y,probabilities[:,1])\n",
    "    \n",
    "    #plot confusion matrix\n",
    "    trace1 = go.Heatmap(z = conf_matrix ,\n",
    "                        x = [\"Not acc_car_class\",\"acc_car_class\"],\n",
    "                        y = [\"Not acc_car_class\",\"acc_car_class\"],\n",
    "                        showscale  = False,colorscale = \"Picnic\",\n",
    "                        name = \"matrix\")\n",
    "    \n",
    "    #plot roc curve\n",
    "    trace2 = go.Scatter(x = fpr,y = tpr,\n",
    "                        name = \"Roc : \" + str(model_roc_auc),\n",
    "                        line = dict(color = ('rgb(22, 96, 167)'),width = 2))\n",
    "    trace3 = go.Scatter(x = [0,1],y=[0,1],\n",
    "                        line = dict(color = ('rgb(205, 12, 24)'),width = 2,\n",
    "                        dash = 'dot'))\n",
    "    \n",
    "    \n",
    "    #subplots\n",
    "    fig = tls.make_subplots(rows=2, cols=2, specs=[[{}, {}], [{'colspan': 2}, None]],\n",
    "                            subplot_titles=('Confusion Matrix',\n",
    "                                            'Receiver operating characteristic'))\n",
    "    \n",
    "    fig.append_trace(trace1,1,1)\n",
    "    fig.append_trace(trace2,1,2)\n",
    "    fig.append_trace(trace3,2,1)\n",
    "    \n",
    "    fig['layout'].update(showlegend=False, title=\"Model performance\" ,\n",
    "                         autosize = False,height = 900,width = 800,\n",
    "                         plot_bgcolor = 'rgba(240,240,240, 0.95)',\n",
    "                         paper_bgcolor = 'rgba(240,240,240, 0.95)',\n",
    "                         margin = dict(b = 195))\n",
    "    fig[\"layout\"][\"xaxis2\"].update(dict(title = \"false positive rate\"))\n",
    "    fig[\"layout\"][\"yaxis2\"].update(dict(title = \"true positive rate\"))\n",
    "    fig[\"layout\"][\"xaxis3\"].update(dict(showgrid = True,tickfont = dict(size = 10),\n",
    "                                        tickangle = 90))\n",
    "    py.iplot(fig)\n",
    "    \n",
    "    if threshold_plot == True : \n",
    "        visualizer = DiscriminationThreshold(algorithm)\n",
    "        visualizer.fit(training_x,training_y)\n",
    "        visualizer.poof()"
   ]
  },
  {
   "cell_type": "code",
   "execution_count": 32,
   "metadata": {},
   "outputs": [
    {
     "data": {
      "text/html": [
       "        <script type=\"text/javascript\">\n",
       "        window.PlotlyConfig = {MathJaxConfig: 'local'};\n",
       "        if (window.MathJax) {MathJax.Hub.Config({SVG: {font: \"STIX-Web\"}});}\n",
       "        if (typeof require !== 'undefined') {\n",
       "        require.undef(\"plotly\");\n",
       "        requirejs.config({\n",
       "            paths: {\n",
       "                'plotly': ['https://cdn.plot.ly/plotly-latest.min']\n",
       "            }\n",
       "        });\n",
       "        require(['plotly'], function(Plotly) {\n",
       "            window._Plotly = Plotly;\n",
       "        });\n",
       "        }\n",
       "        </script>\n",
       "        "
      ]
     },
     "metadata": {},
     "output_type": "display_data"
    }
   ],
   "source": [
    "import pandas as pd\n",
    "import numpy as np\n",
    "import os\n",
    "import matplotlib.pyplot as plt#visualization\n",
    "from PIL import  Image\n",
    "%matplotlib inline\n",
    "import seaborn as sns#visualization\n",
    "import itertools\n",
    "import warnings\n",
    "warnings.filterwarnings(\"ignore\")\n",
    "import io\n",
    "import plotly.offline as py#visualization\n",
    "py.init_notebook_mode(connected=True)#visualization\n",
    "import plotly.graph_objs as go#visualization\n",
    "import plotly.tools as tls#visualization\n",
    "import plotly.figure_factory as ff#visualization\n",
    "\n",
    "from sklearn.model_selection import train_test_split\n",
    "from sklearn.linear_model import LogisticRegression\n",
    "from sklearn.metrics import confusion_matrix,accuracy_score,classification_report\n",
    "from sklearn.metrics import roc_auc_score,roc_curve,scorer\n",
    "from sklearn.metrics import f1_score\n",
    "import statsmodels.api as sm\n",
    "from sklearn.metrics import precision_score,recall_score\n",
    "from yellowbrick.classifier import DiscriminationThreshold"
   ]
  },
  {
   "cell_type": "code",
   "execution_count": 33,
   "metadata": {},
   "outputs": [
    {
     "name": "stdout",
     "output_type": "stream",
     "text": [
      "\n",
      " Classification report : \n",
      "               precision    recall  f1-score   support\n",
      "\n",
      "           0       1.00      1.00      1.00       397\n",
      "           1       1.00      1.00      1.00       174\n",
      "\n",
      "    accuracy                           1.00       571\n",
      "   macro avg       1.00      1.00      1.00       571\n",
      "weighted avg       1.00      1.00      1.00       571\n",
      "\n",
      "Accuracy   Score :  1.0\n",
      "Area under curve :  1.0 \n",
      "\n"
     ]
    },
    {
     "data": {
      "application/vnd.plotly.v1+json": {
       "config": {
        "linkText": "Export to plot.ly",
        "plotlyServerURL": "https://plot.ly",
        "showLink": false
       },
       "data": [
        {
         "colorscale": [
          [
           0,
           "rgb(0,0,255)"
          ],
          [
           0.1,
           "rgb(51,153,255)"
          ],
          [
           0.2,
           "rgb(102,204,255)"
          ],
          [
           0.3,
           "rgb(153,204,255)"
          ],
          [
           0.4,
           "rgb(204,204,255)"
          ],
          [
           0.5,
           "rgb(255,255,255)"
          ],
          [
           0.6,
           "rgb(255,204,255)"
          ],
          [
           0.7,
           "rgb(255,153,255)"
          ],
          [
           0.8,
           "rgb(255,102,204)"
          ],
          [
           0.9,
           "rgb(255,102,102)"
          ],
          [
           1,
           "rgb(255,0,0)"
          ]
         ],
         "name": "matrix",
         "showscale": false,
         "type": "heatmap",
         "x": [
          "Not acc_car_class",
          "acc_car_class"
         ],
         "xaxis": "x",
         "y": [
          "Not acc_car_class",
          "acc_car_class"
         ],
         "yaxis": "y",
         "z": [
          [
           397,
           0
          ],
          [
           0,
           174
          ]
         ]
        },
        {
         "line": {
          "color": "rgb(22, 96, 167)",
          "width": 2
         },
         "name": "Roc : 1.0",
         "type": "scatter",
         "x": [
          0,
          0,
          0,
          0,
          0,
          0,
          0,
          0,
          0,
          0,
          0,
          0,
          0,
          0,
          0,
          0,
          0,
          0,
          0,
          0.05037783375314862,
          0.055415617128463476,
          0.35768261964735515,
          0.36272040302267,
          0.5390428211586902,
          0.5440806045340051,
          0.7153652392947103,
          0.7204030226700252,
          0.7556675062972292,
          0.760705289672544,
          0.8337531486146096,
          0.8387909319899244,
          1
         ],
         "xaxis": "x2",
         "y": [
          0,
          0.005747126436781609,
          0.06321839080459771,
          0.07471264367816093,
          0.09195402298850575,
          0.10344827586206896,
          0.10919540229885058,
          0.1206896551724138,
          0.25287356321839083,
          0.26436781609195403,
          0.4367816091954023,
          0.4482758620689655,
          0.6896551724137931,
          0.7011494252873564,
          0.8333333333333334,
          0.8448275862068966,
          0.8620689655172413,
          0.8735632183908046,
          1,
          1,
          1,
          1,
          1,
          1,
          1,
          1,
          1,
          1,
          1,
          1,
          1,
          1
         ],
         "yaxis": "y2"
        },
        {
         "line": {
          "color": "rgb(205, 12, 24)",
          "dash": "dot",
          "width": 2
         },
         "type": "scatter",
         "x": [
          0,
          1
         ],
         "xaxis": "x3",
         "y": [
          0,
          1
         ],
         "yaxis": "y3"
        }
       ],
       "layout": {
        "annotations": [
         {
          "font": {
           "size": 16
          },
          "showarrow": false,
          "text": "Confusion Matrix",
          "x": 0.225,
          "xanchor": "center",
          "xref": "paper",
          "y": 1,
          "yanchor": "bottom",
          "yref": "paper"
         },
         {
          "font": {
           "size": 16
          },
          "showarrow": false,
          "text": "Receiver operating characteristic",
          "x": 0.775,
          "xanchor": "center",
          "xref": "paper",
          "y": 1,
          "yanchor": "bottom",
          "yref": "paper"
         }
        ],
        "autosize": false,
        "height": 900,
        "margin": {
         "b": 195
        },
        "paper_bgcolor": "rgba(240,240,240, 0.95)",
        "plot_bgcolor": "rgba(240,240,240, 0.95)",
        "showlegend": false,
        "template": {
         "data": {
          "bar": [
           {
            "error_x": {
             "color": "#2a3f5f"
            },
            "error_y": {
             "color": "#2a3f5f"
            },
            "marker": {
             "line": {
              "color": "#E5ECF6",
              "width": 0.5
             }
            },
            "type": "bar"
           }
          ],
          "barpolar": [
           {
            "marker": {
             "line": {
              "color": "#E5ECF6",
              "width": 0.5
             }
            },
            "type": "barpolar"
           }
          ],
          "carpet": [
           {
            "aaxis": {
             "endlinecolor": "#2a3f5f",
             "gridcolor": "white",
             "linecolor": "white",
             "minorgridcolor": "white",
             "startlinecolor": "#2a3f5f"
            },
            "baxis": {
             "endlinecolor": "#2a3f5f",
             "gridcolor": "white",
             "linecolor": "white",
             "minorgridcolor": "white",
             "startlinecolor": "#2a3f5f"
            },
            "type": "carpet"
           }
          ],
          "choropleth": [
           {
            "colorbar": {
             "outlinewidth": 0,
             "ticks": ""
            },
            "type": "choropleth"
           }
          ],
          "contour": [
           {
            "colorbar": {
             "outlinewidth": 0,
             "ticks": ""
            },
            "colorscale": [
             [
              0,
              "#0d0887"
             ],
             [
              0.1111111111111111,
              "#46039f"
             ],
             [
              0.2222222222222222,
              "#7201a8"
             ],
             [
              0.3333333333333333,
              "#9c179e"
             ],
             [
              0.4444444444444444,
              "#bd3786"
             ],
             [
              0.5555555555555556,
              "#d8576b"
             ],
             [
              0.6666666666666666,
              "#ed7953"
             ],
             [
              0.7777777777777778,
              "#fb9f3a"
             ],
             [
              0.8888888888888888,
              "#fdca26"
             ],
             [
              1,
              "#f0f921"
             ]
            ],
            "type": "contour"
           }
          ],
          "contourcarpet": [
           {
            "colorbar": {
             "outlinewidth": 0,
             "ticks": ""
            },
            "type": "contourcarpet"
           }
          ],
          "heatmap": [
           {
            "colorbar": {
             "outlinewidth": 0,
             "ticks": ""
            },
            "colorscale": [
             [
              0,
              "#0d0887"
             ],
             [
              0.1111111111111111,
              "#46039f"
             ],
             [
              0.2222222222222222,
              "#7201a8"
             ],
             [
              0.3333333333333333,
              "#9c179e"
             ],
             [
              0.4444444444444444,
              "#bd3786"
             ],
             [
              0.5555555555555556,
              "#d8576b"
             ],
             [
              0.6666666666666666,
              "#ed7953"
             ],
             [
              0.7777777777777778,
              "#fb9f3a"
             ],
             [
              0.8888888888888888,
              "#fdca26"
             ],
             [
              1,
              "#f0f921"
             ]
            ],
            "type": "heatmap"
           }
          ],
          "heatmapgl": [
           {
            "colorbar": {
             "outlinewidth": 0,
             "ticks": ""
            },
            "colorscale": [
             [
              0,
              "#0d0887"
             ],
             [
              0.1111111111111111,
              "#46039f"
             ],
             [
              0.2222222222222222,
              "#7201a8"
             ],
             [
              0.3333333333333333,
              "#9c179e"
             ],
             [
              0.4444444444444444,
              "#bd3786"
             ],
             [
              0.5555555555555556,
              "#d8576b"
             ],
             [
              0.6666666666666666,
              "#ed7953"
             ],
             [
              0.7777777777777778,
              "#fb9f3a"
             ],
             [
              0.8888888888888888,
              "#fdca26"
             ],
             [
              1,
              "#f0f921"
             ]
            ],
            "type": "heatmapgl"
           }
          ],
          "histogram": [
           {
            "marker": {
             "colorbar": {
              "outlinewidth": 0,
              "ticks": ""
             }
            },
            "type": "histogram"
           }
          ],
          "histogram2d": [
           {
            "colorbar": {
             "outlinewidth": 0,
             "ticks": ""
            },
            "colorscale": [
             [
              0,
              "#0d0887"
             ],
             [
              0.1111111111111111,
              "#46039f"
             ],
             [
              0.2222222222222222,
              "#7201a8"
             ],
             [
              0.3333333333333333,
              "#9c179e"
             ],
             [
              0.4444444444444444,
              "#bd3786"
             ],
             [
              0.5555555555555556,
              "#d8576b"
             ],
             [
              0.6666666666666666,
              "#ed7953"
             ],
             [
              0.7777777777777778,
              "#fb9f3a"
             ],
             [
              0.8888888888888888,
              "#fdca26"
             ],
             [
              1,
              "#f0f921"
             ]
            ],
            "type": "histogram2d"
           }
          ],
          "histogram2dcontour": [
           {
            "colorbar": {
             "outlinewidth": 0,
             "ticks": ""
            },
            "colorscale": [
             [
              0,
              "#0d0887"
             ],
             [
              0.1111111111111111,
              "#46039f"
             ],
             [
              0.2222222222222222,
              "#7201a8"
             ],
             [
              0.3333333333333333,
              "#9c179e"
             ],
             [
              0.4444444444444444,
              "#bd3786"
             ],
             [
              0.5555555555555556,
              "#d8576b"
             ],
             [
              0.6666666666666666,
              "#ed7953"
             ],
             [
              0.7777777777777778,
              "#fb9f3a"
             ],
             [
              0.8888888888888888,
              "#fdca26"
             ],
             [
              1,
              "#f0f921"
             ]
            ],
            "type": "histogram2dcontour"
           }
          ],
          "mesh3d": [
           {
            "colorbar": {
             "outlinewidth": 0,
             "ticks": ""
            },
            "type": "mesh3d"
           }
          ],
          "parcoords": [
           {
            "line": {
             "colorbar": {
              "outlinewidth": 0,
              "ticks": ""
             }
            },
            "type": "parcoords"
           }
          ],
          "pie": [
           {
            "automargin": true,
            "type": "pie"
           }
          ],
          "scatter": [
           {
            "marker": {
             "colorbar": {
              "outlinewidth": 0,
              "ticks": ""
             }
            },
            "type": "scatter"
           }
          ],
          "scatter3d": [
           {
            "line": {
             "colorbar": {
              "outlinewidth": 0,
              "ticks": ""
             }
            },
            "marker": {
             "colorbar": {
              "outlinewidth": 0,
              "ticks": ""
             }
            },
            "type": "scatter3d"
           }
          ],
          "scattercarpet": [
           {
            "marker": {
             "colorbar": {
              "outlinewidth": 0,
              "ticks": ""
             }
            },
            "type": "scattercarpet"
           }
          ],
          "scattergeo": [
           {
            "marker": {
             "colorbar": {
              "outlinewidth": 0,
              "ticks": ""
             }
            },
            "type": "scattergeo"
           }
          ],
          "scattergl": [
           {
            "marker": {
             "colorbar": {
              "outlinewidth": 0,
              "ticks": ""
             }
            },
            "type": "scattergl"
           }
          ],
          "scattermapbox": [
           {
            "marker": {
             "colorbar": {
              "outlinewidth": 0,
              "ticks": ""
             }
            },
            "type": "scattermapbox"
           }
          ],
          "scatterpolar": [
           {
            "marker": {
             "colorbar": {
              "outlinewidth": 0,
              "ticks": ""
             }
            },
            "type": "scatterpolar"
           }
          ],
          "scatterpolargl": [
           {
            "marker": {
             "colorbar": {
              "outlinewidth": 0,
              "ticks": ""
             }
            },
            "type": "scatterpolargl"
           }
          ],
          "scatterternary": [
           {
            "marker": {
             "colorbar": {
              "outlinewidth": 0,
              "ticks": ""
             }
            },
            "type": "scatterternary"
           }
          ],
          "surface": [
           {
            "colorbar": {
             "outlinewidth": 0,
             "ticks": ""
            },
            "colorscale": [
             [
              0,
              "#0d0887"
             ],
             [
              0.1111111111111111,
              "#46039f"
             ],
             [
              0.2222222222222222,
              "#7201a8"
             ],
             [
              0.3333333333333333,
              "#9c179e"
             ],
             [
              0.4444444444444444,
              "#bd3786"
             ],
             [
              0.5555555555555556,
              "#d8576b"
             ],
             [
              0.6666666666666666,
              "#ed7953"
             ],
             [
              0.7777777777777778,
              "#fb9f3a"
             ],
             [
              0.8888888888888888,
              "#fdca26"
             ],
             [
              1,
              "#f0f921"
             ]
            ],
            "type": "surface"
           }
          ],
          "table": [
           {
            "cells": {
             "fill": {
              "color": "#EBF0F8"
             },
             "line": {
              "color": "white"
             }
            },
            "header": {
             "fill": {
              "color": "#C8D4E3"
             },
             "line": {
              "color": "white"
             }
            },
            "type": "table"
           }
          ]
         },
         "layout": {
          "annotationdefaults": {
           "arrowcolor": "#2a3f5f",
           "arrowhead": 0,
           "arrowwidth": 1
          },
          "coloraxis": {
           "colorbar": {
            "outlinewidth": 0,
            "ticks": ""
           }
          },
          "colorscale": {
           "diverging": [
            [
             0,
             "#8e0152"
            ],
            [
             0.1,
             "#c51b7d"
            ],
            [
             0.2,
             "#de77ae"
            ],
            [
             0.3,
             "#f1b6da"
            ],
            [
             0.4,
             "#fde0ef"
            ],
            [
             0.5,
             "#f7f7f7"
            ],
            [
             0.6,
             "#e6f5d0"
            ],
            [
             0.7,
             "#b8e186"
            ],
            [
             0.8,
             "#7fbc41"
            ],
            [
             0.9,
             "#4d9221"
            ],
            [
             1,
             "#276419"
            ]
           ],
           "sequential": [
            [
             0,
             "#0d0887"
            ],
            [
             0.1111111111111111,
             "#46039f"
            ],
            [
             0.2222222222222222,
             "#7201a8"
            ],
            [
             0.3333333333333333,
             "#9c179e"
            ],
            [
             0.4444444444444444,
             "#bd3786"
            ],
            [
             0.5555555555555556,
             "#d8576b"
            ],
            [
             0.6666666666666666,
             "#ed7953"
            ],
            [
             0.7777777777777778,
             "#fb9f3a"
            ],
            [
             0.8888888888888888,
             "#fdca26"
            ],
            [
             1,
             "#f0f921"
            ]
           ],
           "sequentialminus": [
            [
             0,
             "#0d0887"
            ],
            [
             0.1111111111111111,
             "#46039f"
            ],
            [
             0.2222222222222222,
             "#7201a8"
            ],
            [
             0.3333333333333333,
             "#9c179e"
            ],
            [
             0.4444444444444444,
             "#bd3786"
            ],
            [
             0.5555555555555556,
             "#d8576b"
            ],
            [
             0.6666666666666666,
             "#ed7953"
            ],
            [
             0.7777777777777778,
             "#fb9f3a"
            ],
            [
             0.8888888888888888,
             "#fdca26"
            ],
            [
             1,
             "#f0f921"
            ]
           ]
          },
          "colorway": [
           "#636efa",
           "#EF553B",
           "#00cc96",
           "#ab63fa",
           "#FFA15A",
           "#19d3f3",
           "#FF6692",
           "#B6E880",
           "#FF97FF",
           "#FECB52"
          ],
          "font": {
           "color": "#2a3f5f"
          },
          "geo": {
           "bgcolor": "white",
           "lakecolor": "white",
           "landcolor": "#E5ECF6",
           "showlakes": true,
           "showland": true,
           "subunitcolor": "white"
          },
          "hoverlabel": {
           "align": "left"
          },
          "hovermode": "closest",
          "mapbox": {
           "style": "light"
          },
          "paper_bgcolor": "white",
          "plot_bgcolor": "#E5ECF6",
          "polar": {
           "angularaxis": {
            "gridcolor": "white",
            "linecolor": "white",
            "ticks": ""
           },
           "bgcolor": "#E5ECF6",
           "radialaxis": {
            "gridcolor": "white",
            "linecolor": "white",
            "ticks": ""
           }
          },
          "scene": {
           "xaxis": {
            "backgroundcolor": "#E5ECF6",
            "gridcolor": "white",
            "gridwidth": 2,
            "linecolor": "white",
            "showbackground": true,
            "ticks": "",
            "zerolinecolor": "white"
           },
           "yaxis": {
            "backgroundcolor": "#E5ECF6",
            "gridcolor": "white",
            "gridwidth": 2,
            "linecolor": "white",
            "showbackground": true,
            "ticks": "",
            "zerolinecolor": "white"
           },
           "zaxis": {
            "backgroundcolor": "#E5ECF6",
            "gridcolor": "white",
            "gridwidth": 2,
            "linecolor": "white",
            "showbackground": true,
            "ticks": "",
            "zerolinecolor": "white"
           }
          },
          "shapedefaults": {
           "line": {
            "color": "#2a3f5f"
           }
          },
          "ternary": {
           "aaxis": {
            "gridcolor": "white",
            "linecolor": "white",
            "ticks": ""
           },
           "baxis": {
            "gridcolor": "white",
            "linecolor": "white",
            "ticks": ""
           },
           "bgcolor": "#E5ECF6",
           "caxis": {
            "gridcolor": "white",
            "linecolor": "white",
            "ticks": ""
           }
          },
          "title": {
           "x": 0.05
          },
          "xaxis": {
           "automargin": true,
           "gridcolor": "white",
           "linecolor": "white",
           "ticks": "",
           "title": {
            "standoff": 15
           },
           "zerolinecolor": "white",
           "zerolinewidth": 2
          },
          "yaxis": {
           "automargin": true,
           "gridcolor": "white",
           "linecolor": "white",
           "ticks": "",
           "title": {
            "standoff": 15
           },
           "zerolinecolor": "white",
           "zerolinewidth": 2
          }
         }
        },
        "title": {
         "text": "Model performance"
        },
        "width": 800,
        "xaxis": {
         "anchor": "y",
         "domain": [
          0,
          0.45
         ]
        },
        "xaxis2": {
         "anchor": "y2",
         "domain": [
          0.55,
          1
         ],
         "title": {
          "text": "false positive rate"
         }
        },
        "xaxis3": {
         "anchor": "y3",
         "domain": [
          0,
          1
         ],
         "showgrid": true,
         "tickangle": 90,
         "tickfont": {
          "size": 10
         }
        },
        "yaxis": {
         "anchor": "x",
         "domain": [
          0.625,
          1
         ]
        },
        "yaxis2": {
         "anchor": "x2",
         "domain": [
          0.625,
          1
         ],
         "title": {
          "text": "true positive rate"
         }
        },
        "yaxis3": {
         "anchor": "x3",
         "domain": [
          0,
          0.375
         ]
        }
       }
      },
      "text/html": [
       "<div>\n",
       "        \n",
       "        \n",
       "            <div id=\"93bd4435-4df9-41e8-9a45-eb2a56c1e874\" class=\"plotly-graph-div\" style=\"height:900px; width:800px;\"></div>\n",
       "            <script type=\"text/javascript\">\n",
       "                require([\"plotly\"], function(Plotly) {\n",
       "                    window.PLOTLYENV=window.PLOTLYENV || {};\n",
       "                    \n",
       "                if (document.getElementById(\"93bd4435-4df9-41e8-9a45-eb2a56c1e874\")) {\n",
       "                    Plotly.newPlot(\n",
       "                        '93bd4435-4df9-41e8-9a45-eb2a56c1e874',\n",
       "                        [{\"colorscale\": [[0.0, \"rgb(0,0,255)\"], [0.1, \"rgb(51,153,255)\"], [0.2, \"rgb(102,204,255)\"], [0.3, \"rgb(153,204,255)\"], [0.4, \"rgb(204,204,255)\"], [0.5, \"rgb(255,255,255)\"], [0.6, \"rgb(255,204,255)\"], [0.7, \"rgb(255,153,255)\"], [0.8, \"rgb(255,102,204)\"], [0.9, \"rgb(255,102,102)\"], [1.0, \"rgb(255,0,0)\"]], \"name\": \"matrix\", \"showscale\": false, \"type\": \"heatmap\", \"x\": [\"Not acc_car_class\", \"acc_car_class\"], \"xaxis\": \"x\", \"y\": [\"Not acc_car_class\", \"acc_car_class\"], \"yaxis\": \"y\", \"z\": [[397, 0], [0, 174]]}, {\"line\": {\"color\": \"rgb(22, 96, 167)\", \"width\": 2}, \"name\": \"Roc : 1.0\", \"type\": \"scatter\", \"x\": [0.0, 0.0, 0.0, 0.0, 0.0, 0.0, 0.0, 0.0, 0.0, 0.0, 0.0, 0.0, 0.0, 0.0, 0.0, 0.0, 0.0, 0.0, 0.0, 0.05037783375314862, 0.055415617128463476, 0.35768261964735515, 0.36272040302267, 0.5390428211586902, 0.5440806045340051, 0.7153652392947103, 0.7204030226700252, 0.7556675062972292, 0.760705289672544, 0.8337531486146096, 0.8387909319899244, 1.0], \"xaxis\": \"x2\", \"y\": [0.0, 0.005747126436781609, 0.06321839080459771, 0.07471264367816093, 0.09195402298850575, 0.10344827586206896, 0.10919540229885058, 0.1206896551724138, 0.25287356321839083, 0.26436781609195403, 0.4367816091954023, 0.4482758620689655, 0.6896551724137931, 0.7011494252873564, 0.8333333333333334, 0.8448275862068966, 0.8620689655172413, 0.8735632183908046, 1.0, 1.0, 1.0, 1.0, 1.0, 1.0, 1.0, 1.0, 1.0, 1.0, 1.0, 1.0, 1.0, 1.0], \"yaxis\": \"y2\"}, {\"line\": {\"color\": \"rgb(205, 12, 24)\", \"dash\": \"dot\", \"width\": 2}, \"type\": \"scatter\", \"x\": [0, 1], \"xaxis\": \"x3\", \"y\": [0, 1], \"yaxis\": \"y3\"}],\n",
       "                        {\"annotations\": [{\"font\": {\"size\": 16}, \"showarrow\": false, \"text\": \"Confusion Matrix\", \"x\": 0.225, \"xanchor\": \"center\", \"xref\": \"paper\", \"y\": 1.0, \"yanchor\": \"bottom\", \"yref\": \"paper\"}, {\"font\": {\"size\": 16}, \"showarrow\": false, \"text\": \"Receiver operating characteristic\", \"x\": 0.775, \"xanchor\": \"center\", \"xref\": \"paper\", \"y\": 1.0, \"yanchor\": \"bottom\", \"yref\": \"paper\"}], \"autosize\": false, \"height\": 900, \"margin\": {\"b\": 195}, \"paper_bgcolor\": \"rgba(240,240,240, 0.95)\", \"plot_bgcolor\": \"rgba(240,240,240, 0.95)\", \"showlegend\": false, \"template\": {\"data\": {\"bar\": [{\"error_x\": {\"color\": \"#2a3f5f\"}, \"error_y\": {\"color\": \"#2a3f5f\"}, \"marker\": {\"line\": {\"color\": \"#E5ECF6\", \"width\": 0.5}}, \"type\": \"bar\"}], \"barpolar\": [{\"marker\": {\"line\": {\"color\": \"#E5ECF6\", \"width\": 0.5}}, \"type\": \"barpolar\"}], \"carpet\": [{\"aaxis\": {\"endlinecolor\": \"#2a3f5f\", \"gridcolor\": \"white\", \"linecolor\": \"white\", \"minorgridcolor\": \"white\", \"startlinecolor\": \"#2a3f5f\"}, \"baxis\": {\"endlinecolor\": \"#2a3f5f\", \"gridcolor\": \"white\", \"linecolor\": \"white\", \"minorgridcolor\": \"white\", \"startlinecolor\": \"#2a3f5f\"}, \"type\": \"carpet\"}], \"choropleth\": [{\"colorbar\": {\"outlinewidth\": 0, \"ticks\": \"\"}, \"type\": \"choropleth\"}], \"contour\": [{\"colorbar\": {\"outlinewidth\": 0, \"ticks\": \"\"}, \"colorscale\": [[0.0, \"#0d0887\"], [0.1111111111111111, \"#46039f\"], [0.2222222222222222, \"#7201a8\"], [0.3333333333333333, \"#9c179e\"], [0.4444444444444444, \"#bd3786\"], [0.5555555555555556, \"#d8576b\"], [0.6666666666666666, \"#ed7953\"], [0.7777777777777778, \"#fb9f3a\"], [0.8888888888888888, \"#fdca26\"], [1.0, \"#f0f921\"]], \"type\": \"contour\"}], \"contourcarpet\": [{\"colorbar\": {\"outlinewidth\": 0, \"ticks\": \"\"}, \"type\": \"contourcarpet\"}], \"heatmap\": [{\"colorbar\": {\"outlinewidth\": 0, \"ticks\": \"\"}, \"colorscale\": [[0.0, \"#0d0887\"], [0.1111111111111111, \"#46039f\"], [0.2222222222222222, \"#7201a8\"], [0.3333333333333333, \"#9c179e\"], [0.4444444444444444, \"#bd3786\"], [0.5555555555555556, \"#d8576b\"], [0.6666666666666666, \"#ed7953\"], [0.7777777777777778, \"#fb9f3a\"], [0.8888888888888888, \"#fdca26\"], [1.0, \"#f0f921\"]], \"type\": \"heatmap\"}], \"heatmapgl\": [{\"colorbar\": {\"outlinewidth\": 0, \"ticks\": \"\"}, \"colorscale\": [[0.0, \"#0d0887\"], [0.1111111111111111, \"#46039f\"], [0.2222222222222222, \"#7201a8\"], [0.3333333333333333, \"#9c179e\"], [0.4444444444444444, \"#bd3786\"], [0.5555555555555556, \"#d8576b\"], [0.6666666666666666, \"#ed7953\"], [0.7777777777777778, \"#fb9f3a\"], [0.8888888888888888, \"#fdca26\"], [1.0, \"#f0f921\"]], \"type\": \"heatmapgl\"}], \"histogram\": [{\"marker\": {\"colorbar\": {\"outlinewidth\": 0, \"ticks\": \"\"}}, \"type\": \"histogram\"}], \"histogram2d\": [{\"colorbar\": {\"outlinewidth\": 0, \"ticks\": \"\"}, \"colorscale\": [[0.0, \"#0d0887\"], [0.1111111111111111, \"#46039f\"], [0.2222222222222222, \"#7201a8\"], [0.3333333333333333, \"#9c179e\"], [0.4444444444444444, \"#bd3786\"], [0.5555555555555556, \"#d8576b\"], [0.6666666666666666, \"#ed7953\"], [0.7777777777777778, \"#fb9f3a\"], [0.8888888888888888, \"#fdca26\"], [1.0, \"#f0f921\"]], \"type\": \"histogram2d\"}], \"histogram2dcontour\": [{\"colorbar\": {\"outlinewidth\": 0, \"ticks\": \"\"}, \"colorscale\": [[0.0, \"#0d0887\"], [0.1111111111111111, \"#46039f\"], [0.2222222222222222, \"#7201a8\"], [0.3333333333333333, \"#9c179e\"], [0.4444444444444444, \"#bd3786\"], [0.5555555555555556, \"#d8576b\"], [0.6666666666666666, \"#ed7953\"], [0.7777777777777778, \"#fb9f3a\"], [0.8888888888888888, \"#fdca26\"], [1.0, \"#f0f921\"]], \"type\": \"histogram2dcontour\"}], \"mesh3d\": [{\"colorbar\": {\"outlinewidth\": 0, \"ticks\": \"\"}, \"type\": \"mesh3d\"}], \"parcoords\": [{\"line\": {\"colorbar\": {\"outlinewidth\": 0, \"ticks\": \"\"}}, \"type\": \"parcoords\"}], \"pie\": [{\"automargin\": true, \"type\": \"pie\"}], \"scatter\": [{\"marker\": {\"colorbar\": {\"outlinewidth\": 0, \"ticks\": \"\"}}, \"type\": \"scatter\"}], \"scatter3d\": [{\"line\": {\"colorbar\": {\"outlinewidth\": 0, \"ticks\": \"\"}}, \"marker\": {\"colorbar\": {\"outlinewidth\": 0, \"ticks\": \"\"}}, \"type\": \"scatter3d\"}], \"scattercarpet\": [{\"marker\": {\"colorbar\": {\"outlinewidth\": 0, \"ticks\": \"\"}}, \"type\": \"scattercarpet\"}], \"scattergeo\": [{\"marker\": {\"colorbar\": {\"outlinewidth\": 0, \"ticks\": \"\"}}, \"type\": \"scattergeo\"}], \"scattergl\": [{\"marker\": {\"colorbar\": {\"outlinewidth\": 0, \"ticks\": \"\"}}, \"type\": \"scattergl\"}], \"scattermapbox\": [{\"marker\": {\"colorbar\": {\"outlinewidth\": 0, \"ticks\": \"\"}}, \"type\": \"scattermapbox\"}], \"scatterpolar\": [{\"marker\": {\"colorbar\": {\"outlinewidth\": 0, \"ticks\": \"\"}}, \"type\": \"scatterpolar\"}], \"scatterpolargl\": [{\"marker\": {\"colorbar\": {\"outlinewidth\": 0, \"ticks\": \"\"}}, \"type\": \"scatterpolargl\"}], \"scatterternary\": [{\"marker\": {\"colorbar\": {\"outlinewidth\": 0, \"ticks\": \"\"}}, \"type\": \"scatterternary\"}], \"surface\": [{\"colorbar\": {\"outlinewidth\": 0, \"ticks\": \"\"}, \"colorscale\": [[0.0, \"#0d0887\"], [0.1111111111111111, \"#46039f\"], [0.2222222222222222, \"#7201a8\"], [0.3333333333333333, \"#9c179e\"], [0.4444444444444444, \"#bd3786\"], [0.5555555555555556, \"#d8576b\"], [0.6666666666666666, \"#ed7953\"], [0.7777777777777778, \"#fb9f3a\"], [0.8888888888888888, \"#fdca26\"], [1.0, \"#f0f921\"]], \"type\": \"surface\"}], \"table\": [{\"cells\": {\"fill\": {\"color\": \"#EBF0F8\"}, \"line\": {\"color\": \"white\"}}, \"header\": {\"fill\": {\"color\": \"#C8D4E3\"}, \"line\": {\"color\": \"white\"}}, \"type\": \"table\"}]}, \"layout\": {\"annotationdefaults\": {\"arrowcolor\": \"#2a3f5f\", \"arrowhead\": 0, \"arrowwidth\": 1}, \"coloraxis\": {\"colorbar\": {\"outlinewidth\": 0, \"ticks\": \"\"}}, \"colorscale\": {\"diverging\": [[0, \"#8e0152\"], [0.1, \"#c51b7d\"], [0.2, \"#de77ae\"], [0.3, \"#f1b6da\"], [0.4, \"#fde0ef\"], [0.5, \"#f7f7f7\"], [0.6, \"#e6f5d0\"], [0.7, \"#b8e186\"], [0.8, \"#7fbc41\"], [0.9, \"#4d9221\"], [1, \"#276419\"]], \"sequential\": [[0.0, \"#0d0887\"], [0.1111111111111111, \"#46039f\"], [0.2222222222222222, \"#7201a8\"], [0.3333333333333333, \"#9c179e\"], [0.4444444444444444, \"#bd3786\"], [0.5555555555555556, \"#d8576b\"], [0.6666666666666666, \"#ed7953\"], [0.7777777777777778, \"#fb9f3a\"], [0.8888888888888888, \"#fdca26\"], [1.0, \"#f0f921\"]], \"sequentialminus\": [[0.0, \"#0d0887\"], [0.1111111111111111, \"#46039f\"], [0.2222222222222222, \"#7201a8\"], [0.3333333333333333, \"#9c179e\"], [0.4444444444444444, \"#bd3786\"], [0.5555555555555556, \"#d8576b\"], [0.6666666666666666, \"#ed7953\"], [0.7777777777777778, \"#fb9f3a\"], [0.8888888888888888, \"#fdca26\"], [1.0, \"#f0f921\"]]}, \"colorway\": [\"#636efa\", \"#EF553B\", \"#00cc96\", \"#ab63fa\", \"#FFA15A\", \"#19d3f3\", \"#FF6692\", \"#B6E880\", \"#FF97FF\", \"#FECB52\"], \"font\": {\"color\": \"#2a3f5f\"}, \"geo\": {\"bgcolor\": \"white\", \"lakecolor\": \"white\", \"landcolor\": \"#E5ECF6\", \"showlakes\": true, \"showland\": true, \"subunitcolor\": \"white\"}, \"hoverlabel\": {\"align\": \"left\"}, \"hovermode\": \"closest\", \"mapbox\": {\"style\": \"light\"}, \"paper_bgcolor\": \"white\", \"plot_bgcolor\": \"#E5ECF6\", \"polar\": {\"angularaxis\": {\"gridcolor\": \"white\", \"linecolor\": \"white\", \"ticks\": \"\"}, \"bgcolor\": \"#E5ECF6\", \"radialaxis\": {\"gridcolor\": \"white\", \"linecolor\": \"white\", \"ticks\": \"\"}}, \"scene\": {\"xaxis\": {\"backgroundcolor\": \"#E5ECF6\", \"gridcolor\": \"white\", \"gridwidth\": 2, \"linecolor\": \"white\", \"showbackground\": true, \"ticks\": \"\", \"zerolinecolor\": \"white\"}, \"yaxis\": {\"backgroundcolor\": \"#E5ECF6\", \"gridcolor\": \"white\", \"gridwidth\": 2, \"linecolor\": \"white\", \"showbackground\": true, \"ticks\": \"\", \"zerolinecolor\": \"white\"}, \"zaxis\": {\"backgroundcolor\": \"#E5ECF6\", \"gridcolor\": \"white\", \"gridwidth\": 2, \"linecolor\": \"white\", \"showbackground\": true, \"ticks\": \"\", \"zerolinecolor\": \"white\"}}, \"shapedefaults\": {\"line\": {\"color\": \"#2a3f5f\"}}, \"ternary\": {\"aaxis\": {\"gridcolor\": \"white\", \"linecolor\": \"white\", \"ticks\": \"\"}, \"baxis\": {\"gridcolor\": \"white\", \"linecolor\": \"white\", \"ticks\": \"\"}, \"bgcolor\": \"#E5ECF6\", \"caxis\": {\"gridcolor\": \"white\", \"linecolor\": \"white\", \"ticks\": \"\"}}, \"title\": {\"x\": 0.05}, \"xaxis\": {\"automargin\": true, \"gridcolor\": \"white\", \"linecolor\": \"white\", \"ticks\": \"\", \"title\": {\"standoff\": 15}, \"zerolinecolor\": \"white\", \"zerolinewidth\": 2}, \"yaxis\": {\"automargin\": true, \"gridcolor\": \"white\", \"linecolor\": \"white\", \"ticks\": \"\", \"title\": {\"standoff\": 15}, \"zerolinecolor\": \"white\", \"zerolinewidth\": 2}}}, \"title\": {\"text\": \"Model performance\"}, \"width\": 800, \"xaxis\": {\"anchor\": \"y\", \"domain\": [0.0, 0.45]}, \"xaxis2\": {\"anchor\": \"y2\", \"domain\": [0.55, 1.0], \"title\": {\"text\": \"false positive rate\"}}, \"xaxis3\": {\"anchor\": \"y3\", \"domain\": [0.0, 1.0], \"showgrid\": true, \"tickangle\": 90, \"tickfont\": {\"size\": 10}}, \"yaxis\": {\"anchor\": \"x\", \"domain\": [0.625, 1.0]}, \"yaxis2\": {\"anchor\": \"x2\", \"domain\": [0.625, 1.0], \"title\": {\"text\": \"true positive rate\"}}, \"yaxis3\": {\"anchor\": \"x3\", \"domain\": [0.0, 0.375]}},\n",
       "                        {\"responsive\": true}\n",
       "                    ).then(function(){\n",
       "                            \n",
       "var gd = document.getElementById('93bd4435-4df9-41e8-9a45-eb2a56c1e874');\n",
       "var x = new MutationObserver(function (mutations, observer) {{\n",
       "        var display = window.getComputedStyle(gd).display;\n",
       "        if (!display || display === 'none') {{\n",
       "            console.log([gd, 'removed!']);\n",
       "            Plotly.purge(gd);\n",
       "            observer.disconnect();\n",
       "        }}\n",
       "}});\n",
       "\n",
       "// Listen for the removal of the full notebook cells\n",
       "var notebookContainer = gd.closest('#notebook-container');\n",
       "if (notebookContainer) {{\n",
       "    x.observe(notebookContainer, {childList: true});\n",
       "}}\n",
       "\n",
       "// Listen for the clearing of the current output cell\n",
       "var outputEl = gd.closest('.output');\n",
       "if (outputEl) {{\n",
       "    x.observe(outputEl, {childList: true});\n",
       "}}\n",
       "\n",
       "                        })\n",
       "                };\n",
       "                });\n",
       "            </script>\n",
       "        </div>"
      ]
     },
     "metadata": {},
     "output_type": "display_data"
    },
    {
     "name": "stdout",
     "output_type": "stream",
     "text": [
      "[19:27:13] WARNING: C:\\Users\\Administrator\\workspace\\xgboost-win64_release_1.1.0\\src\\learner.cc:480: \n",
      "Parameters: { classifier__max_depth, classifier__n_estimators, classifier__subsample } might not be used.\n",
      "\n",
      "  This may not be accurate due to some parameters are only used in language bindings but\n",
      "  passed down to XGBoost core.  Or some parameters are not used but slip through this\n",
      "  verification. Please open an issue if you find above cases.\n",
      "\n",
      "\n",
      "[19:27:13] WARNING: C:\\Users\\Administrator\\workspace\\xgboost-win64_release_1.1.0\\src\\learner.cc:480: \n",
      "Parameters: { classifier__max_depth, classifier__n_estimators, classifier__subsample } might not be used.\n",
      "\n",
      "  This may not be accurate due to some parameters are only used in language bindings but\n",
      "  passed down to XGBoost core.  Or some parameters are not used but slip through this\n",
      "  verification. Please open an issue if you find above cases.\n",
      "\n",
      "\n",
      "[19:27:13] WARNING: C:\\Users\\Administrator\\workspace\\xgboost-win64_release_1.1.0\\src\\learner.cc:480: \n",
      "Parameters: { classifier__max_depth, classifier__n_estimators, classifier__subsample } might not be used.\n",
      "\n",
      "  This may not be accurate due to some parameters are only used in language bindings but\n",
      "  passed down to XGBoost core.  Or some parameters are not used but slip through this\n",
      "  verification. Please open an issue if you find above cases.\n",
      "\n",
      "\n",
      "[19:27:13] WARNING: C:\\Users\\Administrator\\workspace\\xgboost-win64_release_1.1.0\\src\\learner.cc:480: \n",
      "Parameters: { classifier__max_depth, classifier__n_estimators, classifier__subsample } might not be used.\n",
      "\n",
      "  This may not be accurate due to some parameters are only used in language bindings but\n",
      "  passed down to XGBoost core.  Or some parameters are not used but slip through this\n",
      "  verification. Please open an issue if you find above cases.\n",
      "\n",
      "\n",
      "[19:27:13] WARNING: C:\\Users\\Administrator\\workspace\\xgboost-win64_release_1.1.0\\src\\learner.cc:480: \n",
      "Parameters: { classifier__max_depth, classifier__n_estimators, classifier__subsample } might not be used.\n",
      "\n",
      "  This may not be accurate due to some parameters are only used in language bindings but\n",
      "  passed down to XGBoost core.  Or some parameters are not used but slip through this\n",
      "  verification. Please open an issue if you find above cases.\n",
      "\n",
      "\n",
      "[19:27:13] WARNING: C:\\Users\\Administrator\\workspace\\xgboost-win64_release_1.1.0\\src\\learner.cc:480: \n",
      "Parameters: { classifier__max_depth, classifier__n_estimators, classifier__subsample } might not be used.\n",
      "\n",
      "  This may not be accurate due to some parameters are only used in language bindings but\n",
      "  passed down to XGBoost core.  Or some parameters are not used but slip through this\n",
      "  verification. Please open an issue if you find above cases.\n",
      "\n",
      "\n",
      "[19:27:13] WARNING: C:\\Users\\Administrator\\workspace\\xgboost-win64_release_1.1.0\\src\\learner.cc:480: \n",
      "Parameters: { classifier__max_depth, classifier__n_estimators, classifier__subsample } might not be used.\n",
      "\n",
      "  This may not be accurate due to some parameters are only used in language bindings but\n",
      "  passed down to XGBoost core.  Or some parameters are not used but slip through this\n",
      "  verification. Please open an issue if you find above cases.\n",
      "\n",
      "\n",
      "[19:27:13] WARNING: C:\\Users\\Administrator\\workspace\\xgboost-win64_release_1.1.0\\src\\learner.cc:480: \n",
      "Parameters: { classifier__max_depth, classifier__n_estimators, classifier__subsample } might not be used.\n",
      "\n",
      "  This may not be accurate due to some parameters are only used in language bindings but\n",
      "  passed down to XGBoost core.  Or some parameters are not used but slip through this\n",
      "  verification. Please open an issue if you find above cases.\n",
      "\n",
      "\n",
      "[19:27:13] WARNING: C:\\Users\\Administrator\\workspace\\xgboost-win64_release_1.1.0\\src\\learner.cc:480: \n",
      "Parameters: { classifier__max_depth, classifier__n_estimators, classifier__subsample } might not be used.\n",
      "\n",
      "  This may not be accurate due to some parameters are only used in language bindings but\n",
      "  passed down to XGBoost core.  Or some parameters are not used but slip through this\n",
      "  verification. Please open an issue if you find above cases.\n",
      "\n",
      "\n",
      "[19:27:13] WARNING: C:\\Users\\Administrator\\workspace\\xgboost-win64_release_1.1.0\\src\\learner.cc:480: \n",
      "Parameters: { classifier__max_depth, classifier__n_estimators, classifier__subsample } might not be used.\n",
      "\n",
      "  This may not be accurate due to some parameters are only used in language bindings but\n",
      "  passed down to XGBoost core.  Or some parameters are not used but slip through this\n",
      "  verification. Please open an issue if you find above cases.\n",
      "\n",
      "\n",
      "[19:27:13] WARNING: C:\\Users\\Administrator\\workspace\\xgboost-win64_release_1.1.0\\src\\learner.cc:480: \n",
      "Parameters: { classifier__max_depth, classifier__n_estimators, classifier__subsample } might not be used.\n",
      "\n",
      "  This may not be accurate due to some parameters are only used in language bindings but\n",
      "  passed down to XGBoost core.  Or some parameters are not used but slip through this\n",
      "  verification. Please open an issue if you find above cases.\n",
      "\n",
      "\n",
      "[19:27:13] WARNING: C:\\Users\\Administrator\\workspace\\xgboost-win64_release_1.1.0\\src\\learner.cc:480: \n",
      "Parameters: { classifier__max_depth, classifier__n_estimators, classifier__subsample } might not be used.\n",
      "\n",
      "  This may not be accurate due to some parameters are only used in language bindings but\n",
      "  passed down to XGBoost core.  Or some parameters are not used but slip through this\n",
      "  verification. Please open an issue if you find above cases.\n",
      "\n",
      "\n",
      "[19:27:13] WARNING: C:\\Users\\Administrator\\workspace\\xgboost-win64_release_1.1.0\\src\\learner.cc:480: \n",
      "Parameters: { classifier__max_depth, classifier__n_estimators, classifier__subsample } might not be used.\n",
      "\n",
      "  This may not be accurate due to some parameters are only used in language bindings but\n",
      "  passed down to XGBoost core.  Or some parameters are not used but slip through this\n",
      "  verification. Please open an issue if you find above cases.\n",
      "\n",
      "\n",
      "[19:27:13] WARNING: C:\\Users\\Administrator\\workspace\\xgboost-win64_release_1.1.0\\src\\learner.cc:480: \n",
      "Parameters: { classifier__max_depth, classifier__n_estimators, classifier__subsample } might not be used.\n",
      "\n",
      "  This may not be accurate due to some parameters are only used in language bindings but\n",
      "  passed down to XGBoost core.  Or some parameters are not used but slip through this\n",
      "  verification. Please open an issue if you find above cases.\n",
      "\n",
      "\n",
      "[19:27:13] WARNING: C:\\Users\\Administrator\\workspace\\xgboost-win64_release_1.1.0\\src\\learner.cc:480: \n",
      "Parameters: { classifier__max_depth, classifier__n_estimators, classifier__subsample } might not be used.\n",
      "\n",
      "  This may not be accurate due to some parameters are only used in language bindings but\n",
      "  passed down to XGBoost core.  Or some parameters are not used but slip through this\n",
      "  verification. Please open an issue if you find above cases.\n",
      "\n",
      "\n",
      "[19:27:13] WARNING: C:\\Users\\Administrator\\workspace\\xgboost-win64_release_1.1.0\\src\\learner.cc:480: \n",
      "Parameters: { classifier__max_depth, classifier__n_estimators, classifier__subsample } might not be used.\n",
      "\n",
      "  This may not be accurate due to some parameters are only used in language bindings but\n",
      "  passed down to XGBoost core.  Or some parameters are not used but slip through this\n",
      "  verification. Please open an issue if you find above cases.\n",
      "\n",
      "\n",
      "[19:27:13] WARNING: C:\\Users\\Administrator\\workspace\\xgboost-win64_release_1.1.0\\src\\learner.cc:480: \n",
      "Parameters: { classifier__max_depth, classifier__n_estimators, classifier__subsample } might not be used.\n",
      "\n",
      "  This may not be accurate due to some parameters are only used in language bindings but\n",
      "  passed down to XGBoost core.  Or some parameters are not used but slip through this\n",
      "  verification. Please open an issue if you find above cases.\n",
      "\n",
      "\n",
      "[19:27:13] WARNING: C:\\Users\\Administrator\\workspace\\xgboost-win64_release_1.1.0\\src\\learner.cc:480: \n",
      "Parameters: { classifier__max_depth, classifier__n_estimators, classifier__subsample } might not be used.\n",
      "\n",
      "  This may not be accurate due to some parameters are only used in language bindings but\n",
      "  passed down to XGBoost core.  Or some parameters are not used but slip through this\n",
      "  verification. Please open an issue if you find above cases.\n",
      "\n",
      "\n",
      "[19:27:13] WARNING: C:\\Users\\Administrator\\workspace\\xgboost-win64_release_1.1.0\\src\\learner.cc:480: \n",
      "Parameters: { classifier__max_depth, classifier__n_estimators, classifier__subsample } might not be used.\n",
      "\n",
      "  This may not be accurate due to some parameters are only used in language bindings but\n",
      "  passed down to XGBoost core.  Or some parameters are not used but slip through this\n",
      "  verification. Please open an issue if you find above cases.\n",
      "\n"
     ]
    },
    {
     "name": "stdout",
     "output_type": "stream",
     "text": [
      "\n",
      "[19:27:13] WARNING: C:\\Users\\Administrator\\workspace\\xgboost-win64_release_1.1.0\\src\\learner.cc:480: \n",
      "Parameters: { classifier__max_depth, classifier__n_estimators, classifier__subsample } might not be used.\n",
      "\n",
      "  This may not be accurate due to some parameters are only used in language bindings but\n",
      "  passed down to XGBoost core.  Or some parameters are not used but slip through this\n",
      "  verification. Please open an issue if you find above cases.\n",
      "\n",
      "\n",
      "[19:27:14] WARNING: C:\\Users\\Administrator\\workspace\\xgboost-win64_release_1.1.0\\src\\learner.cc:480: \n",
      "Parameters: { classifier__max_depth, classifier__n_estimators, classifier__subsample } might not be used.\n",
      "\n",
      "  This may not be accurate due to some parameters are only used in language bindings but\n",
      "  passed down to XGBoost core.  Or some parameters are not used but slip through this\n",
      "  verification. Please open an issue if you find above cases.\n",
      "\n",
      "\n",
      "[19:27:14] WARNING: C:\\Users\\Administrator\\workspace\\xgboost-win64_release_1.1.0\\src\\learner.cc:480: \n",
      "Parameters: { classifier__max_depth, classifier__n_estimators, classifier__subsample } might not be used.\n",
      "\n",
      "  This may not be accurate due to some parameters are only used in language bindings but\n",
      "  passed down to XGBoost core.  Or some parameters are not used but slip through this\n",
      "  verification. Please open an issue if you find above cases.\n",
      "\n",
      "\n",
      "[19:27:14] WARNING: C:\\Users\\Administrator\\workspace\\xgboost-win64_release_1.1.0\\src\\learner.cc:480: \n",
      "Parameters: { classifier__max_depth, classifier__n_estimators, classifier__subsample } might not be used.\n",
      "\n",
      "  This may not be accurate due to some parameters are only used in language bindings but\n",
      "  passed down to XGBoost core.  Or some parameters are not used but slip through this\n",
      "  verification. Please open an issue if you find above cases.\n",
      "\n",
      "\n",
      "[19:27:14] WARNING: C:\\Users\\Administrator\\workspace\\xgboost-win64_release_1.1.0\\src\\learner.cc:480: \n",
      "Parameters: { classifier__max_depth, classifier__n_estimators, classifier__subsample } might not be used.\n",
      "\n",
      "  This may not be accurate due to some parameters are only used in language bindings but\n",
      "  passed down to XGBoost core.  Or some parameters are not used but slip through this\n",
      "  verification. Please open an issue if you find above cases.\n",
      "\n",
      "\n",
      "[19:27:14] WARNING: C:\\Users\\Administrator\\workspace\\xgboost-win64_release_1.1.0\\src\\learner.cc:480: \n",
      "Parameters: { classifier__max_depth, classifier__n_estimators, classifier__subsample } might not be used.\n",
      "\n",
      "  This may not be accurate due to some parameters are only used in language bindings but\n",
      "  passed down to XGBoost core.  Or some parameters are not used but slip through this\n",
      "  verification. Please open an issue if you find above cases.\n",
      "\n",
      "\n",
      "[19:27:14] WARNING: C:\\Users\\Administrator\\workspace\\xgboost-win64_release_1.1.0\\src\\learner.cc:480: \n",
      "Parameters: { classifier__max_depth, classifier__n_estimators, classifier__subsample } might not be used.\n",
      "\n",
      "  This may not be accurate due to some parameters are only used in language bindings but\n",
      "  passed down to XGBoost core.  Or some parameters are not used but slip through this\n",
      "  verification. Please open an issue if you find above cases.\n",
      "\n",
      "\n",
      "[19:27:14] WARNING: C:\\Users\\Administrator\\workspace\\xgboost-win64_release_1.1.0\\src\\learner.cc:480: \n",
      "Parameters: { classifier__max_depth, classifier__n_estimators, classifier__subsample } might not be used.\n",
      "\n",
      "  This may not be accurate due to some parameters are only used in language bindings but\n",
      "  passed down to XGBoost core.  Or some parameters are not used but slip through this\n",
      "  verification. Please open an issue if you find above cases.\n",
      "\n",
      "\n",
      "[19:27:14] WARNING: C:\\Users\\Administrator\\workspace\\xgboost-win64_release_1.1.0\\src\\learner.cc:480: \n",
      "Parameters: { classifier__max_depth, classifier__n_estimators, classifier__subsample } might not be used.\n",
      "\n",
      "  This may not be accurate due to some parameters are only used in language bindings but\n",
      "  passed down to XGBoost core.  Or some parameters are not used but slip through this\n",
      "  verification. Please open an issue if you find above cases.\n",
      "\n",
      "\n",
      "[19:27:14] WARNING: C:\\Users\\Administrator\\workspace\\xgboost-win64_release_1.1.0\\src\\learner.cc:480: \n",
      "Parameters: { classifier__max_depth, classifier__n_estimators, classifier__subsample } might not be used.\n",
      "\n",
      "  This may not be accurate due to some parameters are only used in language bindings but\n",
      "  passed down to XGBoost core.  Or some parameters are not used but slip through this\n",
      "  verification. Please open an issue if you find above cases.\n",
      "\n",
      "\n",
      "[19:27:14] WARNING: C:\\Users\\Administrator\\workspace\\xgboost-win64_release_1.1.0\\src\\learner.cc:480: \n",
      "Parameters: { classifier__max_depth, classifier__n_estimators, classifier__subsample } might not be used.\n",
      "\n",
      "  This may not be accurate due to some parameters are only used in language bindings but\n",
      "  passed down to XGBoost core.  Or some parameters are not used but slip through this\n",
      "  verification. Please open an issue if you find above cases.\n",
      "\n",
      "\n",
      "[19:27:14] WARNING: C:\\Users\\Administrator\\workspace\\xgboost-win64_release_1.1.0\\src\\learner.cc:480: \n",
      "Parameters: { classifier__max_depth, classifier__n_estimators, classifier__subsample } might not be used.\n",
      "\n",
      "  This may not be accurate due to some parameters are only used in language bindings but\n",
      "  passed down to XGBoost core.  Or some parameters are not used but slip through this\n",
      "  verification. Please open an issue if you find above cases.\n",
      "\n",
      "\n",
      "[19:27:14] WARNING: C:\\Users\\Administrator\\workspace\\xgboost-win64_release_1.1.0\\src\\learner.cc:480: \n",
      "Parameters: { classifier__max_depth, classifier__n_estimators, classifier__subsample } might not be used.\n",
      "\n",
      "  This may not be accurate due to some parameters are only used in language bindings but\n",
      "  passed down to XGBoost core.  Or some parameters are not used but slip through this\n",
      "  verification. Please open an issue if you find above cases.\n",
      "\n",
      "\n",
      "[19:27:14] WARNING: C:\\Users\\Administrator\\workspace\\xgboost-win64_release_1.1.0\\src\\learner.cc:480: \n",
      "Parameters: { classifier__max_depth, classifier__n_estimators, classifier__subsample } might not be used.\n",
      "\n",
      "  This may not be accurate due to some parameters are only used in language bindings but\n",
      "  passed down to XGBoost core.  Or some parameters are not used but slip through this\n",
      "  verification. Please open an issue if you find above cases.\n",
      "\n",
      "\n",
      "[19:27:14] WARNING: C:\\Users\\Administrator\\workspace\\xgboost-win64_release_1.1.0\\src\\learner.cc:480: \n",
      "Parameters: { classifier__max_depth, classifier__n_estimators, classifier__subsample } might not be used.\n",
      "\n",
      "  This may not be accurate due to some parameters are only used in language bindings but\n",
      "  passed down to XGBoost core.  Or some parameters are not used but slip through this\n",
      "  verification. Please open an issue if you find above cases.\n",
      "\n",
      "\n",
      "[19:27:14] WARNING: C:\\Users\\Administrator\\workspace\\xgboost-win64_release_1.1.0\\src\\learner.cc:480: \n",
      "Parameters: { classifier__max_depth, classifier__n_estimators, classifier__subsample } might not be used.\n",
      "\n",
      "  This may not be accurate due to some parameters are only used in language bindings but\n",
      "  passed down to XGBoost core.  Or some parameters are not used but slip through this\n",
      "  verification. Please open an issue if you find above cases.\n",
      "\n",
      "\n",
      "[19:27:14] WARNING: C:\\Users\\Administrator\\workspace\\xgboost-win64_release_1.1.0\\src\\learner.cc:480: \n",
      "Parameters: { classifier__max_depth, classifier__n_estimators, classifier__subsample } might not be used.\n",
      "\n",
      "  This may not be accurate due to some parameters are only used in language bindings but\n",
      "  passed down to XGBoost core.  Or some parameters are not used but slip through this\n",
      "  verification. Please open an issue if you find above cases.\n",
      "\n",
      "\n",
      "[19:27:14] WARNING: C:\\Users\\Administrator\\workspace\\xgboost-win64_release_1.1.0\\src\\learner.cc:480: \n",
      "Parameters: { classifier__max_depth, classifier__n_estimators, classifier__subsample } might not be used.\n",
      "\n",
      "  This may not be accurate due to some parameters are only used in language bindings but\n",
      "  passed down to XGBoost core.  Or some parameters are not used but slip through this\n",
      "  verification. Please open an issue if you find above cases.\n",
      "\n",
      "\n",
      "[19:27:14] WARNING: C:\\Users\\Administrator\\workspace\\xgboost-win64_release_1.1.0\\src\\learner.cc:480: \n",
      "Parameters: { classifier__max_depth, classifier__n_estimators, classifier__subsample } might not be used.\n",
      "\n",
      "  This may not be accurate due to some parameters are only used in language bindings but\n",
      "  passed down to XGBoost core.  Or some parameters are not used but slip through this\n",
      "  verification. Please open an issue if you find above cases.\n",
      "\n",
      "\n",
      "[19:27:14] WARNING: C:\\Users\\Administrator\\workspace\\xgboost-win64_release_1.1.0\\src\\learner.cc:480: \n",
      "Parameters: { classifier__max_depth, classifier__n_estimators, classifier__subsample } might not be used.\n",
      "\n",
      "  This may not be accurate due to some parameters are only used in language bindings but\n",
      "  passed down to XGBoost core.  Or some parameters are not used but slip through this\n",
      "  verification. Please open an issue if you find above cases.\n",
      "\n"
     ]
    },
    {
     "name": "stdout",
     "output_type": "stream",
     "text": [
      "\n",
      "[19:27:14] WARNING: C:\\Users\\Administrator\\workspace\\xgboost-win64_release_1.1.0\\src\\learner.cc:480: \n",
      "Parameters: { classifier__max_depth, classifier__n_estimators, classifier__subsample } might not be used.\n",
      "\n",
      "  This may not be accurate due to some parameters are only used in language bindings but\n",
      "  passed down to XGBoost core.  Or some parameters are not used but slip through this\n",
      "  verification. Please open an issue if you find above cases.\n",
      "\n",
      "\n",
      "[19:27:14] WARNING: C:\\Users\\Administrator\\workspace\\xgboost-win64_release_1.1.0\\src\\learner.cc:480: \n",
      "Parameters: { classifier__max_depth, classifier__n_estimators, classifier__subsample } might not be used.\n",
      "\n",
      "  This may not be accurate due to some parameters are only used in language bindings but\n",
      "  passed down to XGBoost core.  Or some parameters are not used but slip through this\n",
      "  verification. Please open an issue if you find above cases.\n",
      "\n",
      "\n",
      "[19:27:14] WARNING: C:\\Users\\Administrator\\workspace\\xgboost-win64_release_1.1.0\\src\\learner.cc:480: \n",
      "Parameters: { classifier__max_depth, classifier__n_estimators, classifier__subsample } might not be used.\n",
      "\n",
      "  This may not be accurate due to some parameters are only used in language bindings but\n",
      "  passed down to XGBoost core.  Or some parameters are not used but slip through this\n",
      "  verification. Please open an issue if you find above cases.\n",
      "\n",
      "\n",
      "[19:27:14] WARNING: C:\\Users\\Administrator\\workspace\\xgboost-win64_release_1.1.0\\src\\learner.cc:480: \n",
      "Parameters: { classifier__max_depth, classifier__n_estimators, classifier__subsample } might not be used.\n",
      "\n",
      "  This may not be accurate due to some parameters are only used in language bindings but\n",
      "  passed down to XGBoost core.  Or some parameters are not used but slip through this\n",
      "  verification. Please open an issue if you find above cases.\n",
      "\n",
      "\n",
      "[19:27:14] WARNING: C:\\Users\\Administrator\\workspace\\xgboost-win64_release_1.1.0\\src\\learner.cc:480: \n",
      "Parameters: { classifier__max_depth, classifier__n_estimators, classifier__subsample } might not be used.\n",
      "\n",
      "  This may not be accurate due to some parameters are only used in language bindings but\n",
      "  passed down to XGBoost core.  Or some parameters are not used but slip through this\n",
      "  verification. Please open an issue if you find above cases.\n",
      "\n",
      "\n",
      "[19:27:14] WARNING: C:\\Users\\Administrator\\workspace\\xgboost-win64_release_1.1.0\\src\\learner.cc:480: \n",
      "Parameters: { classifier__max_depth, classifier__n_estimators, classifier__subsample } might not be used.\n",
      "\n",
      "  This may not be accurate due to some parameters are only used in language bindings but\n",
      "  passed down to XGBoost core.  Or some parameters are not used but slip through this\n",
      "  verification. Please open an issue if you find above cases.\n",
      "\n",
      "\n",
      "[19:27:15] WARNING: C:\\Users\\Administrator\\workspace\\xgboost-win64_release_1.1.0\\src\\learner.cc:480: \n",
      "Parameters: { classifier__max_depth, classifier__n_estimators, classifier__subsample } might not be used.\n",
      "\n",
      "  This may not be accurate due to some parameters are only used in language bindings but\n",
      "  passed down to XGBoost core.  Or some parameters are not used but slip through this\n",
      "  verification. Please open an issue if you find above cases.\n",
      "\n",
      "\n",
      "[19:27:15] WARNING: C:\\Users\\Administrator\\workspace\\xgboost-win64_release_1.1.0\\src\\learner.cc:480: \n",
      "Parameters: { classifier__max_depth, classifier__n_estimators, classifier__subsample } might not be used.\n",
      "\n",
      "  This may not be accurate due to some parameters are only used in language bindings but\n",
      "  passed down to XGBoost core.  Or some parameters are not used but slip through this\n",
      "  verification. Please open an issue if you find above cases.\n",
      "\n",
      "\n",
      "[19:27:15] WARNING: C:\\Users\\Administrator\\workspace\\xgboost-win64_release_1.1.0\\src\\learner.cc:480: \n",
      "Parameters: { classifier__max_depth, classifier__n_estimators, classifier__subsample } might not be used.\n",
      "\n",
      "  This may not be accurate due to some parameters are only used in language bindings but\n",
      "  passed down to XGBoost core.  Or some parameters are not used but slip through this\n",
      "  verification. Please open an issue if you find above cases.\n",
      "\n",
      "\n",
      "[19:27:15] WARNING: C:\\Users\\Administrator\\workspace\\xgboost-win64_release_1.1.0\\src\\learner.cc:480: \n",
      "Parameters: { classifier__max_depth, classifier__n_estimators, classifier__subsample } might not be used.\n",
      "\n",
      "  This may not be accurate due to some parameters are only used in language bindings but\n",
      "  passed down to XGBoost core.  Or some parameters are not used but slip through this\n",
      "  verification. Please open an issue if you find above cases.\n",
      "\n",
      "\n",
      "[19:27:15] WARNING: C:\\Users\\Administrator\\workspace\\xgboost-win64_release_1.1.0\\src\\learner.cc:480: \n",
      "Parameters: { classifier__max_depth, classifier__n_estimators, classifier__subsample } might not be used.\n",
      "\n",
      "  This may not be accurate due to some parameters are only used in language bindings but\n",
      "  passed down to XGBoost core.  Or some parameters are not used but slip through this\n",
      "  verification. Please open an issue if you find above cases.\n",
      "\n",
      "\n"
     ]
    },
    {
     "data": {
      "image/png": "[encoded data removed]",
      "text/plain": [
       "<Figure size 576x396 with 1 Axes>"
      ]
     },
     "metadata": {},
     "output_type": "display_data"
    }
   ],
   "source": [
    "data_acc_car_class_prediction(pipeline.steps[1][1], pipeline[0].transform(X_train), y_train,\n",
    "                         X_test,y_test,pipeline.predict(X_test), pipeline.predict_proba(X_test),\n",
    "                         \"coefficients\",threshold_plot = True)"
   ]
  },
  {
   "cell_type": "markdown",
   "metadata": {},
   "source": [
    "ЗАДАНИЕ 6.\n",
    "\n",
    "Сделать подбор гиперпараметров с помощью той же самой cross-validation."
   ]
  },
  {
   "cell_type": "code",
   "execution_count": 34,
   "metadata": {},
   "outputs": [
    {
     "data": {
      "text/plain": [
       "{'classifier__max_depth': 5,\n",
       " 'classifier__n_estimators': 300,\n",
       " 'classifier__subsample': 0.6}"
      ]
     },
     "execution_count": 34,
     "metadata": {},
     "output_type": "execute_result"
    }
   ],
   "source": [
    "#Уже сделано\n",
    "clf.best_params_"
   ]
  },
  {
   "cell_type": "markdown",
   "metadata": {},
   "source": [
    "ЗАДАНИЕ 7. \n",
    "\n",
    "Сохраните вашу модель на диск"
   ]
  },
  {
   "cell_type": "code",
   "execution_count": 35,
   "metadata": {},
   "outputs": [],
   "source": [
    "import dill\n",
    "\n",
    "with open(\"car_evaluation_model_trained_XGB.dill\", \"wb\") as f:\n",
    "    dill.dump(pipeline, f)"
   ]
  },
  {
   "cell_type": "code",
   "execution_count": null,
   "metadata": {},
   "outputs": [],
   "source": []
  }
 ],
 "metadata": {
  "kernelspec": {
   "display_name": "Python 3",
   "language": "python",
   "name": "python3"
  },
  "language_info": {
   "codemirror_mode": {
    "name": "ipython",
    "version": 3
   },
   "file_extension": ".py",
   "mimetype": "text/x-python",
   "name": "python",
   "nbconvert_exporter": "python",
   "pygments_lexer": "ipython3",
   "version": "3.7.4"
  }
 },
 "nbformat": 4,
 "nbformat_minor": 2
}
