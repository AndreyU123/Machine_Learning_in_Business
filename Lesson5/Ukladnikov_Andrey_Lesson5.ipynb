{
 "cells": [
  {
   "cell_type": "markdown",
   "metadata": {},
   "source": [
    "# Аномалии и артефакты"
   ]
  },
  {
   "cell_type": "markdown",
   "metadata": {},
   "source": [
    "ЗАДАНИЕ 1\n",
    "\n",
    "Прочитайте базу my_BRENT2019.csv и перейдите к представлению ряда первыми разностями"
   ]
  },
  {
   "cell_type": "code",
   "execution_count": 1,
   "metadata": {},
   "outputs": [],
   "source": [
    "%matplotlib inline\n",
    "import matplotlib.pyplot as plt\n",
    "\n",
    "import numpy as np\n",
    "import pandas as pd \n",
    "import seaborn as sns\n",
    "\n",
    "\n",
    "from sklearn.metrics import mean_squared_error\n",
    "\n",
    "import os"
   ]
  },
  {
   "cell_type": "code",
   "execution_count": 2,
   "metadata": {},
   "outputs": [
    {
     "data": {
      "text/html": [
       "<div>\n",
       "<style scoped>\n",
       "    .dataframe tbody tr th:only-of-type {\n",
       "        vertical-align: middle;\n",
       "    }\n",
       "\n",
       "    .dataframe tbody tr th {\n",
       "        vertical-align: top;\n",
       "    }\n",
       "\n",
       "    .dataframe thead th {\n",
       "        text-align: right;\n",
       "    }\n",
       "</style>\n",
       "<table border=\"1\" class=\"dataframe\">\n",
       "  <thead>\n",
       "    <tr style=\"text-align: right;\">\n",
       "      <th></th>\n",
       "      <th>Значение</th>\n",
       "      <th>year</th>\n",
       "      <th>month</th>\n",
       "      <th>dayofmonth</th>\n",
       "      <th>quarter</th>\n",
       "      <th>dayofyear</th>\n",
       "      <th>weekofyear</th>\n",
       "      <th>dayofweek</th>\n",
       "      <th>is_holiday</th>\n",
       "      <th>is_prev_holiday</th>\n",
       "      <th>is_next_holiday</th>\n",
       "    </tr>\n",
       "    <tr>\n",
       "      <th>Дата</th>\n",
       "      <th></th>\n",
       "      <th></th>\n",
       "      <th></th>\n",
       "      <th></th>\n",
       "      <th></th>\n",
       "      <th></th>\n",
       "      <th></th>\n",
       "      <th></th>\n",
       "      <th></th>\n",
       "      <th></th>\n",
       "      <th></th>\n",
       "    </tr>\n",
       "  </thead>\n",
       "  <tbody>\n",
       "    <tr>\n",
       "      <th>2010-09-01</th>\n",
       "      <td>76.37</td>\n",
       "      <td>2010</td>\n",
       "      <td>9</td>\n",
       "      <td>1</td>\n",
       "      <td>3</td>\n",
       "      <td>244</td>\n",
       "      <td>35</td>\n",
       "      <td>2</td>\n",
       "      <td>0</td>\n",
       "      <td>0</td>\n",
       "      <td>0</td>\n",
       "    </tr>\n",
       "    <tr>\n",
       "      <th>2010-09-02</th>\n",
       "      <td>76.89</td>\n",
       "      <td>2010</td>\n",
       "      <td>9</td>\n",
       "      <td>2</td>\n",
       "      <td>3</td>\n",
       "      <td>245</td>\n",
       "      <td>35</td>\n",
       "      <td>3</td>\n",
       "      <td>0</td>\n",
       "      <td>0</td>\n",
       "      <td>0</td>\n",
       "    </tr>\n",
       "    <tr>\n",
       "      <th>2010-09-03</th>\n",
       "      <td>76.57</td>\n",
       "      <td>2010</td>\n",
       "      <td>9</td>\n",
       "      <td>3</td>\n",
       "      <td>3</td>\n",
       "      <td>246</td>\n",
       "      <td>35</td>\n",
       "      <td>4</td>\n",
       "      <td>0</td>\n",
       "      <td>0</td>\n",
       "      <td>0</td>\n",
       "    </tr>\n",
       "    <tr>\n",
       "      <th>2010-09-04</th>\n",
       "      <td>76.62</td>\n",
       "      <td>2010</td>\n",
       "      <td>9</td>\n",
       "      <td>4</td>\n",
       "      <td>3</td>\n",
       "      <td>247</td>\n",
       "      <td>35</td>\n",
       "      <td>5</td>\n",
       "      <td>0</td>\n",
       "      <td>0</td>\n",
       "      <td>0</td>\n",
       "    </tr>\n",
       "    <tr>\n",
       "      <th>2010-09-05</th>\n",
       "      <td>76.63</td>\n",
       "      <td>2010</td>\n",
       "      <td>9</td>\n",
       "      <td>5</td>\n",
       "      <td>3</td>\n",
       "      <td>248</td>\n",
       "      <td>35</td>\n",
       "      <td>6</td>\n",
       "      <td>0</td>\n",
       "      <td>1</td>\n",
       "      <td>0</td>\n",
       "    </tr>\n",
       "  </tbody>\n",
       "</table>\n",
       "</div>"
      ],
      "text/plain": [
       "            Значение  year  month  dayofmonth  quarter  dayofyear  weekofyear  \\\n",
       "Дата                                                                            \n",
       "2010-09-01     76.37  2010      9           1        3        244          35   \n",
       "2010-09-02     76.89  2010      9           2        3        245          35   \n",
       "2010-09-03     76.57  2010      9           3        3        246          35   \n",
       "2010-09-04     76.62  2010      9           4        3        247          35   \n",
       "2010-09-05     76.63  2010      9           5        3        248          35   \n",
       "\n",
       "            dayofweek  is_holiday  is_prev_holiday  is_next_holiday  \n",
       "Дата                                                                 \n",
       "2010-09-01          2           0                0                0  \n",
       "2010-09-02          3           0                0                0  \n",
       "2010-09-03          4           0                0                0  \n",
       "2010-09-04          5           0                0                0  \n",
       "2010-09-05          6           0                1                0  "
      ]
     },
     "execution_count": 2,
     "metadata": {},
     "output_type": "execute_result"
    }
   ],
   "source": [
    "path_brent = 'my_BRENT2019.csv'\n",
    "brent_data = pd.read_csv(path_brent,sep = ',', index_col=[0], parse_dates=[0])\n",
    "brent_data.head()"
   ]
  },
  {
   "cell_type": "markdown",
   "metadata": {},
   "source": [
    "ЗАДАНИЕ 3\n",
    "сделайте ее перрасчет (ресемплинг) в представление по неделям. "
   ]
  },
  {
   "cell_type": "code",
   "execution_count": 3,
   "metadata": {},
   "outputs": [],
   "source": [
    "data_w = brent_data.resample('W').mean()"
   ]
  },
  {
   "cell_type": "markdown",
   "metadata": {},
   "source": [
    "Проверка и удаление пропусков"
   ]
  },
  {
   "cell_type": "code",
   "execution_count": 4,
   "metadata": {},
   "outputs": [
    {
     "name": "stdout",
     "output_type": "stream",
     "text": [
      "(array([58], dtype=int64),)\n"
     ]
    },
    {
     "data": {
      "text/html": [
       "<div>\n",
       "<style scoped>\n",
       "    .dataframe tbody tr th:only-of-type {\n",
       "        vertical-align: middle;\n",
       "    }\n",
       "\n",
       "    .dataframe tbody tr th {\n",
       "        vertical-align: top;\n",
       "    }\n",
       "\n",
       "    .dataframe thead th {\n",
       "        text-align: right;\n",
       "    }\n",
       "</style>\n",
       "<table border=\"1\" class=\"dataframe\">\n",
       "  <thead>\n",
       "    <tr style=\"text-align: right;\">\n",
       "      <th></th>\n",
       "      <th>Значение</th>\n",
       "      <th>year</th>\n",
       "      <th>month</th>\n",
       "      <th>dayofmonth</th>\n",
       "      <th>quarter</th>\n",
       "      <th>dayofyear</th>\n",
       "      <th>weekofyear</th>\n",
       "      <th>dayofweek</th>\n",
       "      <th>is_holiday</th>\n",
       "      <th>is_prev_holiday</th>\n",
       "      <th>is_next_holiday</th>\n",
       "    </tr>\n",
       "    <tr>\n",
       "      <th>Дата</th>\n",
       "      <th></th>\n",
       "      <th></th>\n",
       "      <th></th>\n",
       "      <th></th>\n",
       "      <th></th>\n",
       "      <th></th>\n",
       "      <th></th>\n",
       "      <th></th>\n",
       "      <th></th>\n",
       "      <th></th>\n",
       "      <th></th>\n",
       "    </tr>\n",
       "  </thead>\n",
       "  <tbody>\n",
       "    <tr>\n",
       "      <th>2011-10-16</th>\n",
       "      <td>NaN</td>\n",
       "      <td>NaN</td>\n",
       "      <td>NaN</td>\n",
       "      <td>NaN</td>\n",
       "      <td>NaN</td>\n",
       "      <td>NaN</td>\n",
       "      <td>NaN</td>\n",
       "      <td>NaN</td>\n",
       "      <td>NaN</td>\n",
       "      <td>NaN</td>\n",
       "      <td>NaN</td>\n",
       "    </tr>\n",
       "  </tbody>\n",
       "</table>\n",
       "</div>"
      ],
      "text/plain": [
       "            Значение  year  month  dayofmonth  quarter  dayofyear  weekofyear  \\\n",
       "Дата                                                                            \n",
       "2011-10-16       NaN   NaN    NaN         NaN      NaN        NaN         NaN   \n",
       "\n",
       "            dayofweek  is_holiday  is_prev_holiday  is_next_holiday  \n",
       "Дата                                                                 \n",
       "2011-10-16        NaN         NaN              NaN              NaN  "
      ]
     },
     "execution_count": 4,
     "metadata": {},
     "output_type": "execute_result"
    }
   ],
   "source": [
    "#Проверка и удаление пропусков\n",
    "ind= np.where(data_w['Значение'].isnull())\n",
    "print(ind)\n",
    "data_w[ind[0][0]:ind[0][0]+1]\n"
   ]
  },
  {
   "cell_type": "code",
   "execution_count": 5,
   "metadata": {},
   "outputs": [
    {
     "data": {
      "text/html": [
       "<div>\n",
       "<style scoped>\n",
       "    .dataframe tbody tr th:only-of-type {\n",
       "        vertical-align: middle;\n",
       "    }\n",
       "\n",
       "    .dataframe tbody tr th {\n",
       "        vertical-align: top;\n",
       "    }\n",
       "\n",
       "    .dataframe thead th {\n",
       "        text-align: right;\n",
       "    }\n",
       "</style>\n",
       "<table border=\"1\" class=\"dataframe\">\n",
       "  <thead>\n",
       "    <tr style=\"text-align: right;\">\n",
       "      <th></th>\n",
       "      <th>Значение</th>\n",
       "      <th>year</th>\n",
       "      <th>month</th>\n",
       "      <th>dayofmonth</th>\n",
       "      <th>quarter</th>\n",
       "      <th>dayofyear</th>\n",
       "      <th>weekofyear</th>\n",
       "      <th>dayofweek</th>\n",
       "      <th>is_holiday</th>\n",
       "      <th>is_prev_holiday</th>\n",
       "      <th>is_next_holiday</th>\n",
       "    </tr>\n",
       "    <tr>\n",
       "      <th>Дата</th>\n",
       "      <th></th>\n",
       "      <th></th>\n",
       "      <th></th>\n",
       "      <th></th>\n",
       "      <th></th>\n",
       "      <th></th>\n",
       "      <th></th>\n",
       "      <th></th>\n",
       "      <th></th>\n",
       "      <th></th>\n",
       "      <th></th>\n",
       "    </tr>\n",
       "  </thead>\n",
       "  <tbody>\n",
       "    <tr>\n",
       "      <th>2011-10-16</th>\n",
       "      <td>103.476667</td>\n",
       "      <td>2011.0</td>\n",
       "      <td>10.0</td>\n",
       "      <td>5.666667</td>\n",
       "      <td>4.0</td>\n",
       "      <td>278.666667</td>\n",
       "      <td>40.0</td>\n",
       "      <td>2.666667</td>\n",
       "      <td>0.0</td>\n",
       "      <td>0.166667</td>\n",
       "      <td>0.0</td>\n",
       "    </tr>\n",
       "  </tbody>\n",
       "</table>\n",
       "</div>"
      ],
      "text/plain": [
       "              Значение    year  month  dayofmonth  quarter   dayofyear  \\\n",
       "Дата                                                                     \n",
       "2011-10-16  103.476667  2011.0   10.0    5.666667      4.0  278.666667   \n",
       "\n",
       "            weekofyear  dayofweek  is_holiday  is_prev_holiday  \\\n",
       "Дата                                                             \n",
       "2011-10-16        40.0   2.666667         0.0         0.166667   \n",
       "\n",
       "            is_next_holiday  \n",
       "Дата                         \n",
       "2011-10-16              0.0  "
      ]
     },
     "execution_count": 5,
     "metadata": {},
     "output_type": "execute_result"
    }
   ],
   "source": [
    "#Заполняем пропуск предыдущим значением\n",
    "data_w[ind[0][0]:ind[0][0]+1].values[0]=data_w[ind[0][0]-1:ind[0][0]].values[0]\n",
    "data_w[ind[0][0]:ind[0][0]+1]"
   ]
  },
  {
   "cell_type": "markdown",
   "metadata": {},
   "source": [
    "представление ряда первыми разностями"
   ]
  },
  {
   "cell_type": "code",
   "execution_count": 6,
   "metadata": {},
   "outputs": [],
   "source": [
    "first_diff =np.array(data_w.iloc[1:,0].values - data_w.iloc[:-1,0].values).astype('float32') \n",
    "data_w['diff1'] = 0\n",
    "data_w['diff1'] =  data_w['diff1'].astype('float') \n",
    "data_w['diff1'].values[1:] = first_diff"
   ]
  },
  {
   "cell_type": "markdown",
   "metadata": {},
   "source": [
    "ЗАДАНИЕ 2\n",
    "\n",
    "Добавьте первые разности по стоимости доллара и евро к рублю"
   ]
  },
  {
   "cell_type": "code",
   "execution_count": 7,
   "metadata": {},
   "outputs": [
    {
     "name": "stdout",
     "output_type": "stream",
     "text": [
      "Значение ряда изменяется от  2010-09-05 00:00:00 до 2019-09-01 00:00:00\n"
     ]
    }
   ],
   "source": [
    "print(f'Значение ряда изменяется от  {np.min(data_w.index)} до {np.max(data_w.index)}')"
   ]
  },
  {
   "cell_type": "code",
   "execution_count": 8,
   "metadata": {},
   "outputs": [
    {
     "data": {
      "text/html": [
       "<div>\n",
       "<style scoped>\n",
       "    .dataframe tbody tr th:only-of-type {\n",
       "        vertical-align: middle;\n",
       "    }\n",
       "\n",
       "    .dataframe tbody tr th {\n",
       "        vertical-align: top;\n",
       "    }\n",
       "\n",
       "    .dataframe thead th {\n",
       "        text-align: right;\n",
       "    }\n",
       "</style>\n",
       "<table border=\"1\" class=\"dataframe\">\n",
       "  <thead>\n",
       "    <tr style=\"text-align: right;\">\n",
       "      <th></th>\n",
       "      <th>curs</th>\n",
       "    </tr>\n",
       "    <tr>\n",
       "      <th>data</th>\n",
       "      <th></th>\n",
       "    </tr>\n",
       "  </thead>\n",
       "  <tbody>\n",
       "    <tr>\n",
       "      <th>2010-09-12</th>\n",
       "      <td>30.79402</td>\n",
       "    </tr>\n",
       "    <tr>\n",
       "      <th>2010-09-19</th>\n",
       "      <td>30.84672</td>\n",
       "    </tr>\n",
       "    <tr>\n",
       "      <th>2010-09-26</th>\n",
       "      <td>30.99920</td>\n",
       "    </tr>\n",
       "    <tr>\n",
       "      <th>2010-10-03</th>\n",
       "      <td>30.52764</td>\n",
       "    </tr>\n",
       "    <tr>\n",
       "      <th>2010-10-10</th>\n",
       "      <td>30.07338</td>\n",
       "    </tr>\n",
       "  </tbody>\n",
       "</table>\n",
       "</div>"
      ],
      "text/plain": [
       "                curs\n",
       "data                \n",
       "2010-09-12  30.79402\n",
       "2010-09-19  30.84672\n",
       "2010-09-26  30.99920\n",
       "2010-10-03  30.52764\n",
       "2010-10-10  30.07338"
      ]
     },
     "execution_count": 8,
     "metadata": {},
     "output_type": "execute_result"
    }
   ],
   "source": [
    "rub_doll=pd.read_excel('RC_F05_09_2010_T01_09_2019.xlsx')\n",
    "rub_doll.index = pd.to_datetime(rub_doll['data'].values).date\n",
    "rub_doll = rub_doll.set_index(['data'])\n",
    "rub_doll.drop(['nominal','cdx'], axis=1,inplace = True)\n",
    "rub_doll_w=rub_doll.resample('W').mean()\n",
    "rub_doll_w.head()"
   ]
  },
  {
   "cell_type": "code",
   "execution_count": 9,
   "metadata": {},
   "outputs": [
    {
     "data": {
      "text/html": [
       "<div>\n",
       "<style scoped>\n",
       "    .dataframe tbody tr th:only-of-type {\n",
       "        vertical-align: middle;\n",
       "    }\n",
       "\n",
       "    .dataframe tbody tr th {\n",
       "        vertical-align: top;\n",
       "    }\n",
       "\n",
       "    .dataframe thead th {\n",
       "        text-align: right;\n",
       "    }\n",
       "</style>\n",
       "<table border=\"1\" class=\"dataframe\">\n",
       "  <thead>\n",
       "    <tr style=\"text-align: right;\">\n",
       "      <th></th>\n",
       "      <th>curs</th>\n",
       "    </tr>\n",
       "    <tr>\n",
       "      <th>data</th>\n",
       "      <th></th>\n",
       "    </tr>\n",
       "  </thead>\n",
       "  <tbody>\n",
       "    <tr>\n",
       "      <th>2010-09-12</th>\n",
       "      <td>39.29336</td>\n",
       "    </tr>\n",
       "    <tr>\n",
       "      <th>2010-09-19</th>\n",
       "      <td>39.97774</td>\n",
       "    </tr>\n",
       "    <tr>\n",
       "      <th>2010-09-26</th>\n",
       "      <td>41.04264</td>\n",
       "    </tr>\n",
       "    <tr>\n",
       "      <th>2010-10-03</th>\n",
       "      <td>41.35166</td>\n",
       "    </tr>\n",
       "    <tr>\n",
       "      <th>2010-10-10</th>\n",
       "      <td>41.62402</td>\n",
       "    </tr>\n",
       "  </tbody>\n",
       "</table>\n",
       "</div>"
      ],
      "text/plain": [
       "                curs\n",
       "data                \n",
       "2010-09-12  39.29336\n",
       "2010-09-19  39.97774\n",
       "2010-09-26  41.04264\n",
       "2010-10-03  41.35166\n",
       "2010-10-10  41.62402"
      ]
     },
     "execution_count": 9,
     "metadata": {},
     "output_type": "execute_result"
    }
   ],
   "source": [
    "rub_e=pd.read_excel('RC_F05_09_2010_T01_09_2019_2.xlsx')\n",
    "rub_e.index = pd.to_datetime(rub_e['data'].values).date\n",
    "rub_e = rub_e.set_index(['data'])\n",
    "rub_e.drop(['nominal','cdx'], axis=1,inplace = True)\n",
    "rub_e_w=rub_e.resample('W').mean()\n",
    "rub_e_w.head()"
   ]
  },
  {
   "cell_type": "code",
   "execution_count": 10,
   "metadata": {},
   "outputs": [
    {
     "name": "stdout",
     "output_type": "stream",
     "text": [
      "Значение ряда изменяется от  2010-09-07 00:00:00 до 2019-08-31 00:00:00\n"
     ]
    }
   ],
   "source": [
    "print(f'Значение ряда изменяется от  {np.min(rub_doll.index)} до {np.max(rub_doll.index)}')"
   ]
  },
  {
   "cell_type": "code",
   "execution_count": 11,
   "metadata": {},
   "outputs": [
    {
     "name": "stdout",
     "output_type": "stream",
     "text": [
      "Значение ряда изменяется от  2010-09-07 00:00:00 до 2019-08-31 00:00:00\n"
     ]
    }
   ],
   "source": [
    "print(f'Значение ряда изменяется от  {np.min(rub_e.index)} до {np.max(rub_e.index)}')"
   ]
  },
  {
   "cell_type": "code",
   "execution_count": 12,
   "metadata": {},
   "outputs": [],
   "source": [
    "d_rub_doll = rub_doll_w['curs'].values[1:]- rub_doll_w['curs'].values[:-1]\n",
    "d_rub_e = rub_e_w['curs'].values[1:]- rub_e_w['curs'].values[:-1]\n",
    "\n",
    "rub_doll_w['diff_rub_doll'] = 0\n",
    "rub_doll_w['diff_rub_doll'] =  rub_doll_w['diff_rub_doll'].astype('float') \n",
    "rub_doll_w['diff_rub_doll'].values[1:] = d_rub_doll\n",
    "\n",
    "rub_e_w['diff_rub_e'] = 0\n",
    "rub_e_w['diff_rub_e'] =  rub_e_w['diff_rub_e'].astype('float') \n",
    "rub_e_w['diff_rub_e'].values[1:] = d_rub_e"
   ]
  },
  {
   "cell_type": "code",
   "execution_count": 13,
   "metadata": {},
   "outputs": [
    {
     "data": {
      "text/html": [
       "<div>\n",
       "<style scoped>\n",
       "    .dataframe tbody tr th:only-of-type {\n",
       "        vertical-align: middle;\n",
       "    }\n",
       "\n",
       "    .dataframe tbody tr th {\n",
       "        vertical-align: top;\n",
       "    }\n",
       "\n",
       "    .dataframe thead th {\n",
       "        text-align: right;\n",
       "    }\n",
       "</style>\n",
       "<table border=\"1\" class=\"dataframe\">\n",
       "  <thead>\n",
       "    <tr style=\"text-align: right;\">\n",
       "      <th></th>\n",
       "      <th>curs</th>\n",
       "      <th>diff_rub_doll</th>\n",
       "    </tr>\n",
       "    <tr>\n",
       "      <th>data</th>\n",
       "      <th></th>\n",
       "      <th></th>\n",
       "    </tr>\n",
       "  </thead>\n",
       "  <tbody>\n",
       "    <tr>\n",
       "      <th>2010-09-12</th>\n",
       "      <td>30.79402</td>\n",
       "      <td>0.00000</td>\n",
       "    </tr>\n",
       "    <tr>\n",
       "      <th>2010-09-19</th>\n",
       "      <td>30.84672</td>\n",
       "      <td>0.05270</td>\n",
       "    </tr>\n",
       "    <tr>\n",
       "      <th>2010-09-26</th>\n",
       "      <td>30.99920</td>\n",
       "      <td>0.15248</td>\n",
       "    </tr>\n",
       "    <tr>\n",
       "      <th>2010-10-03</th>\n",
       "      <td>30.52764</td>\n",
       "      <td>-0.47156</td>\n",
       "    </tr>\n",
       "    <tr>\n",
       "      <th>2010-10-10</th>\n",
       "      <td>30.07338</td>\n",
       "      <td>-0.45426</td>\n",
       "    </tr>\n",
       "  </tbody>\n",
       "</table>\n",
       "</div>"
      ],
      "text/plain": [
       "                curs  diff_rub_doll\n",
       "data                               \n",
       "2010-09-12  30.79402        0.00000\n",
       "2010-09-19  30.84672        0.05270\n",
       "2010-09-26  30.99920        0.15248\n",
       "2010-10-03  30.52764       -0.47156\n",
       "2010-10-10  30.07338       -0.45426"
      ]
     },
     "execution_count": 13,
     "metadata": {},
     "output_type": "execute_result"
    }
   ],
   "source": [
    "rub_doll_w.head()"
   ]
  },
  {
   "cell_type": "code",
   "execution_count": 14,
   "metadata": {},
   "outputs": [
    {
     "data": {
      "text/html": [
       "<div>\n",
       "<style scoped>\n",
       "    .dataframe tbody tr th:only-of-type {\n",
       "        vertical-align: middle;\n",
       "    }\n",
       "\n",
       "    .dataframe tbody tr th {\n",
       "        vertical-align: top;\n",
       "    }\n",
       "\n",
       "    .dataframe thead th {\n",
       "        text-align: right;\n",
       "    }\n",
       "</style>\n",
       "<table border=\"1\" class=\"dataframe\">\n",
       "  <thead>\n",
       "    <tr style=\"text-align: right;\">\n",
       "      <th></th>\n",
       "      <th>curs</th>\n",
       "      <th>diff_rub_e</th>\n",
       "    </tr>\n",
       "    <tr>\n",
       "      <th>data</th>\n",
       "      <th></th>\n",
       "      <th></th>\n",
       "    </tr>\n",
       "  </thead>\n",
       "  <tbody>\n",
       "    <tr>\n",
       "      <th>2010-09-12</th>\n",
       "      <td>39.29336</td>\n",
       "      <td>0.00000</td>\n",
       "    </tr>\n",
       "    <tr>\n",
       "      <th>2010-09-19</th>\n",
       "      <td>39.97774</td>\n",
       "      <td>0.68438</td>\n",
       "    </tr>\n",
       "    <tr>\n",
       "      <th>2010-09-26</th>\n",
       "      <td>41.04264</td>\n",
       "      <td>1.06490</td>\n",
       "    </tr>\n",
       "    <tr>\n",
       "      <th>2010-10-03</th>\n",
       "      <td>41.35166</td>\n",
       "      <td>0.30902</td>\n",
       "    </tr>\n",
       "    <tr>\n",
       "      <th>2010-10-10</th>\n",
       "      <td>41.62402</td>\n",
       "      <td>0.27236</td>\n",
       "    </tr>\n",
       "  </tbody>\n",
       "</table>\n",
       "</div>"
      ],
      "text/plain": [
       "                curs  diff_rub_e\n",
       "data                            \n",
       "2010-09-12  39.29336     0.00000\n",
       "2010-09-19  39.97774     0.68438\n",
       "2010-09-26  41.04264     1.06490\n",
       "2010-10-03  41.35166     0.30902\n",
       "2010-10-10  41.62402     0.27236"
      ]
     },
     "execution_count": 14,
     "metadata": {},
     "output_type": "execute_result"
    }
   ],
   "source": [
    "rub_e_w.head()"
   ]
  },
  {
   "cell_type": "code",
   "execution_count": 15,
   "metadata": {},
   "outputs": [
    {
     "data": {
      "text/plain": [
       "DatetimeIndex(['2011-01-09', '2011-01-16', '2012-01-08', '2012-01-15',\n",
       "               '2013-01-06', '2013-01-13', '2015-01-11', '2015-01-18',\n",
       "               '2016-01-10', '2016-01-17', '2017-01-08', '2017-01-15',\n",
       "               '2018-01-07', '2018-01-14', '2019-01-06', '2019-01-13'],\n",
       "              dtype='datetime64[ns]', name='data', freq=None)"
      ]
     },
     "execution_count": 15,
     "metadata": {},
     "output_type": "execute_result"
    }
   ],
   "source": [
    "rub_doll_w.loc[rub_doll_w.index[np.where(rub_doll_w['diff_rub_doll'].isnull())[0]]]['diff_rub_doll'].index"
   ]
  },
  {
   "cell_type": "code",
   "execution_count": 16,
   "metadata": {},
   "outputs": [
    {
     "data": {
      "text/plain": [
       "DatetimeIndex(['2011-01-09', '2011-01-16', '2012-01-08', '2012-01-15',\n",
       "               '2013-01-06', '2013-01-13', '2015-01-11', '2015-01-18',\n",
       "               '2016-01-10', '2016-01-17', '2017-01-08', '2017-01-15',\n",
       "               '2018-01-07', '2018-01-14', '2019-01-06', '2019-01-13'],\n",
       "              dtype='datetime64[ns]', name='data', freq=None)"
      ]
     },
     "execution_count": 16,
     "metadata": {},
     "output_type": "execute_result"
    }
   ],
   "source": [
    "rub_e_w.loc[rub_e_w.index[np.where(rub_e_w['diff_rub_e'].isnull())[0]]]['diff_rub_e'].index"
   ]
  },
  {
   "cell_type": "markdown",
   "metadata": {},
   "source": [
    "обнуляем пропуски"
   ]
  },
  {
   "cell_type": "code",
   "execution_count": 17,
   "metadata": {},
   "outputs": [],
   "source": [
    "rub_doll_w.loc[rub_doll_w['diff_rub_doll'].isnull(),'diff_rub_doll']=0\n",
    "rub_e_w.loc[rub_e_w['diff_rub_e'].isnull(),'diff_rub_e']=0"
   ]
  },
  {
   "cell_type": "code",
   "execution_count": 18,
   "metadata": {},
   "outputs": [
    {
     "data": {
      "text/html": [
       "<div>\n",
       "<style scoped>\n",
       "    .dataframe tbody tr th:only-of-type {\n",
       "        vertical-align: middle;\n",
       "    }\n",
       "\n",
       "    .dataframe tbody tr th {\n",
       "        vertical-align: top;\n",
       "    }\n",
       "\n",
       "    .dataframe thead th {\n",
       "        text-align: right;\n",
       "    }\n",
       "</style>\n",
       "<table border=\"1\" class=\"dataframe\">\n",
       "  <thead>\n",
       "    <tr style=\"text-align: right;\">\n",
       "      <th></th>\n",
       "      <th>Значение</th>\n",
       "      <th>year</th>\n",
       "      <th>month</th>\n",
       "      <th>dayofmonth</th>\n",
       "      <th>quarter</th>\n",
       "      <th>dayofyear</th>\n",
       "      <th>weekofyear</th>\n",
       "      <th>dayofweek</th>\n",
       "      <th>is_holiday</th>\n",
       "      <th>is_prev_holiday</th>\n",
       "      <th>is_next_holiday</th>\n",
       "      <th>diff1</th>\n",
       "    </tr>\n",
       "    <tr>\n",
       "      <th>Дата</th>\n",
       "      <th></th>\n",
       "      <th></th>\n",
       "      <th></th>\n",
       "      <th></th>\n",
       "      <th></th>\n",
       "      <th></th>\n",
       "      <th></th>\n",
       "      <th></th>\n",
       "      <th></th>\n",
       "      <th></th>\n",
       "      <th></th>\n",
       "      <th></th>\n",
       "    </tr>\n",
       "  </thead>\n",
       "  <tbody>\n",
       "    <tr>\n",
       "      <th>2010-09-05</th>\n",
       "      <td>76.616000</td>\n",
       "      <td>2010.0</td>\n",
       "      <td>9.000000</td>\n",
       "      <td>3.000000</td>\n",
       "      <td>3.000000</td>\n",
       "      <td>246.000000</td>\n",
       "      <td>35.0</td>\n",
       "      <td>4.000000</td>\n",
       "      <td>0.000000</td>\n",
       "      <td>0.2</td>\n",
       "      <td>0.000000</td>\n",
       "      <td>0.000000</td>\n",
       "    </tr>\n",
       "    <tr>\n",
       "      <th>2010-09-12</th>\n",
       "      <td>77.673333</td>\n",
       "      <td>2010.0</td>\n",
       "      <td>9.000000</td>\n",
       "      <td>8.500000</td>\n",
       "      <td>3.000000</td>\n",
       "      <td>251.500000</td>\n",
       "      <td>36.0</td>\n",
       "      <td>2.500000</td>\n",
       "      <td>0.166667</td>\n",
       "      <td>0.0</td>\n",
       "      <td>0.166667</td>\n",
       "      <td>1.057333</td>\n",
       "    </tr>\n",
       "    <tr>\n",
       "      <th>2010-09-19</th>\n",
       "      <td>78.693333</td>\n",
       "      <td>2010.0</td>\n",
       "      <td>9.000000</td>\n",
       "      <td>15.666667</td>\n",
       "      <td>3.000000</td>\n",
       "      <td>258.666667</td>\n",
       "      <td>37.0</td>\n",
       "      <td>2.666667</td>\n",
       "      <td>0.000000</td>\n",
       "      <td>0.0</td>\n",
       "      <td>0.000000</td>\n",
       "      <td>1.020000</td>\n",
       "    </tr>\n",
       "    <tr>\n",
       "      <th>2010-09-26</th>\n",
       "      <td>78.518333</td>\n",
       "      <td>2010.0</td>\n",
       "      <td>9.000000</td>\n",
       "      <td>22.666667</td>\n",
       "      <td>3.000000</td>\n",
       "      <td>265.666667</td>\n",
       "      <td>38.0</td>\n",
       "      <td>2.666667</td>\n",
       "      <td>0.000000</td>\n",
       "      <td>0.0</td>\n",
       "      <td>0.000000</td>\n",
       "      <td>-0.175000</td>\n",
       "    </tr>\n",
       "    <tr>\n",
       "      <th>2010-10-03</th>\n",
       "      <td>81.211667</td>\n",
       "      <td>2010.0</td>\n",
       "      <td>9.333333</td>\n",
       "      <td>19.666667</td>\n",
       "      <td>3.333333</td>\n",
       "      <td>272.666667</td>\n",
       "      <td>39.0</td>\n",
       "      <td>2.666667</td>\n",
       "      <td>0.000000</td>\n",
       "      <td>0.0</td>\n",
       "      <td>0.000000</td>\n",
       "      <td>2.693333</td>\n",
       "    </tr>\n",
       "  </tbody>\n",
       "</table>\n",
       "</div>"
      ],
      "text/plain": [
       "             Значение    year     month  dayofmonth   quarter   dayofyear  \\\n",
       "Дата                                                                        \n",
       "2010-09-05  76.616000  2010.0  9.000000    3.000000  3.000000  246.000000   \n",
       "2010-09-12  77.673333  2010.0  9.000000    8.500000  3.000000  251.500000   \n",
       "2010-09-19  78.693333  2010.0  9.000000   15.666667  3.000000  258.666667   \n",
       "2010-09-26  78.518333  2010.0  9.000000   22.666667  3.000000  265.666667   \n",
       "2010-10-03  81.211667  2010.0  9.333333   19.666667  3.333333  272.666667   \n",
       "\n",
       "            weekofyear  dayofweek  is_holiday  is_prev_holiday  \\\n",
       "Дата                                                             \n",
       "2010-09-05        35.0   4.000000    0.000000              0.2   \n",
       "2010-09-12        36.0   2.500000    0.166667              0.0   \n",
       "2010-09-19        37.0   2.666667    0.000000              0.0   \n",
       "2010-09-26        38.0   2.666667    0.000000              0.0   \n",
       "2010-10-03        39.0   2.666667    0.000000              0.0   \n",
       "\n",
       "            is_next_holiday     diff1  \n",
       "Дата                                   \n",
       "2010-09-05         0.000000  0.000000  \n",
       "2010-09-12         0.166667  1.057333  \n",
       "2010-09-19         0.000000  1.020000  \n",
       "2010-09-26         0.000000 -0.175000  \n",
       "2010-10-03         0.000000  2.693333  "
      ]
     },
     "execution_count": 18,
     "metadata": {},
     "output_type": "execute_result"
    }
   ],
   "source": [
    "data_w.head()"
   ]
  },
  {
   "cell_type": "code",
   "execution_count": 19,
   "metadata": {},
   "outputs": [
    {
     "data": {
      "text/plain": [
       "470"
      ]
     },
     "execution_count": 19,
     "metadata": {},
     "output_type": "execute_result"
    }
   ],
   "source": [
    "data_w.shape[0]"
   ]
  },
  {
   "cell_type": "code",
   "execution_count": 20,
   "metadata": {},
   "outputs": [
    {
     "data": {
      "text/plain": [
       "469"
      ]
     },
     "execution_count": 20,
     "metadata": {},
     "output_type": "execute_result"
    }
   ],
   "source": [
    "rub_doll_w.shape[0]"
   ]
  },
  {
   "cell_type": "code",
   "execution_count": 21,
   "metadata": {},
   "outputs": [
    {
     "data": {
      "text/html": [
       "<div>\n",
       "<style scoped>\n",
       "    .dataframe tbody tr th:only-of-type {\n",
       "        vertical-align: middle;\n",
       "    }\n",
       "\n",
       "    .dataframe tbody tr th {\n",
       "        vertical-align: top;\n",
       "    }\n",
       "\n",
       "    .dataframe thead th {\n",
       "        text-align: right;\n",
       "    }\n",
       "</style>\n",
       "<table border=\"1\" class=\"dataframe\">\n",
       "  <thead>\n",
       "    <tr style=\"text-align: right;\">\n",
       "      <th></th>\n",
       "      <th>Значение</th>\n",
       "      <th>year</th>\n",
       "      <th>month</th>\n",
       "      <th>dayofmonth</th>\n",
       "      <th>quarter</th>\n",
       "      <th>dayofyear</th>\n",
       "      <th>weekofyear</th>\n",
       "      <th>dayofweek</th>\n",
       "      <th>is_holiday</th>\n",
       "      <th>is_prev_holiday</th>\n",
       "      <th>is_next_holiday</th>\n",
       "      <th>diff1</th>\n",
       "      <th>rub_doll_d</th>\n",
       "      <th>rub_e_d</th>\n",
       "    </tr>\n",
       "    <tr>\n",
       "      <th>Дата</th>\n",
       "      <th></th>\n",
       "      <th></th>\n",
       "      <th></th>\n",
       "      <th></th>\n",
       "      <th></th>\n",
       "      <th></th>\n",
       "      <th></th>\n",
       "      <th></th>\n",
       "      <th></th>\n",
       "      <th></th>\n",
       "      <th></th>\n",
       "      <th></th>\n",
       "      <th></th>\n",
       "      <th></th>\n",
       "    </tr>\n",
       "  </thead>\n",
       "  <tbody>\n",
       "    <tr>\n",
       "      <th>2010-09-05</th>\n",
       "      <td>76.616000</td>\n",
       "      <td>2010.0</td>\n",
       "      <td>9.000000</td>\n",
       "      <td>3.000000</td>\n",
       "      <td>3.000000</td>\n",
       "      <td>246.000000</td>\n",
       "      <td>35.0</td>\n",
       "      <td>4.000000</td>\n",
       "      <td>0.000000</td>\n",
       "      <td>0.2</td>\n",
       "      <td>0.000000</td>\n",
       "      <td>0.000000</td>\n",
       "      <td>0.00000</td>\n",
       "      <td>0.00000</td>\n",
       "    </tr>\n",
       "    <tr>\n",
       "      <th>2010-09-12</th>\n",
       "      <td>77.673333</td>\n",
       "      <td>2010.0</td>\n",
       "      <td>9.000000</td>\n",
       "      <td>8.500000</td>\n",
       "      <td>3.000000</td>\n",
       "      <td>251.500000</td>\n",
       "      <td>36.0</td>\n",
       "      <td>2.500000</td>\n",
       "      <td>0.166667</td>\n",
       "      <td>0.0</td>\n",
       "      <td>0.166667</td>\n",
       "      <td>1.057333</td>\n",
       "      <td>0.00000</td>\n",
       "      <td>0.00000</td>\n",
       "    </tr>\n",
       "    <tr>\n",
       "      <th>2010-09-19</th>\n",
       "      <td>78.693333</td>\n",
       "      <td>2010.0</td>\n",
       "      <td>9.000000</td>\n",
       "      <td>15.666667</td>\n",
       "      <td>3.000000</td>\n",
       "      <td>258.666667</td>\n",
       "      <td>37.0</td>\n",
       "      <td>2.666667</td>\n",
       "      <td>0.000000</td>\n",
       "      <td>0.0</td>\n",
       "      <td>0.000000</td>\n",
       "      <td>1.020000</td>\n",
       "      <td>0.05270</td>\n",
       "      <td>0.68438</td>\n",
       "    </tr>\n",
       "    <tr>\n",
       "      <th>2010-09-26</th>\n",
       "      <td>78.518333</td>\n",
       "      <td>2010.0</td>\n",
       "      <td>9.000000</td>\n",
       "      <td>22.666667</td>\n",
       "      <td>3.000000</td>\n",
       "      <td>265.666667</td>\n",
       "      <td>38.0</td>\n",
       "      <td>2.666667</td>\n",
       "      <td>0.000000</td>\n",
       "      <td>0.0</td>\n",
       "      <td>0.000000</td>\n",
       "      <td>-0.175000</td>\n",
       "      <td>0.15248</td>\n",
       "      <td>1.06490</td>\n",
       "    </tr>\n",
       "    <tr>\n",
       "      <th>2010-10-03</th>\n",
       "      <td>81.211667</td>\n",
       "      <td>2010.0</td>\n",
       "      <td>9.333333</td>\n",
       "      <td>19.666667</td>\n",
       "      <td>3.333333</td>\n",
       "      <td>272.666667</td>\n",
       "      <td>39.0</td>\n",
       "      <td>2.666667</td>\n",
       "      <td>0.000000</td>\n",
       "      <td>0.0</td>\n",
       "      <td>0.000000</td>\n",
       "      <td>2.693333</td>\n",
       "      <td>-0.47156</td>\n",
       "      <td>0.30902</td>\n",
       "    </tr>\n",
       "  </tbody>\n",
       "</table>\n",
       "</div>"
      ],
      "text/plain": [
       "             Значение    year     month  dayofmonth   quarter   dayofyear  \\\n",
       "Дата                                                                        \n",
       "2010-09-05  76.616000  2010.0  9.000000    3.000000  3.000000  246.000000   \n",
       "2010-09-12  77.673333  2010.0  9.000000    8.500000  3.000000  251.500000   \n",
       "2010-09-19  78.693333  2010.0  9.000000   15.666667  3.000000  258.666667   \n",
       "2010-09-26  78.518333  2010.0  9.000000   22.666667  3.000000  265.666667   \n",
       "2010-10-03  81.211667  2010.0  9.333333   19.666667  3.333333  272.666667   \n",
       "\n",
       "            weekofyear  dayofweek  is_holiday  is_prev_holiday  \\\n",
       "Дата                                                             \n",
       "2010-09-05        35.0   4.000000    0.000000              0.2   \n",
       "2010-09-12        36.0   2.500000    0.166667              0.0   \n",
       "2010-09-19        37.0   2.666667    0.000000              0.0   \n",
       "2010-09-26        38.0   2.666667    0.000000              0.0   \n",
       "2010-10-03        39.0   2.666667    0.000000              0.0   \n",
       "\n",
       "            is_next_holiday     diff1  rub_doll_d  rub_e_d  \n",
       "Дата                                                        \n",
       "2010-09-05         0.000000  0.000000     0.00000  0.00000  \n",
       "2010-09-12         0.166667  1.057333     0.00000  0.00000  \n",
       "2010-09-19         0.000000  1.020000     0.05270  0.68438  \n",
       "2010-09-26         0.000000 -0.175000     0.15248  1.06490  \n",
       "2010-10-03         0.000000  2.693333    -0.47156  0.30902  "
      ]
     },
     "execution_count": 21,
     "metadata": {},
     "output_type": "execute_result"
    }
   ],
   "source": [
    "data_w['rub_doll_d']=0\n",
    "data_w['rub_doll_d']=data_w['rub_doll_d'].astype('float') \n",
    "data_w['rub_doll_d'].values[1:]=rub_doll_w['diff_rub_doll'].values[:]\n",
    "\n",
    "data_w['rub_e_d']=0\n",
    "data_w['rub_e_d']=data_w['rub_e_d'].astype('float') \n",
    "data_w['rub_e_d'].values[1:]=rub_e_w['diff_rub_e'].values[:]\n",
    "\n",
    "data_w.head()"
   ]
  },
  {
   "cell_type": "markdown",
   "metadata": {},
   "source": [
    "ЗАДАНИЕ 4\n",
    "\n",
    "Постройте модель предсказания 1-й точки от текущей (h=1)."
   ]
  },
  {
   "cell_type": "code",
   "execution_count": 26,
   "metadata": {},
   "outputs": [],
   "source": [
    "# сделаем функцию\n",
    "def split_data( data, split_date ):\n",
    "    return data.loc[data.index.get_level_values('Дата') <= split_date].copy(), \\\n",
    "           data.loc[data.index.get_level_values('Дата') >  split_date].copy()"
   ]
  },
  {
   "cell_type": "code",
   "execution_count": 27,
   "metadata": {},
   "outputs": [
    {
     "data": {
      "image/png": "[encoded data removed]",
      "text/plain": [
       "<Figure size 1080x504 with 1 Axes>"
      ]
     },
     "metadata": {
      "needs_background": "light"
     },
     "output_type": "display_data"
    }
   ],
   "source": [
    "train, test = split_data( data_w, '2018-01-01')\n",
    "\n",
    "plt.figure( figsize=( 15, 7 ))\n",
    "plt.xlabel('Время')\n",
    "plt.ylabel('Цена')\n",
    "plt.plot(train.index.get_level_values('Дата'),train['Значение'], label='train data' )\n",
    "plt.plot(test.index.get_level_values('Дата'),test['Значение'], label='test data')\n",
    "plt.title( 'Тестовые и тренировочные данные' )\n",
    "plt.legend()\n",
    "plt.show()"
   ]
  },
  {
   "cell_type": "code",
   "execution_count": 30,
   "metadata": {},
   "outputs": [],
   "source": [
    "from sklearn.cluster import KMeans, DBSCAN\n",
    "from sklearn.preprocessing import StandardScaler\n",
    "from sklearn.manifold import TSNE \n",
    "import seaborn as sns\n"
   ]
  },
  {
   "cell_type": "code",
   "execution_count": 31,
   "metadata": {},
   "outputs": [
    {
     "data": {
      "text/plain": [
       "(456, 1)"
      ]
     },
     "execution_count": 31,
     "metadata": {},
     "output_type": "execute_result"
    }
   ],
   "source": [
    "scl_target=StandardScaler() \n",
    "p = 13\n",
    "h=1\n",
    "target = data_w['Значение'].values[h+p:].reshape((data_w.shape[0]-h-p,1))\n",
    "y = scl_target.fit_transform(target)\n",
    "y.shape"
   ]
  },
  {
   "cell_type": "code",
   "execution_count": 32,
   "metadata": {},
   "outputs": [
    {
     "data": {
      "text/plain": [
       "(456, 14)"
      ]
     },
     "execution_count": 32,
     "metadata": {},
     "output_type": "execute_result"
    }
   ],
   "source": [
    "#Входные признаки\n",
    "scl_x=StandardScaler() \n",
    "\n",
    "X = data_w.iloc[p:-h,:].values\n",
    "X = scl_x.fit_transform(X.astype('float64'))\n",
    "X.shape"
   ]
  },
  {
   "cell_type": "code",
   "execution_count": 33,
   "metadata": {},
   "outputs": [],
   "source": [
    "X_train =X[:train.shape[0],:]\n",
    "y_train =y[:train.shape[0],0]\n",
    "X_test =X[train.shape[0]:,:]\n",
    "y_test =y[train.shape[0]:,0]"
   ]
  },
  {
   "cell_type": "code",
   "execution_count": 34,
   "metadata": {},
   "outputs": [
    {
     "data": {
      "text/plain": [
       "GradientBoostingRegressor(alpha=0.9, criterion='friedman_mse', init=None,\n",
       "                          learning_rate=0.1, loss='ls', max_depth=5,\n",
       "                          max_features=None, max_leaf_nodes=None,\n",
       "                          min_impurity_decrease=0.0, min_impurity_split=None,\n",
       "                          min_samples_leaf=1, min_samples_split=2,\n",
       "                          min_weight_fraction_leaf=0.0, n_estimators=100,\n",
       "                          n_iter_no_change=None, presort='auto', random_state=0,\n",
       "                          subsample=1.0, tol=0.0001, validation_fraction=0.1,\n",
       "                          verbose=0, warm_start=False)"
      ]
     },
     "execution_count": 34,
     "metadata": {},
     "output_type": "execute_result"
    }
   ],
   "source": [
    "from sklearn.ensemble import GradientBoostingRegressor\n",
    "#Все модели возьмем в варианте параметров по умолчанию, кроме глубины деревьев.\n",
    "model_g = GradientBoostingRegressor(max_depth=5, random_state=0, n_estimators=100)\n",
    "model_g.fit( X_train, y_train ) "
   ]
  },
  {
   "cell_type": "code",
   "execution_count": 35,
   "metadata": {},
   "outputs": [
    {
     "name": "stdout",
     "output_type": "stream",
     "text": [
      "(73, 14)\n"
     ]
    }
   ],
   "source": [
    "print(X_test.shape)\n",
    "y_test_pred_g = model_g.predict(X_test)"
   ]
  },
  {
   "cell_type": "code",
   "execution_count": 36,
   "metadata": {},
   "outputs": [
    {
     "data": {
      "image/png": "[encoded data removed]",
      "text/plain": [
       "<Figure size 1080x504 with 1 Axes>"
      ]
     },
     "metadata": {
      "needs_background": "light"
     },
     "output_type": "display_data"
    }
   ],
   "source": [
    "plt.figure( figsize=( 15, 7 ))\n",
    "\n",
    "\n",
    "plt.xlabel('Время')\n",
    "plt.ylabel('Цена')\n",
    "plt.plot(test.index[h+p:],y_test_pred_g, label='predict GB data' )\n",
    "plt.plot(test.index[h+p:],y_test, label='test data')\n",
    "\n",
    "plt.legend()\n",
    "plt.show()"
   ]
  },
  {
   "cell_type": "code",
   "execution_count": 40,
   "metadata": {},
   "outputs": [],
   "source": [
    "from sklearn.model_selection import RandomizedSearchCV"
   ]
  },
  {
   "cell_type": "code",
   "execution_count": 42,
   "metadata": {},
   "outputs": [
    {
     "name": "stdout",
     "output_type": "stream",
     "text": [
      "Model with rank: 1\n",
      "Mean validation score: 0.723 (std: 0.183)\n",
      "Parameters: {'n_estimators': 100, 'max_depth': 3}\n",
      "\n",
      "Model with rank: 2\n",
      "Mean validation score: 0.716 (std: 0.174)\n",
      "Parameters: {'n_estimators': 300, 'max_depth': 2}\n",
      "\n",
      "Model with rank: 3\n",
      "Mean validation score: 0.716 (std: 0.179)\n",
      "Parameters: {'n_estimators': 200, 'max_depth': 2}\n",
      "\n"
     ]
    }
   ],
   "source": [
    "param_dist = {\"max_depth\": [3, 2,10,14,5], \n",
    "              \"n_estimators\":[100,200,300,400,500, 1000, 1200,1500]}\n",
    "\n",
    "def report(results, n_top=3):\n",
    "    for i in range(1, n_top + 1):\n",
    "        candidates = np.flatnonzero(results['rank_test_score'] == i)\n",
    "        for candidate in candidates:\n",
    "            print(\"Model with rank: {0}\".format(i))\n",
    "            print(\"Mean validation score: {0:.3f} (std: {1:.3f})\".format(\n",
    "                  results['mean_test_score'][candidate],\n",
    "                  results['std_test_score'][candidate]))\n",
    "            print(\"Parameters: {0}\".format(results['params'][candidate]))\n",
    "            print(\"\")\n",
    "\n",
    "#  randomized search\n",
    "n_iter_search = 30\n",
    "\n",
    "model_gr =GradientBoostingRegressor()\n",
    "\n",
    "random_search = RandomizedSearchCV(model_gr, param_distributions=param_dist, n_iter=n_iter_search, cv=5, iid=False)\n",
    "\n",
    "random_search.fit(X_train, y_train)\n",
    "\n",
    "report(random_search.cv_results_)"
   ]
  },
  {
   "cell_type": "code",
   "execution_count": 43,
   "metadata": {},
   "outputs": [
    {
     "data": {
      "text/plain": [
       "GradientBoostingRegressor(alpha=0.9, criterion='friedman_mse', init=None,\n",
       "                          learning_rate=0.1, loss='ls', max_depth=3,\n",
       "                          max_features=None, max_leaf_nodes=None,\n",
       "                          min_impurity_decrease=0.0, min_impurity_split=None,\n",
       "                          min_samples_leaf=1, min_samples_split=2,\n",
       "                          min_weight_fraction_leaf=0.0, n_estimators=100,\n",
       "                          n_iter_no_change=None, presort='auto', random_state=0,\n",
       "                          subsample=1.0, tol=0.0001, validation_fraction=0.1,\n",
       "                          verbose=0, warm_start=False)"
      ]
     },
     "execution_count": 43,
     "metadata": {},
     "output_type": "execute_result"
    }
   ],
   "source": [
    "#100, 3\n",
    "model_g = GradientBoostingRegressor(max_depth=3, random_state=0, n_estimators=100)\n",
    "model_g.fit( X_train, y_train ) "
   ]
  },
  {
   "cell_type": "code",
   "execution_count": 44,
   "metadata": {},
   "outputs": [
    {
     "name": "stdout",
     "output_type": "stream",
     "text": [
      "(73, 14)\n"
     ]
    }
   ],
   "source": [
    "print(X_test.shape)\n",
    "y_test_pred_g = model_g.predict(X_test)"
   ]
  },
  {
   "cell_type": "code",
   "execution_count": 45,
   "metadata": {},
   "outputs": [
    {
     "data": {
      "image/png": "[encoded data removed]",
      "text/plain": [
       "<Figure size 1080x504 with 1 Axes>"
      ]
     },
     "metadata": {
      "needs_background": "light"
     },
     "output_type": "display_data"
    }
   ],
   "source": [
    "plt.figure( figsize=( 15, 7 ))\n",
    "\n",
    "\n",
    "plt.xlabel('Время')\n",
    "plt.ylabel('Цена')\n",
    "plt.plot(test.index[h+p:],y_test_pred_g, label='predict GB data' )\n",
    "plt.plot(test.index[h+p:],y_test, label='test data')\n",
    "\n",
    "plt.legend()\n",
    "plt.show()"
   ]
  },
  {
   "cell_type": "code",
   "execution_count": 46,
   "metadata": {},
   "outputs": [
    {
     "name": "stdout",
     "output_type": "stream",
     "text": [
      "ошибка mse :   0.016149514673631016 \n",
      "ошибка mae  :   0.10394690807378465 \n",
      "оценка R2 :   0.7794442086188085\n"
     ]
    }
   ],
   "source": [
    "from sklearn.metrics import mean_squared_error\n",
    "from sklearn.metrics import mean_absolute_error\n",
    "from sklearn.metrics import r2_score\n",
    "\n",
    "er_s = mean_squared_error(y_true=y_test, y_pred=y_test_pred_g) \n",
    "er_a = mean_absolute_error(y_true=y_test, y_pred=y_test_pred_g) \n",
    "er_r2 = r2_score(y_true=y_test, y_pred=y_test_pred_g)\n",
    "\n",
    "print('ошибка mse :  ', er_s,'\\nошибка mae  :  ', er_a,'\\nоценка R2 :  ', er_r2)"
   ]
  },
  {
   "cell_type": "markdown",
   "metadata": {},
   "source": [
    "ЗАДАНИЕ 5.\n",
    "\n",
    "Сделайте вывод о поведении ошибки предсказания ряда в сравнении с прямым прогнозированием."
   ]
  },
  {
   "cell_type": "markdown",
   "metadata": {},
   "source": [
    "Вывод : модель получилась неплохая, ошибки mse и mae небольшие, не хуже чем прямое прогнозирование на прошлых уроках "
   ]
  },
  {
   "cell_type": "code",
   "execution_count": null,
   "metadata": {},
   "outputs": [],
   "source": []
  }
 ],
 "metadata": {
  "kernelspec": {
   "display_name": "Python 3",
   "language": "python",
   "name": "python3"
  },
  "language_info": {
   "codemirror_mode": {
    "name": "ipython",
    "version": 3
   },
   "file_extension": ".py",
   "mimetype": "text/x-python",
   "name": "python",
   "nbconvert_exporter": "python",
   "pygments_lexer": "ipython3",
   "version": "3.7.4"
  }
 },
 "nbformat": 4,
 "nbformat_minor": 2
}
